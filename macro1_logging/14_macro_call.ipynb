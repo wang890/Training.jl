{
 "cells": [
  {
   "cell_type": "code",
   "execution_count": 1,
   "metadata": {},
   "outputs": [
    {
     "data": {
      "text/plain": [
       "@log3"
      ]
     },
     "metadata": {},
     "output_type": "display_data"
    }
   ],
   "source": [
    "include(\"11_macro_common.jl\")\n",
    "include(\"12_macro.jl\")"
   ]
  },
  {
   "cell_type": "code",
   "execution_count": 2,
   "metadata": {},
   "outputs": [
    {
     "name": "stderr",
     "output_type": "stream",
     "text": [
      "┌ Info: == == == == == == == Hello\n",
      "│   dct = Dict{String, Any}(\"B\" => Dict{String, Any}(\"name\" => \"张三\", \"Age\" => 24), \"A\" => 3)\n",
      "│   arr = [7, 8, 9]\n",
      "└ @ Main e:\\JuliaProjects\\Systemize.jl\\Training3.jl\\macro3_logging\\14_macro_call.ipynb:1\n"
     ]
    }
   ],
   "source": [
    "@log \"Hello\" dct arr\n",
    "# 有module file line信息"
   ]
  },
  {
   "cell_type": "code",
   "execution_count": 3,
   "metadata": {},
   "outputs": [
    {
     "data": {
      "text/plain": [
       "(Main, \"e:\\\\JuliaProjects\\\\Systemize.jl\\\\Training3.jl\\\\macro3_logging\\\\14_macro_call.ipynb\", 1)"
      ]
     },
     "metadata": {},
     "output_type": "display_data"
    }
   ],
   "source": [
    "@sourceinfo"
   ]
  },
  {
   "cell_type": "code",
   "execution_count": 4,
   "metadata": {},
   "outputs": [
    {
     "ename": "UndefVarError",
     "evalue": "UndefVarError: `__module__` not defined",
     "output_type": "error",
     "traceback": [
      "UndefVarError: `__module__` not defined\n",
      "\n",
      "Stacktrace:\n",
      " [1] macro expansion\n",
      "   @ .\\logging.jl:253 [inlined]\n",
      " [2] sourceinfo()\n",
      "   @ Main e:\\JuliaProjects\\Systemize.jl\\Training3.jl\\macro3_logging\\12_macro.jl:8\n",
      " [3] top-level scope\n",
      "   @ e:\\JuliaProjects\\Systemize.jl\\Training3.jl\\macro3_logging\\14_macro_call.ipynb:1"
     ]
    }
   ],
   "source": [
    "sourceinfo()"
   ]
  }
 ],
 "metadata": {
  "kernelspec": {
   "display_name": "Julia 1.10.1",
   "language": "julia",
   "name": "julia-1.10"
  },
  "language_info": {
   "file_extension": ".jl",
   "mimetype": "application/julia",
   "name": "julia",
   "version": "1.10.1"
  }
 },
 "nbformat": 4,
 "nbformat_minor": 2
}
