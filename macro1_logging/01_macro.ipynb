{
 "cells": [
  {
   "cell_type": "code",
   "execution_count": 2,
   "metadata": {},
   "outputs": [],
   "source": [
    "using Logging  # 目前没用上"
   ]
  },
  {
   "cell_type": "code",
   "execution_count": 1,
   "metadata": {},
   "outputs": [
    {
     "data": {
      "text/plain": [
       "3-element Vector{Int64}:\n",
       " 7\n",
       " 8\n",
       " 9"
      ]
     },
     "metadata": {},
     "output_type": "display_data"
    }
   ],
   "source": [
    "strflag = \"== == == Process Start\"\n",
    "\n",
    "dct =Dict(\"A\" => 3, \"B\"=>Dict(\"name\"=>\"张三\", \"Age\"=>24))\n",
    "\n",
    "arr = [7, 8, 9]"
   ]
  },
  {
   "cell_type": "markdown",
   "metadata": {},
   "source": [
    "```julia\n",
    "# 目的是 @info后面的变量 是可变数量的的 tuple 或 array\n",
    "# info信息最后 的 Module，file，line (logmsg_code函数输出的)，改不了，留着也可\n",
    "@info strflag dct arr\n",
    "``` "
   ]
  },
  {
   "cell_type": "code",
   "execution_count": 4,
   "metadata": {},
   "outputs": [
    {
     "name": "stderr",
     "output_type": "stream",
     "text": [
      "┌ Info: Dict{String, Any}(\"B\" => Dict{String, Any}(\"name\" => \"张三\", \"Age\" => 24), \"A\" => 3)\n",
      "│   arr = [7, 8, 9]\n",
      "└ @ Main e:\\JuliaProjects\\Systemize.jl\\Training3.jl\\macro3_logging\\01_macro.ipynb:1\n"
     ]
    }
   ],
   "source": [
    "@info strflag dct arr"
   ]
  },
  {
   "cell_type": "code",
   "execution_count": null,
   "metadata": {},
   "outputs": [],
   "source": [
    "dump(:(@info strflag dct arr))"
   ]
  },
  {
   "cell_type": "code",
   "execution_count": null,
   "metadata": {},
   "outputs": [],
   "source": [
    "dump(:(1+1))"
   ]
  },
  {
   "cell_type": "code",
   "execution_count": null,
   "metadata": {},
   "outputs": [],
   "source": [
    "Expr(:call, :+, 1, 1)"
   ]
  },
  {
   "cell_type": "code",
   "execution_count": null,
   "metadata": {},
   "outputs": [],
   "source": [
    "args = [@info, LineNode]  \n",
    "# 错误：这是赋值语句，相当于是表达式，@info 相当于执行，不是表达式，所以错误"
   ]
  },
  {
   "cell_type": "code",
   "execution_count": null,
   "metadata": {},
   "outputs": [],
   "source": [
    "dump(@info)  # 错误，@info后面缺参数"
   ]
  },
  {
   "cell_type": "code",
   "execution_count": null,
   "metadata": {},
   "outputs": [],
   "source": [
    "macroexpand(@info \"start\") # 错误"
   ]
  },
  {
   "cell_type": "code",
   "execution_count": null,
   "metadata": {},
   "outputs": [],
   "source": [
    "macroexpand(Main, :(@info \"start\")) # 正确"
   ]
  },
  {
   "cell_type": "code",
   "execution_count": null,
   "metadata": {},
   "outputs": [],
   "source": [
    "eval(macroexpand(Main, :(@info \"start\")))"
   ]
  },
  {
   "cell_type": "code",
   "execution_count": null,
   "metadata": {},
   "outputs": [],
   "source": [
    "\n",
    "@macroexpand @info \"start\"   # 正确\n",
    "eval(@macroexpand @info \"start\")"
   ]
  },
  {
   "cell_type": "code",
   "execution_count": null,
   "metadata": {},
   "outputs": [],
   "source": [
    "var\"@info\""
   ]
  },
  {
   "cell_type": "code",
   "execution_count": null,
   "metadata": {},
   "outputs": [],
   "source": [
    "e = :@info  # 有了: 为表达式"
   ]
  },
  {
   "cell_type": "code",
   "execution_count": null,
   "metadata": {},
   "outputs": [],
   "source": [
    "propertynames(e) |> display\n",
    "e.args |>display"
   ]
  },
  {
   "cell_type": "code",
   "execution_count": null,
   "metadata": {},
   "outputs": [],
   "source": [
    "dump(e)"
   ]
  },
  {
   "cell_type": "code",
   "execution_count": null,
   "metadata": {},
   "outputs": [],
   "source": [
    "propertynames(e.args[end]) |> display\n",
    "e.args[end] |> typeof |> display\n",
    "e.args[end].line"
   ]
  },
  {
   "cell_type": "code",
   "execution_count": null,
   "metadata": {},
   "outputs": [],
   "source": [
    ":@info.args[end] "
   ]
  },
  {
   "cell_type": "code",
   "execution_count": null,
   "metadata": {},
   "outputs": [],
   "source": [
    "(:@info).args[end]"
   ]
  },
  {
   "cell_type": "code",
   "execution_count": null,
   "metadata": {},
   "outputs": [],
   "source": [
    "var\"@info\""
   ]
  },
  {
   "cell_type": "code",
   "execution_count": null,
   "metadata": {},
   "outputs": [],
   "source": [
    "dump(var\"@info\")"
   ]
  },
  {
   "cell_type": "code",
   "execution_count": null,
   "metadata": {},
   "outputs": [],
   "source": [
    "Meta.parse(\"@info\") |> display\n",
    "eval(Meta.parse(\"@info\"))  # 错误，@info 后面缺参数"
   ]
  },
  {
   "cell_type": "code",
   "execution_count": null,
   "metadata": {},
   "outputs": [],
   "source": [
    "var\"info\""
   ]
  },
  {
   "cell_type": "code",
   "execution_count": null,
   "metadata": {},
   "outputs": [],
   "source": [
    "str = \"@info\"\n",
    "Meta.parse(\"var$str\")"
   ]
  },
  {
   "cell_type": "code",
   "execution_count": null,
   "metadata": {},
   "outputs": [],
   "source": [
    ":(macro f() end)"
   ]
  },
  {
   "cell_type": "code",
   "execution_count": null,
   "metadata": {},
   "outputs": [],
   "source": [
    "dump(:(macro f() end))"
   ]
  },
  {
   "cell_type": "code",
   "execution_count": null,
   "metadata": {},
   "outputs": [],
   "source": [
    "Symbol(\"var\", \"\\\"@\", \"info\\\"\")"
   ]
  },
  {
   "cell_type": "code",
   "execution_count": null,
   "metadata": {},
   "outputs": [],
   "source": [
    "Symbol(\"var\", \"\\\"@\", \"info\\\"\"))  # 如何动态生成"
   ]
  },
  {
   "cell_type": "code",
   "execution_count": null,
   "metadata": {},
   "outputs": [],
   "source": [
    "Expr(:macro, Expr(:call, Symbol(\"info\")))"
   ]
  },
  {
   "cell_type": "code",
   "execution_count": null,
   "metadata": {},
   "outputs": [],
   "source": [
    ":@info  #这里可以没有括号"
   ]
  },
  {
   "cell_type": "code",
   "execution_count": 2,
   "metadata": {},
   "outputs": [
    {
     "data": {
      "text/plain": [
       "Symbol"
      ]
     },
     "metadata": {},
     "output_type": "display_data"
    },
    {
     "data": {
      "text/plain": [
       "Base.CoreLogging.var\"#@info\""
      ]
     },
     "metadata": {},
     "output_type": "display_data"
    },
    {
     "data": {
      "text/plain": [
       ":(\u001b[90m#= e:\\JuliaProjects\\Training1.jl\\macro\\macro_logging1.ipynb:4 =#\u001b[39m @info)"
      ]
     },
     "metadata": {},
     "output_type": "display_data"
    },
    {
     "name": "stderr",
     "output_type": "stream",
     "text": [
      "┌ Info: End\n",
      "└ @ Main e:\\JuliaProjects\\Training1.jl\\macro\\macro_logging1.ipynb:5\n"
     ]
    }
   ],
   "source": [
    "# 几种形式的区别\n",
    "Symbol(\"@info\") |> typeof |> display # 符号\n",
    "var\"@info\" |> typeof |>display  # 函数，如何动态生成 var\"info\"?\n",
    ":(@info)  |> display # 表达式，因为display 表达式, 得有括号\n",
    "@info \"End\" # 执行宏函数"
   ]
  },
  {
   "cell_type": "code",
   "execution_count": 1,
   "metadata": {},
   "outputs": [
    {
     "name": "stdout",
     "output_type": "stream",
     "text": [
      "Expr\n",
      "  head: Symbol macrocall\n",
      "  args: Array{Any}((5,))\n",
      "    1: Symbol @info\n",
      "    2: LineNumberNode\n",
      "      line: Int64 1\n",
      "      file: Symbol e:\\JuliaProjects\\Training1.jl\\macro\\macro_logging1.ipynb\n",
      "    3: Symbol strflag\n",
      "    4: Symbol dct\n",
      "    5: Symbol arr\n"
     ]
    }
   ],
   "source": [
    "dump(:(@info strflag dct arr))"
   ]
  },
  {
   "cell_type": "code",
   "execution_count": 4,
   "metadata": {},
   "outputs": [
    {
     "data": {
      "text/plain": [
       ":(\u001b[90m#= e:\\JuliaProjects\\Training1.jl\\macro\\macro_logging1.ipynb:5 =#\u001b[39m)"
      ]
     },
     "metadata": {},
     "output_type": "display_data"
    }
   ],
   "source": [
    "# exs = (strflag, dct, arr)\n",
    "exs = (:strflag, :dct, :arr)\n",
    "LineNode = Dict(:line=>1, :file=>\"xfile\")\n",
    "LineNode = Dict(:line=>1, :file=>Symbol(\"E:\\\\xfile\"))\n",
    "LineNode = (:@info).args[end]"
   ]
  },
  {
   "cell_type": "code",
   "execution_count": 6,
   "metadata": {},
   "outputs": [
    {
     "data": {
      "text/plain": [
       "\"@info\""
      ]
     },
     "metadata": {},
     "output_type": "display_data"
    }
   ],
   "source": [
    "macro_str =\"@info\""
   ]
  },
  {
   "cell_type": "code",
   "execution_count": 7,
   "metadata": {},
   "outputs": [
    {
     "data": {
      "text/plain": [
       "5-element Vector{Any}:\n",
       " Symbol(\"@info\")\n",
       " :(\u001b[90m#= e:\\JuliaProjects\\Systemize.jl\\Training3.jl\\7w_json\\logging_macro.ipynb:5 =#\u001b[39m)\n",
       " :strflag\n",
       " :dct\n",
       " :arr"
      ]
     },
     "metadata": {},
     "output_type": "display_data"
    }
   ],
   "source": [
    "args = [Symbol(macro_str), LineNode]\n",
    "push!(args, exs...)\n",
    "\n",
    "args |> display"
   ]
  },
  {
   "cell_type": "code",
   "execution_count": 7,
   "metadata": {},
   "outputs": [
    {
     "name": "stdout",
     "output_type": "stream",
     "text": [
      "Symbol @info\n"
     ]
    }
   ],
   "source": [
    "dump(Symbol(macro_str))"
   ]
  },
  {
   "cell_type": "code",
   "execution_count": 4,
   "metadata": {},
   "outputs": [
    {
     "name": "stderr",
     "output_type": "stream",
     "text": [
      "┌ Info: start\n",
      "│   55 = 55\n",
      "└ @ Main e:\\JuliaProjects\\Systemize.jl\\Training3.jl\\7w_json\\logging_macro.ipynb:1\n"
     ]
    }
   ],
   "source": [
    "@logmsg Logging.Info \"start\" 55"
   ]
  },
  {
   "cell_type": "code",
   "execution_count": 8,
   "metadata": {},
   "outputs": [
    {
     "name": "stdout",
     "output_type": "stream",
     "text": [
      "Expr\n",
      "  head: Symbol macrocall\n",
      "  args: Array{Any}((5,))\n",
      "    1: Symbol @logmsg\n",
      "    2: LineNumberNode\n",
      "      line: Int64 1\n",
      "      file: Symbol e:\\JuliaProjects\\Systemize.jl\\Training3.jl\\7w_json\\logging_macro.ipynb\n",
      "    3: Expr\n",
      "      head: Symbol .\n",
      "      args: Array{Any}((2,))\n",
      "        1: Symbol Logging\n",
      "        2: QuoteNode\n",
      "          value: Symbol Info\n",
      "    4: String \"start\"\n",
      "    5: Int64 55\n"
     ]
    }
   ],
   "source": [
    "dump(:(@logmsg Logging.Info \"start\" 55))"
   ]
  },
  {
   "cell_type": "code",
   "execution_count": 16,
   "metadata": {},
   "outputs": [
    {
     "name": "stderr",
     "output_type": "stream",
     "text": [
      "┌ Info: == == == Process Start\n",
      "│   Dict{String, Any}(\"B\" => Dict{String, Any}(\"name\" => \"张三\", \"Age\" => 24), \"A\" => 3) = Dict{String, Any}(\"B\" => Dict{String, Any}(\"name\" => \"张三\", \"Age\" => 24), \"A\" => 3)\n",
      "│   [7, 8, 9] = [7, 8, 9]\n",
      "└ @ Main e:\\JuliaProjects\\Systemize.jl\\Training3.jl\\7w_json\\logging_macro.ipynb:4\n"
     ]
    }
   ],
   "source": [
    "eval(Expr(:macrocall, Symbol(\"@logmsg\"), LineNode, Logging.Info, strflag, dct, arr))"
   ]
  },
  {
   "cell_type": "code",
   "execution_count": 34,
   "metadata": {},
   "outputs": [
    {
     "name": "stderr",
     "output_type": "stream",
     "text": [
      "┌ Info: start\n",
      "│   strflag = == == == Process Start\n",
      "│   arr = [7, 8, 9]\n",
      "└ @ Main e:\\JuliaProjects\\Systemize.jl\\Training3.jl\\7w_json\\logging_macro.ipynb:1\n"
     ]
    }
   ],
   "source": [
    "@info \"start\" strflag arr"
   ]
  },
  {
   "cell_type": "code",
   "execution_count": 9,
   "metadata": {},
   "outputs": [
    {
     "name": "stderr",
     "output_type": "stream",
     "text": [
      "┌ Info: == == == Process Start\n",
      "│   Dict{String, Any}(\"B\" => Dict{String, Any}(\"name\" => \"张三\", \"Age\" => 24), \"A\" => 3) = Dict{String, Any}(\"B\" => Dict{String, Any}(\"name\" => \"张三\", \"Age\" => 24), \"A\" => 3)\n",
      "│   [7, 8, 9] = [7, 8, 9]\n",
      "└ @ Main e:\\JuliaProjects\\Systemize.jl\\Training3.jl\\7w_json\\logging_macro.ipynb:5\n"
     ]
    }
   ],
   "source": [
    "eval(Expr(:macrocall, Symbol(\"@logmsg\"), LineNode, Logging.Info, strflag, dct, arr))"
   ]
  },
  {
   "cell_type": "code",
   "execution_count": 14,
   "metadata": {},
   "outputs": [
    {
     "name": "stderr",
     "output_type": "stream",
     "text": [
      "┌ Info: == == == Process Start\n",
      "│   dct = Dict{String, Any}(\"B\" => Dict{String, Any}(\"name\" => \"张三\", \"Age\" => 24), \"A\" => 3)\n",
      "│   arr = [7, 8, 9]\n",
      "└ @ Main e:\\JuliaProjects\\Systemize.jl\\Training3.jl\\7w_json\\logging_macro.ipynb:5\n",
      "┌ Info: == == == Process Start\n",
      "│   dct = Dict{String, Any}(\"B\" => Dict{String, Any}(\"name\" => \"张三\", \"Age\" => 24), \"A\" => 3)\n",
      "│   arr = [7, 8, 9]\n",
      "└ @ Main e:\\JuliaProjects\\Systemize.jl\\Training3.jl\\7w_json\\logging_macro.ipynb:5\n",
      "┌ Info: == == == Process Start\n",
      "│   Dict{String, Any}(\"B\" => Dict{String, Any}(\"name\" => \"张三\", \"Age\" => 24), \"A\" => 3) = Dict{String, Any}(\"B\" => Dict{String, Any}(\"name\" => \"张三\", \"Age\" => 24), \"A\" => 3)\n",
      "│   [7, 8, 9] = [7, 8, 9]\n",
      "└ @ Main e:\\JuliaProjects\\Systemize.jl\\Training3.jl\\7w_json\\logging_macro.ipynb:5\n"
     ]
    }
   ],
   "source": [
    "eval(Expr(:macrocall, Symbol(\"@logmsg\"), LineNode, Logging.Debug, :strflag, :dct, :arr))\n",
    "eval(Expr(:macrocall, args...))\n",
    "eval(Expr(:macrocall, Symbol(macro_str), LineNode, :strflag, :dct, :arr))\n",
    "eval(Expr(:macrocall, var\"@info\", LineNode, strflag, dct, arr))\n",
    "# eval(Expr(:macrocall, @info, LineNode, strflag, dct, arr))  # 错误, 错误信息里有 var\"@info\" ,上述是受var\"@info\"启发"
   ]
  },
  {
   "cell_type": "markdown",
   "metadata": {},
   "source": [
    "```julia\n",
    "# 相关源码，在 CoreLogging 模块下\n",
    "macro  info(exs...) logmsg_code((@_sourceinfo)..., :Info,  exs...) end\n",
    "function logmsg_code(_module, file, line, level, message, exs...)\n",
    "\n",
    "macro _sourceinfo()\n",
    "    esc(quote\n",
    "        (__module__,  # 源码里我没看见 __module__, __source__在哪儿计算的\n",
    "         __source__.file === nothing ? \"?\" : String(__source__.file::Symbol),\n",
    "         __source__.line)\n",
    "    end)\n",
    "end\n",
    "```"
   ]
  },
  {
   "cell_type": "code",
   "execution_count": null,
   "metadata": {},
   "outputs": [],
   "source": [
    "Base.CoreLogging.logmsg_code(@__MODULE__, @__FILE__, @__LINE__, :Info, exs...)"
   ]
  },
  {
   "cell_type": "code",
   "execution_count": null,
   "metadata": {},
   "outputs": [],
   "source": [
    "eval(Base.CoreLogging.logmsg_code(@__MODULE__, @__FILE__, @__LINE__, :Info, exs...)) \n",
    "# 只显示了 exs 中的第一个  "
   ]
  },
  {
   "cell_type": "code",
   "execution_count": null,
   "metadata": {},
   "outputs": [],
   "source": [
    "Base.CoreLogging.logmsg_code(\n",
    "  \n",
    "    (Base.CoreLogging.@_sourceinfo())..., \n",
    "\n",
    "    :Info, exs...)     # Error __module__ not defined"
   ]
  },
  {
   "cell_type": "markdown",
   "metadata": {},
   "source": [
    "```julia\n",
    "metaPSE4.jl中的 dct,作为上述参考\n",
    "Dict{Symbol, Any}(\n",
    "\n",
    "    :head => :function,\n",
    "\n",
    "    :args => Dict{Symbol, Any}[ # 以字典t{Symbol, Any}为成员的列表\n",
    "\n",
    "                Dict(:args => [:f, :x], :head => :call), \n",
    "\n",
    "                Dict(\n",
    "                    :head => :block\n",
    "\n",
    "                    :args => Dict{Symbol}[ # 以字典{Symbol}为成员的列表\n",
    "                    \n",
    "                                Dict{Symbol, Dict{Symbol, Any}}(\n",
    "                                    :LINENUMBERNODE => Dict( # LineNode是字典\n",
    "                                        :line => 14, \n",
    "                                        :file => Symbol(\"E:\\\\JuliaProjects\\\\Systemize.jl\\\\Training3.jl\\\\7w_json\\\\metaPSE4.jl\")\n",
    "                                    )\n",
    "                                ), \n",
    "\n",
    "                                Dict{Symbol, Dict{Symbol, Any}}(\n",
    "                                    :LINENUMBERNODE => Dict(\n",
    "                                        :line => 15, \n",
    "                                        :file => Symbol(\"E:\\\\JuliaProjects\\\\Systemize.jl\\\\Training3.jl\\\\7w_json\\\\metaPSE4.jl\")\n",
    "                                    )\n",
    "\n",
    "                                ), \n",
    "\n",
    "                                Dict{Symbol, Any}(:args => Any[:+, :x, 1], :head => :call)\n",
    "                    ]\n",
    "                )\n",
    "    ] \n",
    ")\n",
    "```"
   ]
  }
 ],
 "metadata": {
  "kernelspec": {
   "display_name": "Julia 1.10.1",
   "language": "julia",
   "name": "julia-1.10"
  },
  "language_info": {
   "file_extension": ".jl",
   "mimetype": "application/julia",
   "name": "julia",
   "version": "1.10.1"
  }
 },
 "nbformat": 4,
 "nbformat_minor": 2
}
