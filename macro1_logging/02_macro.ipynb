{
 "cells": [
  {
   "cell_type": "code",
   "execution_count": null,
   "metadata": {},
   "outputs": [],
   "source": [
    "strflag = \"== == == Process Start\"\n",
    "\n",
    "dct =Dict(\"A\" => 3, \"B\"=>Dict(\"name\"=>\"张三\", \"Age\"=>24))\n",
    "\n",
    "arr = [7, 8, 9]\n",
    "\n",
    "exs = (:strflag, :dct, :arr)\n",
    "\n",
    "@info \"Test\""
   ]
  },
  {
   "cell_type": "markdown",
   "metadata": {},
   "source": [
    "```julia\n",
    "# ctr 点击程序中的 @info等几个宏就能到达 如下源码\n",
    "macro _sourceinfo()\n",
    "    esc(quote\n",
    "        (__module__,\n",
    "         __source__.file === nothing ? \"?\" : String(__source__.file::Symbol),\n",
    "         __source__.line)\n",
    "    end)\n",
    "end\n",
    "\n",
    "macro logmsg(level, exs...) logmsg_code((@_sourceinfo)..., esc(level), exs...) end\n",
    "macro debug(exs...) logmsg_code((@_sourceinfo)..., :Debug, exs...) end\n",
    "```"
   ]
  },
  {
   "cell_type": "code",
   "execution_count": 23,
   "metadata": {},
   "outputs": [
    {
     "ename": "UndefVarError",
     "evalue": "UndefVarError: `__module__` not defined",
     "output_type": "error",
     "traceback": [
      "UndefVarError: `__module__` not defined\n",
      "\n",
      "Stacktrace:\n",
      " [1] top-level scope\n",
      "   @ e:\\JuliaProjects\\Systemize.jl\\Training3.jl\\macro3\\macro_logging2.ipynb:5"
     ]
    }
   ],
   "source": [
    "using Logging\n",
    "using Base.CoreLogging\n",
    "  \n",
    "CL = Base.CoreLogging\n",
    "CL.logmsg_code((CL.@_sourceinfo)..., esc(Logging.Info), exs...)"
   ]
  },
  {
   "cell_type": "code",
   "execution_count": null,
   "metadata": {},
   "outputs": [],
   "source": [
    "# google搜索: `__module__` not defined julia\n",
    "# 看到如下 issue\n",
    "# https://github.com/JuliaLang/julia/issues/51602\n",
    "# __module__ not defined in macro defined by a macro #51602\n",
    "macro macrobuilder()\n",
    "    quote\n",
    "        macro $(esc(:foo))()\n",
    "            display(__module__)\n",
    "        end\n",
    "    end\n",
    "end"
   ]
  },
  {
   "cell_type": "code",
   "execution_count": 17,
   "metadata": {},
   "outputs": [
    {
     "data": {
      "text/plain": [
       "@macrobuilder (macro with 1 method)"
      ]
     },
     "metadata": {},
     "output_type": "display_data"
    }
   ],
   "source": [
    "macro macrobuilder()\n",
    "    quote\n",
    "        macro $(esc(:foo))()\n",
    "            display(__module__)\n",
    "            :((; $(esc(:(:a=>1)))))\n",
    "        end\n",
    "    end\n",
    "end"
   ]
  },
  {
   "cell_type": "code",
   "execution_count": 18,
   "metadata": {},
   "outputs": [
    {
     "data": {
      "text/plain": [
       "@foo (macro with 1 method)"
      ]
     },
     "metadata": {},
     "output_type": "display_data"
    }
   ],
   "source": [
    "@macrobuilder"
   ]
  },
  {
   "cell_type": "code",
   "execution_count": 19,
   "metadata": {},
   "outputs": [
    {
     "ename": "LoadError",
     "evalue": "LoadError: UndefVarError: `__module__` not defined\nin expression starting at e:\\JuliaProjects\\Training1.jl\\macro\\macro_logging2.ipynb:1",
     "output_type": "error",
     "traceback": [
      "LoadError: UndefVarError: `__module__` not defined\n",
      "in expression starting at e:\\JuliaProjects\\Training1.jl\\macro\\macro_logging2.ipynb:1\n",
      "\n",
      "Stacktrace:\n",
      "  [1] var\"@foo\"(__source__::LineNumberNode, __module__::Module)\n",
      "    @ Main e:\\JuliaProjects\\Training1.jl\\macro\\macro_logging2.ipynb:4\n",
      "  [2] eval\n",
      "    @ .\\boot.jl:385 [inlined]\n",
      "  [3] include_string(mapexpr::typeof(REPL.softscope), mod::Module, code::String, filename::String)\n",
      "    @ Base .\\loading.jl:2076\n",
      "  [4] #invokelatest#2\n",
      "    @ .\\essentials.jl:892 [inlined]\n",
      "  [5] invokelatest\n",
      "    @ .\\essentials.jl:889 [inlined]\n",
      "  [6] (::VSCodeServer.var\"#216#217\"{VSCodeServer.NotebookRunCellArguments, String})()\n",
      "    @ VSCodeServer c:\\Users\\TCY\\.vscode\\extensions\\julialang.language-julia-1.76.2\\scripts\\packages\\VSCodeServer\\src\\serve_notebook.jl:19\n",
      "  [7] withpath(f::VSCodeServer.var\"#216#217\"{VSCodeServer.NotebookRunCellArguments, String}, path::String)\n",
      "    @ VSCodeServer c:\\Users\\TCY\\.vscode\\extensions\\julialang.language-julia-1.76.2\\scripts\\packages\\VSCodeServer\\src\\repl.jl:274\n",
      "  [8] notebook_runcell_request(conn::VSCodeServer.JSONRPC.JSONRPCEndpoint{Base.PipeEndpoint, Base.PipeEndpoint}, params::VSCodeServer.NotebookRunCellArguments)\n",
      "    @ VSCodeServer c:\\Users\\TCY\\.vscode\\extensions\\julialang.language-julia-1.76.2\\scripts\\packages\\VSCodeServer\\src\\serve_notebook.jl:13\n",
      "  [9] dispatch_msg(x::VSCodeServer.JSONRPC.JSONRPCEndpoint{Base.PipeEndpoint, Base.PipeEndpoint}, dispatcher::VSCodeServer.JSONRPC.MsgDispatcher, msg::Dict{String, Any})\n",
      "    @ VSCodeServer.JSONRPC c:\\Users\\TCY\\.vscode\\extensions\\julialang.language-julia-1.76.2\\scripts\\packages\\JSONRPC\\src\\typed.jl:67\n",
      " [10] serve_notebook(pipename::String, outputchannel_logger::SimpleLogger; crashreporting_pipename::String)\n",
      "    @ VSCodeServer c:\\Users\\TCY\\.vscode\\extensions\\julialang.language-julia-1.76.2\\scripts\\packages\\VSCodeServer\\src\\serve_notebook.jl:139\n",
      " [11] top-level scope\n",
      "    @ c:\\Users\\TCY\\.vscode\\extensions\\julialang.language-julia-1.76.2\\scripts\\notebook\\notebook.jl:35"
     ]
    }
   ],
   "source": [
    "@foo"
   ]
  }
 ],
 "metadata": {
  "kernelspec": {
   "display_name": "Julia 1.10.1",
   "language": "julia",
   "name": "julia-1.10"
  },
  "language_info": {
   "file_extension": ".jl",
   "mimetype": "application/julia",
   "name": "julia",
   "version": "1.10.1"
  }
 },
 "nbformat": 4,
 "nbformat_minor": 2
}
