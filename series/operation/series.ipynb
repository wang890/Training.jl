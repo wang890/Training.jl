{
 "cells": [
  {
   "cell_type": "code",
   "execution_count": 7,
   "metadata": {},
   "outputs": [
    {
     "data": {
      "text/plain": [
       "5-element Vector{Int64}:\n",
       " 1\n",
       " 2\n",
       " 3\n",
       " 5\n",
       " 4"
      ]
     },
     "metadata": {},
     "output_type": "display_data"
    }
   ],
   "source": [
    "v1 = [1,2, 3] \n",
    "set1 = Set([4,5,5])\n",
    "set2 = Set()\n",
    "append!(v1, set1)\n",
    "append!(v1, set2)\n",
    "v1"
   ]
  },
  {
   "cell_type": "code",
   "execution_count": 6,
   "metadata": {},
   "outputs": [
    {
     "data": {
      "text/plain": [
       "Any[]"
      ]
     },
     "metadata": {},
     "output_type": "display_data"
    }
   ],
   "source": [
    "v1 = []\n",
    "v2 = []\n",
    "append!(v1,v2)\n",
    "v1"
   ]
  },
  {
   "cell_type": "code",
   "execution_count": 22,
   "metadata": {},
   "outputs": [
    {
     "data": {
      "text/plain": [
       "1-element Vector{String}:\n",
       " \"\""
      ]
     },
     "metadata": {},
     "output_type": "display_data"
    }
   ],
   "source": [
    "v2 = [\"v < 0 then i = v/((Rs + Rp)/Np)\"]\n",
    "v3 = [\"v > Vocn then i = 0\"]\n",
    "v4 = [\"i = 100\"]\n",
    "v5 = [\"\"]"
   ]
  },
  {
   "cell_type": "code",
   "execution_count": 1,
   "metadata": {},
   "outputs": [
    {
     "data": {
      "text/plain": [
       "1-element Vector{String}:\n",
       " \"\""
      ]
     },
     "metadata": {},
     "output_type": "display_data"
    }
   ],
   "source": [
    "v2 = [[\"v < 0\", \"i = v/((Rs + Rp)/Np)\"]]\n",
    "v3 = [[\"v > Vocn\", \"i = 0\"]]\n",
    "v4 = [[\"i = 100\"]]\n",
    "v5 = [\"\"]"
   ]
  },
  {
   "cell_type": "code",
   "execution_count": 18,
   "metadata": {},
   "outputs": [
    {
     "ename": "MethodError",
     "evalue": "MethodError: no method matching merge(::Vector{String}, ::Vector{String}, ::Vector{String})\n\nClosest candidates are:\n  merge(!Matched::NamedTuple, ::Any)\n   @ Base namedtuple.jl:360\n",
     "output_type": "error",
     "traceback": [
      "MethodError: no method matching merge(::Vector{String}, ::Vector{String}, ::Vector{String})\n",
      "\n",
      "Closest candidates are:\n",
      "  merge(!Matched::NamedTuple, ::Any)\n",
      "   @ Base namedtuple.jl:360\n",
      "\n",
      "\n",
      "Stacktrace:\n",
      " [1] top-level scope\n",
      "   @ e:\\JuliaProjects\\Training.jl\\series\\operation\\series.ipynb:1"
     ]
    }
   ],
   "source": [
    "merge([v2,v3,v4]...)"
   ]
  },
  {
   "cell_type": "code",
   "execution_count": 20,
   "metadata": {},
   "outputs": [
    {
     "ename": "ErrorException",
     "evalue": "syntax: \"...\" expression outside call around e:\\JuliaProjects\\Training.jl\\series\\operation\\series.ipynb:1",
     "output_type": "error",
     "traceback": [
      "syntax: \"...\" expression outside call around e:\\JuliaProjects\\Training.jl\\series\\operation\\series.ipynb:1\n",
      "\n",
      "Stacktrace:\n",
      " [1] top-level scope\n",
      "   @ e:\\JuliaProjects\\Training.jl\\series\\operation\\series.ipynb:1"
     ]
    }
   ],
   "source": [
    "merge(v... for v in [v2, v3, v4])"
   ]
  },
  {
   "cell_type": "code",
   "execution_count": 3,
   "metadata": {},
   "outputs": [],
   "source": [
    "using General.Aux"
   ]
  },
  {
   "cell_type": "code",
   "execution_count": 4,
   "metadata": {},
   "outputs": [
    {
     "name": "stdout",
     "output_type": "stream",
     "text": [
      "\n",
      "r, Vector{Any}\n",
      "  = Any[[\"v < 0\", \"i = v/((Rs + Rp)/Np)\"], [\"v > Vocn\", \"i = 0\"], [\"i = 100\"], \"\"]\n"
     ]
    }
   ],
   "source": [
    "r = reduce(vcat, (v2, v3, v4, v5))\n",
    "@logt r"
   ]
  },
  {
   "cell_type": "code",
   "execution_count": 28,
   "metadata": {},
   "outputs": [
    {
     "data": {
      "text/plain": [
       "3-element Vector{String}:\n",
       " \"v < 0 then i = v/((Rs + Rp)/Np)\"\n",
       " \"v > Vocn then i = 0\"\n",
       " \"i = 100\""
      ]
     },
     "metadata": {},
     "output_type": "display_data"
    }
   ],
   "source": [
    "[v2; v3; v4]"
   ]
  },
  {
   "cell_type": "code",
   "execution_count": 31,
   "metadata": {},
   "outputs": [
    {
     "data": {
      "text/plain": [
       "3-element Vector{String}:\n",
       " \"v < 0 then i = v/((Rs + Rp)/Np)\"\n",
       " \"v > Vocn then i = 0\"\n",
       " \"i = 100\""
      ]
     },
     "metadata": {},
     "output_type": "display_data"
    }
   ],
   "source": [
    "concat = String[]\n",
    "# concat = Vector{String}[]\n",
    "# reduce(append!, (concat, v2,v3,v4), init=Int[])\n",
    "reduce(append!, (concat, v2,v3,v4))"
   ]
  },
  {
   "cell_type": "code",
   "execution_count": null,
   "metadata": {},
   "outputs": [],
   "source": [
    "infos = [[\"v < 0\", \"i = v/((Rs + Rp)/Np)\"], [\"v > Vocn\", \"i = 0\"], [\"i = 100\"], \"\"]\n",
    "\n",
    "infos = [[\"v < 0\", \"i = v/((Rs + Rp)/Np)\"], [\"v > Vocn\", \"i = 0\"], [\"i = -Np*(Ipv - Id - Ir)\"], [\"\"]]\n",
    "\n",
    "infos = [[\"v < 0\", \"i = v/((Rs + Rp)/Np)\"], \"\"]\n",
    "\n",
    "i ~ ifelse(v < 0,\n",
    "    v/((Rs + Rp)/Np), # note2\n",
    "        ifelse(v > Vocn,\n",
    "        0, # note3\n",
    "        -Np*(Ipv - Id - Ir) # note4\n",
    "        )\n",
    "    )"
   ]
  },
  {
   "cell_type": "code",
   "execution_count": 38,
   "metadata": {},
   "outputs": [
    {
     "data": {
      "text/plain": [
       "Dict{Union{SubString{String}, String}, Set{Union{SubString{String}, String}}}()"
      ]
     },
     "metadata": {},
     "output_type": "display_data"
    }
   ],
   "source": [
    "field__prefixes = Dict{\n",
    "        Union{String, SubString{String}}, \n",
    "        Set{Union{String, SubString{String}}}\n",
    "        }()"
   ]
  },
  {
   "cell_type": "code",
   "execution_count": 39,
   "metadata": {},
   "outputs": [
    {
     "data": {
      "text/plain": [
       "Dict{Union{SubString{String}, String}, Set{Union{SubString{String}, String}}} with 2 entries:\n",
       "  \"b\" => Set()\n",
       "  \"a\" => Set([\"input\", \"final\"])"
      ]
     },
     "metadata": {},
     "output_type": "display_data"
    }
   ],
   "source": [
    "field__prefixes[\"a\"] = Set([\"final\", \"input\"])\n",
    "field__prefixes[\"b\"] = Set([])\n",
    "field__prefixes"
   ]
  },
  {
   "cell_type": "code",
   "execution_count": 40,
   "metadata": {},
   "outputs": [
    {
     "ename": "MethodError",
     "evalue": "MethodError: no method matching append!(::Set{Union{SubString{String}, String}}, ::Vector{Union{SubString{String}, String}})\n\nClosest candidates are:\n  append!(!Matched::Plots.Series, ::Any...)\n   @ Plots C:\\Users\\TCY\\.julia\\packages\\Plots\\ju9dp\\src\\utils.jl:732\n  append!(!Matched::BitVector, ::Any)\n   @ Base bitarray.jl:786\n  append!(!Matched::Vector, ::AbstractVector)\n   @ Base array.jl:1179\n  ...\n",
     "output_type": "error",
     "traceback": [
      "MethodError: no method matching append!(::Set{Union{SubString{String}, String}}, ::Vector{Union{SubString{String}, String}})\n",
      "\n",
      "Closest candidates are:\n",
      "  append!(!Matched::Plots.Series, ::Any...)\n",
      "   @ Plots C:\\Users\\TCY\\.julia\\packages\\Plots\\ju9dp\\src\\utils.jl:732\n",
      "  append!(!Matched::BitVector, ::Any)\n",
      "   @ Base bitarray.jl:786\n",
      "  append!(!Matched::Vector, ::AbstractVector)\n",
      "   @ Base array.jl:1179\n",
      "  ...\n",
      "\n",
      "\n",
      "Stacktrace:\n",
      " [1] top-level scope\n",
      "   @ e:\\JuliaProjects\\Training.jl\\series\\operation\\series.ipynb:1"
     ]
    }
   ],
   "source": [
    "append!(field__prefixes[\"a\"], Union{SubString{String}, String}[\"final\", \"input2\"])\n",
    "field__prefixes"
   ]
  },
  {
   "cell_type": "code",
   "execution_count": 42,
   "metadata": {},
   "outputs": [
    {
     "data": {
      "text/plain": [
       "Dict{Union{SubString{String}, String}, Set{Union{SubString{String}, String}}} with 2 entries:\n",
       "  \"b\" => Set()\n",
       "  \"a\" => Set([\"input\", \"final\", \"input2\"])"
      ]
     },
     "metadata": {},
     "output_type": "display_data"
    }
   ],
   "source": [
    "union!(field__prefixes[\"a\"], [\"final\", \"input2\"])\n",
    "field__prefixes"
   ]
  },
  {
   "cell_type": "code",
   "execution_count": 1,
   "metadata": {},
   "outputs": [
    {
     "data": {
      "text/plain": [
       "Dict{Int64, Vector{String}} with 3 entries:\n",
       "  2 => [\"AA\", \"BB\"]\n",
       "  3 => [\"c\", \"d\"]\n",
       "  1 => [\"a\", \"b\"]"
      ]
     },
     "metadata": {},
     "output_type": "display_data"
    }
   ],
   "source": [
    "dct1 = Dict(1=>[\"a\", \"b\"], 2=>[\"A\", \"B\"])\n",
    "dct2 = Dict(3=>[\"c\", \"d\"], 2=>[\"AA\", \"BB\"])\n",
    "if length(dct2) != 0\n",
    "    merge!(dct1, dct2)\n",
    "end\n",
    "dct1"
   ]
  }
 ],
 "metadata": {
  "kernelspec": {
   "display_name": "Julia 1.10.1",
   "language": "julia",
   "name": "julia-1.10"
  },
  "language_info": {
   "file_extension": ".jl",
   "mimetype": "application/julia",
   "name": "julia",
   "version": "1.10.1"
  }
 },
 "nbformat": 4,
 "nbformat_minor": 2
}
