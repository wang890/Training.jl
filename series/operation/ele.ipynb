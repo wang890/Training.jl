{
 "cells": [
  {
   "cell_type": "code",
   "execution_count": 4,
   "metadata": {},
   "outputs": [
    {
     "ename": "MethodError",
     "evalue": "MethodError: Cannot `convert` an object of type Vector{Int64} to an object of type Int64\n\nClosest candidates are:\n  convert(::Type{T}, !Matched::T) where T<:Number\n   @ Base number.jl:6\n  convert(::Type{T}, !Matched::T) where T\n   @ Base Base.jl:84\n  convert(::Type{T}, !Matched::AbstractChar) where T<:Number\n   @ Base char.jl:185\n  ...\n",
     "output_type": "error",
     "traceback": [
      "MethodError: Cannot `convert` an object of type Vector{Int64} to an object of type Int64\n",
      "\n",
      "Closest candidates are:\n",
      "  convert(::Type{T}, !Matched::T) where T<:Number\n",
      "   @ Base number.jl:6\n",
      "  convert(::Type{T}, !Matched::T) where T\n",
      "   @ Base Base.jl:84\n",
      "  convert(::Type{T}, !Matched::AbstractChar) where T<:Number\n",
      "   @ Base char.jl:185\n",
      "  ...\n",
      "\n",
      "\n",
      "Stacktrace:\n",
      " [1] push!(a::Vector{Int64}, item::Vector{Int64})\n",
      "   @ Base .\\array.jl:1118\n",
      " [2] top-level scope\n",
      "   @ e:\\JuliaProjects\\Training.jl\\series\\operation\\ele.ipynb:2"
     ]
    }
   ],
   "source": [
    "v1= [1,2,3]\n",
    "push!(v1, [4,5])\n"
   ]
  },
  {
   "cell_type": "code",
   "execution_count": 5,
   "metadata": {},
   "outputs": [
    {
     "data": {
      "text/plain": [
       "2-element Vector{Vector{Int64}}:\n",
       " [1, 2]\n",
       " [4, 5]"
      ]
     },
     "metadata": {},
     "output_type": "display_data"
    }
   ],
   "source": [
    "v1= [[1,2]]\n",
    "push!(v1, [4,5])\n",
    "v1"
   ]
  },
  {
   "cell_type": "code",
   "execution_count": 6,
   "metadata": {},
   "outputs": [
    {
     "ename": "MethodError",
     "evalue": "MethodError: Cannot `convert` an object of type Int64 to an object of type Vector{Int64}\n\nClosest candidates are:\n  convert(::Type{T}, !Matched::AbstractArray) where T<:Array\n   @ Base array.jl:665\n  convert(::Type{T}, !Matched::T) where T\n   @ Base Base.jl:84\n  convert(::Type{T}, !Matched::T) where T<:AbstractArray\n   @ Base abstractarray.jl:16\n  ...\n",
     "output_type": "error",
     "traceback": [
      "MethodError: Cannot `convert` an object of type Int64 to an object of type Vector{Int64}\n",
      "\n",
      "Closest candidates are:\n",
      "  convert(::Type{T}, !Matched::AbstractArray) where T<:Array\n",
      "   @ Base array.jl:665\n",
      "  convert(::Type{T}, !Matched::T) where T\n",
      "   @ Base Base.jl:84\n",
      "  convert(::Type{T}, !Matched::T) where T<:AbstractArray\n",
      "   @ Base abstractarray.jl:16\n",
      "  ...\n",
      "\n",
      "\n",
      "Stacktrace:\n",
      " [1] setindex!(A::Vector{Vector{Int64}}, x::Int64, i1::Int64)\n",
      "   @ Base .\\array.jl:1021\n",
      " [2] _unsafe_copyto!(dest::Vector{Vector{Int64}}, doffs::Int64, src::Vector{Int64}, soffs::Int64, n::Int64)\n",
      "   @ Base .\\array.jl:299\n",
      " [3] unsafe_copyto!\n",
      "   @ .\\array.jl:353 [inlined]\n",
      " [4] _copyto_impl!\n",
      "   @ .\\array.jl:376 [inlined]\n",
      " [5] copyto!\n",
      "   @ .\\array.jl:363 [inlined]\n",
      " [6] append!(a::Vector{Vector{Int64}}, items::Vector{Int64})\n",
      "   @ Base .\\array.jl:1183\n",
      " [7] top-level scope\n",
      "   @ e:\\JuliaProjects\\Training.jl\\series\\operation\\ele.ipynb:2"
     ]
    }
   ],
   "source": [
    "v1= [[1,2]]\n",
    "append!(v1, [4,5])\n",
    "v1"
   ]
  },
  {
   "cell_type": "code",
   "execution_count": 7,
   "metadata": {},
   "outputs": [
    {
     "data": {
      "text/plain": [
       "4-element Vector{Any}:\n",
       " 1\n",
       " 2\n",
       " 3\n",
       "  [4, 5]"
      ]
     },
     "metadata": {},
     "output_type": "display_data"
    }
   ],
   "source": [
    "v1= Any[1,2,3]\n",
    "push!(v1, [4,5])\n",
    "v1"
   ]
  },
  {
   "cell_type": "code",
   "execution_count": 11,
   "metadata": {},
   "outputs": [
    {
     "data": {
      "text/plain": [
       "5-element Vector{Int64}:\n",
       " 1\n",
       " 2\n",
       " 3\n",
       " 4\n",
       " 5"
      ]
     },
     "metadata": {},
     "output_type": "display_data"
    }
   ],
   "source": [
    "v1= [1,2,3]\n",
    "append!(v1, [4,5])\n",
    "v1"
   ]
  },
  {
   "cell_type": "code",
   "execution_count": 41,
   "metadata": {},
   "outputs": [
    {
     "data": {
      "text/plain": [
       "2-element Vector{Any}:\n",
       "  [1, 2]\n",
       " 3"
      ]
     },
     "metadata": {},
     "output_type": "display_data"
    }
   ],
   "source": [
    "v1 = []\n",
    "push!(v1, [1,2])\n",
    "push!(v1, 3)\n",
    "v1"
   ]
  },
  {
   "cell_type": "code",
   "execution_count": null,
   "metadata": {},
   "outputs": [
    {
     "data": {
      "text/plain": [
       "2-element Vector{Vector{Int64}}:\n",
       " [1, 2]\n",
       " [3, 4, 5]"
      ]
     },
     "metadata": {},
     "output_type": "display_data"
    }
   ],
   "source": [
    "v1 = Vector{Int}[]\n",
    "push!(v1, [1,2])\n",
    "push!(v1, [3,4,5])\n",
    "v1"
   ]
  },
  {
   "cell_type": "code",
   "execution_count": 24,
   "metadata": {},
   "outputs": [],
   "source": [
    "using General.Aux"
   ]
  },
  {
   "cell_type": "code",
   "execution_count": 31,
   "metadata": {},
   "outputs": [
    {
     "data": {
      "text/plain": [
       "3"
      ]
     },
     "metadata": {},
     "output_type": "display_data"
    }
   ],
   "source": [
    "v1= [1,2,3]\n",
    "pop!(v1)"
   ]
  },
  {
   "cell_type": "code",
   "execution_count": 32,
   "metadata": {},
   "outputs": [
    {
     "name": "stdout",
     "output_type": "stream",
     "text": [
      "\n",
      "v1, Vector{Int64}\n",
      "  = [1, 2, 3, 5]\n",
      "\n",
      "v2, Vector{Int64}\n",
      "  = [1, 2, 3, 5]\n"
     ]
    }
   ],
   "source": [
    "v1= [1,2,3]\n",
    "v2 = v1\n",
    "push!(v2, 5)\n",
    "@logt v1 v2"
   ]
  },
  {
   "cell_type": "code",
   "execution_count": 38,
   "metadata": {},
   "outputs": [
    {
     "name": "stdout",
     "output_type": "stream",
     "text": [
      "\n",
      "v1, Vector{Int64}\n",
      "  = [1, 2]\n",
      "\n",
      "v2, Vector{Int64}\n",
      "  = [1, 2]\n"
     ]
    }
   ],
   "source": [
    "v1= [1,2,3]\n",
    "v2 = v1\n",
    "pop!(v2)\n",
    "@logt v1 v2"
   ]
  },
  {
   "cell_type": "code",
   "execution_count": 39,
   "metadata": {},
   "outputs": [
    {
     "data": {
      "text/plain": [
       "1"
      ]
     },
     "metadata": {},
     "output_type": "display_data"
    }
   ],
   "source": [
    "v1 = [1, 2, 3]\n",
    "popfirst!(v1)"
   ]
  },
  {
   "cell_type": "code",
   "execution_count": 40,
   "metadata": {},
   "outputs": [
    {
     "name": "stdout",
     "output_type": "stream",
     "text": [
      "\n",
      "v1, Vector{Int64}\n",
      "  = [2, 3]\n"
     ]
    }
   ],
   "source": [
    "@logt v1"
   ]
  },
  {
   "cell_type": "code",
   "execution_count": 56,
   "metadata": {},
   "outputs": [
    {
     "data": {
      "text/plain": [
       "Dict{Union{SubString{String}, String}, Set{Union{SubString{String}, String}}}()"
      ]
     },
     "metadata": {},
     "output_type": "display_data"
    }
   ],
   "source": [
    "field__prefixes = Dict{\n",
    "        Union{String, SubString{String}}, \n",
    "        Set{Union{String, SubString{String}}}\n",
    "        }()"
   ]
  },
  {
   "cell_type": "code",
   "execution_count": 57,
   "metadata": {},
   "outputs": [
    {
     "data": {
      "text/plain": [
       "Dict{Union{SubString{String}, String}, Set{Union{SubString{String}, String}}} with 2 entries:\n",
       "  \"b\" => Set()\n",
       "  \"a\" => Set([\"input\", \"final\"])"
      ]
     },
     "metadata": {},
     "output_type": "display_data"
    }
   ],
   "source": [
    "field__prefixes[\"a\"] = Set([\"final\", \"input\"])\n",
    "field__prefixes[\"b\"] = Set([])\n",
    "field__prefixes"
   ]
  },
  {
   "cell_type": "code",
   "execution_count": 59,
   "metadata": {},
   "outputs": [
    {
     "ename": "MethodError",
     "evalue": "MethodError: Cannot `convert` an object of type \n  Vector{String} to an object of type \n  Union{SubString{String}, String}\n\nClosest candidates are:\n  convert(::Type{Union{SubString{String}, String}}, !Matched::SubString{String})\n   @ Base strings\\substring.jl:63\n  convert(::Type{Union{SubString{String}, String}}, !Matched::String)\n   @ Base strings\\substring.jl:62\n  convert(::Type{Union{SubString{String}, String}}, !Matched::AbstractString)\n   @ Base strings\\substring.jl:64\n  ...\n",
     "output_type": "error",
     "traceback": [
      "MethodError: Cannot `convert` an object of type \n",
      "  Vector{String} to an object of type \n",
      "  Union{SubString{String}, String}\n",
      "\n",
      "Closest candidates are:\n",
      "  convert(::Type{Union{SubString{String}, String}}, !Matched::SubString{String})\n",
      "   @ Base strings\\substring.jl:63\n",
      "  convert(::Type{Union{SubString{String}, String}}, !Matched::String)\n",
      "   @ Base strings\\substring.jl:62\n",
      "  convert(::Type{Union{SubString{String}, String}}, !Matched::AbstractString)\n",
      "   @ Base strings\\substring.jl:64\n",
      "  ...\n",
      "\n",
      "\n",
      "Stacktrace:\n",
      " [1] setindex!(h::Dict{Union{SubString{String}, String}, Nothing}, v0::Nothing, key0::Vector{String})\n",
      "   @ Base .\\dict.jl:367\n",
      " [2] push!(s::Set{Union{SubString{String}, String}}, x::Vector{String})\n",
      "   @ Base .\\set.jl:103\n",
      " [3] top-level scope\n",
      "   @ e:\\JuliaProjects\\Training.jl\\series\\operation\\ele.ipynb:1"
     ]
    }
   ],
   "source": [
    "push!(field__prefixes[\"a\"], [\"final\", \"input2\"])\n",
    "field__prefixes"
   ]
  },
  {
   "cell_type": "code",
   "execution_count": 60,
   "metadata": {},
   "outputs": [
    {
     "ename": "MethodError",
     "evalue": "MethodError: no method matching append!(::Set{Union{SubString{String}, String}}, ::Vector{Union{SubString{String}, String}})\n\nClosest candidates are:\n  append!(!Matched::Plots.Series, ::Any...)\n   @ Plots C:\\Users\\TCY\\.julia\\packages\\Plots\\ju9dp\\src\\utils.jl:732\n  append!(!Matched::BitVector, ::Any)\n   @ Base bitarray.jl:786\n  append!(!Matched::Vector, ::AbstractVector)\n   @ Base array.jl:1179\n  ...\n",
     "output_type": "error",
     "traceback": [
      "MethodError: no method matching append!(::Set{Union{SubString{String}, String}}, ::Vector{Union{SubString{String}, String}})\n",
      "\n",
      "Closest candidates are:\n",
      "  append!(!Matched::Plots.Series, ::Any...)\n",
      "   @ Plots C:\\Users\\TCY\\.julia\\packages\\Plots\\ju9dp\\src\\utils.jl:732\n",
      "  append!(!Matched::BitVector, ::Any)\n",
      "   @ Base bitarray.jl:786\n",
      "  append!(!Matched::Vector, ::AbstractVector)\n",
      "   @ Base array.jl:1179\n",
      "  ...\n",
      "\n",
      "\n",
      "Stacktrace:\n",
      " [1] top-level scope\n",
      "   @ e:\\JuliaProjects\\Training.jl\\series\\operation\\ele.ipynb:1"
     ]
    }
   ],
   "source": [
    "append!(field__prefixes[\"a\"], Union{SubString{String}, String}[\"final\", \"input2\"])\n",
    "field__prefixes"
   ]
  },
  {
   "cell_type": "code",
   "execution_count": 61,
   "metadata": {},
   "outputs": [
    {
     "data": {
      "text/plain": [
       "Dict{Any, Set{Any}} with 2 entries:\n",
       "  \"b\" => Set()\n",
       "  \"a\" => Set([\"input\", \"final\"])"
      ]
     },
     "metadata": {},
     "output_type": "display_data"
    }
   ],
   "source": [
    "field__prefixes = Dict{Any, Set{Any}}()\n",
    "field__prefixes[\"a\"] = Set([\"final\", \"input\"])\n",
    "field__prefixes[\"b\"] = Set([])\n",
    "field__prefixes"
   ]
  },
  {
   "cell_type": "code",
   "execution_count": 62,
   "metadata": {},
   "outputs": [
    {
     "data": {
      "text/plain": [
       "Dict{Any, Set{Any}} with 2 entries:\n",
       "  \"b\" => Set()\n",
       "  \"a\" => Set([[\"final\", \"input2\"], \"input\", \"final\"])"
      ]
     },
     "metadata": {},
     "output_type": "display_data"
    }
   ],
   "source": [
    "push!(field__prefixes[\"a\"], [\"final\", \"input2\"])\n",
    "field__prefixes"
   ]
  },
  {
   "cell_type": "code",
   "execution_count": 63,
   "metadata": {},
   "outputs": [
    {
     "ename": "MethodError",
     "evalue": "MethodError: no method matching append!(::Set{Any}, ::Vector{String})\n\nClosest candidates are:\n  append!(!Matched::Plots.Series, ::Any...)\n   @ Plots C:\\Users\\TCY\\.julia\\packages\\Plots\\ju9dp\\src\\utils.jl:732\n  append!(!Matched::BitVector, ::Any)\n   @ Base bitarray.jl:786\n  append!(!Matched::Vector, ::AbstractVector)\n   @ Base array.jl:1179\n  ...\n",
     "output_type": "error",
     "traceback": [
      "MethodError: no method matching append!(::Set{Any}, ::Vector{String})\n",
      "\n",
      "Closest candidates are:\n",
      "  append!(!Matched::Plots.Series, ::Any...)\n",
      "   @ Plots C:\\Users\\TCY\\.julia\\packages\\Plots\\ju9dp\\src\\utils.jl:732\n",
      "  append!(!Matched::BitVector, ::Any)\n",
      "   @ Base bitarray.jl:786\n",
      "  append!(!Matched::Vector, ::AbstractVector)\n",
      "   @ Base array.jl:1179\n",
      "  ...\n",
      "\n",
      "\n",
      "Stacktrace:\n",
      " [1] top-level scope\n",
      "   @ e:\\JuliaProjects\\Training.jl\\series\\operation\\ele.ipynb:1"
     ]
    }
   ],
   "source": [
    "append!(field__prefixes[\"a\"], [\"final\", \"input2\"])\n",
    "field__prefixes"
   ]
  },
  {
   "cell_type": "code",
   "execution_count": 1,
   "metadata": {},
   "outputs": [
    {
     "data": {
      "text/plain": [
       "Set{String} with 2 elements:\n",
       "  \"b\"\n",
       "  \"a\""
      ]
     },
     "metadata": {},
     "output_type": "display_data"
    }
   ],
   "source": [
    "set1 = Set{String}([\"a\"])\n",
    "push!(set1, \"a\")\n",
    "push!(set1, \"b\")\n",
    "set1"
   ]
  }
 ],
 "metadata": {
  "kernelspec": {
   "display_name": "Julia 1.10.1",
   "language": "julia",
   "name": "julia-1.10"
  },
  "language_info": {
   "file_extension": ".jl",
   "mimetype": "application/julia",
   "name": "julia",
   "version": "1.10.1"
  }
 },
 "nbformat": 4,
 "nbformat_minor": 2
}
