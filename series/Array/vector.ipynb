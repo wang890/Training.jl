{
 "cells": [
  {
   "cell_type": "code",
   "execution_count": 5,
   "metadata": {},
   "outputs": [
    {
     "data": {
      "text/plain": [
       "1-element Vector{Int64}:\n",
       " 1"
      ]
     },
     "metadata": {},
     "output_type": "display_data"
    }
   ],
   "source": [
    "[1]"
   ]
  },
  {
   "cell_type": "code",
   "execution_count": 4,
   "metadata": {},
   "outputs": [
    {
     "data": {
      "text/plain": [
       "2-element Vector{Vector{Int64}}:\n",
       " [1, 2]\n",
       " [3, 4, 5]"
      ]
     },
     "metadata": {},
     "output_type": "display_data"
    }
   ],
   "source": [
    "v1 = Vector{Int}[]\n",
    "push!(v1, [1,2])\n",
    "push!(v1, [3,4,5])\n",
    "v1"
   ]
  },
  {
   "cell_type": "code",
   "execution_count": 7,
   "metadata": {},
   "outputs": [
    {
     "data": {
      "text/plain": [
       "1-element Vector{String}:\n",
       " \"\""
      ]
     },
     "metadata": {},
     "output_type": "display_data"
    }
   ],
   "source": [
    "v2 = [[\"v < 0\", \"i = v/((Rs + Rp)/Np)\"]]\n",
    "v3 = [[\"v > Vocn\", \"i = 0\"]]\n",
    "v4 = [[\"i = 100\"]]\n",
    "v5 = [\"\"]"
   ]
  },
  {
   "cell_type": "code",
   "execution_count": 16,
   "metadata": {},
   "outputs": [
    {
     "ename": "MethodError",
     "evalue": "MethodError: no method matching merge(::Vector{Vector{String}}, ::Vector{Vector{String}}, ::Vector{Vector{String}})\n\nClosest candidates are:\n  merge(!Matched::NamedTuple, ::Any)\n   @ Base namedtuple.jl:360\n",
     "output_type": "error",
     "traceback": [
      "MethodError: no method matching merge(::Vector{Vector{String}}, ::Vector{Vector{String}}, ::Vector{Vector{String}})\n",
      "\n",
      "Closest candidates are:\n",
      "  merge(!Matched::NamedTuple, ::Any)\n",
      "   @ Base namedtuple.jl:360\n",
      "\n",
      "\n",
      "Stacktrace:\n",
      " [1] top-level scope\n",
      "   @ e:\\JuliaProjects\\Training.jl\\series\\Array\\vector.ipynb:1"
     ]
    }
   ],
   "source": [
    "merge([v2,v3,v4]...)"
   ]
  },
  {
   "cell_type": "code",
   "execution_count": 23,
   "metadata": {},
   "outputs": [
    {
     "ename": "ErrorException",
     "evalue": "syntax: \"...\" expression outside call around e:\\JuliaProjects\\Training.jl\\series\\Array\\vector.ipynb:1",
     "output_type": "error",
     "traceback": [
      "syntax: \"...\" expression outside call around e:\\JuliaProjects\\Training.jl\\series\\Array\\vector.ipynb:1\n",
      "\n",
      "Stacktrace:\n",
      " [1] top-level scope\n",
      "   @ e:\\JuliaProjects\\Training.jl\\series\\Array\\vector.ipynb:1"
     ]
    }
   ],
   "source": [
    "merge(v... for v in [v2, v3, v4])"
   ]
  },
  {
   "cell_type": "code",
   "execution_count": 33,
   "metadata": {},
   "outputs": [
    {
     "name": "stdout",
     "output_type": "stream",
     "text": [
      "Any[[\"v < 0\", \"i = v/((Rs + Rp)/Np)\"], [\"v > Vocn\", \"i = 0\"], [\"i = 100\"], \"\"]\n"
     ]
    }
   ],
   "source": [
    "reduce(vcat, (v2, v3, v4, v5))\n",
    "println(reduce(vcat, (v2, v3, v4, v5)))"
   ]
  },
  {
   "cell_type": "code",
   "execution_count": 27,
   "metadata": {},
   "outputs": [
    {
     "data": {
      "text/plain": [
       "3-element Vector{Vector{String}}:\n",
       " [\"v < 0\", \"i = v/((Rs + Rp)/Np)\"]\n",
       " [\"v > Vocn\", \"i = 0\"]\n",
       " [\"i = 100\"]"
      ]
     },
     "metadata": {},
     "output_type": "display_data"
    }
   ],
   "source": [
    "[v2; v3; v4]"
   ]
  },
  {
   "cell_type": "code",
   "execution_count": 32,
   "metadata": {},
   "outputs": [
    {
     "data": {
      "text/plain": [
       "3-element Vector{Vector{String}}:\n",
       " [\"v < 0\", \"i = v/((Rs + Rp)/Np)\"]\n",
       " [\"v > Vocn\", \"i = 0\"]\n",
       " [\"i = 100\"]"
      ]
     },
     "metadata": {},
     "output_type": "display_data"
    }
   ],
   "source": [
    "concat = Vector{String}[]\n",
    "# reduce(append!, (concat, v2,v3,v4), init=Int[])\n",
    "reduce(append!, (concat, v2,v3,v4))"
   ]
  },
  {
   "cell_type": "code",
   "execution_count": null,
   "metadata": {},
   "outputs": [],
   "source": [
    "infos = [[\"v < 0\", \"i = v/((Rs + Rp)/Np)\"], [\"v > Vocn\", \"i = 0\"], [\"i = 100\"], \"\"]\n",
    "\n",
    "infos = [[\"v < 0\", \"i = v/((Rs + Rp)/Np)\"], [\"v > Vocn\", \"i = 0\"], [\"i = -Np*(Ipv - Id - Ir)\"], [\"\"]]\n",
    "\n",
    "infos = [[\"v < 0\", \"i = v/((Rs + Rp)/Np)\"], \"\"]\n",
    "\n",
    "i ~ ifelse(v < 0,\n",
    "    v/((Rs + Rp)/Np), # note2\n",
    "        ifelse(v > Vocn,\n",
    "        0, # note3\n",
    "        -Np*(Ipv - Id - Ir) # note4\n",
    "        )\n",
    "    )"
   ]
  }
 ],
 "metadata": {
  "kernelspec": {
   "display_name": "Julia 1.10.1",
   "language": "julia",
   "name": "julia-1.10"
  },
  "language_info": {
   "file_extension": ".jl",
   "mimetype": "application/julia",
   "name": "julia",
   "version": "1.10.1"
  }
 },
 "nbformat": 4,
 "nbformat_minor": 2
}
