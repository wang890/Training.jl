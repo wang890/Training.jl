{
 "cells": [
  {
   "cell_type": "code",
   "execution_count": 2,
   "metadata": {},
   "outputs": [
    {
     "data": {
      "text/plain": [
       "1-element Vector{Int64}:\n",
       " 1"
      ]
     },
     "metadata": {},
     "output_type": "display_data"
    }
   ],
   "source": [
    "v1 = [1]"
   ]
  },
  {
   "cell_type": "code",
   "execution_count": 2,
   "metadata": {},
   "outputs": [
    {
     "data": {
      "text/plain": [
       "4-element Vector{Int64}:\n",
       " 1\n",
       " 2\n",
       " 3\n",
       " 4"
      ]
     },
     "metadata": {},
     "output_type": "display_data"
    }
   ],
   "source": [
    "a, b = [1, 2], [3, 4]\n",
    "[a;b]"
   ]
  },
  {
   "cell_type": "markdown",
   "metadata": {},
   "source": [
    "https://stackoverflow.com/questions/67871163/how-to-concatenate-two-vectors-in-julia"
   ]
  },
  {
   "cell_type": "markdown",
   "metadata": {},
   "source": [
    "Most Array methods treat arrays as general \"tensors\" of arbitrary ranks (\"data cubes\"), so you do need to think about the orientation. In the general case, there's cat(a, b; dims), of which hcat and vcat are special cases.\n",
    "\n",
    "大多数 Array 方法将数组视为任意阶的一般“张量”（“数据立方体”），因此您需要考虑方向。一般情况下，有 cat(a, b; dims)，其中 hcat 和 vcat 是特殊情况。"
   ]
  },
  {
   "cell_type": "code",
   "execution_count": 3,
   "metadata": {},
   "outputs": [
    {
     "data": {
      "text/plain": [
       "4-element Vector{Int64}:\n",
       " 1\n",
       " 2\n",
       " 3\n",
       " 4"
      ]
     },
     "metadata": {},
     "output_type": "display_data"
    }
   ],
   "source": [
    "reduce(vcat, (a, b))"
   ]
  },
  {
   "cell_type": "markdown",
   "metadata": {},
   "source": [
    "There is another class of methods treating Vectors as list like. From those, append! is the method that, well, appends a vector to another. The problem is that it is mutable. So you can, for example, append!(copy(a), b), or use something like BangBang.NoBang.append (which just selects the right method internally, though).\n",
    "\n",
    "还有另一类方法将向量视为列表。其中，append! 是将一个向量附加到另一个向量的方法。问题是它是可变的。因此，例如，您可以使用 append!(copy(a), b)，或者使用 BangBang.NoBang.append 之类的方法（不过，它只是在内部选择正确的方法）。"
   ]
  },
  {
   "cell_type": "code",
   "execution_count": 4,
   "metadata": {},
   "outputs": [
    {
     "data": {
      "text/plain": [
       "4-element Vector{Int64}:\n",
       " 1\n",
       " 2\n",
       " 3\n",
       " 4"
      ]
     },
     "metadata": {},
     "output_type": "display_data"
    }
   ],
   "source": [
    "reduce(append!, (a, b), init=Int[])"
   ]
  },
  {
   "cell_type": "markdown",
   "metadata": {},
   "source": [
    "Repeatedly appending seems like it would be much less efficient than vcat because preallocating the storage necessary is impossible, which means there will be many unnecessary allocations unless you sizehint! the init argument before passing it. – \n",
    "BallpointBen Jun 12, 2021 at 14:06\n",
    "\n",
    "重复附加似乎比 vcat 效率低得多，因为预先分配必要的存储是不可能的，这意味着除非您在传递 init 参数之前对其进行 sizehint!，否则将会有许多不必要的分配。"
   ]
  },
  {
   "cell_type": "markdown",
   "metadata": {},
   "source": [
    "I think the reduce should be more efficient using append!, since you are only resizing one vector instanceusing a doubling strategy, which has constant amortized complexity and will lead to logarithmically many intermediate reallocations. With vcat it creates a new copy every time. But I haven't tested it at all...– \n",
    "phipsgabler Jun 12, 2021 at 14:17\n",
    "\n",
    "我认为使用 append! 进行 Reduce 应该更有效，因为您只使用加倍策略调整一个向量实例的大小，这具有恒定的摊销复杂度，并将导致对数级的中间重新分配。使用 vcat 每次都会创建一个新副本。但我根本没有测试过它……"
   ]
  },
  {
   "cell_type": "markdown",
   "metadata": {},
   "source": [
    "No, reduce(vcat, ..) is faster (about twice as fast on my laptop, with fewer allocations). reduce has special implementations for vcat and hcat. – \n",
    "DNF Apr 28, 2022 at 15:24 \n",
    "\n",
    "不，**reduce(vcat, ..) 更快**（在我的笔记本电脑上大约快两倍，而且分配更少）。reduce 对 vcat 和 hcat 有特殊的实现。"
   ]
  }
 ],
 "metadata": {
  "kernelspec": {
   "display_name": "Julia 1.11.0",
   "language": "julia",
   "name": "julia-1.11"
  },
  "language_info": {
   "file_extension": ".jl",
   "mimetype": "application/julia",
   "name": "julia",
   "version": "1.11.0"
  }
 },
 "nbformat": 4,
 "nbformat_minor": 2
}
