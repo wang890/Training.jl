{
 "cells": [
  {
   "cell_type": "code",
   "execution_count": 1,
   "metadata": {},
   "outputs": [],
   "source": [
    "using General.Aux"
   ]
  },
  {
   "cell_type": "code",
   "execution_count": 2,
   "metadata": {},
   "outputs": [
    {
     "name": "stdout",
     "output_type": "stream",
     "text": [
      "\n",
      "r1, UnitRange{Int64}\n",
      "  = 1:3\n"
     ]
    },
    {
     "data": {
      "text/plain": [
       "(:start, :stop)"
      ]
     },
     "metadata": {},
     "output_type": "display_data"
    }
   ],
   "source": [
    "r1 = 1:3\n",
    "@logt r1\n",
    "propertynames(r1)"
   ]
  },
  {
   "cell_type": "code",
   "execution_count": 3,
   "metadata": {},
   "outputs": [
    {
     "ename": "ErrorException",
     "evalue": "setfield!: immutable struct of type UnitRange cannot be changed",
     "output_type": "error",
     "traceback": [
      "setfield!: immutable struct of type UnitRange cannot be changed\n",
      "\n",
      "Stacktrace:\n",
      " [1] setproperty!(x::UnitRange{Int64}, f::Symbol, v::Int64)\n",
      "   @ Base .\\Base.jl:41\n",
      " [2] top-level scope\n",
      "   @ e:\\JuliaProjects\\Training.jl\\series\\Array\\range.ipynb:1"
     ]
    }
   ],
   "source": [
    "r1.stop = 4\n",
    "r1"
   ]
  },
  {
   "cell_type": "code",
   "execution_count": 8,
   "metadata": {},
   "outputs": [
    {
     "name": "stdout",
     "output_type": "stream",
     "text": [
      "\n",
      "r2, UnitRange{Int64}\n",
      "  = 1:3\n"
     ]
    }
   ],
   "source": [
    "r2 = range([1,3]...)\n",
    "@logt r2"
   ]
  },
  {
   "cell_type": "code",
   "execution_count": 17,
   "metadata": {},
   "outputs": [
    {
     "ename": "ArgumentError",
     "evalue": "ArgumentError: Cannot construct range from arguments:\nstart = 1 => 3\nstep = nothing\nstop = nothing\nlength = nothing\nTry specifying more arguments.\n",
     "output_type": "error",
     "traceback": [
      "ArgumentError: Cannot construct range from arguments:\n",
      "start = 1 => 3\n",
      "step = nothing\n",
      "stop = nothing\n",
      "length = nothing\n",
      "Try specifying more arguments.\n",
      "\n",
      "\n",
      "Stacktrace:\n",
      " [1] range_error(start::Pair{Int64, Int64}, step::Nothing, stop::Nothing, length::Nothing)\n",
      "   @ Base .\\range.jl:249\n",
      " [2] _range(start::Pair{Int64, Int64}, step::Nothing, stop::Nothing, len::Nothing)\n",
      "   @ Base .\\range.jl:163\n",
      " [3] range(start::Pair{Int64, Int64}; stop::Nothing, length::Nothing, step::Nothing)\n",
      "   @ Base .\\range.jl:147\n",
      " [4] top-level scope\n",
      "   @ e:\\JuliaProjects\\Training.jl\\series\\Array\\range.ipynb:1"
     ]
    }
   ],
   "source": [
    "range(1=>3)"
   ]
  }
 ],
 "metadata": {
  "kernelspec": {
   "display_name": "Julia 1.10.1",
   "language": "julia",
   "name": "julia-1.10"
  },
  "language_info": {
   "file_extension": ".jl",
   "mimetype": "application/julia",
   "name": "julia",
   "version": "1.10.1"
  }
 },
 "nbformat": 4,
 "nbformat_minor": 2
}
