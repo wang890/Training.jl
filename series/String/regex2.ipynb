{
 "cells": [
  {
   "cell_type": "markdown",
   "metadata": {},
   "source": [
    "[正则表达式菜鸟教程](https://www.runoob.com/regexp/regexp-tutorial.html)\n",
    "\n",
    "https://docs.juliacn.com/latest/manual/strings/#man-regex-literals"
   ]
  },
  {
   "cell_type": "code",
   "execution_count": 2,
   "metadata": {},
   "outputs": [],
   "source": [
    "using General.Aux"
   ]
  },
  {
   "cell_type": "code",
   "execution_count": 3,
   "metadata": {},
   "outputs": [
    {
     "name": "stdout",
     "output_type": "stream",
     "text": [
      "\n",
      "re, Regex\n",
      "  = r\"^\\s*(?:#|$)\"\n"
     ]
    }
   ],
   "source": [
    "re = r\"^\\s*(?:#|$)\"\n",
    "@logt re"
   ]
  },
  {
   "cell_type": "code",
   "execution_count": 4,
   "metadata": {},
   "outputs": [
    {
     "data": {
      "text/plain": [
       "false"
      ]
     },
     "metadata": {},
     "output_type": "display_data"
    },
    {
     "data": {
      "text/plain": [
       "true"
      ]
     },
     "metadata": {},
     "output_type": "display_data"
    }
   ],
   "source": [
    "occursin(r\"^\\s*(?:#|$)\", \"not a comment\") |> display\n",
    "\n",
    "occursin(r\"^\\s*(?:#|$)\", \"# a comment\") |> display"
   ]
  },
  {
   "cell_type": "code",
   "execution_count": 11,
   "metadata": {},
   "outputs": [
    {
     "data": {
      "text/plain": [
       "nothing"
      ]
     },
     "metadata": {},
     "output_type": "display_data"
    },
    {
     "name": "stdout",
     "output_type": "stream",
     "text": [
      "\n",
      "m, RegexMatch\n",
      "  = RegexMatch(\"#\")\n",
      "\n",
      "m_properties, NTuple{5, Symbol}\n",
      "  = (:match, :captures, :offset, :offsets, :regex)\n"
     ]
    }
   ],
   "source": [
    "match(r\"^\\s*(?:#|$)\", \"not a comment\") |> display\n",
    "\n",
    "m = match(r\"^\\s*(?:#|$)\", \"# a comment\")\n",
    "m_properties = propertynames(m)\n",
    "\n",
    "@logt m m_properties"
   ]
  },
  {
   "cell_type": "code",
   "execution_count": 12,
   "metadata": {},
   "outputs": [
    {
     "data": {
      "text/plain": [
       "RegexMatch(\"# a comment \", 1=\"a comment\")"
      ]
     },
     "metadata": {},
     "output_type": "display_data"
    }
   ],
   "source": [
    "m2 = match(r\"^\\s*(?:#\\s*(.*?)\\s*$|$)\", \"# a comment \")"
   ]
  },
  {
   "cell_type": "code",
   "execution_count": 14,
   "metadata": {},
   "outputs": [
    {
     "name": "stdout",
     "output_type": "stream",
     "text": [
      "\n",
      "m3, RegexMatch\n",
      "  = RegexMatch(\"1\")\n",
      "\n",
      "m4, RegexMatch\n",
      "  = RegexMatch(\"2\")\n",
      "\n",
      "m5, RegexMatch\n",
      "  = RegexMatch(\"3\")\n"
     ]
    }
   ],
   "source": [
    "m3 = match(r\"[0-9]\",\"aaaa1aaaa2aaaa3\",1)\n",
    "\n",
    "m4 = match(r\"[0-9]\",\"aaaa1aaaa2aaaa3\",6)\n",
    "\n",
    "m5 = match(r\"[0-9]\",\"aaaa1aaaa2aaaa3\",11)\n",
    "\n",
    "@logt m3 m4 m5"
   ]
  },
  {
   "cell_type": "code",
   "execution_count": 34,
   "metadata": {},
   "outputs": [
    {
     "name": "stdout",
     "output_type": "stream",
     "text": [
      "\n",
      "m6, RegexMatch\n",
      "  = RegexMatch(\"acd\", 1=\"a\", 2=\"c\", 3=\"d\")\n",
      "\n",
      "m6.match, SubString{String}\n",
      "  = acd\n",
      "\n",
      "m6.captures, Vector{Union{Nothing, SubString{String}}}\n",
      "  = Union{Nothing, SubString{String}}[\"a\", \"c\", \"d\"]\n",
      "\n",
      "m6.offset, Int64\n",
      "  = 1\n",
      "\n",
      "m6.offsets, Vector{Int64}\n",
      "  = [1, 2, 3]\n"
     ]
    }
   ],
   "source": [
    "m6 = match(r\"(a|b)(c)?(d)\", \"acd\")\n",
    "\n",
    "@logt m6 m6.match m6.captures m6.offset m6.offsets"
   ]
  },
  {
   "cell_type": "code",
   "execution_count": 35,
   "metadata": {},
   "outputs": [
    {
     "name": "stdout",
     "output_type": "stream",
     "text": [
      "\n",
      "m7, RegexMatch\n",
      "  = RegexMatch(\"ad\", 1=\"a\", 2=nothing, 3=\"d\")\n",
      "\n",
      "m7.match, SubString{String}\n",
      "  = ad\n",
      "\n",
      "m7.captures, Vector{Union{Nothing, SubString{String}}}\n",
      "  = Union{Nothing, SubString{String}}[\"a\", nothing, \"d\"]\n",
      "\n",
      "m7.offset, Int64\n",
      "  = 1\n",
      "\n",
      "m7.offsets, Vector{Int64}\n",
      "  = [1, 0, 2]\n",
      "\n",
      "== == == == == == == \n",
      "\n",
      "first, SubString{String}\n",
      "  = a\n",
      "\n",
      "second, Nothing\n",
      "  = nothing\n",
      "\n",
      "third, SubString{String}\n",
      "  = d\n"
     ]
    }
   ],
   "source": [
    "\n",
    "m7 = match(r\"(a|b)(c)?(d)\", \"ad\")\n",
    "\n",
    "@logt m7 m7.match m7.captures m7.offset m7.offsets\n",
    "\n",
    "first, second, third = m7\n",
    "\n",
    "println(\"\\n\", repeat(\"== \", 7))\n",
    "\n",
    "@logt first second third"
   ]
  },
  {
   "cell_type": "code",
   "execution_count": 37,
   "metadata": {},
   "outputs": [
    {
     "name": "stdout",
     "output_type": "stream",
     "text": [
      "\n",
      "m8, RegexMatch\n",
      "  = RegexMatch(\"12:45\", hour=\"12\", minute=\"45\")\n",
      "\n",
      "m8.match, SubString{String}\n",
      "  = 12:45\n",
      "\n",
      "m8.captures, Vector{Union{Nothing, SubString{String}}}\n",
      "  = Union{Nothing, SubString{String}}[\"12\", \"45\"]\n",
      "\n",
      "m8.offset, Int64\n",
      "  = 1\n",
      "\n",
      "m8.offsets, Vector{Int64}\n",
      "  = [1, 4]\n",
      "\n",
      "== == == == == == == \n",
      "\n",
      "m8[:minute], SubString{String}\n",
      "  = 45\n",
      "\n",
      "m8[2], SubString{String}\n",
      "  = 45\n"
     ]
    }
   ],
   "source": [
    "m8 = match(r\"(?<hour>\\d+):(?<minute>\\d+)\",\"12:45\")\n",
    "\n",
    "@logt m8 m8.match m8.captures m8.offset m8.offsets\n",
    "\n",
    "println(\"\\n\", repeat(\"== \", 7))\n",
    "\n",
    "@logt m8[:minute] m8[2]"
   ]
  },
  {
   "cell_type": "markdown",
   "metadata": {},
   "source": [
    "使用 replace 时利用 \\n 引用第 n 个捕获组和给替换字符串加上 s 的前缀，可以实现替换字符串中对捕获的引用。捕获组 0 指的是整个匹配对象。可在替换中用 \\g<groupname> 对命名捕获组进行引用。例如："
   ]
  },
  {
   "cell_type": "code",
   "execution_count": 38,
   "metadata": {},
   "outputs": [
    {
     "data": {
      "text/plain": [
       "\"second first\""
      ]
     },
     "metadata": {},
     "output_type": "display_data"
    }
   ],
   "source": [
    "replace(\"first second\", r\"(\\w+) (?<agroup>\\w+)\" => s\"\\g<agroup> \\1\")"
   ]
  },
  {
   "cell_type": "markdown",
   "metadata": {},
   "source": [
    "为明确起见，编号捕获组也可用 \\g<n> 进行引用，例如："
   ]
  },
  {
   "cell_type": "code",
   "execution_count": 39,
   "metadata": {},
   "outputs": [
    {
     "data": {
      "text/plain": [
       "\"a1\""
      ]
     },
     "metadata": {},
     "output_type": "display_data"
    }
   ],
   "source": [
    "replace(\"a\", r\".\" => s\"\\g<0>1\")"
   ]
  },
  {
   "cell_type": "code",
   "execution_count": 41,
   "metadata": {},
   "outputs": [
    {
     "data": {
      "text/plain": [
       "r\"a+.*b+.*?d$\"ims"
      ]
     },
     "metadata": {},
     "output_type": "display_data"
    },
    {
     "data": {
      "text/plain": [
       "RegexMatch(\"angry,\\nBad world\")"
      ]
     },
     "metadata": {},
     "output_type": "display_data"
    }
   ],
   "source": [
    "r\"a+.*b+.*?d$\"ism |> display\n",
    "\n",
    "match(r\"a+.*b+.*?d$\"ism, \"Goodbye,\\nOh, angry,\\nBad world\\n\")"
   ]
  },
  {
   "cell_type": "markdown",
   "metadata": {},
   "source": [
    "r\"...\" 文本的构造没有插值和转义（除了引号 \" 仍然需要转义）。下面例子展示了它和标准字符串字面量之间的差别："
   ]
  },
  {
   "cell_type": "code",
   "execution_count": 43,
   "metadata": {},
   "outputs": [
    {
     "data": {
      "text/plain": [
       "10"
      ]
     },
     "metadata": {},
     "output_type": "display_data"
    },
    {
     "data": {
      "text/plain": [
       "r\"$x\""
      ]
     },
     "metadata": {},
     "output_type": "display_data"
    },
    {
     "data": {
      "text/plain": [
       "\"10\""
      ]
     },
     "metadata": {},
     "output_type": "display_data"
    },
    {
     "data": {
      "text/plain": [
       "r\"\\x\""
      ]
     },
     "metadata": {},
     "output_type": "display_data"
    },
    {
     "ename": "Base.Meta.ParseError",
     "evalue": "ParseError:\n# Error @ e:\\JuliaProjects\\Training3.jl\\regex\\regex.ipynb:9:2\n\r\n\"\\x\"\n#└┘ ── invalid hex escape sequence",
     "output_type": "error",
     "traceback": [
      "ParseError:\n",
      "# Error @ e:\\JuliaProjects\\Training3.jl\\regex\\regex.ipynb:9:2\n",
      "\r\n",
      "\"\\x\"\n",
      "#└┘ ── invalid hex escape sequence\n",
      "\n",
      "Stacktrace:\n",
      " [1] top-level scope\n",
      "   @ e:\\JuliaProjects\\Training3.jl\\regex\\regex.ipynb:9"
     ]
    }
   ],
   "source": [
    "x = 10; x |> display\n",
    "\n",
    "r\"$x\" |> display\n",
    "\n",
    "\"$x\" |> display\n",
    "\n",
    "r\"\\x\" |> display\n",
    "\n",
    "\"\\x\""
   ]
  },
  {
   "cell_type": "code",
   "execution_count": 48,
   "metadata": {},
   "outputs": [
    {
     "data": {
      "text/plain": [
       "1962-07-10"
      ]
     },
     "metadata": {},
     "output_type": "display_data"
    },
    {
     "data": {
      "text/plain": [
       "r\"Day 10\""
      ]
     },
     "metadata": {},
     "output_type": "display_data"
    },
    {
     "data": {
      "text/plain": [
       "RegexMatch(\"Day 10\")"
      ]
     },
     "metadata": {},
     "output_type": "display_data"
    }
   ],
   "source": [
    "using Dates\n",
    "\n",
    "d = Date(1962,7,10); d |> display\n",
    "\n",
    "regex_d = Regex(\"Day \" * string(day(d))); regex_d |> display\n",
    "\n",
    "match(regex_d, \"It happened on Day 10\") |> display"
   ]
  },
  {
   "cell_type": "code",
   "execution_count": 50,
   "metadata": {},
   "outputs": [
    {
     "data": {
      "text/plain": [
       "r\"[\\\"( ]\\QJon\\E[\\\") ]\""
      ]
     },
     "metadata": {},
     "output_type": "display_data"
    },
    {
     "data": {
      "text/plain": [
       "RegexMatch(\" Jon \")"
      ]
     },
     "metadata": {},
     "output_type": "display_data"
    },
    {
     "data": {
      "text/plain": [
       "true"
      ]
     },
     "metadata": {},
     "output_type": "display_data"
    }
   ],
   "source": [
    "name = \"Jon\"\n",
    "\n",
    "regex_name = Regex(\"[\\\"( ]\\\\Q$name\\\\E[\\\") ]\"); regex_name |> display\n",
    "\n",
    "match(regex_name, \" Jon \")  |> display\n",
    "\n",
    "match(regex_name, \"[Jon]\") === nothing"
   ]
  },
  {
   "cell_type": "markdown",
   "metadata": {},
   "source": [
    "注意** \\Q...\\E 转义序列**的使用。 \\Q 和 \\E 之间的所有字符都被解释为字符字面量（在字符串插值之后）。在插入可能是恶意的用户输入时，此转义序列非常有用。"
   ]
  }
 ],
 "metadata": {
  "kernelspec": {
   "display_name": "Julia 1.10.1",
   "language": "julia",
   "name": "julia-1.10"
  },
  "language_info": {
   "file_extension": ".jl",
   "mimetype": "application/julia",
   "name": "julia",
   "version": "1.10.1"
  }
 },
 "nbformat": 4,
 "nbformat_minor": 2
}
