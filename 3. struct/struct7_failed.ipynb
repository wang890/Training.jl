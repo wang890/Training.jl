{
 "cells": [
  {
   "cell_type": "code",
   "execution_count": 1,
   "metadata": {},
   "outputs": [],
   "source": [
    "using DynamicQuantities"
   ]
  },
  {
   "cell_type": "code",
   "execution_count": 2,
   "metadata": {},
   "outputs": [
    {
     "data": {
      "text/plain": [
       "\"a\""
      ]
     },
     "metadata": {},
     "output_type": "display_data"
    },
    {
     "ename": "ErrorException",
     "evalue": "type DataType has no field quantity",
     "output_type": "error",
     "traceback": [
      "type DataType has no field quantity\n",
      "\n",
      "Stacktrace:\n",
      " [1] getproperty(x::Type, f::Symbol)\n",
      "   @ Base .\\Base.jl:43\n",
      " [2] top-level scope\n",
      "   @ e:\\Projects.jl\\Training.jl\\2.2 struct\\jl_notebook_cell_df34fa98e69747e1a8f8a730347b8e2f_W1sZmlsZQ==.jl:9"
     ]
    }
   ],
   "source": [
    "struct  VolumeDensityOfCharge\n",
    "    quantity::String \n",
    "    unit::String \n",
    "    u::String \n",
    "    min::Int\n",
    "end\n",
    "vdc = VolumeDensityOfCharge(\"a\", \"uni\", \"uu\", 10)\n",
    "vdc.quantity |> display\n",
    "VolumeDensityOfCharge.quantity"
   ]
  },
  {
   "cell_type": "code",
   "execution_count": 3,
   "metadata": {},
   "outputs": [],
   "source": [
    "using General.Aux"
   ]
  },
  {
   "cell_type": "code",
   "execution_count": 3,
   "metadata": {},
   "outputs": [
    {
     "data": {
      "text/plain": [
       "VolumeDensityOfCharge"
      ]
     },
     "metadata": {},
     "output_type": "display_data"
    }
   ],
   "source": [
    "@kwdef struct  VolumeDensityOfCharge\n",
    "    quantity = \"VolumeDensityOfCharge\"; \n",
    "    unit = \"C/m3\"; \n",
    "    u = u\"C/m^3\"; \n",
    "    min = 0; \n",
    "end"
   ]
  },
  {
   "cell_type": "code",
   "execution_count": 9,
   "metadata": {},
   "outputs": [
    {
     "name": "stdout",
     "output_type": "stream",
     "text": [
      "\n",
      "VolumeDensityOfCharge, DataType\n",
      "  = VolumeDensityOfCharge\n",
      "\n",
      "vdc, VolumeDensityOfCharge\n",
      "  = VolumeDensityOfCharge(\"VolumeDensityOfCharge\", \"C/m3\", 1.0 m⁻³ s A, 0)\n"
     ]
    }
   ],
   "source": [
    "vdc = VolumeDensityOfCharge()\n",
    "@logt VolumeDensityOfCharge vdc"
   ]
  },
  {
   "cell_type": "code",
   "execution_count": 4,
   "metadata": {},
   "outputs": [
    {
     "data": {
      "text/plain": [
       "(:quantity, :unit, :u, :min)"
      ]
     },
     "metadata": {},
     "output_type": "display_data"
    },
    {
     "data": {
      "text/plain": [
       "true"
      ]
     },
     "metadata": {},
     "output_type": "display_data"
    },
    {
     "data": {
      "text/plain": [
       "\"uni\""
      ]
     },
     "metadata": {},
     "output_type": "display_data"
    },
    {
     "data": {
      "text/plain": [
       "\"uni\""
      ]
     },
     "metadata": {},
     "output_type": "display_data"
    },
    {
     "ename": "ErrorException",
     "evalue": "type DataType has no field unit",
     "output_type": "error",
     "traceback": [
      "type DataType has no field unit\n",
      "\n",
      "Stacktrace:\n",
      " [1] getproperty(x::Type, f::Symbol)\n",
      "   @ Base .\\Base.jl:43\n",
      " [2] top-level scope\n",
      "   @ e:\\Projects.jl\\Training.jl\\2.2 struct\\jl_notebook_cell_df34fa98e69747e1a8f8a730347b8e2f_W5sZmlsZQ==.jl:6"
     ]
    }
   ],
   "source": [
    "fieldnames(VolumeDensityOfCharge) |> display\n",
    "hasfield(VolumeDensityOfCharge, :unit) |> display\n",
    "\n",
    "vdc.unit |> display\n",
    "getfield(vdc, :unit) |> display\n",
    "VolumeDensityOfCharge.unit"
   ]
  },
  {
   "cell_type": "code",
   "execution_count": 5,
   "metadata": {},
   "outputs": [
    {
     "data": {
      "text/plain": [
       "(:quantity, :unit, :u, :min)"
      ]
     },
     "metadata": {},
     "output_type": "display_data"
    },
    {
     "data": {
      "text/plain": [
       "true"
      ]
     },
     "metadata": {},
     "output_type": "display_data"
    },
    {
     "data": {
      "text/plain": [
       "\"uni\""
      ]
     },
     "metadata": {},
     "output_type": "display_data"
    },
    {
     "data": {
      "text/plain": [
       "\"== == == == == == \""
      ]
     },
     "metadata": {},
     "output_type": "display_data"
    },
    {
     "data": {
      "text/plain": [
       "(:name, :super, :parameters, :types, :instance, :layout, :hash, :flags)"
      ]
     },
     "metadata": {},
     "output_type": "display_data"
    },
    {
     "data": {
      "text/plain": [
       "svec()"
      ]
     },
     "metadata": {},
     "output_type": "display_data"
    },
    {
     "data": {
      "text/plain": [
       "svec()"
      ]
     },
     "metadata": {},
     "output_type": "display_data"
    }
   ],
   "source": [
    "propertynames(vdc) |> display\n",
    "(Symbol(\"unit\") in propertynames(vdc)) |>display\n",
    "vdc.unit |> display\n",
    "display(\"== == == == == == \")\n",
    "\n",
    "propertynames(VolumeDensityOfCharge) |> display\n",
    "VolumeDensityOfCharge.parameters |> display\n",
    "getproperty(VolumeDensityOfCharge, :parameters) |> display"
   ]
  },
  {
   "cell_type": "code",
   "execution_count": 6,
   "metadata": {},
   "outputs": [
    {
     "name": "stdout",
     "output_type": "stream",
     "text": [
      "Expr\n",
      "  head: Symbol macrocall\n",
      "  args: Array{Any}((3,))\n",
      "    1: Symbol @kwdef\n",
      "    2: LineNumberNode\n",
      "      line: Int64 1\n",
      "      file: Symbol e:\\Projects.jl\\Training.jl\\2.2 struct\\jl_notebook_cell_df34fa98e69747e1a8f8a730347b8e2f_X10sZmlsZQ==.jl\n",
      "    3: Expr\n",
      "      head: Symbol struct\n",
      "      args: Array{Any}((3,))\n",
      "        1: Bool false\n",
      "        2: Symbol VolumeDensityOfCharge\n",
      "        3: Expr\n",
      "          head: Symbol block\n",
      "          args: Array{Any}((8,))\n",
      "            1: LineNumberNode\n",
      "              line: Int64 2\n",
      "              file: Symbol e:\\Projects.jl\\Training.jl\\2.2 struct\\jl_notebook_cell_df34fa98e69747e1a8f8a730347b8e2f_X10sZmlsZQ==.jl\n",
      "            2: Expr\n",
      "              head: Symbol =\n",
      "              args: Array{Any}((2,))\n",
      "                1: Symbol quantity\n",
      "                2: String \"VolumeDensityOfCharge\"\n",
      "            3: LineNumberNode\n",
      "              line: Int64 3\n",
      "              file: Symbol e:\\Projects.jl\\Training.jl\\2.2 struct\\jl_notebook_cell_df34fa98e69747e1a8f8a730347b8e2f_X10sZmlsZQ==.jl\n",
      "            4: Expr\n",
      "              head: Symbol =\n",
      "              args: Array{Any}((2,))\n",
      "                1: Symbol unit\n",
      "                2: String \"C/m3\"\n",
      "            5: LineNumberNode\n",
      "              line: Int64 4\n",
      "              file: Symbol e:\\Projects.jl\\Training.jl\\2.2 struct\\jl_notebook_cell_df34fa98e69747e1a8f8a730347b8e2f_X10sZmlsZQ==.jl\n",
      "            6: Expr\n",
      "              head: Symbol =\n",
      "              args: Array{Any}((2,))\n",
      "                1: Symbol u\n",
      "                2: Expr\n",
      "            7: LineNumberNode\n",
      "              line: Int64 5\n",
      "              file: Symbol e:\\Projects.jl\\Training.jl\\2.2 struct\\jl_notebook_cell_df34fa98e69747e1a8f8a730347b8e2f_X10sZmlsZQ==.jl\n",
      "            8: Expr\n",
      "              head: Symbol =\n",
      "              args: Array{Any}((2,))\n",
      "                1: Symbol min\n",
      "                2: Int64 0\n"
     ]
    }
   ],
   "source": [
    "dump(:(@kwdef struct  VolumeDensityOfCharge\n",
    "    quantity = \"VolumeDensityOfCharge\"; \n",
    "    unit = \"C/m3\"; \n",
    "    u = u\"C/m^3\"; \n",
    "    min = 0; \n",
    "end))"
   ]
  },
  {
   "cell_type": "code",
   "execution_count": 7,
   "metadata": {},
   "outputs": [
    {
     "ename": "ErrorException",
     "evalue": "syntax: \"quantity = \"VolumeDensityOfCharge\"\" inside type definition is reserved around e:\\Projects.jl\\Training.jl\\2.2 struct\\jl_notebook_cell_df34fa98e69747e1a8f8a730347b8e2f_X11sZmlsZQ==.jl:4",
     "output_type": "error",
     "traceback": [
      "syntax: \"quantity = \"VolumeDensityOfCharge\"\" inside type definition is reserved around e:\\Projects.jl\\Training.jl\\2.2 struct\\jl_notebook_cell_df34fa98e69747e1a8f8a730347b8e2f_X11sZmlsZQ==.jl:4\n",
      "\n",
      "Stacktrace:\n",
      " [1] top-level scope\n",
      "   @ e:\\Projects.jl\\Training.jl\\2.2 struct\\jl_notebook_cell_df34fa98e69747e1a8f8a730347b8e2f_X11sZmlsZQ==.jl:4"
     ]
    }
   ],
   "source": [
    "module SI\n",
    "using DynamicQuantities\n",
    "\n",
    "struct  VolumeDensityOfCharge\n",
    "    quantity = \"VolumeDensityOfCharge\"; \n",
    "    unit = \"C/m3\"; \n",
    "    u = u\"C/m^3\"; \n",
    "    min = 0; \n",
    "end\n",
    "\n",
    "end"
   ]
  },
  {
   "cell_type": "code",
   "execution_count": 8,
   "metadata": {},
   "outputs": [
    {
     "ename": "LoadError",
     "evalue": "LoadError: Invalid usage of @kwdef\nin expression starting at e:\\Projects.jl\\Training.jl\\2.2 struct\\jl_notebook_cell_df34fa98e69747e1a8f8a730347b8e2f_X12sZmlsZQ==.jl:1",
     "output_type": "error",
     "traceback": [
      "LoadError: Invalid usage of @kwdef\n",
      "in expression starting at e:\\Projects.jl\\Training.jl\\2.2 struct\\jl_notebook_cell_df34fa98e69747e1a8f8a730347b8e2f_X12sZmlsZQ==.jl:1\n",
      "\n",
      "Stacktrace:\n",
      "  [1] error(s::String)\n",
      "    @ Base .\\error.jl:35\n",
      "  [2] var\"@kwdef\"(__source__::LineNumberNode, __module__::Module, expr::Any)\n",
      "    @ Base .\\util.jl:607\n",
      "  [3] eval\n",
      "    @ .\\boot.jl:430 [inlined]\n",
      "  [4] include_string(mapexpr::typeof(REPL.softscope), mod::Module, code::String, filename::String)\n",
      "    @ Base .\\loading.jl:2628\n",
      "  [5] #invokelatest#2\n",
      "    @ .\\essentials.jl:1054 [inlined]\n",
      "  [6] invokelatest\n",
      "    @ .\\essentials.jl:1051 [inlined]\n",
      "  [7] (::VSCodeServer.var\"#217#218\"{VSCodeServer.NotebookRunCellArguments, String})()\n",
      "    @ VSCodeServer c:\\Users\\TCY\\.vscode\\extensions\\julialang.language-julia-1.124.2\\scripts\\packages\\VSCodeServer\\src\\serve_notebook.jl:24\n",
      "  [8] withpath(f::VSCodeServer.var\"#217#218\"{VSCodeServer.NotebookRunCellArguments, String}, path::String)\n",
      "    @ VSCodeServer c:\\Users\\TCY\\.vscode\\extensions\\julialang.language-julia-1.124.2\\scripts\\packages\\VSCodeServer\\src\\repl.jl:276\n",
      "  [9] notebook_runcell_request(conn::VSCodeServer.JSONRPC.JSONRPCEndpoint{Base.PipeEndpoint, Base.PipeEndpoint}, params::VSCodeServer.NotebookRunCellArguments)\n",
      "    @ VSCodeServer c:\\Users\\TCY\\.vscode\\extensions\\julialang.language-julia-1.124.2\\scripts\\packages\\VSCodeServer\\src\\serve_notebook.jl:13\n",
      " [10] dispatch_msg(x::VSCodeServer.JSONRPC.JSONRPCEndpoint{Base.PipeEndpoint, Base.PipeEndpoint}, dispatcher::VSCodeServer.JSONRPC.MsgDispatcher, msg::Dict{String, Any})\n",
      "    @ VSCodeServer.JSONRPC c:\\Users\\TCY\\.vscode\\extensions\\julialang.language-julia-1.124.2\\scripts\\packages\\JSONRPC\\src\\typed.jl:67\n",
      " [11] serve_notebook(pipename::String, debugger_pipename::String, outputchannel_logger::Base.CoreLogging.SimpleLogger; error_handler::var\"#5#10\"{String})\n",
      "    @ VSCodeServer c:\\Users\\TCY\\.vscode\\extensions\\julialang.language-julia-1.124.2\\scripts\\packages\\VSCodeServer\\src\\serve_notebook.jl:147\n",
      " [12] top-level scope\n",
      "    @ c:\\Users\\TCY\\.vscode\\extensions\\julialang.language-julia-1.124.2\\scripts\\notebook\\notebook.jl:35"
     ]
    }
   ],
   "source": [
    "@kwdef struct  VolumeCharge()\n",
    "    equal = \"VolumeDensityOfCharge\"\n",
    "    a = 2;\n",
    "    function VolumeCharge()    \n",
    "    end          \n",
    "end"
   ]
  },
  {
   "cell_type": "code",
   "execution_count": 9,
   "metadata": {},
   "outputs": [
    {
     "data": {
      "text/plain": [
       "VolumeCharge"
      ]
     },
     "metadata": {},
     "output_type": "display_data"
    }
   ],
   "source": [
    "@kwdef struct  VolumeCharge\n",
    "    equal::Any = \"VolumeDensityOfCharge\"\n",
    "    a::Any = 2\n",
    "    function VolumeCharge()    \n",
    "    end          \n",
    "end"
   ]
  },
  {
   "cell_type": "code",
   "execution_count": 10,
   "metadata": {},
   "outputs": [
    {
     "data": {
      "text/plain": [
       "VolumeCharge"
      ]
     },
     "metadata": {},
     "output_type": "display_data"
    }
   ],
   "source": [
    "@kwdef struct  VolumeCharge\n",
    "    equal::Any = \"VolumeDensityOfCharge\"\n",
    "    a::Any = 2\n",
    "    function VolumeCharge()\n",
    "        (!hasfield(VolumeCharge, :unit) && hasfield(VolumeCharge, :equal)) |> display\n",
    "        if !hasfield(VolumeCharge, :unit) && hasfield(VolumeCharge, :equal)\n",
    "            println(\"being here\")\n",
    "            VolumeCharge().equal |> display\n",
    "            Symbol(VolumeCharge().equal)().unit        \n",
    "        end    \n",
    "    end          \n",
    "end"
   ]
  },
  {
   "cell_type": "code",
   "execution_count": 11,
   "metadata": {},
   "outputs": [
    {
     "ename": "MethodError",
     "evalue": "MethodError: no method matching VolumeCharge(::String, ::Int64)\nThe type `VolumeCharge` exists, but no method is defined for this combination of argument types when trying to construct it.\n\nClosest candidates are:\n  VolumeCharge(; equal, a)\n   @ Main e:\\Projects.jl\\Training.jl\\2.2 struct\\jl_notebook_cell_df34fa98e69747e1a8f8a730347b8e2f_X14sZmlsZQ==.jl:1\n",
     "output_type": "error",
     "traceback": [
      "MethodError: no method matching VolumeCharge(::String, ::Int64)\n",
      "The type `VolumeCharge` exists, but no method is defined for this combination of argument types when trying to construct it.\n",
      "\n",
      "Closest candidates are:\n",
      "  VolumeCharge(; equal, a)\n",
      "   @ Main e:\\Projects.jl\\Training.jl\\2.2 struct\\jl_notebook_cell_df34fa98e69747e1a8f8a730347b8e2f_X14sZmlsZQ==.jl:1\n",
      "\n",
      "\n",
      "Stacktrace:\n",
      " [1] VolumeCharge(; equal::String, a::Int64)\n",
      "   @ Main e:\\Projects.jl\\Training.jl\\2.2 struct\\jl_notebook_cell_df34fa98e69747e1a8f8a730347b8e2f_X14sZmlsZQ==.jl:1\n",
      " [2] top-level scope\n",
      "   @ e:\\Projects.jl\\Training.jl\\2.2 struct\\jl_notebook_cell_df34fa98e69747e1a8f8a730347b8e2f_X15sZmlsZQ==.jl:1"
     ]
    }
   ],
   "source": [
    "VolumeCharge()"
   ]
  },
  {
   "cell_type": "code",
   "execution_count": 14,
   "metadata": {},
   "outputs": [
    {
     "ename": "MethodError",
     "evalue": "MethodError: no method matching VolumeCharge2(::String, ::Int64)\nThe type `VolumeCharge2` exists, but no method is defined for this combination of argument types when trying to construct it.\n\nClosest candidates are:\n  VolumeCharge2(; equal, a)\n   @ Main e:\\Projects.jl\\Training.jl\\2.2 struct\\jl_notebook_cell_df34fa98e69747e1a8f8a730347b8e2f_X16sZmlsZQ==.jl:1\n",
     "output_type": "error",
     "traceback": [
      "MethodError: no method matching VolumeCharge2(::String, ::Int64)\n",
      "The type `VolumeCharge2` exists, but no method is defined for this combination of argument types when trying to construct it.\n",
      "\n",
      "Closest candidates are:\n",
      "  VolumeCharge2(; equal, a)\n",
      "   @ Main e:\\Projects.jl\\Training.jl\\2.2 struct\\jl_notebook_cell_df34fa98e69747e1a8f8a730347b8e2f_X16sZmlsZQ==.jl:1\n",
      "\n",
      "\n",
      "Stacktrace:\n",
      " [1] VolumeCharge2(; equal::String, a::Int64)\n",
      "   @ Main e:\\Projects.jl\\Training.jl\\2.2 struct\\jl_notebook_cell_df34fa98e69747e1a8f8a730347b8e2f_X16sZmlsZQ==.jl:1\n",
      " [2] top-level scope\n",
      "   @ e:\\Projects.jl\\Training.jl\\2.2 struct\\jl_notebook_cell_df34fa98e69747e1a8f8a730347b8e2f_X16sZmlsZQ==.jl:14"
     ]
    }
   ],
   "source": [
    "@kwdef struct  VolumeCharge2\n",
    "    equal::Any = \"VolumeDensityOfCharge\"\n",
    "    a::Any = 2\n",
    "    function VolumeCharge2()\n",
    "        Typ = new()\n",
    "        (!hasfield(VolumeCharge2, :unit) && hasfield(VolumeCharge2, :equal)) |> display\n",
    "        if !hasfield(VolumeCharge2, :unit) && hasfield(VolumeCharge2, :equal)\n",
    "            println(\"being here\")\n",
    "            Typ().equal |> display\n",
    "            Symbol(Typ().equal)().unit        \n",
    "        end    \n",
    "    end          \n",
    "end\n",
    "VolumeCharge2()"
   ]
  },
  {
   "cell_type": "code",
   "execution_count": 16,
   "metadata": {},
   "outputs": [],
   "source": [
    "using FieldDefaults\n",
    "using FieldDefaults: get_default\n",
    "using DynamicQuantities"
   ]
  },
  {
   "cell_type": "code",
   "execution_count": 18,
   "metadata": {},
   "outputs": [
    {
     "data": {
      "text/plain": [
       "VolumeDensityOfCharge2"
      ]
     },
     "metadata": {},
     "output_type": "display_data"
    }
   ],
   "source": [
    "@default_kw struct VolumeDensityOfCharge2\n",
    "    quantity | \"VolumeDensityOfCharge\"; \n",
    "    unit | \"C/m3\"; \n",
    "    u | u\"C/m^3\"; \n",
    "    min | 0; \n",
    "end"
   ]
  },
  {
   "cell_type": "code",
   "execution_count": 19,
   "metadata": {},
   "outputs": [
    {
     "name": "stderr",
     "output_type": "stream",
     "text": [
      "┌ Warning: use values(kwargs) and keys(kwargs) instead of kwargs.data and kwargs.itr\n",
      "│   caller = insert_kwargs at FieldDefaults.jl:45 [inlined]\n",
      "└ @ Core C:\\Users\\TCY\\.julia\\packages\\FieldDefaults\\bVHub\\src\\FieldDefaults.jl:45\n",
      "┌ Warning: use values(kwargs) and keys(kwargs) instead of kwargs.data and kwargs.itr\n",
      "│   caller = insert_kwargs at FieldDefaults.jl:45 [inlined]\n",
      "└ @ Core C:\\Users\\TCY\\.julia\\packages\\FieldDefaults\\bVHub\\src\\FieldDefaults.jl:45\n"
     ]
    },
    {
     "data": {
      "text/plain": [
       "1.0 m⁻³ s A"
      ]
     },
     "metadata": {},
     "output_type": "display_data"
    }
   ],
   "source": [
    "VolumeDensityOfCharge2().u"
   ]
  },
  {
   "cell_type": "code",
   "execution_count": 21,
   "metadata": {},
   "outputs": [
    {
     "name": "stderr",
     "output_type": "stream",
     "text": [
      "┌ Warning: use values(kwargs) and keys(kwargs) instead of kwargs.data and kwargs.itr\n",
      "│   caller = insert_kwargs at FieldDefaults.jl:45 [inlined]\n",
      "└ @ Core C:\\Users\\TCY\\.julia\\packages\\FieldDefaults\\bVHub\\src\\FieldDefaults.jl:45\n",
      "┌ Warning: use values(kwargs) and keys(kwargs) instead of kwargs.data and kwargs.itr\n",
      "│   caller = insert_kwargs at FieldDefaults.jl:45 [inlined]\n",
      "└ @ Core C:\\Users\\TCY\\.julia\\packages\\FieldDefaults\\bVHub\\src\\FieldDefaults.jl:45\n"
     ]
    },
    {
     "ename": "MethodError",
     "evalue": "MethodError: no method matching VolumeCharge3(::String, ::Int64)\nThe type `VolumeCharge3` exists, but no method is defined for this combination of argument types when trying to construct it.\n\nClosest candidates are:\n  VolumeCharge3(; kwargs...)\n   @ Main C:\\Users\\TCY\\.julia\\packages\\FieldDefaults\\bVHub\\src\\FieldDefaults.jl:40\n",
     "output_type": "error",
     "traceback": [
      "MethodError: no method matching VolumeCharge3(::String, ::Int64)\n",
      "The type `VolumeCharge3` exists, but no method is defined for this combination of argument types when trying to construct it.\n",
      "\n",
      "Closest candidates are:\n",
      "  VolumeCharge3(; kwargs...)\n",
      "   @ Main C:\\Users\\TCY\\.julia\\packages\\FieldDefaults\\bVHub\\src\\FieldDefaults.jl:40\n",
      "\n",
      "\n",
      "Stacktrace:\n",
      " [1] default_kw(::Type{VolumeCharge3}; kwargs::@Kwargs{})\n",
      "   @ FieldDefaults C:\\Users\\TCY\\.julia\\packages\\FieldDefaults\\bVHub\\src\\FieldDefaults.jl:55\n",
      " [2] default_kw(::Type{VolumeCharge3})\n",
      "   @ FieldDefaults C:\\Users\\TCY\\.julia\\packages\\FieldDefaults\\bVHub\\src\\FieldDefaults.jl:55\n",
      " [3] VolumeCharge3(; kwargs::@Kwargs{})\n",
      "   @ Main C:\\Users\\TCY\\.julia\\packages\\FieldDefaults\\bVHub\\src\\FieldDefaults.jl:40\n",
      " [4] top-level scope\n",
      "   @ e:\\Projects.jl\\Training.jl\\2.2 struct\\jl_notebook_cell_df34fa98e69747e1a8f8a730347b8e2f_X23sZmlsZQ==.jl:14"
     ]
    }
   ],
   "source": [
    "@default_kw struct  VolumeCharge3\n",
    "    equal::Any | \"VolumeDensityOfCharge\";\n",
    "    min :: Any| 2\n",
    "    function VolumeCharge3()\n",
    "        # Typ = new()\n",
    "        (!hasfield(VolumeCharge3, :unit) && hasfield(VolumeCharge3, :equal)) |> display\n",
    "        if !hasfield(VolumeCharge3, :unit) && hasfield(VolumeCharge3, :equal)\n",
    "            println(\"being here\")\n",
    "            get_default(VolumeCharge3, Val{:equal}) |> display\n",
    "            Symbol(get_default(VolumeCharge3, Val{:equal}))().unit        \n",
    "        end    \n",
    "    end          \n",
    "end\n",
    "VolumeCharge3()"
   ]
  },
  {
   "cell_type": "code",
   "execution_count": 22,
   "metadata": {},
   "outputs": [
    {
     "name": "stderr",
     "output_type": "stream",
     "text": [
      "┌ Warning: use values(kwargs) and keys(kwargs) instead of kwargs.data and kwargs.itr\n",
      "│   caller = insert_kwargs at FieldDefaults.jl:45 [inlined]\n",
      "└ @ Core C:\\Users\\TCY\\.julia\\packages\\FieldDefaults\\bVHub\\src\\FieldDefaults.jl:45\n",
      "┌ Warning: use values(kwargs) and keys(kwargs) instead of kwargs.data and kwargs.itr\n",
      "│   caller = insert_kwargs at FieldDefaults.jl:45 [inlined]\n",
      "└ @ Core C:\\Users\\TCY\\.julia\\packages\\FieldDefaults\\bVHub\\src\\FieldDefaults.jl:45\n"
     ]
    },
    {
     "ename": "MethodError",
     "evalue": "MethodError: no method matching VolumeCharge4(::String, ::Int64)\nThe type `VolumeCharge4` exists, but no method is defined for this combination of argument types when trying to construct it.\n\nClosest candidates are:\n  VolumeCharge4(; kwargs...)\n   @ Main C:\\Users\\TCY\\.julia\\packages\\FieldDefaults\\bVHub\\src\\FieldDefaults.jl:40\n",
     "output_type": "error",
     "traceback": [
      "MethodError: no method matching VolumeCharge4(::String, ::Int64)\n",
      "The type `VolumeCharge4` exists, but no method is defined for this combination of argument types when trying to construct it.\n",
      "\n",
      "Closest candidates are:\n",
      "  VolumeCharge4(; kwargs...)\n",
      "   @ Main C:\\Users\\TCY\\.julia\\packages\\FieldDefaults\\bVHub\\src\\FieldDefaults.jl:40\n",
      "\n",
      "\n",
      "Stacktrace:\n",
      " [1] default_kw(::Type{VolumeCharge4}; kwargs::@Kwargs{})\n",
      "   @ FieldDefaults C:\\Users\\TCY\\.julia\\packages\\FieldDefaults\\bVHub\\src\\FieldDefaults.jl:55\n",
      " [2] default_kw(::Type{VolumeCharge4})\n",
      "   @ FieldDefaults C:\\Users\\TCY\\.julia\\packages\\FieldDefaults\\bVHub\\src\\FieldDefaults.jl:55\n",
      " [3] VolumeCharge4(; kwargs::@Kwargs{})\n",
      "   @ Main C:\\Users\\TCY\\.julia\\packages\\FieldDefaults\\bVHub\\src\\FieldDefaults.jl:40\n",
      " [4] top-level scope\n",
      "   @ e:\\Projects.jl\\Training.jl\\2.2 struct\\jl_notebook_cell_df34fa98e69747e1a8f8a730347b8e2f_X24sZmlsZQ==.jl:19"
     ]
    }
   ],
   "source": [
    "@default_kw struct  VolumeCharge4\n",
    "    equal | \"VolumeDensityOfCharge\";\n",
    "    min | 2\n",
    "    function VolumeCharge4()\n",
    "        Typ = new()\n",
    "        (!hasfield(Typ, :unit) && hasfield(Typ, :equal)) |> display\n",
    "        if !hasfield(Typ, :unit) && hasfield(Typ, :equal)\n",
    "            println(\"being here\")\n",
    "            fnames = fieldnames(Typ)\n",
    "            for f in fnames\n",
    "                setfield!(Typ, f, get_default(VolumeCharge4, Val{f}))\n",
    "            end\n",
    "            return Symbol(Typ.equal)().unit \n",
    "        elseif !hasfield(Typ, :equal)\n",
    "            return get_default(VolumeCharge4, Val{:unit})\n",
    "        end    \n",
    "    end          \n",
    "end\n",
    "VolumeCharge4()"
   ]
  },
  {
   "cell_type": "code",
   "execution_count": 23,
   "metadata": {},
   "outputs": [
    {
     "name": "stderr",
     "output_type": "stream",
     "text": [
      "┌ Warning: use values(kwargs) and keys(kwargs) instead of kwargs.data and kwargs.itr\n",
      "│   caller = insert_kwargs at FieldDefaults.jl:45 [inlined]\n",
      "└ @ Core C:\\Users\\TCY\\.julia\\packages\\FieldDefaults\\bVHub\\src\\FieldDefaults.jl:45\n",
      "┌ Warning: use values(kwargs) and keys(kwargs) instead of kwargs.data and kwargs.itr\n",
      "│   caller = insert_kwargs at FieldDefaults.jl:45 [inlined]\n",
      "└ @ Core C:\\Users\\TCY\\.julia\\packages\\FieldDefaults\\bVHub\\src\\FieldDefaults.jl:45\n"
     ]
    },
    {
     "ename": "MethodError",
     "evalue": "MethodError: no method matching VolumeCharge5(::String, ::Int64)\nThe type `VolumeCharge5` exists, but no method is defined for this combination of argument types when trying to construct it.\n\nClosest candidates are:\n  VolumeCharge5(; kwargs...)\n   @ Main C:\\Users\\TCY\\.julia\\packages\\FieldDefaults\\bVHub\\src\\FieldDefaults.jl:40\n",
     "output_type": "error",
     "traceback": [
      "MethodError: no method matching VolumeCharge5(::String, ::Int64)\n",
      "The type `VolumeCharge5` exists, but no method is defined for this combination of argument types when trying to construct it.\n",
      "\n",
      "Closest candidates are:\n",
      "  VolumeCharge5(; kwargs...)\n",
      "   @ Main C:\\Users\\TCY\\.julia\\packages\\FieldDefaults\\bVHub\\src\\FieldDefaults.jl:40\n",
      "\n",
      "\n",
      "Stacktrace:\n",
      " [1] default_kw(::Type{VolumeCharge5}; kwargs::@Kwargs{})\n",
      "   @ FieldDefaults C:\\Users\\TCY\\.julia\\packages\\FieldDefaults\\bVHub\\src\\FieldDefaults.jl:55\n",
      " [2] default_kw(::Type{VolumeCharge5})\n",
      "   @ FieldDefaults C:\\Users\\TCY\\.julia\\packages\\FieldDefaults\\bVHub\\src\\FieldDefaults.jl:55\n",
      " [3] VolumeCharge5(; kwargs::@Kwargs{})\n",
      "   @ Main C:\\Users\\TCY\\.julia\\packages\\FieldDefaults\\bVHub\\src\\FieldDefaults.jl:40\n",
      " [4] top-level scope\n",
      "   @ e:\\Projects.jl\\Training.jl\\2.2 struct\\jl_notebook_cell_df34fa98e69747e1a8f8a730347b8e2f_X25sZmlsZQ==.jl:9"
     ]
    }
   ],
   "source": [
    "@default_kw struct  VolumeCharge5\n",
    "    equal | \"VolumeDensityOfCharge\";\n",
    "    min | 2\n",
    "    function VolumeCharge5()\n",
    "        fnames = fieldnames(Typ)\n",
    "        Typ = new([get_default(VolumeCharge5, Val{f}) for f in fnames]...)     \n",
    "    end \n",
    "end\n",
    "VolumeCharge5()"
   ]
  },
  {
   "cell_type": "code",
   "execution_count": 39,
   "metadata": {},
   "outputs": [
    {
     "ename": "UndefVarError",
     "evalue": "UndefVarError: `coly_rand` not defined in `Main`\nSuggestion: check for spelling errors or missing imports.",
     "output_type": "error",
     "traceback": [
      "UndefVarError: `coly_rand` not defined in `Main`\n",
      "Suggestion: check for spelling errors or missing imports.\n",
      "\n",
      "Stacktrace:\n",
      " [1] top-level scope\n",
      "   @ e:\\Projects.jl\\Training.jl\\2.2 struct\\jl_notebook_cell_df34fa98e69747e1a8f8a730347b8e2f_X26sZmlsZQ==.jl:18"
     ]
    }
   ],
   "source": [
    "@kwdef mutable struct VolumeCharge6\n",
    "    equal :: Int32\n",
    "    y :: Float64\n",
    "    z :: Bool\n",
    "    t :: Int32\n",
    "    u :: Float32\n",
    "    v :: Bool\n",
    "    \n",
    "    function coly_rand(;kwargs...)\n",
    "        K = new()\n",
    "        for (key, value) in kwargs\n",
    "            field_type = typeof(getfield(K,key))\n",
    "            setfield!(K, key, convert(field_type, value))\n",
    "        end\n",
    "        return K\n",
    "    end    \n",
    "end\n",
    "coly_rand(x=2,y=2) # 其他随机"
   ]
  },
  {
   "cell_type": "code",
   "execution_count": 40,
   "metadata": {},
   "outputs": [
    {
     "data": {
      "text/plain": [
       "true"
      ]
     },
     "metadata": {},
     "output_type": "display_data"
    },
    {
     "data": {
      "text/plain": [
       "nothing"
      ]
     },
     "metadata": {},
     "output_type": "display_data"
    },
    {
     "name": "stdout",
     "output_type": "stream",
     "text": [
      "being here\n"
     ]
    },
    {
     "ename": "MethodError",
     "evalue": "MethodError: objects of type Symbol are not callable\nThe object of type `Symbol` exists, but no method is defined for this combination of argument types when trying to treat it as a callable object.",
     "output_type": "error",
     "traceback": [
      "MethodError: objects of type Symbol are not callable\n",
      "The object of type `Symbol` exists, but no method is defined for this combination of argument types when trying to treat it as a callable object.\n",
      "\n",
      "Stacktrace:\n",
      " [1] VolumeCharge()\n",
      "   @ Main e:\\Projects.jl\\Training.jl\\2.2 struct\\jl_notebook_cell_df34fa98e69747e1a8f8a730347b8e2f_X30sZmlsZQ==.jl:7\n",
      " [2] top-level scope\n",
      "   @ e:\\Projects.jl\\Training.jl\\2.2 struct\\jl_notebook_cell_df34fa98e69747e1a8f8a730347b8e2f_X30sZmlsZQ==.jl:10"
     ]
    }
   ],
   "source": [
    "function VolumeCharge()\n",
    "    # Typ = new()\n",
    "    (!hasfield(VolumeCharge, :unit) && hasfield(VolumeCharge, :equal)) |> display\n",
    "    if !hasfield(VolumeCharge, :unit) && hasfield(VolumeCharge, :equal)\n",
    "        println(\"being here\")\n",
    "        get_default(VolumeCharge, Val{:equal}) |> display\n",
    "        return Symbol(get_default(VolumeCharge, Val{:equal}))().unit\n",
    "    end\n",
    "end\n",
    "vc = VolumeCharge()\n"
   ]
  }
 ],
 "metadata": {
  "kernelspec": {
   "display_name": "Julia 1.11.0",
   "language": "julia",
   "name": "julia-1.11"
  },
  "language_info": {
   "file_extension": ".jl",
   "mimetype": "application/julia",
   "name": "julia",
   "version": "1.11.0"
  }
 },
 "nbformat": 4,
 "nbformat_minor": 2
}
