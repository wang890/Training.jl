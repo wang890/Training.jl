{
 "cells": [
  {
   "cell_type": "code",
   "execution_count": 2,
   "metadata": {},
   "outputs": [
    {
     "ename": "ErrorException",
     "evalue": "syntax: \"A::Int64 = 1\" inside type definition is reserved around e:\\JuliaProjects\\Training.jl\\struct\\struct4_default.ipynb:1",
     "output_type": "error",
     "traceback": [
      "syntax: \"A::Int64 = 1\" inside type definition is reserved around e:\\JuliaProjects\\Training.jl\\struct\\struct4_default.ipynb:1\n",
      "\n",
      "Stacktrace:\n",
      " [1] top-level scope\n",
      "   @ e:\\JuliaProjects\\Training.jl\\struct\\struct4_default.ipynb:1"
     ]
    }
   ],
   "source": [
    "struct Hu\n",
    "    A::Int64 = 1\n",
    "end"
   ]
  },
  {
   "cell_type": "code",
   "execution_count": 3,
   "metadata": {},
   "outputs": [
    {
     "ename": "ErrorException",
     "evalue": "syntax: \"a::Int = 1\" inside type definition is reserved around e:\\JuliaProjects\\Training.jl\\struct\\struct4_default.ipynb:1",
     "output_type": "error",
     "traceback": [
      "syntax: \"a::Int = 1\" inside type definition is reserved around e:\\JuliaProjects\\Training.jl\\struct\\struct4_default.ipynb:1\n",
      "\n",
      "Stacktrace:\n",
      " [1] top-level scope\n",
      "   @ e:\\JuliaProjects\\Training.jl\\struct\\struct4_default.ipynb:1"
     ]
    }
   ],
   "source": [
    "struct Foo\n",
    "    a::Int = 1         # specified default\n",
    "    b::String          # required keyword\n",
    "end"
   ]
  },
  {
   "cell_type": "code",
   "execution_count": 1,
   "metadata": {},
   "outputs": [
    {
     "ename": "UndefKeywordError",
     "evalue": "UndefKeywordError: keyword argument `b` not assigned",
     "output_type": "error",
     "traceback": [
      "UndefKeywordError: keyword argument `b` not assigned\n",
      "\n",
      "Stacktrace:\n",
      " [1] Foo()\n",
      "   @ Main e:\\JuliaProjects\\Training.jl\\struct\\struct4_default.ipynb:1\n",
      " [2] top-level scope\n",
      "   @ e:\\JuliaProjects\\Training.jl\\struct\\struct4_default.ipynb:6"
     ]
    }
   ],
   "source": [
    "@kwdef struct Foo\n",
    "    a::Int = 1         # specified default\n",
    "    b::String          # required keyword\n",
    "end\n",
    "Foo(b=\"hi\")\n",
    "Foo()"
   ]
  },
  {
   "cell_type": "code",
   "execution_count": 18,
   "metadata": {},
   "outputs": [
    {
     "data": {
      "text/plain": [
       "A(1, 4, 5)"
      ]
     },
     "metadata": {},
     "output_type": "display_data"
    }
   ],
   "source": [
    "@kwdef struct A\n",
    "    x::Int64 = 1\n",
    "    y::Int64 = 2\n",
    "    z::Int64 = 3\n",
    "end\n",
    "kwargs = (z = 5, y = 4)\n",
    "A(; kwargs...) # 注意是分号\n",
    "\n",
    "# https://docs.julialang.org/en/v1/manual/functions/#Keyword-Arguments-1"
   ]
  },
  {
   "cell_type": "code",
   "execution_count": 5,
   "metadata": {},
   "outputs": [
    {
     "data": {
      "text/plain": [
       "\"VolumeDensityOfCharge\""
      ]
     },
     "metadata": {},
     "output_type": "display_data"
    },
    {
     "data": {
      "text/plain": [
       "\"C/m3\""
      ]
     },
     "metadata": {},
     "output_type": "display_data"
    },
    {
     "data": {
      "text/plain": [
       "1.0 m⁻³ s A"
      ]
     },
     "metadata": {},
     "output_type": "display_data"
    },
    {
     "data": {
      "text/plain": [
       "0"
      ]
     },
     "metadata": {},
     "output_type": "display_data"
    }
   ],
   "source": [
    "using DynamicQuantities\n",
    "\n",
    "# run here，or in ipynb, or in REPL, can not see the default values\n",
    "# 上行注释是什么意思，能看见啊? \n",
    "\n",
    "@kwdef struct  VolumeDensityOfCharge\n",
    "    quantity = \"VolumeDensityOfCharge\"; \n",
    "    unit = \"C/m3\"; \n",
    "    u = u\"C/m^3\"; \n",
    "    min = 0; \n",
    "end\n",
    "vdc = VolumeDensityOfCharge()\n",
    "vdc.quantity|>display\n",
    "vdc.unit |> display\n",
    "vdc.u |> display\n",
    "vdc.min |> display"
   ]
  },
  {
   "cell_type": "markdown",
   "metadata": {},
   "source": [
    "[2018年有人希望有](https://github.com/JuliaLang/julia/pull/27987) 类似allow_undef=true 的性能，但**目前@kwdef未有如下类似功能**\n",
    "```julia\n",
    "@kwdef allow_undef=true mutable struct Foo\n",
    "   x=2\n",
    "   y\n",
    "end\n",
    "Foo()\n",
    "# Foo(2, #undef)"
   ]
  },
  {
   "cell_type": "markdown",
   "metadata": {},
   "source": [
    "https://github.com/mauro3/Parameters.jl"
   ]
  },
  {
   "cell_type": "code",
   "execution_count": 1,
   "metadata": {},
   "outputs": [
    {
     "data": {
      "text/plain": [
       "A\n",
       "  a: Int64 6\n",
       "  b: Float64 -1.1\n",
       "  c: Int64 4\n"
      ]
     },
     "metadata": {},
     "output_type": "display_data"
    },
    {
     "ename": "ErrorException",
     "evalue": "Field 'c' has no default, supply it with keyword.",
     "output_type": "error",
     "traceback": [
      "Field 'c' has no default, supply it with keyword.\n",
      "\n",
      "Stacktrace:\n",
      " [1] error(s::String)\n",
      "   @ Base .\\error.jl:35\n",
      " [2] A()\n",
      "   @ Main C:\\Users\\TCY\\.julia\\packages\\Parameters\\MK0O4\\src\\Parameters.jl:493\n",
      " [3] top-level scope\n",
      "   @ e:\\Projects.jl\\Training.jl\\2.2 struct\\jl_notebook_cell_df34fa98e69747e1a8f8a730347b8e2f_W6sZmlsZQ==.jl:10"
     ]
    }
   ],
   "source": [
    "using Parameters\n",
    "# 作者的介绍Youtube https://www.youtube.com/watch?v=JFrzrTYFYbU\n",
    "\n",
    "@with_kw struct A\n",
    "    a::Int = 6\n",
    "    b::Float64 = -1.1\n",
    "    c::Int\n",
    "end\n",
    "A(c=4) |> display\n",
    "A()"
   ]
  },
  {
   "cell_type": "markdown",
   "metadata": {},
   "source": [
    "[Update on Base.@kwdef versus Parameters.jl](https://discourse.julialang.org/t/update-on-base-kwdef-versus-parameters-jl/95042)\n",
    "\n",
    "As far as I know **Base.@kwdef does not support default types** for the fields of a struct."
   ]
  },
  {
   "cell_type": "code",
   "execution_count": 20,
   "metadata": {},
   "outputs": [
    {
     "data": {
      "text/plain": [
       "Settings\n",
       "  my_float: Float64 2.0\n"
      ]
     },
     "metadata": {},
     "output_type": "display_data"
    }
   ],
   "source": [
    "using Parameters\n",
    "@with_kw mutable struct Settings @deftype Float64\n",
    "    my_float = 2.0\n",
    "end\n",
    "Settings()"
   ]
  },
  {
   "cell_type": "markdown",
   "metadata": {},
   "source": [
    "如下\n",
    "\n",
    "https://github.com/rafaqz/FieldDefaults.jl/blob/master/test/runtests.jl"
   ]
  },
  {
   "cell_type": "code",
   "execution_count": 11,
   "metadata": {},
   "outputs": [],
   "source": [
    "using FieldDefaults\n",
    "using FieldDefaults: get_default\n",
    "using General.Aux"
   ]
  },
  {
   "cell_type": "code",
   "execution_count": 7,
   "metadata": {},
   "outputs": [
    {
     "data": {
      "text/plain": [
       "TestStruct{Int64, Symbol, Symbol}(1, :foo, :bar)"
      ]
     },
     "metadata": {},
     "output_type": "display_data"
    }
   ],
   "source": [
    "@default_kw struct TestStruct{A,B,C}\n",
    "    a::A  | 1\n",
    "    b::B  | :foo\n",
    "    c::C  | :bar\n",
    "end\n",
    "ts = TestStruct()"
   ]
  },
  {
   "cell_type": "code",
   "execution_count": 10,
   "metadata": {},
   "outputs": [
    {
     "data": {
      "text/plain": [
       "1"
      ]
     },
     "metadata": {},
     "output_type": "display_data"
    }
   ],
   "source": [
    "get_default(TestStruct, Val{:a})"
   ]
  },
  {
   "cell_type": "code",
   "execution_count": 17,
   "metadata": {},
   "outputs": [
    {
     "name": "stderr",
     "output_type": "stream",
     "text": [
      "┌ Warning: use values(kwargs) and keys(kwargs) instead of kwargs.data and kwargs.itr\n",
      "│   caller = insert_kwargs at FieldDefaults.jl:45 [inlined]\n",
      "└ @ Core C:\\Users\\TCY\\.julia\\packages\\FieldDefaults\\bVHub\\src\\FieldDefaults.jl:45\n",
      "┌ Warning: use values(kwargs) and keys(kwargs) instead of kwargs.data and kwargs.itr\n",
      "│   caller = insert_kwargs at FieldDefaults.jl:45 [inlined]\n",
      "└ @ Core C:\\Users\\TCY\\.julia\\packages\\FieldDefaults\\bVHub\\src\\FieldDefaults.jl:45\n"
     ]
    },
    {
     "name": "stdout",
     "output_type": "stream",
     "text": [
      "\n",
      "TestStruct, DataType\n",
      "  = TestStruct\n",
      "\n",
      "ts, TestStruct\n",
      "  = TestStruct(1, :foo, :bar)\n"
     ]
    }
   ],
   "source": [
    "@default_kw struct TestStruct\n",
    "    a | 1\n",
    "    b | :foo\n",
    "    c | :bar\n",
    "end\n",
    "ts = TestStruct() # 括号不能少\n",
    "@logt TestStruct ts"
   ]
  }
 ],
 "metadata": {
  "kernelspec": {
   "display_name": "Julia 1.11.0",
   "language": "julia",
   "name": "julia-1.11"
  },
  "language_info": {
   "file_extension": ".jl",
   "mimetype": "application/julia",
   "name": "julia",
   "version": "1.11.0"
  }
 },
 "nbformat": 4,
 "nbformat_minor": 2
}
