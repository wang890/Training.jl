{
 "cells": [
  {
   "cell_type": "code",
   "execution_count": 1,
   "metadata": {},
   "outputs": [
    {
     "data": {
      "text/plain": [
       "Test(1, 2, 3)"
      ]
     },
     "metadata": {},
     "output_type": "display_data"
    }
   ],
   "source": [
    "Base.@kwdef mutable struct Test\n",
    "    a\n",
    "    b\n",
    "    c = 3\n",
    "  end\n",
    "t = Test(a=1, b=2)"
   ]
  },
  {
   "cell_type": "code",
   "execution_count": 2,
   "metadata": {},
   "outputs": [
    {
     "ename": "MethodError",
     "evalue": "MethodError: no method matching fieldnames(::Test)\n\nClosest candidates are:\n  fieldnames(!Matched::Core.TypeofBottom)\n   @ Base reflection.jl:170\n  fieldnames(!Matched::Type{<:Tuple})\n   @ Base reflection.jl:172\n  fieldnames(!Matched::UnionAll)\n   @ Base reflection.jl:169\n  ...\n",
     "output_type": "error",
     "traceback": [
      "MethodError: no method matching fieldnames(::Test)\n",
      "\n",
      "Closest candidates are:\n",
      "  fieldnames(!Matched::Core.TypeofBottom)\n",
      "   @ Base reflection.jl:170\n",
      "  fieldnames(!Matched::Type{<:Tuple})\n",
      "   @ Base reflection.jl:172\n",
      "  fieldnames(!Matched::UnionAll)\n",
      "   @ Base reflection.jl:169\n",
      "  ...\n",
      "\n",
      "\n",
      "Stacktrace:\n",
      " [1] top-level scope\n",
      "   @ e:\\JuliaProjects\\Training.jl\\struct\\struct5_get.ipynb:1"
     ]
    }
   ],
   "source": [
    "t_field = fieldnames(t)"
   ]
  },
  {
   "cell_type": "code",
   "execution_count": 4,
   "metadata": {},
   "outputs": [],
   "source": [
    "using General.Aux"
   ]
  },
  {
   "cell_type": "code",
   "execution_count": 5,
   "metadata": {},
   "outputs": [
    {
     "name": "stdout",
     "output_type": "stream",
     "text": [
      "\n",
      "Test_field, Tuple{Symbol, Symbol, Symbol}\n",
      "  = (:a, :b, :c)\n",
      "\n",
      "Test_property, NTuple{8, Symbol}\n",
      "  = (:name, :super, :parameters, :types, :instance, :layout, :hash, :flags)\n",
      "\n",
      "t_property, Tuple{Symbol, Symbol, Symbol}\n",
      "  = (:a, :b, :c)\n"
     ]
    }
   ],
   "source": [
    "Test_field = fieldnames(Test)\n",
    "\n",
    "Test_property = propertynames(Test)\n",
    "t_property = propertynames(t)\n",
    "\n",
    "@logt Test_field Test_property t_property"
   ]
  },
  {
   "cell_type": "code",
   "execution_count": 3,
   "metadata": {},
   "outputs": [
    {
     "data": {
      "text/plain": [
       "2"
      ]
     },
     "metadata": {},
     "output_type": "display_data"
    },
    {
     "data": {
      "text/plain": [
       "2"
      ]
     },
     "metadata": {},
     "output_type": "display_data"
    },
    {
     "data": {
      "text/plain": [
       "svec()"
      ]
     },
     "metadata": {},
     "output_type": "display_data"
    },
    {
     "data": {
      "text/plain": [
       "svec()"
      ]
     },
     "metadata": {},
     "output_type": "display_data"
    },
    {
     "data": {
      "text/plain": [
       "typename(Test)"
      ]
     },
     "metadata": {},
     "output_type": "display_data"
    },
    {
     "data": {
      "text/plain": [
       "true"
      ]
     },
     "metadata": {},
     "output_type": "display_data"
    },
    {
     "ename": "ErrorException",
     "evalue": "type DataType has no field c",
     "output_type": "error",
     "traceback": [
      "type DataType has no field c\n",
      "\n",
      "Stacktrace:\n",
      " [1] top-level scope\n",
      "   @ e:\\JuliaProjects\\Training.jl\\struct\\struct5_get.ipynb:9"
     ]
    }
   ],
   "source": [
    "getfield(t,:b) |> display\n",
    "t.b |> display\n",
    "\n",
    "getfield(Test,:parameters) |> display\n",
    "Test.parameters |> display\n",
    "Test.name |> display\n",
    "\n",
    "hasfield(Test,:c) |> display  # true\n",
    "getfield(Test,:c) |> display  # 写法上与 Test.c 等同"
   ]
  },
  {
   "cell_type": "code",
   "execution_count": 4,
   "metadata": {},
   "outputs": [
    {
     "data": {
      "text/plain": [
       "(:first, :second)"
      ]
     },
     "metadata": {},
     "output_type": "display_data"
    },
    {
     "data": {
      "text/plain": [
       "(:slots, :keys, :vals, :ndel, :count, :age, :idxfloor, :maxprobe)"
      ]
     },
     "metadata": {},
     "output_type": "display_data"
    },
    {
     "data": {
      "text/plain": [
       "()"
      ]
     },
     "metadata": {},
     "output_type": "display_data"
    },
    {
     "data": {
      "text/plain": [
       "()"
      ]
     },
     "metadata": {},
     "output_type": "display_data"
    },
    {
     "ename": "ArgumentError",
     "evalue": "ArgumentError: type does not have a definite number of fields",
     "output_type": "error",
     "traceback": [
      "ArgumentError: type does not have a definite number of fields\n",
      "\n",
      "Stacktrace:\n",
      " [1] fieldcount\n",
      "   @ .\\reflection.jl:895 [inlined]\n",
      " [2] fieldnames(t::DataType)\n",
      "   @ Base .\\reflection.jl:167\n",
      " [3] top-level scope\n",
      "   @ e:\\JuliaProjects\\Training.jl\\struct\\struct5_get.ipynb:5"
     ]
    }
   ],
   "source": [
    "fieldnames(Pair) |> display # 复合数据\n",
    "fieldnames(Dict) |> display\n",
    "fieldnames(Vector) |> display\n",
    "fieldnames(Int64) |> display\n",
    "fieldnames(Integer) |> display # 抽象的没有"
   ]
  },
  {
   "cell_type": "code",
   "execution_count": 7,
   "metadata": {},
   "outputs": [
    {
     "data": {
      "text/plain": [
       "(:re, :im)"
      ]
     },
     "metadata": {},
     "output_type": "display_data"
    },
    {
     "ename": "MethodError",
     "evalue": "MethodError: no method matching fieldnames(::Complex{Int64})\n\nClosest candidates are:\n  fieldnames(!Matched::Core.TypeofBottom)\n   @ Base reflection.jl:170\n  fieldnames(!Matched::Type{<:Tuple})\n   @ Base reflection.jl:172\n  fieldnames(!Matched::UnionAll)\n   @ Base reflection.jl:169\n  ...\n",
     "output_type": "error",
     "traceback": [
      "MethodError: no method matching fieldnames(::Complex{Int64})\n",
      "\n",
      "Closest candidates are:\n",
      "  fieldnames(!Matched::Core.TypeofBottom)\n",
      "   @ Base reflection.jl:170\n",
      "  fieldnames(!Matched::Type{<:Tuple})\n",
      "   @ Base reflection.jl:172\n",
      "  fieldnames(!Matched::UnionAll)\n",
      "   @ Base reflection.jl:169\n",
      "  ...\n",
      "\n",
      "\n",
      "Stacktrace:\n",
      " [1] top-level scope\n",
      "   @ e:\\JuliaProjects\\Training.jl\\struct\\struct5_get.ipynb:2"
     ]
    }
   ],
   "source": [
    "propertynames(1 + 2im) |> display # 实例有 propertynames\n",
    "fieldnames(1 + 2im) |> display  # 实例没有"
   ]
  },
  {
   "cell_type": "markdown",
   "metadata": {},
   "source": [
    "[**2022年帖子- How to check if field in a structure has defined default value?**](https://discourse.julialang.org/t/how-to-check-if-field-in-a-structure-has-defined-default-value/77449/1)\n",
    "\n",
    "Is there a way to check and find out that field id has default value?\n",
    "有没有办法检查并找出该字段ID是否具有默认值？\n",
    "\n",
    "As an folow up question, is there a way to find out what is this default value?\n",
    "作为后续问题，有没有办法查出这个默认值是多少？\n",
    "\n",
    "```julia\n",
    "Base.@kwdef mutable struct js1\n",
    "    name::String \n",
    "    id::Int32 = 16\n",
    "end\n",
    "```"
   ]
  },
  {
   "cell_type": "code",
   "execution_count": 16,
   "metadata": {},
   "outputs": [
    {
     "data": {
      "text/plain": [
       "Test(0, #undef)"
      ]
     },
     "metadata": {},
     "output_type": "display_data"
    },
    {
     "data": {
      "text/plain": [
       "true"
      ]
     },
     "metadata": {},
     "output_type": "display_data"
    },
    {
     "data": {
      "text/plain": [
       "false"
      ]
     },
     "metadata": {},
     "output_type": "display_data"
    },
    {
     "ename": "UndefRefError",
     "evalue": "UndefRefError: access to undefined reference",
     "output_type": "error",
     "traceback": [
      "UndefRefError: access to undefined reference\n",
      "\n",
      "Stacktrace:\n",
      " [1] getproperty(x::Test, f::Symbol)\n",
      "   @ Base .\\Base.jl:49\n",
      " [2] top-level scope\n",
      "   @ e:\\Projects.jl\\Training.jl\\2.2 struct\\jl_notebook_cell_df34fa98e69747e1a8f8a730347b8e2f_X11sZmlsZQ==.jl:13"
     ]
    }
   ],
   "source": [
    "struct Test\n",
    "    f1\n",
    "    f2\n",
    "    Test() = new(0)\n",
    "end\n",
    "t = Test()\n",
    "t |> display\n",
    "\n",
    "isdefined(t, :f1) |> display\n",
    "# @show isdefined(t, :f2)\n",
    "isdefined(t, :f2) |> display\n",
    "\n",
    "t.f2\n"
   ]
  },
  {
   "cell_type": "code",
   "execution_count": 8,
   "metadata": {},
   "outputs": [
    {
     "data": {
      "text/plain": [
       "Test2(2933098812048, #undef)"
      ]
     },
     "metadata": {},
     "output_type": "display_data"
    },
    {
     "data": {
      "text/plain": [
       "true"
      ]
     },
     "metadata": {},
     "output_type": "display_data"
    },
    {
     "data": {
      "text/plain": [
       "false"
      ]
     },
     "metadata": {},
     "output_type": "display_data"
    },
    {
     "data": {
      "text/plain": [
       "false"
      ]
     },
     "metadata": {},
     "output_type": "display_data"
    }
   ],
   "source": [
    "struct Test2\n",
    "    f1 :: Int\n",
    "    f2 :: Vector{Int}\n",
    "    Test2() = new()\n",
    "end\n",
    "t = Test2()\n",
    "# @show t\n",
    "t |> display\n",
    "\n",
    "# @show isdefined(t, :f1)\n",
    "isdefined(t, :f1) |> display  # 如果有, 也是随机的\n",
    "isdefined(t, :f2) |> display\n",
    "\n",
    "isdefined(Test2, :f1) |> display\n",
    "# This only works with !isbits fields.\n",
    "\n",
    "# 结果, 最后行显示"
   ]
  },
  {
   "cell_type": "markdown",
   "metadata": {},
   "source": [
    "Base.@kwdef is not exported 1 nor documented 2 and can simply disappear between Julia version, use Parameters.jl 13 or a similar package instead.\n",
    "它既没有被导出，也没有被文档化，因此在Julia版本之间使用时可能会消失。建议使用`Parameters.jl`或其他类似的包。\n",
    "\n",
    "I do not believe there is a programmatic way to get which fields have default values. I do believe **Base.@kwdef simply creates the an adequate constructor function, so this information is not stored anywhere.**\n",
    "我不相信有任何程序化的方法可以获取哪些字段有默认值。我确实相信`()`只是创建了一个合适的构造函数，因此这些信息不会被存储在任何地方。"
   ]
  }
 ],
 "metadata": {
  "kernelspec": {
   "display_name": "Julia 1.11.0",
   "language": "julia",
   "name": "julia-1.11"
  },
  "language_info": {
   "file_extension": ".jl",
   "mimetype": "application/julia",
   "name": "julia",
   "version": "1.11.0"
  }
 },
 "nbformat": 4,
 "nbformat_minor": 2
}
