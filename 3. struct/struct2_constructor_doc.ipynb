{
 "cells": [
  {
   "cell_type": "markdown",
   "metadata": {},
   "source": [
    "https://docs.juliacn.com/latest/manual/constructors/<br>\n",
    "Struct 单词之间首字母大学, 不加下横线\n",
    "+ 外部构造\n",
    "+ 内部构造: Struct 内定义**同名函数**, 并得到返回值，函数要使用 **new()**"
   ]
  }
 ],
 "metadata": {
  "kernelspec": {
   "display_name": "Julia 1.11.0",
   "language": "julia",
   "name": "julia-1.11"
  },
  "language_info": {
   "file_extension": ".jl",
   "mimetype": "application/julia",
   "name": "julia",
   "version": "1.11.0"
  }
 },
 "nbformat": 4,
 "nbformat_minor": 2
}
