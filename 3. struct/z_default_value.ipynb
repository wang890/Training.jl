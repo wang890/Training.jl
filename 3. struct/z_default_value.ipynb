{
 "cells": [
  {
   "cell_type": "markdown",
   "metadata": {},
   "source": [
    "help?>zero<br>\n",
    "help?>one"
   ]
  },
  {
   "cell_type": "markdown",
   "metadata": {},
   "source": [
    "[Getting default value for certain DataType in Julia](https://stackoverflow.com/questions/73143053/getting-default-value-for-certain-datatype-in-julia)\n",
    "\n",
    "So, to get results similar to the ones you've mentioned, zero works for numeric types, Date types, etc. zero isn't defined for String type though, for that you use the one method."
   ]
  },
  {
   "cell_type": "code",
   "execution_count": 1,
   "metadata": {},
   "outputs": [
    {
     "data": {
      "text/plain": [
       "0 nanoseconds"
      ]
     },
     "metadata": {},
     "output_type": "display_data"
    },
    {
     "data": {
      "text/plain": [
       "false"
      ]
     },
     "metadata": {},
     "output_type": "display_data"
    },
    {
     "data": {
      "text/plain": [
       "0"
      ]
     },
     "metadata": {},
     "output_type": "display_data"
    },
    {
     "data": {
      "text/plain": [
       "0.0"
      ]
     },
     "metadata": {},
     "output_type": "display_data"
    }
   ],
   "source": [
    "using Dates\n",
    "zero(Dates.Time) |> display\n",
    "zero(Bool) |> display\n",
    "zero(Int) |> display\n",
    "zero(Float64)"
   ]
  },
  {
   "cell_type": "code",
   "execution_count": 5,
   "metadata": {},
   "outputs": [
    {
     "data": {
      "text/plain": [
       "(:value,)"
      ]
     },
     "metadata": {},
     "output_type": "display_data"
    },
    {
     "data": {
      "text/plain": [
       "0"
      ]
     },
     "metadata": {},
     "output_type": "display_data"
    }
   ],
   "source": [
    "zero(Dates.Time) |>propertynames |> display\n",
    "zero(Dates.Time).value |> display"
   ]
  },
  {
   "cell_type": "code",
   "execution_count": 2,
   "metadata": {},
   "outputs": [
    {
     "data": {
      "text/plain": [
       "\"\""
      ]
     },
     "metadata": {},
     "output_type": "display_data"
    },
    {
     "data": {
      "text/plain": [
       "1"
      ]
     },
     "metadata": {},
     "output_type": "display_data"
    },
    {
     "data": {
      "text/plain": [
       "true"
      ]
     },
     "metadata": {},
     "output_type": "display_data"
    }
   ],
   "source": [
    "one(String) |> display\n",
    "one(Int) |>  display\n",
    "one(Bool) |> display"
   ]
  },
  {
   "cell_type": "markdown",
   "metadata": {},
   "source": [
    "The reason is that string concatenation in Julia is done with the * operator, and one is the function in Julia that returns the identity (\"default\") value for *.\n",
    "\n",
    "原因是Julia中字符串连接是用` * `运算符实现的，而` one `是Julia中返回参数默认值（“身份”值）的函数。\n",
    "\n",
    "There's also the oneunit function that's useful in certain scenarios.\n",
    "还有一个名为 ` oneunit ` 的功能，在某些情况下非常有用。"
   ]
  },
  {
   "cell_type": "markdown",
   "metadata": {},
   "source": [
    "Yes, you can use the hasmethod function: hasmethod(zero, Tuple{String}) returns false, and hasmethod(one, Tuple{String}) returns true"
   ]
  },
  {
   "cell_type": "code",
   "execution_count": 3,
   "metadata": {},
   "outputs": [
    {
     "data": {
      "text/plain": [
       "false"
      ]
     },
     "metadata": {},
     "output_type": "display_data"
    },
    {
     "data": {
      "text/plain": [
       "false"
      ]
     },
     "metadata": {},
     "output_type": "display_data"
    },
    {
     "data": {
      "text/plain": [
       "true"
      ]
     },
     "metadata": {},
     "output_type": "display_data"
    },
    {
     "data": {
      "text/plain": [
       "false"
      ]
     },
     "metadata": {},
     "output_type": "display_data"
    }
   ],
   "source": [
    "hasmethod(zero, Tuple{String}) |> display\n",
    "hasmethod(zero, Int) |> display  # ?\n",
    "\n",
    "hasmethod(one, Tuple{String}) |> display\n",
    "hasmethod(one, Int) |> display  # ?"
   ]
  },
  {
   "cell_type": "markdown",
   "metadata": {},
   "source": [
    "there are **no default values for most types in Julia.** Only if a method T() for type T, is there something like that. *zero* is a reasonable surrogate(替代品), but it's not really a default value."
   ]
  }
 ],
 "metadata": {
  "kernelspec": {
   "display_name": "Julia 1.11.0",
   "language": "julia",
   "name": "julia-1.11"
  },
  "language_info": {
   "file_extension": ".jl",
   "mimetype": "application/julia",
   "name": "julia",
   "version": "1.11.0"
  }
 },
 "nbformat": 4,
 "nbformat_minor": 2
}
