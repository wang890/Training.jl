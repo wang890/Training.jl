{
 "cells": [
  {
   "cell_type": "code",
   "execution_count": 1,
   "metadata": {},
   "outputs": [],
   "source": [
    "using DynamicQuantities"
   ]
  },
  {
   "cell_type": "code",
   "execution_count": 2,
   "metadata": {},
   "outputs": [
    {
     "data": {
      "text/plain": [
       "u (generic function with 1 method)"
      ]
     },
     "metadata": {},
     "output_type": "display_data"
    }
   ],
   "source": [
    "function u(Typ)\n",
    "    try\n",
    "        Typ.u\n",
    "    catch\n",
    "        try\n",
    "            Symbol(Typ.equal)().u\n",
    "        catch\n",
    "            @error \"Not Exist\"\n",
    "        end\n",
    "    end\n",
    "end"
   ]
  },
  {
   "cell_type": "code",
   "execution_count": 3,
   "metadata": {},
   "outputs": [
    {
     "data": {
      "text/plain": [
       "VolumeDensityOfCharge"
      ]
     },
     "metadata": {},
     "output_type": "display_data"
    }
   ],
   "source": [
    "@kwdef struct  VolumeDensityOfCharge\n",
    "    quantity = \"VolumeDensityOfCharge\"; \n",
    "    unit = \"C/m3\"; \n",
    "    u = u\"C/m^3\"; \n",
    "    min = 0; \n",
    "end"
   ]
  },
  {
   "cell_type": "code",
   "execution_count": 4,
   "metadata": {},
   "outputs": [
    {
     "data": {
      "text/plain": [
       "VolumeCharge"
      ]
     },
     "metadata": {},
     "output_type": "display_data"
    }
   ],
   "source": [
    "@kwdef struct  VolumeCharge\n",
    "    equal = \"VolumeDensityOfCharge\";\n",
    "end"
   ]
  },
  {
   "cell_type": "code",
   "execution_count": 5,
   "metadata": {},
   "outputs": [
    {
     "ename": "MethodError",
     "evalue": "MethodError: objects of type Symbol are not callable\nThe object of type `Symbol` exists, but no method is defined for this combination of argument types when trying to treat it as a callable object.",
     "output_type": "error",
     "traceback": [
      "MethodError: objects of type Symbol are not callable\n",
      "The object of type `Symbol` exists, but no method is defined for this combination of argument types when trying to treat it as a callable object.\n",
      "\n",
      "Stacktrace:\n",
      " [1] top-level scope\n",
      "   @ e:\\Projects.jl\\Training.jl\\2.2 struct\\jl_notebook_cell_df34fa98e69747e1a8f8a730347b8e2f_W4sZmlsZQ==.jl:1"
     ]
    }
   ],
   "source": [
    "u(Symbol(\"VolumeDensityOfCharge\")()) # 可能需要弄成 macro"
   ]
  }
 ],
 "metadata": {
  "kernelspec": {
   "display_name": "Julia 1.11.0",
   "language": "julia",
   "name": "julia-1.11"
  },
  "language_info": {
   "file_extension": ".jl",
   "mimetype": "application/julia",
   "name": "julia",
   "version": "1.11.0"
  }
 },
 "nbformat": 4,
 "nbformat_minor": 2
}
