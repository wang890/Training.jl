{
 "cells": [
  {
   "cell_type": "markdown",
   "metadata": {},
   "source": [
    "https://blog.csdn.net/kittyzc/article/details/128580081<br>\n",
    "**一般不用Classes.jl**, Julia默认没有这个第三方库. <br>\n",
    "Class.jl的功能, 形成类似其他编程语言的 class"
   ]
  },
  {
   "cell_type": "markdown",
   "metadata": {},
   "source": [
    "https://github.com/rjplevin/Classes.jl?tab=readme-ov-file#classesjl"
   ]
  },
  {
   "cell_type": "code",
   "execution_count": 22,
   "metadata": {},
   "outputs": [
    {
     "data": {
      "text/plain": [
       "Fruit"
      ]
     },
     "metadata": {},
     "output_type": "display_data"
    }
   ],
   "source": [
    "using Classes\n",
    "@class mutable Fruit begin\n",
    "    x::Int\n",
    "    Fruit() = Fruit(0)\n",
    "end"
   ]
  },
  {
   "cell_type": "code",
   "execution_count": 23,
   "metadata": {},
   "outputs": [
    {
     "data": {
      "text/plain": [
       "true"
      ]
     },
     "metadata": {},
     "output_type": "display_data"
    }
   ],
   "source": [
    "Fruit <: AbstractFruit"
   ]
  },
  {
   "cell_type": "code",
   "execution_count": 24,
   "metadata": {},
   "outputs": [
    {
     "data": {
      "text/plain": [
       "eat (generic function with 1 method)"
      ]
     },
     "metadata": {},
     "output_type": "display_data"
    }
   ],
   "source": [
    "function eat(self::AbstractFruit)\n",
    "    println(\"eating \",self.x)\n",
    "end"
   ]
  },
  {
   "cell_type": "code",
   "execution_count": 26,
   "metadata": {},
   "outputs": [
    {
     "data": {
      "text/plain": [
       "DataType"
      ]
     },
     "metadata": {},
     "output_type": "display_data"
    },
    {
     "data": {
      "text/plain": [
       "Fruit"
      ]
     },
     "metadata": {},
     "output_type": "display_data"
    },
    {
     "data": {
      "text/plain": [
       "0"
      ]
     },
     "metadata": {},
     "output_type": "display_data"
    },
    {
     "name": "stdout",
     "output_type": "stream",
     "text": [
      "eating 10\n"
     ]
    },
    {
     "ename": "MethodError",
     "evalue": "MethodError: no method matching eat(::Type{Fruit})\nThe function `eat` exists, but no method is defined for this combination of argument types.\n\nClosest candidates are:\n  eat(!Matched::AbstractFruit)\n   @ Main e:\\Projects.jl\\Training.jl\\2.2 struct\\jl_notebook_cell_df34fa98e69747e1a8f8a730347b8e2f_W4sZmlsZQ==.jl:1\n",
     "output_type": "error",
     "traceback": [
      "MethodError: no method matching eat(::Type{Fruit})\n",
      "The function `eat` exists, but no method is defined for this combination of argument types.\n",
      "\n",
      "Closest candidates are:\n",
      "  eat(!Matched::AbstractFruit)\n",
      "   @ Main e:\\Projects.jl\\Training.jl\\2.2 struct\\jl_notebook_cell_df34fa98e69747e1a8f8a730347b8e2f_W4sZmlsZQ==.jl:1\n",
      "\n",
      "\n",
      "Stacktrace:\n",
      " [1] top-level scope\n",
      "   @ e:\\Projects.jl\\Training.jl\\2.2 struct\\jl_notebook_cell_df34fa98e69747e1a8f8a730347b8e2f_W5sZmlsZQ==.jl:7"
     ]
    }
   ],
   "source": [
    "Fruit |> typeof |> display\n",
    "f = Fruit()\n",
    "f |> typeof |> display\n",
    "f.x |> display\n",
    "f.x = 10\n",
    "eat(f)\n",
    "eat(Fruit)"
   ]
  },
  {
   "cell_type": "code",
   "execution_count": 27,
   "metadata": {},
   "outputs": [],
   "source": [
    "using General.Aux"
   ]
  },
  {
   "cell_type": "code",
   "execution_count": 28,
   "metadata": {},
   "outputs": [],
   "source": [
    "struct Foo\n",
    "    var1\n",
    "    var2\n",
    "    matrix\n",
    "end"
   ]
  },
  {
   "cell_type": "code",
   "execution_count": 29,
   "metadata": {},
   "outputs": [
    {
     "name": "stdout",
     "output_type": "stream",
     "text": [
      "\n",
      "Foo, DataType\n",
      "  = Foo\n",
      "\n",
      "f, Fruit\n",
      "  = Fruit(10)\n"
     ]
    },
    {
     "ename": "MethodError",
     "evalue": "MethodError: no method matching eat(::Type{Foo})\nThe function `eat` exists, but no method is defined for this combination of argument types.\n\nClosest candidates are:\n  eat(!Matched::AbstractFruit)\n   @ Main e:\\Projects.jl\\Training.jl\\2.2 struct\\jl_notebook_cell_df34fa98e69747e1a8f8a730347b8e2f_W4sZmlsZQ==.jl:1\n",
     "output_type": "error",
     "traceback": [
      "MethodError: no method matching eat(::Type{Foo})\n",
      "The function `eat` exists, but no method is defined for this combination of argument types.\n",
      "\n",
      "Closest candidates are:\n",
      "  eat(!Matched::AbstractFruit)\n",
      "   @ Main e:\\Projects.jl\\Training.jl\\2.2 struct\\jl_notebook_cell_df34fa98e69747e1a8f8a730347b8e2f_W4sZmlsZQ==.jl:1\n",
      "\n",
      "\n",
      "Stacktrace:\n",
      " [1] top-level scope\n",
      "   @ e:\\Projects.jl\\Training.jl\\2.2 struct\\jl_notebook_cell_df34fa98e69747e1a8f8a730347b8e2f_X11sZmlsZQ==.jl:2"
     ]
    }
   ],
   "source": [
    "@logt Foo f\n",
    "eat(Foo)"
   ]
  },
  {
   "cell_type": "code",
   "execution_count": 30,
   "metadata": {},
   "outputs": [
    {
     "data": {
      "text/plain": [
       "Foo"
      ]
     },
     "metadata": {},
     "output_type": "display_data"
    }
   ],
   "source": [
    "struct Foo\n",
    "    var1\n",
    "    var2\n",
    "    matrix\n",
    "end\n",
    "\n",
    "Foo(a,b) = Foo(a,b,zeros(a,b))"
   ]
  },
  {
   "cell_type": "code",
   "execution_count": 32,
   "metadata": {},
   "outputs": [
    {
     "name": "stdout",
     "output_type": "stream",
     "text": [
      "\n",
      "foo, DataType\n",
      "  = Foo\n",
      "\n",
      "Foo, DataType\n",
      "  = Foo\n"
     ]
    },
    {
     "ename": "UndefVarError",
     "evalue": "UndefVarError: `a` not defined in `Main`\nSuggestion: check for spelling errors or missing imports.",
     "output_type": "error",
     "traceback": [
      "UndefVarError: `a` not defined in `Main`\n",
      "Suggestion: check for spelling errors or missing imports.\n",
      "\n",
      "Stacktrace:\n",
      " [1] top-level scope\n",
      "   @ e:\\Projects.jl\\Training.jl\\2.2 struct\\jl_notebook_cell_df34fa98e69747e1a8f8a730347b8e2f_X13sZmlsZQ==.jl:5"
     ]
    }
   ],
   "source": [
    "foo = Foo(a,b) = Foo(a,b,zeros(a,b))\n",
    "\n",
    "@logt foo Foo\n",
    "\n",
    "foo2 = Foo(a,b)"
   ]
  },
  {
   "cell_type": "markdown",
   "metadata": {},
   "source": [
    "initialization也可以使用new函数，放在struct内部。\n",
    "\n",
    "有三种方式，第一种是new并放在前面（可变参数）\n",
    "\n",
    "第二种是new并放在后面（重载）\n",
    "\n",
    "第三种是使用@kwdef"
   ]
  },
  {
   "cell_type": "code",
   "execution_count": 34,
   "metadata": {},
   "outputs": [
    {
     "data": {
      "text/plain": [
       "Foo(1, 2, [0.0 0.0])"
      ]
     },
     "metadata": {},
     "output_type": "display_data"
    }
   ],
   "source": [
    "struct Foo\n",
    "    var1\n",
    "    var2\n",
    "    matrix\n",
    "    Foo(a,b,m=zeros(a,b)) = new(a,b,m) # zeros函数,生成0矩阵\n",
    "end\n",
    "Foo(1,2)"
   ]
  },
  {
   "cell_type": "code",
   "execution_count": 35,
   "metadata": {},
   "outputs": [
    {
     "data": {
      "text/plain": [
       "Foo(1, 3, [0.0 0.0 0.0])"
      ]
     },
     "metadata": {},
     "output_type": "display_data"
    }
   ],
   "source": [
    "struct Foo\n",
    "    var1\n",
    "    var2\n",
    "    matrix\n",
    "    Foo(a,b) = new(a,b,zeros(a,b))\n",
    "end\n",
    "Foo(1,3)"
   ]
  },
  {
   "cell_type": "code",
   "execution_count": 37,
   "metadata": {},
   "outputs": [
    {
     "data": {
      "text/plain": [
       "Test(1, 2, 3)"
      ]
     },
     "metadata": {},
     "output_type": "display_data"
    }
   ],
   "source": [
    "Base.@kwdef mutable struct Test  # 初始值情况, 用 @kwdef\n",
    "    a\n",
    "    b\n",
    "    c = 3\n",
    "  end\n",
    "t = Test(a=1, b=2)"
   ]
  },
  {
   "cell_type": "code",
   "execution_count": 41,
   "metadata": {},
   "outputs": [
    {
     "ename": "UndefKeywordError",
     "evalue": "UndefKeywordError: keyword argument `b` not assigned",
     "output_type": "error",
     "traceback": [
      "UndefKeywordError: keyword argument `b` not assigned\n",
      "\n",
      "Stacktrace:\n",
      " [1] top-level scope\n",
      "   @ e:\\Projects.jl\\Training.jl\\2.2 struct\\jl_notebook_cell_df34fa98e69747e1a8f8a730347b8e2f_X21sZmlsZQ==.jl:1"
     ]
    }
   ],
   "source": [
    "t = Test(a=1)"
   ]
  },
  {
   "cell_type": "code",
   "execution_count": 42,
   "metadata": {},
   "outputs": [
    {
     "name": "stdout",
     "output_type": "stream",
     "text": [
      "24\n",
      "52\n"
     ]
    }
   ],
   "source": [
    "# 代码源自 https://www.youtube.com/watch?v=4iGrMBc4sYM\n",
    "struct Prism\n",
    "    length\n",
    "    width\n",
    "    height\n",
    "end\n",
    "\n",
    "function volume(p::Prism)\n",
    "    v = p.length * p.width * p.height\n",
    "end\n",
    "function surface_area(p::Prism)\n",
    "    s1 = p.length * p.width\n",
    "    s2 = p.length * p.height\n",
    "    s3 = p.width * p.height\n",
    "    sa = 2 * (s1+s2+s3)\n",
    "end\n",
    "function main()\n",
    "    p = Prism(2, 3, 4)\n",
    "    println(volume(p))\n",
    "    println(surface_area(p))\n",
    "end\n",
    "main()"
   ]
  },
  {
   "cell_type": "markdown",
   "metadata": {},
   "source": [
    "代码源自 https://www.youtube.com/watch?v=ReCzicADBTk"
   ]
  },
  {
   "cell_type": "code",
   "execution_count": 43,
   "metadata": {},
   "outputs": [
    {
     "ename": "ErrorException",
     "evalue": "syntax: \"f = function Prism()\n    # e:\\Projects.jl\\Training.jl\\2.2 struct\\jl_notebook_cell_df34fa98e69747e1a8f8a730347b8e2f_X24sZmlsZQ==.jl, line 5\n    # e:\\Projects.jl\\Training.jl\\2.2 struct\\jl_notebook_cell_df34fa98e69747e1a8f8a730347b8e2f_X24sZmlsZQ==.jl, line 6\n    new(1, 1, 1)\nend\" inside type definition is reserved around e:\\Projects.jl\\Training.jl\\2.2 struct\\jl_notebook_cell_df34fa98e69747e1a8f8a730347b8e2f_X24sZmlsZQ==.jl:1",
     "output_type": "error",
     "traceback": [
      "syntax: \"f = function Prism()\n",
      "    # e:\\Projects.jl\\Training.jl\\2.2 struct\\jl_notebook_cell_df34fa98e69747e1a8f8a730347b8e2f_X24sZmlsZQ==.jl, line 5\n",
      "    # e:\\Projects.jl\\Training.jl\\2.2 struct\\jl_notebook_cell_df34fa98e69747e1a8f8a730347b8e2f_X24sZmlsZQ==.jl, line 6\n",
      "    new(1, 1, 1)\n",
      "end\" inside type definition is reserved around e:\\Projects.jl\\Training.jl\\2.2 struct\\jl_notebook_cell_df34fa98e69747e1a8f8a730347b8e2f_X24sZmlsZQ==.jl:1\n",
      "\n",
      "Stacktrace:\n",
      " [1] top-level scope\n",
      "   @ e:\\Projects.jl\\Training.jl\\2.2 struct\\jl_notebook_cell_df34fa98e69747e1a8f8a730347b8e2f_X24sZmlsZQ==.jl:1"
     ]
    }
   ],
   "source": [
    "struct Prism\n",
    "    length::Real\n",
    "    width::Real\n",
    "    height::Real\n",
    "    f = function Prism()\n",
    "        new(1,1,1)\n",
    "    end\n",
    "    f |> typeof |> display \n",
    "end"
   ]
  },
  {
   "cell_type": "code",
   "execution_count": 44,
   "metadata": {},
   "outputs": [],
   "source": [
    "using General.Aux"
   ]
  },
  {
   "cell_type": "code",
   "execution_count": 55,
   "metadata": {},
   "outputs": [
    {
     "name": "stdout",
     "output_type": "stream",
     "text": [
      "\n",
      "p2, Prism2\n",
      "  = Prism2(1, 1, 1)\n",
      "\n",
      "p2.length, Int64\n",
      "  = 1\n",
      "1\n",
      "6\n"
     ]
    }
   ],
   "source": [
    "struct Prism2\n",
    "    length::Real\n",
    "    width::Real\n",
    "    height::Real\n",
    "    function Prism2() new(1,1,1) end    \n",
    "end\n",
    "function volume(p::Prism2)\n",
    "    v = p.length * p.width * p.height\n",
    "end\n",
    "function surface_area(p::Prism2)\n",
    "    s1 = p.length * p.width\n",
    "    s2 = p.length * p.height\n",
    "    s3 = p.width * p.height\n",
    "    sa = 2 * (s1+s2+s3)\n",
    "end\n",
    "function main()\n",
    "    p2 = Prism2()\n",
    "    @logt p2 p2.length\n",
    "    println(volume(p2))\n",
    "    println(surface_area(p2))\n",
    "end\n",
    "main()"
   ]
  },
  {
   "cell_type": "code",
   "execution_count": 49,
   "metadata": {},
   "outputs": [
    {
     "ename": "MethodError",
     "evalue": "MethodError: no method matching Prism2(::Int64, ::Int64, ::Int64)\nThe type `Prism2` exists, but no method is defined for this combination of argument types when trying to construct it.\n\nClosest candidates are:\n  Prism2()\n   @ Main e:\\Projects.jl\\Training.jl\\2.2 struct\\jl_notebook_cell_df34fa98e69747e1a8f8a730347b8e2f_X26sZmlsZQ==.jl:5\n",
     "output_type": "error",
     "traceback": [
      "MethodError: no method matching Prism2(::Int64, ::Int64, ::Int64)\n",
      "The type `Prism2` exists, but no method is defined for this combination of argument types when trying to construct it.\n",
      "\n",
      "Closest candidates are:\n",
      "  Prism2()\n",
      "   @ Main e:\\Projects.jl\\Training.jl\\2.2 struct\\jl_notebook_cell_df34fa98e69747e1a8f8a730347b8e2f_X26sZmlsZQ==.jl:5\n",
      "\n",
      "\n",
      "Stacktrace:\n",
      " [1] top-level scope\n",
      "   @ e:\\Projects.jl\\Training.jl\\2.2 struct\\jl_notebook_cell_df34fa98e69747e1a8f8a730347b8e2f_X34sZmlsZQ==.jl:1"
     ]
    }
   ],
   "source": [
    "p2 = Prism2(1,2,3)\n",
    "println(volume(p2))"
   ]
  },
  {
   "cell_type": "code",
   "execution_count": 56,
   "metadata": {},
   "outputs": [
    {
     "name": "stdout",
     "output_type": "stream",
     "text": [
      "\n",
      "p31.height, Int64\n",
      "  = 1\n",
      "\n",
      "p32.height, Int64\n",
      "  = 3\n"
     ]
    }
   ],
   "source": [
    "struct Prism3\n",
    "    length::Real\n",
    "    width::Real\n",
    "    height::Real\n",
    "    function Prism3() new(1,1,1) end\n",
    "    function Prism3(l::Real, w::Real, h::Real)\n",
    "        if l < 0 || w < 0 || h < 0\n",
    "            error(\"Can't have negative value for lengths.\")\n",
    "        elseif w < l\n",
    "            error(\"Can't have shorter width than length.\")\n",
    "        else\n",
    "            new(l,w, h)\n",
    "        end\n",
    "    end    \n",
    "end\n",
    "function volume(p::Prism3)\n",
    "    v = p.length * p.width * p.height\n",
    "end\n",
    "function surface_area(p::Prism3)\n",
    "    s1 = p.length * p.width\n",
    "    s2 = p.length * p.height\n",
    "    s3 = p.width * p.height\n",
    "    sa = 2 * (s1+s2+s3)\n",
    "end\n",
    "function main()\n",
    "    p31 = Prism3()\n",
    "    p32 = Prism3(1,2,3)\n",
    "    # p2 = Prism3(1,2,-3)\n",
    "    @logt p31.height p32.height    \n",
    "end\n",
    "main()"
   ]
  },
  {
   "cell_type": "code",
   "execution_count": 57,
   "metadata": {},
   "outputs": [
    {
     "name": "stdout",
     "output_type": "stream",
     "text": [
      "\n",
      "p41.height, Int64\n",
      "  = 1\n",
      "\n",
      "p42.height, Int64\n",
      "  = 3\n",
      "\n",
      "c.radius, Int64\n",
      "  = 2\n"
     ]
    },
    {
     "ename": "ErrorException",
     "evalue": "setfield!: immutable struct of type Prism4 cannot be changed",
     "output_type": "error",
     "traceback": [
      "setfield!: immutable struct of type Prism4 cannot be changed\n",
      "\n",
      "Stacktrace:\n",
      " [1] setproperty!(x::Prism4, f::Symbol, v::Int64)\n",
      "   @ Base .\\Base.jl:53\n",
      " [2] main()\n",
      "   @ Main e:\\Projects.jl\\Training.jl\\2.2 struct\\jl_notebook_cell_df34fa98e69747e1a8f8a730347b8e2f_X31sZmlsZQ==.jl:40\n",
      " [3] top-level scope\n",
      "   @ e:\\Projects.jl\\Training.jl\\2.2 struct\\jl_notebook_cell_df34fa98e69747e1a8f8a730347b8e2f_X31sZmlsZQ==.jl:42"
     ]
    }
   ],
   "source": [
    "struct Prism4\n",
    "    length::Real\n",
    "    width::Real\n",
    "    height::Real\n",
    "    function Prism4() new(1,1,1) end\n",
    "    function Prism4(l::Real, w::Real, h::Real)\n",
    "        if l < 0 || w < 0 || h < 0\n",
    "            error(\"Can't have negative value for lengths.\")\n",
    "        elseif w < l\n",
    "            error(\"Can't have shorter width than length.\")\n",
    "        else\n",
    "            new(l,w, h)\n",
    "        end\n",
    "    end    \n",
    "end\n",
    "\n",
    "mutable struct Circle\n",
    "    radius\n",
    "end\n",
    "function Circle_const(r::Real)\n",
    "    Circle(r)\n",
    "end\n",
    "\n",
    "function volume(p::Prism)\n",
    "    v = p.length * p.width * p.height\n",
    "end\n",
    "function surface_area(p::Prism)\n",
    "    s1 = p.length * p.width\n",
    "    s2 = p.length * p.height\n",
    "    s3 = p.width * p.height\n",
    "    sa = 2 * (s1+s2+s3)\n",
    "end\n",
    "function main()\n",
    "    p41 = Prism4()\n",
    "    p42 = Prism4(1,2,3)\n",
    "    c= Circle_const(5)\n",
    "    c.radius - 3\n",
    "    c.radius = c.radius - 3 \n",
    "    @logt p41.height p42.height c.radius\n",
    "    p41.length = 6     \n",
    "end\n",
    "main()"
   ]
  }
 ],
 "metadata": {
  "kernelspec": {
   "display_name": "Julia 1.11.0",
   "language": "julia",
   "name": "julia-1.11"
  },
  "language_info": {
   "file_extension": ".jl",
   "mimetype": "application/julia",
   "name": "julia",
   "version": "1.11.0"
  }
 },
 "nbformat": 4,
 "nbformat_minor": 2
}
