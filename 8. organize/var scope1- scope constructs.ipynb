{
 "cells": [
  {
   "cell_type": "markdown",
   "metadata": {},
   "source": [
    "https://docs.juliacn.com/latest/manual/variables-and-scoping/\n",
    "https://docs.julialang.org/en/v1/manual/variables-and-scoping/"
   ]
  },
  {
   "cell_type": "markdown",
   "metadata": {},
   "source": [
    "### 作用域结构\n",
    "https://docs.juliacn.com/latest/manual/variables-and-scoping/#man-scope-table"
   ]
  },
  {
   "cell_type": "markdown",
   "metadata": {},
   "source": [
    "```julia\n",
    "结构\t              作用域类型\t 允许使用在\n",
    "module, baremodule\t 全局\t   全局\n",
    "struct\t             局部（软）\t全局\n",
    "for, while, try\t     局部（软）\tglobal, local\n",
    "macro\t             局部（硬） 全局\n",
    "function， do, let,  局部（硬）\tglobal, local\n",
    "推导式, 生成器         局部（硬） global, local\n",
    "```"
   ]
  },
  {
   "cell_type": "markdown",
   "metadata": {},
   "source": [
    "值得注意的是，这个表内没有的是 `begin` 块和 `if` 块，这两个块不会引进新的作用域块。这两种作用域遵循的规则有点不一样，会在下面解释。<br>\n",
    "\n",
    "Julia **使用词法作用域，也就是说一个函数的作用域不继承自调用了函数的调用者作用域，而继承自该函数定义处作用域**。举例如下，`foo` 中的 `x` 指向模块 `Bar` 的全局作用域中 `x`。"
   ]
  },
  {
   "cell_type": "code",
   "execution_count": 1,
   "metadata": {},
   "outputs": [
    {
     "data": {
      "text/plain": [
       "1"
      ]
     },
     "metadata": {},
     "output_type": "display_data"
    }
   ],
   "source": [
    "module Bar\n",
    "    x = 1\n",
    "    foo() = x\n",
    "end; # 语句后面的分号可以不要\n",
    "\n",
    "import .Bar\n",
    "\n",
    "x = -1;\n",
    "\n",
    "Bar.foo()"
   ]
  }
 ],
 "metadata": {
  "kernelspec": {
   "display_name": "Julia 1.11.0",
   "language": "julia",
   "name": "julia-1.11"
  },
  "language_info": {
   "file_extension": ".jl",
   "mimetype": "application/julia",
   "name": "julia",
   "version": "1.11.0"
  }
 },
 "nbformat": 4,
 "nbformat_minor": 2
}
