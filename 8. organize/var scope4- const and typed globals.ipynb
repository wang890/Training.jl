{
 "cells": [
  {
   "cell_type": "markdown",
   "metadata": {},
   "source": [
    "### const\n",
    "https://docs.juliacn.com/latest/manual/variables-and-scoping/#常量"
   ]
  },
  {
   "cell_type": "code",
   "execution_count": null,
   "metadata": {
    "vscode": {
     "languageId": "plaintext"
    }
   },
   "outputs": [],
   "source": []
  },
  {
   "cell_type": "markdown",
   "metadata": {},
   "source": [
    "### typed globals\n",
    "https://docs.julialang.org/en/v1/manual/variables-and-scoping/#man-typed-globals"
   ]
  },
  {
   "cell_type": "code",
   "execution_count": null,
   "metadata": {
    "vscode": {
     "languageId": "plaintext"
    }
   },
   "outputs": [],
   "source": []
  }
 ],
 "metadata": {
  "language_info": {
   "name": "python"
  }
 },
 "nbformat": 4,
 "nbformat_minor": 2
}
