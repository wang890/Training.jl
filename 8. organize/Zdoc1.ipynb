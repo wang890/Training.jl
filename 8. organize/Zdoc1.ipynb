{
 "cells": [
  {
   "cell_type": "markdown",
   "metadata": {},
   "source": [
    "https://docs.juliacn.com/latest/manual/documentation/<br>\n",
    "使用的是[documenter.jl](https://documenter.juliadocs.org/dev/)"
   ]
  }
 ],
 "metadata": {
  "language_info": {
   "name": "python"
  }
 },
 "nbformat": 4,
 "nbformat_minor": 2
}
