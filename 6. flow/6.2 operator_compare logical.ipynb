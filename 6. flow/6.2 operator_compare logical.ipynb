{
 "cells": [
  {
   "cell_type": "markdown",
   "metadata": {},
   "source": [
    "https://docs.juliacn.com/latest/manual/mathematical-operations/#数值比较<br>\n",
    "compare"
   ]
  },
  {
   "cell_type": "code",
   "execution_count": 14,
   "metadata": {},
   "outputs": [
    {
     "data": {
      "text/plain": [
       "true"
      ]
     },
     "metadata": {},
     "output_type": "display_data"
    },
    {
     "data": {
      "text/plain": [
       "false"
      ]
     },
     "metadata": {},
     "output_type": "display_data"
    },
    {
     "data": {
      "text/plain": [
       "true"
      ]
     },
     "metadata": {},
     "output_type": "display_data"
    }
   ],
   "source": [
    "(1 == 1.0) |> display\n",
    "(1 === 1.0) |> display\n",
    "isequal(1,1.0) |> display"
   ]
  },
  {
   "cell_type": "markdown",
   "metadata": {},
   "source": [
    "https://docs.juliacn.com/latest/manual/control-flow/#短路求值<br>\n",
    "短路求值，其实就是逻辑运算"
   ]
  },
  {
   "cell_type": "code",
   "execution_count": 1,
   "metadata": {},
   "outputs": [
    {
     "ename": "Base.Meta.ParseError",
     "evalue": "ParseError:\n# Error @ e:\\Projects.jl\\Training.jl\\6. flow\\jl_notebook_cell_df34fa98e69747e1a8f8a730347b8e2f_W2sZmlsZQ==.jl:1:5\ntrue and true\n#   └───────┘ ── extra tokens after end of expression",
     "output_type": "error",
     "traceback": [
      "ParseError:\n",
      "# Error @ e:\\Projects.jl\\Training.jl\\6. flow\\jl_notebook_cell_df34fa98e69747e1a8f8a730347b8e2f_W2sZmlsZQ==.jl:1:5\n",
      "true and true\n",
      "#   └───────┘ ── extra tokens after end of expression\n",
      "\n",
      "Stacktrace:\n",
      " [1] top-level scope\n",
      "   @ e:\\Projects.jl\\Training.jl\\6. flow\\jl_notebook_cell_df34fa98e69747e1a8f8a730347b8e2f_W2sZmlsZQ==.jl:1"
     ]
    }
   ],
   "source": [
    "true and true"
   ]
  },
  {
   "cell_type": "code",
   "execution_count": 2,
   "metadata": {},
   "outputs": [
    {
     "data": {
      "text/plain": [
       "true"
      ]
     },
     "metadata": {},
     "output_type": "display_data"
    }
   ],
   "source": [
    "true && true"
   ]
  },
  {
   "cell_type": "code",
   "execution_count": 4,
   "metadata": {},
   "outputs": [
    {
     "data": {
      "text/plain": [
       "true"
      ]
     },
     "metadata": {},
     "output_type": "display_data"
    },
    {
     "ename": "MethodError",
     "evalue": "MethodError: no method matching Bool(::String)\nThe type `Bool` exists, but no method is defined for this combination of argument types when trying to construct it.\n\nClosest candidates are:\n  Bool(!Matched::BigFloat)\n   @ Base mpfr.jl:393\n  Bool(!Matched::Float16)\n   @ Base float.jl:356\n  Bool(!Matched::Rational)\n   @ Base rational.jl:149\n  ...\n",
     "output_type": "error",
     "traceback": [
      "MethodError: no method matching Bool(::String)\n",
      "The type `Bool` exists, but no method is defined for this combination of argument types when trying to construct it.\n",
      "\n",
      "Closest candidates are:\n",
      "  Bool(!Matched::BigFloat)\n",
      "   @ Base mpfr.jl:393\n",
      "  Bool(!Matched::Float16)\n",
      "   @ Base float.jl:356\n",
      "  Bool(!Matched::Rational)\n",
      "   @ Base rational.jl:149\n",
      "  ...\n",
      "\n",
      "\n",
      "Stacktrace:\n",
      " [1] top-level scope\n",
      "   @ e:\\Projects.jl\\Training.jl\\6. flow\\jl_notebook_cell_df34fa98e69747e1a8f8a730347b8e2f_W4sZmlsZQ==.jl:2"
     ]
    }
   ],
   "source": [
    "Bool(1) |> display\n",
    "Bool(\"abc\") |> display"
   ]
  },
  {
   "cell_type": "code",
   "execution_count": 9,
   "metadata": {},
   "outputs": [
    {
     "data": {
      "text/plain": [
       "1"
      ]
     },
     "metadata": {},
     "output_type": "display_data"
    },
    {
     "ename": "TypeError",
     "evalue": "TypeError: non-boolean (Int64) used in boolean context",
     "output_type": "error",
     "traceback": [
      "TypeError: non-boolean (Int64) used in boolean context\n",
      "\n",
      "Stacktrace:\n",
      " [1] top-level scope\n",
      "   @ e:\\Projects.jl\\Training.jl\\6. flow\\jl_notebook_cell_df34fa98e69747e1a8f8a730347b8e2f_W5sZmlsZQ==.jl:2"
     ]
    }
   ],
   "source": [
    "true && 1 |>display\n",
    "(0 && true) |>display"
   ]
  },
  {
   "cell_type": "code",
   "execution_count": 10,
   "metadata": {},
   "outputs": [
    {
     "data": {
      "text/plain": [
       "false"
      ]
     },
     "metadata": {},
     "output_type": "display_data"
    }
   ],
   "source": [
    "(Bool(0) && true) |>display"
   ]
  }
 ],
 "metadata": {
  "kernelspec": {
   "display_name": "Julia 1.11.0",
   "language": "julia",
   "name": "julia-1.11"
  },
  "language_info": {
   "file_extension": ".jl",
   "mimetype": "application/julia",
   "name": "julia",
   "version": "1.11.0"
  }
 },
 "nbformat": 4,
 "nbformat_minor": 2
}
