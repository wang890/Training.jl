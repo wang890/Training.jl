{
 "cells": [
  {
   "cell_type": "markdown",
   "metadata": {},
   "source": [
    "https://docs.juliacn.com/latest/manual/mathematical-operations/<br>\n",
    "+ 本文件仅运算符部分, 初等函数放到 函数章节\n",
    "+ 比较运算符 和 逻辑运算符(其他网页) 都在3.2"
   ]
  }
 ],
 "metadata": {
  "language_info": {
   "name": "python"
  }
 },
 "nbformat": 4,
 "nbformat_minor": 2
}
