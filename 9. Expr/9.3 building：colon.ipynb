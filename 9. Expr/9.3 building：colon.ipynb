{
 "cells": [
  {
   "cell_type": "markdown",
   "metadata": {},
   "source": [
    "https://docs.juliacn.com/latest/manual/metaprogramming/#符号\n"
   ]
  },
  {
   "cell_type": "markdown",
   "metadata": {},
   "source": [
    "+ Symbol: 形式为interned string, 是表达式的一种组成, 用于access to varable. 当表达式被求值时，符号会被替换为这个符号在对应作用域scope中所绑定的值。**Symbol的值,即eval, 为其对应的变量, eval(:x)=x**\n",
    "+ premitive Expr: 由1个可执行的操作符operator和它所需要的符号Symbol或字面量组成, 操作符可以是运算符、函数等\n",
    "+ Expr: 由premitive Expr构成，有可能存在嵌套 "
   ]
  },
  {
   "cell_type": "markdown",
   "metadata": {},
   "source": [
    "**[不用深究 interned string:]((https://en.wikipedia.org/wiki/String_interning))** In computer science, string interning is a method of storing only one copy of each distinct string value, which must be immutable. Interning strings makes some string processing tasks more time-efficient or space-efficient at the cost of requiring more time when the string is created or interned. "
   ]
  },
  {
   "cell_type": "code",
   "execution_count": 2,
   "metadata": {},
   "outputs": [
    {
     "data": {
      "text/plain": [
       "3"
      ]
     },
     "metadata": {},
     "output_type": "display_data"
    }
   ],
   "source": [
    "a = 1 + 2"
   ]
  },
  {
   "cell_type": "code",
   "execution_count": 3,
   "metadata": {},
   "outputs": [
    {
     "data": {
      "text/plain": [
       "Symbol"
      ]
     },
     "metadata": {},
     "output_type": "display_data"
    },
    {
     "data": {
      "text/plain": [
       "Symbol"
      ]
     },
     "metadata": {},
     "output_type": "display_data"
    },
    {
     "data": {
      "text/plain": [
       "Symbol"
      ]
     },
     "metadata": {},
     "output_type": "display_data"
    },
    {
     "data": {
      "text/plain": [
       "Expr"
      ]
     },
     "metadata": {},
     "output_type": "display_data"
    }
   ],
   "source": [
    "a_symbol = :a\n",
    "typeof(:a) |> display\n",
    "a_symbol |> typeof |> display\n",
    "typeof(:(a)) |> display\n",
    "typeof(:(a+0)) |> display"
   ]
  },
  {
   "cell_type": "code",
   "execution_count": 4,
   "metadata": {},
   "outputs": [],
   "source": [
    "using TreeView"
   ]
  },
  {
   "cell_type": "code",
   "execution_count": 19,
   "metadata": {},
   "outputs": [
    {
     "data": {
      "image/svg+xml": [
       "<?xml version=\"1.0\" encoding=\"UTF-8\"?>\n",
       "<svg xmlns=\"http://www.w3.org/2000/svg\" xmlns:xlink=\"http://www.w3.org/1999/xlink\" width=\"40.218\" height=\"40.786\" viewBox=\"0 0 40.218 40.786\">\n",
       "<defs>\n",
       "<g>\n",
       "<g id=\"glyph-1731630588227002--0-0\">\n",
       "<path d=\"M 4.75 -2.984375 C 4.75 -3.328125 4.40625 -3.328125 4.28125 -3.328125 L 2.90625 -3.328125 L 2.90625 -4.734375 C 2.90625 -4.84375 2.90625 -5.1875 2.5625 -5.1875 C 2.21875 -5.1875 2.21875 -4.84375 2.21875 -4.734375 L 2.21875 -3.328125 L 0.828125 -3.328125 C 0.71875 -3.328125 0.375 -3.328125 0.375 -2.984375 C 0.375 -2.640625 0.71875 -2.640625 0.828125 -2.640625 L 2.21875 -2.640625 L 2.21875 -1.25 C 2.21875 -1.140625 2.21875 -0.796875 2.5625 -0.796875 C 2.90625 -0.796875 2.90625 -1.140625 2.90625 -1.25 L 2.90625 -2.640625 L 4.28125 -2.640625 C 4.40625 -2.640625 4.75 -2.640625 4.75 -2.984375 Z M 4.75 -2.984375 \"/>\n",
       "</g>\n",
       "<g id=\"glyph-1731630588227002--0-1\">\n",
       "<path d=\"M 5.0625 -0.296875 C 5.0625 -0.59375 4.828125 -0.59375 4.671875 -0.59375 C 4.265625 -0.59375 4.171875 -0.640625 4.09375 -0.671875 L 4.09375 -2.78125 C 4.09375 -3.484375 3.5625 -4.296875 2.15625 -4.296875 C 1.734375 -4.296875 0.75 -4.296875 0.75 -3.578125 C 0.75 -3.296875 0.953125 -3.140625 1.1875 -3.140625 C 1.328125 -3.140625 1.609375 -3.21875 1.609375 -3.578125 C 1.609375 -3.65625 1.625 -3.671875 1.8125 -3.6875 C 1.953125 -3.703125 2.078125 -3.703125 2.171875 -3.703125 C 2.90625 -3.703125 3.421875 -3.40625 3.421875 -2.703125 C 1.6875 -2.671875 0.484375 -2.1875 0.484375 -1.25 C 0.484375 -0.578125 1.109375 0.0625 2.09375 0.0625 C 2.46875 0.0625 3.0625 -0.015625 3.53125 -0.3125 C 3.734375 -0.015625 4.203125 0 4.578125 0 C 4.859375 0 5.0625 0 5.0625 -0.296875 Z M 3.421875 -1.3125 C 3.421875 -1.078125 3.421875 -0.875 3.03125 -0.703125 C 2.6875 -0.53125 2.25 -0.53125 2.171875 -0.53125 C 1.5625 -0.53125 1.15625 -0.875 1.15625 -1.25 C 1.15625 -1.734375 2 -2.09375 3.421875 -2.125 Z M 3.421875 -1.3125 \"/>\n",
       "</g>\n",
       "<g id=\"glyph-1731630588227002--0-2\">\n",
       "<path d=\"M 4.625 -2.984375 C 4.625 -4.796875 3.640625 -6.078125 2.5625 -6.078125 C 1.46875 -6.078125 0.484375 -4.765625 0.484375 -2.984375 C 0.484375 -1.171875 1.484375 0.109375 2.5625 0.109375 C 3.65625 0.109375 4.625 -1.203125 4.625 -2.984375 Z M 3.953125 -3.09375 C 3.953125 -1.640625 3.328125 -0.484375 2.5625 -0.484375 C 1.796875 -0.484375 1.15625 -1.640625 1.15625 -3.09375 C 1.15625 -4.515625 1.84375 -5.484375 2.5625 -5.484375 C 3.265625 -5.484375 3.953125 -4.515625 3.953125 -3.09375 Z M 3.953125 -3.09375 \"/>\n",
       "</g>\n",
       "</g>\n",
       "</defs>\n",
       "<path fill=\"none\" stroke-width=\"0.3985\" stroke-linecap=\"butt\" stroke-linejoin=\"miter\" stroke=\"rgb(0%, 0%, 0%)\" stroke-opacity=\"1\" stroke-miterlimit=\"10\" d=\"M -3.081099 -6.16497 L -11.097274 -22.19732 \" transform=\"matrix(0.980927, 0, 0, -0.980927, 19.725458, 6.136209)\"/>\n",
       "<path fill=\"none\" stroke-width=\"0.31879\" stroke-linecap=\"round\" stroke-linejoin=\"round\" stroke=\"rgb(0%, 0%, 0%)\" stroke-opacity=\"1\" stroke-miterlimit=\"10\" d=\"M -1.195316 1.593498 C -1.097364 0.996849 0.00152788 0.0991968 0.300741 -0.000543981 C -0.00203596 -0.0984983 -1.09382 -0.996131 -1.195344 -1.594559 \" transform=\"matrix(-0.438641, 0.877302, 0.877302, 0.438641, 8.839426, 27.908273)\"/>\n",
       "<path fill=\"none\" stroke-width=\"0.3985\" stroke-linecap=\"butt\" stroke-linejoin=\"miter\" stroke=\"rgb(0%, 0%, 0%)\" stroke-opacity=\"1\" stroke-miterlimit=\"10\" d=\"M 3.083352 -6.16497 L 10.633609 -21.265485 \" transform=\"matrix(0.980927, 0, 0, -0.980927, 19.725458, 6.136209)\"/>\n",
       "<path fill=\"none\" stroke-width=\"0.31879\" stroke-linecap=\"round\" stroke-linejoin=\"round\" stroke=\"rgb(0%, 0%, 0%)\" stroke-opacity=\"1\" stroke-miterlimit=\"10\" d=\"M -1.196488 1.593021 C -1.094964 0.994593 -0.00139917 0.100522 0.299597 -0.00099408 C 0.000383672 -0.100735 -1.096727 -0.994825 -1.19646 -1.595036 \" transform=\"matrix(0.438641, 0.877302, 0.877302, -0.438641, 30.154613, 26.994539)\"/>\n",
       "<g fill=\"rgb(0%, 0%, 0%)\" fill-opacity=\"1\">\n",
       "<use xlink:href=\"#glyph-1731630588227002--0-0\" x=\"17.160334\" y=\"8.730761\"/>\n",
       "</g>\n",
       "<g fill=\"rgb(0%, 0%, 0%)\" fill-opacity=\"1\">\n",
       "<use xlink:href=\"#glyph-1731630588227002--0-1\" x=\"3.257658\" y=\"36.062325\"/>\n",
       "</g>\n",
       "<g fill=\"rgb(0%, 0%, 0%)\" fill-opacity=\"1\">\n",
       "<use xlink:href=\"#glyph-1731630588227002--0-2\" x=\"31.06301\" y=\"36.927503\"/>\n",
       "</g>\n",
       "</svg>\n",
       "\n"
      ],
      "text/plain": [
       "LabelledTree({3, 2} directed simple Int64 graph, Any[:+, :a, 0])"
      ]
     },
     "metadata": {},
     "output_type": "display_data"
    }
   ],
   "source": [
    "# @tree :a  # TreeView的@tree 和walk_tree()都对 Symbol无效\n",
    "TreeView.walk_tree(:(a+0))"
   ]
  },
  {
   "cell_type": "code",
   "execution_count": 19,
   "metadata": {},
   "outputs": [
    {
     "data": {
      "text/plain": [
       "3"
      ]
     },
     "metadata": {},
     "output_type": "display_data"
    },
    {
     "data": {
      "text/plain": [
       "()"
      ]
     },
     "metadata": {},
     "output_type": "display_data"
    },
    {
     "data": {
      "text/plain": [
       "(:head, :args)"
      ]
     },
     "metadata": {},
     "output_type": "display_data"
    },
    {
     "data": {
      "text/plain": [
       "Any"
      ]
     },
     "metadata": {},
     "output_type": "display_data"
    },
    {
     "data": {
      "text/plain": [
       "Any"
      ]
     },
     "metadata": {},
     "output_type": "display_data"
    }
   ],
   "source": [
    "eval(a_symbol) |> display\n",
    "# Symbol的值,即eval, 为其对应的变量, eval(:x)=x\n",
    "\n",
    "fieldnames(Symbol) |> display\n",
    "fieldnames(Expr) |> display\n",
    "supertype(Symbol) |> display\n",
    "supertype(Expr) |> display"
   ]
  },
  {
   "cell_type": "markdown",
   "metadata": {},
   "source": [
    ": 作为Symbol语法时，符号的名称必须是有效的标识符。<br>\n",
    "否则，必须使用 Symbol(str) 构造函数"
   ]
  },
  {
   "cell_type": "code",
   "execution_count": 22,
   "metadata": {},
   "outputs": [
    {
     "data": {
      "text/plain": [
       "2"
      ]
     },
     "metadata": {},
     "output_type": "display_data"
    },
    {
     "data": {
      "text/plain": [
       "Int64"
      ]
     },
     "metadata": {},
     "output_type": "display_data"
    },
    {
     "data": {
      "text/plain": [
       "Int64"
      ]
     },
     "metadata": {},
     "output_type": "display_data"
    }
   ],
   "source": [
    ":2 |> display  # 不是有效的标识符, 无效\n",
    ":2 |> typeof |> display\n",
    ":(2) |> typeof |> display"
   ]
  },
  {
   "cell_type": "code",
   "execution_count": 10,
   "metadata": {},
   "outputs": [
    {
     "ename": "MethodError",
     "evalue": "MethodError: objects of type Symbol are not callable\nThe object of type `Symbol` exists, but no method is defined for this combination of argument types when trying to treat it as a callable object.",
     "output_type": "error",
     "traceback": [
      "MethodError: objects of type Symbol are not callable\n",
      "The object of type `Symbol` exists, but no method is defined for this combination of argument types when trying to treat it as a callable object.\n",
      "\n",
      "Stacktrace:\n",
      " [1] top-level scope\n",
      "   @ e:\\Projects.jl\\Training.jl\\9. Expr\\jl_notebook_cell_df34fa98e69747e1a8f8a730347b8e2f_X20sZmlsZQ==.jl:1"
     ]
    }
   ],
   "source": [
    ":s(-2)"
   ]
  },
  {
   "cell_type": "code",
   "execution_count": 16,
   "metadata": {},
   "outputs": [
    {
     "data": {
      "text/plain": [
       "Symbol(\"s(-2)\")"
      ]
     },
     "metadata": {},
     "output_type": "display_data"
    },
    {
     "data": {
      "text/plain": [
       "Symbol(\"s(-2)\")"
      ]
     },
     "metadata": {},
     "output_type": "display_data"
    },
    {
     "data": {
      "text/plain": [
       "Symbol(\"s(-2)\")"
      ]
     },
     "metadata": {},
     "output_type": "display_data"
    },
    {
     "data": {
      "text/plain": [
       "Symbol(\"2\")"
      ]
     },
     "metadata": {},
     "output_type": "display_data"
    },
    {
     "data": {
      "text/plain": [
       ":ab"
      ]
     },
     "metadata": {},
     "output_type": "display_data"
    }
   ],
   "source": [
    "Symbol(\"s(\",-2,\")\") |> display\n",
    "Symbol(\"s(-2)\") |> display\n",
    "Symbol(:s,\"(-2)\") |> display\n",
    "\n",
    "Symbol(\"2\") |> display\n",
    "Symbol(\"a\", \"b\") |> display"
   ]
  },
  {
   "cell_type": "code",
   "execution_count": 20,
   "metadata": {},
   "outputs": [
    {
     "data": {
      "text/plain": [
       "2"
      ]
     },
     "metadata": {},
     "output_type": "display_data"
    },
    {
     "data": {
      "text/plain": [
       "Symbol"
      ]
     },
     "metadata": {},
     "output_type": "display_data"
    },
    {
     "data": {
      "text/plain": [
       "Symbol(\"abs(-2)\")"
      ]
     },
     "metadata": {},
     "output_type": "display_data"
    },
    {
     "ename": "UndefVarError",
     "evalue": "UndefVarError: `abs(-2)` not defined in `Main`\nSuggestion: check for spelling errors or missing imports.",
     "output_type": "error",
     "traceback": [
      "UndefVarError: `abs(-2)` not defined in `Main`\n",
      "Suggestion: check for spelling errors or missing imports.\n"
     ]
    }
   ],
   "source": [
    "abs_2 = abs(-2)\n",
    "abs_2 |> display\n",
    "typeof(:abs_2) |> display\n",
    "\n",
    "abs_symbol = Symbol(\"abs(-2)\")\n",
    "abs_symbol |> display\n",
    "eval(abs_symbol)  # Error\n",
    "# 虽然构造了Symbol(\"abs(-2)\")，但不是绝对值函数 abs(-2)"
   ]
  },
  {
   "cell_type": "code",
   "execution_count": 21,
   "metadata": {},
   "outputs": [
    {
     "data": {
      "text/plain": [
       "Expr"
      ]
     },
     "metadata": {},
     "output_type": "display_data"
    },
    {
     "data": {
      "text/plain": [
       ":call"
      ]
     },
     "metadata": {},
     "output_type": "display_data"
    },
    {
     "data": {
      "text/plain": [
       "2-element Vector{Any}:\n",
       "   :abs\n",
       " -2"
      ]
     },
     "metadata": {},
     "output_type": "display_data"
    }
   ],
   "source": [
    "abs_ex = :(abs(-2))\n",
    "typeof(abs_ex) |> display\n",
    "abs_ex.head |> display\n",
    "abs_ex.args |> display"
   ]
  },
  {
   "cell_type": "code",
   "execution_count": 23,
   "metadata": {},
   "outputs": [
    {
     "data": {
      "text/plain": [
       "abs (generic function with 11 methods)"
      ]
     },
     "metadata": {},
     "output_type": "display_data"
    },
    {
     "data": {
      "text/plain": [
       "3"
      ]
     },
     "metadata": {},
     "output_type": "display_data"
    }
   ],
   "source": [
    "eval(:abs) |> display\n",
    "eval(:abs)(-3) |> display"
   ]
  },
  {
   "cell_type": "code",
   "execution_count": 24,
   "metadata": {},
   "outputs": [
    {
     "data": {
      "text/plain": [
       ":(:)"
      ]
     },
     "metadata": {},
     "output_type": "display_data"
    },
    {
     "data": {
      "text/plain": [
       "Symbol"
      ]
     },
     "metadata": {},
     "output_type": "display_data"
    },
    {
     "name": "stdout",
     "output_type": "stream",
     "text": [
      "Symbol :\n"
     ]
    }
   ],
   "source": [
    ":(:) |> display\n",
    ":(:) |> typeof |> display\n",
    "dump(:(:))"
   ]
  },
  {
   "cell_type": "code",
   "execution_count": 25,
   "metadata": {},
   "outputs": [
    {
     "data": {
      "text/plain": [
       ":(::)"
      ]
     },
     "metadata": {},
     "output_type": "display_data"
    },
    {
     "data": {
      "text/plain": [
       "Symbol"
      ]
     },
     "metadata": {},
     "output_type": "display_data"
    },
    {
     "name": "stdout",
     "output_type": "stream",
     "text": [
      "Symbol ::\n"
     ]
    }
   ],
   "source": [
    ":(::) |> display\n",
    ":(::) |> typeof |> display\n",
    "dump(:(::))\n"
   ]
  },
  {
   "cell_type": "markdown",
   "metadata": {},
   "source": [
    "https://riptutorial.com/julia-lang/example/26313/guide"
   ]
  },
  {
   "cell_type": "code",
   "execution_count": null,
   "metadata": {},
   "outputs": [
    {
     "data": {
      "text/plain": [
       ":myName"
      ]
     },
     "metadata": {},
     "output_type": "display_data"
    },
    {
     "data": {
      "text/plain": [
       "42"
      ]
     },
     "metadata": {},
     "output_type": "display_data"
    }
   ],
   "source": [
    "myName = 42\n",
    "mySymbol = Symbol(\"myName\")\n",
    "\n",
    "mySymbol |> display\n",
    "eval(mySymbol) |> display"
   ]
  },
  {
   "cell_type": "code",
   "execution_count": null,
   "metadata": {},
   "outputs": [
    {
     "data": {
      "text/plain": [
       ":(myName = 1)"
      ]
     },
     "metadata": {},
     "output_type": "display_data"
    },
    {
     "name": "stdout",
     "output_type": "stream",
     "text": [
      "myName = 1\n"
     ]
    },
    {
     "data": {
      "text/plain": [
       "1"
      ]
     },
     "metadata": {},
     "output_type": "display_data"
    }
   ],
   "source": [
    ":($mySymbol = 1 ) |> display\n",
    ":($mySymbol = 1 ) |> eval\n",
    "@show myName"
   ]
  },
  {
   "cell_type": "code",
   "execution_count": 4,
   "metadata": {},
   "outputs": [
    {
     "name": "stdout",
     "output_type": "stream",
     "text": [
      "did thing one\n",
      "did thing two\n"
     ]
    }
   ],
   "source": [
    "function dothing(flag)\n",
    "    if flag == :thing_one\n",
    "      println(\"did thing one\")\n",
    "    elseif flag == :thing_two\n",
    "      println(\"did thing two\")\n",
    "    end\n",
    "end\n",
    "\n",
    "dothing(:thing_one)\n",
    "dothing(:thing_two)"
   ]
  },
  {
   "cell_type": "code",
   "execution_count": 6,
   "metadata": {},
   "outputs": [
    {
     "data": {
      "text/plain": [
       "Dict{Symbol, Int64} with 3 entries:\n",
       "  :six => 6\n",
       "  :two => 2\n",
       "  :one => 1"
      ]
     },
     "metadata": {},
     "output_type": "display_data"
    }
   ],
   "source": [
    "number_names = Dict{Symbol, Int}()\n",
    "number_names[:one] = 1\n",
    "number_names[:two] = 2\n",
    "number_names[:six] = 6\n",
    "number_names"
   ]
  },
  {
   "cell_type": "code",
   "execution_count": 10,
   "metadata": {},
   "outputs": [
    {
     "ename": "ErrorException",
     "evalue": "syntax: invalid assignment location \":mySymbol2\" around e:\\Projects.jl\\Training.jl\\9. Expr\\jl_notebook_cell_df34fa98e69747e1a8f8a730347b8e2f_X56sZmlsZQ==.jl:1",
     "output_type": "error",
     "traceback": [
      "syntax: invalid assignment location \":mySymbol2\" around e:\\Projects.jl\\Training.jl\\9. Expr\\jl_notebook_cell_df34fa98e69747e1a8f8a730347b8e2f_X56sZmlsZQ==.jl:1\n",
      "\n",
      "Stacktrace:\n",
      " [1] top-level scope\n",
      "   @ e:\\Projects.jl\\Training.jl\\9. Expr\\jl_notebook_cell_df34fa98e69747e1a8f8a730347b8e2f_X56sZmlsZQ==.jl:1"
     ]
    }
   ],
   "source": [
    ":mySymbol2 = Symbol(\"hello world\") # 不能这样赋值"
   ]
  },
  {
   "cell_type": "markdown",
   "metadata": {},
   "source": [
    "Julia中 : 有两个作用\n",
    "+ 构造 Symbol 实例\n",
    "+ 构造 Expr 实例: 后面跟着包围着单个 Julia语句括号\n",
    "<br><br>\n",
    "\n",
    "`:(foo)`:\n",
    "+ 如果`foo`是字面量，产生字面量\n",
    "+ 如果是有效的标识符，产生符号Symbol，否则是一个表达式Expr。"
   ]
  },
  {
   "cell_type": "code",
   "execution_count": 38,
   "metadata": {},
   "outputs": [
    {
     "data": {
      "text/plain": [
       "Symbol"
      ]
     },
     "metadata": {},
     "output_type": "display_data"
    },
    {
     "data": {
      "text/plain": [
       ":a"
      ]
     },
     "metadata": {},
     "output_type": "display_data"
    },
    {
     "data": {
      "text/plain": [
       "Int64"
      ]
     },
     "metadata": {},
     "output_type": "display_data"
    },
    {
     "data": {
      "text/plain": [
       "2"
      ]
     },
     "metadata": {},
     "output_type": "display_data"
    },
    {
     "data": {
      "text/plain": [
       "Expr"
      ]
     },
     "metadata": {},
     "output_type": "display_data"
    }
   ],
   "source": [
    ":(a) |> typeof |> display\n",
    ":(a) |> display\n",
    "\n",
    ":(2) |> typeof |> display\n",
    ":(2) |> display\n",
    "\n",
    ":(1 + 1) |> typeof |> display"
   ]
  },
  {
   "cell_type": "code",
   "execution_count": 31,
   "metadata": {},
   "outputs": [],
   "source": [
    "using General.Aux"
   ]
  },
  {
   "cell_type": "code",
   "execution_count": 34,
   "metadata": {},
   "outputs": [
    {
     "data": {
      "text/plain": [
       ":(a + 1)"
      ]
     },
     "metadata": {},
     "output_type": "display_data"
    },
    {
     "data": {
      "text/plain": [
       "Symbol"
      ]
     },
     "metadata": {},
     "output_type": "display_data"
    },
    {
     "name": "stdout",
     "output_type": "stream",
     "text": [
      "\n",
      "colon_ex, Expr\n",
      "  = a + 1\n"
     ]
    }
   ],
   "source": [
    "colon_ex = :(a + 1)\n",
    "\n",
    "colon_ex |> display\n",
    "typeof(:colon_ex) |> display\n",
    "@logt colon_ex\n"
   ]
  },
  {
   "cell_type": "code",
   "execution_count": 36,
   "metadata": {},
   "outputs": [
    {
     "data": {
      "text/plain": [
       ":(a + 1)"
      ]
     },
     "metadata": {},
     "output_type": "display_data"
    },
    {
     "data": {
      "text/plain": [
       "2"
      ]
     },
     "metadata": {},
     "output_type": "display_data"
    },
    {
     "data": {
      "text/plain": [
       "2"
      ]
     },
     "metadata": {},
     "output_type": "display_data"
    },
    {
     "data": {
      "text/plain": [
       "Expr"
      ]
     },
     "metadata": {},
     "output_type": "display_data"
    }
   ],
   "source": [
    "a = 1\n",
    "eval(:colon_ex) |> display \n",
    "eval(colon_ex)|> display\n",
    "eval(:(1 + 1)) |> display\n",
    "typeof(:(1 + 1)) |> display"
   ]
  },
  {
   "cell_type": "code",
   "execution_count": 39,
   "metadata": {},
   "outputs": [
    {
     "name": "stdout",
     "output_type": "stream",
     "text": [
      "(:call, :+, :a, 1)"
     ]
    }
   ],
   "source": [
    "Meta.show_sexpr(colon_ex)"
   ]
  },
  {
   "cell_type": "code",
   "execution_count": 49,
   "metadata": {},
   "outputs": [
    {
     "name": "stdout",
     "output_type": "stream",
     "text": [
      "Expr\n",
      "  head: Symbol call\n",
      "  args: Array{Any}((3,))\n",
      "    1: Symbol add\n",
      "    2: Int64 2\n",
      "    3: Int64 3\n"
     ]
    }
   ],
   "source": [
    "function add(x,y)\n",
    "    x + y\n",
    "end\n",
    "add23 = add(2,3)\n",
    "dump(:(add(2,3)))"
   ]
  },
  {
   "cell_type": "code",
   "execution_count": 53,
   "metadata": {},
   "outputs": [
    {
     "data": {
      "text/plain": [
       "\"Pass\""
      ]
     },
     "metadata": {},
     "output_type": "display_data"
    }
   ],
   "source": [
    "score=78\n",
    "conclusion=\"\"\n",
    "if score > 60\n",
    "    conclusion=\"Pass\"\n",
    "else\n",
    "    conclusion=\"Exam Again\"\n",
    "end\n",
    "conclusion"
   ]
  },
  {
   "cell_type": "code",
   "execution_count": 109,
   "metadata": {},
   "outputs": [
    {
     "data": {
      "text/plain": [
       "quote\n",
       "    \u001b[90m#= e:\\Projects.jl\\Training.jl\\9. Expr\\jl_notebook_cell_df34fa98e69747e1a8f8a730347b8e2f_X50sZmlsZQ==.jl:3 =#\u001b[39m\n",
       "    score = 78\n",
       "    \u001b[90m#= e:\\Projects.jl\\Training.jl\\9. Expr\\jl_notebook_cell_df34fa98e69747e1a8f8a730347b8e2f_X50sZmlsZQ==.jl:4 =#\u001b[39m\n",
       "    conclusion = \"\"\n",
       "    \u001b[90m#= e:\\Projects.jl\\Training.jl\\9. Expr\\jl_notebook_cell_df34fa98e69747e1a8f8a730347b8e2f_X50sZmlsZQ==.jl:5 =#\u001b[39m\n",
       "    if score > 60\n",
       "        \u001b[90m#= e:\\Projects.jl\\Training.jl\\9. Expr\\jl_notebook_cell_df34fa98e69747e1a8f8a730347b8e2f_X50sZmlsZQ==.jl:6 =#\u001b[39m\n",
       "        conclusion = \"Pass\"\n",
       "    else\n",
       "        \u001b[90m#= e:\\Projects.jl\\Training.jl\\9. Expr\\jl_notebook_cell_df34fa98e69747e1a8f8a730347b8e2f_X50sZmlsZQ==.jl:8 =#\u001b[39m\n",
       "        conclusion = \"Exam Again\"\n",
       "    end\n",
       "    \u001b[90m#= e:\\Projects.jl\\Training.jl\\9. Expr\\jl_notebook_cell_df34fa98e69747e1a8f8a730347b8e2f_X50sZmlsZQ==.jl:10 =#\u001b[39m\n",
       "    conclusion\n",
       "end"
      ]
     },
     "metadata": {},
     "output_type": "display_data"
    }
   ],
   "source": [
    "colon_block_ex = :(\n",
    "begin\n",
    "    score=78\n",
    "    conclusion=\"\"\n",
    "    if score > 60\n",
    "        conclusion=\"Pass\"\n",
    "    else\n",
    "        conclusion=\"Exam Again\"\n",
    "    end\n",
    "    conclusion\n",
    "end\n",
    ")"
   ]
  },
  {
   "cell_type": "code",
   "execution_count": 115,
   "metadata": {},
   "outputs": [
    {
     "data": {
      "image/svg+xml": [
       "<?xml version=\"1.0\" encoding=\"UTF-8\"?>\n",
       "<svg xmlns=\"http://www.w3.org/2000/svg\" xmlns:xlink=\"http://www.w3.org/1999/xlink\" width=\"336.202\" height=\"127.344\" viewBox=\"0 0 336.202 127.344\">\n",
       "<defs>\n",
       "<g>\n",
       "<g id=\"glyph-1731630588227008--0-0\">\n",
       "<path d=\"M 4.828125 -2.140625 C 4.828125 -3.359375 3.953125 -4.328125 2.90625 -4.328125 C 2.421875 -4.328125 1.984375 -4.15625 1.640625 -3.84375 L 1.640625 -5.640625 C 1.640625 -5.953125 1.578125 -6.046875 1.25 -6.046875 L 0.53125 -6.046875 C 0.359375 -6.046875 0.125 -6.046875 0.125 -5.75 C 0.125 -5.453125 0.375 -5.453125 0.515625 -5.453125 L 0.953125 -5.453125 L 0.953125 -0.40625 C 0.953125 -0.203125 0.953125 0 1.3125 0 C 1.640625 0 1.640625 -0.203125 1.640625 -0.453125 C 2.046875 -0.03125 2.484375 0.0625 2.796875 0.0625 C 3.875 0.0625 4.828125 -0.875 4.828125 -2.140625 Z M 4.15625 -2.140625 C 4.15625 -1.1875 3.453125 -0.546875 2.765625 -0.546875 C 1.984375 -0.546875 1.640625 -1.421875 1.640625 -1.890625 L 1.640625 -2.609375 C 1.640625 -3.203125 2.21875 -3.71875 2.84375 -3.71875 C 3.578125 -3.71875 4.15625 -3 4.15625 -2.140625 Z M 4.15625 -2.140625 \"/>\n",
       "</g>\n",
       "<g id=\"glyph-1731630588227008--0-1\">\n",
       "<path d=\"M 4.625 -0.296875 C 4.625 -0.609375 4.390625 -0.609375 4.234375 -0.609375 L 2.9375 -0.609375 L 2.9375 -5.640625 C 2.9375 -5.953125 2.875 -6.046875 2.546875 -6.046875 L 0.984375 -6.046875 C 0.828125 -6.046875 0.578125 -6.046875 0.578125 -5.75 C 0.578125 -5.453125 0.828125 -5.453125 0.96875 -5.453125 L 2.265625 -5.453125 L 2.265625 -0.609375 L 0.984375 -0.609375 C 0.828125 -0.609375 0.578125 -0.609375 0.578125 -0.296875 C 0.578125 0 0.828125 0 0.96875 0 L 4.234375 0 C 4.375 0 4.625 0 4.625 -0.296875 Z M 4.625 -0.296875 \"/>\n",
       "</g>\n",
       "<g id=\"glyph-1731630588227008--0-2\">\n",
       "<path d=\"M 4.625 -2.140625 C 4.625 -3.375 3.703125 -4.359375 2.59375 -4.359375 C 1.484375 -4.359375 0.5625 -3.375 0.5625 -2.140625 C 0.5625 -0.875 1.5 0.0625 2.59375 0.0625 C 3.6875 0.0625 4.625 -0.890625 4.625 -2.140625 Z M 3.9375 -2.203125 C 3.9375 -1.28125 3.328125 -0.546875 2.59375 -0.546875 C 1.859375 -0.546875 1.25 -1.28125 1.25 -2.203125 C 1.25 -3.109375 1.890625 -3.75 2.59375 -3.75 C 3.3125 -3.75 3.9375 -3.109375 3.9375 -2.203125 Z M 3.9375 -2.203125 \"/>\n",
       "</g>\n",
       "<g id=\"glyph-1731630588227008--0-3\">\n",
       "<path d=\"M 4.609375 -1.078125 C 4.609375 -1.359375 4.328125 -1.359375 4.265625 -1.359375 C 4.109375 -1.359375 4.015625 -1.34375 3.9375 -1.140625 C 3.890625 -1.015625 3.6875 -0.546875 2.96875 -0.546875 C 2.125 -0.546875 1.40625 -1.234375 1.40625 -2.140625 C 1.40625 -2.609375 1.6875 -3.75 3.015625 -3.75 C 3.234375 -3.75 3.609375 -3.75 3.609375 -3.671875 C 3.625 -3.3125 3.8125 -3.1875 4.046875 -3.1875 C 4.296875 -3.1875 4.5 -3.34375 4.5 -3.640625 C 4.5 -4.359375 3.46875 -4.359375 3.015625 -4.359375 C 1.3125 -4.359375 0.71875 -3.015625 0.71875 -2.140625 C 0.71875 -0.953125 1.65625 0.0625 2.90625 0.0625 C 4.28125 0.0625 4.609375 -0.90625 4.609375 -1.078125 Z M 4.609375 -1.078125 \"/>\n",
       "</g>\n",
       "<g id=\"glyph-1731630588227008--0-4\">\n",
       "<path d=\"M 5.03125 -0.296875 C 5.03125 -0.609375 4.78125 -0.609375 4.625 -0.609375 L 4.3125 -0.609375 L 2.84375 -2.53125 L 4.0625 -3.671875 L 4.40625 -3.671875 C 4.5625 -3.671875 4.8125 -3.671875 4.8125 -3.96875 C 4.8125 -4.265625 4.5625 -4.265625 4.40625 -4.265625 L 2.875 -4.265625 C 2.71875 -4.265625 2.484375 -4.265625 2.484375 -3.96875 C 2.484375 -3.671875 2.734375 -3.671875 2.875 -3.671875 L 3.25 -3.671875 L 1.640625 -2.15625 L 1.640625 -5.640625 C 1.640625 -5.953125 1.578125 -6.046875 1.25 -6.046875 L 0.609375 -6.046875 C 0.453125 -6.046875 0.203125 -6.046875 0.203125 -5.75 C 0.203125 -5.453125 0.453125 -5.453125 0.609375 -5.453125 L 1.09375 -5.453125 L 1.09375 -0.609375 L 0.609375 -0.609375 C 0.453125 -0.609375 0.203125 -0.609375 0.203125 -0.3125 C 0.203125 0 0.453125 0 0.609375 0 L 2.125 0 C 2.28125 0 2.53125 0 2.53125 -0.296875 C 2.53125 -0.609375 2.28125 -0.609375 2.125 -0.609375 L 1.640625 -0.609375 L 1.640625 -1.40625 L 2.4375 -2.140625 L 3.609375 -0.609375 C 3.265625 -0.609375 3.0625 -0.609375 3.0625 -0.296875 C 3.0625 0 3.3125 0 3.453125 0 L 4.625 0 C 4.78125 0 5.03125 0 5.03125 -0.296875 Z M 5.03125 -0.296875 \"/>\n",
       "</g>\n",
       "<g id=\"glyph-1731630588227008--0-5\">\n",
       "<path d=\"M 4.8125 -3.78125 C 4.8125 -4.125 4.453125 -4.125 4.3125 -4.125 L 0.875 -4.125 C 0.75 -4.125 0.375 -4.125 0.375 -3.78125 C 0.375 -3.4375 0.703125 -3.4375 0.828125 -3.4375 L 4.375 -3.4375 C 4.484375 -3.4375 4.8125 -3.4375 4.8125 -3.78125 Z M 4.8125 -2.28125 C 4.8125 -2.625 4.484375 -2.625 4.375 -2.625 L 0.828125 -2.625 C 0.703125 -2.625 0.375 -2.625 0.375 -2.28125 C 0.375 -1.9375 0.75 -1.9375 0.875 -1.9375 L 4.3125 -1.9375 C 4.453125 -1.9375 4.8125 -1.9375 4.8125 -2.28125 Z M 4.8125 -2.28125 \"/>\n",
       "</g>\n",
       "<g id=\"glyph-1731630588227008--0-6\">\n",
       "<path d=\"M 4.546875 -1.234375 C 4.546875 -2.265625 3.265625 -2.484375 2.953125 -2.53125 L 2.28125 -2.640625 C 1.984375 -2.6875 1.3125 -2.796875 1.3125 -3.1875 C 1.3125 -3.453125 1.640625 -3.75 2.578125 -3.75 C 3.390625 -3.75 3.53125 -3.453125 3.5625 -3.203125 C 3.578125 -3.03125 3.59375 -2.859375 3.90625 -2.859375 C 4.25 -2.859375 4.25 -3.078125 4.25 -3.265625 L 4.25 -3.953125 C 4.25 -4.109375 4.25 -4.359375 3.953125 -4.359375 C 3.71875 -4.359375 3.671875 -4.21875 3.65625 -4.15625 C 3.21875 -4.359375 2.78125 -4.359375 2.59375 -4.359375 C 0.9375 -4.359375 0.71875 -3.546875 0.71875 -3.1875 C 0.71875 -2.28125 1.75 -2.109375 2.671875 -1.96875 C 3.15625 -1.890625 3.9375 -1.765625 3.9375 -1.234375 C 3.9375 -0.875 3.578125 -0.546875 2.671875 -0.546875 C 2.203125 -0.546875 1.65625 -0.65625 1.40625 -1.421875 C 1.359375 -1.609375 1.3125 -1.71875 1.0625 -1.71875 C 0.71875 -1.71875 0.71875 -1.5 0.71875 -1.3125 L 0.71875 -0.34375 C 0.71875 -0.1875 0.71875 0.0625 1.015625 0.0625 C 1.09375 0.0625 1.265625 0.046875 1.375 -0.3125 C 1.859375 0.046875 2.390625 0.0625 2.671875 0.0625 C 4.234375 0.0625 4.546875 -0.765625 4.546875 -1.234375 Z M 4.546875 -1.234375 \"/>\n",
       "</g>\n",
       "<g id=\"glyph-1731630588227008--0-7\">\n",
       "<path d=\"M 4.828125 -3.71875 C 4.828125 -3.90625 4.703125 -4.328125 3.890625 -4.328125 C 3.375 -4.328125 2.75 -4.15625 2.203125 -3.53125 L 2.203125 -3.859375 C 2.203125 -4.171875 2.140625 -4.265625 1.796875 -4.265625 L 0.71875 -4.265625 C 0.5625 -4.265625 0.3125 -4.265625 0.3125 -3.96875 C 0.3125 -3.671875 0.5625 -3.671875 0.71875 -3.671875 L 1.515625 -3.671875 L 1.515625 -0.609375 L 0.71875 -0.609375 C 0.5625 -0.609375 0.3125 -0.609375 0.3125 -0.3125 C 0.3125 0 0.5625 0 0.71875 0 L 3.296875 0 C 3.453125 0 3.703125 0 3.703125 -0.296875 C 3.703125 -0.609375 3.453125 -0.609375 3.296875 -0.609375 L 2.203125 -0.609375 L 2.203125 -1.84375 C 2.203125 -2.78125 2.78125 -3.71875 3.984375 -3.71875 C 4 -3.484375 4.15625 -3.28125 4.40625 -3.28125 C 4.625 -3.28125 4.828125 -3.453125 4.828125 -3.71875 Z M 4.828125 -3.71875 \"/>\n",
       "</g>\n",
       "<g id=\"glyph-1731630588227008--0-8\">\n",
       "<path d=\"M 4.59375 -1.078125 C 4.59375 -1.359375 4.3125 -1.359375 4.25 -1.359375 C 4.078125 -1.359375 4 -1.328125 3.921875 -1.140625 C 3.703125 -0.640625 3.171875 -0.546875 2.890625 -0.546875 C 2.15625 -0.546875 1.40625 -1.046875 1.25 -1.890625 L 4.203125 -1.890625 C 4.40625 -1.890625 4.59375 -1.890625 4.59375 -2.265625 C 4.59375 -3.390625 3.96875 -4.359375 2.671875 -4.359375 C 1.5 -4.359375 0.546875 -3.375 0.546875 -2.15625 C 0.546875 -0.9375 1.546875 0.0625 2.828125 0.0625 C 4.125 0.0625 4.59375 -0.828125 4.59375 -1.078125 Z M 3.890625 -2.484375 L 1.265625 -2.484375 C 1.390625 -3.203125 1.984375 -3.75 2.671875 -3.75 C 3.1875 -3.75 3.796875 -3.5 3.890625 -2.484375 Z M 3.890625 -2.484375 \"/>\n",
       "</g>\n",
       "<g id=\"glyph-1731630588227008--0-9\">\n",
       "<path d=\"M 4.75 -5.75 C 4.75 -6.046875 4.515625 -6.046875 4.359375 -6.046875 L 1.09375 -6.046875 C 1.03125 -6.21875 0.859375 -6.21875 0.765625 -6.21875 C 0.4375 -6.21875 0.4375 -6 0.4375 -5.8125 L 0.4375 -5.390625 C 0.4375 -5.203125 0.4375 -4.984375 0.765625 -4.984375 C 1.125 -4.984375 1.125 -5.171875 1.125 -5.453125 L 3.734375 -5.453125 C 2.015625 -3.625 1.6875 -1.453125 1.6875 -0.359375 C 1.6875 -0.21875 1.6875 0.109375 2.03125 0.109375 C 2.203125 0.109375 2.375 0 2.375 -0.28125 C 2.421875 -3.09375 3.9375 -4.828125 4.53125 -5.40625 C 4.734375 -5.59375 4.75 -5.609375 4.75 -5.75 Z M 4.75 -5.75 \"/>\n",
       "</g>\n",
       "<g id=\"glyph-1731630588227008--0-10\">\n",
       "<path d=\"M 4.75 -1.71875 C 4.75 -2.46875 4.109375 -3.046875 3.375 -3.265625 C 4.171875 -3.53125 4.609375 -4.015625 4.609375 -4.578125 C 4.609375 -5.390625 3.78125 -6.15625 2.59375 -6.15625 C 1.40625 -6.15625 0.578125 -5.375 0.578125 -4.578125 C 0.578125 -4.015625 1.03125 -3.515625 1.8125 -3.265625 C 1.0625 -3.046875 0.4375 -2.46875 0.4375 -1.71875 C 0.4375 -0.765625 1.359375 0.109375 2.59375 0.109375 C 3.84375 0.109375 4.75 -0.765625 4.75 -1.71875 Z M 3.9375 -4.5625 C 3.9375 -4 3.3125 -3.5625 2.59375 -3.5625 C 1.875 -3.5625 1.265625 -4.015625 1.265625 -4.5625 C 1.265625 -5.078125 1.8125 -5.5625 2.59375 -5.5625 C 3.375 -5.5625 3.9375 -5.078125 3.9375 -4.5625 Z M 4.078125 -1.734375 C 4.078125 -1.046875 3.421875 -0.5 2.59375 -0.5 C 1.765625 -0.5 1.125 -1.046875 1.125 -1.734375 C 1.125 -2.34375 1.6875 -2.96875 2.59375 -2.96875 C 3.5 -2.96875 4.078125 -2.34375 4.078125 -1.734375 Z M 4.078125 -1.734375 \"/>\n",
       "</g>\n",
       "<g id=\"glyph-1731630588227008--0-11\">\n",
       "<path d=\"M 5.078125 -0.296875 C 5.078125 -0.609375 4.828125 -0.609375 4.671875 -0.609375 L 4.234375 -0.609375 L 4.234375 -2.90625 C 4.234375 -3.90625 3.71875 -4.328125 2.9375 -4.328125 C 2.28125 -4.328125 1.828125 -4 1.640625 -3.796875 C 1.640625 -4.125 1.640625 -4.265625 1.25 -4.265625 L 0.53125 -4.265625 C 0.359375 -4.265625 0.125 -4.265625 0.125 -3.96875 C 0.125 -3.671875 0.375 -3.671875 0.515625 -3.671875 L 0.953125 -3.671875 L 0.953125 -0.609375 L 0.53125 -0.609375 C 0.359375 -0.609375 0.125 -0.609375 0.125 -0.296875 C 0.125 0 0.375 0 0.515625 0 L 2.09375 0 C 2.234375 0 2.484375 0 2.484375 -0.296875 C 2.484375 -0.609375 2.234375 -0.609375 2.078125 -0.609375 L 1.640625 -0.609375 L 1.640625 -2.359375 C 1.640625 -3.34375 2.375 -3.71875 2.875 -3.71875 C 3.40625 -3.71875 3.546875 -3.453125 3.546875 -2.859375 L 3.546875 -0.609375 L 3.15625 -0.609375 C 3 -0.609375 2.75 -0.609375 2.75 -0.296875 C 2.75 0 3.015625 0 3.15625 0 L 4.671875 0 C 4.8125 0 5.078125 0 5.078125 -0.296875 Z M 5.078125 -0.296875 \"/>\n",
       "</g>\n",
       "<g id=\"glyph-1731630588227008--0-12\">\n",
       "<path d=\"M 5.078125 -0.3125 C 5.078125 -0.609375 4.8125 -0.609375 4.671875 -0.609375 L 4.234375 -0.609375 L 4.234375 -3.859375 C 4.234375 -4.171875 4.171875 -4.265625 3.828125 -4.265625 L 3.109375 -4.265625 C 2.953125 -4.265625 2.703125 -4.265625 2.703125 -3.96875 C 2.703125 -3.671875 2.96875 -3.671875 3.09375 -3.671875 L 3.546875 -3.671875 L 3.546875 -1.5625 C 3.546875 -0.65625 2.75 -0.546875 2.421875 -0.546875 C 1.640625 -0.546875 1.640625 -0.875 1.640625 -1.1875 L 1.640625 -3.859375 C 1.640625 -4.171875 1.578125 -4.265625 1.25 -4.265625 L 0.53125 -4.265625 C 0.359375 -4.265625 0.125 -4.265625 0.125 -3.96875 C 0.125 -3.671875 0.375 -3.671875 0.515625 -3.671875 L 0.953125 -3.671875 L 0.953125 -1.125 C 0.953125 -0.171875 1.640625 0.0625 2.375 0.0625 C 2.78125 0.0625 3.1875 -0.046875 3.546875 -0.3125 C 3.5625 0 3.765625 0 3.9375 0 L 4.671875 0 C 4.828125 0 5.078125 0 5.078125 -0.3125 Z M 5.078125 -0.3125 \"/>\n",
       "</g>\n",
       "<g id=\"glyph-1731630588227008--0-13\">\n",
       "<path d=\"M 4.5 -0.296875 C 4.5 -0.609375 4.25 -0.609375 4.09375 -0.609375 L 3.0625 -0.609375 L 3.0625 -3.859375 C 3.0625 -4.171875 3 -4.265625 2.671875 -4.265625 L 1.265625 -4.265625 C 1.109375 -4.265625 0.859375 -4.265625 0.859375 -3.96875 C 0.859375 -3.671875 1.109375 -3.671875 1.265625 -3.671875 L 2.375 -3.671875 L 2.375 -0.609375 L 1.171875 -0.609375 C 1.015625 -0.609375 0.765625 -0.609375 0.765625 -0.296875 C 0.765625 0 1.03125 0 1.171875 0 L 4.09375 0 C 4.25 0 4.5 0 4.5 -0.296875 Z M 3.09375 -5.5 C 3.09375 -5.78125 2.875 -6 2.609375 -6 C 2.328125 -6 2.109375 -5.78125 2.109375 -5.5 C 2.109375 -5.21875 2.328125 -5 2.609375 -5 C 2.875 -5 3.09375 -5.21875 3.09375 -5.5 Z M 3.09375 -5.5 \"/>\n",
       "</g>\n",
       "<g id=\"glyph-1731630588227008--0-14\">\n",
       "<path d=\"M 4.328125 -5.515625 C 4.328125 -6.109375 3.53125 -6.109375 3.375 -6.109375 C 2.578125 -6.109375 1.828125 -5.65625 1.828125 -4.796875 L 1.828125 -4.265625 L 0.828125 -4.265625 C 0.671875 -4.265625 0.421875 -4.265625 0.421875 -3.96875 C 0.421875 -3.671875 0.671875 -3.671875 0.828125 -3.671875 L 1.828125 -3.671875 L 1.828125 -0.609375 L 0.828125 -0.609375 C 0.671875 -0.609375 0.421875 -0.609375 0.421875 -0.3125 C 0.421875 0 0.671875 0 0.828125 0 L 3.5 0 C 3.65625 0 3.90625 0 3.90625 -0.296875 C 3.90625 -0.609375 3.65625 -0.609375 3.5 -0.609375 L 2.5 -0.609375 L 2.5 -3.671875 L 3.71875 -3.671875 C 3.859375 -3.671875 4.109375 -3.671875 4.109375 -3.96875 C 4.109375 -4.265625 3.875 -4.265625 3.71875 -4.265625 L 2.5 -4.265625 L 2.5 -4.734375 C 2.5 -5.515625 3.171875 -5.515625 3.46875 -5.515625 C 3.46875 -5.46875 3.5625 -5.078125 3.90625 -5.078125 C 4.09375 -5.078125 4.328125 -5.234375 4.328125 -5.515625 Z M 4.328125 -5.515625 \"/>\n",
       "</g>\n",
       "<g id=\"glyph-1731630588227008--0-15\">\n",
       "<path d=\"M 4.640625 -3.03125 C 4.640625 -3.15625 4.5625 -3.265625 4.453125 -3.34375 L 1.15625 -5.40625 C 1.015625 -5.5 0.984375 -5.515625 0.90625 -5.515625 C 0.75 -5.515625 0.5625 -5.390625 0.5625 -5.15625 C 0.5625 -4.96875 0.6875 -4.890625 0.796875 -4.828125 L 3.640625 -3.03125 L 0.796875 -1.234375 C 0.6875 -1.171875 0.5625 -1.09375 0.5625 -0.90625 C 0.5625 -0.671875 0.75 -0.5625 0.90625 -0.5625 C 0.984375 -0.5625 1.015625 -0.5625 1.15625 -0.65625 L 4.421875 -2.703125 C 4.5 -2.765625 4.640625 -2.84375 4.640625 -3.03125 Z M 4.640625 -3.03125 \"/>\n",
       "</g>\n",
       "<g id=\"glyph-1731630588227008--0-16\">\n",
       "<path d=\"M 4.671875 -1.90625 C 4.671875 -3.046875 3.796875 -3.921875 2.703125 -3.921875 C 2.1875 -3.921875 1.671875 -3.75 1.234375 -3.34375 C 1.359375 -4.75 2.296875 -5.5625 3.171875 -5.5625 C 3.5 -5.5625 3.671875 -5.453125 3.71875 -5.40625 C 3.671875 -5.34375 3.609375 -5.296875 3.609375 -5.109375 C 3.609375 -4.875 3.796875 -4.671875 4.046875 -4.671875 C 4.296875 -4.671875 4.5 -4.84375 4.5 -5.140625 C 4.5 -5.625 4.140625 -6.15625 3.1875 -6.15625 C 1.859375 -6.15625 0.53125 -4.96875 0.53125 -2.96875 C 0.53125 -0.609375 1.640625 0.109375 2.609375 0.109375 C 3.6875 0.109375 4.671875 -0.71875 4.671875 -1.90625 Z M 3.984375 -1.90625 C 3.984375 -1.0625 3.328125 -0.5 2.609375 -0.5 C 1.96875 -0.5 1.578125 -0.984375 1.390625 -1.578125 C 1.28125 -1.828125 1.3125 -2.0625 1.3125 -2.203125 C 1.3125 -2.8125 1.90625 -3.3125 2.65625 -3.3125 C 3.453125 -3.3125 3.984375 -2.640625 3.984375 -1.90625 Z M 3.984375 -1.90625 \"/>\n",
       "</g>\n",
       "<g id=\"glyph-1731630588227008--0-17\">\n",
       "<path d=\"M 4.703125 -3.015625 C 4.703125 -4.859375 3.6875 -6.15625 2.59375 -6.15625 C 1.484375 -6.15625 0.5 -4.828125 0.5 -3.03125 C 0.5 -1.1875 1.5 0.109375 2.59375 0.109375 C 3.703125 0.109375 4.703125 -1.21875 4.703125 -3.015625 Z M 4.015625 -3.125 C 4.015625 -1.671875 3.375 -0.5 2.59375 -0.5 C 1.828125 -0.5 1.171875 -1.671875 1.171875 -3.125 C 1.171875 -4.578125 1.859375 -5.5625 2.59375 -5.5625 C 3.3125 -5.5625 4.015625 -4.59375 4.015625 -3.125 Z M 4.015625 -3.125 \"/>\n",
       "</g>\n",
       "<g id=\"glyph-1731630588227008--0-18\">\n",
       "<path d=\"M 4.75 -4.234375 C 4.75 -5.15625 4.015625 -6.046875 2.875 -6.046875 L 0.65625 -6.046875 C 0.515625 -6.046875 0.25 -6.046875 0.25 -5.75 C 0.25 -5.453125 0.515625 -5.453125 0.65625 -5.453125 L 0.953125 -5.453125 L 0.953125 -0.609375 L 0.65625 -0.609375 C 0.5 -0.609375 0.25 -0.609375 0.25 -0.296875 C 0.25 0 0.515625 0 0.65625 0 L 1.9375 0 C 2.09375 0 2.34375 0 2.34375 -0.296875 C 2.34375 -0.609375 2.09375 -0.609375 1.9375 -0.609375 L 1.640625 -0.609375 L 1.640625 -2.421875 L 2.875 -2.421875 C 4.03125 -2.421875 4.75 -3.3125 4.75 -4.234375 Z M 4.078125 -4.234375 C 4.078125 -3.71875 3.640625 -3.03125 2.6875 -3.03125 L 1.640625 -3.03125 L 1.640625 -5.453125 L 2.6875 -5.453125 C 3.640625 -5.453125 4.078125 -4.765625 4.078125 -4.234375 Z M 4.078125 -4.234375 \"/>\n",
       "</g>\n",
       "<g id=\"glyph-1731630588227008--0-19\">\n",
       "<path d=\"M 5.140625 -0.3125 C 5.140625 -0.609375 4.890625 -0.609375 4.75 -0.609375 C 4.328125 -0.609375 4.234375 -0.65625 4.15625 -0.6875 L 4.15625 -2.828125 C 4.15625 -3.53125 3.609375 -4.359375 2.1875 -4.359375 C 1.765625 -4.359375 0.75 -4.359375 0.75 -3.640625 C 0.75 -3.34375 0.953125 -3.1875 1.203125 -3.1875 C 1.34375 -3.1875 1.625 -3.265625 1.640625 -3.640625 C 1.640625 -3.71875 1.640625 -3.71875 1.84375 -3.75 C 1.984375 -3.75 2.109375 -3.75 2.203125 -3.75 C 2.953125 -3.75 3.46875 -3.453125 3.46875 -2.75 C 1.71875 -2.71875 0.5 -2.21875 0.5 -1.265625 C 0.5 -0.578125 1.125 0.0625 2.125 0.0625 C 2.5 0.0625 3.109375 -0.015625 3.578125 -0.3125 C 3.796875 -0.015625 4.265625 0 4.640625 0 C 4.921875 0 5.140625 0 5.140625 -0.3125 Z M 3.46875 -1.328125 C 3.46875 -1.09375 3.46875 -0.890625 3.078125 -0.71875 C 2.71875 -0.546875 2.28125 -0.546875 2.203125 -0.546875 C 1.578125 -0.546875 1.171875 -0.875 1.171875 -1.265625 C 1.171875 -1.75 2.03125 -2.125 3.46875 -2.15625 Z M 3.46875 -1.328125 \"/>\n",
       "</g>\n",
       "<g id=\"glyph-1731630588227008--0-20\">\n",
       "<path d=\"M 4.96875 -0.40625 L 4.96875 -1.28125 C 4.96875 -1.46875 4.96875 -1.6875 4.640625 -1.6875 C 4.296875 -1.6875 4.296875 -1.484375 4.296875 -1.28125 L 4.296875 -0.609375 L 1.640625 -0.609375 L 1.640625 -2.828125 L 2.9375 -2.828125 C 2.9375 -2.421875 2.9375 -2.265625 3.28125 -2.265625 C 3.625 -2.265625 3.625 -2.484375 3.625 -2.671875 L 3.625 -3.59375 C 3.625 -3.78125 3.625 -4 3.28125 -4 C 2.9375 -4 2.9375 -3.84375 2.9375 -3.4375 L 1.640625 -3.4375 L 1.640625 -5.453125 L 4.078125 -5.453125 L 4.078125 -4.921875 C 4.078125 -4.734375 4.078125 -4.515625 4.40625 -4.515625 C 4.75 -4.515625 4.75 -4.71875 4.75 -4.921875 L 4.75 -5.640625 C 4.75 -5.953125 4.703125 -6.046875 4.359375 -6.046875 L 0.65625 -6.046875 C 0.515625 -6.046875 0.25 -6.046875 0.25 -5.75 C 0.25 -5.453125 0.515625 -5.453125 0.65625 -5.453125 L 0.953125 -5.453125 L 0.953125 -0.609375 L 0.65625 -0.609375 C 0.5 -0.609375 0.25 -0.609375 0.25 -0.296875 C 0.25 0 0.515625 0 0.65625 0 L 4.578125 0 C 4.90625 0 4.96875 -0.09375 4.96875 -0.40625 Z M 4.96875 -0.40625 \"/>\n",
       "</g>\n",
       "<g id=\"glyph-1731630588227008--0-21\">\n",
       "<path d=\"M 4.90625 -0.296875 C 4.90625 -0.609375 4.65625 -0.609375 4.5 -0.609375 L 4.109375 -0.609375 L 2.84375 -2.203125 L 3.96875 -3.671875 L 4.375 -3.671875 C 4.5 -3.671875 4.78125 -3.671875 4.78125 -3.96875 C 4.78125 -4.265625 4.515625 -4.265625 4.375 -4.265625 L 3.203125 -4.265625 C 3.0625 -4.265625 2.8125 -4.265625 2.8125 -3.96875 C 2.8125 -3.671875 3.03125 -3.671875 3.296875 -3.671875 L 2.5625 -2.671875 L 1.8125 -3.671875 C 2.078125 -3.671875 2.28125 -3.671875 2.28125 -3.96875 C 2.28125 -4.265625 2.046875 -4.265625 1.890625 -4.265625 L 0.734375 -4.265625 C 0.578125 -4.265625 0.328125 -4.265625 0.328125 -3.96875 C 0.328125 -3.671875 0.59375 -3.671875 0.734375 -3.671875 L 1.125 -3.671875 L 2.296875 -2.203125 L 1.0625 -0.609375 L 0.671875 -0.609375 C 0.53125 -0.609375 0.265625 -0.609375 0.265625 -0.296875 C 0.265625 0 0.53125 0 0.671875 0 L 1.828125 0 C 1.984375 0 2.234375 0 2.234375 -0.296875 C 2.234375 -0.609375 2.015625 -0.609375 1.71875 -0.609375 L 2.5625 -1.828125 L 3.453125 -0.609375 C 3.171875 -0.609375 2.953125 -0.609375 2.953125 -0.296875 C 2.953125 0 3.203125 0 3.34375 0 L 4.5 0 C 4.640625 0 4.90625 0 4.90625 -0.296875 Z M 4.90625 -0.296875 \"/>\n",
       "</g>\n",
       "<g id=\"glyph-1731630588227008--0-22\">\n",
       "<path d=\"M 5.109375 -0.296875 C 5.109375 -0.609375 4.90625 -0.609375 4.546875 -0.609375 L 4.546875 -3 C 4.546875 -3.203125 4.546875 -4.328125 3.671875 -4.328125 C 3.375 -4.328125 2.96875 -4.203125 2.6875 -3.8125 C 2.53125 -4.15625 2.265625 -4.328125 1.9375 -4.328125 C 1.609375 -4.328125 1.3125 -4.1875 1.078125 -3.96875 C 1.0625 -4.265625 0.859375 -4.265625 0.6875 -4.265625 L 0.359375 -4.265625 C 0.21875 -4.265625 -0.046875 -4.265625 -0.046875 -3.96875 C -0.046875 -3.671875 0.171875 -3.671875 0.53125 -3.671875 L 0.53125 -0.609375 C 0.171875 -0.609375 -0.046875 -0.609375 -0.046875 -0.296875 C -0.046875 0 0.234375 0 0.359375 0 L 1.234375 0 C 1.390625 0 1.640625 0 1.640625 -0.296875 C 1.640625 -0.609375 1.4375 -0.609375 1.078125 -0.609375 L 1.078125 -2.375 C 1.078125 -3.265625 1.484375 -3.71875 1.890625 -3.71875 C 2.125 -3.71875 2.265625 -3.5625 2.265625 -2.90625 L 2.265625 -0.609375 C 2.078125 -0.609375 1.828125 -0.609375 1.828125 -0.296875 C 1.828125 0 2.09375 0 2.234375 0 L 2.96875 0 C 3.125 0 3.375 0 3.375 -0.296875 C 3.375 -0.609375 3.171875 -0.609375 2.8125 -0.609375 L 2.8125 -2.375 C 2.8125 -3.265625 3.21875 -3.71875 3.625 -3.71875 C 3.859375 -3.71875 4 -3.5625 4 -2.90625 L 4 -0.609375 C 3.796875 -0.609375 3.5625 -0.609375 3.5625 -0.296875 C 3.5625 0 3.828125 0 3.96875 0 L 4.703125 0 C 4.859375 0 5.109375 0 5.109375 -0.296875 Z M 5.109375 -0.296875 \"/>\n",
       "</g>\n",
       "<g id=\"glyph-1731630588227008--0-23\">\n",
       "<path d=\"M 4.921875 -0.296875 C 4.921875 -0.421875 4.875 -0.53125 4.75 -0.578125 C 4.703125 -0.609375 4.484375 -0.609375 4.328125 -0.609375 L 3.125 -5.78125 C 3.046875 -6.15625 2.90625 -6.171875 2.59375 -6.171875 C 2.3125 -6.171875 2.15625 -6.171875 2.0625 -5.796875 L 0.859375 -0.609375 C 0.71875 -0.609375 0.5 -0.609375 0.4375 -0.578125 C 0.328125 -0.53125 0.265625 -0.421875 0.265625 -0.296875 C 0.265625 0 0.53125 0 0.6875 0 L 1.703125 0 C 1.875 0 2.125 0 2.125 -0.296875 C 2.125 -0.609375 1.921875 -0.609375 1.5625 -0.609375 L 1.796875 -1.640625 L 3.390625 -1.640625 L 3.625 -0.609375 C 3.265625 -0.609375 3.078125 -0.609375 3.078125 -0.296875 C 3.078125 0 3.3125 0 3.484375 0 L 4.5 0 C 4.671875 0 4.921875 0 4.921875 -0.296875 Z M 3.25 -2.234375 L 1.9375 -2.234375 L 2.59375 -5.34375 Z M 3.25 -2.234375 \"/>\n",
       "</g>\n",
       "<g id=\"glyph-1731630588227008--0-24\">\n",
       "<path d=\"M 5.046875 -3.84375 C 5.046875 -4.078125 4.859375 -4.375 4.3125 -4.375 C 4.203125 -4.375 3.71875 -4.375 3.265625 -4.03125 C 3.109375 -4.140625 2.765625 -4.328125 2.3125 -4.328125 C 1.375 -4.328125 0.671875 -3.59375 0.671875 -2.75 C 0.671875 -2.3125 0.84375 -1.984375 0.984375 -1.796875 C 0.875 -1.640625 0.796875 -1.421875 0.796875 -1.125 C 0.796875 -0.78125 0.9375 -0.53125 1.015625 -0.421875 C 0.28125 0.03125 0.28125 0.703125 0.28125 0.8125 C 0.28125 1.671875 1.328125 2.265625 2.59375 2.265625 C 3.859375 2.265625 4.90625 1.65625 4.90625 0.8125 C 4.90625 0.453125 4.71875 -0.046875 4.21875 -0.3125 C 4.09375 -0.390625 3.671875 -0.609375 2.78125 -0.609375 L 2.09375 -0.609375 C 2.015625 -0.609375 1.875 -0.609375 1.796875 -0.625 C 1.65625 -0.625 1.59375 -0.625 1.46875 -0.765625 C 1.359375 -0.90625 1.359375 -1.125 1.359375 -1.125 C 1.359375 -1.15625 1.375 -1.296875 1.421875 -1.390625 C 1.453125 -1.375 1.828125 -1.15625 2.3125 -1.15625 C 3.21875 -1.15625 3.9375 -1.859375 3.9375 -2.75 C 3.9375 -3.046875 3.859375 -3.328125 3.6875 -3.609375 C 3.890625 -3.71875 4.125 -3.765625 4.265625 -3.78125 C 4.3125 -3.5 4.546875 -3.4375 4.640625 -3.4375 C 4.8125 -3.4375 5.046875 -3.5625 5.046875 -3.84375 Z M 3.265625 -2.75 C 3.265625 -2.171875 2.828125 -1.75 2.3125 -1.75 C 1.765625 -1.75 1.359375 -2.203125 1.359375 -2.734375 C 1.359375 -3.296875 1.796875 -3.734375 2.3125 -3.734375 C 2.84375 -3.734375 3.265625 -3.265625 3.265625 -2.75 Z M 4.328125 0.8125 C 4.328125 1.25 3.59375 1.671875 2.59375 1.671875 C 1.609375 1.671875 0.859375 1.25 0.859375 0.8125 C 0.859375 0.640625 0.953125 0.3125 1.265625 0.125 C 1.515625 -0.046875 1.609375 -0.046875 2.328125 -0.046875 C 3.203125 -0.046875 4.328125 -0.046875 4.328125 0.8125 Z M 4.328125 0.8125 \"/>\n",
       "</g>\n",
       "</g>\n",
       "</defs>\n",
       "<path fill=\"none\" stroke-width=\"0.3985\" stroke-linecap=\"butt\" stroke-linejoin=\"miter\" stroke=\"rgb(0%, 0%, 0%)\" stroke-opacity=\"1\" stroke-miterlimit=\"10\" d=\"M -16.595201 -4.749046 L -92.484132 -26.465813 \" transform=\"matrix(0.994875, 0, 0, -0.994875, 147.142963, 6.361231)\"/>\n",
       "<path fill=\"none\" stroke-width=\"0.31879\" stroke-linecap=\"round\" stroke-linejoin=\"round\" stroke=\"rgb(0%, 0%, 0%)\" stroke-opacity=\"1\" stroke-miterlimit=\"10\" d=\"M -1.196522 1.59285 C -1.097516 0.99683 0.00132215 0.0983815 0.300083 0.00064161 C 0.00124326 -0.101717 -1.096145 -0.996603 -1.193463 -1.593624 \" transform=\"matrix(-0.956453, 0.27368, 0.27368, 0.956453, 55.134496, 32.690697)\"/>\n",
       "<path fill=\"none\" stroke-width=\"0.3985\" stroke-linecap=\"butt\" stroke-linejoin=\"miter\" stroke=\"rgb(0%, 0%, 0%)\" stroke-opacity=\"1\" stroke-miterlimit=\"10\" d=\"M -3.296577 -6.594441 L -11.168954 -22.339195 \" transform=\"matrix(0.994875, 0, 0, -0.994875, 147.142963, 6.361231)\"/>\n",
       "<path fill=\"none\" stroke-width=\"0.31879\" stroke-linecap=\"round\" stroke-linejoin=\"round\" stroke=\"rgb(0%, 0%, 0%)\" stroke-opacity=\"1\" stroke-miterlimit=\"10\" d=\"M -1.196903 1.593348 C -1.095057 0.994528 0.00247736 0.0989242 0.297496 0.000581824 C 0.000719522 -0.0995113 -1.09683 -0.995096 -1.196932 -1.593914 \" transform=\"matrix(-0.444878, 0.889776, 0.889776, 0.444878, 136.030269, 28.586599)\"/>\n",
       "<path fill=\"none\" stroke-width=\"0.3985\" stroke-linecap=\"butt\" stroke-linejoin=\"miter\" stroke=\"rgb(0%, 0%, 0%)\" stroke-opacity=\"1\" stroke-miterlimit=\"10\" d=\"M 3.295803 -6.594441 L 10.673457 -21.341896 \" transform=\"matrix(0.994875, 0, 0, -0.994875, 147.142963, 6.361231)\"/>\n",
       "<path fill=\"none\" stroke-width=\"0.31879\" stroke-linecap=\"round\" stroke-linejoin=\"round\" stroke=\"rgb(0%, 0%, 0%)\" stroke-opacity=\"1\" stroke-miterlimit=\"10\" d=\"M -1.193149 1.594977 C -1.09656 0.997915 -0.000765722 0.0988188 0.301279 0.00048174 C 0.00099212 -0.0996168 -1.096542 -0.995221 -1.194876 -1.595797 \" transform=\"matrix(0.444878, 0.889776, 0.889776, -0.444878, 157.76007, 27.595425)\"/>\n",
       "<path fill=\"none\" stroke-width=\"0.3985\" stroke-linecap=\"butt\" stroke-linejoin=\"miter\" stroke=\"rgb(0%, 0%, 0%)\" stroke-opacity=\"1\" stroke-miterlimit=\"10\" d=\"M 13.775291 -6.594441 L 45.040997 -21.553921 \" transform=\"matrix(0.994875, 0, 0, -0.994875, 147.142963, 6.361231)\"/>\n",
       "<path fill=\"none\" stroke-width=\"0.31879\" stroke-linecap=\"round\" stroke-linejoin=\"round\" stroke=\"rgb(0%, 0%, 0%)\" stroke-opacity=\"1\" stroke-miterlimit=\"10\" d=\"M -1.1936 1.594146 C -1.095035 0.997063 0.00114561 0.0982107 0.299801 0.00171965 C -0.000499163 -0.0984641 -1.094381 -0.996326 -1.196034 -1.593459 \" transform=\"matrix(0.897357, 0.429448, 0.429448, -0.897357, 191.952889, 27.806388)\"/>\n",
       "<path fill=\"none\" stroke-width=\"0.3985\" stroke-linecap=\"butt\" stroke-linejoin=\"miter\" stroke=\"rgb(0%, 0%, 0%)\" stroke-opacity=\"1\" stroke-miterlimit=\"10\" d=\"M -105.1938 -33.784571 L -124.217076 -50.648342 \" transform=\"matrix(0.994875, 0, 0, -0.994875, 147.142963, 6.361231)\"/>\n",
       "<path fill=\"none\" stroke-width=\"0.31879\" stroke-linecap=\"round\" stroke-linejoin=\"round\" stroke=\"rgb(0%, 0%, 0%)\" stroke-opacity=\"1\" stroke-miterlimit=\"10\" d=\"M -1.195959 1.595557 C -1.095986 0.99798 0.00126079 0.0988732 0.296509 -0.00016731 C -0.000743314 -0.0987386 -1.095458 -0.99637 -1.195702 -1.594881 \" transform=\"matrix(-0.744465, 0.659871, 0.659871, 0.744465, 23.560695, 56.749779)\"/>\n",
       "<path fill=\"none\" stroke-width=\"0.3985\" stroke-linecap=\"butt\" stroke-linejoin=\"miter\" stroke=\"rgb(0%, 0%, 0%)\" stroke-opacity=\"1\" stroke-miterlimit=\"10\" d=\"M -99.05688 -33.945553 L -99.05688 -49.537179 \" transform=\"matrix(0.994875, 0, 0, -0.994875, 147.142963, 6.361231)\"/>\n",
       "<path fill=\"none\" stroke-width=\"0.31879\" stroke-linecap=\"round\" stroke-linejoin=\"round\" stroke=\"rgb(0%, 0%, 0%)\" stroke-opacity=\"1\" stroke-miterlimit=\"10\" d=\"M -1.193809 1.595298 C -1.095649 0.994563 -0.00019146 0.0993496 0.298213 0.00119024 C -0.00019146 -0.100895 -1.095649 -0.996108 -1.193809 -1.592917 \" transform=\"matrix(0, 0.994875, 0.994875, 0, 48.592566, 55.644722)\"/>\n",
       "<path fill=\"none\" stroke-width=\"0.3985\" stroke-linecap=\"butt\" stroke-linejoin=\"miter\" stroke=\"rgb(0%, 0%, 0%)\" stroke-opacity=\"1\" stroke-miterlimit=\"10\" d=\"M -20.30955 -32.712672 L -44.362509 -49.835583 \" transform=\"matrix(0.994875, 0, 0, -0.994875, 147.142963, 6.361231)\"/>\n",
       "<path fill=\"none\" stroke-width=\"0.31879\" stroke-linecap=\"round\" stroke-linejoin=\"round\" stroke=\"rgb(0%, 0%, 0%)\" stroke-opacity=\"1\" stroke-miterlimit=\"10\" d=\"M -1.194756 1.59386 C -1.094239 0.996983 0.000496651 0.0973306 0.29827 0.00106502 C -0.000082945 -0.0998599 -1.096347 -0.996826 -1.195297 -1.596321 \" transform=\"matrix(-0.810495, 0.576858, 0.576858, 0.810495, 103.006757, 55.940359)\"/>\n",
       "<path fill=\"none\" stroke-width=\"0.3985\" stroke-linecap=\"butt\" stroke-linejoin=\"miter\" stroke=\"rgb(0%, 0%, 0%)\" stroke-opacity=\"1\" stroke-miterlimit=\"10\" d=\"M -14.172629 -33.945553 L -14.172629 -52.713614 \" transform=\"matrix(0.994875, 0, 0, -0.994875, 147.142963, 6.361231)\"/>\n",
       "<path fill=\"none\" stroke-width=\"0.31879\" stroke-linecap=\"round\" stroke-linejoin=\"round\" stroke=\"rgb(0%, 0%, 0%)\" stroke-opacity=\"1\" stroke-miterlimit=\"10\" d=\"M -1.195523 1.594868 C -1.097364 0.998059 -0.00190598 0.0989201 0.300425 0.000760775 C -0.00190598 -0.101325 -1.097364 -0.996538 -1.195523 -1.593347 \" transform=\"matrix(0, 0.994875, 0.994875, 0, 133.042212, 58.806584)\"/>\n",
       "<path fill=\"none\" stroke-width=\"0.3985\" stroke-linecap=\"butt\" stroke-linejoin=\"miter\" stroke=\"rgb(0%, 0%, 0%)\" stroke-opacity=\"1\" stroke-miterlimit=\"10\" d=\"M 14.171855 -34.938925 L 14.171855 -49.945521 \" transform=\"matrix(0.994875, 0, 0, -0.994875, 147.142963, 6.361231)\"/>\n",
       "<path fill=\"none\" stroke-width=\"0.31879\" stroke-linecap=\"round\" stroke-linejoin=\"round\" stroke=\"rgb(0%, 0%, 0%)\" stroke-opacity=\"1\" stroke-miterlimit=\"10\" d=\"M -1.193956 1.592572 C -1.095797 0.995764 -0.000338703 0.100551 0.298066 -0.00153499 C -0.000338703 -0.0996943 -1.095797 -0.994907 -1.193956 -1.595642 \" transform=\"matrix(0, 0.994875, 0.994875, 0, 161.243715, 56.051118)\"/>\n",
       "<path fill=\"none\" stroke-width=\"0.3985\" stroke-linecap=\"butt\" stroke-linejoin=\"miter\" stroke=\"rgb(0%, 0%, 0%)\" stroke-opacity=\"1\" stroke-miterlimit=\"10\" d=\"M 21.003743 -34.938925 L 36.379419 -49.780614 \" transform=\"matrix(0.994875, 0, 0, -0.994875, 147.142963, 6.361231)\"/>\n",
       "<path fill=\"none\" stroke-width=\"0.31879\" stroke-linecap=\"round\" stroke-linejoin=\"round\" stroke=\"rgb(0%, 0%, 0%)\" stroke-opacity=\"1\" stroke-miterlimit=\"10\" d=\"M -1.194673 1.593761 C -1.096953 0.99501 0.000773018 0.100905 0.298913 0.00122424 C -0.0000311017 -0.101792 -1.096029 -0.996017 -1.195454 -1.594063 \" transform=\"matrix(0.715783, 0.690931, 0.690931, -0.715783, 183.335979, 55.888098)\"/>\n",
       "<path fill=\"none\" stroke-width=\"0.3985\" stroke-linecap=\"butt\" stroke-linejoin=\"miter\" stroke=\"rgb(0%, 0%, 0%)\" stroke-opacity=\"1\" stroke-miterlimit=\"10\" d=\"M 22.92374 -31.680036 L 71.571497 -50.208588 \" transform=\"matrix(0.994875, 0, 0, -0.994875, 147.142963, 6.361231)\"/>\n",
       "<path fill=\"none\" stroke-width=\"0.31879\" stroke-linecap=\"round\" stroke-linejoin=\"round\" stroke=\"rgb(0%, 0%, 0%)\" stroke-opacity=\"1\" stroke-miterlimit=\"10\" d=\"M -1.197376 1.595197 C -1.095021 0.995529 -0.00215809 0.100865 0.296619 0.000380019 C -0.00112146 -0.10042 -1.09671 -0.996704 -1.197037 -1.593739 \" transform=\"matrix(0.929691, 0.354106, 0.354106, -0.929691, 218.349102, 56.313288)\"/>\n",
       "<path fill=\"none\" stroke-width=\"0.3985\" stroke-linecap=\"butt\" stroke-linejoin=\"miter\" stroke=\"rgb(0%, 0%, 0%)\" stroke-opacity=\"1\" stroke-miterlimit=\"10\" d=\"M 8.038861 -62.219362 L -10.583925 -78.992826 \" transform=\"matrix(0.994875, 0, 0, -0.994875, 147.142963, 6.361231)\"/>\n",
       "<path fill=\"none\" stroke-width=\"0.31879\" stroke-linecap=\"round\" stroke-linejoin=\"round\" stroke=\"rgb(0%, 0%, 0%)\" stroke-opacity=\"1\" stroke-miterlimit=\"10\" d=\"M -1.194546 1.594674 C -1.093801 0.996627 0.00116929 0.100207 0.298237 0.0017353 C 0.000506558 -0.100004 -1.095462 -0.9941 -1.197556 -1.594401 \" transform=\"matrix(-0.739202, 0.66581, 0.66581, 0.739202, 136.613833, 84.948586)\"/>\n",
       "<path fill=\"none\" stroke-width=\"0.3985\" stroke-linecap=\"butt\" stroke-linejoin=\"miter\" stroke=\"rgb(0%, 0%, 0%)\" stroke-opacity=\"1\" stroke-miterlimit=\"10\" d=\"M 14.28572 -62.985005 L 14.55664 -77.909147 \" transform=\"matrix(0.994875, 0, 0, -0.994875, 147.142963, 6.361231)\"/>\n",
       "<path fill=\"none\" stroke-width=\"0.31879\" stroke-linecap=\"round\" stroke-linejoin=\"round\" stroke=\"rgb(0%, 0%, 0%)\" stroke-opacity=\"1\" stroke-miterlimit=\"10\" d=\"M -1.196646 1.594097 C -1.097443 0.995399 0.00176217 0.0999152 0.298431 0.000336132 C -0.00183436 -0.100301 -1.093938 -0.995693 -1.195022 -1.59472 \" transform=\"matrix(0.017868, 0.994696, 0.994696, -0.017868, 161.62324, 83.871126)\"/>\n",
       "<path fill=\"none\" stroke-width=\"0.3985\" stroke-linecap=\"butt\" stroke-linejoin=\"miter\" stroke=\"rgb(0%, 0%, 0%)\" stroke-opacity=\"1\" stroke-miterlimit=\"10\" d=\"M 43.419405 -63.287336 L 43.140632 -78.984973 \" transform=\"matrix(0.994875, 0, 0, -0.994875, 147.142963, 6.361231)\"/>\n",
       "<path fill=\"none\" stroke-width=\"0.31879\" stroke-linecap=\"round\" stroke-linejoin=\"round\" stroke=\"rgb(0%, 0%, 0%)\" stroke-opacity=\"1\" stroke-miterlimit=\"10\" d=\"M -1.19516 1.594414 C -1.094077 0.995386 0.00195305 0.100065 0.298293 -0.000643026 C 0.00162377 -0.100222 -1.097581 -0.995706 -1.196785 -1.594404 \" transform=\"matrix(-0.017868, 0.994696, 0.994696, 0.017868, 190.060657, 84.941582)\"/>\n",
       "<path fill=\"none\" stroke-width=\"0.3985\" stroke-linecap=\"butt\" stroke-linejoin=\"miter\" stroke=\"rgb(0%, 0%, 0%)\" stroke-opacity=\"1\" stroke-miterlimit=\"10\" d=\"M 36.893774 -88.498574 L 4.838867 -106.567741 \" transform=\"matrix(0.994875, 0, 0, -0.994875, 147.142963, 6.361231)\"/>\n",
       "<path fill=\"none\" stroke-width=\"0.31879\" stroke-linecap=\"round\" stroke-linejoin=\"round\" stroke=\"rgb(0%, 0%, 0%)\" stroke-opacity=\"1\" stroke-miterlimit=\"10\" d=\"M -1.195274 1.591993 C -1.09485 0.994489 -0.0000726845 0.0979213 0.301007 0.000328543 C 0.000604938 -0.10079 -1.095351 -0.997534 -1.197058 -1.593788 \" transform=\"matrix(-0.866616, 0.488494, 0.488494, 0.866616, 151.956009, 112.383925)\"/>\n",
       "<path fill=\"none\" stroke-width=\"0.3985\" stroke-linecap=\"butt\" stroke-linejoin=\"miter\" stroke=\"rgb(0%, 0%, 0%)\" stroke-opacity=\"1\" stroke-miterlimit=\"10\" d=\"M 43.030694 -90.638448 L 43.030694 -106.336085 \" transform=\"matrix(0.994875, 0, 0, -0.994875, 147.142963, 6.361231)\"/>\n",
       "<path fill=\"none\" stroke-width=\"0.31879\" stroke-linecap=\"round\" stroke-linejoin=\"round\" stroke=\"rgb(0%, 0%, 0%)\" stroke-opacity=\"1\" stroke-miterlimit=\"10\" d=\"M -1.197078 1.594901 C -1.094993 0.998093 0.000465438 0.0989534 0.29887 0.000794057 C 0.000465438 -0.101292 -1.094993 -0.996505 -1.197078 -1.593313 \" transform=\"matrix(0, 0.994875, 0.994875, 0, 189.952335, 112.151881)\"/>\n",
       "<path fill=\"none\" stroke-width=\"0.3985\" stroke-linecap=\"butt\" stroke-linejoin=\"miter\" stroke=\"rgb(0%, 0%, 0%)\" stroke-opacity=\"1\" stroke-miterlimit=\"10\" d=\"M 89.695633 -63.287336 L 92.310597 -78.992826 \" transform=\"matrix(0.994875, 0, 0, -0.994875, 147.142963, 6.361231)\"/>\n",
       "<path fill=\"none\" stroke-width=\"0.31879\" stroke-linecap=\"round\" stroke-linejoin=\"round\" stroke=\"rgb(0%, 0%, 0%)\" stroke-opacity=\"1\" stroke-miterlimit=\"10\" d=\"M -1.194281 1.592155 C -1.094785 0.99441 -0.00177775 0.0998607 0.299699 -0.00209025 C 0.000832566 -0.0996074 -1.095795 -0.995757 -1.195122 -1.59224 \" transform=\"matrix(0.163408, 0.981305, 0.981305, -0.163408, 238.980422, 84.94775)\"/>\n",
       "<path fill=\"none\" stroke-width=\"0.3985\" stroke-linecap=\"butt\" stroke-linejoin=\"miter\" stroke=\"rgb(0%, 0%, 0%)\" stroke-opacity=\"1\" stroke-miterlimit=\"10\" d=\"M 93.319675 -90.638448 L 93.319675 -106.336085 \" transform=\"matrix(0.994875, 0, 0, -0.994875, 147.142963, 6.361231)\"/>\n",
       "<path fill=\"none\" stroke-width=\"0.31879\" stroke-linecap=\"round\" stroke-linejoin=\"round\" stroke=\"rgb(0%, 0%, 0%)\" stroke-opacity=\"1\" stroke-miterlimit=\"10\" d=\"M -1.197078 1.595852 C -1.094993 0.995117 0.000465438 0.0999044 0.29887 0.00174508 C 0.000465438 -0.100341 -1.094993 -0.995554 -1.197078 -1.592362 \" transform=\"matrix(0, 0.994875, 0.994875, 0, 239.982639, 112.151881)\"/>\n",
       "<path fill=\"none\" stroke-width=\"0.3985\" stroke-linecap=\"butt\" stroke-linejoin=\"miter\" stroke=\"rgb(0%, 0%, 0%)\" stroke-opacity=\"1\" stroke-miterlimit=\"10\" d=\"M 99.452669 -87.677963 L 140.805226 -105.440872 \" transform=\"matrix(0.994875, 0, 0, -0.994875, 147.142963, 6.361231)\"/>\n",
       "<path fill=\"none\" stroke-width=\"0.31879\" stroke-linecap=\"round\" stroke-linejoin=\"round\" stroke=\"rgb(0%, 0%, 0%)\" stroke-opacity=\"1\" stroke-miterlimit=\"10\" d=\"M -1.197494 1.594053 C -1.094881 0.997097 -0.0000190937 0.0999146 0.298591 0.00170147 C 0.000673472 -0.100647 -1.097763 -0.99564 -1.195712 -1.593289 \" transform=\"matrix(0.914041, 0.392687, 0.392687, -0.914041, 287.226407, 111.263209)\"/>\n",
       "<g fill=\"rgb(0%, 0%, 0%)\" fill-opacity=\"1\">\n",
       "<use xlink:href=\"#glyph-1731630588227008--0-0\" x=\"134.133978\" y=\"9.358789\"/>\n",
       "<use xlink:href=\"#glyph-1731630588227008--0-1\" x=\"139.337558\" y=\"9.358789\"/>\n",
       "<use xlink:href=\"#glyph-1731630588227008--0-2\" x=\"144.541138\" y=\"9.358789\"/>\n",
       "<use xlink:href=\"#glyph-1731630588227008--0-3\" x=\"149.744719\" y=\"9.358789\"/>\n",
       "<use xlink:href=\"#glyph-1731630588227008--0-4\" x=\"154.948299\" y=\"9.358789\"/>\n",
       "</g>\n",
       "<g fill=\"rgb(0%, 0%, 0%)\" fill-opacity=\"1\">\n",
       "<use xlink:href=\"#glyph-1731630588227008--0-5\" x=\"45.992032\" y=\"36.628313\"/>\n",
       "</g>\n",
       "<g fill=\"rgb(0%, 0%, 0%)\" fill-opacity=\"1\">\n",
       "<use xlink:href=\"#glyph-1731630588227008--0-6\" x=\"3.768542\" y=\"64.913604\"/>\n",
       "<use xlink:href=\"#glyph-1731630588227008--0-3\" x=\"8.972123\" y=\"64.913604\"/>\n",
       "<use xlink:href=\"#glyph-1731630588227008--0-2\" x=\"14.175703\" y=\"64.913604\"/>\n",
       "<use xlink:href=\"#glyph-1731630588227008--0-7\" x=\"19.379283\" y=\"64.913604\"/>\n",
       "<use xlink:href=\"#glyph-1731630588227008--0-8\" x=\"24.582863\" y=\"64.913604\"/>\n",
       "</g>\n",
       "<g fill=\"rgb(0%, 0%, 0%)\" fill-opacity=\"1\">\n",
       "<use xlink:href=\"#glyph-1731630588227008--0-9\" x=\"43.390434\" y=\"65.815956\"/>\n",
       "<use xlink:href=\"#glyph-1731630588227008--0-10\" x=\"48.594014\" y=\"65.815956\"/>\n",
       "</g>\n",
       "<g fill=\"rgb(0%, 0%, 0%)\" fill-opacity=\"1\">\n",
       "<use xlink:href=\"#glyph-1731630588227008--0-5\" x=\"130.441002\" y=\"36.628313\"/>\n",
       "</g>\n",
       "<g fill=\"rgb(0%, 0%, 0%)\" fill-opacity=\"1\">\n",
       "<use xlink:href=\"#glyph-1731630588227008--0-3\" x=\"67.402737\" y=\"65.761238\"/>\n",
       "<use xlink:href=\"#glyph-1731630588227008--0-2\" x=\"72.606317\" y=\"65.761238\"/>\n",
       "<use xlink:href=\"#glyph-1731630588227008--0-11\" x=\"77.809898\" y=\"65.761238\"/>\n",
       "<use xlink:href=\"#glyph-1731630588227008--0-3\" x=\"83.013478\" y=\"65.761238\"/>\n",
       "<use xlink:href=\"#glyph-1731630588227008--0-1\" x=\"88.217058\" y=\"65.761238\"/>\n",
       "<use xlink:href=\"#glyph-1731630588227008--0-12\" x=\"93.420638\" y=\"65.761238\"/>\n",
       "<use xlink:href=\"#glyph-1731630588227008--0-6\" x=\"98.624219\" y=\"65.761238\"/>\n",
       "<use xlink:href=\"#glyph-1731630588227008--0-13\" x=\"103.827799\" y=\"65.761238\"/>\n",
       "<use xlink:href=\"#glyph-1731630588227008--0-2\" x=\"109.031379\" y=\"65.761238\"/>\n",
       "<use xlink:href=\"#glyph-1731630588227008--0-11\" x=\"114.23496\" y=\"65.761238\"/>\n",
       "</g>\n",
       "<g fill=\"rgb(0%, 0%, 0%)\" fill-opacity=\"1\">\n",
       "<use xlink:href=\"#glyph-1731630588227008--0-13\" x=\"156.04013\" y=\"37.620203\"/>\n",
       "<use xlink:href=\"#glyph-1731630588227008--0-14\" x=\"161.243711\" y=\"37.620203\"/>\n",
       "</g>\n",
       "<g fill=\"rgb(0%, 0%, 0%)\" fill-opacity=\"1\">\n",
       "<use xlink:href=\"#glyph-1731630588227008--0-15\" x=\"158.641729\" y=\"65.518488\"/>\n",
       "</g>\n",
       "<g fill=\"rgb(0%, 0%, 0%)\" fill-opacity=\"1\">\n",
       "<use xlink:href=\"#glyph-1731630588227008--0-6\" x=\"116.92463\" y=\"93.115326\"/>\n",
       "<use xlink:href=\"#glyph-1731630588227008--0-3\" x=\"122.12821\" y=\"93.115326\"/>\n",
       "<use xlink:href=\"#glyph-1731630588227008--0-2\" x=\"127.331791\" y=\"93.115326\"/>\n",
       "<use xlink:href=\"#glyph-1731630588227008--0-7\" x=\"132.535371\" y=\"93.115326\"/>\n",
       "<use xlink:href=\"#glyph-1731630588227008--0-8\" x=\"137.738951\" y=\"93.115326\"/>\n",
       "</g>\n",
       "<g fill=\"rgb(0%, 0%, 0%)\" fill-opacity=\"1\">\n",
       "<use xlink:href=\"#glyph-1731630588227008--0-16\" x=\"156.547517\" y=\"93.992805\"/>\n",
       "<use xlink:href=\"#glyph-1731630588227008--0-17\" x=\"161.751097\" y=\"93.992805\"/>\n",
       "</g>\n",
       "<g fill=\"rgb(0%, 0%, 0%)\" fill-opacity=\"1\">\n",
       "<use xlink:href=\"#glyph-1731630588227008--0-0\" x=\"177.44984\" y=\"65.761238\"/>\n",
       "<use xlink:href=\"#glyph-1731630588227008--0-1\" x=\"182.653421\" y=\"65.761238\"/>\n",
       "<use xlink:href=\"#glyph-1731630588227008--0-2\" x=\"187.857001\" y=\"65.761238\"/>\n",
       "<use xlink:href=\"#glyph-1731630588227008--0-3\" x=\"193.060581\" y=\"65.761238\"/>\n",
       "<use xlink:href=\"#glyph-1731630588227008--0-4\" x=\"198.264161\" y=\"65.761238\"/>\n",
       "</g>\n",
       "<g fill=\"rgb(0%, 0%, 0%)\" fill-opacity=\"1\">\n",
       "<use xlink:href=\"#glyph-1731630588227008--0-5\" x=\"187.349842\" y=\"93.030761\"/>\n",
       "</g>\n",
       "<g fill=\"rgb(0%, 0%, 0%)\" fill-opacity=\"1\">\n",
       "<use xlink:href=\"#glyph-1731630588227008--0-3\" x=\"113.90419\" y=\"122.163686\"/>\n",
       "<use xlink:href=\"#glyph-1731630588227008--0-2\" x=\"119.10777\" y=\"122.163686\"/>\n",
       "<use xlink:href=\"#glyph-1731630588227008--0-11\" x=\"124.31135\" y=\"122.163686\"/>\n",
       "<use xlink:href=\"#glyph-1731630588227008--0-3\" x=\"129.51493\" y=\"122.163686\"/>\n",
       "<use xlink:href=\"#glyph-1731630588227008--0-1\" x=\"134.718511\" y=\"122.163686\"/>\n",
       "<use xlink:href=\"#glyph-1731630588227008--0-12\" x=\"139.922091\" y=\"122.163686\"/>\n",
       "<use xlink:href=\"#glyph-1731630588227008--0-6\" x=\"145.125671\" y=\"122.163686\"/>\n",
       "<use xlink:href=\"#glyph-1731630588227008--0-13\" x=\"150.329251\" y=\"122.163686\"/>\n",
       "<use xlink:href=\"#glyph-1731630588227008--0-2\" x=\"155.532832\" y=\"122.163686\"/>\n",
       "<use xlink:href=\"#glyph-1731630588227008--0-11\" x=\"160.736412\" y=\"122.163686\"/>\n",
       "</g>\n",
       "<g fill=\"rgb(0%, 0%, 0%)\" fill-opacity=\"1\">\n",
       "<use xlink:href=\"#glyph-1731630588227008--0-18\" x=\"179.545047\" y=\"122.163686\"/>\n",
       "<use xlink:href=\"#glyph-1731630588227008--0-19\" x=\"184.748627\" y=\"122.163686\"/>\n",
       "<use xlink:href=\"#glyph-1731630588227008--0-6\" x=\"189.952208\" y=\"122.163686\"/>\n",
       "<use xlink:href=\"#glyph-1731630588227008--0-6\" x=\"195.155788\" y=\"122.163686\"/>\n",
       "</g>\n",
       "<g fill=\"rgb(0%, 0%, 0%)\" fill-opacity=\"1\">\n",
       "<use xlink:href=\"#glyph-1731630588227008--0-0\" x=\"222.275923\" y=\"65.761238\"/>\n",
       "<use xlink:href=\"#glyph-1731630588227008--0-1\" x=\"227.479504\" y=\"65.761238\"/>\n",
       "<use xlink:href=\"#glyph-1731630588227008--0-2\" x=\"232.683084\" y=\"65.761238\"/>\n",
       "<use xlink:href=\"#glyph-1731630588227008--0-3\" x=\"237.886664\" y=\"65.761238\"/>\n",
       "<use xlink:href=\"#glyph-1731630588227008--0-4\" x=\"243.090244\" y=\"65.761238\"/>\n",
       "</g>\n",
       "<g fill=\"rgb(0%, 0%, 0%)\" fill-opacity=\"1\">\n",
       "<use xlink:href=\"#glyph-1731630588227008--0-5\" x=\"237.380116\" y=\"93.030761\"/>\n",
       "</g>\n",
       "<g fill=\"rgb(0%, 0%, 0%)\" fill-opacity=\"1\">\n",
       "<use xlink:href=\"#glyph-1731630588227008--0-3\" x=\"213.963743\" y=\"122.163686\"/>\n",
       "<use xlink:href=\"#glyph-1731630588227008--0-2\" x=\"219.167323\" y=\"122.163686\"/>\n",
       "<use xlink:href=\"#glyph-1731630588227008--0-11\" x=\"224.370903\" y=\"122.163686\"/>\n",
       "<use xlink:href=\"#glyph-1731630588227008--0-3\" x=\"229.574483\" y=\"122.163686\"/>\n",
       "<use xlink:href=\"#glyph-1731630588227008--0-1\" x=\"234.778064\" y=\"122.163686\"/>\n",
       "<use xlink:href=\"#glyph-1731630588227008--0-12\" x=\"239.981644\" y=\"122.163686\"/>\n",
       "<use xlink:href=\"#glyph-1731630588227008--0-6\" x=\"245.185224\" y=\"122.163686\"/>\n",
       "<use xlink:href=\"#glyph-1731630588227008--0-13\" x=\"250.388805\" y=\"122.163686\"/>\n",
       "<use xlink:href=\"#glyph-1731630588227008--0-2\" x=\"255.592385\" y=\"122.163686\"/>\n",
       "<use xlink:href=\"#glyph-1731630588227008--0-11\" x=\"260.795965\" y=\"122.163686\"/>\n",
       "</g>\n",
       "<g fill=\"rgb(0%, 0%, 0%)\" fill-opacity=\"1\">\n",
       "<use xlink:href=\"#glyph-1731630588227008--0-20\" x=\"279.6046\" y=\"121.118072\"/>\n",
       "<use xlink:href=\"#glyph-1731630588227008--0-21\" x=\"284.808181\" y=\"121.118072\"/>\n",
       "<use xlink:href=\"#glyph-1731630588227008--0-19\" x=\"290.011761\" y=\"121.118072\"/>\n",
       "<use xlink:href=\"#glyph-1731630588227008--0-22\" x=\"295.215341\" y=\"121.118072\"/>\n",
       "</g>\n",
       "<g fill=\"rgb(0%, 0%, 0%)\" fill-opacity=\"1\">\n",
       "<use xlink:href=\"#glyph-1731630588227008--0-23\" x=\"305.622502\" y=\"121.118072\"/>\n",
       "<use xlink:href=\"#glyph-1731630588227008--0-24\" x=\"310.826082\" y=\"121.118072\"/>\n",
       "<use xlink:href=\"#glyph-1731630588227008--0-19\" x=\"316.029662\" y=\"121.118072\"/>\n",
       "<use xlink:href=\"#glyph-1731630588227008--0-13\" x=\"321.233242\" y=\"121.118072\"/>\n",
       "<use xlink:href=\"#glyph-1731630588227008--0-11\" x=\"326.436823\" y=\"121.118072\"/>\n",
       "</g>\n",
       "<g fill=\"rgb(0%, 0%, 0%)\" fill-opacity=\"1\">\n",
       "<use xlink:href=\"#glyph-1731630588227008--0-3\" x=\"180.052433\" y=\"37.560511\"/>\n",
       "<use xlink:href=\"#glyph-1731630588227008--0-2\" x=\"185.256014\" y=\"37.560511\"/>\n",
       "<use xlink:href=\"#glyph-1731630588227008--0-11\" x=\"190.459594\" y=\"37.560511\"/>\n",
       "<use xlink:href=\"#glyph-1731630588227008--0-3\" x=\"195.663174\" y=\"37.560511\"/>\n",
       "<use xlink:href=\"#glyph-1731630588227008--0-1\" x=\"200.866754\" y=\"37.560511\"/>\n",
       "<use xlink:href=\"#glyph-1731630588227008--0-12\" x=\"206.070335\" y=\"37.560511\"/>\n",
       "<use xlink:href=\"#glyph-1731630588227008--0-6\" x=\"211.273915\" y=\"37.560511\"/>\n",
       "<use xlink:href=\"#glyph-1731630588227008--0-13\" x=\"216.477495\" y=\"37.560511\"/>\n",
       "<use xlink:href=\"#glyph-1731630588227008--0-2\" x=\"221.681076\" y=\"37.560511\"/>\n",
       "<use xlink:href=\"#glyph-1731630588227008--0-11\" x=\"226.884656\" y=\"37.560511\"/>\n",
       "</g>\n",
       "</svg>\n",
       "\n"
      ],
      "text/plain": [
       "LabelledTree({20, 19} directed simple Int64 graph, Any[:block, :(=), :score, 78, :(=), :conclusion, \"\", :if, :>, :score, 60, :block, :(=), :conclusion, \"Pass\", :block, :(=), :conclusion, \"Exam Again\", :conclusion])"
      ]
     },
     "metadata": {},
     "output_type": "display_data"
    }
   ],
   "source": [
    "TreeView.walk_tree(Base.remove_linenums!(colon_block_ex))"
   ]
  },
  {
   "cell_type": "code",
   "execution_count": 116,
   "metadata": {},
   "outputs": [
    {
     "name": "stdout",
     "output_type": "stream",
     "text": [
      "(:block,\n",
      "  (:(=), :score, 78),\n",
      "  (:(=), :conclusion, \"\"),\n",
      "  (:if, (:call, :>, :score, 60), (:block,\n",
      "      (:(=), :conclusion, \"Pass\")\n",
      "    ), (:block,\n",
      "      (:(=), :conclusion, \"Exam Again\")\n",
      "    )),\n",
      "  :conclusion\n",
      ")"
     ]
    }
   ],
   "source": [
    "Meta.show_sexpr(colon_block_ex)"
   ]
  },
  {
   "cell_type": "code",
   "execution_count": 125,
   "metadata": {},
   "outputs": [
    {
     "data": {
      "text/plain": [
       "quote\n",
       "    \u001b[90m#= e:\\Projects.jl\\Training.jl\\9. Expr\\jl_notebook_cell_df34fa98e69747e1a8f8a730347b8e2f_Y100sZmlsZQ==.jl:3 =#\u001b[39m\n",
       "    a = 1\n",
       "    \u001b[90m#= e:\\Projects.jl\\Training.jl\\9. Expr\\jl_notebook_cell_df34fa98e69747e1a8f8a730347b8e2f_Y100sZmlsZQ==.jl:4 =#\u001b[39m\n",
       "    b = 1 + 1\n",
       "    \u001b[90m#= e:\\Projects.jl\\Training.jl\\9. Expr\\jl_notebook_cell_df34fa98e69747e1a8f8a730347b8e2f_Y100sZmlsZQ==.jl:5 =#\u001b[39m\n",
       "    c = 3\n",
       "    \u001b[90m#= e:\\Projects.jl\\Training.jl\\9. Expr\\jl_notebook_cell_df34fa98e69747e1a8f8a730347b8e2f_Y100sZmlsZQ==.jl:6 =#\u001b[39m\n",
       "    d = a + b * c + 1\n",
       "end"
      ]
     },
     "metadata": {},
     "output_type": "display_data"
    }
   ],
   "source": [
    "colon_statements_ex = :(\n",
    "begin\n",
    "    a=1\n",
    "    b=1+1\n",
    "    c=3\n",
    "    d= a+b*c+1\n",
    "end\n",
    ")"
   ]
  },
  {
   "cell_type": "code",
   "execution_count": 129,
   "metadata": {},
   "outputs": [
    {
     "data": {
      "text/plain": [
       "quote\n",
       "    a = 1\n",
       "    \u001b[90m#= e:\\Projects.jl\\Training.jl\\9. Expr\\jl_notebook_cell_df34fa98e69747e1a8f8a730347b8e2f_X40sZmlsZQ==.jl:1 =#\u001b[39m\n",
       "    b = 1 + 1\n",
       "    \u001b[90m#= e:\\Projects.jl\\Training.jl\\9. Expr\\jl_notebook_cell_df34fa98e69747e1a8f8a730347b8e2f_X40sZmlsZQ==.jl:1 =#\u001b[39m\n",
       "    c = 3\n",
       "    \u001b[90m#= e:\\Projects.jl\\Training.jl\\9. Expr\\jl_notebook_cell_df34fa98e69747e1a8f8a730347b8e2f_X40sZmlsZQ==.jl:1 =#\u001b[39m\n",
       "    d = a + b * c + 1\n",
       "end"
      ]
     },
     "metadata": {},
     "output_type": "display_data"
    }
   ],
   "source": [
    "colon_statements_ex = :(a=1; b=1+1; c=3; d= a+b*c+1;)"
   ]
  },
  {
   "cell_type": "code",
   "execution_count": 99,
   "metadata": {},
   "outputs": [
    {
     "name": "stdout",
     "output_type": "stream",
     "text": [
      "(:block,\n",
      "  (:(=), :a, 1),\n",
      "  :(\u001b[90m#= e:\\Projects.jl\\Training.jl\\9. Expr\\jl_notebook_cell_df34fa98e69747e1a8f8a730347b8e2f_X40sZmlsZQ==.jl:1 =#\u001b[39m),\n",
      "  (:(=), :b, (:call, :+, 1, 1)),\n",
      "  :(\u001b[90m#= e:\\Projects.jl\\Training.jl\\9. Expr\\jl_notebook_cell_df34fa98e69747e1a8f8a730347b8e2f_X40sZmlsZQ==.jl:1 =#\u001b[39m),\n",
      "  (:(=), :c, 3),\n",
      "  :(\u001b[90m#= e:\\Projects.jl\\Training.jl\\9. Expr\\jl_notebook_cell_df34fa98e69747e1a8f8a730347b8e2f_X40sZmlsZQ==.jl:1 =#\u001b[39m),\n",
      "  (:(=), :d, (:call, :+, :a, (:call, :*, :b, :c), 1))\n",
      ")"
     ]
    }
   ],
   "source": [
    "Meta.show_sexpr(colon_statements_ex)"
   ]
  },
  {
   "cell_type": "code",
   "execution_count": 111,
   "metadata": {},
   "outputs": [
    {
     "name": "stdout",
     "output_type": "stream",
     "text": [
      "Expr\n",
      "  head: Symbol block\n",
      "  args: Array{Any}((7,))\n",
      "    1: Expr\n",
      "      head: Symbol =\n",
      "      args: Array{Any}((2,))\n",
      "        1: Symbol a\n",
      "        2: Int64 1\n",
      "    2: LineNumberNode\n",
      "      line: Int64 1\n",
      "      file: Symbol e:\\Projects.jl\\Training.jl\\9. Expr\\jl_notebook_cell_df34fa98e69747e1a8f8a730347b8e2f_X40sZmlsZQ==.jl\n",
      "    3: Expr\n",
      "      head: Symbol =\n",
      "      args: Array{Any}((2,))\n",
      "        1: Symbol b\n",
      "        2: Expr\n",
      "          head: Symbol call\n",
      "          args: Array{Any}((3,))\n",
      "            1: Symbol +\n",
      "            2: Int64 1\n",
      "            3: Int64 1\n",
      "    4: LineNumberNode\n",
      "      line: Int64 1\n",
      "      file: Symbol e:\\Projects.jl\\Training.jl\\9. Expr\\jl_notebook_cell_df34fa98e69747e1a8f8a730347b8e2f_X40sZmlsZQ==.jl\n",
      "    5: Expr\n",
      "      head: Symbol =\n",
      "      args: Array{Any}((2,))\n",
      "        1: Symbol c\n",
      "        2: Int64 3\n",
      "    6: LineNumberNode\n",
      "      line: Int64 1\n",
      "      file: Symbol e:\\Projects.jl\\Training.jl\\9. Expr\\jl_notebook_cell_df34fa98e69747e1a8f8a730347b8e2f_X40sZmlsZQ==.jl\n",
      "    7: Expr\n",
      "      head: Symbol =\n",
      "      args: Array{Any}((2,))\n",
      "        1: Symbol d\n",
      "        2: Expr\n",
      "          head: Symbol call\n",
      "          args: Array{Any}((4,))\n",
      "            1: Symbol +\n",
      "            2: Symbol a\n",
      "            3: Expr\n",
      "              head: Symbol call\n",
      "              args: Array{Any}((3,))\n",
      "                1: Symbol *\n",
      "                2: Symbol b\n",
      "                3: Symbol c\n",
      "            4: Int64 1\n"
     ]
    }
   ],
   "source": [
    "dump(colon_statements_ex)"
   ]
  },
  {
   "cell_type": "code",
   "execution_count": 112,
   "metadata": {},
   "outputs": [
    {
     "data": {
      "text/plain": [
       "quote\n",
       "    a = 1\n",
       "    b = 1 + 1\n",
       "    c = 3\n",
       "    d = a + b * c + 1\n",
       "end"
      ]
     },
     "metadata": {},
     "output_type": "display_data"
    }
   ],
   "source": [
    "Base.remove_linenums!(colon_statements_ex)"
   ]
  },
  {
   "cell_type": "code",
   "execution_count": 106,
   "metadata": {},
   "outputs": [
    {
     "name": "stdout",
     "output_type": "stream",
     "text": [
      "(:block,\n",
      "  (:(=), :a, 1),\n",
      "  (:(=), :b, (:call, :+, 1, 1)),\n",
      "  (:(=), :c, 3),\n",
      "  (:(=), :d, (:call, :+, :a, (:call, :*, :b, :c), 1))\n",
      ")"
     ]
    }
   ],
   "source": [
    "Meta.show_sexpr(colon_statements_ex)"
   ]
  },
  {
   "cell_type": "code",
   "execution_count": 107,
   "metadata": {},
   "outputs": [
    {
     "data": {
      "image/svg+xml": [
       "<?xml version=\"1.0\" encoding=\"UTF-8\"?>\n",
       "<svg xmlns=\"http://www.w3.org/2000/svg\" xmlns:xlink=\"http://www.w3.org/1999/xlink\" width=\"238.643\" height=\"126.174\" viewBox=\"0 0 238.643 126.174\">\n",
       "<defs>\n",
       "<g>\n",
       "<g id=\"glyph-1731630588227007--0-0\">\n",
       "<path d=\"M 4.828125 -2.140625 C 4.828125 -3.359375 3.953125 -4.328125 2.890625 -4.328125 C 2.421875 -4.328125 1.984375 -4.140625 1.640625 -3.84375 L 1.640625 -5.640625 C 1.640625 -5.9375 1.578125 -6.046875 1.25 -6.046875 L 0.53125 -6.046875 C 0.359375 -6.046875 0.125 -6.046875 0.125 -5.734375 C 0.125 -5.4375 0.375 -5.4375 0.515625 -5.4375 L 0.953125 -5.4375 L 0.953125 -0.40625 C 0.953125 -0.203125 0.953125 0 1.3125 0 C 1.640625 0 1.640625 -0.203125 1.640625 -0.4375 C 2.046875 -0.03125 2.46875 0.0625 2.796875 0.0625 C 3.875 0.0625 4.828125 -0.875 4.828125 -2.140625 Z M 4.140625 -2.140625 C 4.140625 -1.1875 3.453125 -0.546875 2.765625 -0.546875 C 1.984375 -0.546875 1.640625 -1.421875 1.640625 -1.890625 L 1.640625 -2.609375 C 1.640625 -3.1875 2.21875 -3.71875 2.84375 -3.71875 C 3.578125 -3.71875 4.140625 -3 4.140625 -2.140625 Z M 4.140625 -2.140625 \"/>\n",
       "</g>\n",
       "<g id=\"glyph-1731630588227007--0-1\">\n",
       "<path d=\"M 4.625 -0.296875 C 4.625 -0.609375 4.375 -0.609375 4.21875 -0.609375 L 2.9375 -0.609375 L 2.9375 -5.640625 C 2.9375 -5.9375 2.875 -6.046875 2.546875 -6.046875 L 0.984375 -6.046875 C 0.828125 -6.046875 0.578125 -6.046875 0.578125 -5.734375 C 0.578125 -5.4375 0.828125 -5.4375 0.96875 -5.4375 L 2.25 -5.4375 L 2.25 -0.609375 L 0.984375 -0.609375 C 0.828125 -0.609375 0.578125 -0.609375 0.578125 -0.296875 C 0.578125 0 0.828125 0 0.96875 0 L 4.21875 0 C 4.375 0 4.625 0 4.625 -0.296875 Z M 4.625 -0.296875 \"/>\n",
       "</g>\n",
       "<g id=\"glyph-1731630588227007--0-2\">\n",
       "<path d=\"M 4.625 -2.140625 C 4.625 -3.375 3.703125 -4.359375 2.59375 -4.359375 C 1.484375 -4.359375 0.5625 -3.375 0.5625 -2.140625 C 0.5625 -0.875 1.5 0.0625 2.59375 0.0625 C 3.671875 0.0625 4.625 -0.890625 4.625 -2.140625 Z M 3.9375 -2.203125 C 3.9375 -1.28125 3.328125 -0.546875 2.59375 -0.546875 C 1.859375 -0.546875 1.25 -1.28125 1.25 -2.203125 C 1.25 -3.109375 1.890625 -3.75 2.59375 -3.75 C 3.296875 -3.75 3.9375 -3.109375 3.9375 -2.203125 Z M 3.9375 -2.203125 \"/>\n",
       "</g>\n",
       "<g id=\"glyph-1731630588227007--0-3\">\n",
       "<path d=\"M 4.609375 -1.078125 C 4.609375 -1.359375 4.328125 -1.359375 4.265625 -1.359375 C 4.109375 -1.359375 4 -1.328125 3.9375 -1.140625 C 3.875 -1.015625 3.6875 -0.546875 2.953125 -0.546875 C 2.109375 -0.546875 1.40625 -1.234375 1.40625 -2.140625 C 1.40625 -2.609375 1.6875 -3.75 3.015625 -3.75 C 3.21875 -3.75 3.609375 -3.75 3.609375 -3.65625 C 3.625 -3.3125 3.8125 -3.171875 4.046875 -3.171875 C 4.28125 -3.171875 4.484375 -3.34375 4.484375 -3.625 C 4.484375 -4.359375 3.46875 -4.359375 3.015625 -4.359375 C 1.3125 -4.359375 0.71875 -3 0.71875 -2.140625 C 0.71875 -0.953125 1.65625 0.0625 2.890625 0.0625 C 4.265625 0.0625 4.609375 -0.90625 4.609375 -1.078125 Z M 4.609375 -1.078125 \"/>\n",
       "</g>\n",
       "<g id=\"glyph-1731630588227007--0-4\">\n",
       "<path d=\"M 5.03125 -0.296875 C 5.03125 -0.609375 4.765625 -0.609375 4.625 -0.609375 L 4.3125 -0.609375 L 2.84375 -2.515625 L 4.0625 -3.65625 L 4.40625 -3.65625 C 4.546875 -3.65625 4.8125 -3.65625 4.8125 -3.953125 C 4.8125 -4.265625 4.546875 -4.265625 4.40625 -4.265625 L 2.875 -4.265625 C 2.71875 -4.265625 2.484375 -4.265625 2.484375 -3.953125 C 2.484375 -3.65625 2.734375 -3.65625 2.875 -3.65625 L 3.25 -3.65625 L 1.640625 -2.15625 L 1.640625 -5.640625 C 1.640625 -5.9375 1.578125 -6.046875 1.25 -6.046875 L 0.609375 -6.046875 C 0.453125 -6.046875 0.203125 -6.046875 0.203125 -5.75 C 0.203125 -5.4375 0.4375 -5.4375 0.609375 -5.4375 L 1.09375 -5.4375 L 1.09375 -0.609375 L 0.609375 -0.609375 C 0.453125 -0.609375 0.203125 -0.609375 0.203125 -0.3125 C 0.203125 0 0.4375 0 0.609375 0 L 2.125 0 C 2.28125 0 2.515625 0 2.515625 -0.296875 C 2.515625 -0.609375 2.28125 -0.609375 2.125 -0.609375 L 1.640625 -0.609375 L 1.640625 -1.40625 L 2.4375 -2.140625 L 3.609375 -0.609375 C 3.25 -0.609375 3.0625 -0.609375 3.0625 -0.296875 C 3.0625 0 3.296875 0 3.453125 0 L 4.625 0 C 4.765625 0 5.03125 0 5.03125 -0.296875 Z M 5.03125 -0.296875 \"/>\n",
       "</g>\n",
       "<g id=\"glyph-1731630588227007--0-5\">\n",
       "<path d=\"M 4.8125 -3.78125 C 4.8125 -4.125 4.4375 -4.125 4.296875 -4.125 L 0.875 -4.125 C 0.734375 -4.125 0.375 -4.125 0.375 -3.78125 C 0.375 -3.4375 0.703125 -3.4375 0.828125 -3.4375 L 4.359375 -3.4375 C 4.484375 -3.4375 4.8125 -3.4375 4.8125 -3.78125 Z M 4.8125 -2.28125 C 4.8125 -2.625 4.484375 -2.625 4.359375 -2.625 L 0.828125 -2.625 C 0.703125 -2.625 0.375 -2.625 0.375 -2.28125 C 0.375 -1.921875 0.734375 -1.921875 0.875 -1.921875 L 4.296875 -1.921875 C 4.4375 -1.921875 4.8125 -1.921875 4.8125 -2.28125 Z M 4.8125 -2.28125 \"/>\n",
       "</g>\n",
       "<g id=\"glyph-1731630588227007--0-6\">\n",
       "<path d=\"M 5.140625 -0.3125 C 5.140625 -0.609375 4.890625 -0.609375 4.734375 -0.609375 C 4.328125 -0.609375 4.21875 -0.65625 4.140625 -0.6875 L 4.140625 -2.8125 C 4.140625 -3.515625 3.609375 -4.359375 2.1875 -4.359375 C 1.765625 -4.359375 0.75 -4.359375 0.75 -3.625 C 0.75 -3.328125 0.953125 -3.171875 1.203125 -3.171875 C 1.34375 -3.171875 1.625 -3.265625 1.625 -3.625 C 1.625 -3.703125 1.640625 -3.71875 1.84375 -3.734375 C 1.984375 -3.75 2.109375 -3.75 2.203125 -3.75 C 2.953125 -3.75 3.46875 -3.4375 3.46875 -2.734375 C 1.71875 -2.703125 0.5 -2.21875 0.5 -1.265625 C 0.5 -0.578125 1.125 0.0625 2.125 0.0625 C 2.5 0.0625 3.109375 -0.015625 3.578125 -0.3125 C 3.78125 -0.015625 4.265625 0 4.640625 0 C 4.921875 0 5.140625 0 5.140625 -0.3125 Z M 3.46875 -1.328125 C 3.46875 -1.09375 3.46875 -0.890625 3.078125 -0.71875 C 2.71875 -0.546875 2.28125 -0.546875 2.203125 -0.546875 C 1.578125 -0.546875 1.171875 -0.875 1.171875 -1.265625 C 1.171875 -1.75 2.03125 -2.109375 3.46875 -2.15625 Z M 3.46875 -1.328125 \"/>\n",
       "</g>\n",
       "<g id=\"glyph-1731630588227007--0-7\">\n",
       "<path d=\"M 4.375 -0.296875 C 4.375 -0.609375 4.140625 -0.609375 3.96875 -0.609375 L 3.078125 -0.609375 L 3.078125 -5.75 C 3.078125 -5.90625 3.078125 -6.15625 2.78125 -6.15625 C 2.59375 -6.15625 2.53125 -6.03125 2.484375 -5.921875 C 2.109375 -5.078125 1.59375 -4.96875 1.40625 -4.9375 C 1.25 -4.9375 1.03125 -4.921875 1.03125 -4.640625 C 1.03125 -4.390625 1.21875 -4.34375 1.359375 -4.34375 C 1.546875 -4.34375 1.953125 -4.40625 2.390625 -4.78125 L 2.390625 -0.609375 L 1.5 -0.609375 C 1.328125 -0.609375 1.09375 -0.609375 1.09375 -0.296875 C 1.09375 0 1.34375 0 1.5 0 L 3.96875 0 C 4.125 0 4.375 0 4.375 -0.296875 Z M 4.375 -0.296875 \"/>\n",
       "</g>\n",
       "<g id=\"glyph-1731630588227007--0-8\">\n",
       "<path d=\"M 4.8125 -3.03125 C 4.8125 -3.375 4.453125 -3.375 4.34375 -3.375 L 2.9375 -3.375 L 2.9375 -4.78125 C 2.9375 -4.90625 2.9375 -5.25 2.59375 -5.25 C 2.25 -5.25 2.25 -4.90625 2.25 -4.78125 L 2.25 -3.375 L 0.84375 -3.375 C 0.71875 -3.375 0.375 -3.375 0.375 -3.03125 C 0.375 -2.6875 0.71875 -2.6875 0.84375 -2.6875 L 2.25 -2.6875 L 2.25 -1.265625 C 2.25 -1.140625 2.25 -0.796875 2.59375 -0.796875 C 2.9375 -0.796875 2.9375 -1.140625 2.9375 -1.265625 L 2.9375 -2.6875 L 4.34375 -2.6875 C 4.453125 -2.6875 4.8125 -2.6875 4.8125 -3.03125 Z M 4.8125 -3.03125 \"/>\n",
       "</g>\n",
       "<g id=\"glyph-1731630588227007--0-9\">\n",
       "<path d=\"M 4.75 -1.71875 C 4.75 -2.421875 4.28125 -3 3.625 -3.296875 C 4.1875 -3.65625 4.453125 -4.21875 4.453125 -4.75 C 4.453125 -5.484375 3.734375 -6.15625 2.59375 -6.15625 C 1.421875 -6.15625 0.71875 -5.671875 0.71875 -5 C 0.71875 -4.671875 0.96875 -4.53125 1.171875 -4.53125 C 1.375 -4.53125 1.609375 -4.703125 1.609375 -4.96875 C 1.609375 -5.109375 1.546875 -5.21875 1.515625 -5.234375 C 1.8125 -5.546875 2.515625 -5.546875 2.609375 -5.546875 C 3.28125 -5.546875 3.78125 -5.1875 3.78125 -4.75 C 3.78125 -4.453125 3.625 -4.109375 3.359375 -3.890625 C 3.046875 -3.625 2.796875 -3.609375 2.4375 -3.59375 C 1.875 -3.546875 1.734375 -3.546875 1.734375 -3.265625 C 1.734375 -2.953125 1.96875 -2.953125 2.125 -2.953125 L 2.578125 -2.953125 C 3.5625 -2.953125 4.0625 -2.296875 4.0625 -1.71875 C 4.0625 -1.125 3.515625 -0.5 2.609375 -0.5 C 2.21875 -0.5 1.453125 -0.609375 1.203125 -1.0625 C 1.25 -1.125 1.3125 -1.171875 1.3125 -1.375 C 1.3125 -1.609375 1.125 -1.8125 0.875 -1.8125 C 0.65625 -1.8125 0.4375 -1.65625 0.4375 -1.34375 C 0.4375 -0.46875 1.390625 0.109375 2.609375 0.109375 C 3.90625 0.109375 4.75 -0.796875 4.75 -1.71875 Z M 4.75 -1.71875 \"/>\n",
       "</g>\n",
       "<g id=\"glyph-1731630588227007--0-10\">\n",
       "<path d=\"M 5.0625 -0.3125 C 5.0625 -0.609375 4.8125 -0.609375 4.671875 -0.609375 L 4.21875 -0.609375 L 4.21875 -5.640625 C 4.21875 -5.9375 4.15625 -6.046875 3.828125 -6.046875 L 3.109375 -6.046875 C 2.953125 -6.046875 2.703125 -6.046875 2.703125 -5.734375 C 2.703125 -5.4375 2.953125 -5.4375 3.09375 -5.4375 L 3.546875 -5.4375 L 3.546875 -3.875 C 3.21875 -4.15625 2.8125 -4.328125 2.390625 -4.328125 C 1.3125 -4.328125 0.359375 -3.375 0.359375 -2.125 C 0.359375 -0.90625 1.25 0.0625 2.296875 0.0625 C 2.84375 0.0625 3.265625 -0.203125 3.546875 -0.5 C 3.546875 -0.140625 3.546875 0 3.9375 0 L 4.65625 0 C 4.8125 0 5.0625 0 5.0625 -0.3125 Z M 3.546875 -1.921875 C 3.546875 -1.359375 3.09375 -0.546875 2.328125 -0.546875 C 1.625 -0.546875 1.03125 -1.25 1.03125 -2.125 C 1.03125 -3.078125 1.734375 -3.71875 2.421875 -3.71875 C 3.0625 -3.71875 3.546875 -3.171875 3.546875 -2.625 Z M 3.546875 -1.921875 \"/>\n",
       "</g>\n",
       "<g id=\"glyph-1731630588227007--0-11\">\n",
       "<path d=\"M 4.515625 -2.109375 C 4.515625 -2.28125 4.390625 -2.375 4.375 -2.390625 C 4.125 -2.546875 3.453125 -2.875 3.1875 -3.015625 L 4.265625 -3.59375 C 4.375 -3.671875 4.515625 -3.734375 4.515625 -3.921875 C 4.515625 -3.96875 4.515625 -4.25 4.109375 -4.25 L 2.890625 -3.546875 C 2.90625 -3.796875 2.921875 -4.453125 2.921875 -4.734375 C 2.921875 -4.828125 2.921875 -5.15625 2.59375 -5.15625 C 2.265625 -5.15625 2.265625 -4.828125 2.265625 -4.734375 C 2.265625 -4.453125 2.28125 -3.796875 2.296875 -3.546875 L 1.21875 -4.15625 C 1.09375 -4.25 1.0625 -4.25 1 -4.25 C 0.796875 -4.25 0.671875 -4.078125 0.671875 -3.921875 C 0.671875 -3.734375 0.78125 -3.671875 0.90625 -3.609375 L 1.984375 -3.03125 L 0.921875 -2.4375 C 0.796875 -2.375 0.671875 -2.3125 0.671875 -2.109375 C 0.671875 -2.078125 0.671875 -1.796875 1.0625 -1.796875 L 2.296875 -2.5 C 2.28125 -2.25 2.265625 -1.59375 2.265625 -1.3125 C 2.265625 -1.21875 2.265625 -0.890625 2.59375 -0.890625 C 2.921875 -0.890625 2.921875 -1.21875 2.921875 -1.3125 C 2.921875 -1.59375 2.90625 -2.25 2.890625 -2.5 C 3.484375 -2.171875 3.125 -2.359375 3.8125 -1.953125 C 4.078125 -1.796875 4.109375 -1.796875 4.1875 -1.796875 C 4.375 -1.796875 4.515625 -1.96875 4.515625 -2.109375 Z M 4.515625 -2.109375 \"/>\n",
       "</g>\n",
       "</g>\n",
       "</defs>\n",
       "<path fill=\"none\" stroke-width=\"0.3985\" stroke-linecap=\"butt\" stroke-linejoin=\"miter\" stroke=\"rgb(0%, 0%, 0%)\" stroke-opacity=\"1\" stroke-miterlimit=\"10\" d=\"M -16.482546 -6.592809 L -64.305301 -25.721125 \" transform=\"matrix(0.993496, 0, 0, -0.993496, 105.062845, 6.352414)\"/>\n",
       "<path fill=\"none\" stroke-width=\"0.31879\" stroke-linecap=\"round\" stroke-linejoin=\"round\" stroke=\"rgb(0%, 0%, 0%)\" stroke-opacity=\"1\" stroke-miterlimit=\"10\" d=\"M -1.1969 1.595169 C -1.097597 0.996445 0.000556435 0.0998253 0.299919 0.00125655 C 0.0012877 -0.099506 -1.093935 -0.995408 -1.193962 -1.594863 \" transform=\"matrix(-0.922401, 0.368955, 0.368955, 0.922401, 41.17462, 31.907716)\"/>\n",
       "<path fill=\"none\" stroke-width=\"0.3985\" stroke-linecap=\"butt\" stroke-linejoin=\"miter\" stroke=\"rgb(0%, 0%, 0%)\" stroke-opacity=\"1\" stroke-miterlimit=\"10\" d=\"M -3.295214 -6.592809 L -11.170654 -22.339758 \" transform=\"matrix(0.993496, 0, 0, -0.993496, 105.062845, 6.352414)\"/>\n",
       "<path fill=\"none\" stroke-width=\"0.31879\" stroke-linecap=\"round\" stroke-linejoin=\"round\" stroke=\"rgb(0%, 0%, 0%)\" stroke-opacity=\"1\" stroke-miterlimit=\"10\" d=\"M -1.1973 1.59429 C -1.095312 0.994639 -0.00152993 0.0995503 0.299173 -0.000687155 C 0.000226815 -0.0974022 -1.097088 -0.997747 -1.19557 -1.59212 \" transform=\"matrix(-0.444262, 0.888543, 0.888543, 0.444262, 93.965553, 28.546977)\"/>\n",
       "<path fill=\"none\" stroke-width=\"0.3985\" stroke-linecap=\"butt\" stroke-linejoin=\"miter\" stroke=\"rgb(0%, 0%, 0%)\" stroke-opacity=\"1\" stroke-miterlimit=\"10\" d=\"M 3.298452 -6.592809 L 11.16996 -22.339758 \" transform=\"matrix(0.993496, 0, 0, -0.993496, 105.062845, 6.352414)\"/>\n",
       "<path fill=\"none\" stroke-width=\"0.31879\" stroke-linecap=\"round\" stroke-linejoin=\"round\" stroke=\"rgb(0%, 0%, 0%)\" stroke-opacity=\"1\" stroke-miterlimit=\"10\" d=\"M -1.194121 1.595017 C -1.097398 0.997126 0.00167512 0.100299 0.298863 0.0000668006 C -0.0018401 -0.100171 -1.095622 -0.995259 -1.19761 -1.59491 \" transform=\"matrix(0.444262, 0.888543, 0.888543, -0.444262, 116.160136, 28.546977)\"/>\n",
       "<path fill=\"none\" stroke-width=\"0.3985\" stroke-linecap=\"butt\" stroke-linejoin=\"miter\" stroke=\"rgb(0%, 0%, 0%)\" stroke-opacity=\"1\" stroke-miterlimit=\"10\" d=\"M 16.481852 -6.592809 L 64.304607 -25.721125 \" transform=\"matrix(0.993496, 0, 0, -0.993496, 105.062845, 6.352414)\"/>\n",
       "<path fill=\"none\" stroke-width=\"0.31879\" stroke-linecap=\"round\" stroke-linejoin=\"round\" stroke=\"rgb(0%, 0%, 0%)\" stroke-opacity=\"1\" stroke-miterlimit=\"10\" d=\"M -1.194606 1.594606 C -1.094579 0.995151 0.000643753 0.0992485 0.299275 -0.00151412 C -0.000087509 -0.100083 -1.09459 -0.995243 -1.193894 -1.593966 \" transform=\"matrix(0.922401, 0.368955, 0.368955, -0.922401, 168.951069, 31.907716)\"/>\n",
       "<path fill=\"none\" stroke-width=\"0.3985\" stroke-linecap=\"butt\" stroke-linejoin=\"miter\" stroke=\"rgb(0%, 0%, 0%)\" stroke-opacity=\"1\" stroke-miterlimit=\"10\" d=\"M -76.462496 -33.942565 L -93.149149 -50.629219 \" transform=\"matrix(0.993496, 0, 0, -0.993496, 105.062845, 6.352414)\"/>\n",
       "<path fill=\"none\" stroke-width=\"0.31879\" stroke-linecap=\"round\" stroke-linejoin=\"round\" stroke=\"rgb(0%, 0%, 0%)\" stroke-opacity=\"1\" stroke-miterlimit=\"10\" d=\"M -1.196809 1.593271 C -1.09394 0.995518 0.0014769 0.10028 0.298963 -0.00258952 C 0.0014769 -0.0998981 -1.09672 -0.997917 -1.196809 -1.59289 \" transform=\"matrix(-0.702501, 0.702501, 0.702501, 0.702501, 12.520435, 56.651172)\"/>\n",
       "<path fill=\"none\" stroke-width=\"0.3985\" stroke-linecap=\"butt\" stroke-linejoin=\"miter\" stroke=\"rgb(0%, 0%, 0%)\" stroke-opacity=\"1\" stroke-miterlimit=\"10\" d=\"M -70.867512 -33.942565 L -70.867512 -49.618741 \" transform=\"matrix(0.993496, 0, 0, -0.993496, 105.062845, 6.352414)\"/>\n",
       "<path fill=\"none\" stroke-width=\"0.31879\" stroke-linecap=\"round\" stroke-linejoin=\"round\" stroke=\"rgb(0%, 0%, 0%)\" stroke-opacity=\"1\" stroke-miterlimit=\"10\" d=\"M -1.193613 1.595808 C -1.095318 0.998171 0.00166084 0.0977832 0.300479 -0.00051234 C 0.00166084 -0.0988079 -1.095318 -0.995263 -1.193613 -1.5929 \" transform=\"matrix(0, 0.993496, 0.993496, 0, 34.656759, 55.646787)\"/>\n",
       "<path fill=\"none\" stroke-width=\"0.3985\" stroke-linecap=\"butt\" stroke-linejoin=\"miter\" stroke=\"rgb(0%, 0%, 0%)\" stroke-opacity=\"1\" stroke-miterlimit=\"10\" d=\"M -19.769549 -33.942565 L -36.063021 -50.236037 \" transform=\"matrix(0.993496, 0, 0, -0.993496, 105.062845, 6.352414)\"/>\n",
       "<path fill=\"none\" stroke-width=\"0.31879\" stroke-linecap=\"round\" stroke-linejoin=\"round\" stroke=\"rgb(0%, 0%, 0%)\" stroke-opacity=\"1\" stroke-miterlimit=\"10\" d=\"M -1.195854 1.592809 C -1.095766 0.997836 0.0024311 0.0998172 0.297137 -0.000271658 C -0.000349143 -0.0975802 -1.095766 -0.99838 -1.195854 -1.593352 \" transform=\"matrix(-0.702501, 0.702501, 0.702501, 0.702501, 69.236274, 56.260202)\"/>\n",
       "<path fill=\"none\" stroke-width=\"0.3985\" stroke-linecap=\"butt\" stroke-linejoin=\"miter\" stroke=\"rgb(0%, 0%, 0%)\" stroke-opacity=\"1\" stroke-miterlimit=\"10\" d=\"M -14.174566 -33.942565 L -14.174566 -50.0709 \" transform=\"matrix(0.993496, 0, 0, -0.993496, 105.062845, 6.352414)\"/>\n",
       "<path fill=\"none\" stroke-width=\"0.31879\" stroke-linecap=\"round\" stroke-linejoin=\"round\" stroke=\"rgb(0%, 0%, 0%)\" stroke-opacity=\"1\" stroke-miterlimit=\"10\" d=\"M -1.194774 1.595144 C -1.096478 0.997507 0.000500405 0.101051 0.299319 -0.00117624 C 0.000500405 -0.0994718 -1.096478 -0.995927 -1.194774 -1.593564 \" transform=\"matrix(0, 0.993496, 0.993496, 0, 90.981637, 56.097159)\"/>\n",
       "<path fill=\"none\" stroke-width=\"0.3985\" stroke-linecap=\"butt\" stroke-linejoin=\"miter\" stroke=\"rgb(0%, 0%, 0%)\" stroke-opacity=\"1\" stroke-miterlimit=\"10\" d=\"M -17.257115 -62.857187 L -24.833737 -78.01043 \" transform=\"matrix(0.993496, 0, 0, -0.993496, 105.062845, 6.352414)\"/>\n",
       "<path fill=\"none\" stroke-width=\"0.31879\" stroke-linecap=\"round\" stroke-linejoin=\"round\" stroke=\"rgb(0%, 0%, 0%)\" stroke-opacity=\"1\" stroke-miterlimit=\"10\" d=\"M -1.195224 1.595023 C -1.094995 0.998889 0.00054568 0.100283 0.297732 -0.00171262 C -0.0012146 -0.0984277 -1.095012 -0.997014 -1.197011 -1.593146 \" transform=\"matrix(-0.444262, 0.888543, 0.888543, 0.444262, 80.391605, 83.857307)\"/>\n",
       "<path fill=\"none\" stroke-width=\"0.3985\" stroke-linecap=\"butt\" stroke-linejoin=\"miter\" stroke=\"rgb(0%, 0%, 0%)\" stroke-opacity=\"1\" stroke-miterlimit=\"10\" d=\"M -11.092018 -62.857187 L -3.515396 -78.01043 \" transform=\"matrix(0.993496, 0, 0, -0.993496, 105.062845, 6.352414)\"/>\n",
       "<path fill=\"none\" stroke-width=\"0.31879\" stroke-linecap=\"round\" stroke-linejoin=\"round\" stroke=\"rgb(0%, 0%, 0%)\" stroke-opacity=\"1\" stroke-miterlimit=\"10\" d=\"M -1.196296 1.594576 C -1.096056 0.994927 -0.00049931 0.0998583 0.296689 -0.000373787 C 0.00126097 -0.0988527 -1.094279 -0.997458 -1.194509 -1.593592 \" transform=\"matrix(0.444262, 0.888543, 0.888543, -0.444262, 101.57165, 83.857307)\"/>\n",
       "<path fill=\"none\" stroke-width=\"0.3985\" stroke-linecap=\"butt\" stroke-linejoin=\"miter\" stroke=\"rgb(0%, 0%, 0%)\" stroke-opacity=\"1\" stroke-miterlimit=\"10\" d=\"M 14.173873 -33.942565 L 14.173873 -50.495537 \" transform=\"matrix(0.993496, 0, 0, -0.993496, 105.062845, 6.352414)\"/>\n",
       "<path fill=\"none\" stroke-width=\"0.31879\" stroke-linecap=\"round\" stroke-linejoin=\"round\" stroke=\"rgb(0%, 0%, 0%)\" stroke-opacity=\"1\" stroke-miterlimit=\"10\" d=\"M -1.197469 1.592871 C -1.095241 0.995234 0.00173722 0.0987783 0.300556 0.000482721 C 0.00173722 -0.0978128 -1.095241 -0.9982 -1.197469 -1.595837 \" transform=\"matrix(0, 0.993496, 0.993496, 0, 119.144052, 56.517805)\"/>\n",
       "<path fill=\"none\" stroke-width=\"0.3985\" stroke-linecap=\"butt\" stroke-linejoin=\"miter\" stroke=\"rgb(0%, 0%, 0%)\" stroke-opacity=\"1\" stroke-miterlimit=\"10\" d=\"M 19.768856 -33.942565 L 36.062328 -50.236037 \" transform=\"matrix(0.993496, 0, 0, -0.993496, 105.062845, 6.352414)\"/>\n",
       "<path fill=\"none\" stroke-width=\"0.31879\" stroke-linecap=\"round\" stroke-linejoin=\"round\" stroke=\"rgb(0%, 0%, 0%)\" stroke-opacity=\"1\" stroke-miterlimit=\"10\" d=\"M -1.196338 1.592855 C -1.096249 0.997882 0.00194778 0.099863 0.296654 -0.00022581 C 0.00194778 -0.100315 -1.096249 -0.998334 -1.196338 -1.593306 \" transform=\"matrix(0.702501, 0.702501, 0.702501, -0.702501, 140.889415, 56.260192)\"/>\n",
       "<path fill=\"none\" stroke-width=\"0.3985\" stroke-linecap=\"butt\" stroke-linejoin=\"miter\" stroke=\"rgb(0%, 0%, 0%)\" stroke-opacity=\"1\" stroke-miterlimit=\"10\" d=\"M 70.866819 -33.942565 L 70.866819 -49.642332 \" transform=\"matrix(0.993496, 0, 0, -0.993496, 105.062845, 6.352414)\"/>\n",
       "<path fill=\"none\" stroke-width=\"0.31879\" stroke-linecap=\"round\" stroke-linejoin=\"round\" stroke=\"rgb(0%, 0%, 0%)\" stroke-opacity=\"1\" stroke-miterlimit=\"10\" d=\"M -1.194942 1.592207 C -1.096647 0.99457 0.000331772 0.0981144 0.29915 -0.000181178 C 0.000331772 -0.0984767 -1.096647 -0.994932 -1.194942 -1.592569 \" transform=\"matrix(0, 0.993496, 0.993496, 0, 175.46893, 55.671545)\"/>\n",
       "<path fill=\"none\" stroke-width=\"0.3985\" stroke-linecap=\"butt\" stroke-linejoin=\"miter\" stroke=\"rgb(0%, 0%, 0%)\" stroke-opacity=\"1\" stroke-miterlimit=\"10\" d=\"M 76.465734 -33.942565 L 92.755274 -50.236037 \" transform=\"matrix(0.993496, 0, 0, -0.993496, 105.062845, 6.352414)\"/>\n",
       "<path fill=\"none\" stroke-width=\"0.31879\" stroke-linecap=\"round\" stroke-linejoin=\"round\" stroke=\"rgb(0%, 0%, 0%)\" stroke-opacity=\"1\" stroke-miterlimit=\"10\" d=\"M -1.19402 1.595172 C -1.096711 0.99742 0.0014854 0.0994006 0.298972 0.00209205 C 0.0014854 -0.100777 -1.093931 -0.996016 -1.1968 -1.593769 \" transform=\"matrix(0.702501, 0.702501, 0.702501, -0.702501, 197.214284, 56.260192)\"/>\n",
       "<path fill=\"none\" stroke-width=\"0.3985\" stroke-linecap=\"butt\" stroke-linejoin=\"miter\" stroke=\"rgb(0%, 0%, 0%)\" stroke-opacity=\"1\" stroke-miterlimit=\"10\" d=\"M 93.077683 -62.829664 L 76.933621 -78.973726 \" transform=\"matrix(0.993496, 0, 0, -0.993496, 105.062845, 6.352414)\"/>\n",
       "<path fill=\"none\" stroke-width=\"0.31879\" stroke-linecap=\"round\" stroke-linejoin=\"round\" stroke=\"rgb(0%, 0%, 0%)\" stroke-opacity=\"1\" stroke-miterlimit=\"10\" d=\"M -1.194248 1.593015 C -1.09694 0.995262 -0.00152337 0.100023 0.298743 -0.0000657735 C -0.00152337 -0.100155 -1.09694 -0.995393 -1.194248 -1.593146 \" transform=\"matrix(-0.702501, 0.702501, 0.702501, 0.702501, 181.49507, 84.813616)\"/>\n",
       "<path fill=\"none\" stroke-width=\"0.3985\" stroke-linecap=\"butt\" stroke-linejoin=\"miter\" stroke=\"rgb(0%, 0%, 0%)\" stroke-opacity=\"1\" stroke-miterlimit=\"10\" d=\"M 99.215258 -62.857187 L 99.215258 -78.466521 \" transform=\"matrix(0.993496, 0, 0, -0.993496, 105.062845, 6.352414)\"/>\n",
       "<path fill=\"none\" stroke-width=\"0.31879\" stroke-linecap=\"round\" stroke-linejoin=\"round\" stroke=\"rgb(0%, 0%, 0%)\" stroke-opacity=\"1\" stroke-miterlimit=\"10\" d=\"M -1.195763 1.593826 C -1.097467 0.996189 -0.000488765 0.0997333 0.29833 0.00143778 C -0.000488765 -0.10079 -1.097467 -0.997245 -1.195763 -1.594882 \" transform=\"matrix(0, 0.993496, 0.993496, 0, 203.631384, 84.309079)\"/>\n",
       "<path fill=\"none\" stroke-width=\"0.3985\" stroke-linecap=\"butt\" stroke-linejoin=\"miter\" stroke=\"rgb(0%, 0%, 0%)\" stroke-opacity=\"1\" stroke-miterlimit=\"10\" d=\"M 105.348901 -62.829664 L 121.099781 -78.580544 \" transform=\"matrix(0.993496, 0, 0, -0.993496, 105.062845, 6.352414)\"/>\n",
       "<path fill=\"none\" stroke-width=\"0.31879\" stroke-linecap=\"round\" stroke-linejoin=\"round\" stroke=\"rgb(0%, 0%, 0%)\" stroke-opacity=\"1\" stroke-miterlimit=\"10\" d=\"M -1.194496 1.592392 C -1.094408 0.99742 -0.00177137 0.0994006 0.298495 -0.000688191 C 0.00100887 -0.0979968 -1.097188 -0.996016 -1.194496 -1.593769 \" transform=\"matrix(0.702501, 0.702501, 0.702501, -0.702501, 225.376728, 84.422636)\"/>\n",
       "<path fill=\"none\" stroke-width=\"0.3985\" stroke-linecap=\"butt\" stroke-linejoin=\"miter\" stroke=\"rgb(0%, 0%, 0%)\" stroke-opacity=\"1\" stroke-miterlimit=\"10\" d=\"M 96.1563 -91.154512 L 88.54036 -106.38246 \" transform=\"matrix(0.993496, 0, 0, -0.993496, 105.062845, 6.352414)\"/>\n",
       "<path fill=\"none\" stroke-width=\"0.31879\" stroke-linecap=\"round\" stroke-linejoin=\"round\" stroke=\"rgb(0%, 0%, 0%)\" stroke-opacity=\"1\" stroke-miterlimit=\"10\" d=\"M -1.194628 1.594532 C -1.097923 0.99665 0.00110698 0.0998089 0.298287 -0.00218784 C -0.00065505 -0.0988985 -1.094441 -0.997459 -1.196443 -1.593579 \" transform=\"matrix(-0.444262, 0.888563, 0.888563, 0.444262, 193.028993, 112.044519)\"/>\n",
       "<path fill=\"none\" stroke-width=\"0.3985\" stroke-linecap=\"butt\" stroke-linejoin=\"miter\" stroke=\"rgb(0%, 0%, 0%)\" stroke-opacity=\"1\" stroke-miterlimit=\"10\" d=\"M 102.270284 -91.154512 L 110.31086 -107.235665 \" transform=\"matrix(0.993496, 0, 0, -0.993496, 105.062845, 6.352414)\"/>\n",
       "<path fill=\"none\" stroke-width=\"0.31879\" stroke-linecap=\"round\" stroke-linejoin=\"round\" stroke=\"rgb(0%, 0%, 0%)\" stroke-opacity=\"1\" stroke-miterlimit=\"10\" d=\"M -1.194463 1.594428 C -1.09774 0.996537 0.00133306 0.0997095 0.298521 -0.000522587 C -0.00042368 -0.097243 -1.095964 -0.995849 -1.196193 -1.591982 \" transform=\"matrix(0.444262, 0.888543, 0.888543, -0.444262, 214.656905, 112.890769)\"/>\n",
       "<g fill=\"rgb(0%, 0%, 0%)\" fill-opacity=\"1\">\n",
       "<use xlink:href=\"#glyph-1731630588227007--0-0\" x=\"92.07189\" y=\"9.346811\"/>\n",
       "<use xlink:href=\"#glyph-1731630588227007--0-1\" x=\"97.268258\" y=\"9.346811\"/>\n",
       "<use xlink:href=\"#glyph-1731630588227007--0-2\" x=\"102.464626\" y=\"9.346811\"/>\n",
       "<use xlink:href=\"#glyph-1731630588227007--0-3\" x=\"107.660994\" y=\"9.346811\"/>\n",
       "<use xlink:href=\"#glyph-1731630588227007--0-4\" x=\"112.857362\" y=\"9.346811\"/>\n",
       "</g>\n",
       "<g fill=\"rgb(0%, 0%, 0%)\" fill-opacity=\"1\">\n",
       "<use xlink:href=\"#glyph-1731630588227007--0-5\" x=\"32.05976\" y=\"36.578538\"/>\n",
       "</g>\n",
       "<g fill=\"rgb(0%, 0%, 0%)\" fill-opacity=\"1\">\n",
       "<use xlink:href=\"#glyph-1731630588227007--0-6\" x=\"3.898121\" y=\"64.824625\"/>\n",
       "</g>\n",
       "<g fill=\"rgb(0%, 0%, 0%)\" fill-opacity=\"1\">\n",
       "<use xlink:href=\"#glyph-1731630588227007--0-7\" x=\"32.05976\" y=\"65.75553\"/>\n",
       "</g>\n",
       "<g fill=\"rgb(0%, 0%, 0%)\" fill-opacity=\"1\">\n",
       "<use xlink:href=\"#glyph-1731630588227007--0-5\" x=\"88.384033\" y=\"36.578538\"/>\n",
       "</g>\n",
       "<g fill=\"rgb(0%, 0%, 0%)\" fill-opacity=\"1\">\n",
       "<use xlink:href=\"#glyph-1731630588227007--0-0\" x=\"60.2214\" y=\"65.671083\"/>\n",
       "</g>\n",
       "<g fill=\"rgb(0%, 0%, 0%)\" fill-opacity=\"1\">\n",
       "<use xlink:href=\"#glyph-1731630588227007--0-8\" x=\"88.384033\" y=\"65.304483\"/>\n",
       "</g>\n",
       "<g fill=\"rgb(0%, 0%, 0%)\" fill-opacity=\"1\">\n",
       "<use xlink:href=\"#glyph-1731630588227007--0-7\" x=\"74.303213\" y=\"93.91717\"/>\n",
       "</g>\n",
       "<g fill=\"rgb(0%, 0%, 0%)\" fill-opacity=\"1\">\n",
       "<use xlink:href=\"#glyph-1731630588227007--0-7\" x=\"102.464852\" y=\"93.91717\"/>\n",
       "</g>\n",
       "<g fill=\"rgb(0%, 0%, 0%)\" fill-opacity=\"1\">\n",
       "<use xlink:href=\"#glyph-1731630588227007--0-5\" x=\"116.545672\" y=\"36.578538\"/>\n",
       "</g>\n",
       "<g fill=\"rgb(0%, 0%, 0%)\" fill-opacity=\"1\">\n",
       "<use xlink:href=\"#glyph-1731630588227007--0-3\" x=\"116.545672\" y=\"64.824625\"/>\n",
       "</g>\n",
       "<g fill=\"rgb(0%, 0%, 0%)\" fill-opacity=\"1\">\n",
       "<use xlink:href=\"#glyph-1731630588227007--0-9\" x=\"144.708305\" y=\"65.700888\"/>\n",
       "</g>\n",
       "<g fill=\"rgb(0%, 0%, 0%)\" fill-opacity=\"1\">\n",
       "<use xlink:href=\"#glyph-1731630588227007--0-5\" x=\"172.869944\" y=\"36.578538\"/>\n",
       "</g>\n",
       "<g fill=\"rgb(0%, 0%, 0%)\" fill-opacity=\"1\">\n",
       "<use xlink:href=\"#glyph-1731630588227007--0-10\" x=\"172.869944\" y=\"65.671083\"/>\n",
       "</g>\n",
       "<g fill=\"rgb(0%, 0%, 0%)\" fill-opacity=\"1\">\n",
       "<use xlink:href=\"#glyph-1731630588227007--0-8\" x=\"201.032577\" y=\"65.304483\"/>\n",
       "</g>\n",
       "<g fill=\"rgb(0%, 0%, 0%)\" fill-opacity=\"1\">\n",
       "<use xlink:href=\"#glyph-1731630588227007--0-6\" x=\"172.869944\" y=\"92.986264\"/>\n",
       "</g>\n",
       "<g fill=\"rgb(0%, 0%, 0%)\" fill-opacity=\"1\">\n",
       "<use xlink:href=\"#glyph-1731630588227007--0-11\" x=\"201.032577\" y=\"93.417441\"/>\n",
       "</g>\n",
       "<g fill=\"rgb(0%, 0%, 0%)\" fill-opacity=\"1\">\n",
       "<use xlink:href=\"#glyph-1731630588227007--0-0\" x=\"186.950764\" y=\"121.995356\"/>\n",
       "</g>\n",
       "<g fill=\"rgb(0%, 0%, 0%)\" fill-opacity=\"1\">\n",
       "<use xlink:href=\"#glyph-1731630588227007--0-3\" x=\"215.113397\" y=\"121.148897\"/>\n",
       "</g>\n",
       "<g fill=\"rgb(0%, 0%, 0%)\" fill-opacity=\"1\">\n",
       "<use xlink:href=\"#glyph-1731630588227007--0-7\" x=\"229.194217\" y=\"93.91717\"/>\n",
       "</g>\n",
       "</svg>\n",
       "\n"
      ],
      "text/plain": [
       "LabelledTree({20, 19} directed simple Int64 graph, Any[:block, :(=), :a, 1, :(=), :b, :+, 1, 1, :(=), :c, 3, :(=), :d, :+, :a, :*, :b, :c, 1])"
      ]
     },
     "metadata": {},
     "output_type": "display_data"
    }
   ],
   "source": [
    "TreeView.walk_tree(colon_statements_ex)"
   ]
  },
  {
   "cell_type": "code",
   "execution_count": 113,
   "metadata": {},
   "outputs": [
    {
     "name": "stdout",
     "output_type": "stream",
     "text": [
      "Expr\n",
      "  head: Symbol block\n",
      "  args: Array{Any}((4,))\n",
      "    1: Expr\n",
      "      head: Symbol =\n",
      "      args: Array{Any}((2,))\n",
      "        1: Symbol a\n",
      "        2: Int64 1\n",
      "    2: Expr\n",
      "      head: Symbol =\n",
      "      args: Array{Any}((2,))\n",
      "        1: Symbol b\n",
      "        2: Expr\n",
      "          head: Symbol call\n",
      "          args: Array{Any}((3,))\n",
      "            1: Symbol +\n",
      "            2: Int64 1\n",
      "            3: Int64 1\n",
      "    3: Expr\n",
      "      head: Symbol =\n",
      "      args: Array{Any}((2,))\n",
      "        1: Symbol c\n",
      "        2: Int64 3\n",
      "    4: Expr\n",
      "      head: Symbol =\n",
      "      args: Array{Any}((2,))\n",
      "        1: Symbol d\n",
      "        2: Expr\n",
      "          head: Symbol call\n",
      "          args: Array{Any}((4,))\n",
      "            1: Symbol +\n",
      "            2: Symbol a\n",
      "            3: Expr\n",
      "              head: Symbol call\n",
      "              args: Array{Any}((3,))\n",
      "                1: Symbol *\n",
      "                2: Symbol b\n",
      "                3: Symbol c\n",
      "            4: Int64 1\n"
     ]
    }
   ],
   "source": [
    "dump(colon_statements_ex)"
   ]
  }
 ],
 "metadata": {
  "kernelspec": {
   "display_name": "Julia 1.11.0",
   "language": "julia",
   "name": "julia-1.11"
  },
  "language_info": {
   "file_extension": ".jl",
   "mimetype": "application/julia",
   "name": "julia",
   "version": "1.11.0"
  }
 },
 "nbformat": 4,
 "nbformat_minor": 2
}
