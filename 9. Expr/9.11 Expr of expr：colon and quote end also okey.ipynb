{
 "cells": [
  {
   "cell_type": "code",
   "execution_count": 1,
   "metadata": {},
   "outputs": [
    {
     "data": {
      "text/plain": [
       ":($(Expr(:quote, :(1 + 2))))"
      ]
     },
     "metadata": {},
     "output_type": "display_data"
    }
   ],
   "source": [
    "str_ex = Meta.parse(\":(1+2)\")"
   ]
  },
  {
   "cell_type": "code",
   "execution_count": null,
   "metadata": {},
   "outputs": [
    {
     "data": {
      "text/plain": [
       "true"
      ]
     },
     "metadata": {},
     "output_type": "display_data"
    }
   ],
   "source": [
    "str_ex == :(:(1+2))"
   ]
  },
  {
   "cell_type": "code",
   "execution_count": null,
   "metadata": {},
   "outputs": [
    {
     "data": {
      "text/plain": [
       "quote\n",
       "    \u001b[90m#= e:\\Projects.jl\\Training.jl\\9. Expr\\jl_notebook_cell_df34fa98e69747e1a8f8a730347b8e2f_X66sZmlsZQ==.jl:2 =#\u001b[39m\n",
       "    $(Expr(:quote, :(1 + 2)))\n",
       "end"
      ]
     },
     "metadata": {},
     "output_type": "display_data"
    }
   ],
   "source": [
    "quote_end_ex = quote  # : 等价于 quote end \n",
    "    :(1+2)\n",
    "end"
   ]
  },
  {
   "cell_type": "code",
   "execution_count": null,
   "metadata": {},
   "outputs": [
    {
     "data": {
      "text/plain": [
       "false"
      ]
     },
     "metadata": {},
     "output_type": "display_data"
    },
    {
     "data": {
      "text/plain": [
       "true"
      ]
     },
     "metadata": {},
     "output_type": "display_data"
    },
    {
     "data": {
      "text/plain": [
       "3"
      ]
     },
     "metadata": {},
     "output_type": "display_data"
    },
    {
     "data": {
      "text/plain": [
       "3"
      ]
     },
     "metadata": {},
     "output_type": "display_data"
    }
   ],
   "source": [
    "(str_ex == quote_end_ex) |> display \n",
    "# 虽然为false, 其实是等价的, 如下行反推证明\n",
    "\n",
    "# : 等价于 quote end\n",
    "(\n",
    "    str_ex == :($(Expr(:quote, :(1 + 2))))\n",
    "    ) |> display\n",
    "    \n",
    "eval(eval(str_ex)) |> display\n",
    "eval(eval(quote_end_ex)) |> display"
   ]
  },
  {
   "cell_type": "code",
   "execution_count": null,
   "metadata": {},
   "outputs": [
    {
     "data": {
      "text/plain": [
       "false"
      ]
     },
     "metadata": {},
     "output_type": "display_data"
    }
   ],
   "source": [
    "Base.remove_linenums!(quote_end_ex)\n",
    "str_ex == quote_end_ex"
   ]
  },
  {
   "cell_type": "code",
   "execution_count": null,
   "metadata": {},
   "outputs": [
    {
     "data": {
      "text/plain": [
       "quote\n",
       "    \u001b[90m#= e:\\Projects.jl\\Training.jl\\9. Expr\\jl_notebook_cell_df34fa98e69747e1a8f8a730347b8e2f_Y102sZmlsZQ==.jl:2 =#\u001b[39m\n",
       "    Expr(:call, :+, 1, 2)\n",
       "end"
      ]
     },
     "metadata": {},
     "output_type": "display_data"
    }
   ],
   "source": [
    "quote_end_Expr_ex = quote  # : 等价于 quote end \n",
    "    Expr(:call, :+, 1, 2)\n",
    "end"
   ]
  },
  {
   "cell_type": "code",
   "execution_count": null,
   "metadata": {},
   "outputs": [
    {
     "data": {
      "text/plain": [
       "false"
      ]
     },
     "metadata": {},
     "output_type": "display_data"
    },
    {
     "data": {
      "text/plain": [
       "false"
      ]
     },
     "metadata": {},
     "output_type": "display_data"
    },
    {
     "data": {
      "text/plain": [
       ":(1 + 2)"
      ]
     },
     "metadata": {},
     "output_type": "display_data"
    },
    {
     "data": {
      "text/plain": [
       ":(1 + 2)"
      ]
     },
     "metadata": {},
     "output_type": "display_data"
    }
   ],
   "source": [
    "(str_ex == quote_end_Expr_ex) |> display\n",
    "# 虽然为false, 其实是等价的, 如下行反推证明\n",
    "\n",
    "# : 等价于 quote end\n",
    "colon_Expr_ex = :(Expr(:call, :+, 1, 2))\n",
    "\n",
    "(str_ex == colon_Expr_ex) |> display\n",
    "# 虽然还是为false,其实是等价的, 有如下结果\n",
    "eval(str_ex) |> display\n",
    "eval(colon_Expr_ex) |> display"
   ]
  },
  {
   "cell_type": "markdown",
   "metadata": {},
   "source": [
    "对整个表达式进行dump,用于整个表达式的 Expr直接构造"
   ]
  },
  {
   "cell_type": "code",
   "execution_count": null,
   "metadata": {},
   "outputs": [
    {
     "name": "stdout",
     "output_type": "stream",
     "text": [
      "Expr\n",
      "  head: Symbol quote\n",
      "  args: Array{Any}((1,))\n",
      "    1: Expr\n",
      "      head: Symbol call\n",
      "      args: Array{Any}((3,))\n",
      "        1: Symbol +\n",
      "        2: Int64 1\n",
      "        3: Int64 2\n"
     ]
    }
   ],
   "source": [
    "dump(:(:(1+2))) # 对整个表达式进行dump,用于整个表达式的 Expr直接构造"
   ]
  },
  {
   "cell_type": "code",
   "execution_count": null,
   "metadata": {},
   "outputs": [
    {
     "data": {
      "text/plain": [
       "false"
      ]
     },
     "metadata": {},
     "output_type": "display_data"
    }
   ],
   "source": [
    "# 直接构造出:\n",
    "Expr(:quote, Expr(:call, :+, 1, 2)) ==\n",
    "Expr(:quote, :(1+2)) ==\n",
    "\n",
    "Meta.quot(Expr(:call, :+, 1, 2))==\n",
    "Meta.quot(:(1+2))==\n",
    "str_ex\n",
    "\n",
    "QuoteNode(Expr(:call, :+, 1, 2)) ==\n",
    "QuoteNode(:(1+2))\n",
    "\n",
    "# : 等价于 quote end \n",
    "quote Expr(:call, :+, 1, 2) end\n",
    "quote :(1+2) end\n",
    "    \n",
    "# :(...)与quote end等价, 用它写成一行:\n",
    ":(Expr(:call, :+, 1, 2))\n",
    ":(:(1+2)) == str_ex"
   ]
  },
  {
   "cell_type": "code",
   "execution_count": null,
   "metadata": {},
   "outputs": [
    {
     "data": {
      "text/plain": [
       "true"
      ]
     },
     "metadata": {},
     "output_type": "display_data"
    }
   ],
   "source": [
    "Expr(:quote, Expr(:call, :+, 1, 2)) ==\n",
    "Expr(:quote, :(1+2)) ==\n",
    "\n",
    "Meta.quot(Expr(:call, :+, 1, 2))==\n",
    "Meta.quot(:(1+2))==\n",
    "str_ex"
   ]
  },
  {
   "cell_type": "code",
   "execution_count": null,
   "metadata": {},
   "outputs": [
    {
     "data": {
      "text/plain": [
       "false"
      ]
     },
     "metadata": {},
     "output_type": "display_data"
    }
   ],
   "source": [
    "quote_end_ex1 = quote Expr(:call, :+, 1, 2) end\n",
    "quote_end_ex2 = quote :(1+2) end\n",
    "Base.remove_linenums!(quote_end_ex1)\n",
    "Base.remove_linenums!(quote_end_ex2)\n",
    "quote_end_ex1 == quote_end_ex2"
   ]
  },
  {
   "cell_type": "code",
   "execution_count": null,
   "metadata": {},
   "outputs": [
    {
     "data": {
      "text/plain": [
       "false"
      ]
     },
     "metadata": {},
     "output_type": "display_data"
    }
   ],
   "source": [
    ":(Expr(:call, :+, 1, 2)) ==\n",
    ":(:(1+2))"
   ]
  },
  {
   "cell_type": "code",
   "execution_count": null,
   "metadata": {},
   "outputs": [
    {
     "data": {
      "text/plain": [
       "true"
      ]
     },
     "metadata": {},
     "output_type": "display_data"
    }
   ],
   "source": [
    "QuoteNode(Expr(:call, :+, 1, 2)) ==\n",
    "QuoteNode(:(1+2))\n"
   ]
  },
  {
   "cell_type": "code",
   "execution_count": null,
   "metadata": {},
   "outputs": [
    {
     "data": {
      "text/plain": [
       ":(1 + 2)"
      ]
     },
     "metadata": {},
     "output_type": "display_data"
    },
    {
     "data": {
      "text/plain": [
       "3"
      ]
     },
     "metadata": {},
     "output_type": "display_data"
    }
   ],
   "source": [
    "eval(QuoteNode(:(1+2))) |> display\n",
    "eval(eval(QuoteNode(:(1+2)))) |> display"
   ]
  },
  {
   "cell_type": "code",
   "execution_count": 5,
   "metadata": {},
   "outputs": [
    {
     "data": {
      "text/plain": [
       ":($(Expr(:quote, 1)))"
      ]
     },
     "metadata": {},
     "output_type": "display_data"
    }
   ],
   "source": [
    "Meta.quot(1)"
   ]
  }
 ],
 "metadata": {
  "kernelspec": {
   "display_name": "Julia 1.11.0",
   "language": "julia",
   "name": "julia-1.11"
  },
  "language_info": {
   "file_extension": ".jl",
   "mimetype": "application/julia",
   "name": "julia",
   "version": "1.11.0"
  }
 },
 "nbformat": 4,
 "nbformat_minor": 2
}
