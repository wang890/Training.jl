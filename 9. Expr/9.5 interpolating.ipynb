{
 "cells": [
  {
   "cell_type": "markdown",
   "metadata": {},
   "source": [
    "### https://riptutorial.com/julia-lang/example/20459/interpolation-and-expressions"
   ]
  },
  {
   "cell_type": "code",
   "execution_count": 1,
   "metadata": {},
   "outputs": [
    {
     "data": {
      "text/plain": [
       "\"there are 2 ducks\""
      ]
     },
     "metadata": {},
     "output_type": "display_data"
    }
   ],
   "source": [
    "n = 2\n",
    "MyString = \"there are $n ducks\""
   ]
  },
  {
   "cell_type": "markdown",
   "metadata": {},
   "source": [
    "We use the `$` sign to insert the value of `n` into the string. We can use the same technique with expressions. E.g.<br>\n",
    "使用 `$` 符号将 `n` 的值插入到字符串中。我们可以用同样的技巧处理表达式。如。"
   ]
  },
  {
   "cell_type": "code",
   "execution_count": 3,
   "metadata": {},
   "outputs": [
    {
     "data": {
      "text/plain": [
       ":(x = 2 * 2)"
      ]
     },
     "metadata": {},
     "output_type": "display_data"
    },
    {
     "data": {
      "text/plain": [
       ":(x = 2 * 2)"
      ]
     },
     "metadata": {},
     "output_type": "display_data"
    },
    {
     "data": {
      "text/plain": [
       "4"
      ]
     },
     "metadata": {},
     "output_type": "display_data"
    }
   ],
   "source": [
    "a = 2\n",
    "ex1 = :(x = 2*$a)\n",
    "ex1 |> display\n",
    "\n",
    "a = 3\n",
    "ex1 |> display\n",
    "eval(ex1)"
   ]
  },
  {
   "cell_type": "code",
   "execution_count": 4,
   "metadata": {},
   "outputs": [
    {
     "data": {
      "text/plain": [
       ":(x = 2a)"
      ]
     },
     "metadata": {},
     "output_type": "display_data"
    },
    {
     "data": {
      "text/plain": [
       "6"
      ]
     },
     "metadata": {},
     "output_type": "display_data"
    }
   ],
   "source": [
    "a = 2\n",
    "ex2 = :(x = 2*a)\n",
    "ex2 |> display\n",
    "\n",
    "a = 3\n",
    "eval(ex2)"
   ]
  },
  {
   "cell_type": "markdown",
   "metadata": {},
   "source": [
    "Thus, with the first example, we set in advance the value of `a` that will be used at the time that the expression is evaluated. With the second example, however, the Julia compiler will only look to `a` to find its value at the time of evaluation for our expression.<br>\n",
    "\n",
    "因此，在第一个示例中，我们提前设置了 `a` 的值，该值将在计算表达式时使用。然而，对于第二个示例，Julia编译器将只查找 `a` 来查找表达式求值时的值。"
   ]
  },
  {
   "cell_type": "markdown",
   "metadata": {},
   "source": [
    "### https://docs.juliacn.com/latest/manual/metaprogramming/#man-expression-interpolation"
   ]
  },
  {
   "cell_type": "markdown",
   "metadata": {},
   "source": [
    "使用值参数直接构造 Expr 对象虽然很强大，但与「通常的」 Julia 语法相比，Expr 构造函数可能让人觉得乏味。作为替代方法，Julia 允许将**字面量**或**表达式**插入到**被引用的表达式**中。表达式插值由前缀 $ 表示。"
   ]
  },
  {
   "cell_type": "code",
   "execution_count": 1,
   "metadata": {},
   "outputs": [
    {
     "data": {
      "text/plain": [
       ":(1 + b)"
      ]
     },
     "metadata": {},
     "output_type": "display_data"
    }
   ],
   "source": [
    "a = 1\n",
    "ex1 = :($a + b)"
   ]
  },
  {
   "cell_type": "markdown",
   "metadata": {},
   "source": [
    "**对未被引用的表达式进行插值是不支持的**，这会导致编译期错误："
   ]
  },
  {
   "cell_type": "code",
   "execution_count": 1,
   "metadata": {},
   "outputs": [
    {
     "ename": "ErrorException",
     "evalue": "syntax: \"$\" expression outside quote around e:\\Projects.jl\\Training.jl\\9. Expr\\jl_notebook_cell_df34fa98e69747e1a8f8a730347b8e2f_X12sZmlsZQ==.jl:1",
     "output_type": "error",
     "traceback": [
      "syntax: \"$\" expression outside quote around e:\\Projects.jl\\Training.jl\\9. Expr\\jl_notebook_cell_df34fa98e69747e1a8f8a730347b8e2f_X12sZmlsZQ==.jl:1\n",
      "\n",
      "Stacktrace:\n",
      " [1] top-level scope\n",
      "   @ e:\\Projects.jl\\Training.jl\\9. Expr\\jl_notebook_cell_df34fa98e69747e1a8f8a730347b8e2f_X12sZmlsZQ==.jl:1"
     ]
    }
   ],
   "source": [
    "$a + b"
   ]
  },
  {
   "cell_type": "markdown",
   "metadata": {},
   "source": [
    "下例中，元组 (1,2,3) 作为表达式插入到条件测试中："
   ]
  },
  {
   "cell_type": "code",
   "execution_count": 3,
   "metadata": {},
   "outputs": [
    {
     "data": {
      "text/plain": [
       ":(a in (1, 2, 3))"
      ]
     },
     "metadata": {},
     "output_type": "display_data"
    }
   ],
   "source": [
    "ex2 = :(a in $:((1,2,3)) )\n",
    "# $ 插入变量 插入表达式，这里是插入表达式 :((1,2,3)), 表达式拼接去掉:"
   ]
  },
  {
   "cell_type": "code",
   "execution_count": 3,
   "metadata": {},
   "outputs": [
    {
     "data": {
      "text/plain": [
       ":(a in (1, 2, 3))"
      ]
     },
     "metadata": {},
     "output_type": "display_data"
    }
   ],
   "source": [
    ":(a in $(1,2,3) )\n",
    "# 这个是插入变量"
   ]
  },
  {
   "cell_type": "code",
   "execution_count": 5,
   "metadata": {},
   "outputs": [
    {
     "data": {
      "text/plain": [
       ":(3 > 1 + 1)"
      ]
     },
     "metadata": {},
     "output_type": "display_data"
    },
    {
     "data": {
      "text/plain": [
       ":(3 > 2)"
      ]
     },
     "metadata": {},
     "output_type": "display_data"
    }
   ],
   "source": [
    ":(3 > $:( 1+1 ) ) |> display # 插入拼接表达式\n",
    ":(3 > $(1+1) ) |> display # 相当于插入变量"
   ]
  },
  {
   "cell_type": "code",
   "execution_count": 5,
   "metadata": {},
   "outputs": [
    {
     "data": {
      "text/plain": [
       ":((1, 2, 3))"
      ]
     },
     "metadata": {},
     "output_type": "display_data"
    },
    {
     "data": {
      "text/plain": [
       "Expr"
      ]
     },
     "metadata": {},
     "output_type": "display_data"
    },
    {
     "data": {
      "text/plain": [
       "(1, 2, 3)"
      ]
     },
     "metadata": {},
     "output_type": "display_data"
    }
   ],
   "source": [
    "ex_interploted = :((1,2,3))\n",
    "ex_interploted |> display\n",
    "ex_interploted |> typeof |> display\n",
    "eval(ex_interploted)"
   ]
  },
  {
   "cell_type": "code",
   "execution_count": 6,
   "metadata": {},
   "outputs": [
    {
     "data": {
      "text/plain": [
       ":(a in (1, 2, 3))"
      ]
     },
     "metadata": {},
     "output_type": "display_data"
    }
   ],
   "source": [
    ":(a in $ex_interploted )"
   ]
  },
  {
   "cell_type": "code",
   "execution_count": 7,
   "metadata": {},
   "outputs": [
    {
     "name": "stdout",
     "output_type": "stream",
     "text": [
      "(:tuple, 1, 2, 3)"
     ]
    }
   ],
   "source": [
    "Meta.show_sexpr(ex_interploted)"
   ]
  },
  {
   "cell_type": "code",
   "execution_count": 8,
   "metadata": {},
   "outputs": [
    {
     "name": "stdout",
     "output_type": "stream",
     "text": [
      "Expr\n",
      "  head: Symbol tuple\n",
      "  args: Array{Any}((3,))\n",
      "    1: Int64 1\n",
      "    2: Int64 2\n",
      "    3: Int64 3\n"
     ]
    }
   ],
   "source": [
    "dump(ex_interploted)"
   ]
  },
  {
   "cell_type": "code",
   "execution_count": 9,
   "metadata": {},
   "outputs": [
    {
     "data": {
      "text/plain": [
       ":((1, 2, 3))"
      ]
     },
     "metadata": {},
     "output_type": "display_data"
    }
   ],
   "source": [
    "Expr(:tuple, 1, 2, 3)"
   ]
  },
  {
   "cell_type": "markdown",
   "metadata": {},
   "source": [
    "**Symbol的值,即eval, 为其对应的变量, eval(:x)=x**<br><br>\n",
    "Splatting 插值<br>\n",
    "表达式组成的数组，需要它们都变成其所处表达式的参数，可通过 **$(xs...)** 做到。例如，下面的代码生成一个函数调用，其**参数数量通过编程确定：**"
   ]
  },
  {
   "cell_type": "code",
   "execution_count": 11,
   "metadata": {},
   "outputs": [
    {
     "data": {
      "text/plain": [
       ":(f(1, x, y, z))"
      ]
     },
     "metadata": {},
     "output_type": "display_data"
    }
   ],
   "source": [
    "args = [:x, :y, :z];\n",
    ":(f(1, $(args...)))"
   ]
  },
  {
   "cell_type": "markdown",
   "metadata": {},
   "source": [
    "### https://docs.juliacn.com/latest/manual/metaprogramming/#嵌套引用"
   ]
  },
  {
   "cell_type": "code",
   "execution_count": 2,
   "metadata": {},
   "outputs": [
    {
     "data": {
      "text/plain": [
       ":(1 + 2)"
      ]
     },
     "metadata": {},
     "output_type": "display_data"
    },
    {
     "data": {
      "text/plain": [
       "quote\n",
       "    \u001b[90m#= e:\\Projects.jl\\Training.jl\\9. Expr\\jl_notebook_cell_df34fa98e69747e1a8f8a730347b8e2f_X16sZmlsZQ==.jl:4 =#\u001b[39m\n",
       "    1 + 2\n",
       "end"
      ]
     },
     "metadata": {},
     "output_type": "display_data"
    }
   ],
   "source": [
    "Expr(:call,:+,1,2) |> display\n",
    "quote_dollar_Expr_end =\n",
    "quote\n",
    "    $(Expr(:call,:+,1,2)) \n",
    "end"
   ]
  },
  {
   "cell_type": "code",
   "execution_count": 3,
   "metadata": {},
   "outputs": [
    {
     "data": {
      "text/plain": [
       "quote\n",
       "    \u001b[90m#= e:\\Projects.jl\\Training.jl\\9. Expr\\jl_notebook_cell_df34fa98e69747e1a8f8a730347b8e2f_X20sZmlsZQ==.jl:3 =#\u001b[39m\n",
       "    Expr(:call, :+, 1, 2)\n",
       "end"
      ]
     },
     "metadata": {},
     "output_type": "display_data"
    }
   ],
   "source": [
    "quote_Expr_end =\n",
    "quote\n",
    "    Expr(:call,:+,1,2)\n",
    "end"
   ]
  },
  {
   "cell_type": "code",
   "execution_count": 4,
   "metadata": {},
   "outputs": [
    {
     "data": {
      "text/plain": [
       "false"
      ]
     },
     "metadata": {},
     "output_type": "display_data"
    },
    {
     "data": {
      "text/plain": [
       "3"
      ]
     },
     "metadata": {},
     "output_type": "display_data"
    },
    {
     "data": {
      "text/plain": [
       ":(1 + 2)"
      ]
     },
     "metadata": {},
     "output_type": "display_data"
    }
   ],
   "source": [
    "Base.remove_linenums!(quote_dollar_Expr_end)\n",
    "Base.remove_linenums!(quote_Expr_end)\n",
    "(quote_dollar_Expr_end == quote_Expr_end) |> display\n",
    "\n",
    "eval(quote_dollar_Expr_end) |> display\n",
    "eval(quote_Expr_end) |> display"
   ]
  },
  {
   "cell_type": "code",
   "execution_count": 6,
   "metadata": {},
   "outputs": [
    {
     "name": "stdout",
     "output_type": "stream",
     "text": [
      "(:block,\n",
      "  (:call, :+, 1, 2)\n",
      ")"
     ]
    }
   ],
   "source": [
    "Meta.show_sexpr(quote_dollar_Expr_end)"
   ]
  },
  {
   "cell_type": "code",
   "execution_count": 11,
   "metadata": {},
   "outputs": [
    {
     "data": {
      "text/plain": [
       "quote\n",
       "    $(Expr(:quote, :(1 + 2)))\n",
       "end"
      ]
     },
     "metadata": {},
     "output_type": "display_data"
    }
   ],
   "source": [
    "quote_dollar_Expr_end2 = quote :(1+2) end\n",
    "Base.remove_linenums!(quote_dollar_Expr_end2)"
   ]
  },
  {
   "cell_type": "code",
   "execution_count": 14,
   "metadata": {},
   "outputs": [
    {
     "name": "stdout",
     "output_type": "stream",
     "text": [
      "(:block,\n",
      "  (:quote, (:call, :+, 1, 2))\n",
      ")\n",
      "\n",
      "Expr\n",
      "  head: Symbol block\n",
      "  args: Array{Any}((1,))\n",
      "    1: Expr\n",
      "      head: Symbol quote\n",
      "      args: Array{Any}((1,))\n",
      "        1: Expr\n",
      "          head: Symbol call\n",
      "          args: Array{Any}((3,))\n",
      "            1: Symbol +\n",
      "            2: Int64 1\n",
      "            3: Int64 2\n"
     ]
    }
   ],
   "source": [
    "Meta.show_sexpr(quote_dollar_Expr_end2)\n",
    "println(\"\\n\")\n",
    "dump(quote_dollar_Expr_end2)"
   ]
  },
  {
   "cell_type": "code",
   "execution_count": 16,
   "metadata": {},
   "outputs": [
    {
     "ename": "ErrorException",
     "evalue": "syntax: \"$\" expression outside quote around e:\\Projects.jl\\Training.jl\\9. Expr\\jl_notebook_cell_df34fa98e69747e1a8f8a730347b8e2f_X54sZmlsZQ==.jl:1",
     "output_type": "error",
     "traceback": [
      "syntax: \"$\" expression outside quote around e:\\Projects.jl\\Training.jl\\9. Expr\\jl_notebook_cell_df34fa98e69747e1a8f8a730347b8e2f_X54sZmlsZQ==.jl:1\n",
      "\n",
      "Stacktrace:\n",
      " [1] top-level scope\n",
      "   @ e:\\Projects.jl\\Training.jl\\9. Expr\\jl_notebook_cell_df34fa98e69747e1a8f8a730347b8e2f_X54sZmlsZQ==.jl:1"
     ]
    }
   ],
   "source": [
    "quote_dollar_Expr_end2 ==\n",
    "quote\n",
    "    $(\n",
    "        Expr(:quote,\n",
    "             $(Expr(:call, :+, 1, 2))\n",
    "            )\n",
    "    )\n",
    "end"
   ]
  },
  {
   "cell_type": "code",
   "execution_count": 17,
   "metadata": {},
   "outputs": [
    {
     "data": {
      "text/plain": [
       "false"
      ]
     },
     "metadata": {},
     "output_type": "display_data"
    }
   ],
   "source": [
    "quote_dollar_Expr_end2 ==\n",
    "quote\n",
    "    $(\n",
    "        Expr(:quote,\n",
    "             :($(Expr(:call, :+, 1, 2)))\n",
    "            )\n",
    "    )\n",
    "end"
   ]
  },
  {
   "cell_type": "code",
   "execution_count": 22,
   "metadata": {},
   "outputs": [
    {
     "data": {
      "text/plain": [
       ":(1 + 2)"
      ]
     },
     "metadata": {},
     "output_type": "display_data"
    },
    {
     "data": {
      "text/plain": [
       "true"
      ]
     },
     "metadata": {},
     "output_type": "display_data"
    }
   ],
   "source": [
    "eval(quote_dollar_Expr_end2) |> display\n",
    "eval(quote_dollar_Expr_end2) == eval(\n",
    "quote\n",
    "    $(\n",
    "        Expr(:quote,\n",
    "             :($(Expr(:call, :+, 1, 2)))\n",
    "            )  # Expr(:quote,ex), ex是表达式形式,并未处于引用quote中\n",
    "    )\n",
    "end\n",
    ")"
   ]
  },
  {
   "cell_type": "markdown",
   "metadata": {},
   "source": [
    "### https://riptutorial.com/julia-lang/example/26313/guide"
   ]
  },
  {
   "cell_type": "code",
   "execution_count": 20,
   "metadata": {},
   "outputs": [
    {
     "data": {
      "text/plain": [
       "Symbol(\"1 + 1\")"
      ]
     },
     "metadata": {},
     "output_type": "display_data"
    }
   ],
   "source": [
    "one_plus_one = Symbol(\"1 + 1\")"
   ]
  },
  {
   "cell_type": "code",
   "execution_count": 21,
   "metadata": {},
   "outputs": [
    {
     "ename": "UndefVarError",
     "evalue": "UndefVarError: `1 + 1` not defined in `Main`\nSuggestion: check for spelling errors or missing imports.",
     "output_type": "error",
     "traceback": [
      "UndefVarError: `1 + 1` not defined in `Main`\n",
      "Suggestion: check for spelling errors or missing imports.\n"
     ]
    }
   ],
   "source": [
    "eval(one_plus_one)"
   ]
  },
  {
   "cell_type": "code",
   "execution_count": 22,
   "metadata": {},
   "outputs": [
    {
     "ename": "UndefVarError",
     "evalue": "UndefVarError: `1 + 1` not defined in `Main`\nSuggestion: check for spelling errors or missing imports.",
     "output_type": "error",
     "traceback": [
      "UndefVarError: `1 + 1` not defined in `Main`\n",
      "Suggestion: check for spelling errors or missing imports.\n"
     ]
    }
   ],
   "source": [
    "eval(Symbol(\"1 + 1\"))"
   ]
  },
  {
   "cell_type": "code",
   "execution_count": 23,
   "metadata": {},
   "outputs": [
    {
     "data": {
      "text/plain": [
       ":(var\"1 + 1\" = 3)"
      ]
     },
     "metadata": {},
     "output_type": "display_data"
    }
   ],
   "source": [
    "valid_math = :($one_plus_one = 3)"
   ]
  },
  {
   "cell_type": "code",
   "execution_count": 24,
   "metadata": {},
   "outputs": [
    {
     "data": {
      "text/plain": [
       ":(var\"1 + 1\" + 2)"
      ]
     },
     "metadata": {},
     "output_type": "display_data"
    }
   ],
   "source": [
    "one_plus_one_plus_two = :($one_plus_one + 2)"
   ]
  },
  {
   "cell_type": "code",
   "execution_count": 25,
   "metadata": {},
   "outputs": [
    {
     "data": {
      "text/plain": [
       "quote\n",
       "    \u001b[90m#= e:\\Projects.jl\\Training.jl\\9. Expr\\jl_notebook_cell_df34fa98e69747e1a8f8a730347b8e2f_X31sZmlsZQ==.jl:2 =#\u001b[39m\n",
       "    var\"1 + 1\" = 3\n",
       "    \u001b[90m#= e:\\Projects.jl\\Training.jl\\9. Expr\\jl_notebook_cell_df34fa98e69747e1a8f8a730347b8e2f_X31sZmlsZQ==.jl:3 =#\u001b[39m\n",
       "    var\"1 + 1\" + 2\n",
       "    \u001b[90m#= e:\\Projects.jl\\Training.jl\\9. Expr\\jl_notebook_cell_df34fa98e69747e1a8f8a730347b8e2f_X31sZmlsZQ==.jl:4 =#\u001b[39m\n",
       "    \u001b[90m#= e:\\Projects.jl\\Training.jl\\9. Expr\\jl_notebook_cell_df34fa98e69747e1a8f8a730347b8e2f_X31sZmlsZQ==.jl:4 =#\u001b[39m @show var\"1 + 1\" + 2\n",
       "end"
      ]
     },
     "metadata": {},
     "output_type": "display_data"
    }
   ],
   "source": [
    "ex4= quote\n",
    "    $valid_math\n",
    "    $one_plus_one_plus_two\n",
    "    @show($one_plus_one_plus_two)\n",
    "end"
   ]
  },
  {
   "cell_type": "code",
   "execution_count": 26,
   "metadata": {},
   "outputs": [
    {
     "data": {
      "text/plain": [
       "quote\n",
       "    var\"1 + 1\" = 3\n",
       "    var\"1 + 1\" + 2\n",
       "    \u001b[90m#= e:\\Projects.jl\\Training.jl\\9. Expr\\jl_notebook_cell_df34fa98e69747e1a8f8a730347b8e2f_X31sZmlsZQ==.jl:4 =#\u001b[39m @show var\"1 + 1\" + 2\n",
       "end"
      ]
     },
     "metadata": {},
     "output_type": "display_data"
    }
   ],
   "source": [
    "Base.remove_linenums!(ex4)"
   ]
  },
  {
   "cell_type": "markdown",
   "metadata": {},
   "source": [
    "这里能看出来, `quote ... end`, `:(statements)` 包裹起来成为`block`, eval的时候把所包裹的逐一执行"
   ]
  },
  {
   "cell_type": "code",
   "execution_count": 27,
   "metadata": {},
   "outputs": [
    {
     "name": "stdout",
     "output_type": "stream",
     "text": [
      "(:block,\n",
      "  (:(=), Symbol(\"1 + 1\"), 3),\n",
      "  (:call, :+, Symbol(\"1 + 1\"), 2),\n",
      "  (:macrocall, Symbol(\"@show\"), :(\u001b[90m#= e:\\Projects.jl\\Training.jl\\9. Expr\\jl_notebook_cell_df34fa98e69747e1a8f8a730347b8e2f_X31sZmlsZQ==.jl:4 =#\u001b[39m), (:call, :+, Symbol(\"1 + 1\"), 2))\n",
      ")"
     ]
    }
   ],
   "source": [
    "Meta.show_sexpr(ex4)"
   ]
  },
  {
   "cell_type": "code",
   "execution_count": 29,
   "metadata": {},
   "outputs": [
    {
     "name": "stdout",
     "output_type": "stream",
     "text": [
      "Expr\n",
      "  head: Symbol block\n",
      "  args: Array{Any}((3,))\n",
      "    1: Expr\n",
      "      head: Symbol =\n",
      "      args: Array{Any}((2,))\n",
      "        1: Symbol 1 + 1\n",
      "        2: Int64 3\n",
      "    2: Expr\n",
      "      head: Symbol call\n",
      "      args: Array{Any}((3,))\n",
      "        1: Symbol +\n",
      "        2: Symbol 1 + 1\n",
      "        3: Int64 2\n",
      "    3: Expr\n",
      "      head: Symbol macrocall\n",
      "      args: Array{Any}((3,))\n",
      "        1: Symbol @show\n",
      "        2: LineNumberNode\n",
      "          line: Int64 4\n",
      "          file: Symbol e:\\Projects.jl\\Training.jl\\9. Expr\\jl_notebook_cell_df34fa98e69747e1a8f8a730347b8e2f_X31sZmlsZQ==.jl\n",
      "        3: Expr\n",
      "          head: Symbol call\n",
      "          args: Array{Any}((3,))\n",
      "            1: Symbol +\n",
      "            2: Symbol 1 + 1\n",
      "            3: Int64 2\n"
     ]
    }
   ],
   "source": [
    "dump(ex4)"
   ]
  },
  {
   "cell_type": "code",
   "execution_count": 28,
   "metadata": {},
   "outputs": [
    {
     "name": "stdout",
     "output_type": "stream",
     "text": [
      "var\"1 + 1\" + 2 = 5\n"
     ]
    },
    {
     "data": {
      "text/plain": [
       "5"
      ]
     },
     "metadata": {},
     "output_type": "display_data"
    }
   ],
   "source": [
    "eval(\n",
    "quote\n",
    "    $valid_math\n",
    "    $one_plus_one_plus_two\n",
    "    @show($one_plus_one_plus_two)\n",
    "end\n",
    ")"
   ]
  },
  {
   "cell_type": "markdown",
   "metadata": {},
   "source": [
    "### https://riptutorial.com/julia-lang/example/26313/guide"
   ]
  },
  {
   "cell_type": "markdown",
   "metadata": {},
   "source": [
    "`:(foo) `means \"don't look at the value, look at the expression\" `$foo` means \"change the expression to its value\"<br>\n",
    "`:(foo) `的意思是“不看值，看表达式”  `$foo` 表示“将表达式更改为其值”<br><br>\n",
    "\n",
    "`:($(foo)) == foo`. `$(:(foo))` is an error. `$(...) `isn't an operation and doesn't do anything by itself, it's an \"interpolate this!\" sign that the quoting syntax uses. i.e. **\\$(...) only exists within a quote.**<br>\n",
    "`:($(foo)) == foo` 。  `$(:(foo))` 为错误。 ` $(...)` 不是一个操作，它本身不做任何事情，它是引号语法使用的“插入这个！”标志。也就是说，它只存在于引号中。"
   ]
  },
  {
   "cell_type": "code",
   "execution_count": 45,
   "metadata": {},
   "outputs": [
    {
     "name": "stdout",
     "output_type": "stream",
     "text": [
      "1\n",
      "\n",
      "$(Expr(:quote, :($(Expr(:$, :foo))))) == foo = true\n"
     ]
    },
    {
     "data": {
      "text/plain": [
       "true"
      ]
     },
     "metadata": {},
     "output_type": "display_data"
    }
   ],
   "source": [
    "foo = 1\n",
    "Meta.show_sexpr(:($(foo)))\n",
    "\n",
    "println(\"\\n\")\n",
    "@show :($(foo)) == foo"
   ]
  },
  {
   "cell_type": "code",
   "execution_count": 46,
   "metadata": {},
   "outputs": [
    {
     "name": "stdout",
     "output_type": "stream",
     "text": [
      "2\n",
      "\n",
      "$(Expr(:quote, :($(Expr(:$, :foo))))) == foo = true\n"
     ]
    },
    {
     "data": {
      "text/plain": [
       "true"
      ]
     },
     "metadata": {},
     "output_type": "display_data"
    }
   ],
   "source": [
    "foo = 1+1\n",
    "Meta.show_sexpr(:($(foo)))\n",
    "\n",
    "println(\"\\n\")\n",
    "@show :($(foo)) == foo"
   ]
  },
  {
   "cell_type": "code",
   "execution_count": 47,
   "metadata": {},
   "outputs": [
    {
     "name": "stdout",
     "output_type": "stream",
     "text": [
      "Int64 2\n"
     ]
    }
   ],
   "source": [
    "dump(:($(foo)))"
   ]
  },
  {
   "cell_type": "markdown",
   "metadata": {},
   "source": [
    "`$foo` is exchanged for the compile-time value, `eval(foo)` means to do that at runtime<br>\n",
    "`$foo` 被交换为编译时值  `eval(foo)` 表示在运行时执行<br><br>\n",
    "\n",
    "eval will occur in the global scope,interpolation $ is local<br>\n",
    "eval 将在全局作用域中出现 插值是局部的<br><br>\n",
    "\n",
    "`eval(:<expr>)` should return the same as just `<expr>` (assuming `<expr>` is a valid expression in the current global space)<br>\n",
    "`eval(:<expr>)` 应该返回与 `<expr>` 相同的值（假设 `<expr>` 在当前全局空间中是一个有效的表达式）"
   ]
  },
  {
   "cell_type": "code",
   "execution_count": 34,
   "metadata": {},
   "outputs": [
    {
     "name": "stdout",
     "output_type": "stream",
     "text": [
      "eval($(Expr(:quote, :(1 + 2)))) == 1 + 2 = true\n",
      "(:call, :+, 1, 2)"
     ]
    },
    {
     "data": {
      "text/plain": [
       "3"
      ]
     },
     "metadata": {},
     "output_type": "display_data"
    }
   ],
   "source": [
    "@show eval(:(1 + 2)) == 1 + 2\n",
    "Meta.show_sexpr(:(1 + 2))\n",
    "eval(:(1 + 2))"
   ]
  },
  {
   "cell_type": "code",
   "execution_count": 37,
   "metadata": {},
   "outputs": [
    {
     "name": "stdout",
     "output_type": "stream",
     "text": [
      "eval($(Expr(:quote, :(let x = 1\n",
      "      #= e:\\Projects.jl\\Training.jl\\9. Expr\\jl_notebook_cell_df34fa98e69747e1a8f8a730347b8e2f_X45sZmlsZQ==.jl:1 =#\n",
      "      x + 1\n",
      "  end)))) == let x = 1\n",
      "        #= e:\\Projects.jl\\Training.jl\\9. Expr\\jl_notebook_cell_df34fa98e69747e1a8f8a730347b8e2f_X45sZmlsZQ==.jl:1 =#\n",
      "        x + 1\n",
      "    end = true\n",
      "\n",
      "\n",
      "(:let, (:(=), :x, 1), (:block,\n",
      "    :(\u001b[90m#= e:\\Projects.jl\\Training.jl\\9. Expr\\jl_notebook_cell_df34fa98e69747e1a8f8a730347b8e2f_X45sZmlsZQ==.jl:3 =#\u001b[39m),\n",
      "    (:call, :+, :x, 1)\n",
      "  ))"
     ]
    },
    {
     "data": {
      "text/plain": [
       "2"
      ]
     },
     "metadata": {},
     "output_type": "display_data"
    }
   ],
   "source": [
    "@show eval(:(let x=1; x + 1 end)) == let x=1; x + 1 end\n",
    "println(\"\\n\")\n",
    "\n",
    "Meta.show_sexpr(:(let x=1; x + 1 end))\n",
    "eval(:(let x=1; x + 1 end))"
   ]
  },
  {
   "cell_type": "markdown",
   "metadata": {},
   "source": [
    "### https://discourse.julialang.org/t/macro-hygiene-for-macro-m-ex/80859"
   ]
  },
  {
   "cell_type": "code",
   "execution_count": null,
   "metadata": {},
   "outputs": [],
   "source": [
    "macro m1(ex)\n",
    "    :($ex)\n",
    "end"
   ]
  }
 ],
 "metadata": {
  "kernelspec": {
   "display_name": "Julia 1.11.0",
   "language": "julia",
   "name": "julia-1.11"
  },
  "language_info": {
   "file_extension": ".jl",
   "mimetype": "application/julia",
   "name": "julia",
   "version": "1.11.0"
  }
 },
 "nbformat": 4,
 "nbformat_minor": 2
}
