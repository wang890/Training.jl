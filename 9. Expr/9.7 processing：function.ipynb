{
 "cells": [
  {
   "cell_type": "markdown",
   "metadata": {},
   "source": [
    "https://docs.juliacn.com/latest/manual/metaprogramming/#关于表达式的函数<br>\n",
    "已经见过返回 Expr 对象的函数例子：parse 函数，它接受字符串形式的 Julia 代码并返回相应的 Expr。函数也可以接受一个或多个 Expr 对象作为参数，并返回另一个 Expr。这是个简单、提神的例子："
   ]
  },
  {
   "cell_type": "code",
   "execution_count": 6,
   "metadata": {},
   "outputs": [
    {
     "data": {
      "text/plain": [
       ":(1 + 4 * 5)"
      ]
     },
     "metadata": {},
     "output_type": "display_data"
    }
   ],
   "source": [
    "function math_expr(op, op1, op2)\n",
    "    expr = Expr(:call, op, op1, op2)\n",
    "    return expr\n",
    "end\n",
    "math_expr(:+, 1, Expr(:call, :*, 4, 5))"
   ]
  },
  {
   "cell_type": "markdown",
   "metadata": {},
   "source": [
    "作为另一个例子，这个函数将数值参数加倍，但不处理表达式："
   ]
  },
  {
   "cell_type": "code",
   "execution_count": 7,
   "metadata": {},
   "outputs": [
    {
     "data": {
      "text/plain": [
       ":(2 + 4)"
      ]
     },
     "metadata": {},
     "output_type": "display_data"
    },
    {
     "data": {
      "text/plain": [
       ":(2 + 5 * 8)"
      ]
     },
     "metadata": {},
     "output_type": "display_data"
    }
   ],
   "source": [
    "function make_expr2(op, opr1, opr2)\n",
    "    opr1f, opr2f = map(x -> isa(x, Number) ? 2*x : x, (opr1, opr2))\n",
    "    retexpr = Expr(:call, op, opr1f, opr2f)\n",
    "    return retexpr\n",
    "end\n",
    "make_expr2(:+, 1, 2) |> display\n",
    "make_expr2(:+, 1, Expr(:call, :*, 5, 8)) |> display"
   ]
  },
  {
   "cell_type": "markdown",
   "metadata": {},
   "source": [
    "### https://docs.juliacn.com/latest/manual/metaprogramming/#代码生成"
   ]
  },
  {
   "cell_type": "markdown",
   "metadata": {},
   "source": [
    "当需要大量重复的样板代码时，为了避免冗余，通常以编程方式生成它。在大多数语言中，这需要一个额外的构建步骤以及生成重复代码的独立程序。在 Julia 中，**表达式插值和 `eval` 允许在通常的程序执行过程中生成这些代码**。例如，考虑下列自定义类型"
   ]
  },
  {
   "cell_type": "code",
   "execution_count": 1,
   "metadata": {},
   "outputs": [],
   "source": [
    "struct MyNumber\n",
    "    x::Float64\n",
    "end"
   ]
  },
  {
   "cell_type": "markdown",
   "metadata": {},
   "source": [
    "我们想为该类型添加一些方法。在下面的循环中，我们以编程的方式完成此工作："
   ]
  },
  {
   "cell_type": "code",
   "execution_count": 2,
   "metadata": {},
   "outputs": [],
   "source": [
    "for op = (:sin, :cos, :tan, :log, :exp)  \n",
    "    # 并没把for循环写成函数, 但这个和函数处理表达式类似,\n",
    "    # 所以就放在 此ipynb文件中啦\n",
    "    eval(quote\n",
    "        Base.$op(a::MyNumber) = MyNumber($op(a.x))\n",
    "        # 如, 对 MyNumber类型的数据a 求 sin, 结果就是 a.x的sin\n",
    "        # 此步可选：结果 也弄成 MyNumber类型(实例化),这叫数域的封闭性, 如整数相加还是整数\n",
    "    end)\n",
    "end"
   ]
  },
  {
   "cell_type": "code",
   "execution_count": 3,
   "metadata": {},
   "outputs": [
    {
     "data": {
      "text/plain": [
       "MyNumber(3.141592653589793)"
      ]
     },
     "metadata": {},
     "output_type": "display_data"
    }
   ],
   "source": [
    "x = MyNumber(π)"
   ]
  },
  {
   "cell_type": "code",
   "execution_count": 6,
   "metadata": {},
   "outputs": [
    {
     "data": {
      "text/plain": [
       "MyNumber(1.2246467991473532e-16)"
      ]
     },
     "metadata": {},
     "output_type": "display_data"
    },
    {
     "data": {
      "text/plain": [
       "MyNumber(-1.0)"
      ]
     },
     "metadata": {},
     "output_type": "display_data"
    }
   ],
   "source": [
    "sin(x) |> display\n",
    "cos(x) |> display"
   ]
  },
  {
   "cell_type": "markdown",
   "metadata": {},
   "source": [
    "在这种方法中，Julia 充当了自己的预处理器，并且允许从语言内部生成代码。使用 `:` 前缀的引用形式编写上述代码会使其更简洁：\n",
    "```julia\n",
    "for op = (:sin, :cos, :tan, :log, :exp)\n",
    "    eval(:(Base.$op(a::MyNumber) = MyNumber($op(a.x))))\n",
    "end\n",
    "```\n",
    "不管怎样，这种使用 `eval(quote(...))` 模式生成语言内部的代码很常见，为此，Julia 自带了一个 **宏`@eval`** 来缩写该模式：\n",
    "```julia\n",
    "for op = (:sin, :cos, :tan, :log, :exp)\n",
    "    @eval Base.$op(a::MyNumber) = MyNumber($op(a.x))\n",
    "end\n",
    "```\n",
    "`@eval` 重写此调用，使其与上面的较长版本完全等价。为了生成较长的代码块，可以把一个代码块作为表达式参数传给 `@eval`：\n",
    "```julia\n",
    "@eval begin\n",
    "    # multiple lines\n",
    "end\n",
    "```"
   ]
  },
  {
   "cell_type": "markdown",
   "metadata": {},
   "source": [
    "```julia\n",
    "macro eval(ex)\n",
    "    :(Core.eval($__module__, $(Expr(:quote,ex))))\n",
    "end\n",
    "```"
   ]
  },
  {
   "cell_type": "code",
   "execution_count": 7,
   "metadata": {},
   "outputs": [],
   "source": [
    "for op = (:sin, :cos, :tan, :log, :exp)\n",
    "    # @eval Base.$op(a::MyNumber) = MyNumber($op(a.x)) # 最好这样 数域封闭\n",
    "    @eval Base.$op(a::MyNumber) = $op(a.x)\n",
    "end"
   ]
  },
  {
   "cell_type": "code",
   "execution_count": 8,
   "metadata": {},
   "outputs": [
    {
     "data": {
      "text/plain": [
       "MyNumber(3.141592653589793)"
      ]
     },
     "metadata": {},
     "output_type": "display_data"
    }
   ],
   "source": [
    "x = MyNumber(π)"
   ]
  },
  {
   "cell_type": "code",
   "execution_count": 9,
   "metadata": {},
   "outputs": [
    {
     "data": {
      "text/plain": [
       "1.2246467991473532e-16"
      ]
     },
     "metadata": {},
     "output_type": "display_data"
    },
    {
     "data": {
      "text/plain": [
       "-1.0"
      ]
     },
     "metadata": {},
     "output_type": "display_data"
    }
   ],
   "source": [
    "sin(x) |> display\n",
    "cos(x) |> display"
   ]
  },
  {
   "cell_type": "code",
   "execution_count": 11,
   "metadata": {},
   "outputs": [
    {
     "data": {
      "text/plain": [
       "3"
      ]
     },
     "metadata": {},
     "output_type": "display_data"
    },
    {
     "data": {
      "text/plain": [
       ":(1 + 2)"
      ]
     },
     "metadata": {},
     "output_type": "display_data"
    },
    {
     "data": {
      "text/plain": [
       ":(1 + 2)"
      ]
     },
     "metadata": {},
     "output_type": "display_data"
    }
   ],
   "source": [
    "expr = :(1+2)\n",
    "\n",
    "display(@eval 1+2)\n",
    "\n",
    "(@eval expr) |> display\n",
    "\n",
    "eval(QuoteNode(expr)) |> display"
   ]
  }
 ],
 "metadata": {
  "kernelspec": {
   "display_name": "Julia 1.11.0",
   "language": "julia",
   "name": "julia-1.11"
  },
  "language_info": {
   "file_extension": ".jl",
   "mimetype": "application/julia",
   "name": "julia",
   "version": "1.11.0"
  }
 },
 "nbformat": 4,
 "nbformat_minor": 2
}
