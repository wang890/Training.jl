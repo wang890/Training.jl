{
 "cells": [
  {
   "cell_type": "markdown",
   "metadata": {},
   "source": [
    "### https://docs.juliacn.com/latest/manual/metaprogramming/#man-macros"
   ]
  },
  {
   "cell_type": "markdown",
   "metadata": {},
   "source": [
    "宏提供了一种机制，可以将生成的代码包含在程序的最终主体中。 宏将一组参数映射到返回的 表达式，并且**生成的表达式被直接编译，而不需要运行时 eval 调用**。 宏参数可能包括表达式、字面量和符号。"
   ]
  },
  {
   "cell_type": "code",
   "execution_count": 1,
   "metadata": {},
   "outputs": [
    {
     "name": "stdout",
     "output_type": "stream",
     "text": [
      "Hello, world!\n"
     ]
    }
   ],
   "source": [
    "macro sayhello()\n",
    "    return :( println(\"Hello, world!\") )\n",
    "end\n",
    "@sayhello"
   ]
  },
  {
   "cell_type": "markdown",
   "metadata": {},
   "source": [
    "宏在Julia的语法中有一个专门的字符 @ (at-sign)，紧接着是其使用macro NAME ... end 形式来声明的唯一的宏名。在这个例子中，**编译器会把所有的 @sayhello 替换成**：\n",
    "```julia\n",
    ":( println(\"Hello, world!\") )\n",
    "```\n",
    "**当调用运行 @sayhello 时，解释器立即执行**，因此我们**只会看到计算后的结果：**\n",
    "```julia\n",
    "@sayhello()\n",
    "Hello, world!\n",
    "```"
   ]
  },
  {
   "cell_type": "code",
   "execution_count": 2,
   "metadata": {},
   "outputs": [
    {
     "name": "stdout",
     "output_type": "stream",
     "text": [
      "\"human\"\n",
      "\n",
      "Hello, human\n"
     ]
    }
   ],
   "source": [
    "macro sayhello(name)\n",
    "    show(name)\n",
    "    println(\"\\n\")\n",
    "    return :( println(\"Hello, \", $name) ) \n",
    "    # $插值, 把name的值插入进来, 见相关章节\n",
    "end\n",
    "@sayhello(\"human\")  # 无括号也可：@sayhello \"human\""
   ]
  },
  {
   "cell_type": "markdown",
   "metadata": {},
   "source": [
    "我们可以使用函数 macroexpand 查看引用的返回表达式（重要提示： 这是一个非常有用的调试宏的工具）："
   ]
  },
  {
   "cell_type": "code",
   "execution_count": 3,
   "metadata": {},
   "outputs": [
    {
     "data": {
      "text/plain": [
       ":(Main.println(\"Hello, \", \"human\"))"
      ]
     },
     "metadata": {},
     "output_type": "display_data"
    },
    {
     "name": "stdout",
     "output_type": "stream",
     "text": [
      "\"human\"\n",
      "\n",
      "Expr\n",
      "  head: Symbol call\n",
      "  args: Array{Any}((3,))\n",
      "    1: GlobalRef\n",
      "      mod: Module Main\n",
      "      name: Symbol println\n",
      "      binding: Core.Binding\n",
      "        value: #undef\n",
      "        globalref: GlobalRef#= circular reference @-2 =#\n",
      "        owner: Core.Binding\n",
      "          value: println (function of type typeof(println))\n",
      "          globalref: GlobalRef\n",
      "            mod: Module Base\n",
      "            name: Symbol println\n",
      "            binding: Core.Binding#= circular reference @-2 =#\n",
      "          owner: Core.Binding#= circular reference @-1 =#\n",
      "          ty: #undef\n",
      "          flags: UInt8 0x07\n",
      "        ty: #undef\n",
      "        flags: UInt8 0x00\n",
      "    2: String \"Hello, \"\n",
      "    3: String \"human\"\n"
     ]
    }
   ],
   "source": [
    "ex = macroexpand(Main, :(@sayhello(\"human\")) )\n",
    "# @sayhello(\"human\")是生成一个表达式 并执行, \n",
    "# 外套:(...)就是再看 @sayhello(\"human\") 这个语句的表达式\n",
    "ex |> display\n",
    "dump(ex)"
   ]
  },
  {
   "cell_type": "markdown",
   "metadata": {},
   "source": [
    "还有一个宏 **@macroexpand，比 macroexpand 函数更方便：**"
   ]
  },
  {
   "cell_type": "code",
   "execution_count": 4,
   "metadata": {},
   "outputs": [
    {
     "name": "stdout",
     "output_type": "stream",
     "text": [
      "\"human\"\n",
      "\n"
     ]
    },
    {
     "data": {
      "text/plain": [
       ":(Main.println(\"Hello, \", \"human\"))"
      ]
     },
     "metadata": {},
     "output_type": "display_data"
    }
   ],
   "source": [
    "@macroexpand @sayhello \"human\""
   ]
  },
  {
   "cell_type": "markdown",
   "metadata": {},
   "source": [
    "宏是必需的，因为它们在解析代码时执行，因此，**宏允许程序员在运行完整程序之前生成定制代码的片段。** 为了说明差异，请考虑以下示例："
   ]
  },
  {
   "cell_type": "code",
   "execution_count": 5,
   "metadata": {},
   "outputs": [
    {
     "data": {
      "text/plain": [
       "@twostep (macro with 1 method)"
      ]
     },
     "metadata": {},
     "output_type": "display_data"
    }
   ],
   "source": [
    "macro twostep(arg)\n",
    "    println(\"I execute at parse time. The argument is: \", arg)\n",
    "    return :(println(\"I execute at runtime. The argument is: \", $arg))\n",
    "end"
   ]
  },
  {
   "cell_type": "code",
   "execution_count": 6,
   "metadata": {},
   "outputs": [
    {
     "name": "stdout",
     "output_type": "stream",
     "text": [
      "I execute at parse time. The argument is: :((1, 2, 3))\n"
     ]
    },
    {
     "data": {
      "text/plain": [
       ":(Main.println(\"I execute at runtime. The argument is: \", $(Expr(:copyast, :($(QuoteNode(:((1, 2, 3)))))))))"
      ]
     },
     "metadata": {},
     "output_type": "display_data"
    }
   ],
   "source": [
    "twostep_ex = @macroexpand @twostep :(1, 2, 3)"
   ]
  },
  {
   "cell_type": "code",
   "execution_count": 8,
   "metadata": {},
   "outputs": [
    {
     "name": "stdout",
     "output_type": "stream",
     "text": [
      "I execute at runtime. The argument is: (1, 2, 3)\n"
     ]
    }
   ],
   "source": [
    "eval(twostep_ex)"
   ]
  },
  {
   "cell_type": "code",
   "execution_count": 9,
   "metadata": {},
   "outputs": [
    {
     "name": "stdout",
     "output_type": "stream",
     "text": [
      "I execute at parse time. The argument is: :((1, 2, 3))\n",
      "I execute at runtime. The argument is: (1, 2, 3)\n"
     ]
    }
   ],
   "source": [
    "@twostep :(1, 2, 3)"
   ]
  },
  {
   "cell_type": "code",
   "execution_count": 35,
   "metadata": {},
   "outputs": [
    {
     "name": "stdout",
     "output_type": "stream",
     "text": [
      "I execute at parse time. The argument is: (1, 2, 3)\n",
      "I execute at runtime. The argument is: (1, 2, 3)\n"
     ]
    }
   ],
   "source": [
    "@twostep (1, 2, 3)"
   ]
  },
  {
   "cell_type": "markdown",
   "metadata": {},
   "source": [
    "### https://riptutorial.com/julia-lang/example/6355/reimplementing-the--show-macro"
   ]
  },
  {
   "cell_type": "code",
   "execution_count": 1,
   "metadata": {},
   "outputs": [
    {
     "name": "stdout",
     "output_type": "stream",
     "text": [
      "1 + 1 = 2\n"
     ]
    },
    {
     "data": {
      "text/plain": [
       "2"
      ]
     },
     "metadata": {},
     "output_type": "display_data"
    }
   ],
   "source": [
    "@show 1 + 1"
   ]
  },
  {
   "cell_type": "code",
   "execution_count": 2,
   "metadata": {},
   "outputs": [
    {
     "data": {
      "text/plain": [
       "@myshow (macro with 1 method)"
      ]
     },
     "metadata": {},
     "output_type": "display_data"
    }
   ],
   "source": [
    "macro myshow(expression)\n",
    "    quote\n",
    "        value = $expression\n",
    "        println($(Meta.quot(expression)), \" = \", value)\n",
    "        value\n",
    "    end\n",
    "end"
   ]
  },
  {
   "cell_type": "code",
   "execution_count": 5,
   "metadata": {},
   "outputs": [
    {
     "data": {
      "text/plain": [
       "quote\n",
       "    var\"#64#value\" = 1 + 1\n",
       "    Main.println($(Expr(:copyast, :($(QuoteNode(:(1 + 1)))))), \" = \", var\"#64#value\")\n",
       "    var\"#64#value\"\n",
       "end"
      ]
     },
     "metadata": {},
     "output_type": "display_data"
    }
   ],
   "source": [
    "Base.remove_linenums!(@macroexpand @myshow 1 + 1)"
   ]
  },
  {
   "cell_type": "code",
   "execution_count": null,
   "metadata": {},
   "outputs": [],
   "source": [
    "Main.println(\n",
    "\n",
    "    $(Expr(:copyast, \n",
    "           :(\n",
    "             $(QuoteNode(:(1 + 1)))\n",
    "            )\n",
    "          )\n",
    "     ), \n",
    "\n",
    "     \" = \", \n",
    "     \n",
    "     var\"#64#value\"\n",
    ")"
   ]
  },
  {
   "cell_type": "code",
   "execution_count": 6,
   "metadata": {},
   "outputs": [
    {
     "name": "stdout",
     "output_type": "stream",
     "text": [
      "1 + 1 = 2\n"
     ]
    },
    {
     "data": {
      "text/plain": [
       "2"
      ]
     },
     "metadata": {},
     "output_type": "display_data"
    }
   ],
   "source": [
    "@myshow 1 + 1"
   ]
  },
  {
   "cell_type": "markdown",
   "metadata": {},
   "source": [
    "### https://discourse.julialang.org/t/macro-hygiene-for-macro-m-ex/80859\n",
    "Macro hygiene for macro m(ex…)"
   ]
  },
  {
   "cell_type": "code",
   "execution_count": 15,
   "metadata": {},
   "outputs": [
    {
     "data": {
      "text/plain": [
       "@m2 (macro with 1 method)"
      ]
     },
     "metadata": {},
     "output_type": "display_data"
    }
   ],
   "source": [
    "macro m1(ex)\n",
    "    :($ex)\n",
    "end\n",
    "\n",
    "macro m2(ex...)\n",
    "    :($ex)\n",
    "end"
   ]
  },
  {
   "cell_type": "code",
   "execution_count": 16,
   "metadata": {},
   "outputs": [
    {
     "data": {
      "text/plain": [
       ":((Main.a, Main.b))"
      ]
     },
     "metadata": {},
     "output_type": "display_data"
    }
   ],
   "source": [
    "@macroexpand @m1 a, b"
   ]
  },
  {
   "cell_type": "code",
   "execution_count": 17,
   "metadata": {},
   "outputs": [
    {
     "data": {
      "text/plain": [
       "(:((a, b)),)"
      ]
     },
     "metadata": {},
     "output_type": "display_data"
    }
   ],
   "source": [
    "@macroexpand @m2 a, b"
   ]
  },
  {
   "cell_type": "markdown",
   "metadata": {},
   "source": [
    "My question is why the symbols `:a` and `:b` are not qualified with module name in the case of `@m2` unlike to `@m1`?\n",
    "我的问题是为什么符号 `:a` 和 `:b` 在 `@m2` 不同于 `@m1` 的情况下不具有模块名称？"
   ]
  },
  {
   "cell_type": "markdown",
   "metadata": {},
   "source": [
    "Ah now I get it, you’re inserting a Tuple into the AST in `@m2`, and **this doesn’t go through macro hygiene because it is not an Expr or Symbol**. You can embed anything you want in the AST in case you didn’t know, but it’s uncommon to do so.<br>\n",
    "\n",
    "啊，现在我明白了，你在AST中插入了一个元组 `@m2` ，这没有经过宏卫生，因为它不是Expr或Symbol。您可以在AST中嵌入任何您想要的内容（以防您不知道），但这样做并不常见。"
   ]
  },
  {
   "cell_type": "code",
   "execution_count": 22,
   "metadata": {},
   "outputs": [
    {
     "name": "stdout",
     "output_type": "stream",
     "text": [
      "Expr\n",
      "  head: Symbol tuple\n",
      "  args: Array{Any}((2,))\n",
      "    1: GlobalRef\n",
      "      mod: Module Main\n",
      "      name: Symbol a\n",
      "      binding: Core.Binding\n",
      "        value: Array{Vector{Int64}}((3,))\n",
      "          1: Array{Int64}((2,)) [1, 1]\n",
      "          2: Array{Int64}((0,)) Int64[]\n",
      "          3: Array{Int64}((0,)) Int64[]\n",
      "        globalref: GlobalRef#= circular reference @-2 =#\n",
      "        owner: Core.Binding#= circular reference @-1 =#\n",
      "        ty: Any\n",
      "        flags: UInt8 0x00\n",
      "    2: GlobalRef\n",
      "      mod: Module Main\n",
      "      name: Symbol b\n",
      "      binding: Core.Binding\n",
      "        value: Array{Vector{Int64}}((3,))\n",
      "          1: Array{Int64}((2,)) [1, 1]\n",
      "          2: Array{Int64}((2,)) [1, 1]\n",
      "          3: Array{Int64}((2,)) [1, 1]\n",
      "        globalref: GlobalRef#= circular reference @-2 =#\n",
      "        owner: Core.Binding#= circular reference @-1 =#\n",
      "        ty: Any\n",
      "        flags: UInt8 0x00\n"
     ]
    }
   ],
   "source": [
    "dump(@macroexpand @m1 a, b)"
   ]
  },
  {
   "cell_type": "code",
   "execution_count": 23,
   "metadata": {},
   "outputs": [
    {
     "name": "stdout",
     "output_type": "stream",
     "text": [
      "Tuple{Expr}\n",
      "  1: Expr\n",
      "    head: Symbol tuple\n",
      "    args: Array{Any}((2,))\n",
      "      1: Symbol a\n",
      "      2: Symbol b\n"
     ]
    }
   ],
   "source": [
    "dump(@macroexpand @m2 a, b)"
   ]
  },
  {
   "cell_type": "markdown",
   "metadata": {},
   "source": [
    "Ah I remembered one example which does this, the regex string macro. It inserts a Regex object into the AST so that it is already compiled at compile time.<br>\n",
    "\n",
    "啊，我记得一个这样做的例子，regex字符串宏。它将一个Regex对象插入到AST中，以便在编译时已对其进行编译。"
   ]
  },
  {
   "cell_type": "code",
   "execution_count": 24,
   "metadata": {},
   "outputs": [
    {
     "name": "stdout",
     "output_type": "stream",
     "text": [
      "Regex\n",
      "  pattern: String \"abc\"\n",
      "  compile_options: UInt32 0x040a0002\n",
      "  match_options: UInt32 0x40000000\n",
      "  regex: Ptr{Nothing} @0x00000297fc77f480\n"
     ]
    }
   ],
   "source": [
    "dump(@macroexpand r\"abc\")"
   ]
  },
  {
   "cell_type": "markdown",
   "metadata": {},
   "source": [
    "### https://riptutorial.com/julia-lang/example/30150/python--dict--json-like-syntax-for--dict--literals-"
   ]
  },
  {
   "cell_type": "markdown",
   "metadata": {},
   "source": [
    "Julia uses the following syntax for dictionaries:<br>\n",
    "Julia对字典使用以下语法：<br>\n",
    "`Dict({k₁ => v₁, k₂ => v₂, …, kₙ₋₁ => vₙ₋₁, kₙ => vₙ)`<br>\n",
    "\n",
    "While Python and JSON looks like this:<br>\n",
    "而Python和JSON是这样的：<br>\n",
    "`{k₁: v₁, k₂: v₂, …, kₙ₋₁: vₙ₋₁, kₙ: vₙ}`<br>\n",
    "\n",
    "For illustrative purposes we could also use this syntax in Julia and add new semantics to it (`Dict` syntax is the idiomatic way in Julia, which is recommended).<br>\n",
    "为了便于说明，我们也可以在Julia中使用该语法并为其添加新的语义（ `Dict` 语法是Julia中惯用的方式，这是推荐的）。<br>\n",
    "\n",
    "First let's see what kind of expression it is:<br>\n",
    "首先让我们看看这是一种什么样的表达：<br>"
   ]
  },
  {
   "cell_type": "code",
   "execution_count": 9,
   "metadata": {},
   "outputs": [
    {
     "data": {
      "text/plain": [
       ":({1:2, 3:4})"
      ]
     },
     "metadata": {},
     "output_type": "display_data"
    },
    {
     "name": "stdout",
     "output_type": "stream",
     "text": [
      "(:braces, (:call, :(:), 1, 2), (:call, :(:), 3, 4))"
     ]
    }
   ],
   "source": [
    "Meta.parse(\"{1:2 , 3: 4}\") |>display\n",
    "\n",
    "Meta.parse(\"{1:2 , 3: 4}\") |> Meta.show_sexpr"
   ]
  },
  {
   "cell_type": "code",
   "execution_count": 11,
   "metadata": {},
   "outputs": [
    {
     "name": "stdout",
     "output_type": "stream",
     "text": [
      "Expr\n",
      "  head: Symbol braces\n",
      "  args: Array{Any}((2,))\n",
      "    1: Expr\n",
      "      head: Symbol call\n",
      "      args: Array{Any}((3,))\n",
      "        1: Symbol :\n",
      "        2: Int64 1\n",
      "        3: Int64 2\n",
      "    2: Expr\n",
      "      head: Symbol call\n",
      "      args: Array{Any}((3,))\n",
      "        1: Symbol :\n",
      "        2: Int64 3\n",
      "        3: Int64 4\n"
     ]
    }
   ],
   "source": [
    "dump(Meta.parse(\"{1:2 , 3: 4}\"))"
   ]
  },
  {
   "cell_type": "code",
   "execution_count": 10,
   "metadata": {},
   "outputs": [
    {
     "data": {
      "text/plain": [
       ":(Dict(1 => 2, 3 => 4))"
      ]
     },
     "metadata": {},
     "output_type": "display_data"
    },
    {
     "name": "stdout",
     "output_type": "stream",
     "text": [
      "(:call, :Dict, (:call, :(=>), 1, 2), (:call, :(=>), 3, 4))"
     ]
    }
   ],
   "source": [
    "Meta.parse(\"Dict(1 => 2 , 3 => 4)\") |> display\n",
    "Meta.parse(\"Dict(1 => 2 , 3 => 4)\") |> Meta.show_sexpr"
   ]
  },
  {
   "cell_type": "code",
   "execution_count": 12,
   "metadata": {},
   "outputs": [
    {
     "name": "stdout",
     "output_type": "stream",
     "text": [
      "Expr\n",
      "  head: Symbol call\n",
      "  args: Array{Any}((3,))\n",
      "    1: Symbol Dict\n",
      "    2: Expr\n",
      "      head: Symbol call\n",
      "      args: Array{Any}((3,))\n",
      "        1: Symbol =>\n",
      "        2: Int64 1\n",
      "        3: Int64 2\n",
      "    3: Expr\n",
      "      head: Symbol call\n",
      "      args: Array{Any}((3,))\n",
      "        1: Symbol =>\n",
      "        2: Int64 3\n",
      "        3: Int64 4\n"
     ]
    }
   ],
   "source": [
    "dump(Meta.parse(\"Dict(1 => 2 , 3 => 4)\"))"
   ]
  },
  {
   "cell_type": "markdown",
   "metadata": {},
   "source": [
    "The following macro, while simple, allows to demonstrate such code generation and transformation:<br>\n",
    "下面的宏虽然简单，但可以演示这样的代码生成和转换："
   ]
  },
  {
   "cell_type": "code",
   "execution_count": 13,
   "metadata": {},
   "outputs": [
    {
     "data": {
      "text/plain": [
       "@dict (macro with 1 method)"
      ]
     },
     "metadata": {},
     "output_type": "display_data"
    }
   ],
   "source": [
    "macro dict(expr)\n",
    "    # Check the expression has the correct form:\n",
    "    if expr.head ≠ :braces || any(\n",
    "        sub_expr.head ≠ :call for sub_expr ∈ expr.args) ||any(\n",
    "        sub_expr.args[1] ≠ :(:) for sub_expr ∈ expr.args)\n",
    "        error(\"syntax: expected `{k₁: v₁, k₂: v₂, …, kₙ₋₁: vₙ₋₁, kₙ: vₙ}`\")\n",
    "    end\n",
    "\n",
    "    # Create empty `:Dict` expression which will be returned:\n",
    "    block = Expr(:call, :Dict)    # :(Dict())\n",
    "\n",
    "    # Append `(key => value)` pairs to the block:\n",
    "    for pair in expr.args\n",
    "        k, v = pair.args[2], pair.args[3]\n",
    "        push!(block.args, :($k => $v))\n",
    "    end    # :(Dict(k₁ => v₁, k₂ => v₂, …, kₙ₋₁ => vₙ₋₁, kₙ => vₙ))\n",
    "\n",
    "    # Block is escaped so it can reach variables from it's calling scope:\n",
    "    return esc(block)\n",
    "end"
   ]
  },
  {
   "cell_type": "code",
   "execution_count": 14,
   "metadata": {},
   "outputs": [
    {
     "data": {
      "text/plain": [
       ":(Dict(\"a\" => :b, 'c' => 1, :d => 2.0))"
      ]
     },
     "metadata": {},
     "output_type": "display_data"
    }
   ],
   "source": [
    "@macroexpand @dict {\"a\": :b, 'c': 1, :d: 2.0}"
   ]
  },
  {
   "cell_type": "code",
   "execution_count": 15,
   "metadata": {},
   "outputs": [
    {
     "data": {
      "text/plain": [
       "Dict{Any, Any} with 3 entries:\n",
       "  :d  => 2.0\n",
       "  'c' => 1\n",
       "  \"a\" => :b"
      ]
     },
     "metadata": {},
     "output_type": "display_data"
    }
   ],
   "source": [
    "@dict {\"a\": :b, 'c': 1, :d: 2.0}"
   ]
  },
  {
   "cell_type": "code",
   "execution_count": 16,
   "metadata": {},
   "outputs": [
    {
     "data": {
      "text/plain": [
       "Dict{Any, Any} with 5 entries:\n",
       "  :symbol  => π\n",
       "  \"string\" => :b\n",
       "  1:10     => 1:10\n",
       "  Function => print\n",
       "  'c'      => 1"
      ]
     },
     "metadata": {},
     "output_type": "display_data"
    }
   ],
   "source": [
    "@dict {                      \n",
    "           \"string\": :b,            \n",
    "           'c'     : 1,             \n",
    "           :symbol : π,             \n",
    "           Function: print,         \n",
    "           (1:10)  : range(1, 10)   \n",
    "       }            "
   ]
  },
  {
   "cell_type": "markdown",
   "metadata": {},
   "source": [
    "The last example is exactly equivalent to:<br>\n",
    "最后一个例子完全等同于："
   ]
  },
  {
   "cell_type": "code",
   "execution_count": 17,
   "metadata": {},
   "outputs": [
    {
     "data": {
      "text/plain": [
       "Dict{Any, Any} with 5 entries:\n",
       "  :symbol  => π\n",
       "  \"string\" => :b\n",
       "  1:10     => 1:10\n",
       "  Function => print\n",
       "  'c'      => 1"
      ]
     },
     "metadata": {},
     "output_type": "display_data"
    }
   ],
   "source": [
    "Dict(                      \n",
    "    \"string\" => :b,            \n",
    "    'c'      => 1,             \n",
    "    :symbol  => π,             \n",
    "    Function => print,         \n",
    "    (1:10)   => range(1, 10)   \n",
    ")"
   ]
  },
  {
   "cell_type": "code",
   "execution_count": 18,
   "metadata": {},
   "outputs": [
    {
     "ename": "LoadError",
     "evalue": "LoadError: syntax: expected `{k₁: v₁, k₂: v₂, …, kₙ₋₁: vₙ₋₁, kₙ: vₙ}`\nin expression starting at e:\\Projects.jl\\Training.jl\\9. Expr\\jl_notebook_cell_df34fa98e69747e1a8f8a730347b8e2f_X44sZmlsZQ==.jl:1",
     "output_type": "error",
     "traceback": [
      "LoadError: syntax: expected `{k₁: v₁, k₂: v₂, …, kₙ₋₁: vₙ₋₁, kₙ: vₙ}`\n",
      "in expression starting at e:\\Projects.jl\\Training.jl\\9. Expr\\jl_notebook_cell_df34fa98e69747e1a8f8a730347b8e2f_X44sZmlsZQ==.jl:1\n",
      "\n",
      "Stacktrace:\n",
      "  [1] error(s::String)\n",
      "    @ Base .\\error.jl:35\n",
      "  [2] var\"@dict\"(__source__::LineNumberNode, __module__::Module, expr::Any)\n",
      "    @ Main e:\\Projects.jl\\Training.jl\\9. Expr\\jl_notebook_cell_df34fa98e69747e1a8f8a730347b8e2f_X33sZmlsZQ==.jl:6\n",
      "  [3] eval\n",
      "    @ .\\boot.jl:430 [inlined]\n",
      "  [4] include_string(mapexpr::typeof(REPL.softscope), mod::Module, code::String, filename::String)\n",
      "    @ Base .\\loading.jl:2628\n",
      "  [5] #invokelatest#2\n",
      "    @ .\\essentials.jl:1054 [inlined]\n",
      "  [6] invokelatest\n",
      "    @ .\\essentials.jl:1051 [inlined]\n",
      "  [7] (::VSCodeServer.var\"#217#218\"{VSCodeServer.NotebookRunCellArguments, String})()\n",
      "    @ VSCodeServer c:\\Users\\TCY\\.vscode\\extensions\\julialang.language-julia-1.124.2\\scripts\\packages\\VSCodeServer\\src\\serve_notebook.jl:24\n",
      "  [8] withpath(f::VSCodeServer.var\"#217#218\"{VSCodeServer.NotebookRunCellArguments, String}, path::String)\n",
      "    @ VSCodeServer c:\\Users\\TCY\\.vscode\\extensions\\julialang.language-julia-1.124.2\\scripts\\packages\\VSCodeServer\\src\\repl.jl:276\n",
      "  [9] notebook_runcell_request(conn::VSCodeServer.JSONRPC.JSONRPCEndpoint{Base.PipeEndpoint, Base.PipeEndpoint}, params::VSCodeServer.NotebookRunCellArguments)\n",
      "    @ VSCodeServer c:\\Users\\TCY\\.vscode\\extensions\\julialang.language-julia-1.124.2\\scripts\\packages\\VSCodeServer\\src\\serve_notebook.jl:13\n",
      " [10] dispatch_msg(x::VSCodeServer.JSONRPC.JSONRPCEndpoint{Base.PipeEndpoint, Base.PipeEndpoint}, dispatcher::VSCodeServer.JSONRPC.MsgDispatcher, msg::Dict{String, Any})\n",
      "    @ VSCodeServer.JSONRPC c:\\Users\\TCY\\.vscode\\extensions\\julialang.language-julia-1.124.2\\scripts\\packages\\JSONRPC\\src\\typed.jl:67\n",
      " [11] serve_notebook(pipename::String, debugger_pipename::String, outputchannel_logger::Base.CoreLogging.SimpleLogger; error_handler::var\"#5#10\"{String})\n",
      "    @ VSCodeServer c:\\Users\\TCY\\.vscode\\extensions\\julialang.language-julia-1.124.2\\scripts\\packages\\VSCodeServer\\src\\serve_notebook.jl:147\n",
      " [12] top-level scope\n",
      "    @ c:\\Users\\TCY\\.vscode\\extensions\\julialang.language-julia-1.124.2\\scripts\\notebook\\notebook.jl:35"
     ]
    }
   ],
   "source": [
    "@dict {\"one\": 1, \"two\": 2, \"three\": 3, \"four\": 4, \"five\" => 5}"
   ]
  },
  {
   "cell_type": "markdown",
   "metadata": {},
   "source": [
    "### https://juliasnippets.blogspot.com/2018/02/a-small-adventure-into-julia-macro-land.html<br>\n",
    "**非主流例子，可忽略，也没怎么看懂**"
   ]
  },
  {
   "cell_type": "markdown",
   "metadata": {},
   "source": [
    "The Julia Manual teaches us that<br>\n",
    "《茱莉亚手册》告诉我们这一点<br>\n",
    "\n",
    "*Julia evaluates default values of function arguments every time the method is invoked, unlike in Python where the default values are evaluated only once when the function is defined.* <br>\n",
    "\n",
    "*Julia 每次调用方法时都会评估函数参数的默认值，这与 Python 不同，在 Python 中，默认值仅在定义函数时评估一次.*<br>\n",
    "\n",
    "in *Noteworthy differences from Python* section.<br>\n",
    "\n",
    "However, sometimes you want a value to be evaluated only once when the function is defined. Recently a probably obvious fact has downed on me that this can conveniently be achieved using macros. Here is a simple example:<br>\n",
    "\n",
    "但是，有时您希望在定义函数时只对一个值求值一次。最近，我发现了一个显而易见的事实，那就是使用宏可以方便地实现这一点。这里有一个简单的例子："
   ]
  },
  {
   "cell_type": "code",
   "execution_count": 1,
   "metadata": {},
   "outputs": [
    {
     "name": "stdout",
     "output_type": "stream",
     "text": [
      "Hey!\n"
     ]
    },
    {
     "data": {
      "text/plain": [
       "f (generic function with 1 method)"
      ]
     },
     "metadata": {},
     "output_type": "display_data"
    }
   ],
   "source": [
    "macro intvec()\n",
    "    println(\"Hey!\")\n",
    "    Int[]\n",
    "end\n",
    "\n",
    "function f(x)\n",
    "    v = @intvec()\n",
    "    push!(v, x)\n",
    "    v\n",
    "end"
   ]
  },
  {
   "cell_type": "code",
   "execution_count": 2,
   "metadata": {},
   "outputs": [
    {
     "name": "stdout",
     "output_type": "stream",
     "text": [
      "Hey!\n"
     ]
    },
    {
     "data": {
      "text/plain": [
       "Int64[]"
      ]
     },
     "metadata": {},
     "output_type": "display_data"
    }
   ],
   "source": [
    "@macroexpand @intvec"
   ]
  },
  {
   "cell_type": "markdown",
   "metadata": {},
   "source": [
    "When you run this code you can observe that `Hey!` is printed once (when `@intvec` is evaluated).<br>\n",
    "当你运行此代码时，你可以观察到`Hey！`被打印一次（当评估`@intvec`时）<br>\n",
    "\n",
    "Now let us check how the function works. Running:<br>\n",
    "现在让我们看看这个函数是如何工作的。运行:"
   ]
  },
  {
   "cell_type": "code",
   "execution_count": 3,
   "metadata": {},
   "outputs": [
    {
     "name": "stdout",
     "output_type": "stream",
     "text": [
      "1\n",
      "[1]\n"
     ]
    },
    {
     "ename": "UndefVarError",
     "evalue": "UndefVarError: `v` not defined in `Main`\nSuggestion: check for spelling errors or missing imports.",
     "output_type": "error",
     "traceback": [
      "UndefVarError: `v` not defined in `Main`\n",
      "Suggestion: check for spelling errors or missing imports.\n",
      "\n",
      "Stacktrace:\n",
      " [1] top-level scope\n",
      "   @ e:\\Projects.jl\\Training.jl\\9. Expr\\jl_notebook_cell_df34fa98e69747e1a8f8a730347b8e2f_X52sZmlsZQ==.jl:4"
     ]
    }
   ],
   "source": [
    "for i in 1:5\n",
    "    println(i)\n",
    "    println(f(i))\n",
    "    println(v)\n",
    "end"
   ]
  },
  {
   "cell_type": "code",
   "execution_count": 4,
   "metadata": {},
   "outputs": [
    {
     "name": "stdout",
     "output_type": "stream",
     "text": [
      "[1, 1]\n",
      "[1, 1, 2]\n",
      "[1, 1, 2, 3]\n",
      "[1, 1, 2, 3, 4]\n",
      "[1, 1, 2, 3, 4, 5]\n"
     ]
    }
   ],
   "source": [
    "for i in 1:5    # 上个cell已生成[],所以这里起始 [1,1]\n",
    "    println(f(i))  \n",
    "end"
   ]
  },
  {
   "cell_type": "markdown",
   "metadata": {},
   "source": [
    "and we can see that `@intvec` was not run (no `Hey!` is printed). This is natural - macros are evaluated only once before the program is actually executed.<br>\n",
    "我们可以看到 `@intvec` 没有运行（没有打印 `Hey!`）。这是很自然的 - 在程序实际执行之前，宏只被评估一次。<br>\n",
    "\n",
    "Another small example using comprehensions:\n",
    "另一个使用推导式的小例子："
   ]
  },
  {
   "cell_type": "code",
   "execution_count": 6,
   "metadata": {},
   "outputs": [
    {
     "data": {
      "text/plain": [
       "3-element Vector{Vector{Int64}}:\n",
       " []\n",
       " []\n",
       " []"
      ]
     },
     "metadata": {},
     "output_type": "display_data"
    },
    {
     "data": {
      "text/plain": [
       "3-element Vector{Vector{Int64}}:\n",
       " []\n",
       " []\n",
       " []"
      ]
     },
     "metadata": {},
     "output_type": "display_data"
    },
    {
     "name": "stdout",
     "output_type": "stream",
     "text": [
      "Hey!\n"
     ]
    }
   ],
   "source": [
    "a = [Int[] for i in 1:3]\n",
    "b = [@intvec() for i in 1:3]\n",
    "\n",
    "a |>display\n",
    "b |>display"
   ]
  },
  {
   "cell_type": "code",
   "execution_count": 7,
   "metadata": {},
   "outputs": [
    {
     "data": {
      "text/plain": [
       "3-element Vector{Vector{Int64}}:\n",
       " [1]\n",
       " []\n",
       " []"
      ]
     },
     "metadata": {},
     "output_type": "display_data"
    },
    {
     "data": {
      "text/plain": [
       "3-element Vector{Vector{Int64}}:\n",
       " [1]\n",
       " [1]\n",
       " [1]"
      ]
     },
     "metadata": {},
     "output_type": "display_data"
    }
   ],
   "source": [
    "push!(a[1], 1)\n",
    "push!(b[1], 1)\n",
    "\n",
    "a |>display\n",
    "b |>display"
   ]
  },
  {
   "cell_type": "code",
   "execution_count": 8,
   "metadata": {},
   "outputs": [
    {
     "data": {
      "text/plain": [
       "3-element Vector{Vector{Int64}}:\n",
       " [1, 1]\n",
       " []\n",
       " []"
      ]
     },
     "metadata": {},
     "output_type": "display_data"
    },
    {
     "data": {
      "text/plain": [
       "3-element Vector{Vector{Int64}}:\n",
       " [1, 1]\n",
       " [1, 1]\n",
       " [1, 1]"
      ]
     },
     "metadata": {},
     "output_type": "display_data"
    }
   ],
   "source": [
    "push!(a[1], 1)\n",
    "push!(b[1], 1)\n",
    "\n",
    "a |>display\n",
    "b |>display"
   ]
  },
  {
   "cell_type": "markdown",
   "metadata": {},
   "source": [
    "And we see that in case of  `b` each index points to the same array.<br>\n",
    "我们看到，在 `b` 的情况下，每个索引都指向同一个数组。<br>\n",
    "\n",
    "One might ask if it is only a special case or it does actually mater in daily Julia usage. The situation where this distinction is important came up recently when writing documentation of `@threads` macro. If you check out a definition of `f_fix` function there you will find:<br>\n",
    "\n",
    "有人可能会问，这是否只是一种特殊情况，还是在 Julia 的日常使用中确实很重要。最近在编写 `@threads` 宏的文档时，出现了这种区别很重要的情况。如果您查看 `f_fix` 函数的定义，您会发现："
   ]
  },
  {
   "cell_type": "code",
   "execution_count": 23,
   "metadata": {},
   "outputs": [
    {
     "data": {
      "text/plain": [
       "1000"
      ]
     },
     "metadata": {},
     "output_type": "display_data"
    }
   ],
   "source": [
    "using Base.Threads\n",
    "function f_fix()\n",
    "    s = repeat([\"123\", \"213\", \"231\"], outer=1000)\n",
    "    x = similar(s, Int)\n",
    "    rx = [Regex(\"1\") for i in 1:nthreads()]\n",
    "    @threads for i in 1:3000\n",
    "        x[i] = findfirst(rx[threadid()], s[i]).start\n",
    "    end\n",
    "    count(v -> v == 1, x)\n",
    "end\n",
    "f_fix()"
   ]
  },
  {
   "cell_type": "markdown",
   "metadata": {},
   "source": [
    "where we use `Regex(\"1\")` instead of a more natural `r\"1\"` exactly because the latter would create only one instance of regex object.<br>\n",
    "这里我们使用 `Regex(\"1\")` 而不是更自然的 `r\"1\"`，因为后者只会创建一个 regex 对象实例。<br>\n",
    "\n",
    "So the question is what is the benefit of `r\"1\"` then? The answer is performance - we have to compile the regex only once. This saves time if a function containing it would be called many times, e.g.:<br>\n",
    "那么问题是 `r\"1\"` 有什么好处呢？答案是性能 - 我们只需编译一次 regex。如果包含它的函数被多次调用，这可以节省时间，例如："
   ]
  },
  {
   "cell_type": "code",
   "execution_count": 17,
   "metadata": {},
   "outputs": [
    {
     "data": {
      "text/plain": [
       "RegexMatch(\"1\")"
      ]
     },
     "metadata": {},
     "output_type": "display_data"
    }
   ],
   "source": [
    "match(r\"1\", \"123\")"
   ]
  },
  {
   "cell_type": "code",
   "execution_count": 18,
   "metadata": {},
   "outputs": [
    {
     "data": {
      "text/plain": [
       "RegexMatch(\"1\")"
      ]
     },
     "metadata": {},
     "output_type": "display_data"
    }
   ],
   "source": [
    "match(Regex(\"1\"), \"123\")"
   ]
  },
  {
   "cell_type": "code",
   "execution_count": 8,
   "metadata": {},
   "outputs": [
    {
     "data": {
      "text/plain": [
       "g (generic function with 1 method)"
      ]
     },
     "metadata": {},
     "output_type": "display_data"
    }
   ],
   "source": [
    "f() = match(r\"1\", \"123\")\n",
    "g() = match(Regex(\"1\"), \"123\")"
   ]
  },
  {
   "cell_type": "code",
   "execution_count": 11,
   "metadata": {},
   "outputs": [],
   "source": [
    "using BenchmarkTools"
   ]
  },
  {
   "cell_type": "code",
   "execution_count": 12,
   "metadata": {},
   "outputs": [
    {
     "data": {
      "text/plain": [
       "BenchmarkTools.Trial: 10000 samples with 878 evaluations.\n",
       " Range \u001b[90m(\u001b[39m\u001b[36m\u001b[1mmin\u001b[22m\u001b[39m … \u001b[35mmax\u001b[39m\u001b[90m):  \u001b[39m\u001b[36m\u001b[1m133.144 ns\u001b[22m\u001b[39m … \u001b[35m  6.396 μs\u001b[39m  \u001b[90m┊\u001b[39m GC \u001b[90m(\u001b[39mmin … max\u001b[90m): \u001b[39m0.00% … 97.12%\n",
       " Time  \u001b[90m(\u001b[39m\u001b[34m\u001b[1mmedian\u001b[22m\u001b[39m\u001b[90m):     \u001b[39m\u001b[34m\u001b[1m140.205 ns               \u001b[22m\u001b[39m\u001b[90m┊\u001b[39m GC \u001b[90m(\u001b[39mmedian\u001b[90m):    \u001b[39m0.00%\n",
       " Time  \u001b[90m(\u001b[39m\u001b[32m\u001b[1mmean\u001b[22m\u001b[39m ± \u001b[32mσ\u001b[39m\u001b[90m):   \u001b[39m\u001b[32m\u001b[1m159.762 ns\u001b[22m\u001b[39m ± \u001b[32m237.093 ns\u001b[39m  \u001b[90m┊\u001b[39m GC \u001b[90m(\u001b[39mmean ± σ\u001b[90m):  \u001b[39m8.05% ±  5.39%\n",
       "\n",
       "  \u001b[39m▁\u001b[39m▆\u001b[39m█\u001b[34m▆\u001b[39m\u001b[39m▄\u001b[39m▂\u001b[39m▁\u001b[39m▃\u001b[39m▃\u001b[39m▂\u001b[32m▁\u001b[39m\u001b[39m▁\u001b[39m▁\u001b[39m▁\u001b[39m▁\u001b[39m▁\u001b[39m \u001b[39m \u001b[39m \u001b[39m \u001b[39m \u001b[39m \u001b[39m \u001b[39m \u001b[39m \u001b[39m \u001b[39m \u001b[39m \u001b[39m \u001b[39m \u001b[39m \u001b[39m \u001b[39m \u001b[39m \u001b[39m \u001b[39m \u001b[39m \u001b[39m \u001b[39m \u001b[39m \u001b[39m \u001b[39m \u001b[39m \u001b[39m \u001b[39m \u001b[39m \u001b[39m \u001b[39m \u001b[39m \u001b[39m \u001b[39m \u001b[39m \u001b[39m \u001b[39m \u001b[39m \u001b[39m \u001b[39m \u001b[39m \u001b[39m \u001b[39m \u001b[39m \u001b[39m \u001b[39m▂\n",
       "  \u001b[39m█\u001b[39m█\u001b[39m█\u001b[34m█\u001b[39m\u001b[39m█\u001b[39m█\u001b[39m█\u001b[39m█\u001b[39m█\u001b[39m█\u001b[32m█\u001b[39m\u001b[39m█\u001b[39m█\u001b[39m█\u001b[39m█\u001b[39m█\u001b[39m█\u001b[39m▇\u001b[39m▇\u001b[39m▇\u001b[39m▇\u001b[39m▇\u001b[39m▆\u001b[39m▆\u001b[39m▇\u001b[39m▆\u001b[39m▆\u001b[39m▇\u001b[39m▅\u001b[39m▇\u001b[39m▆\u001b[39m▆\u001b[39m▆\u001b[39m▆\u001b[39m▆\u001b[39m▆\u001b[39m▅\u001b[39m▅\u001b[39m▅\u001b[39m▆\u001b[39m▅\u001b[39m▅\u001b[39m▄\u001b[39m▅\u001b[39m▄\u001b[39m▅\u001b[39m▅\u001b[39m▅\u001b[39m▅\u001b[39m▃\u001b[39m▅\u001b[39m▆\u001b[39m▅\u001b[39m▃\u001b[39m▁\u001b[39m▅\u001b[39m▄\u001b[39m▃\u001b[39m▅\u001b[39m▄\u001b[39m▅\u001b[39m \u001b[39m█\n",
       "  133 ns\u001b[90m        \u001b[39m\u001b[90mHistogram: \u001b[39m\u001b[90m\u001b[1mlog(\u001b[22m\u001b[39m\u001b[90mfrequency\u001b[39m\u001b[90m\u001b[1m)\u001b[22m\u001b[39m\u001b[90m by time\u001b[39m        293 ns \u001b[0m\u001b[1m<\u001b[22m\n",
       "\n",
       " Memory estimate\u001b[90m: \u001b[39m\u001b[33m128 bytes\u001b[39m, allocs estimate\u001b[90m: \u001b[39m\u001b[33m3\u001b[39m."
      ]
     },
     "metadata": {},
     "output_type": "display_data"
    }
   ],
   "source": [
    "@benchmark f()"
   ]
  },
  {
   "cell_type": "code",
   "execution_count": 13,
   "metadata": {},
   "outputs": [
    {
     "data": {
      "text/plain": [
       "BenchmarkTools.Trial: 10000 samples with 7 evaluations.\n",
       " Range \u001b[90m(\u001b[39m\u001b[36m\u001b[1mmin\u001b[22m\u001b[39m … \u001b[35mmax\u001b[39m\u001b[90m):  \u001b[39m\u001b[36m\u001b[1m 4.429 μs\u001b[22m\u001b[39m … \u001b[35m327.000 μs\u001b[39m  \u001b[90m┊\u001b[39m GC \u001b[90m(\u001b[39mmin … max\u001b[90m): \u001b[39m0.00% … 0.00%\n",
       " Time  \u001b[90m(\u001b[39m\u001b[34m\u001b[1mmedian\u001b[22m\u001b[39m\u001b[90m):     \u001b[39m\u001b[34m\u001b[1m12.057 μs               \u001b[22m\u001b[39m\u001b[90m┊\u001b[39m GC \u001b[90m(\u001b[39mmedian\u001b[90m):    \u001b[39m0.00%\n",
       " Time  \u001b[90m(\u001b[39m\u001b[32m\u001b[1mmean\u001b[22m\u001b[39m ± \u001b[32mσ\u001b[39m\u001b[90m):   \u001b[39m\u001b[32m\u001b[1m12.154 μs\u001b[22m\u001b[39m ± \u001b[32m  6.463 μs\u001b[39m  \u001b[90m┊\u001b[39m GC \u001b[90m(\u001b[39mmean ± σ\u001b[90m):  \u001b[39m0.00% ± 0.00%\n",
       "\n",
       "  \u001b[39m▂\u001b[39m█\u001b[39m▅\u001b[39m▁\u001b[39m▁\u001b[39m \u001b[39m▁\u001b[39m▂\u001b[39m \u001b[39m \u001b[39m \u001b[39m \u001b[39m▁\u001b[39m \u001b[39m \u001b[39m \u001b[39m \u001b[39m▂\u001b[39m \u001b[39m \u001b[39m▂\u001b[34m▂\u001b[39m\u001b[32m▇\u001b[39m\u001b[39m \u001b[39m \u001b[39m \u001b[39m▃\u001b[39m▁\u001b[39m \u001b[39m \u001b[39m \u001b[39m█\u001b[39m \u001b[39m▁\u001b[39m▂\u001b[39m▁\u001b[39m \u001b[39m \u001b[39m \u001b[39m▃\u001b[39m \u001b[39m \u001b[39m \u001b[39m \u001b[39m \u001b[39m \u001b[39m \u001b[39m \u001b[39m \u001b[39m \u001b[39m \u001b[39m \u001b[39m \u001b[39m \u001b[39m \u001b[39m \u001b[39m \u001b[39m \u001b[39m \u001b[39m \u001b[39m \u001b[39m \n",
       "  \u001b[39m█\u001b[39m█\u001b[39m█\u001b[39m█\u001b[39m█\u001b[39m▆\u001b[39m█\u001b[39m█\u001b[39m▆\u001b[39m▅\u001b[39m▆\u001b[39m█\u001b[39m█\u001b[39m▄\u001b[39m█\u001b[39m█\u001b[39m▇\u001b[39m█\u001b[39m▇\u001b[39m█\u001b[39m█\u001b[34m█\u001b[39m\u001b[32m█\u001b[39m\u001b[39m█\u001b[39m▃\u001b[39m▇\u001b[39m█\u001b[39m█\u001b[39m▂\u001b[39m█\u001b[39m█\u001b[39m█\u001b[39m▇\u001b[39m█\u001b[39m█\u001b[39m█\u001b[39m█\u001b[39m█\u001b[39m▇\u001b[39m█\u001b[39m█\u001b[39m▅\u001b[39m▂\u001b[39m▁\u001b[39m▁\u001b[39m▁\u001b[39m▁\u001b[39m▁\u001b[39m▁\u001b[39m▁\u001b[39m▁\u001b[39m▁\u001b[39m▁\u001b[39m▁\u001b[39m▁\u001b[39m▁\u001b[39m▁\u001b[39m▁\u001b[39m▁\u001b[39m▁\u001b[39m \u001b[39m▄\n",
       "  4.43 μs\u001b[90m         Histogram: frequency by time\u001b[39m         25.8 μs \u001b[0m\u001b[1m<\u001b[22m\n",
       "\n",
       " Memory estimate\u001b[90m: \u001b[39m\u001b[33m160 bytes\u001b[39m, allocs estimate\u001b[90m: \u001b[39m\u001b[33m4\u001b[39m."
      ]
     },
     "metadata": {},
     "output_type": "display_data"
    }
   ],
   "source": [
    "@benchmark g()"
   ]
  },
  {
   "cell_type": "markdown",
   "metadata": {},
   "source": [
    "\n",
    "FrontRangeGamer February 26, 2018 at 11:54 PM<br>\n",
    "\n",
    "The manual says \"A macro maps a tuple of arguments to a returned expression...\". I found your results a bit confusing until I realized `@intvec` isn't returning an expression. If you use `macro intvec2() quote Int[] end end` you get a distinct array on each invocation. Why do repeated calls to `push!(@intvec,1)` always return `[1]` and not return Vectors of increasing size? I expect the latter from your `b = [@intvec() for i in 1:3]` example.<br>\n",
    "\n",
    "手册上说“宏将参数元组映射到返回的表达式…”。我发现你的结果有点混乱，直到我意识到`@intvec`不返回表达式。如果使用`macro intvec2() quote Int[] end end`，每次调用都会得到一个不同的数组。为什么重复调用`push!(@intvec,1)`总是返回`[1]`而不返回大小不断增加的向量？我希望后者从你的`b = [@intvec() for i in 1:3]`的例子。"
   ]
  },
  {
   "cell_type": "code",
   "execution_count": null,
   "metadata": {},
   "outputs": [
    {
     "name": "stdout",
     "output_type": "stream",
     "text": [
      "Hey!\n"
     ]
    },
    {
     "data": {
      "text/plain": [
       "1-element Vector{Int64}:\n",
       " 1"
      ]
     },
     "metadata": {},
     "output_type": "display_data"
    }
   ],
   "source": [
    "push!(@intvec,1)"
   ]
  },
  {
   "cell_type": "code",
   "execution_count": null,
   "metadata": {},
   "outputs": [
    {
     "name": "stdout",
     "output_type": "stream",
     "text": [
      "Hey!\n"
     ]
    },
    {
     "data": {
      "text/plain": [
       "1-element Vector{Int64}:\n",
       " 1"
      ]
     },
     "metadata": {},
     "output_type": "display_data"
    }
   ],
   "source": [
    "push!(@intvec,1)"
   ]
  },
  {
   "cell_type": "markdown",
   "metadata": {},
   "source": [
    "Replies\n",
    "Bogumił KamińskiFebruary 27, 2018 at 12:23 AM <br>\n",
    "\n",
    "This is exactly the point - macro does not have to return an expression. And, for instance, this is what regex macro does. The reason why repeated calls to `push!(@intvec,1)` return `[1]` is that the macro is invoked every time you make this call, but if you would write for example `for i in 1:5 global x = push!(@intvec, i) end` at the end `x` will contain five elements as `@intvec` is invoked only once when the loop is parsed.<br>\n",
    "\n",
    "这正是关键所在——宏不必返回表达式。例如，这就是regex宏所做的。重复调用 `push!(@intvec,1)`  return `[1]` 的原因是每次调用时都会调用宏，但是如果您编写例如`for i in 1:5 global x = push!(@intvec, i) end` at the end `x` 将包含五个元素，**因为 `@intvec` 在解析循环时只调用一次**。"
   ]
  },
  {
   "cell_type": "code",
   "execution_count": null,
   "metadata": {},
   "outputs": [
    {
     "name": "stdout",
     "output_type": "stream",
     "text": [
      "Hey!\n"
     ]
    },
    {
     "data": {
      "text/plain": [
       "5-element Vector{Int64}:\n",
       " 1\n",
       " 2\n",
       " 3\n",
       " 4\n",
       " 5"
      ]
     },
     "metadata": {},
     "output_type": "display_data"
    }
   ],
   "source": [
    "for i in 1:5\n",
    "    global x = push!(@intvec, i) \n",
    "end\n",
    "x"
   ]
  },
  {
   "cell_type": "code",
   "execution_count": null,
   "metadata": {},
   "outputs": [
    {
     "name": "stdout",
     "output_type": "stream",
     "text": [
      "Hey!\n"
     ]
    },
    {
     "data": {
      "text/plain": [
       "5-element Vector{Int64}:\n",
       " 1\n",
       " 2\n",
       " 3\n",
       " 4\n",
       " 5"
      ]
     },
     "metadata": {},
     "output_type": "display_data"
    }
   ],
   "source": [
    "for i in 1:5\n",
    "    global x = push!(@intvec, i) \n",
    "end\n",
    "x"
   ]
  }
 ],
 "metadata": {
  "kernelspec": {
   "display_name": "Julia 1.11.0",
   "language": "julia",
   "name": "julia-1.11"
  },
  "language_info": {
   "file_extension": ".jl",
   "mimetype": "application/julia",
   "name": "julia",
   "version": "1.11.0"
  }
 },
 "nbformat": 4,
 "nbformat_minor": 2
}
