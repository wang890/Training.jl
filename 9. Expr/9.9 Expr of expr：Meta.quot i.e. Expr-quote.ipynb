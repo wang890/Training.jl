{
 "cells": [
  {
   "cell_type": "markdown",
   "metadata": {},
   "source": [
    "### https://docs.juliacn.com/latest/manual/metaprogramming/#嵌套引用<br>"
   ]
  },
  {
   "cell_type": "code",
   "execution_count": 6,
   "metadata": {},
   "outputs": [
    {
     "name": "stdout",
     "output_type": "stream",
     "text": [
      "str_ex = :($(Expr(:quote, :(1 + 2))))\n",
      "eval(str_ex) = :(1 + 2)\n",
      "str_ex == $(Expr(:quote, :(1 + 2))) = false\n",
      "str_ex == $(Expr(:quote, :($(Expr(:quote, :(1 + 2)))))) = true\n"
     ]
    },
    {
     "data": {
      "text/plain": [
       "true"
      ]
     },
     "metadata": {},
     "output_type": "display_data"
    }
   ],
   "source": [
    "str_ex = Meta.parse(\":(1+2)\")\n",
    "@show str_ex\n",
    "@show eval(str_ex)\n",
    "\n",
    "@show str_ex == :(1+2)\n",
    "@show str_ex == :(:(1+2))"
   ]
  },
  {
   "cell_type": "markdown",
   "metadata": {},
   "source": [
    "+ $ 相当于 eval, 取值, **Expr构造函数 要执行了才会得到其要构造的表达式**\n",
    "+ `$(Expr(...))` 结果为...所体现的表达式. 等于白干? \n",
    "+ 不是，因为要嵌入拼接到:(...)引用中，就如字符串嵌入字符串时要去掉引号一样:<br>\n",
    "name = \"Wang\", \"hello, Wang, how are you?\"\n"
   ]
  },
  {
   "cell_type": "code",
   "execution_count": 2,
   "metadata": {},
   "outputs": [
    {
     "name": "stdout",
     "output_type": "stream",
     "text": [
      "Expr\n",
      "  head: Symbol quote\n",
      "  args: Array{Any}((1,))\n",
      "    1: Expr\n",
      "      head: Symbol call\n",
      "      args: Array{Any}((3,))\n",
      "        1: Symbol +\n",
      "        2: Int64 1\n",
      "        3: Int64 2\n"
     ]
    }
   ],
   "source": [
    "dump(str_ex)"
   ]
  },
  {
   "cell_type": "code",
   "execution_count": 9,
   "metadata": {},
   "outputs": [
    {
     "data": {
      "text/plain": [
       ":(1 + 2)"
      ]
     },
     "metadata": {},
     "output_type": "display_data"
    },
    {
     "name": "stdout",
     "output_type": "stream",
     "text": [
      "Expr\n",
      "  head: Symbol quote\n",
      "  args: Array{Any}((1,))\n",
      "    1: Expr\n",
      "      head: Symbol call\n",
      "      args: Array{Any}((3,))\n",
      "        1: Symbol +\n",
      "        2: Int64 1\n",
      "        3: Int64 2\n"
     ]
    }
   ],
   "source": [
    "eval(Expr(:quote, :(1 + 2))) |> display # 原始表达式的$相当于eval\n",
    "dump(Expr(:quote, :(1 + 2)))\n",
    "# Expr(:quote, :(1 + 2)) 指:(1 + 2)构成的表达式,即要外加一层\n",
    "# 所以等价于 :(:(1+2))\n",
    "\n",
    "# $(Expr(:quote, :(1 + 2))), Expr外加了 但又 $ 执行复原了，白加了\n",
    "# 所以通过 :()再外加, 就得到原始parse结果"
   ]
  },
  {
   "cell_type": "code",
   "execution_count": 10,
   "metadata": {},
   "outputs": [
    {
     "name": "stdout",
     "output_type": "stream",
     "text": [
      "Expr\n",
      "  head: Symbol quote\n",
      "  args: Array{Any}((1,))\n",
      "    1: Expr\n",
      "      head: Symbol call\n",
      "      args: Array{Any}((3,))\n",
      "        1: Symbol +\n",
      "        2: Int64 1\n",
      "        3: Int64 2\n"
     ]
    }
   ],
   "source": [
    "dump(:(:(1+2)))"
   ]
  },
  {
   "cell_type": "code",
   "execution_count": 14,
   "metadata": {},
   "outputs": [
    {
     "name": "stdout",
     "output_type": "stream",
     "text": [
      "direct_expr_ex = :($(Expr(:quote, :(1 + 2))))\n",
      "direct_expr_ex == str_ex == $(Expr(:quote, :($(Expr(:quote, :(1 + 2)))))) == Expr(:quote, Expr(:call, :+, 1, 2)) = true\n"
     ]
    },
    {
     "data": {
      "text/plain": [
       "true"
      ]
     },
     "metadata": {},
     "output_type": "display_data"
    }
   ],
   "source": [
    "# 如上，所以，可以直接这样:  \n",
    "direct_expr_ex = Expr(:quote, :(1 + 2))\n",
    "# 末梢表达式优先由:(...)构造, 而不是Expr, 但两者是等价的\n",
    "\n",
    "@show direct_expr_ex\n",
    "@show direct_expr_ex == str_ex == \n",
    ":(:(1+2)) == \n",
    "Expr(:quote, Expr(:call, :+, 1,2))"
   ]
  },
  {
   "cell_type": "code",
   "execution_count": 24,
   "metadata": {},
   "outputs": [],
   "source": [
    "using TreeView"
   ]
  },
  {
   "cell_type": "code",
   "execution_count": 4,
   "metadata": {},
   "outputs": [
    {
     "data": {
      "image/svg+xml": [
       "<?xml version=\"1.0\" encoding=\"UTF-8\"?>\n",
       "<svg xmlns=\"http://www.w3.org/2000/svg\" xmlns:xlink=\"http://www.w3.org/1999/xlink\" width=\"40.218\" height=\"70.298\" viewBox=\"0 0 40.218 70.298\">\n",
       "<defs>\n",
       "<g>\n",
       "<g id=\"glyph-1731630588227000--0-0\">\n",
       "<path d=\"M 5.25 1.875 C 5.25 1.578125 5.015625 1.578125 4.859375 1.578125 L 4.375 1.578125 L 4.375 -3.875 C 4.375 -4.046875 4.375 -4.265625 4.046875 -4.265625 C 3.703125 -4.265625 3.703125 -4.109375 3.703125 -3.734375 C 3.4375 -4.015625 3.03125 -4.265625 2.484375 -4.265625 C 1.390625 -4.265625 0.390625 -3.34375 0.390625 -2.09375 C 0.390625 -0.890625 1.3125 0.0625 2.390625 0.0625 C 3.046875 0.0625 3.5 -0.296875 3.703125 -0.53125 L 3.703125 1.578125 L 3.21875 1.578125 C 3.078125 1.578125 2.828125 1.578125 2.828125 1.859375 C 2.828125 2.171875 3.0625 2.171875 3.21875 2.171875 L 4.859375 2.171875 C 5 2.171875 5.25 2.171875 5.25 1.875 Z M 3.703125 -1.890625 C 3.703125 -1.34375 3.21875 -0.53125 2.421875 -0.53125 C 1.703125 -0.53125 1.0625 -1.21875 1.0625 -2.09375 C 1.0625 -3 1.75 -3.671875 2.53125 -3.671875 C 3.265625 -3.671875 3.703125 -2.921875 3.703125 -2.28125 Z M 3.703125 -1.890625 \"/>\n",
       "</g>\n",
       "<g id=\"glyph-1731630588227000--0-1\">\n",
       "<path d=\"M 5 -0.296875 C 5 -0.59375 4.75 -0.59375 4.609375 -0.59375 L 4.171875 -0.59375 L 4.171875 -3.8125 C 4.171875 -4.109375 4.109375 -4.203125 3.78125 -4.203125 L 3.0625 -4.203125 C 2.90625 -4.203125 2.671875 -4.203125 2.671875 -3.90625 C 2.671875 -3.609375 2.921875 -3.609375 3.0625 -3.609375 L 3.5 -3.609375 L 3.5 -1.53125 C 3.5 -0.65625 2.703125 -0.53125 2.390625 -0.53125 C 1.625 -0.53125 1.625 -0.859375 1.625 -1.171875 L 1.625 -3.8125 C 1.625 -4.109375 1.5625 -4.203125 1.234375 -4.203125 L 0.515625 -4.203125 C 0.359375 -4.203125 0.125 -4.203125 0.125 -3.90625 C 0.125 -3.609375 0.375 -3.609375 0.515625 -3.609375 L 0.953125 -3.609375 L 0.953125 -1.109375 C 0.953125 -0.171875 1.625 0.0625 2.328125 0.0625 C 2.734375 0.0625 3.140625 -0.046875 3.5 -0.3125 C 3.5 0 3.71875 0 3.890625 0 L 4.59375 0 C 4.75 0 5 0 5 -0.296875 Z M 5 -0.296875 \"/>\n",
       "</g>\n",
       "<g id=\"glyph-1731630588227000--0-2\">\n",
       "<path d=\"M 4.5625 -2.109375 C 4.5625 -3.328125 3.65625 -4.296875 2.5625 -4.296875 C 1.46875 -4.296875 0.5625 -3.328125 0.5625 -2.109375 C 0.5625 -0.875 1.484375 0.0625 2.5625 0.0625 C 3.640625 0.0625 4.5625 -0.875 4.5625 -2.109375 Z M 3.890625 -2.171875 C 3.890625 -1.265625 3.28125 -0.53125 2.5625 -0.53125 C 1.84375 -0.53125 1.234375 -1.265625 1.234375 -2.171875 C 1.234375 -3.0625 1.859375 -3.703125 2.5625 -3.703125 C 3.265625 -3.703125 3.890625 -3.0625 3.890625 -2.171875 Z M 3.890625 -2.171875 \"/>\n",
       "</g>\n",
       "<g id=\"glyph-1731630588227000--0-3\">\n",
       "<path d=\"M 4.390625 -1.234375 C 4.390625 -1.40625 4.390625 -1.609375 4.046875 -1.609375 C 3.71875 -1.609375 3.71875 -1.40625 3.71875 -1.234375 C 3.703125 -0.640625 3.140625 -0.53125 2.921875 -0.53125 C 2.171875 -0.53125 2.171875 -1.046875 2.171875 -1.296875 L 2.171875 -3.609375 L 3.765625 -3.609375 C 3.921875 -3.609375 4.15625 -3.609375 4.15625 -3.90625 C 4.15625 -4.203125 3.921875 -4.203125 3.765625 -4.203125 L 2.171875 -4.203125 L 2.171875 -5.015625 C 2.171875 -5.203125 2.171875 -5.40625 1.84375 -5.40625 C 1.5 -5.40625 1.5 -5.203125 1.5 -5.015625 L 1.5 -4.203125 L 0.640625 -4.203125 C 0.484375 -4.203125 0.25 -4.203125 0.25 -3.90625 C 0.25 -3.609375 0.484375 -3.609375 0.640625 -3.609375 L 1.5 -3.609375 L 1.5 -1.234375 C 1.5 -0.296875 2.15625 0.0625 2.875 0.0625 C 3.59375 0.0625 4.390625 -0.359375 4.390625 -1.234375 Z M 4.390625 -1.234375 \"/>\n",
       "</g>\n",
       "<g id=\"glyph-1731630588227000--0-4\">\n",
       "<path d=\"M 4.53125 -1.0625 C 4.53125 -1.34375 4.25 -1.34375 4.1875 -1.34375 C 4.015625 -1.34375 3.9375 -1.3125 3.875 -1.125 C 3.65625 -0.625 3.125 -0.53125 2.859375 -0.53125 C 2.125 -0.53125 1.390625 -1.03125 1.234375 -1.859375 L 4.140625 -1.859375 C 4.34375 -1.859375 4.53125 -1.859375 4.53125 -2.234375 C 4.53125 -3.34375 3.90625 -4.296875 2.640625 -4.296875 C 1.46875 -4.296875 0.53125 -3.328125 0.53125 -2.125 C 0.53125 -0.921875 1.53125 0.0625 2.78125 0.0625 C 4.078125 0.0625 4.53125 -0.828125 4.53125 -1.0625 Z M 3.84375 -2.453125 L 1.234375 -2.453125 C 1.375 -3.171875 1.953125 -3.703125 2.640625 -3.703125 C 3.140625 -3.703125 3.75 -3.453125 3.84375 -2.453125 Z M 3.84375 -2.453125 \"/>\n",
       "</g>\n",
       "<g id=\"glyph-1731630588227000--0-5\">\n",
       "<path d=\"M 4.75 -2.984375 C 4.75 -3.328125 4.40625 -3.328125 4.28125 -3.328125 L 2.90625 -3.328125 L 2.90625 -4.734375 C 2.90625 -4.84375 2.90625 -5.1875 2.5625 -5.1875 C 2.21875 -5.1875 2.21875 -4.84375 2.21875 -4.734375 L 2.21875 -3.328125 L 0.828125 -3.328125 C 0.71875 -3.328125 0.375 -3.328125 0.375 -2.984375 C 0.375 -2.640625 0.71875 -2.640625 0.828125 -2.640625 L 2.21875 -2.640625 L 2.21875 -1.25 C 2.21875 -1.140625 2.21875 -0.796875 2.5625 -0.796875 C 2.90625 -0.796875 2.90625 -1.140625 2.90625 -1.25 L 2.90625 -2.640625 L 4.28125 -2.640625 C 4.40625 -2.640625 4.75 -2.640625 4.75 -2.984375 Z M 4.75 -2.984375 \"/>\n",
       "</g>\n",
       "<g id=\"glyph-1731630588227000--0-6\">\n",
       "<path d=\"M 4.3125 -0.296875 C 4.3125 -0.59375 4.078125 -0.59375 3.921875 -0.59375 L 3.03125 -0.59375 L 3.03125 -5.671875 C 3.03125 -5.828125 3.03125 -6.078125 2.75 -6.078125 C 2.5625 -6.078125 2.5 -5.953125 2.453125 -5.84375 C 2.078125 -5.015625 1.578125 -4.90625 1.390625 -4.890625 C 1.234375 -4.875 1.03125 -4.859375 1.03125 -4.578125 C 1.03125 -4.34375 1.203125 -4.28125 1.34375 -4.28125 C 1.53125 -4.28125 1.9375 -4.34375 2.359375 -4.71875 L 2.359375 -0.59375 L 1.46875 -0.59375 C 1.3125 -0.59375 1.078125 -0.59375 1.078125 -0.296875 C 1.078125 0 1.328125 0 1.46875 0 L 3.921875 0 C 4.078125 0 4.3125 0 4.3125 -0.296875 Z M 4.3125 -0.296875 \"/>\n",
       "</g>\n",
       "<g id=\"glyph-1731630588227000--0-7\">\n",
       "<path d=\"M 4.609375 -0.40625 L 4.609375 -0.65625 C 4.609375 -0.84375 4.609375 -1.0625 4.28125 -1.0625 C 3.9375 -1.0625 3.9375 -0.875 3.9375 -0.59375 L 1.609375 -0.59375 C 2.1875 -1.09375 3.125 -1.828125 3.546875 -2.21875 C 4.15625 -2.765625 4.609375 -3.390625 4.609375 -4.171875 C 4.609375 -5.34375 3.625 -6.078125 2.4375 -6.078125 C 1.28125 -6.078125 0.515625 -5.28125 0.515625 -4.4375 C 0.515625 -4.078125 0.78125 -3.96875 0.953125 -3.96875 C 1.15625 -3.96875 1.375 -4.140625 1.375 -4.421875 C 1.375 -4.53125 1.328125 -4.65625 1.234375 -4.734375 C 1.390625 -5.171875 1.84375 -5.484375 2.390625 -5.484375 C 3.1875 -5.484375 3.9375 -5.03125 3.9375 -4.171875 C 3.9375 -3.484375 3.453125 -2.921875 2.8125 -2.390625 L 0.65625 -0.5625 C 0.5625 -0.484375 0.515625 -0.4375 0.515625 -0.296875 C 0.515625 0 0.75 0 0.90625 0 L 4.21875 0 C 4.546875 0 4.609375 -0.09375 4.609375 -0.40625 Z M 4.609375 -0.40625 \"/>\n",
       "</g>\n",
       "</g>\n",
       "</defs>\n",
       "<path fill=\"none\" stroke-width=\"0.3985\" stroke-linecap=\"butt\" stroke-linejoin=\"miter\" stroke=\"rgb(0%, 0%, 0%)\" stroke-opacity=\"1\" stroke-miterlimit=\"10\" d=\"M 0.00112637 -7.386949 L 0.00112637 -21.72288 \" transform=\"matrix(0.980927, 0, 0, -0.980927, 19.725458, 7.375038)\"/>\n",
       "<path fill=\"none\" stroke-width=\"0.31879\" stroke-linecap=\"round\" stroke-linejoin=\"round\" stroke=\"rgb(0%, 0%, 0%)\" stroke-opacity=\"1\" stroke-miterlimit=\"10\" d=\"M -1.195371 1.594008 C -1.095816 0.996677 -0.000709803 0.100681 0.297955 0.00112637 C -0.000709803 -0.0984287 -1.095816 -0.994424 -1.195371 -1.595737 \" transform=\"matrix(0, 0.980927, 0.980927, 0, 19.725458, 28.68429)\"/>\n",
       "<path fill=\"none\" stroke-width=\"0.3985\" stroke-linecap=\"butt\" stroke-linejoin=\"miter\" stroke=\"rgb(0%, 0%, 0%)\" stroke-opacity=\"1\" stroke-miterlimit=\"10\" d=\"M -3.081099 -34.513717 L -10.659232 -49.666 \" transform=\"matrix(0.980927, 0, 0, -0.980927, 19.725458, 7.375038)\"/>\n",
       "<path fill=\"none\" stroke-width=\"0.31879\" stroke-linecap=\"round\" stroke-linejoin=\"round\" stroke=\"rgb(0%, 0%, 0%)\" stroke-opacity=\"1\" stroke-miterlimit=\"10\" d=\"M -1.196421 1.592579 C -1.094907 0.997711 0.000422368 0.0982777 0.299636 -0.00146307 C 0.000420615 -0.0976364 -1.094925 -0.99705 -1.19645 -1.595478 \" transform=\"matrix(-0.438641, 0.877302, 0.877302, 0.438641, 9.269435, 56.09324)\"/>\n",
       "<path fill=\"none\" stroke-width=\"0.3985\" stroke-linecap=\"butt\" stroke-linejoin=\"miter\" stroke=\"rgb(0%, 0%, 0%)\" stroke-opacity=\"1\" stroke-miterlimit=\"10\" d=\"M 3.083352 -34.513717 L 10.657502 -49.666 \" transform=\"matrix(0.980927, 0, 0, -0.980927, 19.725458, 7.375038)\"/>\n",
       "<path fill=\"none\" stroke-width=\"0.31879\" stroke-linecap=\"round\" stroke-linejoin=\"round\" stroke=\"rgb(0%, 0%, 0%)\" stroke-opacity=\"1\" stroke-miterlimit=\"10\" d=\"M -1.197223 1.593931 C -1.095699 0.995503 0.00142814 0.0996515 0.298862 -0.000083934 C -0.000351116 -0.0998247 -1.0939 -0.995696 -1.197195 -1.594126 \" transform=\"matrix(0.438641, 0.877302, 0.877302, -0.438641, 30.18148, 56.09324)\"/>\n",
       "<g fill=\"rgb(0%, 0%, 0%)\" fill-opacity=\"1\">\n",
       "<use xlink:href=\"#glyph-1731630588227000--0-0\" x=\"6.898858\" y=\"8.997491\"/>\n",
       "<use xlink:href=\"#glyph-1731630588227000--0-1\" x=\"12.029484\" y=\"8.997491\"/>\n",
       "<use xlink:href=\"#glyph-1731630588227000--0-2\" x=\"17.16011\" y=\"8.997491\"/>\n",
       "<use xlink:href=\"#glyph-1731630588227000--0-3\" x=\"22.290736\" y=\"8.997491\"/>\n",
       "<use xlink:href=\"#glyph-1731630588227000--0-4\" x=\"27.421362\" y=\"8.997491\"/>\n",
       "</g>\n",
       "<g fill=\"rgb(0%, 0%, 0%)\" fill-opacity=\"1\">\n",
       "<use xlink:href=\"#glyph-1731630588227000--0-5\" x=\"17.160334\" y=\"37.775922\"/>\n",
       "</g>\n",
       "<g fill=\"rgb(0%, 0%, 0%)\" fill-opacity=\"1\">\n",
       "<use xlink:href=\"#glyph-1731630588227000--0-6\" x=\"3.257658\" y=\"66.025634\"/>\n",
       "</g>\n",
       "<g fill=\"rgb(0%, 0%, 0%)\" fill-opacity=\"1\">\n",
       "<use xlink:href=\"#glyph-1731630588227000--0-7\" x=\"31.06301\" y=\"66.025634\"/>\n",
       "</g>\n",
       "</svg>\n",
       "\n"
      ],
      "text/plain": [
       "LabelledTree({4, 3} directed simple Int64 graph, Any[:quote, :+, 1, 2])"
      ]
     },
     "metadata": {},
     "output_type": "display_data"
    }
   ],
   "source": [
    "TreeView.walk_tree(str_ex)"
   ]
  },
  {
   "cell_type": "code",
   "execution_count": null,
   "metadata": {},
   "outputs": [
    {
     "data": {
      "image/svg+xml": [
       "<?xml version=\"1.0\" encoding=\"UTF-8\"?>\n",
       "<svg xmlns=\"http://www.w3.org/2000/svg\" xmlns:xlink=\"http://www.w3.org/1999/xlink\" width=\"40.218\" height=\"40.731\" viewBox=\"0 0 40.218 40.731\">\n",
       "<defs>\n",
       "<g>\n",
       "<g id=\"glyph-1731630588227001--0-0\">\n",
       "<path d=\"M 4.75 -2.984375 C 4.75 -3.328125 4.40625 -3.328125 4.28125 -3.328125 L 2.90625 -3.328125 L 2.90625 -4.734375 C 2.90625 -4.84375 2.90625 -5.1875 2.5625 -5.1875 C 2.21875 -5.1875 2.21875 -4.84375 2.21875 -4.734375 L 2.21875 -3.328125 L 0.828125 -3.328125 C 0.71875 -3.328125 0.375 -3.328125 0.375 -2.984375 C 0.375 -2.640625 0.71875 -2.640625 0.828125 -2.640625 L 2.21875 -2.640625 L 2.21875 -1.25 C 2.21875 -1.140625 2.21875 -0.796875 2.5625 -0.796875 C 2.90625 -0.796875 2.90625 -1.140625 2.90625 -1.25 L 2.90625 -2.640625 L 4.28125 -2.640625 C 4.40625 -2.640625 4.75 -2.640625 4.75 -2.984375 Z M 4.75 -2.984375 \"/>\n",
       "</g>\n",
       "<g id=\"glyph-1731630588227001--0-1\">\n",
       "<path d=\"M 4.3125 -0.296875 C 4.3125 -0.59375 4.078125 -0.59375 3.921875 -0.59375 L 3.03125 -0.59375 L 3.03125 -5.671875 C 3.03125 -5.828125 3.03125 -6.078125 2.75 -6.078125 C 2.5625 -6.078125 2.5 -5.953125 2.453125 -5.84375 C 2.078125 -5.015625 1.578125 -4.90625 1.390625 -4.890625 C 1.234375 -4.875 1.03125 -4.859375 1.03125 -4.578125 C 1.03125 -4.34375 1.203125 -4.28125 1.34375 -4.28125 C 1.53125 -4.28125 1.9375 -4.34375 2.359375 -4.71875 L 2.359375 -0.59375 L 1.46875 -0.59375 C 1.3125 -0.59375 1.078125 -0.59375 1.078125 -0.296875 C 1.078125 0 1.328125 0 1.46875 0 L 3.921875 0 C 4.078125 0 4.3125 0 4.3125 -0.296875 Z M 4.3125 -0.296875 \"/>\n",
       "</g>\n",
       "<g id=\"glyph-1731630588227001--0-2\">\n",
       "<path d=\"M 4.609375 -0.40625 L 4.609375 -0.65625 C 4.609375 -0.84375 4.609375 -1.0625 4.28125 -1.0625 C 3.9375 -1.0625 3.9375 -0.875 3.9375 -0.59375 L 1.609375 -0.59375 C 2.1875 -1.09375 3.125 -1.828125 3.546875 -2.21875 C 4.15625 -2.765625 4.609375 -3.390625 4.609375 -4.171875 C 4.609375 -5.34375 3.625 -6.078125 2.4375 -6.078125 C 1.28125 -6.078125 0.515625 -5.28125 0.515625 -4.4375 C 0.515625 -4.078125 0.78125 -3.96875 0.953125 -3.96875 C 1.15625 -3.96875 1.375 -4.140625 1.375 -4.421875 C 1.375 -4.53125 1.328125 -4.65625 1.234375 -4.734375 C 1.390625 -5.171875 1.84375 -5.484375 2.390625 -5.484375 C 3.1875 -5.484375 3.9375 -5.03125 3.9375 -4.171875 C 3.9375 -3.484375 3.453125 -2.921875 2.8125 -2.390625 L 0.65625 -0.5625 C 0.5625 -0.484375 0.515625 -0.4375 0.515625 -0.296875 C 0.515625 0 0.75 0 0.90625 0 L 4.21875 0 C 4.546875 0 4.609375 -0.09375 4.609375 -0.40625 Z M 4.609375 -0.40625 \"/>\n",
       "</g>\n",
       "</g>\n",
       "</defs>\n",
       "<path fill=\"none\" stroke-width=\"0.3985\" stroke-linecap=\"butt\" stroke-linejoin=\"miter\" stroke=\"rgb(0%, 0%, 0%)\" stroke-opacity=\"1\" stroke-miterlimit=\"10\" d=\"M -3.081099 -6.165129 L -10.659232 -21.317412 \" transform=\"matrix(0.980927, 0, 0, -0.980927, 19.725458, 6.108709)\"/>\n",
       "<path fill=\"none\" stroke-width=\"0.31879\" stroke-linecap=\"round\" stroke-linejoin=\"round\" stroke=\"rgb(0%, 0%, 0%)\" stroke-opacity=\"1\" stroke-miterlimit=\"10\" d=\"M -1.194441 1.593569 C -1.096489 0.996921 -0.00115904 0.097487 0.298054 -0.00225375 C -0.00116079 -0.0984271 -1.096507 -0.997841 -1.194469 -1.594488 \" transform=\"matrix(-0.438641, 0.877302, 0.877302, 0.438641, 9.269435, 27.020755)\"/>\n",
       "<path fill=\"none\" stroke-width=\"0.3985\" stroke-linecap=\"butt\" stroke-linejoin=\"miter\" stroke=\"rgb(0%, 0%, 0%)\" stroke-opacity=\"1\" stroke-miterlimit=\"10\" d=\"M 3.083352 -6.165129 L 10.657502 -21.317412 \" transform=\"matrix(0.980927, 0, 0, -0.980927, 19.725458, 6.108709)\"/>\n",
       "<path fill=\"none\" stroke-width=\"0.31879\" stroke-linecap=\"round\" stroke-linejoin=\"round\" stroke=\"rgb(0%, 0%, 0%)\" stroke-opacity=\"1\" stroke-miterlimit=\"10\" d=\"M -1.195243 1.592941 C -1.09728 0.996294 -0.000153267 0.100442 0.297281 0.00070675 C -0.00193252 -0.099034 -1.095481 -0.994905 -1.195214 -1.595116 \" transform=\"matrix(0.438641, 0.877302, 0.877302, -0.438641, 30.18148, 27.020755)\"/>\n",
       "<g fill=\"rgb(0%, 0%, 0%)\" fill-opacity=\"1\">\n",
       "<use xlink:href=\"#glyph-1731630588227001--0-0\" x=\"17.160334\" y=\"8.703261\"/>\n",
       "</g>\n",
       "<g fill=\"rgb(0%, 0%, 0%)\" fill-opacity=\"1\">\n",
       "<use xlink:href=\"#glyph-1731630588227001--0-1\" x=\"3.257658\" y=\"36.952973\"/>\n",
       "</g>\n",
       "<g fill=\"rgb(0%, 0%, 0%)\" fill-opacity=\"1\">\n",
       "<use xlink:href=\"#glyph-1731630588227001--0-2\" x=\"31.06301\" y=\"36.952973\"/>\n",
       "</g>\n",
       "</svg>\n",
       "\n"
      ],
      "text/plain": [
       "LabelledTree({3, 2} directed simple Int64 graph, Any[:+, 1, 2])"
      ]
     },
     "metadata": {},
     "output_type": "display_data"
    }
   ],
   "source": [
    "TreeView.walk_tree(:(1+2))"
   ]
  },
  {
   "cell_type": "markdown",
   "metadata": {},
   "source": [
    "### **如下为笔者测试**"
   ]
  },
  {
   "cell_type": "code",
   "execution_count": null,
   "metadata": {},
   "outputs": [
    {
     "name": "stdout",
     "output_type": "stream",
     "text": [
      "Expr(:quote, 1 + 2) = :($(Expr(:quote, 3)))\n"
     ]
    },
    {
     "ename": "MethodError",
     "evalue": "MethodError: no method matching +(::Symbol, ::Int64)\nThe function `+` exists, but no method is defined for this combination of argument types.\n\nClosest candidates are:\n  +(::Any, ::Any, !Matched::Any, !Matched::Any...)\n   @ Base operators.jl:596\n  +(!Matched::Base.CoreLogging.LogLevel, ::Integer)\n   @ Base logging\\logging.jl:132\n  +(!Matched::Complex{Bool}, ::Real)\n   @ Base complex.jl:323\n  ...\n",
     "output_type": "error",
     "traceback": [
      "MethodError: no method matching +(::Symbol, ::Int64)\n",
      "\n",
      "The function `+` exists, but no method is defined for this combination of argument types.\n",
      "\n",
      "\n",
      "\n",
      "Closest candidates are:\n",
      "\n",
      "  +(::Any, ::Any, !Matched::Any, !Matched::Any...)\n",
      "\n",
      "   @ Base operators.jl:596\n",
      "\n",
      "  +(!Matched::Base.CoreLogging.LogLevel, ::Integer)\n",
      "\n",
      "   @ Base logging\\logging.jl:132\n",
      "\n",
      "  +(!Matched::Complex{Bool}, ::Real)\n",
      "\n",
      "   @ Base complex.jl:323\n",
      "\n",
      "  ...\n",
      "\n",
      "\n",
      "\n",
      "\n",
      "\n",
      "Stacktrace:\n",
      "\n",
      " [1] macro expansion\n",
      "\n",
      "   @ show.jl:1237 [inlined]\n",
      "\n",
      " [2] top-level scope\n",
      "\n",
      "   @ e:\\Projects.jl\\Training.jl\\9. Expr\\jl_notebook_cell_df34fa98e69747e1a8f8a730347b8e2f_X24sZmlsZQ==.jl:2"
     ]
    }
   ],
   "source": [
    "@show Expr(:quote, 1 + 2)\n",
    "@show Expr(:quote, :a + 2)"
   ]
  },
  {
   "cell_type": "code",
   "execution_count": null,
   "metadata": {},
   "outputs": [
    {
     "ename": "MethodError",
     "evalue": "MethodError: no method matching +(::Symbol, ::Symbol)\nThe function `+` exists, but no method is defined for this combination of argument types.\n\nClosest candidates are:\n  +(::Any, ::Any, !Matched::Any, !Matched::Any...)\n   @ Base operators.jl:596\n  +(!Matched::Base.CoreLogging.LogLevel, !Matched::Integer)\n   @ Base logging\\logging.jl:132\n  +(!Matched::Bool, !Matched::Complex{Bool})\n   @ Base complex.jl:308\n  ...\n",
     "output_type": "error",
     "traceback": [
      "MethodError: no method matching +(::Symbol, ::Symbol)\n",
      "\n",
      "The function `+` exists, but no method is defined for this combination of argument types.\n",
      "\n",
      "\n",
      "\n",
      "Closest candidates are:\n",
      "\n",
      "  +(::Any, ::Any, !Matched::Any, !Matched::Any...)\n",
      "\n",
      "   @ Base operators.jl:596\n",
      "\n",
      "  +(!Matched::Base.CoreLogging.LogLevel, !Matched::Integer)\n",
      "\n",
      "   @ Base logging\\logging.jl:132\n",
      "\n",
      "  +(!Matched::Bool, !Matched::Complex{Bool})\n",
      "\n",
      "   @ Base complex.jl:308\n",
      "\n",
      "  ...\n",
      "\n",
      "\n",
      "\n",
      "\n",
      "\n",
      "Stacktrace:\n",
      "\n",
      " [1] macro expansion\n",
      "\n",
      "   @ show.jl:1237 [inlined]\n",
      "\n",
      " [2] top-level scope\n",
      "\n",
      "   @ e:\\Projects.jl\\Training.jl\\9. Expr\\jl_notebook_cell_df34fa98e69747e1a8f8a730347b8e2f_X25sZmlsZQ==.jl:1"
     ]
    }
   ],
   "source": [
    "@show Expr(:quote, :a + :b)"
   ]
  },
  {
   "cell_type": "code",
   "execution_count": 1,
   "metadata": {},
   "outputs": [
    {
     "ename": "UndefVarError",
     "evalue": "UndefVarError: `b` not defined in `Main`\nSuggestion: check for spelling errors or missing imports.",
     "output_type": "error",
     "traceback": [
      "UndefVarError: `b` not defined in `Main`\n",
      "Suggestion: check for spelling errors or missing imports.\n",
      "\n",
      "Stacktrace:\n",
      " [1] macro expansion\n",
      "   @ show.jl:1237 [inlined]\n",
      " [2] top-level scope\n",
      "   @ e:\\Projects.jl\\Training.jl\\9. Expr\\jl_notebook_cell_df34fa98e69747e1a8f8a730347b8e2f_X55sZmlsZQ==.jl:2"
     ]
    }
   ],
   "source": [
    "a=1\n",
    "@show Expr(:quote, :($a) + :($b))\n"
   ]
  },
  {
   "cell_type": "code",
   "execution_count": 2,
   "metadata": {},
   "outputs": [
    {
     "name": "stdout",
     "output_type": "stream",
     "text": [
      "Expr(:quote, $(Expr(:quote, :($(Expr(:$, :a))))) + $(QuoteNode(3))) = :($(Expr(:quote, 4)))\n"
     ]
    },
    {
     "data": {
      "text/plain": [
       "4"
      ]
     },
     "metadata": {},
     "output_type": "display_data"
    }
   ],
   "source": [
    "@show Expr(:quote, :($a) + :(3))\n",
    "eval(Expr(:quote, :($a) + :(3)))"
   ]
  },
  {
   "cell_type": "code",
   "execution_count": 3,
   "metadata": {},
   "outputs": [
    {
     "name": "stdout",
     "output_type": "stream",
     "text": [
      "Expr(:quote, $(QuoteNode(1)) + $(QuoteNode(2))) = :($(Expr(:quote, 3)))\n",
      "eval(Expr(:quote, $(QuoteNode(1)) + $(QuoteNode(2)))) = 3\n",
      "eval($(Expr(:quote, :(1 + 2)))) = 3\n",
      "\n",
      "\n",
      "$(QuoteNode(1)) = 1\n"
     ]
    },
    {
     "ename": "ErrorException",
     "evalue": "syntax: \"$\" expression outside quote around show.jl:1237",
     "output_type": "error",
     "traceback": [
      "syntax: \"$\" expression outside quote around show.jl:1237\n",
      "\n",
      "Stacktrace:\n",
      " [1] top-level scope\n",
      "   @ e:\\Projects.jl\\Training.jl\\9. Expr\\jl_notebook_cell_df34fa98e69747e1a8f8a730347b8e2f_X56sZmlsZQ==.jl:7"
     ]
    }
   ],
   "source": [
    "@show Expr(:quote,:(1)+:(2))\n",
    "@show eval(Expr(:quote,:(1)+:(2)))\n",
    "@show eval(:(1+2))\n",
    "\n",
    "println(\"\\n\")\n",
    "@show :(1)\n",
    "@show Expr(:quote,$QuoteNode(1)+$QuoteNode(2))"
   ]
  },
  {
   "cell_type": "code",
   "execution_count": null,
   "metadata": {},
   "outputs": [
    {
     "name": "stdout",
     "output_type": "stream",
     "text": [
      "Expr\n",
      "  head: Symbol quote\n",
      "  args: Array{Any}((1,))\n",
      "    1: Expr\n",
      "      head: Symbol call\n",
      "      args: Array{Any}((3,))\n",
      "        1: Symbol +\n",
      "        2: Int64 1\n",
      "        3: Int64 2\n"
     ]
    }
   ],
   "source": [
    "dump(:(:(1+2))) # 重复:(的head才是quote"
   ]
  },
  {
   "cell_type": "code",
   "execution_count": null,
   "metadata": {},
   "outputs": [
    {
     "data": {
      "text/plain": [
       "6"
      ]
     },
     "metadata": {},
     "output_type": "display_data"
    }
   ],
   "source": [
    "a =  \n",
    "6\n",
    "a"
   ]
  },
  {
   "cell_type": "code",
   "execution_count": 4,
   "metadata": {},
   "outputs": [
    {
     "name": "stdout",
     "output_type": "stream",
     "text": [
      "cube_ex == indirect_cube_ex = true\n"
     ]
    },
    {
     "data": {
      "text/plain": [
       "true"
      ]
     },
     "metadata": {},
     "output_type": "display_data"
    }
   ],
   "source": [
    "# :(:(:(1+2)))\n",
    "cube_ex = Expr(:quote, Expr(:quote,:(1+2)))\n",
    "indirect_cube_ex = \n",
    ":(\n",
    "    $(Expr(\n",
    "        :quote,\n",
    "\n",
    "        :(\n",
    "            $(Expr(:quote,:(1+2)))\n",
    "        )\n",
    "\n",
    "    ))\n",
    ")\n",
    "@show cube_ex==indirect_cube_ex"
   ]
  },
  {
   "cell_type": "code",
   "execution_count": 5,
   "metadata": {},
   "outputs": [
    {
     "name": "stdout",
     "output_type": "stream",
     "text": [
      "Expr\n",
      "  head: Symbol quote\n",
      "  args: Array{Any}((1,))\n",
      "    1: Expr\n",
      "      head: Symbol quote\n",
      "      args: Array{Any}((1,))\n",
      "        1: Expr\n",
      "          head: Symbol call\n",
      "          args: Array{Any}((3,))\n",
      "            1: Symbol +\n",
      "            2: Int64 1\n",
      "            3: Int64 2\n"
     ]
    }
   ],
   "source": [
    "dump(:(:(:(1+2))))"
   ]
  },
  {
   "cell_type": "markdown",
   "metadata": {},
   "source": [
    "### https://docs.juliacn.com/latest/manual/metaprogramming/#嵌套引用<br>"
   ]
  },
  {
   "cell_type": "markdown",
   "metadata": {},
   "source": [
    "help?>Meta.quot<br>\n",
    "  `Meta.quot(ex)::Expr`<br>\n",
    "  Quote expression ex to produce an expression with head quote.\n",
    "```julia\n",
    "eval(Meta.quot(:x))      \n",
    "  :x\n",
    "  \n",
    "dump(Meta.quot(:x))      \n",
    "  Expr\n",
    "    head: Symbol quote\n",
    "    args: Array{Any}((1,))        \n",
    "      1: Symbol x\n",
    "  \n",
    "eval(Meta.quot(:(1+2)))  \n",
    "  :(1 + 2)\n",
    "```"
   ]
  },
  {
   "cell_type": "markdown",
   "metadata": {},
   "source": [
    "`Expr(:quote)` is the one intended for user interaction and metaprogramming. `QuoteNode` is quite primitive and doesn't support, for instance, interpolation. Therefore, **macros only see `Expr(:quote)`**, and that is the intended behaviour.<br>\n",
    "是用于用户交互和元编程的。非常原始，并且不支持，例如，插值。因此，宏只能看到，这是预期的行为。"
   ]
  },
  {
   "cell_type": "code",
   "execution_count": 3,
   "metadata": {},
   "outputs": [
    {
     "name": "stdout",
     "output_type": "stream",
     "text": [
      "Expr\n",
      "  head: Symbol block\n",
      "  args: Array{Any}((1,))\n",
      "    1: Expr\n",
      "      head: Symbol call\n",
      "      args: Array{Any}((3,))\n",
      "        1: Symbol +\n",
      "        2: Int64 1\n",
      "        3: Int64 2\n"
     ]
    }
   ],
   "source": [
    "x = :(1 + 2)\n",
    "quote_ex = quote $x end\n",
    "Base.remove_linenums!(quote_ex)\n",
    "dump(quote_ex)"
   ]
  },
  {
   "cell_type": "code",
   "execution_count": 3,
   "metadata": {},
   "outputs": [
    {
     "data": {
      "text/plain": [
       "quote\n",
       "    1 + 2\n",
       "end"
      ]
     },
     "metadata": {},
     "output_type": "display_data"
    }
   ],
   "source": [
    "Expr(:block, Expr(:call, :+, 1, 2))"
   ]
  },
  {
   "cell_type": "markdown",
   "metadata": {},
   "source": [
    "自然地，引用表达式可以包含在其它引用表达式中。插值在这些情形中的工作方式可能会有点难以理解。考虑这个例子："
   ]
  },
  {
   "cell_type": "code",
   "execution_count": 1,
   "metadata": {},
   "outputs": [
    {
     "data": {
      "text/plain": [
       "quote\n",
       "    $(Expr(:quote, quote\n",
       "    $(Expr(:$, :x))\n",
       "end))\n",
       "end"
      ]
     },
     "metadata": {},
     "output_type": "display_data"
    },
    {
     "name": "stdout",
     "output_type": "stream",
     "text": [
      "Expr\n",
      "  head: Symbol block\n",
      "  args: Array{Any}((1,))\n",
      "    1: Expr\n",
      "      head: Symbol quote\n",
      "      args: Array{Any}((1,))\n",
      "        1: Expr\n",
      "          head: Symbol block\n",
      "          args: Array{Any}((1,))\n",
      "            1: Expr\n",
      "              head: Symbol $\n",
      "              args: Array{Any}((1,))\n",
      "                1: Symbol x\n"
     ]
    }
   ],
   "source": [
    "quote_quote_ex = quote quote $x end end\n",
    "Base.remove_linenums!(quote_quote_ex)\n",
    "\n",
    "quote_quote_ex |> display\n",
    "\n",
    "dump(quote_quote_ex)"
   ]
  },
  {
   "cell_type": "markdown",
   "metadata": {},
   "source": [
    "Notice that the result contains `$x`, which means that `x` has not been evaluated yet. In other words, the $ expression \"belongs to\" the inner quote expression, and so its argument is only evaluated when the inner quote expression is:<br>\n",
    "\n",
    "注意，结果包含 $x ，这意味着还没有计算 x 。换句话说， $ 表达式“属于”内部引号表达式，因此只有当内部引号表达式为："
   ]
  },
  {
   "cell_type": "code",
   "execution_count": 4,
   "metadata": {},
   "outputs": [
    {
     "data": {
      "text/plain": [
       "quote\n",
       "    1 + 2\n",
       "end"
      ]
     },
     "metadata": {},
     "output_type": "display_data"
    }
   ],
   "source": [
    "eval(quote_quote_ex)"
   ]
  },
  {
   "cell_type": "markdown",
   "metadata": {},
   "source": [
    "但是，外部 `quote` 表达式可以把值插入到内部引用表达式的 `$` 中去。这通过多个 `$` 实现："
   ]
  },
  {
   "cell_type": "code",
   "execution_count": 5,
   "metadata": {},
   "outputs": [
    {
     "data": {
      "text/plain": [
       "quote\n",
       "    \u001b[90m#= e:\\Projects.jl\\Training.jl\\9. Expr\\jl_notebook_cell_df34fa98e69747e1a8f8a730347b8e2f_Y132sZmlsZQ==.jl:1 =#\u001b[39m\n",
       "    $(Expr(:quote, quote\n",
       "    \u001b[90m#= e:\\Projects.jl\\Training.jl\\9. Expr\\jl_notebook_cell_df34fa98e69747e1a8f8a730347b8e2f_Y132sZmlsZQ==.jl:1 =#\u001b[39m\n",
       "    $(Expr(:$, :(1 + 2)))\n",
       "end))\n",
       "end"
      ]
     },
     "metadata": {},
     "output_type": "display_data"
    }
   ],
   "source": [
    "quote quote $$x end end"
   ]
  },
  {
   "cell_type": "markdown",
   "metadata": {},
   "source": [
    "Notice that `(1 + 2)` now appears in the result instead of the symbol `x`. Evaluating this expression yields an interpolated `3`:<br>\n",
    "注意，现在在结果中出现了 `(1 + 2)` 而不是符号 `x` 。对这个表达式求值会得到插值后的 `3` ："
   ]
  },
  {
   "cell_type": "code",
   "execution_count": 7,
   "metadata": {},
   "outputs": [
    {
     "data": {
      "text/plain": [
       "quote\n",
       "    \u001b[90m#= e:\\Projects.jl\\Training.jl\\9. Expr\\jl_notebook_cell_df34fa98e69747e1a8f8a730347b8e2f_Y135sZmlsZQ==.jl:1 =#\u001b[39m\n",
       "    3\n",
       "end"
      ]
     },
     "metadata": {},
     "output_type": "display_data"
    }
   ],
   "source": [
    "eval(quote quote $$x end end)"
   ]
  },
  {
   "cell_type": "markdown",
   "metadata": {},
   "source": [
    "这种行为背后的直觉是每个 插值`$` 都将 `x` 插值求值一遍：**一个 `$` 工作方式类似于 `eval(:x)`**，其返回 `x` 的值，而两个 `$` 行为相当于 `eval(eval(:x))`。"
   ]
  },
  {
   "cell_type": "code",
   "execution_count": 30,
   "metadata": {},
   "outputs": [
    {
     "data": {
      "text/plain": [
       "LabelledTree({5, 4} directed simple Int64 graph, Any[:block, :quote, :block, :$, :x])"
      ]
     },
     "metadata": {},
     "output_type": "display_data"
    },
    {
     "name": "stdout",
     "output_type": "stream",
     "text": [
      "! Extra }, or forgotten $.\n",
      "<recently read> \\egroup \n",
      "        \n",
      "l.48 }\n",
      "    ;\n"
     ]
    }
   ],
   "source": [
    "TreeView.walk_tree(quote_quote_ex)"
   ]
  },
  {
   "cell_type": "code",
   "execution_count": 8,
   "metadata": {},
   "outputs": [
    {
     "data": {
      "text/plain": [
       "quote\n",
       "    $(Expr(:quote, quote\n",
       "    $(Expr(:$, :x))\n",
       "end))\n",
       "end"
      ]
     },
     "metadata": {},
     "output_type": "display_data"
    }
   ],
   "source": [
    "quote_quote_expr_ex = \n",
    "Expr(:block, \n",
    "     Expr(:quote,\n",
    "          Expr(:block,\n",
    "               Expr(:$, :x)\n",
    "              )\n",
    "          )\n",
    "    )"
   ]
  },
  {
   "cell_type": "code",
   "execution_count": 10,
   "metadata": {},
   "outputs": [
    {
     "data": {
      "text/plain": [
       "quote\n",
       "    $(Expr(:quote, quote\n",
       "    $(Expr(:$, :x))\n",
       "end))\n",
       "end"
      ]
     },
     "metadata": {},
     "output_type": "display_data"
    }
   ],
   "source": [
    "quote_quote_ex2 =\n",
    "quote \n",
    "    quote $x end\n",
    "end\n",
    "Base.remove_linenums!(quote_quote_ex2)"
   ]
  },
  {
   "cell_type": "code",
   "execution_count": 14,
   "metadata": {},
   "outputs": [
    {
     "data": {
      "text/plain": [
       "quote\n",
       "    $(Expr(:quote, quote\n",
       "    $(Expr(:$, :x))\n",
       "end))\n",
       "end"
      ]
     },
     "metadata": {},
     "output_type": "display_data"
    }
   ],
   "source": [
    "quote_quote_ex_format =\n",
    "quote\n",
    "    $(\n",
    "        Expr(:quote, \n",
    "              quote \n",
    "                $(Expr(:$, :x)) \n",
    "                # Expr(:$, :x) 取x的值 :(1+2), 有Expr了 代替一个冒号，\n",
    "                # 所以eval结果是 quote 1+2 end (见后面)\n",
    "              end\n",
    "            )\n",
    "     )\n",
    "end\n",
    "\n",
    "Base.remove_linenums!(quote_quote_ex_format)"
   ]
  },
  {
   "cell_type": "code",
   "execution_count": 60,
   "metadata": {},
   "outputs": [
    {
     "data": {
      "text/plain": [
       ":($(Expr(:quote, :(1 + 2))))"
      ]
     },
     "metadata": {},
     "output_type": "display_data"
    }
   ],
   "source": [
    "quote_quote_ex_format_simplify = :(:(1+2)) # TODO 究竟几个冒号还不清楚"
   ]
  },
  {
   "cell_type": "code",
   "execution_count": 69,
   "metadata": {},
   "outputs": [
    {
     "name": "stdout",
     "output_type": "stream",
     "text": [
      "Expr\n",
      "  head: Symbol quote\n",
      "  args: Array{Any}((1,))\n",
      "    1: Expr\n",
      "      head: Symbol call\n",
      "      args: Array{Any}((3,))\n",
      "        1: Symbol +\n",
      "        2: Int64 1\n",
      "        3: Int64 2\n"
     ]
    }
   ],
   "source": [
    "dump(:(:(1+2)))"
   ]
  },
  {
   "cell_type": "code",
   "execution_count": 70,
   "metadata": {},
   "outputs": [
    {
     "data": {
      "text/plain": [
       "quote\n",
       "    \u001b[90m#= e:\\Projects.jl\\Training.jl\\9. Expr\\jl_notebook_cell_df34fa98e69747e1a8f8a730347b8e2f_Y115sZmlsZQ==.jl:1 =#\u001b[39m\n",
       "    $(Expr(:quote, :(1 + 2)))\n",
       "end"
      ]
     },
     "metadata": {},
     "output_type": "display_data"
    }
   ],
   "source": [
    "quote $(Expr(:quote, :(1+2))) end"
   ]
  },
  {
   "cell_type": "code",
   "execution_count": 36,
   "metadata": {},
   "outputs": [
    {
     "data": {
      "text/plain": [
       ":($(Expr(:quote, quote\n",
       "    $(Expr(:$, :x))\n",
       "end)))"
      ]
     },
     "metadata": {},
     "output_type": "display_data"
    }
   ],
   "source": [
    "quote_quote_ex_format2 =\n",
    ":(\n",
    "    $(\n",
    "        Expr(:quote, \n",
    "              quote \n",
    "                $(Expr(:$, :x)) \n",
    "                # Expr(:$, :x) 取x的值 :(1+2), 有Expr了 代替一个冒号，\n",
    "                # 所以eval结果是 quote 1+2 end (见后面)\n",
    "              end\n",
    "            )\n",
    "     )\n",
    ")\n",
    "\n",
    "Base.remove_linenums!(quote_quote_ex_format2)"
   ]
  },
  {
   "cell_type": "code",
   "execution_count": 11,
   "metadata": {},
   "outputs": [
    {
     "name": "stdout",
     "output_type": "stream",
     "text": [
      "quote_quote_ex == quote_quote_expr_ex == quote_quote_ex2 = true\n"
     ]
    },
    {
     "data": {
      "text/plain": [
       "true"
      ]
     },
     "metadata": {},
     "output_type": "display_data"
    }
   ],
   "source": [
    "@show quote_quote_ex == quote_quote_expr_ex == quote_quote_ex2"
   ]
  },
  {
   "cell_type": "code",
   "execution_count": 67,
   "metadata": {},
   "outputs": [
    {
     "data": {
      "text/plain": [
       ":(1 + 2)"
      ]
     },
     "metadata": {},
     "output_type": "display_data"
    }
   ],
   "source": [
    "eval(quote_quote_ex_format_simplify)"
   ]
  },
  {
   "cell_type": "code",
   "execution_count": 68,
   "metadata": {},
   "outputs": [
    {
     "data": {
      "text/plain": [
       "quote\n",
       "    1 + 2\n",
       "end"
      ]
     },
     "metadata": {},
     "output_type": "display_data"
    }
   ],
   "source": [
    "eval(quote_quote_ex)"
   ]
  },
  {
   "cell_type": "code",
   "execution_count": 77,
   "metadata": {},
   "outputs": [
    {
     "data": {
      "text/plain": [
       "quote\n",
       "    1 + 2\n",
       "end"
      ]
     },
     "metadata": {},
     "output_type": "display_data"
    }
   ],
   "source": [
    "eval(quote_quote_ex_format2)\n",
    "# 能看懂这种开头啦: ($(Expr(:quote, quote $(Expr(:$, :x)) end)))"
   ]
  },
  {
   "cell_type": "code",
   "execution_count": 78,
   "metadata": {},
   "outputs": [
    {
     "data": {
      "text/plain": [
       "quote\n",
       "    \u001b[90m#= e:\\Projects.jl\\Training.jl\\9. Expr\\jl_notebook_cell_df34fa98e69747e1a8f8a730347b8e2f_Y116sZmlsZQ==.jl:1 =#\u001b[39m\n",
       "    1 + 2\n",
       "end"
      ]
     },
     "metadata": {},
     "output_type": "display_data"
    }
   ],
   "source": [
    "eval(quote quote 1+2 end end) \n",
    "# $x 表达式插值 相当于是拼接, x=:(1+2), 插值时要如此去掉最外层colon : "
   ]
  },
  {
   "cell_type": "code",
   "execution_count": 17,
   "metadata": {},
   "outputs": [
    {
     "data": {
      "text/plain": [
       "3"
      ]
     },
     "metadata": {},
     "output_type": "display_data"
    }
   ],
   "source": [
    "eval(eval(quote_quote_ex))"
   ]
  },
  {
   "cell_type": "code",
   "execution_count": 18,
   "metadata": {},
   "outputs": [
    {
     "data": {
      "text/plain": [
       ":(1 + 2)"
      ]
     },
     "metadata": {},
     "output_type": "display_data"
    }
   ],
   "source": [
    "x"
   ]
  },
  {
   "cell_type": "code",
   "execution_count": 79,
   "metadata": {},
   "outputs": [
    {
     "data": {
      "text/plain": [
       "quote\n",
       "    $(Expr(:quote, quote\n",
       "    $(Expr(:quote, :(1 + 2)))\n",
       "end))\n",
       "end"
      ]
     },
     "metadata": {},
     "output_type": "display_data"
    }
   ],
   "source": [
    "quote_quote_ex2 = quote quote :(1 + 2) end end\n",
    "Base.remove_linenums!(quote_quote_ex2)\n",
    "# dump(quote_quote_ex2)"
   ]
  },
  {
   "cell_type": "code",
   "execution_count": 80,
   "metadata": {},
   "outputs": [
    {
     "data": {
      "text/plain": [
       "quote\n",
       "    $(Expr(:quote, quote\n",
       "    $(Expr(:quote, :(1 + 2)))\n",
       "end))\n",
       "end"
      ]
     },
     "metadata": {},
     "output_type": "display_data"
    }
   ],
   "source": [
    "quote_quote_ex2_format =\n",
    "quote\n",
    "    $(\n",
    "        Expr(:quote, \n",
    "              quote\n",
    "              $(Expr(:quote, :(1 + 2)))\n",
    "              end\n",
    "            )\n",
    "     )\n",
    "end\n",
    "Base.remove_linenums!(quote_quote_ex2_format)"
   ]
  },
  {
   "cell_type": "code",
   "execution_count": 81,
   "metadata": {},
   "outputs": [
    {
     "data": {
      "text/plain": [
       ":($(Expr(:quote, :($(Expr(:quote, :(1 + 2)))))))"
      ]
     },
     "metadata": {},
     "output_type": "display_data"
    }
   ],
   "source": [
    "quote_quote_ex2_format_simplify = :(:(:(1+2)))  # TODO 究竟几个冒号还不清楚"
   ]
  },
  {
   "cell_type": "code",
   "execution_count": 85,
   "metadata": {},
   "outputs": [
    {
     "data": {
      "text/plain": [
       ":(1 + 2)"
      ]
     },
     "metadata": {},
     "output_type": "display_data"
    }
   ],
   "source": [
    "eval(eval(quote_quote_ex2_format_simplify))"
   ]
  },
  {
   "cell_type": "code",
   "execution_count": 86,
   "metadata": {},
   "outputs": [
    {
     "data": {
      "text/plain": [
       ":(1 + 2)"
      ]
     },
     "metadata": {},
     "output_type": "display_data"
    }
   ],
   "source": [
    "eval(eval(quote_quote_ex2_format))"
   ]
  },
  {
   "cell_type": "code",
   "execution_count": 24,
   "metadata": {},
   "outputs": [
    {
     "data": {
      "text/plain": [
       "quote\n",
       "    $(Expr(:quote, quote\n",
       "    $(Expr(:$, :(1 + 2)))\n",
       "end))\n",
       "end"
      ]
     },
     "metadata": {},
     "output_type": "display_data"
    }
   ],
   "source": [
    "quote_quote_ex3 = quote quote $$x end end\n",
    "Base.remove_linenums!(quote_quote_ex3)\n",
    "quote_quote_ex3 |> display"
   ]
  },
  {
   "cell_type": "code",
   "execution_count": 25,
   "metadata": {},
   "outputs": [
    {
     "name": "stdout",
     "output_type": "stream",
     "text": [
      "Expr\n",
      "  head: Symbol block\n",
      "  args: Array{Any}((1,))\n",
      "    1: Expr\n",
      "      head: Symbol quote\n",
      "      args: Array{Any}((1,))\n",
      "        1: Expr\n",
      "          head: Symbol block\n",
      "          args: Array{Any}((1,))\n",
      "            1: Expr\n",
      "              head: Symbol $\n",
      "              args: Array{Any}((1,))\n",
      "                1: Expr\n"
     ]
    }
   ],
   "source": [
    "dump(quote_quote_ex3)"
   ]
  },
  {
   "cell_type": "code",
   "execution_count": 26,
   "metadata": {},
   "outputs": [
    {
     "data": {
      "text/plain": [
       "quote\n",
       "    $(Expr(:quote, quote\n",
       "    $(Expr(:$, :($(Expr(:$, :x)))))\n",
       "end))\n",
       "end"
      ]
     },
     "metadata": {},
     "output_type": "display_data"
    }
   ],
   "source": [
    "quote_quote_expr_ex2=\n",
    "Expr(:block,\n",
    "     Expr(:quote,\n",
    "          Expr(:block,\n",
    "               Expr(:$,\n",
    "                    Expr(:$, :x)\n",
    "               )\n",
    "          )\n",
    "     )\n",
    ")"
   ]
  },
  {
   "cell_type": "code",
   "execution_count": 27,
   "metadata": {},
   "outputs": [
    {
     "ename": "ErrorException",
     "evalue": "syntax: \"$\" expression outside quote",
     "output_type": "error",
     "traceback": [
      "syntax: \"$\" expression outside quote\n",
      "\n",
      "Stacktrace:\n",
      " [1] top-level scope\n",
      "   @ none:1"
     ]
    }
   ],
   "source": [
    "eval(quote_quote_expr_ex2)"
   ]
  },
  {
   "cell_type": "code",
   "execution_count": 29,
   "metadata": {},
   "outputs": [
    {
     "data": {
      "text/plain": [
       "quote\n",
       "    $(Expr(:quote, quote\n",
       "    $(Expr(:$, :(1 + 2)))\n",
       "end))\n",
       "end"
      ]
     },
     "metadata": {},
     "output_type": "display_data"
    }
   ],
   "source": [
    "quote_quote_expr_ex3=\n",
    "Expr(:block,\n",
    "     Expr(:quote,\n",
    "          Expr(:block,\n",
    "               Expr(:$,\n",
    "                    Expr(:call, :+, 1, 2) \n",
    "                    # $x 取表达式:(1+2), Expr形式时Expr替换一个冒号\n",
    "                    # Expr(:call, :+, 1, 2) = :(1+2) 末梢少拆一个Expr\n",
    "               )\n",
    "          )\n",
    "     )\n",
    ")"
   ]
  },
  {
   "cell_type": "code",
   "execution_count": 31,
   "metadata": {},
   "outputs": [
    {
     "data": {
      "text/plain": [
       "quote\n",
       "    $(Expr(:quote, quote\n",
       "    $(Expr(:$, :(1 + 2)))\n",
       "end))\n",
       "end"
      ]
     },
     "metadata": {},
     "output_type": "display_data"
    }
   ],
   "source": [
    "quote_quote_expr_ex3=\n",
    "Expr(:block,\n",
    "     Expr(:quote,\n",
    "          Expr(:block,\n",
    "               Expr(:$, :(1+2))\n",
    "               )\n",
    "          )\n",
    "     )"
   ]
  },
  {
   "cell_type": "code",
   "execution_count": 40,
   "metadata": {},
   "outputs": [
    {
     "data": {
      "text/plain": [
       "quote\n",
       "    $(Expr(:quote, quote\n",
       "    $(Expr(:$, :(1 + 2)))\n",
       "end))\n",
       "end"
      ]
     },
     "metadata": {},
     "output_type": "display_data"
    }
   ],
   "source": [
    "quote_quote_expr_ex3_format =\n",
    "quote\n",
    "    $(\n",
    "        Expr(:quote, \n",
    "             quote\n",
    "                  $(Expr(:$, :(1 + 2)))\n",
    "             end)\n",
    "    )\n",
    "end\n",
    "Base.remove_linenums!(quote_quote_expr_ex3_format)"
   ]
  },
  {
   "cell_type": "code",
   "execution_count": 35,
   "metadata": {},
   "outputs": [
    {
     "name": "stdout",
     "output_type": "stream",
     "text": [
      "quote_quote_ex3 == quote_quote_expr_ex2 = false\n",
      "quote_quote_ex3 == quote_quote_expr_ex3 = true\n"
     ]
    },
    {
     "data": {
      "text/plain": [
       "quote\n",
       "    3\n",
       "end"
      ]
     },
     "metadata": {},
     "output_type": "display_data"
    }
   ],
   "source": [
    "@show quote_quote_ex3==quote_quote_expr_ex2\n",
    "@show quote_quote_ex3==quote_quote_expr_ex3\n",
    "\n",
    "eval(quote_quote_expr_ex3)"
   ]
  },
  {
   "cell_type": "code",
   "execution_count": 87,
   "metadata": {},
   "outputs": [
    {
     "data": {
      "text/plain": [
       "quote\n",
       "    $(Expr(:$, :x))\n",
       "end"
      ]
     },
     "metadata": {},
     "output_type": "display_data"
    }
   ],
   "source": [
    "Expr(:block, Expr(:$, :x))"
   ]
  },
  {
   "cell_type": "code",
   "execution_count": null,
   "metadata": {},
   "outputs": [
    {
     "data": {
      "text/plain": [
       "quote\n",
       "    x\n",
       "end"
      ]
     },
     "metadata": {},
     "output_type": "display_data"
    }
   ],
   "source": [
    "Expr(:block, :x)"
   ]
  },
  {
   "cell_type": "code",
   "execution_count": null,
   "metadata": {},
   "outputs": [
    {
     "data": {
      "text/plain": [
       "quote\n",
       "    \u001b[90m#= e:\\Projects.jl\\Training.jl\\9. Expr\\jl_notebook_cell_df34fa98e69747e1a8f8a730347b8e2f_X62sZmlsZQ==.jl:1 =#\u001b[39m\n",
       "    $(Expr(:quote, :(1 + 2)))\n",
       "end"
      ]
     },
     "metadata": {},
     "output_type": "display_data"
    }
   ],
   "source": [
    "quote :(1 + 2) end"
   ]
  },
  {
   "cell_type": "markdown",
   "metadata": {},
   "source": [
    "这种行为背后的直觉是每个 `$` 都将 x 求值一遍：一个 `$` 工作方式类似于 `eval(:x)`，其返回 `x` 的值，而两个 `$` 行为相当于 `eval(eval(:x))`。"
   ]
  },
  {
   "cell_type": "markdown",
   "metadata": {},
   "source": [
    "https://riptutorial.com/julia-lang/example/24364/quotenode--meta-quot--and-expr--quote-"
   ]
  },
  {
   "cell_type": "code",
   "execution_count": null,
   "metadata": {},
   "outputs": [
    {
     "ename": "UndefVarError",
     "evalue": "UndefVarError: `x` not defined in `Main`\nSuggestion: check for spelling errors or missing imports.",
     "output_type": "error",
     "traceback": [
      "UndefVarError: `x` not defined in `Main`\n",
      "\n",
      "Suggestion: check for spelling errors or missing imports.\n",
      "\n",
      "\n",
      "\n",
      "Stacktrace:\n",
      "\n",
      " [1] top-level scope\n",
      "\n",
      "   @ e:\\Projects.jl\\Training.jl\\9. Expr\\jl_notebook_cell_df34fa98e69747e1a8f8a730347b8e2f_W0sZmlsZQ==.jl:2"
     ]
    }
   ],
   "source": [
    "macro mysym(); :x; end\n",
    "@mysym"
   ]
  },
  {
   "cell_type": "code",
   "execution_count": null,
   "metadata": {},
   "outputs": [
    {
     "data": {
      "text/plain": [
       ":(Main.x)"
      ]
     },
     "metadata": {},
     "output_type": "display_data"
    }
   ],
   "source": [
    "# macroexpand(Main, :(@mysym))  |> display\n",
    "@macroexpand @mysym"
   ]
  },
  {
   "cell_type": "code",
   "execution_count": null,
   "metadata": {},
   "outputs": [
    {
     "data": {
      "text/plain": [
       ":x"
      ]
     },
     "metadata": {},
     "output_type": "display_data"
    }
   ],
   "source": [
    "macro mysym2(); Meta.quot(:x); end\n",
    "@mysym2"
   ]
  },
  {
   "cell_type": "code",
   "execution_count": null,
   "metadata": {},
   "outputs": [
    {
     "data": {
      "text/plain": [
       ":(:x)"
      ]
     },
     "metadata": {},
     "output_type": "display_data"
    }
   ],
   "source": [
    "@macroexpand @mysym2"
   ]
  },
  {
   "cell_type": "code",
   "execution_count": null,
   "metadata": {},
   "outputs": [
    {
     "name": "stdout",
     "output_type": "stream",
     "text": [
      "(:quote, :x)\n",
      "\n",
      "Expr\n",
      "  head: Symbol quote\n",
      "  args: Array{Any}((1,))\n",
      "    1: Symbol x\n"
     ]
    }
   ],
   "source": [
    "Meta.show_sexpr(Meta.quot(:x))\n",
    "println(\"\\n\")\n",
    "dump(Meta.quot(:x))"
   ]
  },
  {
   "cell_type": "code",
   "execution_count": null,
   "metadata": {},
   "outputs": [
    {
     "data": {
      "text/plain": [
       ":x"
      ]
     },
     "metadata": {},
     "output_type": "display_data"
    }
   ],
   "source": [
    "macro mysym3(); :(:x); end\n",
    "@mysym3"
   ]
  },
  {
   "cell_type": "code",
   "execution_count": null,
   "metadata": {},
   "outputs": [
    {
     "name": "stdout",
     "output_type": "stream",
     "text": [
      "(:quote, #QuoteNode\n",
      "  :x\n",
      ")\n",
      "\n",
      "QuoteNode\n",
      "  value: Symbol x\n"
     ]
    }
   ],
   "source": [
    "Meta.show_sexpr(:(:x)) \n",
    "println(\"\\n\")\n",
    "dump(:(:x))"
   ]
  },
  {
   "cell_type": "code",
   "execution_count": null,
   "metadata": {},
   "outputs": [
    {
     "name": "stdout",
     "output_type": "stream",
     "text": [
      "QuoteNode(:x) == Expr(:quote, :x) = false\n",
      "eval(QuoteNode(:x)) == eval(Expr(:quote, :x)) = true\n"
     ]
    },
    {
     "data": {
      "text/plain": [
       ":x"
      ]
     },
     "metadata": {},
     "output_type": "display_data"
    }
   ],
   "source": [
    "@show QuoteNode(:x) == Expr(:quote, :x)\n",
    "@show eval(QuoteNode(:x)) == eval(Expr(:quote, :x))\n",
    "eval(Expr(:quote, :x))"
   ]
  }
 ],
 "metadata": {
  "kernelspec": {
   "display_name": "Julia 1.11.0",
   "language": "julia",
   "name": "julia-1.11"
  },
  "language_info": {
   "file_extension": ".jl",
   "mimetype": "application/julia",
   "name": "julia",
   "version": "1.11.0"
  }
 },
 "nbformat": 4,
 "nbformat_minor": 2
}
