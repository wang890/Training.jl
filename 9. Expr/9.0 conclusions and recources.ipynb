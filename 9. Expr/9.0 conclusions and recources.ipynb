{
 "cells": [
  {
   "cell_type": "markdown",
   "metadata": {},
   "source": [
    "### 重点资料\n",
    "+ https://docs.juliacn.com/latest/manual/metaprogramming/ 中文文档\n",
    "+ https://en.wikibooks.org/wiki/Introducing_Julia/Metaprogramming\n",
    "+ https://riptutorial.com/julia-lang/topic/5805/expressions\n",
    "+ https://riptutorial.com/julia-lang/example/26313/guide\n",
    "+ 上面两链接有[PDF](https://riptutorial.com/ebook/julia-lang)下载，但还是在线版更好，可以翻译\n",
    "+ [Youtube: **David P. Sanders** --Introduction to metaprogramming in Julia](https://www.youtube.com/watch?v=2QLhw6LVaq0) | Workshop | JuliaCon 2021, [github配套代码](https://github.com/dpsanders/Metaprogramming_JuliaCon_2021)\n",
    "\n",
    "+ [RoamesNotebooks](https://github.com/FugroRoames/RoamesNotebooks/blob/master/A%20practical%20introduction%20to%20metaprogramming%20in%20Julia.ipynb) 讲了julia运行的几个底层步骤, 这个ipynb教程以后再看"
   ]
  },
  {
   "cell_type": "markdown",
   "metadata": {},
   "source": [
    "### 其他资料（不一定需要看）\n",
    "+ [01x01] [How to Get Started with the Julia Programming Language](https://www.youtube.com/watch?v=0oChN11wf_4) | Tutorial 1/13 | Julia for Beginners -- 17min时看到用的 atom IDE<br>\n",
    "+ [01x12] How Julia Works (part 2/2) | [Metaprogramming and Macros](https://www.youtube.com/watch?v=0oYYWNO3Us8) | Tutorial 12/13 Julia for Beginners<br>\n",
    "\n",
    "+ Book code: Hands on Design Patterns and Best Practices withJulia/[Chapter04](https://github.com/PacktPublishing/Hands-on-Design-Patterns-and-Best-Practices-with-Julia/blob/master/Chapter04/0_intro.jl)\n",
    "/0_intro.jl<br>\n",
    "\n",
    "+ [Introduction to macros](https://www.youtube.com/watch?v=e6LGMeoQhfs) | Week 3 | 18.S191 MIT Fall 2020<br>\n",
    "+ JuliaCon 2020 | [Introducing the @ccall macro](https://www.youtube.com/watch?v=wofq1DdXM3s) | Aaron Christianson"
   ]
  },
  {
   "cell_type": "markdown",
   "metadata": {},
   "source": [
    "### 说明\n",
    "- 一般，看 Julia中文文档 或 英文文档 就可以\n",
    "- 但元编程有难度, 可以到[Julia youtube官方频道](https://www.youtube.com/@TheJuliaLanguage)搜索\n",
    "- 比如搜 metaprogramming，搜到的下面这个不错\n",
    "- [Introduction to metaprogramming in Julia](https://www.youtube.com/watch?v=2QLhw6LVaq0) | Workshop | JuliaCon 2021, [github配套代码](https://github.com/dpsanders/Metaprogramming_JuliaCon_2021)"
   ]
  },
  {
   "cell_type": "markdown",
   "metadata": {},
   "source": [
    "### David P. Sanders\n",
    "- [Julia manual section on metaprogramming](\n",
    "https://docs.julialang.org/en/v1/manual/metaprogramming)\n",
    "\n",
    "- [Wikibook Introducing Julia](https://en.wikibooks.org/wiki/Introducing_Julia/Metaprogramming)\n",
    "\n",
    "- [RIP Julia tutorial](https://riptutorial.com/julia-lang/topic/1945/metaprogramming)\n",
    "\n",
    "- Steven Johnson's [keynote talk](https://www.youtube.com/watch?v=mSgXWpvQEHE\n",
    ") @ JuliaCon 2019:\n",
    "\n",
    "\n",
    "- Andy Ferris's workshop @ JuliaCon 2018:\n",
    "  - [Video](https://www.youtube.com/watch?v=SeqAQHKLNj4)\n",
    "  -[Notebook](https://github.com/FugroRoames/RoamesNotebooks/blob/master/A%20practical%20introduction%20to%20metaprogramming%20in%20Julia.ipynb)\n",
    "\n",
    "\n",
    "- My Julia [blog post](https://julialang.org/blog/2017/08/dsl/) on using macros for Domain-Specific Languages (DSLs)\n",
    "\n",
    "\n",
    "- Tom Kwong's [video about macros](https://www.youtube.com/watch?v=JePBb9-ychE)\n",
    "\n",
    "- Tom Kwong's book, [*Hands-on Design Patterns and Best Practices with Julia*](https://github.com/PacktPublishing/Hands-on-Design-Patterns-and-Best-Practices-with-Julia)"
   ]
  },
  {
   "cell_type": "markdown",
   "metadata": {},
   "source": [
    "**https://stackoverflow.com/a/41103043**<br>\n",
    "Disambiguate the various quoting mechanisms in Julia metaprogramming<br>\n",
    "**消除Julia元编程中各种引用机制的歧义**"
   ]
  },
  {
   "cell_type": "markdown",
   "metadata": {},
   "source": [
    "### 1. `:...` colon冒号 is the default quoting\n",
    "is the default quoting mechanism. It parses an expression and returns the AST.<br>\n",
    "是默认的引用机制。它解析表达式并返回AST。"
   ]
  },
  {
   "cell_type": "code",
   "execution_count": 8,
   "metadata": {},
   "outputs": [
    {
     "name": "stdout",
     "output_type": "stream",
     "text": [
      ":x == Symbol(\"x\") = true\n",
      "$(Expr(:quote, :(x + y))) == Expr(:call, :+, :x, :y) = true\n",
      "colon_block_ex == Expr(:block, :x, :y, :z) = true\n"
     ]
    },
    {
     "data": {
      "text/plain": [
       "true"
      ]
     },
     "metadata": {},
     "output_type": "display_data"
    }
   ],
   "source": [
    "@show :x == Symbol(\"x\")\n",
    "@show :(x + y) == Expr(:call, :+, :x, :y)\n",
    "colon_block_ex = :(x; y; z)\n",
    "Base.remove_linenums!(colon_block_ex)\n",
    "@show colon_block_ex == Expr(:block, :x, :y, :z)"
   ]
  },
  {
   "cell_type": "markdown",
   "metadata": {},
   "source": [
    "`$foo` is exchanged for the compile-time value, `eval(foo)` means to do that at runtime<br>\n",
    "`$foo` 被交换为编译时值  `eval(foo)` 表示在运行时执行<br><br>\n",
    "\n",
    "eval will occur in the global scope,interpolation $ is local<br>\n",
    "eval 将在全局作用域中出现 插值是局部的<br><br>\n",
    "\n",
    "`eval(:<expr>)` should return the same as just `<expr>` (assuming `<expr>` is a valid expression in the current global space)<br>\n",
    "`eval(:<expr>)` 应该返回与 `<expr>` 相同的值（假设 `<expr>` 在当前全局空间中是一个有效的表达式）"
   ]
  },
  {
   "cell_type": "code",
   "execution_count": null,
   "metadata": {},
   "outputs": [
    {
     "name": "stdout",
     "output_type": "stream",
     "text": [
      "eval($(Expr(:quote, :(1 + 2)))) == 1 + 2 = true\n",
      "(:call, :+, 1, 2)"
     ]
    },
    {
     "data": {
      "text/plain": [
       "3"
      ]
     },
     "metadata": {},
     "output_type": "display_data"
    }
   ],
   "source": [
    "@show eval(:(1 + 2)) == 1 + 2\n",
    "Meta.show_sexpr(:(1 + 2))\n",
    "eval(:(1 + 2))"
   ]
  },
  {
   "cell_type": "code",
   "execution_count": null,
   "metadata": {},
   "outputs": [
    {
     "name": "stdout",
     "output_type": "stream",
     "text": [
      "eval($(Expr(:quote, :(let x = 1\n",
      "      #= e:\\Projects.jl\\Training.jl\\9. Expr\\jl_notebook_cell_df34fa98e69747e1a8f8a730347b8e2f_X45sZmlsZQ==.jl:1 =#\n",
      "      x + 1\n",
      "  end)))) == let x = 1\n",
      "        #= e:\\Projects.jl\\Training.jl\\9. Expr\\jl_notebook_cell_df34fa98e69747e1a8f8a730347b8e2f_X45sZmlsZQ==.jl:1 =#\n",
      "        x + 1\n",
      "    end = true\n",
      "\n",
      "\n",
      "(:let, (:(=), :x, 1), (:block,\n",
      "    :(\u001b[90m#= e:\\Projects.jl\\Training.jl\\9. Expr\\jl_notebook_cell_df34fa98e69747e1a8f8a730347b8e2f_X45sZmlsZQ==.jl:3 =#\u001b[39m),\n",
      "    (:call, :+, :x, 1)\n",
      "  ))"
     ]
    },
    {
     "data": {
      "text/plain": [
       "2"
      ]
     },
     "metadata": {},
     "output_type": "display_data"
    }
   ],
   "source": [
    "@show eval(:(let x=1; x + 1 end)) == let x=1; x + 1 end\n",
    "println(\"\\n\")\n",
    "\n",
    "Meta.show_sexpr(:(let x=1; x + 1 end))\n",
    "eval(:(let x=1; x + 1 end))"
   ]
  },
  {
   "cell_type": "markdown",
   "metadata": {},
   "source": [
    "### 2. `quote ... end` is the same as `:(begin ... end)`<br>\n",
    "`quote ... end` 与 `:(begin ... end)`相同, 详见 colon.ipynb, quote end.ipynb"
   ]
  },
  {
   "cell_type": "code",
   "execution_count": 3,
   "metadata": {},
   "outputs": [
    {
     "data": {
      "text/plain": [
       "quote\n",
       "    a = 1\n",
       "    b = 1 + 1\n",
       "    c = 3\n",
       "    d = a + b * c + 1\n",
       "end"
      ]
     },
     "metadata": {},
     "output_type": "display_data"
    }
   ],
   "source": [
    "quote_end_statements_ex=\n",
    "quote\n",
    "a=1\n",
    "b=1+1\n",
    "c=3\n",
    "d= a+b*c+1\n",
    "end\n",
    "Base.remove_linenums!(quote_end_statements_ex)"
   ]
  },
  {
   "cell_type": "code",
   "execution_count": 4,
   "metadata": {},
   "outputs": [
    {
     "data": {
      "text/plain": [
       "true"
      ]
     },
     "metadata": {},
     "output_type": "display_data"
    }
   ],
   "source": [
    "colon_statements_ex = :(\n",
    "begin\n",
    "    a=1\n",
    "    b=1+1\n",
    "    c=3\n",
    "    d= a+b*c+1\n",
    "end\n",
    ")\n",
    "Base.remove_linenums!(colon_statements_ex)\n",
    "quote_end_statements_ex == colon_statements_ex"
   ]
  },
  {
   "cell_type": "markdown",
   "metadata": {},
   "source": [
    "### 3. `Expr(:quote, x)`, short as `Meta.quot(x)`, represent quotes within quotes<br>\n",
    "`Expr(:quote, x)`, 表示引号中的引号。`Meta.quot(x)`是`Expr(:quote, x)`的简写形式, 两者相同"
   ]
  },
  {
   "cell_type": "code",
   "execution_count": 1,
   "metadata": {},
   "outputs": [
    {
     "name": "stdout",
     "output_type": "stream",
     "text": [
      "Expr(:quote, $(Expr(:quote, :(x + y)))) == $(Expr(:quote, :($(Expr(:quote, :(x + y)))))) = true\n",
      "Expr(:quote, Expr(:$, :x)) == $(Expr(:quote, :($(Expr(:quote, :($(Expr(:$, :x)))))))) = true\n"
     ]
    },
    {
     "data": {
      "text/plain": [
       "true"
      ]
     },
     "metadata": {},
     "output_type": "display_data"
    }
   ],
   "source": [
    "@show Expr(:quote, :(x + y)) == :(:(x + y))\n",
    "\n",
    "@show Expr(:quote, Expr(:$, :x)) == :(:($x))"
   ]
  },
  {
   "cell_type": "markdown",
   "metadata": {},
   "source": [
    "### 4. `QuoteNode(x)` 类似 `Expr(:quote, x)` 但不允许插值 <br>\n",
    "`QuoteNode(x)` is similar to `Expr(:quote, x)` but it prevents interpolation."
   ]
  },
  {
   "cell_type": "code",
   "execution_count": 56,
   "metadata": {},
   "outputs": [
    {
     "data": {
      "text/plain": [
       "1"
      ]
     },
     "metadata": {},
     "output_type": "display_data"
    },
    {
     "name": "stdout",
     "output_type": "stream",
     "text": [
      "Expr(:quote, Expr(:$, 1)) == $(Expr(:quote, :($(Expr(:$, 1))))) = false\n"
     ]
    },
    {
     "data": {
      "text/plain": [
       "1"
      ]
     },
     "metadata": {},
     "output_type": "display_data"
    }
   ],
   "source": [
    "quote_ex = Expr(:quote, Expr(:$, 1))\n",
    "\n",
    "@show Expr(:quote, Expr(:$, 1)) == :($1)\n",
    "\n",
    "eval(:($1)) |> display\n",
    "eval(quote_ex)\n"
   ]
  },
  {
   "cell_type": "code",
   "execution_count": 57,
   "metadata": {},
   "outputs": [
    {
     "data": {
      "text/plain": [
       ":($(Expr(:$, 1)))"
      ]
     },
     "metadata": {},
     "output_type": "display_data"
    },
    {
     "name": "stdout",
     "output_type": "stream",
     "text": [
      "eval(QuoteNode(Expr(:$, 1))) == Expr(:$, 1) = true\n"
     ]
    }
   ],
   "source": [
    "quotenode_ex = QuoteNode(Expr(:$, 1))\n",
    "\n",
    "@show eval(QuoteNode(Expr(:$, 1))) == Expr(:$, 1)\n",
    "\n",
    "eval(quotenode_ex) |> display"
   ]
  },
  {
   "cell_type": "code",
   "execution_count": 58,
   "metadata": {},
   "outputs": [
    {
     "ename": "ErrorException",
     "evalue": "syntax: \"$\" expression outside quote",
     "output_type": "error",
     "traceback": [
      "syntax: \"$\" expression outside quote\n",
      "\n",
      "Stacktrace:\n",
      " [1] top-level scope\n",
      "   @ none:1"
     ]
    }
   ],
   "source": [
    "eval(Expr(:$, 1)) |> display"
   ]
  },
  {
   "cell_type": "markdown",
   "metadata": {},
   "source": [
    "### Here's a macro using all of them:<br>\n",
    "这里有一个使用所有这些的宏："
   ]
  },
  {
   "cell_type": "code",
   "execution_count": 50,
   "metadata": {},
   "outputs": [
    {
     "data": {
      "text/plain": [
       "1"
      ]
     },
     "metadata": {},
     "output_type": "display_data"
    }
   ],
   "source": [
    "macro quoted3(expression)\n",
    "\n",
    "    show(expression)\n",
    "    println(\"\\n\")\n",
    "\n",
    "    show(QuoteNode(expression))\n",
    "    println(\"\\n\")\n",
    "    show(Expr(:quote, expression))\n",
    "    println(\"\\n\")    \n",
    "    \n",
    "    quote\n",
    "        println(\"received expression: :(\", $(QuoteNode(expression)), \")\")\n",
    "        $(Expr(:quote, expression))\n",
    "    end\n",
    "end\n",
    "\n",
    "x = 1"
   ]
  },
  {
   "cell_type": "code",
   "execution_count": 52,
   "metadata": {},
   "outputs": [
    {
     "name": "stdout",
     "output_type": "stream",
     "text": [
      ":($(Expr(:$, :x)) + 1)\n",
      "\n",
      ":($(QuoteNode(:($(Expr(:$, :x)) + 1))))\n",
      "\n",
      ":($(Expr(:quote, :($(Expr(:$, :x)) + 1))))\n",
      "\n"
     ]
    },
    {
     "data": {
      "text/plain": [
       "quote\n",
       "    \u001b[90m#= e:\\Projects.jl\\Training.jl\\9. Expr\\jl_notebook_cell_df34fa98e69747e1a8f8a730347b8e2f_X32sZmlsZQ==.jl:12 =#\u001b[39m\n",
       "    Main.println(\"received expression: :(\", $(QuoteNode(:($(Expr(:$, :x)) + 1))), \")\")\n",
       "    \u001b[90m#= e:\\Projects.jl\\Training.jl\\9. Expr\\jl_notebook_cell_df34fa98e69747e1a8f8a730347b8e2f_X32sZmlsZQ==.jl:13 =#\u001b[39m\n",
       "    Core._expr(:call, :+, Main.x, 1)\n",
       "end"
      ]
     },
     "metadata": {},
     "output_type": "display_data"
    }
   ],
   "source": [
    "@macroexpand @quoted3 $x + 1"
   ]
  },
  {
   "cell_type": "code",
   "execution_count": 61,
   "metadata": {},
   "outputs": [
    {
     "name": "stdout",
     "output_type": "stream",
     "text": [
      "$(Expr(:quote, :($(Expr(:$, :(Expr(:$, :x)))) + 1))) == $(Expr(:quote, :($(Expr(:$, :x)) + 1))) = false\n"
     ]
    },
    {
     "ename": "ErrorException",
     "evalue": "syntax: \"$\" expression outside quote",
     "output_type": "error",
     "traceback": [
      "syntax: \"$\" expression outside quote\n",
      "\n",
      "Stacktrace:\n",
      " [1] top-level scope\n",
      "   @ none:1"
     ]
    }
   ],
   "source": [
    "@show :($(Expr(:$, :x)) + 1) == :($x + 1)\n",
    "\n",
    "@show eval(:($(Expr(:$, :x)) + 1))"
   ]
  },
  {
   "cell_type": "code",
   "execution_count": 55,
   "metadata": {},
   "outputs": [
    {
     "name": "stdout",
     "output_type": "stream",
     "text": [
      ":($(Expr(:$, :x)) + 1)\n",
      "\n",
      ":($(QuoteNode(:($(Expr(:$, :x)) + 1))))\n",
      "\n",
      ":($(Expr(:quote, :($(Expr(:$, :x)) + 1))))\n",
      "\n",
      "received expression: :($x + 1)\n"
     ]
    },
    {
     "data": {
      "text/plain": [
       ":(1 + 1)"
      ]
     },
     "metadata": {},
     "output_type": "display_data"
    }
   ],
   "source": [
    "@quoted3 $x + 1"
   ]
  },
  {
   "cell_type": "code",
   "execution_count": 68,
   "metadata": {},
   "outputs": [
    {
     "name": "stdout",
     "output_type": "stream",
     "text": [
      ":($(Expr(:quote, :(x + 1))))\n",
      "\n",
      ":($(QuoteNode(:($(Expr(:quote, :(x + 1)))))))\n",
      "\n",
      ":($(Expr(:quote, :($(Expr(:quote, :(x + 1)))))))\n",
      "\n",
      "received expression: :(:(x + 1))\n"
     ]
    },
    {
     "data": {
      "text/plain": [
       ":($(Expr(:quote, :(x + 1))))"
      ]
     },
     "metadata": {},
     "output_type": "display_data"
    }
   ],
   "source": [
    "@quoted3 :(x + 1)"
   ]
  },
  {
   "cell_type": "code",
   "execution_count": 64,
   "metadata": {},
   "outputs": [
    {
     "data": {
      "text/plain": [
       "true"
      ]
     },
     "metadata": {},
     "output_type": "display_data"
    }
   ],
   "source": [
    ":($(Expr(:quote, :(x + 1)))) == :(:(x + 1))"
   ]
  }
 ],
 "metadata": {
  "kernelspec": {
   "display_name": "Julia 1.11.0",
   "language": "julia",
   "name": "julia-1.11"
  },
  "language_info": {
   "file_extension": ".jl",
   "mimetype": "application/julia",
   "name": "julia",
   "version": "1.11.0"
  }
 },
 "nbformat": 4,
 "nbformat_minor": 2
}
