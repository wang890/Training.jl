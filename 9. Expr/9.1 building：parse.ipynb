{
 "cells": [
  {
   "cell_type": "markdown",
   "metadata": {},
   "source": [
    "**\\julia\\test\\syntax.jl 搜索Meta.parse, 能搜索到很多 Expr语法**"
   ]
  },
  {
   "cell_type": "code",
   "execution_count": 3,
   "metadata": {},
   "outputs": [
    {
     "data": {
      "text/plain": [
       ":(x = 2)"
      ]
     },
     "metadata": {},
     "output_type": "display_data"
    },
    {
     "ename": "UndefVarError",
     "evalue": "UndefVarError: `x` not defined in `Main`\nSuggestion: check for spelling errors or missing imports.",
     "output_type": "error",
     "traceback": [
      "UndefVarError: `x` not defined in `Main`\n",
      "Suggestion: check for spelling errors or missing imports.\n"
     ]
    }
   ],
   "source": [
    "MyStr = \"x = 2\"\n",
    "MyExpr = Meta.parse(MyStr)\n",
    "MyExpr |> display\n",
    "x # Error :(x = 2) 还没有执行,所以Main没有x"
   ]
  },
  {
   "cell_type": "code",
   "execution_count": 4,
   "metadata": {},
   "outputs": [
    {
     "data": {
      "text/plain": [
       "2"
      ]
     },
     "metadata": {},
     "output_type": "display_data"
    }
   ],
   "source": [
    "eval(MyExpr)\n",
    "x"
   ]
  },
  {
   "cell_type": "markdown",
   "metadata": {},
   "source": [
    "### https://docs.juliacn.com/latest/manual/metaprogramming/"
   ]
  },
  {
   "cell_type": "code",
   "execution_count": 7,
   "metadata": {},
   "outputs": [
    {
     "data": {
      "text/plain": [
       ":(1 + 1)"
      ]
     },
     "metadata": {},
     "output_type": "display_data"
    },
    {
     "data": {
      "text/plain": [
       "Expr"
      ]
     },
     "metadata": {},
     "output_type": "display_data"
    },
    {
     "data": {
      "text/plain": [
       "(:head, :args)"
      ]
     },
     "metadata": {},
     "output_type": "display_data"
    },
    {
     "data": {
      "text/plain": [
       "(:head, :args)"
      ]
     },
     "metadata": {},
     "output_type": "display_data"
    }
   ],
   "source": [
    "# 程序是文本字符串语句,程序执行分为两大阶段：\n",
    "# 解析字符串成表达式、运行表达式\n",
    "\n",
    "prog = \"1 + 1\"\n",
    "parse_ex = Meta.parse(prog)\n",
    "parse_ex |> display\n",
    "parse_ex |> typeof |> display\n",
    "\n",
    "fieldnames(Expr) |> display\n",
    "propertynames(parse_ex)"
   ]
  },
  {
   "cell_type": "code",
   "execution_count": 29,
   "metadata": {},
   "outputs": [
    {
     "data": {
      "text/plain": [
       ":call"
      ]
     },
     "metadata": {},
     "output_type": "display_data"
    },
    {
     "data": {
      "text/plain": [
       "Symbol"
      ]
     },
     "metadata": {},
     "output_type": "display_data"
    },
    {
     "data": {
      "text/plain": [
       "3-element Vector{Any}:\n",
       "  :+\n",
       " 1\n",
       " 2"
      ]
     },
     "metadata": {},
     "output_type": "display_data"
    },
    {
     "data": {
      "text/plain": [
       ":(1 + 2)"
      ]
     },
     "metadata": {},
     "output_type": "display_data"
    },
    {
     "ename": "UndefVarError",
     "evalue": "UndefVarError: `call` not defined in `Main`\nSuggestion: check for spelling errors or missing imports.",
     "output_type": "error",
     "traceback": [
      "UndefVarError: `call` not defined in `Main`\n",
      "Suggestion: check for spelling errors or missing imports.\n"
     ]
    }
   ],
   "source": [
    "parse_ex.head |> display\n",
    "parse_ex.head |> typeof |> display\n",
    "parse_ex.args |> display\n",
    "\n",
    "parse_ex.args[3] = 2\n",
    "parse_ex |> display\n",
    "\n",
    "eval(parse_ex.head) |> display"
   ]
  },
  {
   "cell_type": "code",
   "execution_count": 12,
   "metadata": {},
   "outputs": [
    {
     "name": "stdout",
     "output_type": "stream",
     "text": [
      "Expr\n",
      "  head: Symbol call\n",
      "  args: Array{Any}((3,))\n",
      "    1: Symbol +\n",
      "    2: Int64 1\n",
      "    3: Int64 2\n"
     ]
    }
   ],
   "source": [
    "dump(parse_ex)"
   ]
  },
  {
   "cell_type": "code",
   "execution_count": 21,
   "metadata": {},
   "outputs": [
    {
     "name": "stdout",
     "output_type": "stream",
     "text": [
      "Symbol parse_ex\n"
     ]
    }
   ],
   "source": [
    "Meta.@dump parse_ex \n",
    "# 带@的函数为宏函数, 会把其后的参数接收为表达式, 若为变量则接收为Symbol"
   ]
  },
  {
   "cell_type": "code",
   "execution_count": 22,
   "metadata": {},
   "outputs": [
    {
     "name": "stdout",
     "output_type": "stream",
     "text": [
      "Expr\n",
      "  head: Symbol call\n",
      "  args: Array{Any}((3,))\n",
      "    1: Symbol +\n",
      "    2: Int64 1\n",
      "    3: Int64 2\n"
     ]
    }
   ],
   "source": [
    "Meta.@dump 1+2\n",
    "# 带@的函数为宏函数, 会把其后的参数接收为表达式, 若为变量则接收为Symbol"
   ]
  },
  {
   "cell_type": "code",
   "execution_count": 13,
   "metadata": {},
   "outputs": [
    {
     "data": {
      "text/plain": [
       ":((4 + 4) / 2)"
      ]
     },
     "metadata": {},
     "output_type": "display_data"
    },
    {
     "name": "stdout",
     "output_type": "stream",
     "text": [
      "(:call, :/, (:call, :+, 4, 4), 2)"
     ]
    }
   ],
   "source": [
    "# Expr 对象也可以嵌套：\n",
    "parse_nest_ex = Meta.parse(\"(4 + 4) / 2\")\n",
    "parse_nest_ex |> display\n",
    "Meta.show_sexpr(parse_nest_ex)"
   ]
  },
  {
   "cell_type": "code",
   "execution_count": 14,
   "metadata": {},
   "outputs": [],
   "source": [
    "using TreeView"
   ]
  },
  {
   "cell_type": "code",
   "execution_count": 16,
   "metadata": {},
   "outputs": [
    {
     "data": {
      "image/svg+xml": [
       "<?xml version=\"1.0\" encoding=\"UTF-8\"?>\n",
       "<svg xmlns=\"http://www.w3.org/2000/svg\" xmlns:xlink=\"http://www.w3.org/1999/xlink\" width=\"54.391\" height=\"70.308\" viewBox=\"0 0 54.391 70.308\">\n",
       "<defs>\n",
       "<g>\n",
       "<g id=\"glyph-1731630588227000--0-0\">\n",
       "<path d=\"M 4.59375 -6.5 C 4.59375 -6.671875 4.453125 -6.84375 4.25 -6.84375 C 4.03125 -6.84375 3.96875 -6.6875 3.90625 -6.5625 L 0.65625 0.234375 C 0.578125 0.390625 0.578125 0.390625 0.578125 0.46875 C 0.578125 0.65625 0.71875 0.8125 0.921875 0.8125 C 1.140625 0.8125 1.203125 0.671875 1.265625 0.546875 L 4.515625 -6.265625 C 4.578125 -6.421875 4.59375 -6.421875 4.59375 -6.5 Z M 4.59375 -6.5 \"/>\n",
       "</g>\n",
       "<g id=\"glyph-1731630588227000--0-1\">\n",
       "<path d=\"M 4.796875 -3.015625 C 4.796875 -3.359375 4.453125 -3.359375 4.328125 -3.359375 L 2.921875 -3.359375 L 2.921875 -4.765625 C 2.921875 -4.890625 2.921875 -5.234375 2.578125 -5.234375 C 2.234375 -5.234375 2.234375 -4.890625 2.234375 -4.765625 L 2.234375 -3.359375 L 0.84375 -3.359375 C 0.71875 -3.359375 0.375 -3.359375 0.375 -3.015625 C 0.375 -2.671875 0.71875 -2.671875 0.84375 -2.671875 L 2.234375 -2.671875 L 2.234375 -1.265625 C 2.234375 -1.140625 2.234375 -0.796875 2.578125 -0.796875 C 2.921875 -0.796875 2.921875 -1.140625 2.921875 -1.265625 L 2.921875 -2.671875 L 4.328125 -2.671875 C 4.453125 -2.671875 4.796875 -2.671875 4.796875 -3.015625 Z M 4.796875 -3.015625 \"/>\n",
       "</g>\n",
       "<g id=\"glyph-1731630588227000--0-2\">\n",
       "<path d=\"M 4.875 -1.96875 C 4.875 -2.265625 4.640625 -2.265625 4.484375 -2.265625 L 3.71875 -2.265625 L 3.71875 -5.734375 C 3.71875 -6.0625 3.640625 -6.140625 3.3125 -6.140625 L 3.03125 -6.140625 C 2.796875 -6.140625 2.75 -6.125 2.625 -5.9375 L 0.375 -2.40625 C 0.28125 -2.28125 0.28125 -2.25 0.28125 -2.0625 C 0.28125 -1.734375 0.375 -1.671875 0.6875 -1.671875 L 3.171875 -1.671875 L 3.171875 -0.59375 L 2.546875 -0.59375 C 2.390625 -0.59375 2.15625 -0.59375 2.15625 -0.296875 C 2.15625 0 2.40625 0 2.546875 0 L 4.328125 0 C 4.46875 0 4.71875 0 4.71875 -0.296875 C 4.71875 -0.59375 4.484375 -0.59375 4.328125 -0.59375 L 3.71875 -0.59375 L 3.71875 -1.671875 L 4.484375 -1.671875 C 4.640625 -1.671875 4.875 -1.671875 4.875 -1.96875 Z M 3.171875 -2.265625 L 0.96875 -2.265625 L 3.171875 -5.703125 Z M 3.171875 -2.265625 \"/>\n",
       "</g>\n",
       "<g id=\"glyph-1731630588227000--0-3\">\n",
       "<path d=\"M 4.65625 -0.40625 L 4.65625 -0.65625 C 4.65625 -0.84375 4.65625 -1.0625 4.3125 -1.0625 C 3.96875 -1.0625 3.96875 -0.875 3.96875 -0.59375 L 1.625 -0.59375 C 2.203125 -1.109375 3.15625 -1.84375 3.578125 -2.234375 C 4.203125 -2.796875 4.65625 -3.421875 4.65625 -4.203125 C 4.65625 -5.390625 3.65625 -6.125 2.453125 -6.125 C 1.296875 -6.125 0.515625 -5.328125 0.515625 -4.484375 C 0.515625 -4.125 0.78125 -4.015625 0.953125 -4.015625 C 1.15625 -4.015625 1.390625 -4.1875 1.390625 -4.453125 C 1.390625 -4.578125 1.34375 -4.703125 1.25 -4.765625 C 1.40625 -5.21875 1.859375 -5.53125 2.40625 -5.53125 C 3.21875 -5.53125 3.96875 -5.078125 3.96875 -4.203125 C 3.96875 -3.515625 3.484375 -2.953125 2.84375 -2.40625 L 0.65625 -0.578125 C 0.578125 -0.5 0.515625 -0.4375 0.515625 -0.3125 C 0.515625 0 0.765625 0 0.921875 0 L 4.265625 0 C 4.578125 0 4.65625 -0.09375 4.65625 -0.40625 Z M 4.65625 -0.40625 \"/>\n",
       "</g>\n",
       "</g>\n",
       "</defs>\n",
       "<path fill=\"none\" stroke-width=\"0.3985\" stroke-linecap=\"butt\" stroke-linejoin=\"miter\" stroke=\"rgb(0%, 0%, 0%)\" stroke-opacity=\"1\" stroke-miterlimit=\"10\" d=\"M -3.6933 -7.392143 L -10.886226 -21.770097 \" transform=\"matrix(0.988927, 0, 0, -0.988927, 33.902405, 7.158458)\"/>\n",
       "<path fill=\"none\" stroke-width=\"0.31879\" stroke-linecap=\"round\" stroke-linejoin=\"round\" stroke=\"rgb(0%, 0%, 0%)\" stroke-opacity=\"1\" stroke-miterlimit=\"10\" d=\"M -1.195815 1.592451 C -1.096889 0.997097 0.00017946 0.101406 0.298739 -0.00106084 C -0.00158895 -0.0982227 -1.09514 -0.993894 -1.195843 -1.596313 \" transform=\"matrix(-0.442219, 0.884457, 0.884457, 0.442219, 23.136952, 28.689373)\"/>\n",
       "<path fill=\"none\" stroke-width=\"0.3985\" stroke-linecap=\"butt\" stroke-linejoin=\"miter\" stroke=\"rgb(0%, 0%, 0%)\" stroke-opacity=\"1\" stroke-miterlimit=\"10\" d=\"M 3.697126 -7.392143 L 10.660954 -21.319798 \" transform=\"matrix(0.988927, 0, 0, -0.988927, 33.902405, 7.158458)\"/>\n",
       "<path fill=\"none\" stroke-width=\"0.31879\" stroke-linecap=\"round\" stroke-linejoin=\"round\" stroke=\"rgb(0%, 0%, 0%)\" stroke-opacity=\"1\" stroke-miterlimit=\"10\" d=\"M -1.194278 1.592665 C -1.095341 0.995545 -0.0017901 0.0998745 0.296771 -0.000820652 C -0.0000216827 -0.0997545 -1.09709 -0.995445 -1.197782 -1.594333 \" transform=\"matrix(0.442219, 0.884457, 0.884457, -0.442219, 44.443707, 28.241062)\"/>\n",
       "<path fill=\"none\" stroke-width=\"0.3985\" stroke-linecap=\"butt\" stroke-linejoin=\"miter\" stroke=\"rgb(0%, 0%, 0%)\" stroke-opacity=\"1\" stroke-miterlimit=\"10\" d=\"M -17.257555 -34.512755 L -24.829681 -49.660956 \" transform=\"matrix(0.988927, 0, 0, -0.988927, 33.902405, 7.158458)\"/>\n",
       "<path fill=\"none\" stroke-width=\"0.31879\" stroke-linecap=\"round\" stroke-linejoin=\"round\" stroke=\"rgb(0%, 0%, 0%)\" stroke-opacity=\"1\" stroke-miterlimit=\"10\" d=\"M -1.194074 1.594223 C -1.093381 0.995335 0.000153862 0.0978775 0.30048 0.000710244 C 0.00191872 -0.0999849 -1.095166 -0.997422 -1.194102 -1.594542 \" transform=\"matrix(-0.442219, 0.884457, 0.884457, 0.442219, 9.347093, 56.269081)\"/>\n",
       "<path fill=\"none\" stroke-width=\"0.3985\" stroke-linecap=\"butt\" stroke-linejoin=\"miter\" stroke=\"rgb(0%, 0%, 0%)\" stroke-opacity=\"1\" stroke-miterlimit=\"10\" d=\"M -11.091626 -34.512755 L -3.51555 -49.660956 \" transform=\"matrix(0.988927, 0, 0, -0.988927, 33.902405, 7.158458)\"/>\n",
       "<path fill=\"none\" stroke-width=\"0.31879\" stroke-linecap=\"round\" stroke-linejoin=\"round\" stroke=\"rgb(0%, 0%, 0%)\" stroke-opacity=\"1\" stroke-miterlimit=\"10\" d=\"M -1.195172 1.592403 C -1.096235 0.995284 0.000849355 0.0978461 0.301177 0.00068425 C -0.000915504 -0.100016 -1.094451 -0.997473 -1.195143 -1.596361 \" transform=\"matrix(0.442219, 0.884457, 0.884457, -0.442219, 30.424802, 56.269081)\"/>\n",
       "<g fill=\"rgb(0%, 0%, 0%)\" fill-opacity=\"1\">\n",
       "<use xlink:href=\"#glyph-1731630588227000--0-0\" x=\"31.31636\" y=\"10.168752\"/>\n",
       "</g>\n",
       "<g fill=\"rgb(0%, 0%, 0%)\" fill-opacity=\"1\">\n",
       "<use xlink:href=\"#glyph-1731630588227000--0-1\" x=\"17.300294\" y=\"37.807292\"/>\n",
       "</g>\n",
       "<g fill=\"rgb(0%, 0%, 0%)\" fill-opacity=\"1\">\n",
       "<use xlink:href=\"#glyph-1731630588227000--0-2\" x=\"3.284227\" y=\"66.292353\"/>\n",
       "</g>\n",
       "<g fill=\"rgb(0%, 0%, 0%)\" fill-opacity=\"1\">\n",
       "<use xlink:href=\"#glyph-1731630588227000--0-2\" x=\"31.31636\" y=\"66.292353\"/>\n",
       "</g>\n",
       "<g fill=\"rgb(0%, 0%, 0%)\" fill-opacity=\"1\">\n",
       "<use xlink:href=\"#glyph-1731630588227000--0-3\" x=\"45.332426\" y=\"38.255276\"/>\n",
       "</g>\n",
       "</svg>\n",
       "\n"
      ],
      "text/plain": [
       "LabelledTree({5, 4} directed simple Int64 graph, Any[:/, :+, 4, 4, 2])"
      ]
     },
     "metadata": {},
     "output_type": "display_data"
    }
   ],
   "source": [
    "# 参数是表达式变量名时 用TreeView.walk_tree()图示tree(抽象语法树)\n",
    "TreeView.walk_tree(parse_nest_ex)"
   ]
  },
  {
   "cell_type": "code",
   "execution_count": 19,
   "metadata": {},
   "outputs": [
    {
     "data": {
      "image/svg+xml": [
       "<?xml version=\"1.0\" encoding=\"UTF-8\"?>\n",
       "<svg xmlns=\"http://www.w3.org/2000/svg\" xmlns:xlink=\"http://www.w3.org/1999/xlink\" width=\"54.391\" height=\"70.308\" viewBox=\"0 0 54.391 70.308\">\n",
       "<defs>\n",
       "<g>\n",
       "<g id=\"glyph-1731630588227002--0-0\">\n",
       "<path d=\"M 4.59375 -6.5 C 4.59375 -6.671875 4.453125 -6.84375 4.25 -6.84375 C 4.03125 -6.84375 3.96875 -6.6875 3.90625 -6.5625 L 0.65625 0.234375 C 0.578125 0.390625 0.578125 0.390625 0.578125 0.46875 C 0.578125 0.65625 0.71875 0.8125 0.921875 0.8125 C 1.140625 0.8125 1.203125 0.671875 1.265625 0.546875 L 4.515625 -6.265625 C 4.578125 -6.421875 4.59375 -6.421875 4.59375 -6.5 Z M 4.59375 -6.5 \"/>\n",
       "</g>\n",
       "<g id=\"glyph-1731630588227002--0-1\">\n",
       "<path d=\"M 4.796875 -3.015625 C 4.796875 -3.359375 4.453125 -3.359375 4.328125 -3.359375 L 2.921875 -3.359375 L 2.921875 -4.765625 C 2.921875 -4.890625 2.921875 -5.234375 2.578125 -5.234375 C 2.234375 -5.234375 2.234375 -4.890625 2.234375 -4.765625 L 2.234375 -3.359375 L 0.84375 -3.359375 C 0.71875 -3.359375 0.375 -3.359375 0.375 -3.015625 C 0.375 -2.671875 0.71875 -2.671875 0.84375 -2.671875 L 2.234375 -2.671875 L 2.234375 -1.265625 C 2.234375 -1.140625 2.234375 -0.796875 2.578125 -0.796875 C 2.921875 -0.796875 2.921875 -1.140625 2.921875 -1.265625 L 2.921875 -2.671875 L 4.328125 -2.671875 C 4.453125 -2.671875 4.796875 -2.671875 4.796875 -3.015625 Z M 4.796875 -3.015625 \"/>\n",
       "</g>\n",
       "<g id=\"glyph-1731630588227002--0-2\">\n",
       "<path d=\"M 4.875 -1.96875 C 4.875 -2.265625 4.640625 -2.265625 4.484375 -2.265625 L 3.71875 -2.265625 L 3.71875 -5.734375 C 3.71875 -6.0625 3.640625 -6.140625 3.3125 -6.140625 L 3.03125 -6.140625 C 2.796875 -6.140625 2.75 -6.125 2.625 -5.9375 L 0.375 -2.40625 C 0.28125 -2.28125 0.28125 -2.25 0.28125 -2.0625 C 0.28125 -1.734375 0.375 -1.671875 0.6875 -1.671875 L 3.171875 -1.671875 L 3.171875 -0.59375 L 2.546875 -0.59375 C 2.390625 -0.59375 2.15625 -0.59375 2.15625 -0.296875 C 2.15625 0 2.40625 0 2.546875 0 L 4.328125 0 C 4.46875 0 4.71875 0 4.71875 -0.296875 C 4.71875 -0.59375 4.484375 -0.59375 4.328125 -0.59375 L 3.71875 -0.59375 L 3.71875 -1.671875 L 4.484375 -1.671875 C 4.640625 -1.671875 4.875 -1.671875 4.875 -1.96875 Z M 3.171875 -2.265625 L 0.96875 -2.265625 L 3.171875 -5.703125 Z M 3.171875 -2.265625 \"/>\n",
       "</g>\n",
       "<g id=\"glyph-1731630588227002--0-3\">\n",
       "<path d=\"M 4.65625 -0.40625 L 4.65625 -0.65625 C 4.65625 -0.84375 4.65625 -1.0625 4.3125 -1.0625 C 3.96875 -1.0625 3.96875 -0.875 3.96875 -0.59375 L 1.625 -0.59375 C 2.203125 -1.109375 3.15625 -1.84375 3.578125 -2.234375 C 4.203125 -2.796875 4.65625 -3.421875 4.65625 -4.203125 C 4.65625 -5.390625 3.65625 -6.125 2.453125 -6.125 C 1.296875 -6.125 0.515625 -5.328125 0.515625 -4.484375 C 0.515625 -4.125 0.78125 -4.015625 0.953125 -4.015625 C 1.15625 -4.015625 1.390625 -4.1875 1.390625 -4.453125 C 1.390625 -4.578125 1.34375 -4.703125 1.25 -4.765625 C 1.40625 -5.21875 1.859375 -5.53125 2.40625 -5.53125 C 3.21875 -5.53125 3.96875 -5.078125 3.96875 -4.203125 C 3.96875 -3.515625 3.484375 -2.953125 2.84375 -2.40625 L 0.65625 -0.578125 C 0.578125 -0.5 0.515625 -0.4375 0.515625 -0.3125 C 0.515625 0 0.765625 0 0.921875 0 L 4.265625 0 C 4.578125 0 4.65625 -0.09375 4.65625 -0.40625 Z M 4.65625 -0.40625 \"/>\n",
       "</g>\n",
       "</g>\n",
       "</defs>\n",
       "<path fill=\"none\" stroke-width=\"0.3985\" stroke-linecap=\"butt\" stroke-linejoin=\"miter\" stroke=\"rgb(0%, 0%, 0%)\" stroke-opacity=\"1\" stroke-miterlimit=\"10\" d=\"M -3.6933 -7.392143 L -10.886226 -21.770097 \" transform=\"matrix(0.988927, 0, 0, -0.988927, 33.902405, 7.158458)\"/>\n",
       "<path fill=\"none\" stroke-width=\"0.31879\" stroke-linecap=\"round\" stroke-linejoin=\"round\" stroke=\"rgb(0%, 0%, 0%)\" stroke-opacity=\"1\" stroke-miterlimit=\"10\" d=\"M -1.195815 1.592451 C -1.096889 0.997097 0.00017946 0.101406 0.298739 -0.00106084 C -0.00158895 -0.0982227 -1.09514 -0.993894 -1.195843 -1.596313 \" transform=\"matrix(-0.442219, 0.884457, 0.884457, 0.442219, 23.136952, 28.689373)\"/>\n",
       "<path fill=\"none\" stroke-width=\"0.3985\" stroke-linecap=\"butt\" stroke-linejoin=\"miter\" stroke=\"rgb(0%, 0%, 0%)\" stroke-opacity=\"1\" stroke-miterlimit=\"10\" d=\"M 3.697126 -7.392143 L 10.660954 -21.319798 \" transform=\"matrix(0.988927, 0, 0, -0.988927, 33.902405, 7.158458)\"/>\n",
       "<path fill=\"none\" stroke-width=\"0.31879\" stroke-linecap=\"round\" stroke-linejoin=\"round\" stroke=\"rgb(0%, 0%, 0%)\" stroke-opacity=\"1\" stroke-miterlimit=\"10\" d=\"M -1.194278 1.592665 C -1.095341 0.995545 -0.0017901 0.0998745 0.296771 -0.000820652 C -0.0000216827 -0.0997545 -1.09709 -0.995445 -1.197782 -1.594333 \" transform=\"matrix(0.442219, 0.884457, 0.884457, -0.442219, 44.443707, 28.241062)\"/>\n",
       "<path fill=\"none\" stroke-width=\"0.3985\" stroke-linecap=\"butt\" stroke-linejoin=\"miter\" stroke=\"rgb(0%, 0%, 0%)\" stroke-opacity=\"1\" stroke-miterlimit=\"10\" d=\"M -17.257555 -34.512755 L -24.829681 -49.660956 \" transform=\"matrix(0.988927, 0, 0, -0.988927, 33.902405, 7.158458)\"/>\n",
       "<path fill=\"none\" stroke-width=\"0.31879\" stroke-linecap=\"round\" stroke-linejoin=\"round\" stroke=\"rgb(0%, 0%, 0%)\" stroke-opacity=\"1\" stroke-miterlimit=\"10\" d=\"M -1.194074 1.594223 C -1.093381 0.995335 0.000153862 0.0978775 0.30048 0.000710244 C 0.00191872 -0.0999849 -1.095166 -0.997422 -1.194102 -1.594542 \" transform=\"matrix(-0.442219, 0.884457, 0.884457, 0.442219, 9.347093, 56.269081)\"/>\n",
       "<path fill=\"none\" stroke-width=\"0.3985\" stroke-linecap=\"butt\" stroke-linejoin=\"miter\" stroke=\"rgb(0%, 0%, 0%)\" stroke-opacity=\"1\" stroke-miterlimit=\"10\" d=\"M -11.091626 -34.512755 L -3.51555 -49.660956 \" transform=\"matrix(0.988927, 0, 0, -0.988927, 33.902405, 7.158458)\"/>\n",
       "<path fill=\"none\" stroke-width=\"0.31879\" stroke-linecap=\"round\" stroke-linejoin=\"round\" stroke=\"rgb(0%, 0%, 0%)\" stroke-opacity=\"1\" stroke-miterlimit=\"10\" d=\"M -1.195172 1.592403 C -1.096235 0.995284 0.000849355 0.0978461 0.301177 0.00068425 C -0.000915504 -0.100016 -1.094451 -0.997473 -1.195143 -1.596361 \" transform=\"matrix(0.442219, 0.884457, 0.884457, -0.442219, 30.424802, 56.269081)\"/>\n",
       "<g fill=\"rgb(0%, 0%, 0%)\" fill-opacity=\"1\">\n",
       "<use xlink:href=\"#glyph-1731630588227002--0-0\" x=\"31.31636\" y=\"10.168752\"/>\n",
       "</g>\n",
       "<g fill=\"rgb(0%, 0%, 0%)\" fill-opacity=\"1\">\n",
       "<use xlink:href=\"#glyph-1731630588227002--0-1\" x=\"17.300294\" y=\"37.807292\"/>\n",
       "</g>\n",
       "<g fill=\"rgb(0%, 0%, 0%)\" fill-opacity=\"1\">\n",
       "<use xlink:href=\"#glyph-1731630588227002--0-2\" x=\"3.284227\" y=\"66.292353\"/>\n",
       "</g>\n",
       "<g fill=\"rgb(0%, 0%, 0%)\" fill-opacity=\"1\">\n",
       "<use xlink:href=\"#glyph-1731630588227002--0-2\" x=\"31.31636\" y=\"66.292353\"/>\n",
       "</g>\n",
       "<g fill=\"rgb(0%, 0%, 0%)\" fill-opacity=\"1\">\n",
       "<use xlink:href=\"#glyph-1731630588227002--0-3\" x=\"45.332426\" y=\"38.255276\"/>\n",
       "</g>\n",
       "</svg>\n",
       "\n"
      ],
      "text/plain": [
       "LabelledTree({5, 4} directed simple Int64 graph, Any[:/, :+, 4, 4, 2])"
      ]
     },
     "metadata": {},
     "output_type": "display_data"
    }
   ],
   "source": [
    "@tree (4 + 4) / 2\n",
    "# 带@的函数为宏函数, 会把其后的参数接收为表达式, 若为变量则接收为Symbol"
   ]
  },
  {
   "cell_type": "code",
   "execution_count": 20,
   "metadata": {},
   "outputs": [
    {
     "name": "stdout",
     "output_type": "stream",
     "text": [
      "Expr\n",
      "  head: Symbol call\n",
      "  args: Array{Any}((3,))\n",
      "    1: Symbol /\n",
      "    2: Expr\n",
      "      head: Symbol call\n",
      "      args: Array{Any}((3,))\n",
      "        1: Symbol +\n",
      "        2: Int64 4\n",
      "        3: Int64 4\n",
      "    3: Int64 2\n"
     ]
    }
   ],
   "source": [
    "dump(parse_nest_ex)"
   ]
  },
  {
   "cell_type": "code",
   "execution_count": 23,
   "metadata": {},
   "outputs": [
    {
     "data": {
      "text/plain": [
       "Complex{Int64}"
      ]
     },
     "metadata": {},
     "output_type": "display_data"
    },
    {
     "name": "stdout",
     "output_type": "stream",
     "text": [
      "Complex{Int64}\n",
      "  re: Int64 1\n",
      "  im: Int64 2\n"
     ]
    }
   ],
   "source": [
    "typeof(1+2im) |> display\n",
    "dump(1+2im)"
   ]
  },
  {
   "cell_type": "code",
   "execution_count": 24,
   "metadata": {},
   "outputs": [
    {
     "name": "stdout",
     "output_type": "stream",
     "text": [
      "Expr\n",
      "  head: Symbol =\n",
      "  args: Array{Any}((2,))\n",
      "    1: Symbol b\n",
      "    2: Expr\n",
      "      head: Symbol call\n",
      "      args: Array{Any}((3,))\n",
      "        1: Symbol +\n",
      "        2: Int64 1\n",
      "        3: Int64 1\n"
     ]
    }
   ],
   "source": [
    "dump(:(b=1+1))"
   ]
  },
  {
   "cell_type": "code",
   "execution_count": 25,
   "metadata": {},
   "outputs": [
    {
     "data": {
      "image/svg+xml": [
       "<?xml version=\"1.0\" encoding=\"UTF-8\"?>\n",
       "<svg xmlns=\"http://www.w3.org/2000/svg\" xmlns:xlink=\"http://www.w3.org/1999/xlink\" width=\"54.391\" height=\"68.51\" viewBox=\"0 0 54.391 68.51\">\n",
       "<defs>\n",
       "<g>\n",
       "<g id=\"glyph-1731630588227003--0-0\">\n",
       "<path d=\"M 4.796875 -3.765625 C 4.796875 -4.109375 4.421875 -4.109375 4.28125 -4.109375 L 0.875 -4.109375 C 0.734375 -4.109375 0.375 -4.109375 0.375 -3.765625 C 0.375 -3.421875 0.703125 -3.421875 0.8125 -3.421875 L 4.34375 -3.421875 C 4.46875 -3.421875 4.796875 -3.421875 4.796875 -3.765625 Z M 4.796875 -2.265625 C 4.796875 -2.609375 4.46875 -2.609375 4.34375 -2.609375 L 0.8125 -2.609375 C 0.703125 -2.609375 0.375 -2.609375 0.375 -2.265625 C 0.375 -1.921875 0.734375 -1.921875 0.875 -1.921875 L 4.28125 -1.921875 C 4.421875 -1.921875 4.796875 -1.921875 4.796875 -2.265625 Z M 4.796875 -2.265625 \"/>\n",
       "</g>\n",
       "<g id=\"glyph-1731630588227003--0-1\">\n",
       "<path d=\"M 4.8125 -2.125 C 4.8125 -3.34375 3.9375 -4.3125 2.890625 -4.3125 C 2.421875 -4.3125 1.96875 -4.125 1.640625 -3.828125 L 1.640625 -5.625 C 1.640625 -5.921875 1.578125 -6.03125 1.25 -6.03125 L 0.515625 -6.03125 C 0.359375 -6.03125 0.125 -6.03125 0.125 -5.71875 C 0.125 -5.421875 0.375 -5.421875 0.515625 -5.421875 L 0.953125 -5.421875 L 0.953125 -0.40625 C 0.953125 -0.203125 0.953125 0 1.296875 0 C 1.640625 0 1.640625 -0.203125 1.640625 -0.4375 C 2.046875 -0.03125 2.46875 0.0625 2.78125 0.0625 C 3.859375 0.0625 4.8125 -0.875 4.8125 -2.125 Z M 4.125 -2.125 C 4.125 -1.1875 3.4375 -0.546875 2.75 -0.546875 C 1.984375 -0.546875 1.640625 -1.40625 1.640625 -1.890625 L 1.640625 -2.609375 C 1.640625 -3.1875 2.203125 -3.703125 2.828125 -3.703125 C 3.5625 -3.703125 4.125 -2.984375 4.125 -2.125 Z M 4.125 -2.125 \"/>\n",
       "</g>\n",
       "<g id=\"glyph-1731630588227003--0-2\">\n",
       "<path d=\"M 4.796875 -3.015625 C 4.796875 -3.359375 4.453125 -3.359375 4.328125 -3.359375 L 2.921875 -3.359375 L 2.921875 -4.765625 C 2.921875 -4.890625 2.921875 -5.234375 2.578125 -5.234375 C 2.234375 -5.234375 2.234375 -4.890625 2.234375 -4.765625 L 2.234375 -3.359375 L 0.84375 -3.359375 C 0.71875 -3.359375 0.375 -3.359375 0.375 -3.015625 C 0.375 -2.671875 0.71875 -2.671875 0.84375 -2.671875 L 2.234375 -2.671875 L 2.234375 -1.265625 C 2.234375 -1.140625 2.234375 -0.796875 2.578125 -0.796875 C 2.921875 -0.796875 2.921875 -1.140625 2.921875 -1.265625 L 2.921875 -2.671875 L 4.328125 -2.671875 C 4.453125 -2.671875 4.796875 -2.671875 4.796875 -3.015625 Z M 4.796875 -3.015625 \"/>\n",
       "</g>\n",
       "<g id=\"glyph-1731630588227003--0-3\">\n",
       "<path d=\"M 4.359375 -0.296875 C 4.359375 -0.59375 4.125 -0.59375 3.96875 -0.59375 L 3.0625 -0.59375 L 3.0625 -5.734375 C 3.0625 -5.890625 3.0625 -6.125 2.765625 -6.125 C 2.578125 -6.125 2.53125 -6.015625 2.46875 -5.890625 C 2.09375 -5.0625 1.59375 -4.953125 1.40625 -4.921875 C 1.25 -4.921875 1.03125 -4.90625 1.03125 -4.625 C 1.03125 -4.375 1.21875 -4.328125 1.359375 -4.328125 C 1.546875 -4.328125 1.953125 -4.390625 2.390625 -4.765625 L 2.390625 -0.59375 L 1.484375 -0.59375 C 1.328125 -0.59375 1.09375 -0.59375 1.09375 -0.296875 C 1.09375 0 1.34375 0 1.484375 0 L 3.96875 0 C 4.109375 0 4.359375 0 4.359375 -0.296875 Z M 4.359375 -0.296875 \"/>\n",
       "</g>\n",
       "</g>\n",
       "</defs>\n",
       "<path fill=\"none\" stroke-width=\"0.3985\" stroke-linecap=\"butt\" stroke-linejoin=\"miter\" stroke=\"rgb(0%, 0%, 0%)\" stroke-opacity=\"1\" stroke-miterlimit=\"10\" d=\"M -2.800156 -5.598471 L -10.672481 -21.343119 \" transform=\"matrix(0.988927, 0, 0, -0.988927, 19.886339, 5.475239)\"/>\n",
       "<path fill=\"none\" stroke-width=\"0.31879\" stroke-linecap=\"round\" stroke-linejoin=\"round\" stroke=\"rgb(0%, 0%, 0%)\" stroke-opacity=\"1\" stroke-miterlimit=\"10\" d=\"M -1.194334 1.592695 C -1.095408 0.99734 -0.00187339 0.0998829 0.300219 -0.000817668 C -0.000108527 -0.0979796 -1.097193 -0.995417 -1.196129 -1.592537 \" transform=\"matrix(-0.442219, 0.884457, 0.884457, 0.442219, 9.332704, 26.582487)\"/>\n",
       "<path fill=\"none\" stroke-width=\"0.3985\" stroke-linecap=\"butt\" stroke-linejoin=\"miter\" stroke=\"rgb(0%, 0%, 0%)\" stroke-opacity=\"1\" stroke-miterlimit=\"10\" d=\"M 2.796975 -5.598471 L 10.886549 -21.773668 \" transform=\"matrix(0.988927, 0, 0, -0.988927, 19.886339, 5.475239)\"/>\n",
       "<path fill=\"none\" stroke-width=\"0.31879\" stroke-linecap=\"round\" stroke-linejoin=\"round\" stroke=\"rgb(0%, 0%, 0%)\" stroke-opacity=\"1\" stroke-miterlimit=\"10\" d=\"M -1.197804 1.593238 C -1.095334 0.994352 -0.00178326 0.0986808 0.298544 0.0015189 C -0.0000148501 -0.100948 -1.097083 -0.996639 -1.196009 -1.591993 \" transform=\"matrix(0.442219, 0.884457, 0.884457, -0.442219, 30.651791, 27.006153)\"/>\n",
       "<path fill=\"none\" stroke-width=\"0.3985\" stroke-linecap=\"butt\" stroke-linejoin=\"miter\" stroke=\"rgb(0%, 0%, 0%)\" stroke-opacity=\"1\" stroke-miterlimit=\"10\" d=\"M 11.091948 -34.512376 L 3.515873 -49.664527 \" transform=\"matrix(0.988927, 0, 0, -0.988927, 19.886339, 5.475239)\"/>\n",
       "<path fill=\"none\" stroke-width=\"0.31879\" stroke-linecap=\"round\" stroke-linejoin=\"round\" stroke=\"rgb(0%, 0%, 0%)\" stroke-opacity=\"1\" stroke-miterlimit=\"10\" d=\"M -1.195894 1.594714 C -1.095202 0.995826 0.00186635 0.100136 0.298659 0.0012018 C 0.000097938 -0.0994934 -1.096986 -0.996931 -1.195923 -1.59405 \" transform=\"matrix(-0.442219, 0.884457, 0.884457, 0.442219, 23.361478, 54.590786)\"/>\n",
       "<path fill=\"none\" stroke-width=\"0.3985\" stroke-linecap=\"butt\" stroke-linejoin=\"miter\" stroke=\"rgb(0%, 0%, 0%)\" stroke-opacity=\"1\" stroke-miterlimit=\"10\" d=\"M 17.253928 -34.512376 L 24.833954 -49.664527 \" transform=\"matrix(0.988927, 0, 0, -0.988927, 19.886339, 5.475239)\"/>\n",
       "<path fill=\"none\" stroke-width=\"0.31879\" stroke-linecap=\"round\" stroke-linejoin=\"round\" stroke=\"rgb(0%, 0%, 0%)\" stroke-opacity=\"1\" stroke-miterlimit=\"10\" d=\"M -1.196336 1.593224 C -1.097399 0.996105 -0.000315042 0.0986674 0.300013 0.0015055 C 0.00145337 -0.100962 -1.095615 -0.996652 -1.196307 -1.59554 \" transform=\"matrix(0.442219, 0.884457, 0.884457, -0.442219, 44.444122, 54.590786)\"/>\n",
       "<g fill=\"rgb(0%, 0%, 0%)\" fill-opacity=\"1\">\n",
       "<use xlink:href=\"#glyph-1731630588227003--0-0\" x=\"17.300294\" y=\"7.52924\"/>\n",
       "</g>\n",
       "<g fill=\"rgb(0%, 0%, 0%)\" fill-opacity=\"1\">\n",
       "<use xlink:href=\"#glyph-1731630588227003--0-1\" x=\"3.284227\" y=\"36.487998\"/>\n",
       "</g>\n",
       "<g fill=\"rgb(0%, 0%, 0%)\" fill-opacity=\"1\">\n",
       "<use xlink:href=\"#glyph-1731630588227003--0-2\" x=\"31.31636\" y=\"36.124073\"/>\n",
       "</g>\n",
       "<g fill=\"rgb(0%, 0%, 0%)\" fill-opacity=\"1\">\n",
       "<use xlink:href=\"#glyph-1731630588227003--0-3\" x=\"17.300294\" y=\"64.604189\"/>\n",
       "</g>\n",
       "<g fill=\"rgb(0%, 0%, 0%)\" fill-opacity=\"1\">\n",
       "<use xlink:href=\"#glyph-1731630588227003--0-3\" x=\"45.332426\" y=\"64.604189\"/>\n",
       "</g>\n",
       "</svg>\n",
       "\n"
      ],
      "text/plain": [
       "LabelledTree({5, 4} directed simple Int64 graph, Any[:(=), :b, :+, 1, 1])"
      ]
     },
     "metadata": {},
     "output_type": "display_data"
    }
   ],
   "source": [
    "@tree b=1+1"
   ]
  },
  {
   "cell_type": "markdown",
   "metadata": {},
   "source": [
    "### https://developer.aliyun.com/article/786911"
   ]
  },
  {
   "cell_type": "markdown",
   "metadata": {},
   "source": [
    "引用自定义的函数"
   ]
  },
  {
   "cell_type": "code",
   "execution_count": 1,
   "metadata": {},
   "outputs": [
    {
     "data": {
      "text/plain": [
       ":(myf(1, 2))"
      ]
     },
     "metadata": {},
     "output_type": "display_data"
    }
   ],
   "source": [
    "function myf(x,y)\n",
    "    x + y + 1\n",
    "end\n",
    "\n",
    ":(myf(1,2))"
   ]
  },
  {
   "cell_type": "code",
   "execution_count": 3,
   "metadata": {},
   "outputs": [
    {
     "data": {
      "text/plain": [
       "4"
      ]
     },
     "metadata": {},
     "output_type": "display_data"
    }
   ],
   "source": [
    "eval(:(myf(1,2)))"
   ]
  },
  {
   "cell_type": "code",
   "execution_count": 4,
   "metadata": {},
   "outputs": [
    {
     "data": {
      "text/plain": [
       ":(myf(1, 2) + 3)"
      ]
     },
     "metadata": {},
     "output_type": "display_data"
    }
   ],
   "source": [
    "ex = Meta.parse(\"myf(1,2)+3\")"
   ]
  },
  {
   "cell_type": "code",
   "execution_count": 5,
   "metadata": {},
   "outputs": [
    {
     "data": {
      "text/plain": [
       "7"
      ]
     },
     "metadata": {},
     "output_type": "display_data"
    }
   ],
   "source": [
    "eval(ex)"
   ]
  },
  {
   "cell_type": "code",
   "execution_count": 9,
   "metadata": {},
   "outputs": [
    {
     "data": {
      "text/plain": [
       ":(A2 = [1 2 3; 4 5 6])"
      ]
     },
     "metadata": {},
     "output_type": "display_data"
    }
   ],
   "source": [
    "ex2 = Meta.parse(\"A2= [ 1 2 3 ; 4 5 6]\")"
   ]
  },
  {
   "cell_type": "code",
   "execution_count": 7,
   "metadata": {},
   "outputs": [
    {
     "ename": "UndefVarError",
     "evalue": "UndefVarError: `A2` not defined in `Main`\nSuggestion: check for spelling errors or missing imports.",
     "output_type": "error",
     "traceback": [
      "UndefVarError: `A2` not defined in `Main`\n",
      "Suggestion: check for spelling errors or missing imports.\n"
     ]
    }
   ],
   "source": [
    "A2"
   ]
  },
  {
   "cell_type": "code",
   "execution_count": 10,
   "metadata": {},
   "outputs": [
    {
     "data": {
      "text/plain": [
       "2×3 Matrix{Int64}:\n",
       " 1  2  3\n",
       " 4  5  6"
      ]
     },
     "metadata": {},
     "output_type": "display_data"
    }
   ],
   "source": [
    "eval(ex2)"
   ]
  },
  {
   "cell_type": "code",
   "execution_count": 11,
   "metadata": {},
   "outputs": [
    {
     "data": {
      "text/plain": [
       "2×3 Matrix{Int64}:\n",
       " 1  2  3\n",
       " 4  5  6"
      ]
     },
     "metadata": {},
     "output_type": "display_data"
    }
   ],
   "source": [
    "A2"
   ]
  },
  {
   "cell_type": "markdown",
   "metadata": {},
   "source": [
    "`Meta.parse`方法也支持多行语句，中间用`;`分隔"
   ]
  },
  {
   "cell_type": "code",
   "execution_count": 13,
   "metadata": {},
   "outputs": [
    {
     "data": {
      "text/plain": [
       ":($(Expr(:toplevel, :(a = 1), :(b = 2), :(z = sin(a) * b))))"
      ]
     },
     "metadata": {},
     "output_type": "display_data"
    }
   ],
   "source": [
    "ex3 = Meta.parse(\"a=1;b=2;z=sin(a)*b\")"
   ]
  },
  {
   "cell_type": "code",
   "execution_count": 14,
   "metadata": {},
   "outputs": [
    {
     "data": {
      "text/plain": [
       "1.682941969615793"
      ]
     },
     "metadata": {},
     "output_type": "display_data"
    }
   ],
   "source": [
    "eval(ex3)"
   ]
  }
 ],
 "metadata": {
  "kernelspec": {
   "display_name": "Julia 1.11.0",
   "language": "julia",
   "name": "julia-1.11"
  },
  "language_info": {
   "file_extension": ".jl",
   "mimetype": "application/julia",
   "name": "julia",
   "version": "1.11.0"
  }
 },
 "nbformat": 4,
 "nbformat_minor": 2
}
