{
 "cells": [
  {
   "cell_type": "markdown",
   "metadata": {},
   "source": [
    "就1个`:(...) `或 1个`Symbol :`符号 时, 最好不要用 `:quote`表达, 如下<br>\n",
    "**这是笔者测试总结？不知对否**"
   ]
  },
  {
   "cell_type": "code",
   "execution_count": 1,
   "metadata": {},
   "outputs": [
    {
     "name": "stdout",
     "output_type": "stream",
     "text": [
      "Expr(:quote, 1 + 2) == $(QuoteNode(3)) = false\n",
      "eval(Expr(:quote, 1 + 2)) == eval($(QuoteNode(3))) = true\n",
      "eval($(QuoteNode(3))) = 3\n"
     ]
    },
    {
     "data": {
      "text/plain": [
       "3"
      ]
     },
     "metadata": {},
     "output_type": "display_data"
    }
   ],
   "source": [
    "@show Expr(:quote, 1 + 2) == :(3)\n",
    "@show eval(Expr(:quote, 1 + 2)) == eval(:(3))\n",
    "@show eval(:(3))"
   ]
  },
  {
   "cell_type": "code",
   "execution_count": 2,
   "metadata": {},
   "outputs": [
    {
     "data": {
      "text/plain": [
       "3"
      ]
     },
     "metadata": {},
     "output_type": "display_data"
    }
   ],
   "source": [
    ":(3)"
   ]
  },
  {
   "cell_type": "code",
   "execution_count": 4,
   "metadata": {},
   "outputs": [
    {
     "name": "stdout",
     "output_type": "stream",
     "text": [
      "Expr(:quote, a) == :a = false\n",
      "eval(Expr(:quote, a)) == eval(:a) = true\n"
     ]
    },
    {
     "data": {
      "text/plain": [
       "Symbol"
      ]
     },
     "metadata": {},
     "output_type": "display_data"
    }
   ],
   "source": [
    "a=1\n",
    "@show Expr(:quote, a) == :(a)\n",
    "@show eval(Expr(:quote, a)) == eval(:(a))\n",
    ":(a) |> typeof"
   ]
  },
  {
   "cell_type": "code",
   "execution_count": 5,
   "metadata": {},
   "outputs": [
    {
     "name": "stdout",
     "output_type": "stream",
     "text": [
      "Expr(:quote, a) == Expr(:Symbol, a) = false\n",
      "eval(:a) = 1\n",
      ":a = :a\n"
     ]
    },
    {
     "data": {
      "text/plain": [
       ":a"
      ]
     },
     "metadata": {},
     "output_type": "display_data"
    }
   ],
   "source": [
    "@show Expr(:quote, a) == Expr(:Symbol, a)\n",
    "@show eval(:(a))\n",
    "@show :(a)"
   ]
  },
  {
   "cell_type": "code",
   "execution_count": 8,
   "metadata": {},
   "outputs": [
    {
     "name": "stdout",
     "output_type": "stream",
     "text": [
      "Expr(:QuoteNode, 3) == $(QuoteNode(3)) = false\n",
      "QuoteNode(3) == $(QuoteNode(3)) = false\n",
      "eval(QuoteNode(3)) == $(QuoteNode(3)) = true\n"
     ]
    },
    {
     "data": {
      "text/plain": [
       "true"
      ]
     },
     "metadata": {},
     "output_type": "display_data"
    }
   ],
   "source": [
    "@show Expr(:QuoteNode, 3) == :(3)  \n",
    "# 其实是错的 Expr 没有head :Symbol, :QuoteNode\n",
    "@show QuoteNode(3) == :(3)\n",
    "@show eval(QuoteNode(3)) == :(3)"
   ]
  },
  {
   "cell_type": "code",
   "execution_count": 7,
   "metadata": {},
   "outputs": [
    {
     "data": {
      "text/plain": [
       "1"
      ]
     },
     "metadata": {},
     "output_type": "display_data"
    },
    {
     "name": "stdout",
     "output_type": "stream",
     "text": [
      "Expr(:quote, a) = :($(Expr(:quote, 1)))\n",
      "Expr(:Symbol, a) = :($(Expr(:Symbol, 1)))\n",
      "Expr(:QuoteNode, a) = :($(Expr(:QuoteNode, 1)))\n"
     ]
    },
    {
     "ename": "ErrorException",
     "evalue": "syntax: invalid syntax (Symbol 1)",
     "output_type": "error",
     "traceback": [
      "syntax: invalid syntax (Symbol 1)\n",
      "\n",
      "Stacktrace:\n",
      " [1] top-level scope\n",
      "   @ none:1"
     ]
    }
   ],
   "source": [
    "@show Expr(:quote, a)\n",
    "@show Expr(:Symbol, a)\n",
    "@show Expr(:QuoteNode, a)\n",
    "\n",
    "eval(Expr(:quote, a)) |> display\n",
    "eval(Expr(:Symbol, a)) |> display\n",
    "eval(Expr(:QuoteNode, 1)) |> display\n",
    "# Error Expr 没有head :Symbol, :QuoteNode"
   ]
  },
  {
   "cell_type": "code",
   "execution_count": 11,
   "metadata": {},
   "outputs": [
    {
     "name": "stdout",
     "output_type": "stream",
     "text": [
      "Symbol 1\n"
     ]
    }
   ],
   "source": [
    "dump(Symbol(1))"
   ]
  },
  {
   "cell_type": "code",
   "execution_count": 13,
   "metadata": {},
   "outputs": [
    {
     "data": {
      "text/plain": [
       ":($(QuoteNode(3)))"
      ]
     },
     "metadata": {},
     "output_type": "display_data"
    },
    {
     "data": {
      "text/plain": [
       "3"
      ]
     },
     "metadata": {},
     "output_type": "display_data"
    }
   ],
   "source": [
    "QuoteNode(3) |> display\n",
    "eval(QuoteNode(3))"
   ]
  },
  {
   "cell_type": "code",
   "execution_count": 14,
   "metadata": {},
   "outputs": [
    {
     "data": {
      "text/plain": [
       ":(:a)"
      ]
     },
     "metadata": {},
     "output_type": "display_data"
    }
   ],
   "source": [
    "QuoteNode(Symbol(\"a\"))"
   ]
  }
 ],
 "metadata": {
  "kernelspec": {
   "display_name": "Julia 1.11.0",
   "language": "julia",
   "name": "julia-1.11"
  },
  "language_info": {
   "file_extension": ".jl",
   "mimetype": "application/julia",
   "name": "julia",
   "version": "1.11.0"
  }
 },
 "nbformat": 4,
 "nbformat_minor": 2
}
