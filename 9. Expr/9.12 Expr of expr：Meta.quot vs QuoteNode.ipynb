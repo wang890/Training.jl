{
 "cells": [
  {
   "cell_type": "markdown",
   "metadata": {},
   "source": [
    "### https://riptutorial.com/julia-lang/example/24364/quotenode--meta-quot--and-expr--quote-"
   ]
  },
  {
   "cell_type": "code",
   "execution_count": 1,
   "metadata": {},
   "outputs": [
    {
     "ename": "UndefVarError",
     "evalue": "UndefVarError: `x` not defined in `Main`\nSuggestion: check for spelling errors or missing imports.",
     "output_type": "error",
     "traceback": [
      "UndefVarError: `x` not defined in `Main`\n",
      "Suggestion: check for spelling errors or missing imports.\n",
      "\n",
      "Stacktrace:\n",
      " [1] top-level scope\n",
      "   @ e:\\Projects.jl\\Training.jl\\9. Expr\\jl_notebook_cell_df34fa98e69747e1a8f8a730347b8e2f_W1sZmlsZQ==.jl:1"
     ]
    }
   ],
   "source": [
    "Meta.parse(\"$x\")"
   ]
  },
  {
   "cell_type": "code",
   "execution_count": 2,
   "metadata": {},
   "outputs": [
    {
     "name": "stdout",
     "output_type": "stream",
     "text": [
      "(:call, :+, 1, 1)\n",
      "\n",
      "Expr\n",
      "  head: Symbol call\n",
      "  args: Array{Any}((3,))\n",
      "    1: Symbol +\n",
      "    2: Int64 1\n",
      "    3: Int64 1\n"
     ]
    }
   ],
   "source": [
    "x=1\n",
    "Meta.show_sexpr(:($x + $x))\n",
    "println(\"\\n\")\n",
    "dump(:($x + $x))"
   ]
  },
  {
   "cell_type": "code",
   "execution_count": 4,
   "metadata": {},
   "outputs": [
    {
     "name": "stdout",
     "output_type": "stream",
     "text": [
      "(:call, :+, :a, :b)\n",
      "\n",
      "Expr\n",
      "  head: Symbol call\n",
      "  args: Array{Any}((3,))\n",
      "    1: Symbol +\n",
      "    2: Symbol a\n",
      "    3: Symbol b\n"
     ]
    }
   ],
   "source": [
    "Meta.show_sexpr(:(a + b))\n",
    "println(\"\\n\")\n",
    "dump(:(a + b))"
   ]
  },
  {
   "cell_type": "code",
   "execution_count": 5,
   "metadata": {},
   "outputs": [
    {
     "data": {
      "text/plain": [
       ":(1 + 1)"
      ]
     },
     "metadata": {},
     "output_type": "display_data"
    }
   ],
   "source": [
    "eval(\n",
    "\n",
    "quote\n",
    "$(\n",
    "    Expr(:quote, \n",
    "         :( # ex = :( x = 1; :($x + $x) )\n",
    "            $(Expr(:$, :x)) + $(Expr(:$, :x))\n",
    "          ) \n",
    "          # $x + $x被最外层:()包括 不然就被求值了,\n",
    "          # 也因为 Expr(:quote, ex) 中, ex需要原本的表达式\n",
    "          # 所以 $x + $x就是表达式 需要这对黄色括号\n",
    "        )\n",
    " )\n",
    "end\n",
    "\n",
    ")\n",
    "# 和之前显示的结果相同如下: \n",
    "#  $(Expr(:quote, :($(Expr(:$, :x)) + $(Expr(:$, :x)))))"
   ]
  },
  {
   "cell_type": "code",
   "execution_count": 7,
   "metadata": {},
   "outputs": [
    {
     "data": {
      "text/plain": [
       "quote\n",
       "    x = 1\n",
       "    \u001b[90m#= e:\\Projects.jl\\Training.jl\\9. Expr\\jl_notebook_cell_df34fa98e69747e1a8f8a730347b8e2f_W5sZmlsZQ==.jl:1 =#\u001b[39m\n",
       "    $(Expr(:quote, :($(Expr(:$, :x)) + $(Expr(:$, :x)))))\n",
       "end"
      ]
     },
     "metadata": {},
     "output_type": "display_data"
    }
   ],
   "source": [
    "ex = :( x = 1; :($x + $x) )"
   ]
  },
  {
   "cell_type": "markdown",
   "metadata": {},
   "source": [
    "When evaluated, this expression will evaluate `1` and assign it to `x`, then construct an expression of the form `_ + _` where the `_` will be replaced by the value of `x`. Thus, the result of this should be the expression `1 + 1` (which is not yet evaluated, and so distinct from the value `2`). Indeed, this is the case:<br>\n",
    "\n",
    "当求值时，该表达式将求值 `1` ，并将其赋值为 `x` ，然后构造形式为 `_ + _` 的表达式，其中 `_` 将被 `x` 的值所取代。因此，结果应该是表达式 `1 + 1` （尚未求值，因此与值 `2` 不同）。事实的确如此："
   ]
  },
  {
   "cell_type": "code",
   "execution_count": 8,
   "metadata": {},
   "outputs": [
    {
     "data": {
      "text/plain": [
       ":(1 + 1)"
      ]
     },
     "metadata": {},
     "output_type": "display_data"
    }
   ],
   "source": [
    "eval(ex)"
   ]
  },
  {
   "cell_type": "markdown",
   "metadata": {},
   "source": [
    "Let's say now that we're writing a macro to build these kinds of expressions. Our macro will take an argument, which will replace the `1` in the `ex` above. This argument can be any expression, of course. Here is something that is not quite what we want:<br><br>\n",
    "假设现在我们正在编写一个宏来构建这类表达式。我们的宏将接受一个参数，它将替换上面的 `ex` 中的 `1` 。当然，这个参数可以是任何表达式。这不是我们想要的东西："
   ]
  },
  {
   "cell_type": "code",
   "execution_count": 9,
   "metadata": {},
   "outputs": [
    {
     "data": {
      "text/plain": [
       "quote\n",
       "    $(Expr(:quote, quote\n",
       "    x = 1 + 2\n",
       "    $(Expr(:quote, :(1 + 1)))\n",
       "end))\n",
       "end"
      ]
     },
     "metadata": {},
     "output_type": "display_data"
    }
   ],
   "source": [
    "makeex_test1 = \n",
    "quote\n",
    "    :( x = 1+2; :(1 + 1) )\n",
    "end\n",
    "Base.remove_linenums!(makeex_test1)"
   ]
  },
  {
   "cell_type": "code",
   "execution_count": 10,
   "metadata": {},
   "outputs": [
    {
     "data": {
      "text/plain": [
       "quote\n",
       "    x = 1 + 2\n",
       "    $(Expr(:quote, :(1 + 1)))\n",
       "end"
      ]
     },
     "metadata": {},
     "output_type": "display_data"
    },
    {
     "data": {
      "text/plain": [
       ":(1 + 1)"
      ]
     },
     "metadata": {},
     "output_type": "display_data"
    },
    {
     "data": {
      "text/plain": [
       "2"
      ]
     },
     "metadata": {},
     "output_type": "display_data"
    }
   ],
   "source": [
    "eval(makeex_test1) |> display\n",
    "eval(eval(makeex_test1)) |> display\n",
    "eval(eval(eval(makeex_test1))) |> display"
   ]
  },
  {
   "cell_type": "code",
   "execution_count": 11,
   "metadata": {},
   "outputs": [
    {
     "data": {
      "text/plain": [
       "quote\n",
       "    x = (Expr)(:escape, 1)\n",
       "    $(Expr(:quote, :($(Expr(:$, :x)) + $(Expr(:$, :x)))))\n",
       "end"
      ]
     },
     "metadata": {},
     "output_type": "display_data"
    }
   ],
   "source": [
    "makeex_result =\n",
    "quote\n",
    "    x = $Expr(:escape, 1)\n",
    "    $(Expr(:quote,\n",
    "           :($(Expr(:$, :x)) + $(Expr(:$, :x)))\n",
    "          )\n",
    "     )\n",
    "end\n",
    "Base.remove_linenums!(makeex_result)"
   ]
  },
  {
   "cell_type": "code",
   "execution_count": 14,
   "metadata": {},
   "outputs": [
    {
     "data": {
      "text/plain": [
       "@makeex (macro with 1 method)"
      ]
     },
     "metadata": {},
     "output_type": "display_data"
    }
   ],
   "source": [
    "macro makeex(arg)\n",
    "    show(arg)\n",
    "    quote\n",
    "        :( x = $(esc($arg)); :($x + $x) )\n",
    "    end\n",
    "end"
   ]
  },
  {
   "cell_type": "code",
   "execution_count": 13,
   "metadata": {},
   "outputs": [
    {
     "name": "stdout",
     "output_type": "stream",
     "text": [
      "1"
     ]
    },
    {
     "data": {
      "text/plain": [
       "quote\n",
       "    \u001b[90m#= e:\\Projects.jl\\Training.jl\\9. Expr\\jl_notebook_cell_df34fa98e69747e1a8f8a730347b8e2f_X15sZmlsZQ==.jl:4 =#\u001b[39m\n",
       "    Core._expr(:block, Core._expr(:(=), :x, Main.esc(1)), $(QuoteNode(:(\u001b[90m#= e:\\Projects.jl\\Training.jl\\9. Expr\\jl_notebook_cell_df34fa98e69747e1a8f8a730347b8e2f_X15sZmlsZQ==.jl:4 =#\u001b[39m))), Core._expr(:quote, Core._expr(:call, :+, Core._expr(:$, :x), Core._expr(:$, :x))))\n",
       "end"
      ]
     },
     "metadata": {},
     "output_type": "display_data"
    }
   ],
   "source": [
    "@macroexpand @makeex 1"
   ]
  },
  {
   "cell_type": "code",
   "execution_count": 15,
   "metadata": {},
   "outputs": [
    {
     "name": "stdout",
     "output_type": "stream",
     "text": [
      "1"
     ]
    },
    {
     "data": {
      "text/plain": [
       "quote\n",
       "    Core._expr(:block, Core._expr(:(=), :x, Main.esc(1)), $(QuoteNode(:(\u001b[90m#= e:\\Projects.jl\\Training.jl\\9. Expr\\jl_notebook_cell_df34fa98e69747e1a8f8a730347b8e2f_X15sZmlsZQ==.jl:4 =#\u001b[39m))), Core._expr(:quote, Core._expr(:call, :+, Core._expr(:$, :x), Core._expr(:$, :x))))\n",
       "end"
      ]
     },
     "metadata": {},
     "output_type": "display_data"
    }
   ],
   "source": [
    "Base.remove_linenums!(@macroexpand @makeex 1)"
   ]
  },
  {
   "cell_type": "code",
   "execution_count": 16,
   "metadata": {},
   "outputs": [
    {
     "data": {
      "text/plain": [
       "quote\n",
       "    x = $(Expr(:escape, 1))\n",
       "    $(Expr(:quote, :($(Expr(:$, :x)) + $(Expr(:$, :x)))))\n",
       "end"
      ]
     },
     "metadata": {},
     "output_type": "display_data"
    }
   ],
   "source": [
    "Core._expr(:block, \n",
    "\n",
    "Core._expr(:(=), :x, Main.esc(1)), \n",
    "\n",
    "# $(\n",
    "#     QuoteNode(\n",
    "#         :(#= e:\\Projects.jl\\Training.jl\\9. Expr\\jl_notebook_cell_df34fa98e69747e1a8f8a730347b8e2f_X10sZmlsZQ==.jl:4 =#)\n",
    "#     )\n",
    "#  ), \n",
    "\n",
    "Core._expr(:quote, \n",
    "            Core._expr(:call, \n",
    "                       :+, \n",
    "                       Core._expr(:$, :x), \n",
    "                       Core._expr(:$, :x))\n",
    "          )\n",
    ")"
   ]
  },
  {
   "cell_type": "code",
   "execution_count": 17,
   "metadata": {},
   "outputs": [
    {
     "data": {
      "text/plain": [
       "true"
      ]
     },
     "metadata": {},
     "output_type": "display_data"
    }
   ],
   "source": [
    "Core._expr(:call, :+, 1, 2) == Expr(:call, :+, 1, 2)\n",
    "# 两者等价,但拼接插入到引用中时, Expr需要 $Expr, Core._expr不需要$ "
   ]
  },
  {
   "cell_type": "code",
   "execution_count": 18,
   "metadata": {},
   "outputs": [
    {
     "name": "stdout",
     "output_type": "stream",
     "text": [
      "1"
     ]
    },
    {
     "data": {
      "text/plain": [
       "quote\n",
       "    x = $(Expr(:escape, 1))\n",
       "    $(Expr(:quote, :($(Expr(:$, :x)) + $(Expr(:$, :x)))))\n",
       "end"
      ]
     },
     "metadata": {},
     "output_type": "display_data"
    }
   ],
   "source": [
    "makeex_r = @makeex 1\n",
    "Base.remove_linenums!(makeex_r)"
   ]
  },
  {
   "cell_type": "code",
   "execution_count": 19,
   "metadata": {},
   "outputs": [
    {
     "ename": "ErrorException",
     "evalue": "syntax: invalid syntax (escape 1)",
     "output_type": "error",
     "traceback": [
      "syntax: invalid syntax (escape 1)\n",
      "\n",
      "Stacktrace:\n",
      " [1] top-level scope\n",
      "   @ none:1"
     ]
    }
   ],
   "source": [
    "eval(makeex_r)"
   ]
  },
  {
   "cell_type": "code",
   "execution_count": 22,
   "metadata": {},
   "outputs": [
    {
     "name": "stdout",
     "output_type": "stream",
     "text": [
      ":(1 + 1)"
     ]
    },
    {
     "data": {
      "text/plain": [
       "quote\n",
       "    x = $(Expr(:escape, 2))\n",
       "    $(Expr(:quote, :($(Expr(:$, :x)) + $(Expr(:$, :x)))))\n",
       "end"
      ]
     },
     "metadata": {},
     "output_type": "display_data"
    }
   ],
   "source": [
    "makeex_r2 = @makeex 1 + 1\n",
    "Base.remove_linenums!(makeex_r2)"
   ]
  },
  {
   "cell_type": "code",
   "execution_count": 24,
   "metadata": {},
   "outputs": [
    {
     "ename": "ErrorException",
     "evalue": "syntax: invalid syntax (escape 2)",
     "output_type": "error",
     "traceback": [
      "syntax: invalid syntax (escape 2)\n",
      "\n",
      "Stacktrace:\n",
      " [1] top-level scope\n",
      "   @ none:1"
     ]
    }
   ],
   "source": [
    "eval(makeex_r2)"
   ]
  },
  {
   "cell_type": "markdown",
   "metadata": {},
   "source": [
    "The second case is incorrect, because we ought to keep `1 + 1` unevaluated. We fix that by quoting the argument with `Meta.quot`:<br>\n",
    "第二种情况是不正确的，因为我们应该保持 `1 + 1` 未求值。我们通过引用 `Meta.quot` 来修复这个问题："
   ]
  },
  {
   "cell_type": "code",
   "execution_count": 25,
   "metadata": {},
   "outputs": [
    {
     "data": {
      "text/plain": [
       ":($(Expr(:quote, :(1 + 1))))"
      ]
     },
     "metadata": {},
     "output_type": "display_data"
    },
    {
     "data": {
      "text/plain": [
       ":(1 + 1)"
      ]
     },
     "metadata": {},
     "output_type": "display_data"
    },
    {
     "data": {
      "text/plain": [
       "2"
      ]
     },
     "metadata": {},
     "output_type": "display_data"
    }
   ],
   "source": [
    "Meta.quot(:(1+1)) |> display\n",
    "\n",
    "eval(Meta.quot(:(1+1))) |> display\n",
    "\n",
    "eval(eval(Meta.quot(:(1+1)))) |> display"
   ]
  },
  {
   "cell_type": "code",
   "execution_count": 26,
   "metadata": {},
   "outputs": [
    {
     "data": {
      "text/plain": [
       ":($(Expr(:quote, :(1 + 1))))"
      ]
     },
     "metadata": {},
     "output_type": "display_data"
    },
    {
     "data": {
      "text/plain": [
       "true"
      ]
     },
     "metadata": {},
     "output_type": "display_data"
    }
   ],
   "source": [
    "Core._expr(:quote, :(1+1)) |> display\n",
    "\n",
    "Meta.quot(:(1+1)) == Expr(:quote, :(1 + 1)) == :(:(1+1)) == Core._expr(:quote, :(1+1))"
   ]
  },
  {
   "cell_type": "code",
   "execution_count": 27,
   "metadata": {},
   "outputs": [
    {
     "data": {
      "text/plain": [
       "quote\n",
       "    $(Expr(:quote, :(1 + 1)))\n",
       "end"
      ]
     },
     "metadata": {},
     "output_type": "display_data"
    },
    {
     "data": {
      "text/plain": [
       "\"Hello,Wang,how are you\""
      ]
     },
     "metadata": {},
     "output_type": "display_data"
    }
   ],
   "source": [
    "# :($(Expr(:quote, :(1 + 1)))) # 外括号 相当于 quote end\n",
    "Base.remove_linenums!(\n",
    "quote\n",
    "  :(1+1)  # 拼接插入到引用中时, 要用 $取值 去掉1个冒号\n",
    "end\n",
    ")  |> display\n",
    "\n",
    "# 类似的插入拼接\n",
    "name = \"Wang\"\n",
    "\"Hello,$name,how are you\" |> display #拼接插入到引号中时, 会去掉 Wang 的冒号"
   ]
  },
  {
   "cell_type": "code",
   "execution_count": 34,
   "metadata": {},
   "outputs": [
    {
     "data": {
      "text/plain": [
       "false"
      ]
     },
     "metadata": {},
     "output_type": "display_data"
    },
    {
     "data": {
      "text/plain": [
       "false"
      ]
     },
     "metadata": {},
     "output_type": "display_data"
    }
   ],
   "source": [
    "(:(:(1+1)) == quote :(1+1) end) |> display\n",
    "\n",
    "Meta.quot(:(1+1)) ==\n",
    "quote\n",
    "    $(Expr(:quote, :(1 + 1)))\n",
    "end # 实质是相等的, 两种表达方式不一样, eval看结果能看出来"
   ]
  },
  {
   "cell_type": "code",
   "execution_count": 28,
   "metadata": {},
   "outputs": [
    {
     "data": {
      "text/plain": [
       ":(1 + 1)"
      ]
     },
     "metadata": {},
     "output_type": "display_data"
    }
   ],
   "source": [
    "eval(\n",
    "quote\n",
    "    :(1+1)\n",
    "end\n",
    ")"
   ]
  },
  {
   "cell_type": "code",
   "execution_count": 29,
   "metadata": {},
   "outputs": [
    {
     "ename": "ErrorException",
     "evalue": "syntax: \"$\" expression outside quote around e:\\Projects.jl\\Training.jl\\9. Expr\\jl_notebook_cell_df34fa98e69747e1a8f8a730347b8e2f_X36sZmlsZQ==.jl:1",
     "output_type": "error",
     "traceback": [
      "syntax: \"$\" expression outside quote around e:\\Projects.jl\\Training.jl\\9. Expr\\jl_notebook_cell_df34fa98e69747e1a8f8a730347b8e2f_X36sZmlsZQ==.jl:1\n",
      "\n",
      "Stacktrace:\n",
      " [1] top-level scope\n",
      "   @ e:\\Projects.jl\\Training.jl\\9. Expr\\jl_notebook_cell_df34fa98e69747e1a8f8a730347b8e2f_X36sZmlsZQ==.jl:1"
     ]
    }
   ],
   "source": [
    ":( x = $$(Meta.quot(:(1+1))); :($x + $x) )"
   ]
  },
  {
   "cell_type": "code",
   "execution_count": 30,
   "metadata": {},
   "outputs": [
    {
     "data": {
      "text/plain": [
       "quote\n",
       "    $(Expr(:quote, quote\n",
       "    x = $(Expr(:$, :($(Expr(:quote, :(1 + 1))))))\n",
       "    $(Expr(:quote, :($(Expr(:$, :x)) + $(Expr(:$, :x)))))\n",
       "end))\n",
       "end"
      ]
     },
     "metadata": {},
     "output_type": "display_data"
    }
   ],
   "source": [
    "Base.remove_linenums!(\n",
    "quote\n",
    ":( x = $$(Meta.quot(:(1+1))); :($x + $x) )\n",
    "# Meta.quot(:(1+1)) 把接收的 1+1 表达式:(1+1) 当成整体quot处理\n",
    "# quot处理后,外加了:(),用$去掉,得到正确的表达式，然后嵌入到大括号 :()中时,还要$拼接\n",
    "\n",
    "# $$(Meta.quot()) 这个语法就是原封不动地将表达式以字面形式嵌入到引用quote中\n",
    "# $$$(Meta.quot()) 这个语法就是 表达式求值后 嵌入引用\n",
    "\n",
    "end\n",
    ")"
   ]
  },
  {
   "cell_type": "code",
   "execution_count": 31,
   "metadata": {},
   "outputs": [
    {
     "data": {
      "text/plain": [
       "true"
      ]
     },
     "metadata": {},
     "output_type": "display_data"
    }
   ],
   "source": [
    "Base.remove_linenums!(\n",
    "quote\n",
    ":( x = $$(Meta.quot(:(1+1))); :($x + $x) )\n",
    "# Meta.quot(:(1+1)) 把接收的 1+1 表达式:(1+1) 当成整体处理，quot处理\n",
    "# quot处理后,外加了:(),用$去掉,得到正确的表达式，然后嵌入到大括号 :()中时,还要$拼接\n",
    "end\n",
    ") ==\n",
    "\n",
    "Base.remove_linenums!(\n",
    "quote\n",
    ":( x = $$(Expr(:quote,:(1+1))); :($x + $x) )\n",
    "# Meta.quot(:(1+1)) 与 Expr(:quote,:(1+1))等价\n",
    "end\n",
    ")"
   ]
  },
  {
   "cell_type": "code",
   "execution_count": 32,
   "metadata": {},
   "outputs": [
    {
     "data": {
      "text/plain": [
       "quote\n",
       "    x = (Expr)(:escape, 1)\n",
       "    $(Expr(:quote, :($(Expr(:$, :x)) + $(Expr(:$, :x)))))\n",
       "end"
      ]
     },
     "metadata": {},
     "output_type": "display_data"
    }
   ],
   "source": [
    "makeex2_result =\n",
    "quote\n",
    "    x = $Expr(:escape, 1)\n",
    "    $(Expr(:quote,\n",
    "           :($(Expr(:$, :x)) + $(Expr(:$, :x)))\n",
    "          )\n",
    "     )\n",
    "end\n",
    "Base.remove_linenums!(makeex_result)"
   ]
  },
  {
   "cell_type": "code",
   "execution_count": 33,
   "metadata": {},
   "outputs": [
    {
     "data": {
      "text/plain": [
       "@makeex2 (macro with 1 method)"
      ]
     },
     "metadata": {},
     "output_type": "display_data"
    }
   ],
   "source": [
    "macro makeex2(arg)\n",
    "    @show arg    \n",
    "    @show :($arg)\n",
    "    println(\"\\n\")\n",
    "\n",
    "    @show Meta.quot(arg)\n",
    "    @show eval(eval(Meta.quot(arg)))\n",
    "    println(\"\\n\")\n",
    "\n",
    "    @show :(arg)\n",
    "    @show :($arg) == arg\n",
    "    @show Meta.quot(arg)== arg\n",
    "\n",
    "    quote\n",
    "        :( x = $$(Meta.quot(arg)); :($x + $x) )\n",
    "    end\n",
    "end"
   ]
  },
  {
   "cell_type": "code",
   "execution_count": 34,
   "metadata": {},
   "outputs": [
    {
     "name": "stdout",
     "output_type": "stream",
     "text": [
      "arg = :(1 + 1)\n",
      "$(Expr(:quote, :($(Expr(:$, :arg))))) = :(1 + 1)\n",
      "\n",
      "\n",
      "Meta.quot(arg) = :($(Expr(:quote, :(1 + 1))))\n",
      "eval(eval(Meta.quot(arg))) = 2\n",
      "\n",
      "\n",
      ":arg = :arg\n",
      "$(Expr(:quote, :($(Expr(:$, :arg))))) == arg = true\n",
      "Meta.quot(arg) == arg = false\n"
     ]
    },
    {
     "data": {
      "text/plain": [
       "quote\n",
       "    x = 1 + 1\n",
       "    \u001b[90m#= e:\\Projects.jl\\Training.jl\\9. Expr\\jl_notebook_cell_df34fa98e69747e1a8f8a730347b8e2f_X43sZmlsZQ==.jl:15 =#\u001b[39m\n",
       "    $(Expr(:quote, :($(Expr(:$, :x)) + $(Expr(:$, :x)))))\n",
       "end"
      ]
     },
     "metadata": {},
     "output_type": "display_data"
    }
   ],
   "source": [
    "@makeex2 1 + 1\n"
   ]
  },
  {
   "cell_type": "markdown",
   "metadata": {},
   "source": [
    "```julia\n",
    "@show :($arg) #为什么是：\n",
    "$(Expr(:quote, :($(Expr(:$, :arg)))))\n",
    "```\n",
    "+ `arg` 接收时是表达式，加有冒号`:()`. `:($arg)` 的括号是 `Expr(:quote,ex)`, `ex` 表达式 `<$arg>`, 即 `Expr(:$, :arg)`, `Expr` 得 `$`取值后 才能拼接插入其他引用中，`Expr(:quote,ex)` 的 `ex` 又得是表达式的本来面目, `$`取值 去掉的冒号得加用`:()`加回来.<br>\n",
    "\n",
    "+ **`@show` 显示的是 插入到其他引用的形式.** 本来是 `:(:(1+1))` 经过最左的 `$` 成了 `:(1+1)`, 和 `arg :(1+1)` 的本质不同。<br>\n",
    "\n",
    "+ **`@show` Meta.quot 或 Expr(:quote, arg)时, 是原生引用形式 (带外括号)**，不是插入到其他引用时所需的形式(去掉外括号)<br>\n",
    "\n",
    "`Meta.quot(arg) == :(:(1+1))`, 所以 **`x = $$(Meta.quot(arg))` 两次`$` 才是 arg的字面意思**"
   ]
  },
  {
   "cell_type": "code",
   "execution_count": 51,
   "metadata": {},
   "outputs": [
    {
     "data": {
      "text/plain": [
       ":($(Expr(:quote, :(1 + 1))))"
      ]
     },
     "metadata": {},
     "output_type": "display_data"
    },
    {
     "data": {
      "text/plain": [
       ":($(Expr(:quote, :(1 + 1))))"
      ]
     },
     "metadata": {},
     "output_type": "display_data"
    },
    {
     "name": "stdout",
     "output_type": "stream",
     "text": [
      "Meta.quot(arg) = :($(Expr(:quote, :(1 + 1))))\n",
      "Expr(:quote, arg) = :($(Expr(:quote, :(1 + 1))))\n"
     ]
    },
    {
     "data": {
      "text/plain": [
       ":($(Expr(:quote, :(1 + 1))))"
      ]
     },
     "metadata": {},
     "output_type": "display_data"
    }
   ],
   "source": [
    "arg = :(1+1)\n",
    "Meta.quot(arg) |> display\n",
    "Expr(:quote, arg) |> display\n",
    "\n",
    "@show Meta.quot(arg)\n",
    "@show Expr(:quote, arg) # 与Meta.quot(arg)本来就等价"
   ]
  },
  {
   "cell_type": "code",
   "execution_count": 38,
   "metadata": {},
   "outputs": [
    {
     "data": {
      "text/plain": [
       "true"
      ]
     },
     "metadata": {},
     "output_type": "display_data"
    }
   ],
   "source": [
    "Meta.quot(arg) == :(:(1+1))"
   ]
  },
  {
   "cell_type": "code",
   "execution_count": 37,
   "metadata": {},
   "outputs": [
    {
     "data": {
      "text/plain": [
       "quote\n",
       "    x = 1 + 1\n",
       "    \u001b[90m#= e:\\Projects.jl\\Training.jl\\9. Expr\\jl_notebook_cell_df34fa98e69747e1a8f8a730347b8e2f_X51sZmlsZQ==.jl:1 =#\u001b[39m\n",
       "    $(Expr(:quote, :(2 + 2)))\n",
       "end"
      ]
     },
     "metadata": {},
     "output_type": "display_data"
    }
   ],
   "source": [
    ":( x = 1 + 1; :(2 + 2) )"
   ]
  },
  {
   "cell_type": "code",
   "execution_count": 39,
   "metadata": {},
   "outputs": [
    {
     "data": {
      "text/plain": [
       ":(2 + 2)"
      ]
     },
     "metadata": {},
     "output_type": "display_data"
    },
    {
     "data": {
      "text/plain": [
       "4"
      ]
     },
     "metadata": {},
     "output_type": "display_data"
    }
   ],
   "source": [
    "eval(:( x = 1 + 1; :(2 + 2) )) |> display\n",
    "eval(eval(:( x = 1 + 1; :(2 + 2) ))) |> display"
   ]
  },
  {
   "cell_type": "markdown",
   "metadata": {},
   "source": [
    "要生成的\n",
    "```julia\n",
    ":( x = $$(Meta.quot(arg)); :($x + $x) )\n",
    "```\n",
    "为什么是\n",
    "```julia\n",
    "quote\n",
    "    x = 1 + 1    \n",
    "    $(Expr(:quote, :($(Expr(:$, :x)) + $(Expr(:$, :x)))))\n",
    "end\n",
    "```"
   ]
  },
  {
   "cell_type": "code",
   "execution_count": 40,
   "metadata": {},
   "outputs": [
    {
     "ename": "ErrorException",
     "evalue": "syntax: \"$\" expression outside quote around e:\\Projects.jl\\Training.jl\\9. Expr\\jl_notebook_cell_df34fa98e69747e1a8f8a730347b8e2f_X54sZmlsZQ==.jl:1",
     "output_type": "error",
     "traceback": [
      "syntax: \"$\" expression outside quote around e:\\Projects.jl\\Training.jl\\9. Expr\\jl_notebook_cell_df34fa98e69747e1a8f8a730347b8e2f_X54sZmlsZQ==.jl:1\n",
      "\n",
      "Stacktrace:\n",
      " [1] top-level scope\n",
      "   @ e:\\Projects.jl\\Training.jl\\9. Expr\\jl_notebook_cell_df34fa98e69747e1a8f8a730347b8e2f_X54sZmlsZQ==.jl:1"
     ]
    }
   ],
   "source": [
    "$(  # Expr都会伴随 $\n",
    "    Expr(:quote, # 碰到:(用Expr(:quote, ex), ex需要时原生表达式的样子 所以加蓝括号， 不然加号+会执行\n",
    "         :(\n",
    "            $(Expr(:$, :x)) + $(Expr(:$, :x))\n",
    "          )\n",
    "        )\n",
    ")"
   ]
  },
  {
   "cell_type": "code",
   "execution_count": 41,
   "metadata": {},
   "outputs": [
    {
     "data": {
      "text/plain": [
       ":(2 + 2)"
      ]
     },
     "metadata": {},
     "output_type": "display_data"
    }
   ],
   "source": [
    "# :( x = 1 + 1; :(2 + 2) )\n",
    "\n",
    "eval(\n",
    "\n",
    "Expr(:quote, # 碰到:(用Expr(:quote, ex), ex需要时原生表达式的样子 所以加蓝括号\n",
    "         :(\n",
    "            2 + 2\n",
    "          )\n",
    "    )\n",
    "\n",
    ")"
   ]
  },
  {
   "cell_type": "markdown",
   "metadata": {},
   "source": [
    "Macro hygiene does not apply to the contents of a quote, so escaping is not necessary in this case (and in fact not legal) in this case.<br>\n",
    "宏卫生不适用于引用的内容，因此在这种情况下不需要转义（实际上也是不合法的）。<br>\n",
    "\n",
    "As mentioned earlier, `Meta.quot` allows interpolation. So let's try that out:<br>\n",
    "如前所述， `Meta.quot` 允许插值。我们来试一下："
   ]
  },
  {
   "cell_type": "code",
   "execution_count": 42,
   "metadata": {},
   "outputs": [
    {
     "name": "stdout",
     "output_type": "stream",
     "text": [
      "arg = :(1 + $(Expr(:$, :(sin(1)))))\n",
      "$(Expr(:quote, :($(Expr(:$, :arg))))) = :(1 + $(Expr(:$, :(sin(1)))))\n",
      "\n",
      "\n",
      "Meta.quot(arg) = :($(Expr(:quote, :(1 + $(Expr(:$, :(sin(1))))))))\n",
      "eval(eval(Meta.quot(arg))) = 1.8414709848078965\n",
      "\n",
      "\n",
      ":arg = :arg\n",
      "$(Expr(:quote, :($(Expr(:$, :arg))))) == arg = true\n",
      "Meta.quot(arg) == arg = false\n"
     ]
    },
    {
     "data": {
      "text/plain": [
       "quote\n",
       "    x = 1 + 0.8414709848078965\n",
       "    \u001b[90m#= e:\\Projects.jl\\Training.jl\\9. Expr\\jl_notebook_cell_df34fa98e69747e1a8f8a730347b8e2f_X43sZmlsZQ==.jl:15 =#\u001b[39m\n",
       "    $(Expr(:quote, :($(Expr(:$, :x)) + $(Expr(:$, :x)))))\n",
       "end"
      ]
     },
     "metadata": {},
     "output_type": "display_data"
    }
   ],
   "source": [
    "@makeex2 1 + $(sin(1))"
   ]
  },
  {
   "cell_type": "code",
   "execution_count": 43,
   "metadata": {},
   "outputs": [
    {
     "name": "stdout",
     "output_type": "stream",
     "text": [
      "arg = :(1 + $(Expr(:$, :az)))\n",
      "$(Expr(:quote, :($(Expr(:$, :arg))))) = :(1 + $(Expr(:$, :az)))\n",
      "\n",
      "\n",
      "Meta.quot(arg) = :($(Expr(:quote, :(1 + $(Expr(:$, :az))))))\n"
     ]
    },
    {
     "ename": "LoadError",
     "evalue": "LoadError: UndefVarError: `az` not defined in `Main`\nSuggestion: check for spelling errors or missing imports.\nin expression starting at e:\\Projects.jl\\Training.jl\\9. Expr\\jl_notebook_cell_df34fa98e69747e1a8f8a730347b8e2f_X61sZmlsZQ==.jl:2",
     "output_type": "error",
     "traceback": [
      "LoadError: UndefVarError: `az` not defined in `Main`\n",
      "Suggestion: check for spelling errors or missing imports.\n",
      "in expression starting at e:\\Projects.jl\\Training.jl\\9. Expr\\jl_notebook_cell_df34fa98e69747e1a8f8a730347b8e2f_X61sZmlsZQ==.jl:2\n",
      "\n",
      "Stacktrace:\n",
      " [1] top-level scope\n",
      "   @ none:1"
     ]
    }
   ],
   "source": [
    "let az = 0.5\n",
    "    @makeex2 1 + $az # 为什么没有定义\n",
    "end"
   ]
  },
  {
   "cell_type": "code",
   "execution_count": 45,
   "metadata": {},
   "outputs": [
    {
     "name": "stdout",
     "output_type": "stream",
     "text": [
      "arg = :(1 + $(Expr(:$, :q)))\n",
      "$(Expr(:quote, :($(Expr(:$, :arg))))) = :(1 + $(Expr(:$, :q)))\n",
      "\n",
      "\n",
      "Meta.quot(arg) = :($(Expr(:quote, :(1 + $(Expr(:$, :q))))))\n",
      "eval(eval(Meta.quot(arg))) = 1.5\n",
      "\n",
      "\n",
      ":arg = :arg\n",
      "$(Expr(:quote, :($(Expr(:$, :arg))))) == arg = true\n",
      "Meta.quot(arg) == arg = false\n"
     ]
    },
    {
     "data": {
      "text/plain": [
       "quote\n",
       "    x = 1 + 0.5\n",
       "    \u001b[90m#= e:\\Projects.jl\\Training.jl\\9. Expr\\jl_notebook_cell_df34fa98e69747e1a8f8a730347b8e2f_X43sZmlsZQ==.jl:15 =#\u001b[39m\n",
       "    $(Expr(:quote, :($(Expr(:$, :x)) + $(Expr(:$, :x)))))\n",
       "end"
      ]
     },
     "metadata": {},
     "output_type": "display_data"
    }
   ],
   "source": [
    "q = 0.5\n",
    "@makeex2 1 + $q"
   ]
  },
  {
   "cell_type": "markdown",
   "metadata": {},
   "source": [
    "From the first example, we see that interpolation allows us to inline the `sin(1)`, instead of having the expression be a literal `sin(1)`. The second example shows that this interpolation is done in the macro invocation scope, not the macro's own scope. That's because our macro hasn't actually evaluated any code; all it's doing is generating code. The evaluation of the code (which makes its way into the expression) is done when the expression the macro generates is actually run.<br>\n",
    "\n",
    "从第一个例子中，我们看到插值允许我们内联 `sin(1)` ，而不是让表达式是文字 `sin(1)` 。第二个例子表明，这种插值是在宏调用作用域中完成的，而不是在宏自己的作用域中。这是因为我们的**宏实际上并没有计算任何代码；它所做的就是生成代码**。当宏生成的表达式实际运行时，代码的求值（进入表达式）就完成了。<br>\n",
    "\n",
    "What if we had used `QuoteNode` instead? As you may guess, since `QuoteNode` prevents interpolation from happening at all, this means it won't work.<br>\n",
    "\n",
    "如果我们用 `QuoteNode` 呢？正如您可能猜到的那样，由于 `QuoteNode` 完全阻止了插值的发生，这意味着它将不起作用。"
   ]
  },
  {
   "cell_type": "code",
   "execution_count": 52,
   "metadata": {},
   "outputs": [
    {
     "data": {
      "text/plain": [
       "@makeex3 (macro with 1 method)"
      ]
     },
     "metadata": {},
     "output_type": "display_data"
    }
   ],
   "source": [
    "macro makeex3(arg)\n",
    "    quote\n",
    "        :( x = $$(QuoteNode(arg)); :($x + $x) )\n",
    "    end\n",
    "end"
   ]
  },
  {
   "cell_type": "code",
   "execution_count": 58,
   "metadata": {},
   "outputs": [
    {
     "data": {
      "text/plain": [
       "quote\n",
       "    x = 1 + $(Expr(:$, :(sin(1))))\n",
       "    \u001b[90m#= e:\\Projects.jl\\Training.jl\\9. Expr\\jl_notebook_cell_df34fa98e69747e1a8f8a730347b8e2f_X64sZmlsZQ==.jl:3 =#\u001b[39m\n",
       "    $(Expr(:quote, :($(Expr(:$, :x)) + $(Expr(:$, :x)))))\n",
       "end"
      ]
     },
     "metadata": {},
     "output_type": "display_data"
    }
   ],
   "source": [
    "@makeex3 1 + $(sin(1))"
   ]
  },
  {
   "cell_type": "code",
   "execution_count": 56,
   "metadata": {},
   "outputs": [
    {
     "data": {
      "text/plain": [
       "quote\n",
       "    x = 1 + $(Expr(:$, :by))\n",
       "    \u001b[90m#= e:\\Projects.jl\\Training.jl\\9. Expr\\jl_notebook_cell_df34fa98e69747e1a8f8a730347b8e2f_X64sZmlsZQ==.jl:3 =#\u001b[39m\n",
       "    $(Expr(:quote, :($(Expr(:$, :x)) + $(Expr(:$, :x)))))\n",
       "end"
      ]
     },
     "metadata": {},
     "output_type": "display_data"
    }
   ],
   "source": [
    "let by = 0.5\n",
    "    @makeex3 1 + $by\n",
    "end"
   ]
  },
  {
   "cell_type": "code",
   "execution_count": 59,
   "metadata": {},
   "outputs": [
    {
     "ename": "ErrorException",
     "evalue": "syntax: \"$\" expression outside quote around e:\\Projects.jl\\Training.jl\\9. Expr\\jl_notebook_cell_df34fa98e69747e1a8f8a730347b8e2f_X64sZmlsZQ==.jl:3",
     "output_type": "error",
     "traceback": [
      "syntax: \"$\" expression outside quote around e:\\Projects.jl\\Training.jl\\9. Expr\\jl_notebook_cell_df34fa98e69747e1a8f8a730347b8e2f_X64sZmlsZQ==.jl:3\n",
      "\n",
      "Stacktrace:\n",
      " [1] top-level scope\n",
      "   @ none:1"
     ]
    }
   ],
   "source": [
    "eval(@makeex3 $(sin(1)))"
   ]
  },
  {
   "cell_type": "markdown",
   "metadata": {},
   "source": [
    "In this example, we might agree that `Meta.quot` gives greater flexibility, as it allows interpolation. So why might we ever consider using `QuoteNode`? In some cases, we may not actually desire interpolation, and **actually want the literal `$` expression**. When would that be desirable? Let's consider a generalization of `@makeex` where we can pass additional arguments determining what comes to the left and right of the `+` sign:<br>\n",
    "\n",
    "在这个例子中，我们可能会同意 `Meta.quot` 提供了更大的灵活性，因为它允许插值。那么为什么我们会考虑使用 `QuoteNode` 呢？在某些情况下，我们可能实际上不需要插值，而实际上需要文字 `$` 表达式。什么时候合适？让我们考虑 `@makeex` 的泛化，我们可以传递额外的参数来决定 `+` 符号的左右："
   ]
  },
  {
   "cell_type": "code",
   "execution_count": 93,
   "metadata": {},
   "outputs": [
    {
     "data": {
      "text/plain": [
       "@makeex4 (macro with 1 method)"
      ]
     },
     "metadata": {},
     "output_type": "display_data"
    }
   ],
   "source": [
    "macro makeex4(expr, left, right)\n",
    "    @show left\n",
    "    @show Meta.quot(left)\n",
    "    @show eval(eval(Meta.quot(left)))\n",
    "\n",
    "    quote\n",
    "        quote\n",
    "            $$(Meta.quot(expr))  # quot多1个冒号 $取值后于院表达式等同, 插入引用时要来个$, 所以两个$\n",
    "            :(\n",
    "                $(\n",
    "                   $(\n",
    "                      $(Meta.quot(left)) # (1) 与原表达式等同\n",
    "                    ) # (2) 插入引用时要来个$, or 计算表达式\n",
    "               ) + # (3) 再对表达式求值, or 插入黄色括号中\n",
    "               \n",
    "               $$$(Meta.quot(right))\n",
    "             )\n",
    "        end\n",
    "    end\n",
    "end"
   ]
  },
  {
   "cell_type": "code",
   "execution_count": 94,
   "metadata": {},
   "outputs": [
    {
     "name": "stdout",
     "output_type": "stream",
     "text": [
      "left = :(1 / 2)\n",
      "Meta.quot(left) = :($(Expr(:quote, :(1 / 2))))\n",
      "eval(eval(Meta.quot(left))) = 0.5\n"
     ]
    },
    {
     "data": {
      "text/plain": [
       "quote\n",
       "    \u001b[90m#= e:\\Projects.jl\\Training.jl\\9. Expr\\jl_notebook_cell_df34fa98e69747e1a8f8a730347b8e2f_Y102sZmlsZQ==.jl:8 =#\u001b[39m\n",
       "    x = 1\n",
       "    \u001b[90m#= e:\\Projects.jl\\Training.jl\\9. Expr\\jl_notebook_cell_df34fa98e69747e1a8f8a730347b8e2f_Y102sZmlsZQ==.jl:9 =#\u001b[39m\n",
       "    $(Expr(:quote, :($(Expr(:$, :(1 / 2))) + $(Expr(:$, :(1 / 4))))))\n",
       "end"
      ]
     },
     "metadata": {},
     "output_type": "display_data"
    }
   ],
   "source": [
    "@makeex4 x=1 1/2 1/4"
   ]
  },
  {
   "cell_type": "code",
   "execution_count": null,
   "metadata": {},
   "outputs": [],
   "source": [
    "$(\n",
    "    Expr(:quote, # 圆括号\n",
    "         :(\n",
    "            $(Expr(:$, :(1 / 2)))  \n",
    "            # :(1 / 2) 是通过 $(Meta.quot(left) 得到的\n",
    "            # Expr(:$, $(Meta.quot(left))) = $$(Meta.quot(left)) # 表达式求值\n",
    "            # $Expr(:$, $(Meta.quot(left))) = $$$(Meta.quot(left) # 执行Expr表达式 或者 叫 插入蓝色括号中\n",
    "\n",
    "            + $(Expr(:$, :(1 / 4)))\n",
    "          )\n",
    "        )\n",
    " )"
   ]
  },
  {
   "cell_type": "code",
   "execution_count": 103,
   "metadata": {},
   "outputs": [
    {
     "data": {
      "text/plain": [
       "0.5"
      ]
     },
     "metadata": {},
     "output_type": "display_data"
    },
    {
     "data": {
      "text/plain": [
       ":($(Expr(:eval, :(1 / 2))))"
      ]
     },
     "metadata": {},
     "output_type": "display_data"
    },
    {
     "ename": "ErrorException",
     "evalue": "syntax: invalid syntax (eval (call (outerref /) 1 2))",
     "output_type": "error",
     "traceback": [
      "syntax: invalid syntax (eval (call (outerref /) 1 2))\n",
      "\n",
      "Stacktrace:\n",
      " [1] top-level scope\n",
      "   @ none:1"
     ]
    }
   ],
   "source": [
    "eval(:(1 / 2)) |> display\n",
    "\n",
    "Expr(:eval, :(1 / 2)) |>display\n",
    "\n",
    "eval(Expr(:eval, :(1 / 2))) |> display\n",
    "\n",
    "Expr(:$, :(1 / 2))"
   ]
  },
  {
   "cell_type": "code",
   "execution_count": 104,
   "metadata": {},
   "outputs": [
    {
     "name": "stdout",
     "output_type": "stream",
     "text": [
      "Float64 1.5\n",
      "1.5"
     ]
    }
   ],
   "source": [
    "dump(eval(:(1 + 1 / 2)))\n",
    "\n",
    "Meta.show_sexpr(eval(:( 1+ 1 / 2)))"
   ]
  },
  {
   "cell_type": "code",
   "execution_count": 106,
   "metadata": {},
   "outputs": [
    {
     "name": "stdout",
     "output_type": "stream",
     "text": [
      "Int64 1\n"
     ]
    }
   ],
   "source": [
    "dump(eval(Meta.quot(:(1))))"
   ]
  },
  {
   "cell_type": "code",
   "execution_count": 109,
   "metadata": {},
   "outputs": [
    {
     "name": "stdout",
     "output_type": "stream",
     "text": [
      "left = :(1 / 2)\n",
      "Meta.quot(left) = :($(Expr(:quote, :(1 / 2))))\n",
      "eval(eval(Meta.quot(left))) = 0.5\n"
     ]
    },
    {
     "data": {
      "text/plain": [
       ":(0.5 + 0.25)"
      ]
     },
     "metadata": {},
     "output_type": "display_data"
    }
   ],
   "source": [
    "eval(@makeex4 x=1 1/2 1/4)"
   ]
  },
  {
   "cell_type": "code",
   "execution_count": 110,
   "metadata": {},
   "outputs": [
    {
     "name": "stdout",
     "output_type": "stream",
     "text": [
      "left = :x\n",
      "Meta.quot(left) = :(:x)\n",
      "eval(eval(Meta.quot(left))) = 1\n"
     ]
    },
    {
     "data": {
      "text/plain": [
       "quote\n",
       "    \u001b[90m#= e:\\Projects.jl\\Training.jl\\9. Expr\\jl_notebook_cell_df34fa98e69747e1a8f8a730347b8e2f_Y102sZmlsZQ==.jl:8 =#\u001b[39m\n",
       "    x = 1\n",
       "    \u001b[90m#= e:\\Projects.jl\\Training.jl\\9. Expr\\jl_notebook_cell_df34fa98e69747e1a8f8a730347b8e2f_Y102sZmlsZQ==.jl:9 =#\u001b[39m\n",
       "    $(Expr(:quote, :($(Expr(:$, :x)) + $(Expr(:$, :x)))))\n",
       "end"
      ]
     },
     "metadata": {},
     "output_type": "display_data"
    }
   ],
   "source": [
    "@makeex4 x=1 x x"
   ]
  },
  {
   "cell_type": "code",
   "execution_count": 111,
   "metadata": {},
   "outputs": [
    {
     "name": "stdout",
     "output_type": "stream",
     "text": [
      "left = :x\n",
      "Meta.quot(left) = :(:x)\n",
      "eval(eval(Meta.quot(left))) = 1\n"
     ]
    },
    {
     "data": {
      "text/plain": [
       ":(1 + 1)"
      ]
     },
     "metadata": {},
     "output_type": "display_data"
    }
   ],
   "source": [
    "eval(@makeex4 x=1 x x)"
   ]
  },
  {
   "cell_type": "code",
   "execution_count": 113,
   "metadata": {},
   "outputs": [
    {
     "name": "stdout",
     "output_type": "stream",
     "text": [
      "left = :x\n",
      "Meta.quot(left) = :(:x)\n",
      "eval(eval(Meta.quot(left))) = 1\n"
     ]
    },
    {
     "data": {
      "text/plain": [
       "quote\n",
       "    \u001b[90m#= e:\\Projects.jl\\Training.jl\\9. Expr\\jl_notebook_cell_df34fa98e69747e1a8f8a730347b8e2f_Y102sZmlsZQ==.jl:7 =#\u001b[39m\n",
       "    Core._expr(:block, $(QuoteNode(:(\u001b[90m#= e:\\Projects.jl\\Training.jl\\9. Expr\\jl_notebook_cell_df34fa98e69747e1a8f8a730347b8e2f_Y102sZmlsZQ==.jl:8 =#\u001b[39m))), $(Expr(:copyast, :($(QuoteNode(:(x = 1)))))), $(QuoteNode(:(\u001b[90m#= e:\\Projects.jl\\Training.jl\\9. Expr\\jl_notebook_cell_df34fa98e69747e1a8f8a730347b8e2f_Y102sZmlsZQ==.jl:9 =#\u001b[39m))), Core._expr(:quote, Core._expr(:call, :+, Core._expr(:$, :x), Core._expr(:$, :x))))\n",
       "end"
      ]
     },
     "metadata": {},
     "output_type": "display_data"
    }
   ],
   "source": [
    "@macroexpand @makeex4 x=1 x x"
   ]
  },
  {
   "cell_type": "code",
   "execution_count": null,
   "metadata": {},
   "outputs": [],
   "source": [
    "Core._expr(:block, \n",
    "    $(QuoteNode(\n",
    "                :(#= e:\\Projects.jl\\Training.jl\\9. Expr\\jl_notebook_cell_df34fa98e69747e1a8f8a730347b8e2f_Y101sZmlsZQ==.jl:4 =#)\n",
    "               )\n",
    "     ), \n",
    "     \n",
    "    $(Expr(:copyast, # $$(Meta.quot(expr))的最终效果是输入参数表达式字面相同插入到这, 相当于复制Expr(:copyast, ex)\n",
    "           :(\n",
    "             $(QuoteNode(:(x = 1)))\n",
    "            )\n",
    "          )\n",
    "     ), \n",
    "    \n",
    "    $(QuoteNode(\n",
    "                :(#= e:\\Projects.jl\\Training.jl\\9. Expr\\jl_notebook_cell_df34fa98e69747e1a8f8a730347b8e2f_Y101sZmlsZQ==.jl:5 =#)\n",
    "               )\n",
    "     ), \n",
    "     \n",
    "     Core._expr(:quote, \n",
    "                 Core._expr(:call, \n",
    "                            :+, \n",
    "                            Core._expr(:$, :x), Core._expr(:$, :x))\n",
    "               )\n",
    ")"
   ]
  },
  {
   "cell_type": "code",
   "execution_count": null,
   "metadata": {},
   "outputs": [],
   "source": [
    "$(\n",
    "Expr(:copyast, # $$(Meta.quot(expr))的最终效果是输入参数表达式字面相同插入到这, 相当于复制Expr(:copyast, ex)\n",
    "     :(\n",
    "        $(QuoteNode(:(x = 1))) # (1)相当于 :(x=1)\n",
    "      )  # (2) 相当于 :(:(x=1))\n",
    "    )\n",
    ") # (3) 相当于 :(x=1)"
   ]
  },
  {
   "cell_type": "code",
   "execution_count": 115,
   "metadata": {},
   "outputs": [
    {
     "data": {
      "text/plain": [
       ":($(Expr(:copyast, 2)))"
      ]
     },
     "metadata": {},
     "output_type": "display_data"
    }
   ],
   "source": [
    "Expr(:copyast, (1+1))"
   ]
  },
  {
   "cell_type": "code",
   "execution_count": 116,
   "metadata": {},
   "outputs": [
    {
     "data": {
      "text/plain": [
       ":(1 + 1)"
      ]
     },
     "metadata": {},
     "output_type": "display_data"
    }
   ],
   "source": [
    "eval(\n",
    "\n",
    "Expr(:copyast, \n",
    "           :(\n",
    "             $(QuoteNode(:(1+1))) # (1)相当于 :(1+1)\n",
    "            )  # (2) 相当于 :(:(1+1)), 加蓝色括号是保护起来, 否则会计算得2\n",
    ")\n",
    "\n",
    ") # 多加了蓝色括号, $(相当于eval)复原"
   ]
  },
  {
   "cell_type": "code",
   "execution_count": 118,
   "metadata": {},
   "outputs": [
    {
     "data": {
      "text/plain": [
       "quote\n",
       "    x = 1\n",
       "    1 + 1\n",
       "end"
      ]
     },
     "metadata": {},
     "output_type": "display_data"
    }
   ],
   "source": [
    "Core._expr(:block,\n",
    ":(x = 1),\n",
    ":(1 + 1),\n",
    ")\n",
    "\n",
    "# 与quote ... end (已有引号) 不同，\n",
    "# Core._expr() 括号中的参数不用去引号 因为不是引号拼接 "
   ]
  },
  {
   "cell_type": "code",
   "execution_count": 119,
   "metadata": {},
   "outputs": [
    {
     "data": {
      "text/plain": [
       "2"
      ]
     },
     "metadata": {},
     "output_type": "display_data"
    }
   ],
   "source": [
    "eval(\n",
    "\n",
    "Core._expr(:block,\n",
    ":(x = 1),\n",
    ":(1 + 1),\n",
    ")\n",
    "\n",
    ")"
   ]
  },
  {
   "cell_type": "markdown",
   "metadata": {},
   "source": [
    "A limitation of our implementation of `@makeex4` is that we can't use expressions as either the left and right sides of the expression directly, because they get interpolated. In other words, **the expressions may get evaluated for interpolation, but we might want them preserved**. (Since there are many levels of quoting and evaluation here, let us clarify: our macro generates code that constructs an expression that when evaluated produces another expression. Phew!)<br>\n",
    "\n",
    " `@makeex4` 实现的一个限制是，我们不能直接使用表达式作为表达式的左右两边，因为它们会被内插。换句话说，表达式可能会为插值求值，但我们可能希望保留它们。(因为这里有很多层次的引用和求值，让我们澄清一下：我们的**宏生成的代码构造了一个表达式，当求值时会产生另一个表达式**。唷!)"
   ]
  },
  {
   "cell_type": "code",
   "execution_count": 121,
   "metadata": {},
   "outputs": [
    {
     "name": "stdout",
     "output_type": "stream",
     "text": [
      "left = :(x / 2)\n",
      "Meta.quot(left) = :($(Expr(:quote, :(x / 2))))\n",
      "eval(eval(Meta.quot(left))) = 0.5\n"
     ]
    },
    {
     "data": {
      "text/plain": [
       "quote\n",
       "    \u001b[90m#= e:\\Projects.jl\\Training.jl\\9. Expr\\jl_notebook_cell_df34fa98e69747e1a8f8a730347b8e2f_Y102sZmlsZQ==.jl:8 =#\u001b[39m\n",
       "    x = 1\n",
       "    \u001b[90m#= e:\\Projects.jl\\Training.jl\\9. Expr\\jl_notebook_cell_df34fa98e69747e1a8f8a730347b8e2f_Y102sZmlsZQ==.jl:9 =#\u001b[39m\n",
       "    $(Expr(:quote, :($(Expr(:$, :(x / 2))) + $(Expr(:$, :x)))))\n",
       "end"
      ]
     },
     "metadata": {},
     "output_type": "display_data"
    }
   ],
   "source": [
    "@makeex4 x=1 x/2 x"
   ]
  },
  {
   "cell_type": "code",
   "execution_count": 122,
   "metadata": {},
   "outputs": [
    {
     "name": "stdout",
     "output_type": "stream",
     "text": [
      "left = :(x / 2)\n",
      "Meta.quot(left) = :($(Expr(:quote, :(x / 2))))\n",
      "eval(eval(Meta.quot(left))) = 0.5\n"
     ]
    },
    {
     "data": {
      "text/plain": [
       ":(0.5 + 1)"
      ]
     },
     "metadata": {},
     "output_type": "display_data"
    }
   ],
   "source": [
    "eval(@makeex4 x=1 x/2 x)"
   ]
  },
  {
   "cell_type": "code",
   "execution_count": 123,
   "metadata": {},
   "outputs": [
    {
     "name": "stdout",
     "output_type": "stream",
     "text": [
      "left = :(1 / 2)\n",
      "Meta.quot(left) = :($(Expr(:quote, :(1 / 2))))\n",
      "eval(eval(Meta.quot(left))) = 0.5\n"
     ]
    },
    {
     "data": {
      "text/plain": [
       ":(0.5 + 0.25)"
      ]
     },
     "metadata": {},
     "output_type": "display_data"
    }
   ],
   "source": [
    "eval(@makeex4 x=1 1/2 1/4)"
   ]
  },
  {
   "cell_type": "markdown",
   "metadata": {},
   "source": [
    "We ought to allow the user to specify when interpolation is to happen, and when it shouldn't. Theoretically, that's an easy fix: we can just remove one of the `$` signs in our application, and let the user contribute their own. What this means is that we interpolate a quoted version of the expression entered by the user (which we've already quoted and interpolated once). This leads to the following code, which can be a little confusing at first, due to the multiple nested levels of quoting and unquoting. Try to read and understand what each escape is for.<br>\n",
    "\n",
    "我们应该允许用户指定何时进行插值，何时不进行插值。从理论上讲，这是一个简单的解决方案：我们可以在应用程序中删除一个 `$` 标志，并让用户贡献他们自己的标志。这意味着我们插入了用户输入的表达式的引号版本（我们已经引用并插入了一次）。这导致了下面的代码，由于多个嵌套的引用和取消引用级别，一开始可能会让人有点困惑。试着阅读并理解每个逃避的目的。"
   ]
  },
  {
   "cell_type": "code",
   "execution_count": 124,
   "metadata": {},
   "outputs": [
    {
     "data": {
      "text/plain": [
       "@makeex5_pre_test (macro with 1 method)"
      ]
     },
     "metadata": {},
     "output_type": "display_data"
    }
   ],
   "source": [
    "macro makeex5_pre_test(expr, left, right)\n",
    "    @show Meta.quot(left)\n",
    "    # @show Meta.quot($(Meta.quot(left))) # Error \"$\" expression outside quote\n",
    "\n",
    "    # Meta.quot(left) 外加1层 如两层冒号, $(Meta.quot(left)) 1层冒号\n",
    "    quote\n",
    "        quote\n",
    "            $$(Meta.quot(expr))\n",
    "            :(\n",
    "                $$(Meta.quot(Meta.quot(left))) + $$(Meta.quot(Meta.quot(right)))\n",
    "             )\n",
    "        end\n",
    "    end\n",
    "end"
   ]
  },
  {
   "cell_type": "code",
   "execution_count": 125,
   "metadata": {},
   "outputs": [
    {
     "name": "stdout",
     "output_type": "stream",
     "text": [
      "Meta.quot(left) = :($(Expr(:quote, :(1 / 2))))\n"
     ]
    },
    {
     "ename": "UndefVarError",
     "evalue": "UndefVarError: `left` not defined in `Main`\nSuggestion: check for spelling errors or missing imports.",
     "output_type": "error",
     "traceback": [
      "UndefVarError: `left` not defined in `Main`\n",
      "Suggestion: check for spelling errors or missing imports.\n",
      "\n",
      "Stacktrace:\n",
      " [1] macro expansion\n",
      "   @ e:\\Projects.jl\\Training.jl\\9. Expr\\jl_notebook_cell_df34fa98e69747e1a8f8a730347b8e2f_Y130sZmlsZQ==.jl:7 [inlined]\n",
      " [2] top-level scope\n",
      "   @ e:\\Projects.jl\\Training.jl\\9. Expr\\jl_notebook_cell_df34fa98e69747e1a8f8a730347b8e2f_Y131sZmlsZQ==.jl:1"
     ]
    }
   ],
   "source": [
    "@makeex5_pre_test x=1 1/2 1/4"
   ]
  },
  {
   "cell_type": "code",
   "execution_count": 126,
   "metadata": {},
   "outputs": [
    {
     "name": "stdout",
     "output_type": "stream",
     "text": [
      "Meta.quot(left) = :($(Expr(:quote, :(1 / 2))))\n"
     ]
    },
    {
     "data": {
      "text/plain": [
       "quote\n",
       "    \u001b[90m#= e:\\Projects.jl\\Training.jl\\9. Expr\\jl_notebook_cell_df34fa98e69747e1a8f8a730347b8e2f_Y130sZmlsZQ==.jl:7 =#\u001b[39m\n",
       "    Core._expr(:block, $(QuoteNode(:(\u001b[90m#= e:\\Projects.jl\\Training.jl\\9. Expr\\jl_notebook_cell_df34fa98e69747e1a8f8a730347b8e2f_Y130sZmlsZQ==.jl:8 =#\u001b[39m))), $(Expr(:copyast, :($(QuoteNode(:(x = 1)))))), $(QuoteNode(:(\u001b[90m#= e:\\Projects.jl\\Training.jl\\9. Expr\\jl_notebook_cell_df34fa98e69747e1a8f8a730347b8e2f_Y130sZmlsZQ==.jl:9 =#\u001b[39m))), Core._expr(:quote, Core._expr(:call, :+, Core._expr(:$, (Main.Meta).quot((Main.Meta).quot(Main.left))), Core._expr(:$, (Main.Meta).quot((Main.Meta).quot(Main.right))))))\n",
       "end"
      ]
     },
     "metadata": {},
     "output_type": "display_data"
    }
   ],
   "source": [
    "@macroexpand @makeex5_pre_test x=1 1/2 1/4"
   ]
  },
  {
   "cell_type": "code",
   "execution_count": 128,
   "metadata": {},
   "outputs": [
    {
     "ename": "ErrorException",
     "evalue": "syntax: \"$\" expression outside quote around e:\\Projects.jl\\Training.jl\\9. Expr\\jl_notebook_cell_df34fa98e69747e1a8f8a730347b8e2f_Y133sZmlsZQ==.jl:1",
     "output_type": "error",
     "traceback": [
      "syntax: \"$\" expression outside quote around e:\\Projects.jl\\Training.jl\\9. Expr\\jl_notebook_cell_df34fa98e69747e1a8f8a730347b8e2f_Y133sZmlsZQ==.jl:1\n",
      "\n",
      "Stacktrace:\n",
      " [1] top-level scope\n",
      "   @ e:\\Projects.jl\\Training.jl\\9. Expr\\jl_notebook_cell_df34fa98e69747e1a8f8a730347b8e2f_Y133sZmlsZQ==.jl:1"
     ]
    }
   ],
   "source": [
    "Core._expr(:block, \n",
    "$(QuoteNode(\n",
    "            :(#= e:\\Projects.jl\\Training.jl\\9. Expr\\jl_notebook_cell_df34fa98e69747e1a8f8a730347b8e2f_Y144sZmlsZQ==.jl:8 =#)\n",
    "           )\n",
    " ), \n",
    " \n",
    " $(Expr(:copyast, \n",
    "        :(\n",
    "            $(QuoteNode(:(x = 1)))\n",
    "         )\n",
    "       )\n",
    "  ), \n",
    "  \n",
    "  $(QuoteNode(\n",
    "              :(#= e:\\Projects.jl\\Training.jl\\9. Expr\\jl_notebook_cell_df34fa98e69747e1a8f8a730347b8e2f_Y144sZmlsZQ==.jl:9 =#)\n",
    "             )\n",
    "   ), \n",
    "   \n",
    "   Core._expr(:quote, \n",
    "              Core._expr(:call, \n",
    "                         :+, \n",
    "\n",
    "                         Core._expr(:$, \n",
    "                                    (Main.Meta).quot( # 这里为什么就是(Main.Meta) 和 (Main.left)\n",
    "                                                      (Main.Meta).quot(Main.left)\n",
    "                                                    )\n",
    "                                   ), \n",
    "\n",
    "                         Core._expr(:$, \n",
    "                                    (Main.Meta).quot(\n",
    "                                                      (Main.Meta).quot(Main.right)\n",
    "                                                    )\n",
    "                                   )\n",
    "                        )\n",
    "             )\n",
    ")"
   ]
  },
  {
   "cell_type": "code",
   "execution_count": 130,
   "metadata": {},
   "outputs": [
    {
     "data": {
      "text/plain": [
       "@makeex5 (macro with 1 method)"
      ]
     },
     "metadata": {},
     "output_type": "display_data"
    }
   ],
   "source": [
    "macro makeex5(expr, left, right)\n",
    "    @show Meta.quot(left)\n",
    "    # @show Meta.quot($(Meta.quot(left))) # Error \"$\" expression outside quote\n",
    "    \n",
    "    println(\"\\n\")\n",
    "    @show :(Meta.quot($(Meta.quot(left)))) \n",
    "\n",
    "    # Meta.quot(left) 外加1层 如两层冒号, $(Meta.quot(left)) 1层冒号\n",
    "    quote\n",
    "        quote\n",
    "            $$(Meta.quot(expr))\n",
    "            :(\n",
    "                $$(Meta.quot($(Meta.quot(left)))) + $$(Meta.quot($(Meta.quot(right))))\n",
    "             )\n",
    "        end\n",
    "    end\n",
    "end"
   ]
  },
  {
   "cell_type": "code",
   "execution_count": 131,
   "metadata": {},
   "outputs": [
    {
     "name": "stdout",
     "output_type": "stream",
     "text": [
      "Meta.quot(left) = :($(Expr(:quote, :(1 / 2))))\n",
      "\n",
      "\n",
      "$(Expr(:quote, :(Meta.quot($(Expr(:$, :(Meta.quot(left)))))))) = :(Meta.quot($(Expr(:quote, :(1 / 2)))))\n"
     ]
    },
    {
     "data": {
      "text/plain": [
       "quote\n",
       "    \u001b[90m#= e:\\Projects.jl\\Training.jl\\9. Expr\\jl_notebook_cell_df34fa98e69747e1a8f8a730347b8e2f_Y134sZmlsZQ==.jl:11 =#\u001b[39m\n",
       "    x = 1\n",
       "    \u001b[90m#= e:\\Projects.jl\\Training.jl\\9. Expr\\jl_notebook_cell_df34fa98e69747e1a8f8a730347b8e2f_Y134sZmlsZQ==.jl:12 =#\u001b[39m\n",
       "    $(Expr(:quote, :($(Expr(:$, :($(Expr(:quote, :(1 / 2)))))) + $(Expr(:$, :($(Expr(:quote, :(1 / 4)))))))))\n",
       "end"
      ]
     },
     "metadata": {},
     "output_type": "display_data"
    }
   ],
   "source": [
    "@makeex5 x=1 1/2 1/4"
   ]
  },
  {
   "cell_type": "code",
   "execution_count": 188,
   "metadata": {},
   "outputs": [
    {
     "data": {
      "text/plain": [
       ":($(Expr(:quote, :(1 / 2))))"
      ]
     },
     "metadata": {},
     "output_type": "display_data"
    },
    {
     "data": {
      "text/plain": [
       ":(1 / 2)"
      ]
     },
     "metadata": {},
     "output_type": "display_data"
    },
    {
     "data": {
      "text/plain": [
       ":($(Expr(:quote, :(1 / 2))))"
      ]
     },
     "metadata": {},
     "output_type": "display_data"
    },
    {
     "data": {
      "text/plain": [
       "\"上行为 again\""
      ]
     },
     "metadata": {},
     "output_type": "display_data"
    },
    {
     "data": {
      "text/plain": [
       ":(1 / 2)"
      ]
     },
     "metadata": {},
     "output_type": "display_data"
    },
    {
     "data": {
      "text/plain": [
       "0.5"
      ]
     },
     "metadata": {},
     "output_type": "display_data"
    },
    {
     "data": {
      "text/plain": [
       "true"
      ]
     },
     "metadata": {},
     "output_type": "display_data"
    }
   ],
   "source": [
    "Expr(:quote, :(1/2)) |> display\n",
    "eval(Expr(:quote, :(1/2))) |> display\n",
    "\n",
    "# 二重quot\n",
    "again = Expr(:quote, :(1/2)) \n",
    "again |> display\n",
    "\"上行为 again\" |> display\n",
    "\n",
    "eval(again) |> display\n",
    "eval(eval(again)) |> display\n",
    "\n",
    "\n",
    ":(Meta.quot($(Expr(:quote, :(1 / 2))))) == :(Meta.quot($(Meta.quot(:(1 / 2)))))"
   ]
  },
  {
   "cell_type": "code",
   "execution_count": 192,
   "metadata": {},
   "outputs": [
    {
     "data": {
      "text/plain": [
       ":(eval(1 / 2) + eval(1 / 4))"
      ]
     },
     "metadata": {},
     "output_type": "display_data"
    }
   ],
   "source": [
    ":(eval(1/2) + eval(1/4))"
   ]
  },
  {
   "cell_type": "code",
   "execution_count": 132,
   "metadata": {},
   "outputs": [
    {
     "name": "stdout",
     "output_type": "stream",
     "text": [
      "Meta.quot(left) = :($(Expr(:quote, :(1 / 2))))\n",
      "\n",
      "\n",
      "$(Expr(:quote, :(Meta.quot($(Expr(:$, :(Meta.quot(left)))))))) = :(Meta.quot($(Expr(:quote, :(1 / 2)))))\n"
     ]
    },
    {
     "data": {
      "text/plain": [
       ":(1 / 2 + 1 / 4)"
      ]
     },
     "metadata": {},
     "output_type": "display_data"
    }
   ],
   "source": [
    "eval(@makeex5 x=1 1/2 1/4)  # 为什么 结果不是 (0.5 + 0.25) ???"
   ]
  },
  {
   "cell_type": "code",
   "execution_count": 134,
   "metadata": {},
   "outputs": [
    {
     "name": "stdout",
     "output_type": "stream",
     "text": [
      "Meta.quot(left) = :($(Expr(:quote, :(1 / 2))))\n",
      "\n",
      "\n",
      "$(Expr(:quote, :(Meta.quot($(Expr(:$, :(Meta.quot(left)))))))) = :(Meta.quot($(Expr(:quote, :(1 / 2)))))\n"
     ]
    },
    {
     "data": {
      "text/plain": [
       "quote\n",
       "    \u001b[90m#= e:\\Projects.jl\\Training.jl\\9. Expr\\jl_notebook_cell_df34fa98e69747e1a8f8a730347b8e2f_Y134sZmlsZQ==.jl:10 =#\u001b[39m\n",
       "    Core._expr(:block, $(QuoteNode(:(\u001b[90m#= e:\\Projects.jl\\Training.jl\\9. Expr\\jl_notebook_cell_df34fa98e69747e1a8f8a730347b8e2f_Y134sZmlsZQ==.jl:11 =#\u001b[39m))), $(Expr(:copyast, :($(QuoteNode(:(x = 1)))))), $(QuoteNode(:(\u001b[90m#= e:\\Projects.jl\\Training.jl\\9. Expr\\jl_notebook_cell_df34fa98e69747e1a8f8a730347b8e2f_Y134sZmlsZQ==.jl:12 =#\u001b[39m))), Core._expr(:quote, Core._expr(:call, :+, Core._expr(:$, (Main.Meta).quot($(Expr(:copyast, :($(QuoteNode(:(1 / 2)))))))), Core._expr(:$, (Main.Meta).quot($(Expr(:copyast, :($(QuoteNode(:(1 / 4)))))))))))\n",
       "end"
      ]
     },
     "metadata": {},
     "output_type": "display_data"
    }
   ],
   "source": [
    "@macroexpand @makeex5 x=1 1/2 1/4"
   ]
  },
  {
   "cell_type": "code",
   "execution_count": 135,
   "metadata": {},
   "outputs": [
    {
     "ename": "ErrorException",
     "evalue": "syntax: \"$\" expression outside quote around e:\\Projects.jl\\Training.jl\\9. Expr\\jl_notebook_cell_df34fa98e69747e1a8f8a730347b8e2f_Y143sZmlsZQ==.jl:1",
     "output_type": "error",
     "traceback": [
      "syntax: \"$\" expression outside quote around e:\\Projects.jl\\Training.jl\\9. Expr\\jl_notebook_cell_df34fa98e69747e1a8f8a730347b8e2f_Y143sZmlsZQ==.jl:1\n",
      "\n",
      "Stacktrace:\n",
      " [1] top-level scope\n",
      "   @ e:\\Projects.jl\\Training.jl\\9. Expr\\jl_notebook_cell_df34fa98e69747e1a8f8a730347b8e2f_Y143sZmlsZQ==.jl:1"
     ]
    }
   ],
   "source": [
    "Core._expr(:block, \n",
    "\n",
    "# $(QuoteNode(\n",
    "#             :(#= e:\\Projects.jl\\Training.jl\\9. Expr\\jl_notebook_cell_df34fa98e69747e1a8f8a730347b8e2f_Y123sZmlsZQ==.jl:8 =#)\n",
    "#            )), \n",
    "\n",
    "# $$(Meta.quot(expr))是：\n",
    "$(\n",
    "    Expr(:copyast,\n",
    "         :(\n",
    "            $(QuoteNode(:(x = 1)))\n",
    "          )\n",
    "        )\n",
    " ), \n",
    "\n",
    "# $(QuoteNode(\n",
    "#             :(#= e:\\Projects.jl\\Training.jl\\9. Expr\\jl_notebook_cell_df34fa98e69747e1a8f8a730347b8e2f_Y123sZmlsZQ==.jl:9 =#)\n",
    "#            )), \n",
    "\n",
    "\n",
    "# :(\n",
    "#    $$(Meta.quot($(Meta.quot(left)))) + $$(Meta.quot($(Meta.quot(right))))\n",
    "# ) 是：\n",
    "Core._expr(:quote,\n",
    " \n",
    "           Core._expr(:call, \n",
    "                      :+, \n",
    "\n",
    "\n",
    "                      Core._expr(:$, \n",
    "                                 (Main.Meta).quot(\n",
    "                                    $(Expr(:copyast, \n",
    "                                           :($(QuoteNode(\n",
    "                                                          :(1 / 2) # 相当于$(Meta.quot(left))\n",
    "                                                        )\n",
    "                                              ) # 这步相当于白干\n",
    "                                            )\n",
    "                                          )\n",
    "                                     ) # 复制 \n",
    "                                 ) # quot\n",
    "                                ), # 第1次$\n",
    "\n",
    "                      Core._expr(:$, \n",
    "                                 (Main.Meta).quot(\n",
    "                                     $(Expr(:copyast, \n",
    "                                            :($(QuoteNode(:(1 / 4))))\n",
    "                                           )\n",
    "                                      )\n",
    "                                 )\n",
    "                                )\n",
    "                     )\n",
    "         )\n",
    ")"
   ]
  },
  {
   "cell_type": "code",
   "execution_count": 136,
   "metadata": {},
   "outputs": [
    {
     "ename": "ErrorException",
     "evalue": "syntax: \"$\" expression outside quote around e:\\Projects.jl\\Training.jl\\9. Expr\\jl_notebook_cell_df34fa98e69747e1a8f8a730347b8e2f_Y144sZmlsZQ==.jl:1",
     "output_type": "error",
     "traceback": [
      "syntax: \"$\" expression outside quote around e:\\Projects.jl\\Training.jl\\9. Expr\\jl_notebook_cell_df34fa98e69747e1a8f8a730347b8e2f_Y144sZmlsZQ==.jl:1\n",
      "\n",
      "Stacktrace:\n",
      " [1] top-level scope\n",
      "   @ e:\\Projects.jl\\Training.jl\\9. Expr\\jl_notebook_cell_df34fa98e69747e1a8f8a730347b8e2f_Y144sZmlsZQ==.jl:1"
     ]
    }
   ],
   "source": [
    "quote\n",
    "$(\n",
    "    Expr(:copyast,\n",
    "         :(\n",
    "            $(QuoteNode(\n",
    "                         # $(Meta.quot(left))\n",
    "                         Core._expr(:$,\n",
    "                                    (Main.Meta).quot(:(1 / 2))\n",
    "                                   )\n",
    "                       )\n",
    "             )\n",
    "          )\n",
    "        )\n",
    " ) \n",
    "end ==\n",
    " Core._expr(:$, \n",
    "                                 (Main.Meta).quot(\n",
    "                                    $(Expr(:copyast, \n",
    "                                           :($(QuoteNode(:(1 / 2))))\n",
    "                                          )\n",
    "                                     )\n",
    "                                 )\n",
    "                                )"
   ]
  },
  {
   "cell_type": "code",
   "execution_count": 143,
   "metadata": {},
   "outputs": [
    {
     "name": "stdout",
     "output_type": "stream",
     "text": [
      "Meta.quot(left) = :($(Expr(:quote, :($(Expr(:$, :y))))))\n",
      "\n",
      "\n",
      "$(Expr(:quote, :(Meta.quot($(Expr(:$, :(Meta.quot(left)))))))) = :(Meta.quot($(Expr(:quote, :($(Expr(:$, :y)))))))\n"
     ]
    },
    {
     "ename": "UndefVarError",
     "evalue": "UndefVarError: `y` not defined in `Main`\nSuggestion: check for spelling errors or missing imports.",
     "output_type": "error",
     "traceback": [
      "UndefVarError: `y` not defined in `Main`\n",
      "Suggestion: check for spelling errors or missing imports.\n",
      "\n",
      "Stacktrace:\n",
      " [1] macro expansion\n",
      "   @ e:\\Projects.jl\\Training.jl\\9. Expr\\jl_notebook_cell_df34fa98e69747e1a8f8a730347b8e2f_Y134sZmlsZQ==.jl:10 [inlined]\n",
      " [2] top-level scope\n",
      "   @ e:\\Projects.jl\\Training.jl\\9. Expr\\jl_notebook_cell_df34fa98e69747e1a8f8a730347b8e2f_Y145sZmlsZQ==.jl:1"
     ]
    }
   ],
   "source": [
    "@makeex5 y=1 $y $y  # 这样 宏没有执行 y=1赋值语句, 所以`y` not defined in `Main`"
   ]
  },
  {
   "cell_type": "code",
   "execution_count": 144,
   "metadata": {},
   "outputs": [
    {
     "data": {
      "text/plain": [
       "@makeex55 (macro with 1 method)"
      ]
     },
     "metadata": {},
     "output_type": "display_data"
    }
   ],
   "source": [
    "macro makeex55(expr, left, right)\n",
    "    @show Meta.quot(left)\n",
    "    # @show Meta.quot($(Meta.quot(left))) # Error \"$\" expression outside quote\n",
    "\n",
    "    # Meta.quot(left) 外加1层 如两层冒号, $(Meta.quot(left)) 1层冒号\n",
    "    quote\n",
    "        quote\n",
    "            $$(Meta.quot(expr))\n",
    "            :(\n",
    "                $$(Meta.quot(left)) + $$(Meta.quot(right))\n",
    "             )\n",
    "        end\n",
    "    end\n",
    "end"
   ]
  },
  {
   "cell_type": "code",
   "execution_count": 145,
   "metadata": {},
   "outputs": [
    {
     "name": "stdout",
     "output_type": "stream",
     "text": [
      "Meta.quot(left) = :($(Expr(:quote, :(1 / 2))))\n"
     ]
    },
    {
     "ename": "UndefVarError",
     "evalue": "UndefVarError: `left` not defined in `Main`\nSuggestion: check for spelling errors or missing imports.",
     "output_type": "error",
     "traceback": [
      "UndefVarError: `left` not defined in `Main`\n",
      "Suggestion: check for spelling errors or missing imports.\n",
      "\n",
      "Stacktrace:\n",
      " [1] top-level scope\n",
      "   @ e:\\Projects.jl\\Training.jl\\9. Expr\\jl_notebook_cell_df34fa98e69747e1a8f8a730347b8e2f_Y146sZmlsZQ==.jl:7"
     ]
    }
   ],
   "source": [
    "eval(@makeex55 x=1 1/2 1/4) \n",
    "# @macroexpand @makeex55 x=1 1/2 1/4 展开的表达式里有 Main.left (目前 Main里还不存在)"
   ]
  },
  {
   "cell_type": "code",
   "execution_count": 146,
   "metadata": {},
   "outputs": [
    {
     "name": "stdout",
     "output_type": "stream",
     "text": [
      "Meta.quot(left) = :($(Expr(:quote, :(1 / 2))))\n"
     ]
    },
    {
     "data": {
      "text/plain": [
       "quote\n",
       "    \u001b[90m#= e:\\Projects.jl\\Training.jl\\9. Expr\\jl_notebook_cell_df34fa98e69747e1a8f8a730347b8e2f_Y146sZmlsZQ==.jl:7 =#\u001b[39m\n",
       "    Core._expr(:block, $(QuoteNode(:(\u001b[90m#= e:\\Projects.jl\\Training.jl\\9. Expr\\jl_notebook_cell_df34fa98e69747e1a8f8a730347b8e2f_Y146sZmlsZQ==.jl:8 =#\u001b[39m))), $(Expr(:copyast, :($(QuoteNode(:(x = 1)))))), $(QuoteNode(:(\u001b[90m#= e:\\Projects.jl\\Training.jl\\9. Expr\\jl_notebook_cell_df34fa98e69747e1a8f8a730347b8e2f_Y146sZmlsZQ==.jl:9 =#\u001b[39m))), Core._expr(:quote, Core._expr(:call, :+, Core._expr(:$, (Main.Meta).quot(Main.left)), Core._expr(:$, (Main.Meta).quot(Main.right)))))\n",
       "end"
      ]
     },
     "metadata": {},
     "output_type": "display_data"
    }
   ],
   "source": [
    "@macroexpand @makeex55 x=1 1/2 1/4"
   ]
  },
  {
   "cell_type": "markdown",
   "metadata": {},
   "source": [
    "Things started well, but something has gone wrong. The macro's generated code is trying to interpolate the copy of `y` in the macro invocation scope; but there is no copy of `y` in the macro invocation scope. Our error is allowing interpolation with the second and third arguments in the macro. To fix this error, we must use `QuoteNode`.<br>\n",
    "\n",
    "事情开始很顺利，但后来出了问题。宏生成的代码试图在宏调用范围内插入 `y` 的副本；但是在宏调用作用域中没有 `y` 的副本。我们的错误是允许在宏中使用第二个和第三个参数进行插值。要修复这个错误，我们必须使用 `QuoteNode` 。"
   ]
  },
  {
   "cell_type": "code",
   "execution_count": 1,
   "metadata": {},
   "outputs": [
    {
     "data": {
      "text/plain": [
       "@makeex6 (macro with 1 method)"
      ]
     },
     "metadata": {},
     "output_type": "display_data"
    }
   ],
   "source": [
    "macro makeex6(expr, left, right)\n",
    "    quote\n",
    "        quote\n",
    "            $$(Meta.quot(expr))\n",
    "            :($$(Meta.quot($(QuoteNode(left)))) + $$(Meta.quot($(QuoteNode(right)))))\n",
    "        end\n",
    "    end\n",
    "end"
   ]
  },
  {
   "cell_type": "code",
   "execution_count": 2,
   "metadata": {},
   "outputs": [
    {
     "data": {
      "text/plain": [
       "quote\n",
       "    \u001b[90m#= e:\\Projects.jl\\Training.jl\\9. Expr\\jl_notebook_cell_df34fa98e69747e1a8f8a730347b8e2f_Y155sZmlsZQ==.jl:4 =#\u001b[39m\n",
       "    zz = 1\n",
       "    \u001b[90m#= e:\\Projects.jl\\Training.jl\\9. Expr\\jl_notebook_cell_df34fa98e69747e1a8f8a730347b8e2f_Y155sZmlsZQ==.jl:5 =#\u001b[39m\n",
       "    $(Expr(:quote, :($(Expr(:$, :($(Expr(:quote, :(1 + $(Expr(:$, :zz)))))))) + $(Expr(:$, :($(Expr(:quote, :($(Expr(:$, :zz)))))))))))\n",
       "end"
      ]
     },
     "metadata": {},
     "output_type": "display_data"
    }
   ],
   "source": [
    "@makeex6 zz=1 1+$zz $zz"
   ]
  },
  {
   "cell_type": "code",
   "execution_count": null,
   "metadata": {},
   "outputs": [],
   "source": [
    "$(Expr(:quote,  # 外层括号\n",
    "       :($(Expr(:$, \n",
    "                :(\n",
    "                    $(Expr(:quote, \n",
    "                           :(1 + $(Expr(:$, :zz)))  # 相当于 $(QuoteNode(left))\n",
    "                          )\n",
    "                     ) # 相当于 $(Meta.quot($(QuoteNode(left))))\n",
    "                 )\n",
    "               )\n",
    "          ) # 相当于 $$(Meta.quot($(QuoteNode(left))))\n",
    "         \n",
    "         + \n",
    "\n",
    "         $(Expr(:$, \n",
    "                :(\n",
    "                    $(Expr(:quote, \n",
    "                           :($(Expr(:$, :zz))) # 相当于 $(QuoteNode(right))\n",
    "                          )\n",
    "                     ) # 相当于 $(Meta.quot($(QuoteNode(right))))\n",
    "                 )\n",
    "               )\n",
    "          ) # 相当于 $$(Meta.quot($(QuoteNode(right))))\n",
    "\n",
    "        )\n",
    "      )\n",
    " )"
   ]
  },
  {
   "cell_type": "code",
   "execution_count": 4,
   "metadata": {},
   "outputs": [
    {
     "ename": "UndefVarError",
     "evalue": "UndefVarError: `zz` not defined in `Main`\nSuggestion: check for spelling errors or missing imports.",
     "output_type": "error",
     "traceback": [
      "UndefVarError: `zz` not defined in `Main`\n",
      "Suggestion: check for spelling errors or missing imports.\n"
     ]
    }
   ],
   "source": [
    "zz # zz 还没有赋值，所以出现未定义错误"
   ]
  },
  {
   "cell_type": "code",
   "execution_count": 7,
   "metadata": {},
   "outputs": [
    {
     "data": {
      "text/plain": [
       ":((1 + 1) + 1)"
      ]
     },
     "metadata": {},
     "output_type": "display_data"
    },
    {
     "data": {
      "text/plain": [
       "1"
      ]
     },
     "metadata": {},
     "output_type": "display_data"
    }
   ],
   "source": [
    "eval(@makeex6 zz=1 1+$zz $zz) |> display \n",
    "# 宏参数 zz=1 究竟什么时候执行, 得看宏内部是怎么写的\n",
    "\n",
    "zz |> display  # zz = 1 执行过啦"
   ]
  },
  {
   "cell_type": "code",
   "execution_count": 8,
   "metadata": {},
   "outputs": [
    {
     "data": {
      "text/plain": [
       "quote\n",
       "    \u001b[90m#= e:\\Projects.jl\\Training.jl\\9. Expr\\jl_notebook_cell_df34fa98e69747e1a8f8a730347b8e2f_Y155sZmlsZQ==.jl:4 =#\u001b[39m\n",
       "    y = 1\n",
       "    \u001b[90m#= e:\\Projects.jl\\Training.jl\\9. Expr\\jl_notebook_cell_df34fa98e69747e1a8f8a730347b8e2f_Y155sZmlsZQ==.jl:5 =#\u001b[39m\n",
       "    $(Expr(:quote, :($(Expr(:$, :($(Expr(:quote, :(1 / 2)))))) + $(Expr(:$, :($(Expr(:quote, :(1 / 4)))))))))\n",
       "end"
      ]
     },
     "metadata": {},
     "output_type": "display_data"
    }
   ],
   "source": [
    "@makeex6 y=1 1/2 1/4"
   ]
  },
  {
   "cell_type": "code",
   "execution_count": 9,
   "metadata": {},
   "outputs": [
    {
     "data": {
      "text/plain": [
       ":(1 / 2 + 1 / 4)"
      ]
     },
     "metadata": {},
     "output_type": "display_data"
    }
   ],
   "source": [
    "eval(@makeex6 y=1 1/2 1/4)"
   ]
  },
  {
   "cell_type": "code",
   "execution_count": 10,
   "metadata": {},
   "outputs": [
    {
     "data": {
      "text/plain": [
       "quote\n",
       "    \u001b[90m#= e:\\Projects.jl\\Training.jl\\9. Expr\\jl_notebook_cell_df34fa98e69747e1a8f8a730347b8e2f_Y155sZmlsZQ==.jl:4 =#\u001b[39m\n",
       "    y = 1\n",
       "    \u001b[90m#= e:\\Projects.jl\\Training.jl\\9. Expr\\jl_notebook_cell_df34fa98e69747e1a8f8a730347b8e2f_Y155sZmlsZQ==.jl:5 =#\u001b[39m\n",
       "    $(Expr(:quote, :($(Expr(:$, :($(Expr(:quote, :($(Expr(:$, :y)))))))) + $(Expr(:$, :($(Expr(:quote, :($(Expr(:$, :y)))))))))))\n",
       "end"
      ]
     },
     "metadata": {},
     "output_type": "display_data"
    }
   ],
   "source": [
    "@makeex6 y=1 $y $y"
   ]
  },
  {
   "cell_type": "code",
   "execution_count": 11,
   "metadata": {},
   "outputs": [
    {
     "data": {
      "text/plain": [
       ":(1 + 1)"
      ]
     },
     "metadata": {},
     "output_type": "display_data"
    }
   ],
   "source": [
    "eval(@makeex6 y=1 $y $y)"
   ]
  },
  {
   "cell_type": "code",
   "execution_count": 19,
   "metadata": {},
   "outputs": [
    {
     "data": {
      "text/plain": [
       ":((1 + 1 / 4) + 1)"
      ]
     },
     "metadata": {},
     "output_type": "display_data"
    }
   ],
   "source": [
    "eval(@makeex6 y=1 1+$y/4 $y)"
   ]
  },
  {
   "cell_type": "markdown",
   "metadata": {},
   "source": [
    "By using `QuoteNode`, we have protected our arguments from interpolation. Since `QuoteNode` only has the effect of additional protections, it is never harmful to use `QuoteNode`, unless you desire interpolation. However, understanding the difference makes it possible to understand where and why `Meta.quot` could be a better choice.<br>\n",
    "\n",
    "通过使用 `QuoteNode` ，我们保护了参数不受插值的影响。因为 `QuoteNode` 只具有额外的保护作用，所以使用 `QuoteNode` 是无害的，除非你想要插值。然而，理解了它们之间的区别，就有可能理解 `Meta.quot` 在哪里以及为什么是更好的选择。<br>\n",
    "\n",
    "This long exercise is with an example that is plainly too complex to show up in any reasonable application. Therefore, we have justified the following rule of thumb, mentioned earlier:<br>\n",
    "\n",
    "这个长时间的练习使用的示例显然太复杂，无法在任何合理的应用程序中显示。因此，我们证明了前面提到的以下经验法则是合理的：<br>\n",
    "\n",
    "+ If you need or want to support interpolation, use `Meta.quot`;<br>\n",
    "如果您需要或希望支持插值，请使用 `Meta.quot` ；<br><br>\n",
    "+ If you can't or don't want to allow interpolation, use `QuoteNode`.<br>\n",
    "如果你不能或不想允许插值，使用 `QuoteNode` 。"
   ]
  },
  {
   "cell_type": "markdown",
   "metadata": {},
   "source": [
    "### https://discourse.julialang.org/t/quoting-symbols/23308/2"
   ]
  },
  {
   "cell_type": "markdown",
   "metadata": {},
   "source": [
    "You want QuoteNode: `f(s) = :(someArray[$(QuoteNode(s))])`<br>\n",
    "**When in doubt, just dump an expression** you would like to create and see what it is made of:"
   ]
  },
  {
   "cell_type": "code",
   "execution_count": 2,
   "metadata": {},
   "outputs": [
    {
     "name": "stdout",
     "output_type": "stream",
     "text": [
      "Expr\n",
      "  head: Symbol ref\n",
      "  args: Array{Any}((2,))\n",
      "    1: Symbol someArray\n",
      "    2: QuoteNode\n",
      "      value: Symbol x\n"
     ]
    }
   ],
   "source": [
    "dump(:(someArray[:x]))"
   ]
  },
  {
   "cell_type": "code",
   "execution_count": 5,
   "metadata": {},
   "outputs": [
    {
     "data": {
      "text/plain": [
       ":(somArray[:x])"
      ]
     },
     "metadata": {},
     "output_type": "display_data"
    }
   ],
   "source": [
    "Expr(:ref, :somArray, QuoteNode(:x))"
   ]
  },
  {
   "cell_type": "markdown",
   "metadata": {},
   "source": [
    "The `Expr(:quote)` support interpolation expression when evaluated.` QuoteNode` simply return the quoted value. **It’s like the difference between the quote and backquote in lisp**.\n",
    "这两者并不等同。 `Expr(:quote)` 在计算时支持插值表达式。 `QuoteNode` 只是返回引用的值。这就像lisp中引号和反引号的区别。"
   ]
  }
 ],
 "metadata": {
  "kernelspec": {
   "display_name": "Julia 1.11.0",
   "language": "julia",
   "name": "julia-1.11"
  },
  "language_info": {
   "file_extension": ".jl",
   "mimetype": "application/julia",
   "name": "julia",
   "version": "1.11.0"
  }
 },
 "nbformat": 4,
 "nbformat_minor": 2
}
