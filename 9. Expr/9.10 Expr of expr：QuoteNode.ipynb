{
 "cells": [
  {
   "cell_type": "markdown",
   "metadata": {},
   "source": [
    "### https://docs.juliacn.com/latest/manual/metaprogramming/#man-quote-node"
   ]
  },
  {
   "cell_type": "code",
   "execution_count": 3,
   "metadata": {},
   "outputs": [
    {
     "data": {
      "text/plain": [
       ":($(Expr(:quote, :($(Expr(:$, :(1 + 2)))))))"
      ]
     },
     "metadata": {},
     "output_type": "display_data"
    }
   ],
   "source": [
    "Meta.quot(Expr(:$, :(1+2)))"
   ]
  },
  {
   "cell_type": "code",
   "execution_count": null,
   "metadata": {},
   "outputs": [],
   "source": [
    ":(\n",
    "    $Expr(\n",
    "            :quote\n",
    "            :(\n",
    "                $(Expr(:$, :(1+2))) # 求值表达式\n",
    "             ) # 原本表达式\n",
    "         ) # Expr 中的参数为 符号、表达式、字面量. :(1+2)不是字面量3,就要外加:(), 否则会被计算\n",
    ")"
   ]
  },
  {
   "cell_type": "code",
   "execution_count": 12,
   "metadata": {},
   "outputs": [
    {
     "data": {
      "text/plain": [
       "false"
      ]
     },
     "metadata": {},
     "output_type": "display_data"
    }
   ],
   "source": [
    "Meta.quot(Expr(:$, :(1+2))) == :($(1+2))"
   ]
  },
  {
   "cell_type": "code",
   "execution_count": 14,
   "metadata": {},
   "outputs": [
    {
     "data": {
      "text/plain": [
       "3"
      ]
     },
     "metadata": {},
     "output_type": "display_data"
    },
    {
     "data": {
      "text/plain": [
       "3"
      ]
     },
     "metadata": {},
     "output_type": "display_data"
    },
    {
     "data": {
      "text/plain": [
       "3"
      ]
     },
     "metadata": {},
     "output_type": "display_data"
    }
   ],
   "source": [
    ":($(1+2)) |> display\n",
    "\n",
    "eval(:($(1+2))) |> display\n",
    "\n",
    "eval(3) |> display"
   ]
  },
  {
   "cell_type": "code",
   "execution_count": 7,
   "metadata": {},
   "outputs": [
    {
     "data": {
      "text/plain": [
       "false"
      ]
     },
     "metadata": {},
     "output_type": "display_data"
    }
   ],
   "source": [
    "Meta.quot(Expr(:$, :(1+2))) == :($(:(1+2)))"
   ]
  },
  {
   "cell_type": "code",
   "execution_count": 8,
   "metadata": {},
   "outputs": [
    {
     "data": {
      "text/plain": [
       ":(1 + 2)"
      ]
     },
     "metadata": {},
     "output_type": "display_data"
    }
   ],
   "source": [
    ":($(:(1+2)))"
   ]
  },
  {
   "cell_type": "code",
   "execution_count": 9,
   "metadata": {},
   "outputs": [
    {
     "data": {
      "text/plain": [
       "true"
      ]
     },
     "metadata": {},
     "output_type": "display_data"
    }
   ],
   "source": [
    "eval(Meta.quot(Expr(:$, :(1+2)))) ==\n",
    "\n",
    "eval(\n",
    "    :(\n",
    "        $(:(1+2))\n",
    "     )\n",
    "    )"
   ]
  },
  {
   "cell_type": "markdown",
   "metadata": {},
   "source": [
    "表达式支持插值符号 `$`。但是，在某些情况下，需要在不执行插值的情况下引用代码。 这种引用还没有语法，但在内部表示为 `QuoteNode` 类型的对象："
   ]
  },
  {
   "cell_type": "code",
   "execution_count": 16,
   "metadata": {},
   "outputs": [
    {
     "data": {
      "text/plain": [
       "3"
      ]
     },
     "metadata": {},
     "output_type": "display_data"
    },
    {
     "data": {
      "text/plain": [
       ":($(Expr(:$, :(1 + 2))))"
      ]
     },
     "metadata": {},
     "output_type": "display_data"
    }
   ],
   "source": [
    "eval(Meta.quot(Expr(:$, :(1+2)))) |> display\n",
    "\n",
    "eval(QuoteNode(Expr(:$, :(1+2)))) |> display"
   ]
  },
  {
   "cell_type": "markdown",
   "metadata": {},
   "source": [
    "解析器为简单的引用项（如符号）生成 `QuoteNode`："
   ]
  },
  {
   "cell_type": "code",
   "execution_count": null,
   "metadata": {},
   "outputs": [
    {
     "name": "stdout",
     "output_type": "stream",
     "text": [
      "QuoteNode\n",
      "  value: Symbol x\n"
     ]
    }
   ],
   "source": [
    "dump(Meta.parse(\":x\"))"
   ]
  },
  {
   "cell_type": "code",
   "execution_count": null,
   "metadata": {},
   "outputs": [],
   "source": [
    "using TreeView"
   ]
  },
  {
   "cell_type": "code",
   "execution_count": null,
   "metadata": {},
   "outputs": [
    {
     "ename": "MethodError",
     "evalue": "MethodError: no method matching walk_tree(::QuoteNode)\nThe function `walk_tree` exists, but no method is defined for this combination of argument types.\n\nClosest candidates are:\n  walk_tree(!Matched::Expr)\n   @ TreeView C:\\Users\\TCY\\.julia\\packages\\TreeView\\cUQUy\\src\\tree.jl:50\n  walk_tree(!Matched::Expr, !Matched::Any)\n   @ TreeView C:\\Users\\TCY\\.julia\\packages\\TreeView\\cUQUy\\src\\tree.jl:50\n",
     "output_type": "error",
     "traceback": [
      "MethodError: no method matching walk_tree(::QuoteNode)\n",
      "\n",
      "The function `walk_tree` exists, but no method is defined for this combination of argument types.\n",
      "\n",
      "\n",
      "\n",
      "Closest candidates are:\n",
      "\n",
      "  walk_tree(!Matched::Expr)\n",
      "\n",
      "   @ TreeView C:\\Users\\TCY\\.julia\\packages\\TreeView\\cUQUy\\src\\tree.jl:50\n",
      "\n",
      "  walk_tree(!Matched::Expr, !Matched::Any)\n",
      "\n",
      "   @ TreeView C:\\Users\\TCY\\.julia\\packages\\TreeView\\cUQUy\\src\\tree.jl:50\n",
      "\n",
      "\n",
      "\n",
      "\n",
      "\n",
      "Stacktrace:\n",
      "\n",
      " [1] top-level scope\n",
      "\n",
      "   @ e:\\Projects.jl\\Training.jl\\9. Expr\\jl_notebook_cell_df34fa98e69747e1a8f8a730347b8e2f_X14sZmlsZQ==.jl:1"
     ]
    }
   ],
   "source": [
    "TreeView.walk_tree(Meta.parse(\":x\"))"
   ]
  },
  {
   "cell_type": "code",
   "execution_count": null,
   "metadata": {},
   "outputs": [
    {
     "data": {
      "text/plain": [
       ":(:x)"
      ]
     },
     "metadata": {},
     "output_type": "display_data"
    }
   ],
   "source": [
    "QuoteNode(:x)"
   ]
  },
  {
   "cell_type": "code",
   "execution_count": null,
   "metadata": {},
   "outputs": [
    {
     "data": {
      "text/plain": [
       "true"
      ]
     },
     "metadata": {},
     "output_type": "display_data"
    }
   ],
   "source": [
    "Meta.parse(\":x\") == :(:x) == QuoteNode(:x)"
   ]
  },
  {
   "cell_type": "code",
   "execution_count": null,
   "metadata": {},
   "outputs": [
    {
     "name": "stdout",
     "output_type": "stream",
     "text": [
      "Meta.quot(3) == $(QuoteNode(3)) = false\n",
      "eval(Meta.quot(3)) == eval($(QuoteNode(3))) = true\n"
     ]
    },
    {
     "data": {
      "text/plain": [
       "true"
      ]
     },
     "metadata": {},
     "output_type": "display_data"
    }
   ],
   "source": [
    "@show Meta.quot(3) == :(3)\n",
    "@show eval(Meta.quot(3)) == eval(:(3))"
   ]
  },
  {
   "cell_type": "markdown",
   "metadata": {},
   "source": [
    "### https://stackoverflow.com/a/26414175"
   ]
  },
  {
   "cell_type": "code",
   "execution_count": null,
   "metadata": {},
   "outputs": [
    {
     "data": {
      "text/plain": [
       ":(:createObj1)"
      ]
     },
     "metadata": {},
     "output_type": "display_data"
    },
    {
     "data": {
      "text/plain": [
       ":(:createObj1)"
      ]
     },
     "metadata": {},
     "output_type": "display_data"
    },
    {
     "data": {
      "text/plain": [
       ":(:createObj1)"
      ]
     },
     "metadata": {},
     "output_type": "display_data"
    },
    {
     "name": "stdout",
     "output_type": "stream",
     "text": [
      "Expr\n",
      "  head: Symbol call\n",
      "  args: Array{Any}((4,))\n",
      "    1: Symbol +\n",
      "    2: Symbol a\n",
      "    3: Symbol b\n",
      "    4: QuoteNode\n",
      "      value: Symbol c\n"
     ]
    }
   ],
   "source": [
    "# https://stackoverflow.com/a/26414175\n",
    "# Better to use Meta.quot for the instead of \n",
    "# QuoteNode, which is a Julia internal. \n",
    "\n",
    "str = \"Obj1\"\n",
    "Meta.quot(Symbol(\"create$str\")) |> display\n",
    "Expr(:quote, Symbol(\"create$str\")) |> display\n",
    "QuoteNode(Symbol(\"create$str\")) |> display\n",
    "\n",
    "dump(:(a + b + :c))"
   ]
  },
  {
   "cell_type": "markdown",
   "metadata": {},
   "source": [
    "### JeffBezanson"
   ]
  },
  {
   "cell_type": "markdown",
   "metadata": {},
   "source": [
    "\n",
    "**JeffBezanson:**<br>\n",
    "https://github.com/JuliaLang/julia/issues/6104#issuecomment-37260078<br><br>\n",
    "\n",
    "`Meta.quot(x)` just calls `Expr(:quote, x)`. It's a shorthand. <br>\n",
    "`Meta.quot(x)`是`Expr(:quote, x)`的速记形式<br><br>\n",
    "\n",
    "`QuoteNode` is only used in the internal AST representation, not by macros. It's safe to ignore unless you work on later stages of the compiler.<br>\n",
    "`QuoteNode` 仅在内部AST表示中使用，而不用于宏。忽略它是安全的，除非您在编译器的后期阶段工作。"
   ]
  },
  {
   "cell_type": "markdown",
   "metadata": {},
   "source": [
    "@vtjnash: But what is the difference, since now `QuoteNode` can be constructed directly? It seems like `Expr(:quote)` is redundant and thus unnecessary.<br>\n",
    "但是现在`QuoteNode`可以直接构造了，这有什么区别呢？`Expr（:quote）`似乎是多余的，因此是不必要的。<br><br>\n",
    "**JeffBezanson:**<br>\n",
    "https://github.com/JuliaLang/julia/issues/6104#issuecomment-37262662<br><br>\n",
    "\n",
    "There is actually a difference in behavior come to think of it. `QuoteNode` is **very primitive and only includes a literal value** in an AST. When `QuoteNode(x)` is evaluated, the result is just `x`, the value stored inside the `QuoteNode`. **A quote expression does `$` substitution.**<br>\n",
    "想想看，这实际上是行为上的不同。`QuoteNode(x)`是非常原始的，并且在AST中只包含一个字面量。当求值时，结果只是`x` (存储在了`QuoteNode`)。表达式做代换。<br><br>\n",
    "\n",
    "The idea was that for heavy metaprogramming you'd do using Base.Meta.<br>\n",
    "这个想法是，对于重度的元编程，你会使用using Base.Meta。"
   ]
  },
  {
   "cell_type": "markdown",
   "metadata": {},
   "source": [
    "https://github.com/JuliaLang/julia/issues/16560#issue-156537707"
   ]
  },
  {
   "cell_type": "code",
   "execution_count": null,
   "metadata": {},
   "outputs": [
    {
     "name": "stdout",
     "output_type": "stream",
     "text": [
      "Expr\n",
      "  head: Symbol =\n",
      "  args: Array{Any}((2,))\n",
      "    1: Symbol x\n",
      "    2: QuoteNode\n",
      "      value: Symbol a\n"
     ]
    }
   ],
   "source": [
    "# https://github.com/JuliaLang/julia/issues/16560#issue-156537707\n",
    "dump(:(x=:a))"
   ]
  },
  {
   "cell_type": "code",
   "execution_count": null,
   "metadata": {},
   "outputs": [
    {
     "data": {
      "text/plain": [
       "_uv (generic function with 1 method)"
      ]
     },
     "metadata": {},
     "output_type": "display_data"
    }
   ],
   "source": [
    "macro uv(expr)\n",
    "    _uv(expr)\n",
    "end\n",
    "\n",
    "function _uv(expr)\n",
    "    show(expr)\n",
    "    println(\"\\n\")\n",
    "\n",
    "    show(eval(expr))\n",
    "    println(\"\\n\")\n",
    "\n",
    "    dump(expr)\n",
    "    expr\n",
    "end"
   ]
  },
  {
   "cell_type": "code",
   "execution_count": null,
   "metadata": {},
   "outputs": [
    {
     "name": "stdout",
     "output_type": "stream",
     "text": [
      ":($(Expr(:quote, :(x = :a))))\n",
      "\n",
      ":(x = :a)\n",
      "\n",
      "Expr\n",
      "  head: Symbol quote\n",
      "  args: Array{Any}((1,))\n",
      "    1: Expr\n",
      "      head: Symbol =\n",
      "      args: Array{Any}((2,))\n",
      "        1: Symbol x\n",
      "        2: QuoteNode\n",
      "          value: Symbol a\n"
     ]
    },
    {
     "data": {
      "text/plain": [
       ":($(Expr(:copyast, :($(QuoteNode(:(x = :a)))))))"
      ]
     },
     "metadata": {},
     "output_type": "display_data"
    }
   ],
   "source": [
    "@macroexpand @uv(:(x=:a))"
   ]
  },
  {
   "cell_type": "markdown",
   "metadata": {},
   "source": [
    "### 如下笔者测试，不知是否有意义"
   ]
  },
  {
   "cell_type": "code",
   "execution_count": null,
   "metadata": {},
   "outputs": [
    {
     "name": "stdout",
     "output_type": "stream",
     "text": [
      "Int64 3\n"
     ]
    }
   ],
   "source": [
    "dump(:(3))"
   ]
  },
  {
   "cell_type": "code",
   "execution_count": null,
   "metadata": {},
   "outputs": [
    {
     "ename": "ErrorException",
     "evalue": "syntax: \"$\" expression outside quote around e:\\Projects.jl\\Training.jl\\9. Expr\\jl_notebook_cell_df34fa98e69747e1a8f8a730347b8e2f_X25sZmlsZQ==.jl:2",
     "output_type": "error",
     "traceback": [
      "syntax: \"$\" expression outside quote around e:\\Projects.jl\\Training.jl\\9. Expr\\jl_notebook_cell_df34fa98e69747e1a8f8a730347b8e2f_X25sZmlsZQ==.jl:2\n",
      "\n",
      "Stacktrace:\n",
      " [1] top-level scope\n",
      "   @ e:\\Projects.jl\\Training.jl\\9. Expr\\jl_notebook_cell_df34fa98e69747e1a8f8a730347b8e2f_X25sZmlsZQ==.jl:2"
     ]
    }
   ],
   "source": [
    "\n",
    "dump($(QuoteNode(3)))"
   ]
  },
  {
   "cell_type": "code",
   "execution_count": null,
   "metadata": {},
   "outputs": [
    {
     "name": "stdout",
     "output_type": "stream",
     "text": [
      "Expr\n",
      "  head: Symbol block\n",
      "  args: Array{Any}((2,))\n",
      "    1: LineNumberNode\n",
      "      line: Int64 1\n",
      "      file: Symbol e:\\Projects.jl\\Training.jl\\9. Expr\\jl_notebook_cell_df34fa98e69747e1a8f8a730347b8e2f_X14sZmlsZQ==.jl\n",
      "    2: QuoteNode\n",
      "      value: Int64 3\n"
     ]
    }
   ],
   "source": [
    "dump(quote $(QuoteNode(3)) end)"
   ]
  },
  {
   "cell_type": "code",
   "execution_count": null,
   "metadata": {},
   "outputs": [
    {
     "name": "stdout",
     "output_type": "stream",
     "text": [
      "QuoteNode\n",
      "  value: Int64 3\n"
     ]
    }
   ],
   "source": [
    "dump(:($(QuoteNode(3))))\n",
    "# :($(QuoteNode(3)) 与 QuoteNode(3) 等价"
   ]
  },
  {
   "cell_type": "code",
   "execution_count": null,
   "metadata": {},
   "outputs": [
    {
     "name": "stdout",
     "output_type": "stream",
     "text": [
      "QuoteNode\n",
      "  value: Int64 3\n"
     ]
    }
   ],
   "source": [
    "dump(QuoteNode(3))"
   ]
  },
  {
   "cell_type": "code",
   "execution_count": 2,
   "metadata": {},
   "outputs": [
    {
     "name": "stdout",
     "output_type": "stream",
     "text": [
      "QuoteNode\n",
      "  value: Int64 1\n"
     ]
    }
   ],
   "source": [
    "a=1\n",
    "dump(:($(QuoteNode(a))))"
   ]
  },
  {
   "cell_type": "code",
   "execution_count": 3,
   "metadata": {},
   "outputs": [
    {
     "name": "stdout",
     "output_type": "stream",
     "text": [
      "QuoteNode\n",
      "  value: Symbol a\n"
     ]
    }
   ],
   "source": [
    "dump(:($(QuoteNode(:a))))"
   ]
  },
  {
   "cell_type": "code",
   "execution_count": 5,
   "metadata": {},
   "outputs": [
    {
     "name": "stdout",
     "output_type": "stream",
     "text": [
      "$(Expr(:quote, :(:x))) == QuoteNode(:x) = true\n",
      ":x == QuoteNode(x) = false\n",
      "eval(:x) == eval(QuoteNode(x)) = true\n"
     ]
    },
    {
     "data": {
      "text/plain": [
       "true"
      ]
     },
     "metadata": {},
     "output_type": "display_data"
    }
   ],
   "source": [
    "@show :(:x) == QuoteNode(:x)\n",
    "x = 0\n",
    "@show :x ==QuoteNode(x)\n",
    "@show eval(:x) == eval(QuoteNode(x))"
   ]
  },
  {
   "cell_type": "code",
   "execution_count": 6,
   "metadata": {},
   "outputs": [
    {
     "name": "stdout",
     "output_type": "stream",
     "text": [
      "$(QuoteNode(0)) == QuoteNode(x) = false\n",
      "eval($(QuoteNode(0))) == eval(QuoteNode(x)) = true\n"
     ]
    },
    {
     "ename": "ErrorException",
     "evalue": "syntax: \"$\" expression outside quote around e:\\Projects.jl\\Training.jl\\9. Expr\\jl_notebook_cell_df34fa98e69747e1a8f8a730347b8e2f_X34sZmlsZQ==.jl:3",
     "output_type": "error",
     "traceback": [
      "syntax: \"$\" expression outside quote around e:\\Projects.jl\\Training.jl\\9. Expr\\jl_notebook_cell_df34fa98e69747e1a8f8a730347b8e2f_X34sZmlsZQ==.jl:3\n",
      "\n",
      "Stacktrace:\n",
      " [1] top-level scope\n",
      "   @ e:\\Projects.jl\\Training.jl\\9. Expr\\jl_notebook_cell_df34fa98e69747e1a8f8a730347b8e2f_X34sZmlsZQ==.jl:3"
     ]
    }
   ],
   "source": [
    "@show :0 ==QuoteNode(x)\n",
    "@show eval(:0) == eval(QuoteNode(x))\n",
    "$(QuoteNode(0))"
   ]
  },
  {
   "cell_type": "code",
   "execution_count": 7,
   "metadata": {},
   "outputs": [
    {
     "name": "stdout",
     "output_type": "stream",
     "text": [
      "fieldnames(QuoteNode) = (:value,)\n"
     ]
    },
    {
     "data": {
      "text/plain": [
       "(:value,)"
      ]
     },
     "metadata": {},
     "output_type": "display_data"
    }
   ],
   "source": [
    "@show fieldnames(QuoteNode)"
   ]
  },
  {
   "cell_type": "code",
   "execution_count": 8,
   "metadata": {},
   "outputs": [
    {
     "name": "stdout",
     "output_type": "stream",
     "text": [
      "Symbol a\n"
     ]
    }
   ],
   "source": [
    "dump(:a)"
   ]
  },
  {
   "cell_type": "code",
   "execution_count": 9,
   "metadata": {},
   "outputs": [
    {
     "data": {
      "text/plain": [
       ":a"
      ]
     },
     "metadata": {},
     "output_type": "display_data"
    }
   ],
   "source": [
    "eval(QuoteNode(:a))"
   ]
  },
  {
   "cell_type": "markdown",
   "metadata": {},
   "source": [
    "### https://discourse.julialang.org/t/create-quotenode-in-expr/1319/5"
   ]
  },
  {
   "cell_type": "code",
   "execution_count": 1,
   "metadata": {},
   "outputs": [
    {
     "data": {
      "text/plain": [
       ":($(Expr(:ccall, :((:u3, \"./u1.so\")), :Float64, :((Float64,)), :x)))"
      ]
     },
     "metadata": {},
     "output_type": "display_data"
    }
   ],
   "source": [
    "function f1a()\n",
    "    e1 = Expr(:tuple)\n",
    "    e1.args = [Core.QuoteNode(Symbol(\"u3\")), \"./u1.so\"]\n",
    "\n",
    "    e2 = :Float64\n",
    "    \n",
    "    e3 = Expr(:tuple)\n",
    "    e3.args = [:Float64]\n",
    "    \n",
    "    e4 = :x\n",
    "    \n",
    "    e5 = Expr(:ccall)\n",
    "    e5.args = [e1,e2,e3,e4]\n",
    "    e5\n",
    "end\n",
    "f1a_ex = f1a()"
   ]
  },
  {
   "cell_type": "code",
   "execution_count": 5,
   "metadata": {},
   "outputs": [
    {
     "name": "stdout",
     "output_type": "stream",
     "text": [
      "Expr\n",
      "  head: Symbol ccall\n",
      "  args: Array{Any}((4,))\n",
      "    1: Expr\n",
      "      head: Symbol tuple\n",
      "      args: Array{Any}((2,))\n",
      "        1: QuoteNode\n",
      "          value: Symbol u3\n",
      "        2: String \"./u1.so\"\n",
      "    2: Symbol Float64\n",
      "    3: Expr\n",
      "      head: Symbol tuple\n",
      "      args: Array{Any}((1,))\n",
      "        1: Symbol Float64\n",
      "    4: Symbol x\n"
     ]
    }
   ],
   "source": [
    "dump(f1a_ex)"
   ]
  },
  {
   "cell_type": "code",
   "execution_count": null,
   "metadata": {},
   "outputs": [],
   "source": [
    "Expr(:ccall, \n",
    "     Expr(:tuple, QuoteNode(:u3), \"./u1.so\"), \n",
    "     :Float64,\n",
    "     Expr(:tuple,:Float64)\n",
    "     :x\n",
    ")"
   ]
  },
  {
   "cell_type": "code",
   "execution_count": null,
   "metadata": {},
   "outputs": [],
   "source": [
    "f1a_ex_format = \n",
    ":(\n",
    "    $(\n",
    "        Expr(:ccall, \n",
    "             :((:u3, \"./u1.so\")), \n",
    "             :Float64,\n",
    "             :((Float64,)),\n",
    "             :x)\n",
    "     )\n",
    ") "
   ]
  },
  {
   "cell_type": "code",
   "execution_count": 3,
   "metadata": {},
   "outputs": [
    {
     "data": {
      "text/plain": [
       "false"
      ]
     },
     "metadata": {},
     "output_type": "display_data"
    }
   ],
   "source": [
    ":(\n",
    "    ccall((:u3,\"./u1.so\"),Float64,(Float64,),x)\n",
    " )"
   ]
  },
  {
   "cell_type": "markdown",
   "metadata": {},
   "source": [
    "Tamas_Papp reply:<br>\n",
    "I believe that you should use Meta.quot(Symbol(\"u3\")) instead. See [the discussion at](https://github.com/JuliaLang/julia/issues/6104)\n"
   ]
  }
 ],
 "metadata": {
  "kernelspec": {
   "display_name": "Julia 1.11.0",
   "language": "julia",
   "name": "julia-1.11"
  },
  "language_info": {
   "file_extension": ".jl",
   "mimetype": "application/julia",
   "name": "julia",
   "version": "1.11.0"
  }
 },
 "nbformat": 4,
 "nbformat_minor": 2
}
