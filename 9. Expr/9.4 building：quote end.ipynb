{
 "cells": [
  {
   "cell_type": "markdown",
   "metadata": {},
   "source": [
    "+ `:(...)` 一般作用于单句statement。作用于多句时, 所得得`Expr`的`head`才为`block`\n",
    "+ `quote...end` 一般作用于多句statements, 也作用于单句statement, `head`均为`block`\n",
    "+ 对`block`执行`eval`时, 就是逐行执行`block`中的 *简易表达式 (类似statement)*<br><br>\n",
    "\n",
    "+ `:(...)` : 作用于单句时out显示为`:(...)`, 其他情况out为`quote...end` \n",
    "+ `quote...end`: out都显示为`quote...end`\n",
    "+ out `quote...end` 中, 除了增加linenums, 与语句statement字符串一样, 只是被[simply parsed](https://riptutorial.com/julia-lang/topic/1945/metaprogramming)<br><br>\n",
    "\n",
    "+ `:(...)` 与 `quote...end` 基本上等价\n",
    "+ 多句写成多行时，`:(...)`需要用`begin...end`包裹代码, `quote...end`不需要\n",
    "+ 多句写成单行时，`:(...)`也不需要`begin...end`"
   ]
  },
  {
   "cell_type": "code",
   "execution_count": 51,
   "metadata": {},
   "outputs": [
    {
     "data": {
      "text/plain": [
       ":(a + 1)"
      ]
     },
     "metadata": {},
     "output_type": "display_data"
    },
    {
     "name": "stdout",
     "output_type": "stream",
     "text": [
      "Expr\n",
      "  head: Symbol call\n",
      "  args: Array{Any}((3,))\n",
      "    1: Symbol +\n",
      "    2: Symbol a\n",
      "    3: Int64 1\n"
     ]
    }
   ],
   "source": [
    "a=1\n",
    "colon_ex = :(a + 1)\n",
    "colon_ex |> display\n",
    "dump(colon_ex)"
   ]
  },
  {
   "cell_type": "code",
   "execution_count": 8,
   "metadata": {},
   "outputs": [
    {
     "data": {
      "text/plain": [
       "quote\n",
       "    \u001b[90m#= e:\\Projects.jl\\Training.jl\\9. Expr\\jl_notebook_cell_df34fa98e69747e1a8f8a730347b8e2f_W0sZmlsZQ==.jl:1 =#\u001b[39m\n",
       "    a + 1\n",
       "end"
      ]
     },
     "metadata": {},
     "output_type": "display_data"
    },
    {
     "data": {
      "text/plain": [
       "Expr"
      ]
     },
     "metadata": {},
     "output_type": "display_data"
    }
   ],
   "source": [
    "quote_end_ex = quote a + 1 end\n",
    "quote_end_ex |> display\n",
    "quote_end_ex |> typeof |> display"
   ]
  },
  {
   "cell_type": "code",
   "execution_count": 3,
   "metadata": {},
   "outputs": [
    {
     "name": "stdout",
     "output_type": "stream",
     "text": [
      "Expr\n",
      "  head: Symbol block\n",
      "  args: Array{Any}((2,))\n",
      "    1: LineNumberNode\n",
      "      line: Int64 1\n",
      "      file: Symbol e:\\Projects.jl\\Training.jl\\9. Expr\\jl_notebook_cell_df34fa98e69747e1a8f8a730347b8e2f_W0sZmlsZQ==.jl\n",
      "    2: Expr\n",
      "      head: Symbol call\n",
      "      args: Array{Any}((3,))\n",
      "        1: Symbol +\n",
      "        2: Symbol a\n",
      "        3: Int64 1\n"
     ]
    }
   ],
   "source": [
    "dump(quote_end_ex)"
   ]
  },
  {
   "cell_type": "code",
   "execution_count": 6,
   "metadata": {},
   "outputs": [
    {
     "name": "stdout",
     "output_type": "stream",
     "text": [
      "colon_ex == quote_end_ex = false\n",
      "eval(colon_ex) == eval(quote_end_ex) = true\n"
     ]
    }
   ],
   "source": [
    "@show colon_ex == quote_end_ex\n",
    "@show eval(colon_ex) == eval(quote_end_ex)\n",
    "nothing"
   ]
  },
  {
   "cell_type": "code",
   "execution_count": 25,
   "metadata": {},
   "outputs": [
    {
     "name": "stdout",
     "output_type": "stream",
     "text": [
      "(:call, :+, :a, 1)\n",
      "\n",
      "(:block,\n",
      "  :(\u001b[90m#= e:\\Projects.jl\\Training.jl\\9. Expr\\jl_notebook_cell_df34fa98e69747e1a8f8a730347b8e2f_W0sZmlsZQ==.jl:1 =#\u001b[39m),\n",
      "  (:call, :+, :a, 1)\n",
      ")"
     ]
    }
   ],
   "source": [
    "Meta.show_sexpr(colon_ex)\n",
    "println(\"\\n\")\n",
    "Meta.show_sexpr(quote_end_ex)"
   ]
  },
  {
   "cell_type": "code",
   "execution_count": 20,
   "metadata": {},
   "outputs": [],
   "source": [
    "using TreeView"
   ]
  },
  {
   "cell_type": "code",
   "execution_count": 21,
   "metadata": {},
   "outputs": [
    {
     "data": {
      "image/svg+xml": [
       "<?xml version=\"1.0\" encoding=\"UTF-8\"?>\n",
       "<svg xmlns=\"http://www.w3.org/2000/svg\" xmlns:xlink=\"http://www.w3.org/1999/xlink\" width=\"40.218\" height=\"40.731\" viewBox=\"0 0 40.218 40.731\">\n",
       "<defs>\n",
       "<g>\n",
       "<g id=\"glyph-1731630588227000--0-0\">\n",
       "<path d=\"M 4.75 -2.984375 C 4.75 -3.328125 4.40625 -3.328125 4.28125 -3.328125 L 2.90625 -3.328125 L 2.90625 -4.734375 C 2.90625 -4.84375 2.90625 -5.1875 2.5625 -5.1875 C 2.21875 -5.1875 2.21875 -4.84375 2.21875 -4.734375 L 2.21875 -3.328125 L 0.828125 -3.328125 C 0.71875 -3.328125 0.375 -3.328125 0.375 -2.984375 C 0.375 -2.640625 0.71875 -2.640625 0.828125 -2.640625 L 2.21875 -2.640625 L 2.21875 -1.25 C 2.21875 -1.140625 2.21875 -0.796875 2.5625 -0.796875 C 2.90625 -0.796875 2.90625 -1.140625 2.90625 -1.25 L 2.90625 -2.640625 L 4.28125 -2.640625 C 4.40625 -2.640625 4.75 -2.640625 4.75 -2.984375 Z M 4.75 -2.984375 \"/>\n",
       "</g>\n",
       "<g id=\"glyph-1731630588227000--0-1\">\n",
       "<path d=\"M 5.0625 -0.296875 C 5.0625 -0.59375 4.828125 -0.59375 4.671875 -0.59375 C 4.265625 -0.59375 4.171875 -0.640625 4.09375 -0.671875 L 4.09375 -2.78125 C 4.09375 -3.484375 3.5625 -4.296875 2.15625 -4.296875 C 1.734375 -4.296875 0.75 -4.296875 0.75 -3.578125 C 0.75 -3.296875 0.953125 -3.140625 1.1875 -3.140625 C 1.328125 -3.140625 1.609375 -3.21875 1.609375 -3.578125 C 1.609375 -3.65625 1.625 -3.671875 1.8125 -3.6875 C 1.953125 -3.703125 2.078125 -3.703125 2.171875 -3.703125 C 2.90625 -3.703125 3.421875 -3.40625 3.421875 -2.703125 C 1.6875 -2.671875 0.484375 -2.1875 0.484375 -1.25 C 0.484375 -0.578125 1.109375 0.0625 2.09375 0.0625 C 2.46875 0.0625 3.0625 -0.015625 3.53125 -0.3125 C 3.734375 -0.015625 4.203125 0 4.578125 0 C 4.859375 0 5.0625 0 5.0625 -0.296875 Z M 3.421875 -1.3125 C 3.421875 -1.078125 3.421875 -0.875 3.03125 -0.703125 C 2.6875 -0.53125 2.25 -0.53125 2.171875 -0.53125 C 1.5625 -0.53125 1.15625 -0.875 1.15625 -1.25 C 1.15625 -1.734375 2 -2.09375 3.421875 -2.125 Z M 3.421875 -1.3125 \"/>\n",
       "</g>\n",
       "<g id=\"glyph-1731630588227000--0-2\">\n",
       "<path d=\"M 4.3125 -0.296875 C 4.3125 -0.59375 4.078125 -0.59375 3.921875 -0.59375 L 3.03125 -0.59375 L 3.03125 -5.671875 C 3.03125 -5.828125 3.03125 -6.078125 2.75 -6.078125 C 2.5625 -6.078125 2.5 -5.953125 2.453125 -5.84375 C 2.078125 -5.015625 1.578125 -4.90625 1.390625 -4.890625 C 1.234375 -4.875 1.03125 -4.859375 1.03125 -4.578125 C 1.03125 -4.34375 1.203125 -4.28125 1.34375 -4.28125 C 1.53125 -4.28125 1.9375 -4.34375 2.359375 -4.71875 L 2.359375 -0.59375 L 1.46875 -0.59375 C 1.3125 -0.59375 1.078125 -0.59375 1.078125 -0.296875 C 1.078125 0 1.328125 0 1.46875 0 L 3.921875 0 C 4.078125 0 4.3125 0 4.3125 -0.296875 Z M 4.3125 -0.296875 \"/>\n",
       "</g>\n",
       "</g>\n",
       "</defs>\n",
       "<path fill=\"none\" stroke-width=\"0.3985\" stroke-linecap=\"butt\" stroke-linejoin=\"miter\" stroke=\"rgb(0%, 0%, 0%)\" stroke-opacity=\"1\" stroke-miterlimit=\"10\" d=\"M -3.081099 -6.165129 L -11.097274 -22.193497 \" transform=\"matrix(0.980927, 0, 0, -0.980927, 19.725458, 6.108709)\"/>\n",
       "<path fill=\"none\" stroke-width=\"0.31879\" stroke-linecap=\"round\" stroke-linejoin=\"round\" stroke=\"rgb(0%, 0%, 0%)\" stroke-opacity=\"1\" stroke-miterlimit=\"10\" d=\"M -1.195173 1.593569 C -1.097222 0.996921 0.00167036 0.099268 0.300884 -0.000472741 C -0.00189348 -0.0984271 -1.097239 -0.997841 -1.195202 -1.594488 \" transform=\"matrix(-0.438641, 0.877302, 0.877302, 0.438641, 8.839426, 27.880773)\"/>\n",
       "<path fill=\"none\" stroke-width=\"0.3985\" stroke-linecap=\"butt\" stroke-linejoin=\"miter\" stroke=\"rgb(0%, 0%, 0%)\" stroke-opacity=\"1\" stroke-miterlimit=\"10\" d=\"M 3.083352 -6.165129 L 10.657502 -21.317412 \" transform=\"matrix(0.980927, 0, 0, -0.980927, 19.725458, 6.108709)\"/>\n",
       "<path fill=\"none\" stroke-width=\"0.31879\" stroke-linecap=\"round\" stroke-linejoin=\"round\" stroke=\"rgb(0%, 0%, 0%)\" stroke-opacity=\"1\" stroke-miterlimit=\"10\" d=\"M -1.195243 1.592941 C -1.09728 0.996294 -0.000153267 0.100442 0.297281 0.00070675 C -0.00193252 -0.099034 -1.095481 -0.994905 -1.195214 -1.595116 \" transform=\"matrix(0.438641, 0.877302, 0.877302, -0.438641, 30.18148, 27.020755)\"/>\n",
       "<g fill=\"rgb(0%, 0%, 0%)\" fill-opacity=\"1\">\n",
       "<use xlink:href=\"#glyph-1731630588227000--0-0\" x=\"17.160334\" y=\"8.703261\"/>\n",
       "</g>\n",
       "<g fill=\"rgb(0%, 0%, 0%)\" fill-opacity=\"1\">\n",
       "<use xlink:href=\"#glyph-1731630588227000--0-1\" x=\"3.257658\" y=\"36.034825\"/>\n",
       "</g>\n",
       "<g fill=\"rgb(0%, 0%, 0%)\" fill-opacity=\"1\">\n",
       "<use xlink:href=\"#glyph-1731630588227000--0-2\" x=\"31.06301\" y=\"36.952973\"/>\n",
       "</g>\n",
       "</svg>\n",
       "\n"
      ],
      "text/plain": [
       "LabelledTree({3, 2} directed simple Int64 graph, Any[:+, :a, 1])"
      ]
     },
     "metadata": {},
     "output_type": "display_data"
    }
   ],
   "source": [
    "TreeView.walk_tree(colon_ex)"
   ]
  },
  {
   "cell_type": "code",
   "execution_count": 28,
   "metadata": {},
   "outputs": [
    {
     "data": {
      "image/svg+xml": [
       "<?xml version=\"1.0\" encoding=\"UTF-8\"?>\n",
       "<svg xmlns=\"http://www.w3.org/2000/svg\" xmlns:xlink=\"http://www.w3.org/1999/xlink\" width=\"40.218\" height=\"69.506\" viewBox=\"0 0 40.218 69.506\">\n",
       "<defs>\n",
       "<g>\n",
       "<g id=\"glyph-1731630588227001--0-0\">\n",
       "<path d=\"M 4.765625 -2.109375 C 4.765625 -3.3125 3.890625 -4.265625 2.859375 -4.265625 C 2.390625 -4.265625 1.953125 -4.09375 1.625 -3.796875 L 1.625 -5.5625 C 1.625 -5.875 1.5625 -5.96875 1.234375 -5.96875 L 0.515625 -5.96875 C 0.359375 -5.96875 0.125 -5.96875 0.125 -5.671875 C 0.125 -5.375 0.375 -5.375 0.515625 -5.375 L 0.953125 -5.375 L 0.953125 -0.40625 C 0.953125 -0.203125 0.953125 0 1.296875 0 C 1.625 0 1.625 -0.203125 1.625 -0.4375 C 2.015625 -0.03125 2.4375 0.0625 2.75 0.0625 C 3.8125 0.0625 4.765625 -0.875 4.765625 -2.109375 Z M 4.09375 -2.109375 C 4.09375 -1.171875 3.40625 -0.53125 2.71875 -0.53125 C 1.96875 -0.53125 1.625 -1.390625 1.625 -1.859375 L 1.625 -2.578125 C 1.625 -3.15625 2.1875 -3.671875 2.796875 -3.671875 C 3.53125 -3.671875 4.09375 -2.953125 4.09375 -2.109375 Z M 4.09375 -2.109375 \"/>\n",
       "</g>\n",
       "<g id=\"glyph-1731630588227001--0-1\">\n",
       "<path d=\"M 4.5625 -0.296875 C 4.5625 -0.59375 4.328125 -0.59375 4.171875 -0.59375 L 2.90625 -0.59375 L 2.90625 -5.5625 C 2.90625 -5.875 2.84375 -5.96875 2.515625 -5.96875 L 0.96875 -5.96875 C 0.8125 -5.96875 0.5625 -5.96875 0.5625 -5.671875 C 0.5625 -5.375 0.828125 -5.375 0.953125 -5.375 L 2.234375 -5.375 L 2.234375 -0.59375 L 0.96875 -0.59375 C 0.8125 -0.59375 0.5625 -0.59375 0.5625 -0.296875 C 0.5625 0 0.828125 0 0.953125 0 L 4.171875 0 C 4.3125 0 4.5625 0 4.5625 -0.296875 Z M 4.5625 -0.296875 \"/>\n",
       "</g>\n",
       "<g id=\"glyph-1731630588227001--0-2\">\n",
       "<path d=\"M 4.5625 -2.109375 C 4.5625 -3.328125 3.65625 -4.296875 2.5625 -4.296875 C 1.46875 -4.296875 0.5625 -3.328125 0.5625 -2.109375 C 0.5625 -0.875 1.484375 0.0625 2.5625 0.0625 C 3.640625 0.0625 4.5625 -0.875 4.5625 -2.109375 Z M 3.890625 -2.171875 C 3.890625 -1.265625 3.28125 -0.53125 2.5625 -0.53125 C 1.84375 -0.53125 1.234375 -1.265625 1.234375 -2.171875 C 1.234375 -3.0625 1.859375 -3.703125 2.5625 -3.703125 C 3.265625 -3.703125 3.890625 -3.0625 3.890625 -2.171875 Z M 3.890625 -2.171875 \"/>\n",
       "</g>\n",
       "<g id=\"glyph-1731630588227001--0-3\">\n",
       "<path d=\"M 4.546875 -1.0625 C 4.546875 -1.34375 4.265625 -1.34375 4.203125 -1.34375 C 4.046875 -1.34375 3.953125 -1.3125 3.890625 -1.125 C 3.828125 -1 3.640625 -0.53125 2.921875 -0.53125 C 2.09375 -0.53125 1.390625 -1.21875 1.390625 -2.109375 C 1.390625 -2.578125 1.65625 -3.703125 2.984375 -3.703125 C 3.1875 -3.703125 3.5625 -3.703125 3.5625 -3.609375 C 3.578125 -3.265625 3.765625 -3.140625 4 -3.140625 C 4.234375 -3.140625 4.4375 -3.296875 4.4375 -3.578125 C 4.4375 -4.296875 3.421875 -4.296875 2.984375 -4.296875 C 1.296875 -4.296875 0.71875 -2.96875 0.71875 -2.109375 C 0.71875 -0.9375 1.625 0.0625 2.859375 0.0625 C 4.21875 0.0625 4.546875 -0.90625 4.546875 -1.0625 Z M 4.546875 -1.0625 \"/>\n",
       "</g>\n",
       "<g id=\"glyph-1731630588227001--0-4\">\n",
       "<path d=\"M 4.96875 -0.296875 C 4.96875 -0.59375 4.703125 -0.59375 4.5625 -0.59375 L 4.265625 -0.59375 L 2.796875 -2.484375 L 4 -3.609375 L 4.34375 -3.609375 C 4.5 -3.609375 4.75 -3.609375 4.75 -3.90625 C 4.75 -4.203125 4.5 -4.203125 4.34375 -4.203125 L 2.84375 -4.203125 C 2.6875 -4.203125 2.453125 -4.203125 2.453125 -3.90625 C 2.453125 -3.609375 2.703125 -3.609375 2.84375 -3.609375 L 3.203125 -3.609375 L 1.625 -2.125 L 1.625 -5.5625 C 1.625 -5.875 1.5625 -5.96875 1.234375 -5.96875 L 0.59375 -5.96875 C 0.453125 -5.96875 0.203125 -5.96875 0.203125 -5.671875 C 0.203125 -5.375 0.4375 -5.375 0.59375 -5.375 L 1.078125 -5.375 L 1.078125 -0.59375 L 0.59375 -0.59375 C 0.453125 -0.59375 0.203125 -0.59375 0.203125 -0.296875 C 0.203125 0 0.4375 0 0.59375 0 L 2.09375 0 C 2.25 0 2.484375 0 2.484375 -0.296875 C 2.484375 -0.59375 2.25 -0.59375 2.09375 -0.59375 L 1.625 -0.59375 L 1.625 -1.390625 L 2.40625 -2.109375 L 3.5625 -0.59375 C 3.21875 -0.59375 3.015625 -0.59375 3.015625 -0.296875 C 3.015625 0 3.265625 0 3.40625 0 L 4.5625 0 C 4.703125 0 4.96875 0 4.96875 -0.296875 Z M 4.96875 -0.296875 \"/>\n",
       "</g>\n",
       "<g id=\"glyph-1731630588227001--0-5\">\n",
       "<path d=\"M 4.75 -2.984375 C 4.75 -3.328125 4.40625 -3.328125 4.28125 -3.328125 L 2.90625 -3.328125 L 2.90625 -4.734375 C 2.90625 -4.84375 2.90625 -5.1875 2.5625 -5.1875 C 2.21875 -5.1875 2.21875 -4.84375 2.21875 -4.734375 L 2.21875 -3.328125 L 0.828125 -3.328125 C 0.71875 -3.328125 0.375 -3.328125 0.375 -2.984375 C 0.375 -2.640625 0.71875 -2.640625 0.828125 -2.640625 L 2.21875 -2.640625 L 2.21875 -1.25 C 2.21875 -1.140625 2.21875 -0.796875 2.5625 -0.796875 C 2.90625 -0.796875 2.90625 -1.140625 2.90625 -1.25 L 2.90625 -2.640625 L 4.28125 -2.640625 C 4.40625 -2.640625 4.75 -2.640625 4.75 -2.984375 Z M 4.75 -2.984375 \"/>\n",
       "</g>\n",
       "<g id=\"glyph-1731630588227001--0-6\">\n",
       "<path d=\"M 5.0625 -0.296875 C 5.0625 -0.59375 4.828125 -0.59375 4.671875 -0.59375 C 4.265625 -0.59375 4.171875 -0.640625 4.09375 -0.671875 L 4.09375 -2.78125 C 4.09375 -3.484375 3.5625 -4.296875 2.15625 -4.296875 C 1.734375 -4.296875 0.75 -4.296875 0.75 -3.578125 C 0.75 -3.296875 0.953125 -3.140625 1.1875 -3.140625 C 1.328125 -3.140625 1.609375 -3.21875 1.609375 -3.578125 C 1.609375 -3.65625 1.625 -3.671875 1.8125 -3.6875 C 1.953125 -3.703125 2.078125 -3.703125 2.171875 -3.703125 C 2.90625 -3.703125 3.421875 -3.40625 3.421875 -2.703125 C 1.6875 -2.671875 0.484375 -2.1875 0.484375 -1.25 C 0.484375 -0.578125 1.109375 0.0625 2.09375 0.0625 C 2.46875 0.0625 3.0625 -0.015625 3.53125 -0.3125 C 3.734375 -0.015625 4.203125 0 4.578125 0 C 4.859375 0 5.0625 0 5.0625 -0.296875 Z M 3.421875 -1.3125 C 3.421875 -1.078125 3.421875 -0.875 3.03125 -0.703125 C 2.6875 -0.53125 2.25 -0.53125 2.171875 -0.53125 C 1.5625 -0.53125 1.15625 -0.875 1.15625 -1.25 C 1.15625 -1.734375 2 -2.09375 3.421875 -2.125 Z M 3.421875 -1.3125 \"/>\n",
       "</g>\n",
       "<g id=\"glyph-1731630588227001--0-7\">\n",
       "<path d=\"M 4.3125 -0.296875 C 4.3125 -0.59375 4.078125 -0.59375 3.921875 -0.59375 L 3.03125 -0.59375 L 3.03125 -5.671875 C 3.03125 -5.828125 3.03125 -6.078125 2.75 -6.078125 C 2.5625 -6.078125 2.5 -5.953125 2.453125 -5.84375 C 2.078125 -5.015625 1.578125 -4.90625 1.390625 -4.890625 C 1.234375 -4.875 1.03125 -4.859375 1.03125 -4.578125 C 1.03125 -4.34375 1.203125 -4.28125 1.34375 -4.28125 C 1.53125 -4.28125 1.9375 -4.34375 2.359375 -4.71875 L 2.359375 -0.59375 L 1.46875 -0.59375 C 1.3125 -0.59375 1.078125 -0.59375 1.078125 -0.296875 C 1.078125 0 1.328125 0 1.46875 0 L 3.921875 0 C 4.078125 0 4.3125 0 4.3125 -0.296875 Z M 4.3125 -0.296875 \"/>\n",
       "</g>\n",
       "</g>\n",
       "</defs>\n",
       "<path fill=\"none\" stroke-width=\"0.3985\" stroke-linecap=\"butt\" stroke-linejoin=\"miter\" stroke=\"rgb(0%, 0%, 0%)\" stroke-opacity=\"1\" stroke-miterlimit=\"10\" d=\"M 0.00112637 -6.593304 L 0.00112637 -21.721694 \" transform=\"matrix(0.980927, 0, 0, -0.980927, 19.725458, 6.692607)\"/>\n",
       "<path fill=\"none\" stroke-width=\"0.31879\" stroke-linecap=\"round\" stroke-linejoin=\"round\" stroke=\"rgb(0%, 0%, 0%)\" stroke-opacity=\"1\" stroke-miterlimit=\"10\" d=\"M -1.196557 1.594008 C -1.097001 0.996677 -0.00189553 0.100681 0.300752 0.00112637 C -0.00189553 -0.0984287 -1.097001 -0.994424 -1.196557 -1.595737 \" transform=\"matrix(0, 0.980927, 0.980927, 0, 19.725458, 28.001859)\"/>\n",
       "<path fill=\"none\" stroke-width=\"0.3985\" stroke-linecap=\"butt\" stroke-linejoin=\"miter\" stroke=\"rgb(0%, 0%, 0%)\" stroke-opacity=\"1\" stroke-miterlimit=\"10\" d=\"M -3.081099 -34.512531 L -11.097274 -50.540899 \" transform=\"matrix(0.980927, 0, 0, -0.980927, 19.725458, 6.692607)\"/>\n",
       "<path fill=\"none\" stroke-width=\"0.31879\" stroke-linecap=\"round\" stroke-linejoin=\"round\" stroke=\"rgb(0%, 0%, 0%)\" stroke-opacity=\"1\" stroke-miterlimit=\"10\" d=\"M -1.194635 1.593838 C -1.096683 0.99719 0.00220902 0.0995373 0.29786 -0.00198442 C -0.00135483 -0.0981578 -1.096701 -0.997572 -1.194663 -1.594218 \" transform=\"matrix(-0.438641, 0.877302, 0.877302, 0.438641, 8.839426, 56.270807)\"/>\n",
       "<path fill=\"none\" stroke-width=\"0.3985\" stroke-linecap=\"butt\" stroke-linejoin=\"miter\" stroke=\"rgb(0%, 0%, 0%)\" stroke-opacity=\"1\" stroke-miterlimit=\"10\" d=\"M 3.083352 -34.512531 L 10.657502 -49.664815 \" transform=\"matrix(0.980927, 0, 0, -0.980927, 19.725458, 6.692607)\"/>\n",
       "<path fill=\"none\" stroke-width=\"0.31879\" stroke-linecap=\"round\" stroke-linejoin=\"round\" stroke=\"rgb(0%, 0%, 0%)\" stroke-opacity=\"1\" stroke-miterlimit=\"10\" d=\"M -1.194722 1.59268 C -1.096759 0.996034 0.000367497 0.100182 0.297802 0.000446374 C -0.00141176 -0.0992944 -1.094961 -0.995166 -1.194693 -1.595376 \" transform=\"matrix(0.438641, 0.877302, 0.877302, -0.438641, 30.18148, 55.410809)\"/>\n",
       "<g fill=\"rgb(0%, 0%, 0%)\" fill-opacity=\"1\">\n",
       "<use xlink:href=\"#glyph-1731630588227001--0-0\" x=\"6.898858\" y=\"9.649121\"/>\n",
       "<use xlink:href=\"#glyph-1731630588227001--0-1\" x=\"12.029484\" y=\"9.649121\"/>\n",
       "<use xlink:href=\"#glyph-1731630588227001--0-2\" x=\"17.16011\" y=\"9.649121\"/>\n",
       "<use xlink:href=\"#glyph-1731630588227001--0-3\" x=\"22.290736\" y=\"9.649121\"/>\n",
       "<use xlink:href=\"#glyph-1731630588227001--0-4\" x=\"27.421362\" y=\"9.649121\"/>\n",
       "</g>\n",
       "<g fill=\"rgb(0%, 0%, 0%)\" fill-opacity=\"1\">\n",
       "<use xlink:href=\"#glyph-1731630588227001--0-5\" x=\"17.160334\" y=\"37.093491\"/>\n",
       "</g>\n",
       "<g fill=\"rgb(0%, 0%, 0%)\" fill-opacity=\"1\">\n",
       "<use xlink:href=\"#glyph-1731630588227001--0-6\" x=\"3.257658\" y=\"64.425056\"/>\n",
       "</g>\n",
       "<g fill=\"rgb(0%, 0%, 0%)\" fill-opacity=\"1\">\n",
       "<use xlink:href=\"#glyph-1731630588227001--0-7\" x=\"31.06301\" y=\"65.343203\"/>\n",
       "</g>\n",
       "</svg>\n",
       "\n"
      ],
      "text/plain": [
       "LabelledTree({4, 3} directed simple Int64 graph, Any[:block, :+, :a, 1])"
      ]
     },
     "metadata": {},
     "output_type": "display_data"
    }
   ],
   "source": [
    "TreeView.walk_tree(Base.remove_linenums!(quote_end_ex))"
   ]
  },
  {
   "cell_type": "code",
   "execution_count": 13,
   "metadata": {},
   "outputs": [
    {
     "data": {
      "text/plain": [
       "quote\n",
       "    a = 1\n",
       "    \u001b[90m#= e:\\Projects.jl\\Training.jl\\9. Expr\\jl_notebook_cell_df34fa98e69747e1a8f8a730347b8e2f_W6sZmlsZQ==.jl:1 =#\u001b[39m\n",
       "    b = 1 + 1\n",
       "    \u001b[90m#= e:\\Projects.jl\\Training.jl\\9. Expr\\jl_notebook_cell_df34fa98e69747e1a8f8a730347b8e2f_W6sZmlsZQ==.jl:1 =#\u001b[39m\n",
       "    c = 3\n",
       "    \u001b[90m#= e:\\Projects.jl\\Training.jl\\9. Expr\\jl_notebook_cell_df34fa98e69747e1a8f8a730347b8e2f_W6sZmlsZQ==.jl:1 =#\u001b[39m\n",
       "    d = a + b * c + 1\n",
       "end"
      ]
     },
     "metadata": {},
     "output_type": "display_data"
    }
   ],
   "source": [
    "colon_statements_ex = :(a=1; b=1+1; c=3; d= a+b*c+1;)"
   ]
  },
  {
   "cell_type": "code",
   "execution_count": 39,
   "metadata": {},
   "outputs": [
    {
     "data": {
      "text/plain": [
       "quote\n",
       "    \u001b[90m#= e:\\Projects.jl\\Training.jl\\9. Expr\\jl_notebook_cell_df34fa98e69747e1a8f8a730347b8e2f_W5sZmlsZQ==.jl:1 =#\u001b[39m\n",
       "    a = 1\n",
       "    \u001b[90m#= e:\\Projects.jl\\Training.jl\\9. Expr\\jl_notebook_cell_df34fa98e69747e1a8f8a730347b8e2f_W5sZmlsZQ==.jl:1 =#\u001b[39m\n",
       "    b = 1 + 1\n",
       "    \u001b[90m#= e:\\Projects.jl\\Training.jl\\9. Expr\\jl_notebook_cell_df34fa98e69747e1a8f8a730347b8e2f_W5sZmlsZQ==.jl:1 =#\u001b[39m\n",
       "    c = 3\n",
       "    \u001b[90m#= e:\\Projects.jl\\Training.jl\\9. Expr\\jl_notebook_cell_df34fa98e69747e1a8f8a730347b8e2f_W5sZmlsZQ==.jl:1 =#\u001b[39m\n",
       "    d = a + b * c + 1\n",
       "end"
      ]
     },
     "metadata": {},
     "output_type": "display_data"
    }
   ],
   "source": [
    "quote_end_statements_ex = quote a=1; b=1+1; c=3; d= a+b*c+1;end"
   ]
  },
  {
   "cell_type": "code",
   "execution_count": 40,
   "metadata": {},
   "outputs": [
    {
     "data": {
      "text/plain": [
       "quote\n",
       "    \u001b[90m#= e:\\Projects.jl\\Training.jl\\9. Expr\\jl_notebook_cell_df34fa98e69747e1a8f8a730347b8e2f_X16sZmlsZQ==.jl:2 =#\u001b[39m\n",
       "    a = 1\n",
       "    \u001b[90m#= e:\\Projects.jl\\Training.jl\\9. Expr\\jl_notebook_cell_df34fa98e69747e1a8f8a730347b8e2f_X16sZmlsZQ==.jl:3 =#\u001b[39m\n",
       "    b = 1 + 1\n",
       "    \u001b[90m#= e:\\Projects.jl\\Training.jl\\9. Expr\\jl_notebook_cell_df34fa98e69747e1a8f8a730347b8e2f_X16sZmlsZQ==.jl:4 =#\u001b[39m\n",
       "    c = 3\n",
       "    \u001b[90m#= e:\\Projects.jl\\Training.jl\\9. Expr\\jl_notebook_cell_df34fa98e69747e1a8f8a730347b8e2f_X16sZmlsZQ==.jl:5 =#\u001b[39m\n",
       "    d = a + b * c + 1\n",
       "end"
      ]
     },
     "metadata": {},
     "output_type": "display_data"
    }
   ],
   "source": [
    "quote_end_statements_ex2 = quote \n",
    "    a=1\n",
    "    b=1+1\n",
    "    c=3\n",
    "    d= a+b*c+1\n",
    "end"
   ]
  },
  {
   "cell_type": "code",
   "execution_count": 41,
   "metadata": {},
   "outputs": [
    {
     "data": {
      "text/plain": [
       "false"
      ]
     },
     "metadata": {},
     "output_type": "display_data"
    }
   ],
   "source": [
    "quote_end_statements_ex == quote_end_statements_ex2 # 行号信息不一样"
   ]
  },
  {
   "cell_type": "code",
   "execution_count": 42,
   "metadata": {},
   "outputs": [
    {
     "data": {
      "text/plain": [
       "false"
      ]
     },
     "metadata": {},
     "output_type": "display_data"
    }
   ],
   "source": [
    "colon_statements_ex == quote_end_statements_ex"
   ]
  },
  {
   "cell_type": "code",
   "execution_count": 43,
   "metadata": {},
   "outputs": [
    {
     "data": {
      "text/plain": [
       "true"
      ]
     },
     "metadata": {},
     "output_type": "display_data"
    }
   ],
   "source": [
    "Base.remove_linenums!(colon_statements_ex)\n",
    "Base.remove_linenums!(quote_end_statements_ex)\n",
    "colon_statements_ex == quote_end_statements_ex"
   ]
  },
  {
   "cell_type": "code",
   "execution_count": 44,
   "metadata": {},
   "outputs": [
    {
     "name": "stdout",
     "output_type": "stream",
     "text": [
      "(:block,\n",
      "  (:(=), :a, 1),\n",
      "  (:(=), :b, (:call, :+, 1, 1)),\n",
      "  (:(=), :c, 3),\n",
      "  (:(=), :d, (:call, :+, :a, (:call, :*, :b, :c), 1))\n",
      ")"
     ]
    }
   ],
   "source": [
    "Meta.show_sexpr(quote_end_statements_ex)"
   ]
  },
  {
   "cell_type": "code",
   "execution_count": 49,
   "metadata": {},
   "outputs": [
    {
     "data": {
      "text/plain": [
       "quote\n",
       "    \u001b[90m#= e:\\Projects.jl\\Training.jl\\9. Expr\\jl_notebook_cell_df34fa98e69747e1a8f8a730347b8e2f_X23sZmlsZQ==.jl:2 =#\u001b[39m\n",
       "    score = 78\n",
       "    \u001b[90m#= e:\\Projects.jl\\Training.jl\\9. Expr\\jl_notebook_cell_df34fa98e69747e1a8f8a730347b8e2f_X23sZmlsZQ==.jl:3 =#\u001b[39m\n",
       "    conclusion = \"\"\n",
       "    \u001b[90m#= e:\\Projects.jl\\Training.jl\\9. Expr\\jl_notebook_cell_df34fa98e69747e1a8f8a730347b8e2f_X23sZmlsZQ==.jl:4 =#\u001b[39m\n",
       "    if score > 60\n",
       "        \u001b[90m#= e:\\Projects.jl\\Training.jl\\9. Expr\\jl_notebook_cell_df34fa98e69747e1a8f8a730347b8e2f_X23sZmlsZQ==.jl:5 =#\u001b[39m\n",
       "        conclusion = \"Pass\"\n",
       "    else\n",
       "        \u001b[90m#= e:\\Projects.jl\\Training.jl\\9. Expr\\jl_notebook_cell_df34fa98e69747e1a8f8a730347b8e2f_X23sZmlsZQ==.jl:7 =#\u001b[39m\n",
       "        conclusion = \"Exam Again\"\n",
       "    end\n",
       "    \u001b[90m#= e:\\Projects.jl\\Training.jl\\9. Expr\\jl_notebook_cell_df34fa98e69747e1a8f8a730347b8e2f_X23sZmlsZQ==.jl:9 =#\u001b[39m\n",
       "    conclusion\n",
       "end"
      ]
     },
     "metadata": {},
     "output_type": "display_data"
    }
   ],
   "source": [
    "colon_block_ex = quote\n",
    "    score=78\n",
    "    conclusion=\"\"\n",
    "    if score > 60\n",
    "        conclusion=\"Pass\"\n",
    "    else\n",
    "        conclusion=\"Exam Again\"\n",
    "    end\n",
    "    conclusion\n",
    "end"
   ]
  },
  {
   "cell_type": "code",
   "execution_count": 1,
   "metadata": {},
   "outputs": [
    {
     "data": {
      "text/plain": [
       "7"
      ]
     },
     "metadata": {},
     "output_type": "display_data"
    }
   ],
   "source": [
    "eval(quote 1+2; 3+4 end)"
   ]
  },
  {
   "cell_type": "markdown",
   "metadata": {},
   "source": [
    "### https://www.reddit.com/r/Julia/comments/wih3k8/what_is_the_difference_between_and_quote/"
   ]
  },
  {
   "cell_type": "code",
   "execution_count": 4,
   "metadata": {},
   "outputs": [
    {
     "data": {
      "text/plain": [
       ":(module M\n",
       "  \u001b[90m#= e:\\Projects.jl\\Training.jl\\9. Expr\\jl_notebook_cell_df34fa98e69747e1a8f8a730347b8e2f_X24sZmlsZQ==.jl:1 =#\u001b[39m\n",
       "  \u001b[90m#= e:\\Projects.jl\\Training.jl\\9. Expr\\jl_notebook_cell_df34fa98e69747e1a8f8a730347b8e2f_X24sZmlsZQ==.jl:1 =#\u001b[39m\n",
       "  end)"
      ]
     },
     "metadata": {},
     "output_type": "display_data"
    },
    {
     "data": {
      "text/plain": [
       "quote\n",
       "    \u001b[90m#= e:\\Projects.jl\\Training.jl\\9. Expr\\jl_notebook_cell_df34fa98e69747e1a8f8a730347b8e2f_X24sZmlsZQ==.jl:2 =#\u001b[39m\n",
       "    module M\n",
       "    \u001b[90m#= e:\\Projects.jl\\Training.jl\\9. Expr\\jl_notebook_cell_df34fa98e69747e1a8f8a730347b8e2f_X24sZmlsZQ==.jl:2 =#\u001b[39m\n",
       "    \u001b[90m#= e:\\Projects.jl\\Training.jl\\9. Expr\\jl_notebook_cell_df34fa98e69747e1a8f8a730347b8e2f_X24sZmlsZQ==.jl:2 =#\u001b[39m\n",
       "    end\n",
       "end"
      ]
     },
     "metadata": {},
     "output_type": "display_data"
    }
   ],
   "source": [
    ":(module M  end) |> display\n",
    "quote module M  end end"
   ]
  },
  {
   "cell_type": "code",
   "execution_count": 5,
   "metadata": {},
   "outputs": [
    {
     "data": {
      "text/plain": [
       "Main.M"
      ]
     },
     "metadata": {},
     "output_type": "display_data"
    },
    {
     "ename": "ErrorException",
     "evalue": "syntax: \"module\" expression not at top level",
     "output_type": "error",
     "traceback": [
      "syntax: \"module\" expression not at top level\n",
      "\n",
      "Stacktrace:\n",
      " [1] top-level scope\n",
      "   @ none:1"
     ]
    }
   ],
   "source": [
    "eval(:(module M  end)) |> display\n",
    "eval(quote (module M  end) end)"
   ]
  },
  {
   "cell_type": "markdown",
   "metadata": {},
   "source": [
    "One line works, the other doesn't. Why?<br>\n",
    "一条行，另一条不行。为什么?"
   ]
  },
  {
   "cell_type": "markdown",
   "metadata": {},
   "source": [
    "The short explanation is that `quote` is the simpler of the two, and simply constructs an `Expr` object directly, with the expression head `:block`. As far as I can tell, the \"`block`\" means nothing, and only exists to group a bunch of code into a single node into the AST tree.<br>\n",
    "\n",
    "简而言之， `quote` 是两者中较简单的一个，直接构造一个 Expr 对象，表达式头为 `:block` 。据我所知，**“`block`”没有任何意义，它的存在只是为了将一堆代码分组到AST树的单个节点中**。"
   ]
  },
  {
   "cell_type": "markdown",
   "metadata": {},
   "source": [
    "The difference is that `:` does not add this `:block` node, but simply **gives the AST directly without a node above it**. This means for example:<br>\n",
    "不同之处在于 `:` 不添加这个 `:block` 节点，而只是直接给出AST，上面没有节点。这意味着例如："
   ]
  },
  {
   "cell_type": "markdown",
   "metadata": {},
   "source": [
    "+ `:(1) === 1`, because **a literal `1` is stored in the AST as its literal value, and `:` gives the value from the AST**. So `typeof(:(1)) == Int`, whereas` typeof(quote 1 end) == Expr`<br>\n",
    "\n",
    " `:(1) === 1` ，因为文本 `1` 作为文本值存储在AST中，而 : 给出AST的值，因此 `typeof(:(1)) == Int` ，而 `typeof(quote 1 end) == Expr` <br>\n",
    "\n",
    "+ Similarly, `typeof(:(a)) == Symbol`, since **symbols are stored in the AST directly as Symbol**, and so the top AST node of that \"AST\" is just Symbol, whereas `typeof(quote a end) == Expr`.<br>\n",
    "\n",
    "同样， `typeof(:(a)) == Symbol` ，由于符号直接存储在AST中为 `Symbol` ，因此该“AST”的AST顶部节点仅为 `Symbol` ，而 `typeof(quote a end) == Expr` 。"
   ]
  },
  {
   "cell_type": "code",
   "execution_count": 13,
   "metadata": {},
   "outputs": [
    {
     "data": {
      "text/plain": [
       "Int64"
      ]
     },
     "metadata": {},
     "output_type": "display_data"
    },
    {
     "name": "stdout",
     "output_type": "stream",
     "text": [
      "$(QuoteNode(1)) === 1 = true\n",
      "Int64 1\n"
     ]
    }
   ],
   "source": [
    "typeof(:(1)) |> display\n",
    "\n",
    "@show :(1) === 1\n",
    "\n",
    "dump(:(1))"
   ]
  },
  {
   "cell_type": "code",
   "execution_count": 12,
   "metadata": {},
   "outputs": [
    {
     "data": {
      "text/plain": [
       "Expr"
      ]
     },
     "metadata": {},
     "output_type": "display_data"
    },
    {
     "name": "stdout",
     "output_type": "stream",
     "text": [
      "$(Expr(:quote, quote\n",
      "    #= e:\\Projects.jl\\Training.jl\\9. Expr\\jl_notebook_cell_df34fa98e69747e1a8f8a730347b8e2f_X31sZmlsZQ==.jl:3 =#\n",
      "    1\n",
      "end)) === 1 = false\n",
      "Expr\n",
      "  head: Symbol block\n",
      "  args: Array{Any}((2,))\n",
      "    1: LineNumberNode\n",
      "      line: Int64 5\n",
      "      file: Symbol e:\\Projects.jl\\Training.jl\\9. Expr\\jl_notebook_cell_df34fa98e69747e1a8f8a730347b8e2f_X31sZmlsZQ==.jl\n",
      "    2: Int64 1\n"
     ]
    }
   ],
   "source": [
    "typeof(quote 1 end) |> display\n",
    "\n",
    "@show quote 1 end === 1\n",
    "\n",
    "dump(quote 1 end)"
   ]
  },
  {
   "cell_type": "code",
   "execution_count": 14,
   "metadata": {},
   "outputs": [
    {
     "data": {
      "text/plain": [
       "Symbol"
      ]
     },
     "metadata": {},
     "output_type": "display_data"
    },
    {
     "data": {
      "text/plain": [
       "true"
      ]
     },
     "metadata": {},
     "output_type": "display_data"
    }
   ],
   "source": [
    "(typeof(:(a)) == Symbol) |> display\n",
    "\n",
    "typeof(quote a end) == Expr"
   ]
  },
  {
   "cell_type": "markdown",
   "metadata": {},
   "source": [
    "The reason `:(module M end)` can be evaluated but `quote module M end end` can't, is just that **modules must be evaluated at top level in code**, and can't e.g. be generated in loops. Not sure why. And since **`quote` inserts `:block` as the top level** in the AST, the module node is no longer at the top of the AST.<br>\n",
    "\n",
    " `:(module M end)` 可以求值，但 `quote module M end end` 不能求值的原因只是模块必须在代码的顶层求值，并且不能例如在循环中生成。不知道为什么。由于 `quote` 插入 `:block` 作为AST的顶层，因此 `module` 节点不再位于AST的顶层。"
   ]
  },
  {
   "cell_type": "markdown",
   "metadata": {},
   "source": [
    "It seems that `module` can never reside in a code `block`, like one created by quote. You cannot do this, either:\n",
    "似乎 module 永远不能驻留在代码块中，如 quote 创建的代码块。你也不能这样做："
   ]
  },
  {
   "cell_type": "code",
   "execution_count": 15,
   "metadata": {},
   "outputs": [
    {
     "ename": "ErrorException",
     "evalue": "syntax: \"module\" expression not at top level",
     "output_type": "error",
     "traceback": [
      "syntax: \"module\" expression not at top level\n",
      "\n",
      "Stacktrace:\n",
      " [1] top-level scope\n",
      "   @ e:\\Projects.jl\\Training.jl\\9. Expr\\jl_notebook_cell_df34fa98e69747e1a8f8a730347b8e2f_X43sZmlsZQ==.jl:1"
     ]
    }
   ],
   "source": [
    "begin\n",
    "    module M end\n",
    "end"
   ]
  },
  {
   "cell_type": "markdown",
   "metadata": {},
   "source": [
    "even though you can do<br>\n",
    "即使你能做到"
   ]
  },
  {
   "cell_type": "code",
   "execution_count": 16,
   "metadata": {},
   "outputs": [
    {
     "data": {
      "text/plain": [
       "2"
      ]
     },
     "metadata": {},
     "output_type": "display_data"
    }
   ],
   "source": [
    "begin\n",
    "    1 + 1\n",
    "end"
   ]
  }
 ],
 "metadata": {
  "kernelspec": {
   "display_name": "Julia 1.11.0",
   "language": "julia",
   "name": "julia-1.11"
  },
  "language_info": {
   "file_extension": ".jl",
   "mimetype": "application/julia",
   "name": "julia",
   "version": "1.11.0"
  }
 },
 "nbformat": 4,
 "nbformat_minor": 2
}
