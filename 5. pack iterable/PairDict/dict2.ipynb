{
 "cells": [
  {
   "cell_type": "code",
   "execution_count": 1,
   "metadata": {},
   "outputs": [
    {
     "data": {
      "text/plain": [
       "KeySet for a Dict{Any, Any} with 6 entries. Keys:\n",
       "  \"c\"\n",
       "  2\n",
       "  \"b\"\n",
       "  \"a\"\n",
       "  1\n",
       "  \"d\""
      ]
     },
     "metadata": {},
     "output_type": "display_data"
    }
   ],
   "source": [
    "dct1= Dict(\"b\" => [6, 11], \"a\" => 9, \"d\" => \"hello\", \"c\" => [0,2], 2 => 22, 1 => 11)\n",
    "keys(dct1)"
   ]
  },
  {
   "cell_type": "code",
   "execution_count": 3,
   "metadata": {},
   "outputs": [
    {
     "data": {
      "text/plain": [
       "6-element Vector{Any}:\n",
       "  \"c\"\n",
       " 2\n",
       "  \"b\"\n",
       "  \"a\"\n",
       " 1\n",
       "  \"d\""
      ]
     },
     "metadata": {},
     "output_type": "display_data"
    }
   ],
   "source": [
    "ks = [k for (k,v) in dct1]"
   ]
  },
  {
   "cell_type": "code",
   "execution_count": 1,
   "metadata": {},
   "outputs": [
    {
     "data": {
      "text/plain": [
       "Dict{Int64, Any} with 4 entries:\n",
       "  4 => [0, 2]\n",
       "  2 => 9\n",
       "  3 => \"hello\"\n",
       "  1 => [6, 11]"
      ]
     },
     "metadata": {},
     "output_type": "display_data"
    }
   ],
   "source": [
    "dct1= Dict(1 => [6, 11], 2 => 9, 3 => \"hello\", 4 => [0,2])"
   ]
  },
  {
   "cell_type": "code",
   "execution_count": 2,
   "metadata": {},
   "outputs": [
    {
     "data": {
      "text/plain": [
       "\"phylum__indexes = [(\\\"Electricity and Magnetism\\\", [143, 225]), (\\\"Acoustics\\\", [259, 281]), (\\\"Other types\\\", [511]), \\n(\\\"Space and Time\\\", [1, 21]), (\\\"Heat\\\", [90, 142]), (\\\"Atomic and Nuclear Physics\\\", [343, 378]), \\n(\\\"Solid State Physics\\\", [465, 510]), (\\\"Mechanics\\\", [36, 89]), (\\\"Periodic and related phenomens\\\", [22, 35]), \\n(\\\"Characteristic Numbers\\\", [439, 464]), (\\\"Light and Related Electromagnetic Radiations\\\", [226, 258]), (\\\"Nuclear Reactions and Ionizing Radiations\\\", [379, 438]), \\n(\\\"Physical chemistry and molecular physics\\\", [282, 342])]\""
      ]
     },
     "metadata": {},
     "output_type": "display_data"
    }
   ],
   "source": [
    "s= \"\"\"phylum__indexes = [Pair{Any, Union{String, SubString{String}}}(\"Electricity and Magnetism\", [143, 225]), Pair{Any, Any}(\"Acoustics\", [259, 281]), Pair{Any, Any}(\"Other types\", [511]), \n",
    "Pair{Any, Any}(\"Space and Time\", [1, 21]), Pair{Any, Any}(\"Heat\", [90, 142]), Pair{Any, Any}(\"Atomic and Nuclear Physics\", [343, 378]), \n",
    "Pair{Any, Any}(\"Solid State Physics\", [465, 510]), Pair{Any, Any}(\"Mechanics\", [36, 89]), Pair{Any, Any}(\"Periodic and related phenomens\", [22, 35]), \n",
    "Pair{Any, Any}(\"Characteristic Numbers\", [439, 464]), Pair{Any, Any}(\"Light and Related Electromagnetic Radiations\", [226, 258]), Pair{Any, Any}(\"Nuclear Reactions and Ionizing Radiations\", [379, 438]), \n",
    "Pair{Any, Any}(\"Physical chemistry and molecular physics\", [282, 342])]\"\"\"\n",
    "\n",
    "replace(s, r\"Pair\\{[\\s\\S]+?\\}+\"=>\"\") "
   ]
  },
  {
   "cell_type": "code",
   "execution_count": 3,
   "metadata": {},
   "outputs": [
    {
     "data": {
      "text/plain": [
       "Dict{Int64, Vector} with 3 entries:\n",
       "  2 => [\"connect\", \"\"]\n",
       "  3 => Any[\"ifelse\", Any[]]\n",
       "  1 => [\"normal\", \"a ~ 3b\"]"
      ]
     },
     "metadata": {},
     "output_type": "display_data"
    }
   ],
   "source": [
    "dict2 = Dict(1 => [\"normal\", \"a ~ 3b\"], 2=>[\"connect\", \"\"], 3=>[\"ifelse\", []])"
   ]
  },
  {
   "cell_type": "code",
   "execution_count": 10,
   "metadata": {},
   "outputs": [
    {
     "ename": "MethodError",
     "evalue": "MethodError: no method matching get(::Dict{String, Int64}, ::String)\n\nClosest candidates are:\n  get(::Dict{K, V}, ::Any, !Matched::Any) where {K, V}\n   @ Base dict.jl:523\n  get(!Matched::Pkg.Types.Manifest, ::Any, !Matched::Any)\n   @ Pkg C:\\Users\\TCY\\.julia\\juliaup\\julia-1.10.1+0.x64.w64.mingw32\\share\\julia\\stdlib\\v1.10\\Pkg\\src\\Types.jl:311\n  get(!Matched::Base.EnvDict, ::AbstractString, !Matched::Any)\n   @ Base env.jl:157\n  ...\n",
     "output_type": "error",
     "traceback": [
      "MethodError: no method matching get(::Dict{String, Int64}, ::String)\n",
      "\n",
      "Closest candidates are:\n",
      "  get(::Dict{K, V}, ::Any, !Matched::Any) where {K, V}\n",
      "   @ Base dict.jl:523\n",
      "  get(!Matched::Pkg.Types.Manifest, ::Any, !Matched::Any)\n",
      "   @ Pkg C:\\Users\\TCY\\.julia\\juliaup\\julia-1.10.1+0.x64.w64.mingw32\\share\\julia\\stdlib\\v1.10\\Pkg\\src\\Types.jl:311\n",
      "  get(!Matched::Base.EnvDict, ::AbstractString, !Matched::Any)\n",
      "   @ Base env.jl:157\n",
      "  ...\n",
      "\n",
      "\n",
      "Stacktrace:\n",
      " [1] top-level scope\n",
      "   @ e:\\JuliaProjects\\Training.jl\\series\\PairDict\\dict2.ipynb:12"
     ]
    }
   ],
   "source": [
    "# https://docs.juliacn.com/latest/base/collections/#Base.get\n",
    "\n",
    "# 来自百度\n",
    "# 创建一个字典\n",
    "dict = Dict(\"a\" => 1, \"b\" => 2)\n",
    " \n",
    "# # 获取键\"a\"对应的值\n",
    "# value_a = get(dict, \"a\", \"default_value\")  # 返回1\n",
    " \n",
    "# # 获取不存在的键\"c\"\n",
    "# value_c = get(dict, \"c\", \"default_value\")  # 返回\"default_value\"\n",
    " \n",
    "# 获取不存在的键\"c\"，不提供默认值\n",
    "value_c_no_default = get(dict, \"c\")  # 返回nothing"
   ]
  }
 ],
 "metadata": {
  "kernelspec": {
   "display_name": "Julia 1.10.1",
   "language": "julia",
   "name": "julia-1.10"
  },
  "language_info": {
   "file_extension": ".jl",
   "mimetype": "application/julia",
   "name": "julia",
   "version": "1.10.1"
  }
 },
 "nbformat": 4,
 "nbformat_minor": 2
}
