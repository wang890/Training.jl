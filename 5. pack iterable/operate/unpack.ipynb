{
 "cells": [
  {
   "cell_type": "markdown",
   "metadata": {},
   "source": [
    "https://docs.juliacn.com/latest/manual/functions/#destructuring-assignment\n",
    "+ pack类数据, 都能unpack,\n",
    "+ 但Tuple在函数的参数传递和结果返回中常用\n",
    "+ 先测试Tuple,再测试其他类型"
   ]
  }
 ],
 "metadata": {
  "language_info": {
   "name": "python"
  }
 },
 "nbformat": 4,
 "nbformat_minor": 2
}
