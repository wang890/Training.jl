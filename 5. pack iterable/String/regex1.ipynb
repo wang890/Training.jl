{
 "cells": [
  {
   "cell_type": "markdown",
   "metadata": {},
   "source": [
    "[Julia 中的正则表达式(1)](https://www.imangodoc.com/VkVq914E.html)"
   ]
  },
  {
   "cell_type": "code",
   "execution_count": 2,
   "metadata": {},
   "outputs": [],
   "source": [
    "using General.Aux"
   ]
  },
  {
   "cell_type": "code",
   "execution_count": 10,
   "metadata": {},
   "outputs": [
    {
     "data": {
      "text/plain": [
       "true"
      ]
     },
     "metadata": {},
     "output_type": "display_data"
    },
    {
     "name": "stdout",
     "output_type": "stream",
     "text": [
      "\n",
      "regex, Regex\n",
      "  = r\"hello\"\n",
      "\n",
      "m, RegexMatch\n",
      "  = RegexMatch(\"hello\")\n",
      "\n",
      "m_proper, NTuple{5, Symbol}\n",
      "  = (:match, :captures, :offset, :offsets, :regex)\n",
      "\n",
      "m.match, SubString{String}\n",
      "  = hello\n",
      "\n",
      "m.offset, Int64\n",
      "  = 1\n"
     ]
    }
   ],
   "source": [
    "regex = r\"hello\"\n",
    "\n",
    "occursin(regex, \"hello world\") |> display\n",
    "\n",
    "m = match(regex, \"hello world\")\n",
    "\n",
    "m_proper = propertynames(m)\n",
    "\n",
    "@logt regex m m_proper m.match m.offset"
   ]
  },
  {
   "cell_type": "code",
   "execution_count": 4,
   "metadata": {},
   "outputs": [
    {
     "data": {
      "text/plain": [
       "true"
      ]
     },
     "metadata": {},
     "output_type": "display_data"
    },
    {
     "data": {
      "text/plain": [
       "false"
      ]
     },
     "metadata": {},
     "output_type": "display_data"
    },
    {
     "data": {
      "text/plain": [
       "true"
      ]
     },
     "metadata": {},
     "output_type": "display_data"
    }
   ],
   "source": [
    "occursin(r\"^SI\\.|^SIunits\\.\",\"SI.Energy\")  |> display\n",
    "occursin(r\"^SI\\.|^SIunits\\.\",\"Plant.SI.Energy\")  |> display\n",
    "occursin(r\"^SI\\.|^SIunits\\.\",\"SIunits.Energy\")  |> display"
   ]
  },
  {
   "cell_type": "code",
   "execution_count": 3,
   "metadata": {},
   "outputs": [
    {
     "ename": "UndefVarError",
     "evalue": "UndefVarError: `regex` not defined",
     "output_type": "error",
     "traceback": [
      "UndefVarError: `regex` not defined\n",
      "\n",
      "Stacktrace:\n",
      " [1] top-level scope\n",
      "   @ e:\\JuliaProjects\\Training.jl\\series\\String\\regex1.ipynb:1"
     ]
    }
   ],
   "source": [
    "em = eachmatch(regex, \"hello world, hello all\")\n",
    "\n",
    "em_proper = propertynames(em)\n",
    "\n",
    "@logt em em_proper\n",
    "\n",
    "println(\"\")\n",
    "\n",
    "for m in em\n",
    "    println(m.offset,\": \", m.match)\n",
    "end"
   ]
  },
  {
   "cell_type": "markdown",
   "metadata": {},
   "source": [
    "+ . 匹配任何字符\n",
    "+ ^ 匹配行的开头\n",
    "+ $ 匹配行的结尾\n",
    "+ [] 匹配方括号中列出的任何一个字符\n",
    "+ [^] 不匹配方括号中列出的任何一个字符\n",
    "+ | 匹配管道两侧的任何一个正则表达式\n",
    "+ \\* 匹配前一个字符零次或多次\n",
    "+ \\+ 匹配前一个字符一次或多次\n",
    "+ ? 匹配前一个字符零次或一次\n",
    "+ {} 匹配在花括号中指定的特定次数\n",
    "+ () 创建捕获组"
   ]
  },
  {
   "cell_type": "code",
   "execution_count": 14,
   "metadata": {},
   "outputs": [
    {
     "name": "stdout",
     "output_type": "stream",
     "text": [
      "\n",
      "em, Base.RegexMatchIterator\n",
      "  = Base.RegexMatchIterator(r\"\\W+?Ga\\W+?\", \"Gahello(Ga, h), Ga * 2 /Ga word, Ga/Ga \\n end\", false)\n",
      "\n",
      "em_proper, Tuple{Symbol, Symbol, Symbol}\n",
      "  = (:regex, :string, :overlap)\n",
      "\n",
      "8: (Ga,\n",
      "14: ), Ga \n",
      "23:  /Ga \n",
      "32: , Ga/\n"
     ]
    }
   ],
   "source": [
    "em = eachmatch(r\"\\W+?Ga\\W+?\", \"Gahello(Ga, h), Ga * 2 /Ga word, Ga/Ga \\n end\")\n",
    "\n",
    "em_proper = propertynames(em)\n",
    "\n",
    "@logt em em_proper\n",
    "\n",
    "println(\"\")\n",
    "\n",
    "for m in em\n",
    "    println(m.offset,\": \", m.match)\n",
    "end"
   ]
  },
  {
   "cell_type": "code",
   "execution_count": 15,
   "metadata": {},
   "outputs": [
    {
     "data": {
      "text/plain": [
       "4-element Vector{UnitRange{Int64}}:\n",
       " 8:11\n",
       " 14:19\n",
       " 23:27\n",
       " 32:36"
      ]
     },
     "metadata": {},
     "output_type": "display_data"
    }
   ],
   "source": [
    "findall(r\"\\W+?Ga\\W+?\", \"Gahello(Ga, h), Ga * 2 /Ga word, Ga/Ga \\n end\")"
   ]
  },
  {
   "cell_type": "code",
   "execution_count": 38,
   "metadata": {},
   "outputs": [
    {
     "data": {
      "text/plain": [
       "8-element Vector{UnitRange{Int64}}:\n",
       " 2:3\n",
       " 4:5\n",
       " 6:7\n",
       " 14:15\n",
       " 22:23\n",
       " 30:31\n",
       " 39:40\n",
       " 42:43"
      ]
     },
     "metadata": {},
     "output_type": "display_data"
    }
   ],
   "source": [
    "finds = findall(\"Ga\", \" GaGaGahello(Ga, h), Ga * 2 /Ga word, Ga/Ga \\n end\")\n",
    "# 连续Ga不算"
   ]
  },
  {
   "cell_type": "code",
   "execution_count": 39,
   "metadata": {},
   "outputs": [
    {
     "data": {
      "text/plain": [
       "8-element Vector{UnitRange{Int64}}:\n",
       " 2:3\n",
       " 4:5\n",
       " 6:7\n",
       " 14:15\n",
       " 22:23\n",
       " 30:31\n",
       " 39:40\n",
       " 42:43"
      ]
     },
     "metadata": {},
     "output_type": "display_data"
    }
   ],
   "source": [
    "first = \"Ga\"\n",
    "finds = findall(\"Ga\", \" GaGaGahello(Ga, h), Ga * 2 /Ga word, Ga/Ga \\n end\")"
   ]
  },
  {
   "cell_type": "code",
   "execution_count": 33,
   "metadata": {},
   "outputs": [
    {
     "data": {
      "text/plain": [
       "(:start, :stop)"
      ]
     },
     "metadata": {},
     "output_type": "display_data"
    }
   ],
   "source": [
    "propertynames(finds[1])"
   ]
  },
  {
   "cell_type": "code",
   "execution_count": 41,
   "metadata": {},
   "outputs": [
    {
     "data": {
      "text/plain": [
       "true"
      ]
     },
     "metadata": {},
     "output_type": "display_data"
    }
   ],
   "source": [
    "endswith(\"GahelloGa_\",r\"[a-zA-Z]|Ga_\")"
   ]
  },
  {
   "cell_type": "code",
   "execution_count": 36,
   "metadata": {},
   "outputs": [
    {
     "data": {
      "text/plain": [
       "false"
      ]
     },
     "metadata": {},
     "output_type": "display_data"
    }
   ],
   "source": [
    "startswith(\"1Gahello(\",r\"[a-zA-Z(]\")"
   ]
  },
  {
   "cell_type": "code",
   "execution_count": 18,
   "metadata": {},
   "outputs": [
    {
     "data": {
      "text/plain": [
       "r\"[A-Za-z0-9._%+-]+@[A-Za-z0-9.-]+\\.[A-Za-z]{2,}\""
      ]
     },
     "metadata": {},
     "output_type": "display_data"
    }
   ],
   "source": [
    "# 匹配数字\n",
    "r1 = r\"\\d+\"\n",
    "\n",
    "# 匹配电子邮件\n",
    "r2 = r\"[A-Za-z0-9._%+-]+@[A-Za-z0-9.-]+\\.[A-Za-z]{2,}\""
   ]
  },
  {
   "cell_type": "code",
   "execution_count": 60,
   "metadata": {},
   "outputs": [
    {
     "data": {
      "text/plain": [
       "\"hi world\""
      ]
     },
     "metadata": {},
     "output_type": "display_data"
    },
    {
     "data": {
      "text/plain": [
       "(:match, :captures, :offset, :offsets, :regex)"
      ]
     },
     "metadata": {},
     "output_type": "display_data"
    },
    {
     "name": "stdout",
     "output_type": "stream",
     "text": [
      "\n",
      "mr, RegexMatch\n",
      "  = RegexMatch(\"hello world\", 1=\"hello\", 2=\"world\")\n",
      "\n",
      "mr.match, SubString{String}\n",
      "  = hello world\n",
      "\n",
      "mr.offset, Int64\n",
      "  = 1\n",
      "\n",
      "mr.offsets, Vector{Int64}\n",
      "  = [1, 7]\n",
      "\n",
      "mr.captures, Vector{Union{Nothing, SubString{String}}}\n",
      "  = Union{Nothing, SubString{String}}[\"hello\", \"world\"]\n",
      "\n",
      "== == == == == == == \n",
      "\n",
      "replaced1, String\n",
      "  = world hello\n"
     ]
    },
    {
     "ename": "Base.Meta.ParseError",
     "evalue": "ParseError:\n# Error @ e:\\JuliaProjects\\Training3.jl\\regex\\regex1.ipynb:19:32\n\r\nreplace(\"hello world\", r3 => \"$2 $1\") # 错误，可能语法规则改了\n#                              └ ── identifier or parenthesized expression expected after $ in string",
     "output_type": "error",
     "traceback": [
      "ParseError:\n",
      "# Error @ e:\\JuliaProjects\\Training3.jl\\regex\\regex1.ipynb:19:32\n",
      "\r\n",
      "replace(\"hello world\", r3 => \"$2 $1\") # 错误，可能语法规则改了\n",
      "#                              └ ── identifier or parenthesized expression expected after $ in string\n",
      "\n",
      "Stacktrace:\n",
      " [1] top-level scope\n",
      "   @ e:\\JuliaProjects\\Training3.jl\\regex\\regex1.ipynb:19"
     ]
    }
   ],
   "source": [
    "# 替换匹配的子字符串\n",
    "regex = r\"hello\"\n",
    "replace(\"hello world\", regex => \"hi\") |> display\n",
    "# \"hi world\"\n",
    "\n",
    "# 替换并插入捕获组值\n",
    "r3 = r\"(\\w+)\\s+(\\w+)\"\n",
    "mr = match(r3, \"hello world\")\n",
    "propertynames(mr) |> display\n",
    "\n",
    "@logt mr mr.match mr.offset mr.offsets mr.captures\n",
    "\n",
    "println(\"\\n== == == == == == == \")\n",
    "\n",
    "replaced1 = replace(\"hello world\", r3 => \"$(mr[2]) $(mr[1])\")\n",
    "\n",
    "@logt replaced1\n",
    "\n",
    "replace(\"hello world\", r3 => \"$2 $1\") # 错误，可能语法规则改了"
   ]
  },
  {
   "cell_type": "code",
   "execution_count": 52,
   "metadata": {},
   "outputs": [
    {
     "data": {
      "text/plain": [
       "3-element Vector{SubString{String}}:\n",
       " \"apple\"\n",
       " \"banana\"\n",
       " \"cherry\""
      ]
     },
     "metadata": {},
     "output_type": "display_data"
    },
    {
     "data": {
      "text/plain": [
       "3-element Vector{SubString{String}}:\n",
       " \"apple\"\n",
       " \"banana\"\n",
       " \"cherry\""
      ]
     },
     "metadata": {},
     "output_type": "display_data"
    }
   ],
   "source": [
    "split(\"apple,banana,cherry\", r\",\") |> display\n",
    "\n",
    "split(\"apple,banana,cherry\", \",\") |> display"
   ]
  }
 ],
 "metadata": {
  "kernelspec": {
   "display_name": "Julia 1.10.1",
   "language": "julia",
   "name": "julia-1.10"
  },
  "language_info": {
   "file_extension": ".jl",
   "mimetype": "application/julia",
   "name": "julia",
   "version": "1.10.1"
  }
 },
 "nbformat": 4,
 "nbformat_minor": 2
}
