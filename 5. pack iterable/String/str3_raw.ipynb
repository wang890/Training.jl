{
 "cells": [
  {
   "cell_type": "markdown",
   "metadata": {},
   "source": [
    "https://docs.juliacn.com/latest/manual/strings/#man-raw-string-literals"
   ]
  },
  {
   "cell_type": "code",
   "execution_count": 3,
   "metadata": {},
   "outputs": [
    {
     "name": "stdout",
     "output_type": "stream",
     "text": [
      "\"\n",
      "\"\n"
     ]
    }
   ],
   "source": [
    "println(raw\"\\\"\") \n",
    "println(\"\\\"\")"
   ]
  },
  {
   "cell_type": "code",
   "execution_count": 4,
   "metadata": {},
   "outputs": [
    {
     "name": "stdout",
     "output_type": "stream",
     "text": [
      "\\\\ \\\"\n"
     ]
    }
   ],
   "source": [
    "println(raw\"\\\\ \\\\\\\"\")"
   ]
  },
  {
   "cell_type": "code",
   "execution_count": 7,
   "metadata": {},
   "outputs": [
    {
     "name": "stdout",
     "output_type": "stream",
     "text": [
      "u\"rad\"\n"
     ]
    },
    {
     "ename": "Base.Meta.ParseError",
     "evalue": "ParseError:\n# Error @ e:\\JuliaProjects\\Training.jl\\chp02\\str3_raw.ipynb:4:8\n\r\nstr1 = \\\"u\"rad\"\\\" # 错误\n#      ╙ ── not a unary operator",
     "output_type": "error",
     "traceback": [
      "ParseError:\n",
      "# Error @ e:\\JuliaProjects\\Training.jl\\chp02\\str3_raw.ipynb:4:8\n",
      "\r\n",
      "str1 = \\\"u\"rad\"\\\" # 错误\n",
      "#      ╙ ── not a unary operator\n",
      "\n",
      "Stacktrace:\n",
      " [1] top-level scope\n",
      "   @ e:\\JuliaProjects\\Training.jl\\chp02\\str3_raw.ipynb:4"
     ]
    }
   ],
   "source": [
    "str1 = \"u\\\"rad\\\"\"  # 正确\n",
    "println(str1)\n",
    "str1 = \\\"u\"rad\"\\\" # 错误"
   ]
  },
  {
   "cell_type": "code",
   "execution_count": 8,
   "metadata": {},
   "outputs": [
    {
     "ename": "Base.Meta.ParseError",
     "evalue": "ParseError:\n# Error @ e:\\JuliaProjects\\Training.jl\\chp02\\str3_raw.ipynb:1:12\n\"\"\"u\"rad\"\"\"\"  # 错误\n#          └ ── cannot juxtapose string literal",
     "output_type": "error",
     "traceback": [
      "ParseError:\n",
      "# Error @ e:\\JuliaProjects\\Training.jl\\chp02\\str3_raw.ipynb:1:12\n",
      "\"\"\"u\"rad\"\"\"\"  # 错误\n",
      "#          └ ── cannot juxtapose string literal\n",
      "\n",
      "Stacktrace:\n",
      " [1] top-level scope\n",
      "   @ e:\\JuliaProjects\\Training.jl\\chp02\\str3_raw.ipynb:1"
     ]
    }
   ],
   "source": [
    "\"\"\"u\"rad\"\"\"\"  # 错误"
   ]
  },
  {
   "cell_type": "code",
   "execution_count": 1,
   "metadata": {},
   "outputs": [
    {
     "ename": "Base.Meta.ParseError",
     "evalue": "ParseError:\n# Error @ e:\\JuliaProjects\\Training.jl\\chp02\\str3_raw.ipynb:4:1\n\"Angle\" => Dict(\"quantity\"=>\"Angle\", \"unit\"=>\"rad\", \"u\"=>\"u\\\"rad\\\"\", \"displayUnit\"=>\"deg\", )\r\n\"SolidAngle\" => Dict(\"quantity\"=>\"SolidAngle\", \"unit\"=>\"sr\", \"u\"=>\"u\\\"sr\\\"\", ))\n└──────────────────────────────────────────────────────────────────────────┘ ── Expected `)`",
     "output_type": "error",
     "traceback": [
      "ParseError:\n",
      "# Error @ e:\\JuliaProjects\\Training.jl\\chp02\\str3_raw.ipynb:4:1\n",
      "\"Angle\" => Dict(\"quantity\"=>\"Angle\", \"unit\"=>\"rad\", \"u\"=>\"u\\\"rad\\\"\", \"displayUnit\"=>\"deg\", )\r\n",
      "\"SolidAngle\" => Dict(\"quantity\"=>\"SolidAngle\", \"unit\"=>\"sr\", \"u\"=>\"u\\\"sr\\\"\", ))\n",
      "└──────────────────────────────────────────────────────────────────────────┘ ── Expected `)`\n",
      "\n",
      "Stacktrace:\n",
      " [1] top-level scope\n",
      "   @ e:\\JuliaProjects\\Training.jl\\chp02\\str3_raw.ipynb:4"
     ]
    }
   ],
   "source": [
    "SI = Dict(\n",
    "# Space and Time (chapter 1 of ISO 31-1992)\n",
    "\"Angle\" => Dict(\"quantity\"=>\"Angle\", \"unit\"=>\"rad\", \"u\"=>\"u\\\"rad\\\"\", \"displayUnit\"=>\"deg\", )  # 这里缺逗号,看半天没看出来\n",
    "\"SolidAngle\" => Dict(\"quantity\"=>\"SolidAngle\", \"unit\"=>\"sr\", \"u\"=>\"u\\\"sr\\\"\", ))"
   ]
  },
  {
   "cell_type": "code",
   "execution_count": 4,
   "metadata": {},
   "outputs": [
    {
     "data": {
      "text/plain": [
       "Dict{String, Dict{String, String}} with 2 entries:\n",
       "  \"Angle\"      => Dict(\"unit\"=>\"rad\", \"u\"=>\"u\\\"rad\\\"\", \"quantity\"=>\"Angle\", \"di…\n",
       "  \"SolidAngle\" => Dict(\"unit\"=>\"sr\", \"u\"=>\"u\\\"sr\\\"\", \"quantity\"=>\"SolidAngle\")"
      ]
     },
     "metadata": {},
     "output_type": "display_data"
    }
   ],
   "source": [
    "SI = Dict(\n",
    "# Space and Time (chapter 1 of ISO 31-1992)\n",
    "\"Angle\" => Dict(\"quantity\"=>\"Angle\", \"unit\"=>\"rad\", \"u\"=>\"u\\\"rad\\\"\", \"displayUnit\"=>\"deg\", ),\n",
    "\"SolidAngle\" => Dict(\"quantity\"=>\"SolidAngle\", \"unit\"=>\"sr\", \"u\"=>\"u\\\"sr\\\"\", ))"
   ]
  }
 ],
 "metadata": {
  "kernelspec": {
   "display_name": "Julia 1.10.1",
   "language": "julia",
   "name": "julia-1.10"
  },
  "language_info": {
   "file_extension": ".jl",
   "mimetype": "application/julia",
   "name": "julia",
   "version": "1.10.1"
  }
 },
 "nbformat": 4,
 "nbformat_minor": 2
}
