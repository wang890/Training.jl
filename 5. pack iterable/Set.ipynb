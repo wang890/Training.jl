{
 "cells": [
  {
   "cell_type": "markdown",
   "metadata": {},
   "source": [
    "https://docs.juliacn.com/latest/base/collections/#Base.Set"
   ]
  },
  {
   "cell_type": "code",
   "execution_count": 1,
   "metadata": {},
   "outputs": [],
   "source": [
    "using General.Aux"
   ]
  },
  {
   "cell_type": "code",
   "execution_count": 7,
   "metadata": {},
   "outputs": [
    {
     "name": "stdout",
     "output_type": "stream",
     "text": [
      "\n",
      "s1, Set{Float64}\n",
      "  = Set([5.0, 4.0, 3.5])\n",
      "\n",
      "s2, Set{Int64}\n",
      "  = Set([5, 4, 3])\n",
      "\n",
      "s3, Set{Pair{String, Int64}}\n",
      "  = Set([\"a\" => 1, \"b\" => 2])\n"
     ]
    }
   ],
   "source": [
    "s1 = Set([3.5, 4, 5])\n",
    "s2 = Set((3,4,4,5,5))\n",
    "s3 = Set(Dict(\"a\"=>1,\"b\"=>2))\n",
    "@logt s1 s2 s3"
   ]
  },
  {
   "cell_type": "markdown",
   "metadata": {},
   "source": [
    "集合运算"
   ]
  },
  {
   "cell_type": "code",
   "execution_count": null,
   "metadata": {},
   "outputs": [],
   "source": []
  }
 ],
 "metadata": {
  "kernelspec": {
   "display_name": "Julia 1.11.0",
   "language": "julia",
   "name": "julia-1.11"
  },
  "language_info": {
   "file_extension": ".jl",
   "mimetype": "application/julia",
   "name": "julia",
   "version": "1.11.0"
  }
 },
 "nbformat": 4,
 "nbformat_minor": 2
}
