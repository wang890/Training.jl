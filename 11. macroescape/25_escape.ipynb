{
 "cells": [
  {
   "cell_type": "code",
   "execution_count": 1,
   "metadata": {},
   "outputs": [
    {
     "data": {
      "text/plain": [
       "Main.AnotherModule"
      ]
     },
     "metadata": {},
     "output_type": "display_data"
    }
   ],
   "source": [
    "# Module定义，以及Module总宏函数的定义\n",
    "module AnotherModule\n",
    "    export @show_value_user_and_module\n",
    "\n",
    "    orange = \"bitter\"\n",
    "    macro show_value_user_and_module(variable)\n",
    "        variable |> display\n",
    "        variable |> typeof |> display\n",
    "        quote\n",
    "            println(\"The \", $(string(variable)), \" you passed is \", $(esc(variable)), # :orange的值\n",
    "            \n",
    "                \" and the one from the module is \", $variable)  # Main.AnotherModule.orange, :orange求值即orange\n",
    "\n",
    "            # Main.AnotherModule.println(\"The \", \"orange\", \" you passed is \", orange, \" \n",
    "            # and the one from the module is \", Main.AnotherModule.orange) \n",
    "        end\n",
    "    end\n",
    "end"
   ]
  },
  {
   "cell_type": "code",
   "execution_count": 2,
   "metadata": {},
   "outputs": [
    {
     "data": {
      "text/plain": [
       ":orange"
      ]
     },
     "metadata": {},
     "output_type": "display_data"
    },
    {
     "data": {
      "text/plain": [
       "Symbol"
      ]
     },
     "metadata": {},
     "output_type": "display_data"
    },
    {
     "ename": "UndefVarError",
     "evalue": "UndefVarError: `orange` not defined",
     "output_type": "error",
     "traceback": [
      "UndefVarError: `orange` not defined\n",
      "\n",
      "Stacktrace:\n",
      " [1] top-level scope\n",
      "   @ e:\\JuliaProjects\\Training.jl\\macro\\25_escape.ipynb:10"
     ]
    }
   ],
   "source": [
    "using .AnotherModule\n",
    "@show_value_user_and_module orange"
   ]
  },
  {
   "cell_type": "code",
   "execution_count": 3,
   "metadata": {},
   "outputs": [
    {
     "data": {
      "text/plain": [
       "\"sweet\""
      ]
     },
     "metadata": {},
     "output_type": "display_data"
    }
   ],
   "source": [
    "orange = \"sweet\""
   ]
  },
  {
   "cell_type": "code",
   "execution_count": 4,
   "metadata": {},
   "outputs": [
    {
     "data": {
      "text/plain": [
       ":orange"
      ]
     },
     "metadata": {},
     "output_type": "display_data"
    },
    {
     "data": {
      "text/plain": [
       "Symbol"
      ]
     },
     "metadata": {},
     "output_type": "display_data"
    },
    {
     "name": "stdout",
     "output_type": "stream",
     "text": [
      "The orange you passed is sweet and the one from the module is bitter\n"
     ]
    }
   ],
   "source": [
    "using .AnotherModule\n",
    "@show_value_user_and_module orange"
   ]
  },
  {
   "cell_type": "code",
   "execution_count": 5,
   "metadata": {},
   "outputs": [
    {
     "data": {
      "text/plain": [
       ":orange"
      ]
     },
     "metadata": {},
     "output_type": "display_data"
    },
    {
     "data": {
      "text/plain": [
       "Symbol"
      ]
     },
     "metadata": {},
     "output_type": "display_data"
    },
    {
     "data": {
      "text/plain": [
       "quote\n",
       "    \u001b[90m#= e:\\JuliaProjects\\Training.jl\\macro\\24_macro.ipynb:10 =#\u001b[39m\n",
       "    Main.AnotherModule.println(\"The \", \"orange\", \" you passed is \", orange, \" and the one from the module is \", Main.AnotherModule.orange)\n",
       "end"
      ]
     },
     "metadata": {},
     "output_type": "display_data"
    }
   ],
   "source": [
    "@macroexpand @show_value_user_and_module orange"
   ]
  },
  {
   "cell_type": "code",
   "execution_count": 6,
   "metadata": {},
   "outputs": [
    {
     "data": {
      "text/plain": [
       "Symbol"
      ]
     },
     "metadata": {},
     "output_type": "display_data"
    },
    {
     "data": {
      "text/plain": [
       "\"orange\""
      ]
     },
     "metadata": {},
     "output_type": "display_data"
    },
    {
     "data": {
      "text/plain": [
       "\"sweet\""
      ]
     },
     "metadata": {},
     "output_type": "display_data"
    }
   ],
   "source": [
    ":orange |> typeof |> display\n",
    "string(:orange) |> display\n",
    "orange |> display"
   ]
  },
  {
   "cell_type": "code",
   "execution_count": 7,
   "metadata": {},
   "outputs": [
    {
     "data": {
      "text/plain": [
       "Symbol"
      ]
     },
     "metadata": {},
     "output_type": "display_data"
    },
    {
     "data": {
      "text/plain": [
       "\"orange\""
      ]
     },
     "metadata": {},
     "output_type": "display_data"
    },
    {
     "data": {
      "text/plain": [
       "\"sweet\""
      ]
     },
     "metadata": {},
     "output_type": "display_data"
    },
    {
     "data": {
      "text/plain": [
       ":orange"
      ]
     },
     "metadata": {},
     "output_type": "display_data"
    },
    {
     "data": {
      "text/plain": [
       "Symbol"
      ]
     },
     "metadata": {},
     "output_type": "display_data"
    },
    {
     "name": "stdout",
     "output_type": "stream",
     "text": [
      "The orange you passed is sweet and the one from the module is bitter\n"
     ]
    }
   ],
   "source": [
    ":orange |> typeof |> display\n",
    "string(:orange) |> display\n",
    "orange |> display\n",
    "\n",
    "using .AnotherModule\n",
    "\n",
    "@show_value_user_and_module orange"
   ]
  }
 ],
 "metadata": {
  "kernelspec": {
   "display_name": "Julia 1.10.1",
   "language": "julia",
   "name": "julia-1.10"
  },
  "language_info": {
   "file_extension": ".jl",
   "mimetype": "application/julia",
   "name": "julia",
   "version": "1.10.1"
  }
 },
 "nbformat": 4,
 "nbformat_minor": 2
}
