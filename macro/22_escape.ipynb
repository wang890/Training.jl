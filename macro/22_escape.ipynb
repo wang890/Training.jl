{
 "cells": [
  {
   "cell_type": "markdown",
   "metadata": {},
   "source": [
    "如果懂得 macro 的目的与原理，不用 本文件 这样来回尝试（时间成本高）。"
   ]
  },
  {
   "cell_type": "code",
   "execution_count": null,
   "metadata": {},
   "outputs": [],
   "source": [
    "orange = \"sweet\""
   ]
  },
  {
   "cell_type": "code",
   "execution_count": null,
   "metadata": {},
   "outputs": [],
   "source": [
    "macro show_value(variable)    \n",
    "    quote\n",
    "        println(\"The \", $(string(variable)), \" you passed is \", $(esc(variable)))\n",
    "    end\n",
    "end\n",
    "@show_value orange\n",
    "@macroexpand @show_value(orange)\n",
    "# Main.println(\"The \", \"orange\", \" you passed is \", orange)"
   ]
  },
  {
   "cell_type": "code",
   "execution_count": null,
   "metadata": {},
   "outputs": [],
   "source": [
    "macro show_value(variable)    \n",
    "    quote\n",
    "        println(\"The \", $(string(variable)), \" you passed is \", variable)\n",
    "    end\n",
    "end\n",
    "\n",
    "@macroexpand @show_value(orange)\n",
    "@show_value orange\n",
    "# Main.println(\"The \", \"orange\", \" you passed is \", Main.variable)\n"
   ]
  },
  {
   "cell_type": "code",
   "execution_count": null,
   "metadata": {},
   "outputs": [],
   "source": [
    "macro show_value(variable)    \n",
    "    quote\n",
    "        println(\"The \", $(string(variable)), \" you passed is \", $variable) \n",
    "    end\n",
    "end\n",
    "\n",
    "@show_value orange\n",
    "@macroexpand @show_value(orange)\n",
    "# Main.println(\"The \", \"orange\", \" you passed is \", Main.orange)"
   ]
  },
  {
   "cell_type": "code",
   "execution_count": null,
   "metadata": {},
   "outputs": [],
   "source": [
    "macro show_value(variable)    \n",
    "    quote\n",
    "        println(\"The \", $(string($variable)), \" you passed is \", $variable)\n",
    "    end\n",
    "end\n",
    "\n",
    "@show_value orange\n",
    "@macroexpand @show_value(orange)"
   ]
  },
  {
   "cell_type": "code",
   "execution_count": null,
   "metadata": {},
   "outputs": [],
   "source": [
    "macro show_value(variable)    \n",
    "    quote\n",
    "        println(\"The \", $(variable), \" you passed is \", $(esc(variable)))\n",
    "    end\n",
    "end\n",
    "\n",
    "@show_value orange\n",
    "@macroexpand @show_value(orange)\n",
    "# Main.println(\"The \", Main.orange, \" you passed is \", orange)"
   ]
  },
  {
   "cell_type": "code",
   "execution_count": null,
   "metadata": {},
   "outputs": [],
   "source": [
    "macro show_value(variable)    \n",
    "    quote\n",
    "        println(\"The \", string(variable), \" you passed is \", $(esc(variable)))\n",
    "    end\n",
    "end\n",
    "\n",
    "@show_value orange\n",
    "@macroexpand @show_value(orange)\n",
    "# Main.println(\"The \", Main.string(Main.variable), \" you passed is \", orange)"
   ]
  },
  {
   "cell_type": "code",
   "execution_count": null,
   "metadata": {},
   "outputs": [],
   "source": [
    "macro show_value(variable)    \n",
    "    quote\n",
    "        println(\"The \", $(string(variable)), \" you passed is \", esc(variable)) \n",
    "    end\n",
    "end\n",
    "\n",
    "@show_value orange\n",
    "@macroexpand @show_value(orange)\n",
    "# Main.println(\"The \", \"orange\", \" you passed is \", Main.esc(Main.variable))"
   ]
  },
  {
   "cell_type": "code",
   "execution_count": null,
   "metadata": {},
   "outputs": [],
   "source": [
    "macro show_value(variable)    \n",
    "    quote\n",
    "        println(\"The \", $(string(variable)), \" you passed is \", $esc(variable)) \n",
    "    end\n",
    "end\n",
    "\n",
    "@show_value orange\n",
    "@macroexpand @show_value(orange)\n",
    "# Main.println(\"The \", \"orange\", \" you passed is \", (esc)(Main.variable))"
   ]
  }
 ],
 "metadata": {
  "kernelspec": {
   "display_name": "Julia 1.10.1",
   "language": "julia",
   "name": "julia-1.10"
  },
  "language_info": {
   "file_extension": ".jl",
   "mimetype": "application/julia",
   "name": "julia",
   "version": "1.10.1"
  }
 },
 "nbformat": 4,
 "nbformat_minor": 2
}
