{
 "cells": [
  {
   "cell_type": "code",
   "execution_count": 14,
   "metadata": {},
   "outputs": [
    {
     "data": {
      "text/plain": [
       "\"sweet\""
      ]
     },
     "metadata": {},
     "output_type": "display_data"
    }
   ],
   "source": [
    "orange = \"sweet\""
   ]
  },
  {
   "cell_type": "code",
   "execution_count": 15,
   "metadata": {},
   "outputs": [
    {
     "name": "stdout",
     "output_type": "stream",
     "text": [
      "The orange you passed is sweet\n"
     ]
    },
    {
     "data": {
      "text/plain": [
       "quote\n",
       "    \u001b[90m#= e:\\JuliaProjects\\Training.jl\\macro\\22_macro.ipynb:3 =#\u001b[39m\n",
       "    Main.println(\"The \", \"orange\", \" you passed is \", orange)\n",
       "end"
      ]
     },
     "metadata": {},
     "output_type": "display_data"
    }
   ],
   "source": [
    "macro show_value(variable)    \n",
    "    quote\n",
    "        println(\"The \", $(string(variable)), \" you passed is \", $(esc(variable)))\n",
    "    end\n",
    "end\n",
    "@show_value orange\n",
    "@macroexpand @show_value(orange)\n",
    "# Main.println(\"The \", \"orange\", \" you passed is \", orange)"
   ]
  },
  {
   "cell_type": "code",
   "execution_count": 16,
   "metadata": {},
   "outputs": [
    {
     "ename": "UndefVarError",
     "evalue": "UndefVarError: `variable` not defined",
     "output_type": "error",
     "traceback": [
      "UndefVarError: `variable` not defined\n",
      "\n",
      "Stacktrace:\n",
      " [1] top-level scope\n",
      "   @ e:\\JuliaProjects\\Training.jl\\macro\\22_macro.ipynb:3"
     ]
    }
   ],
   "source": [
    "macro show_value(variable)    \n",
    "    quote\n",
    "        println(\"The \", $(string(variable)), \" you passed is \", variable)\n",
    "    end\n",
    "end\n",
    "\n",
    "@macroexpand @show_value(orange)\n",
    "@show_value orange\n",
    "# Main.println(\"The \", \"orange\", \" you passed is \", Main.variable)\n"
   ]
  },
  {
   "cell_type": "code",
   "execution_count": 17,
   "metadata": {},
   "outputs": [
    {
     "name": "stdout",
     "output_type": "stream",
     "text": [
      "The orange you passed is sweet\n"
     ]
    },
    {
     "data": {
      "text/plain": [
       "quote\n",
       "    \u001b[90m#= e:\\JuliaProjects\\Training.jl\\macro\\22_macro.ipynb:3 =#\u001b[39m\n",
       "    Main.println(\"The \", \"orange\", \" you passed is \", Main.orange)\n",
       "end"
      ]
     },
     "metadata": {},
     "output_type": "display_data"
    }
   ],
   "source": [
    "macro show_value(variable)    \n",
    "    quote\n",
    "        println(\"The \", $(string(variable)), \" you passed is \", $variable) \n",
    "    end\n",
    "end\n",
    "\n",
    "@show_value orange\n",
    "@macroexpand @show_value(orange)\n",
    "# Main.println(\"The \", \"orange\", \" you passed is \", Main.orange)"
   ]
  },
  {
   "cell_type": "code",
   "execution_count": 18,
   "metadata": {},
   "outputs": [
    {
     "ename": "ErrorException",
     "evalue": "syntax: \"$\" expression outside quote around e:\\JuliaProjects\\Training.jl\\macro\\22_macro.ipynb:2",
     "output_type": "error",
     "traceback": [
      "syntax: \"$\" expression outside quote around e:\\JuliaProjects\\Training.jl\\macro\\22_macro.ipynb:2\n",
      "\n",
      "Stacktrace:\n",
      " [1] top-level scope\n",
      "   @ e:\\JuliaProjects\\Training.jl\\macro\\22_macro.ipynb:1"
     ]
    }
   ],
   "source": [
    "macro show_value(variable)    \n",
    "    quote\n",
    "        println(\"The \", $(string($variable)), \" you passed is \", $variable)\n",
    "    end\n",
    "end\n",
    "\n",
    "@show_value orange\n",
    "@macroexpand @show_value(orange)"
   ]
  },
  {
   "cell_type": "code",
   "execution_count": 19,
   "metadata": {},
   "outputs": [
    {
     "name": "stdout",
     "output_type": "stream",
     "text": [
      "The sweet you passed is sweet\n"
     ]
    },
    {
     "data": {
      "text/plain": [
       "quote\n",
       "    \u001b[90m#= e:\\JuliaProjects\\Training.jl\\macro\\22_macro.ipynb:3 =#\u001b[39m\n",
       "    Main.println(\"The \", Main.orange, \" you passed is \", orange)\n",
       "end"
      ]
     },
     "metadata": {},
     "output_type": "display_data"
    }
   ],
   "source": [
    "macro show_value(variable)    \n",
    "    quote\n",
    "        println(\"The \", $(variable), \" you passed is \", $(esc(variable)))\n",
    "    end\n",
    "end\n",
    "\n",
    "@show_value orange\n",
    "@macroexpand @show_value(orange)\n",
    "# Main.println(\"The \", Main.orange, \" you passed is \", orange)"
   ]
  },
  {
   "cell_type": "code",
   "execution_count": 20,
   "metadata": {},
   "outputs": [
    {
     "ename": "UndefVarError",
     "evalue": "UndefVarError: `variable` not defined",
     "output_type": "error",
     "traceback": [
      "UndefVarError: `variable` not defined\n",
      "\n",
      "Stacktrace:\n",
      " [1] top-level scope\n",
      "   @ e:\\JuliaProjects\\Training.jl\\macro\\22_macro.ipynb:3"
     ]
    }
   ],
   "source": [
    "macro show_value(variable)    \n",
    "    quote\n",
    "        println(\"The \", string(variable), \" you passed is \", $(esc(variable)))\n",
    "    end\n",
    "end\n",
    "\n",
    "@show_value orange\n",
    "@macroexpand @show_value(orange)\n",
    "# Main.println(\"The \", Main.string(Main.variable), \" you passed is \", orange)"
   ]
  },
  {
   "cell_type": "code",
   "execution_count": 21,
   "metadata": {},
   "outputs": [
    {
     "ename": "UndefVarError",
     "evalue": "UndefVarError: `variable` not defined",
     "output_type": "error",
     "traceback": [
      "UndefVarError: `variable` not defined\n",
      "\n",
      "Stacktrace:\n",
      " [1] top-level scope\n",
      "   @ e:\\JuliaProjects\\Training.jl\\macro\\22_macro.ipynb:3"
     ]
    }
   ],
   "source": [
    "macro show_value(variable)    \n",
    "    quote\n",
    "        println(\"The \", $(string(variable)), \" you passed is \", esc(variable)) \n",
    "    end\n",
    "end\n",
    "\n",
    "@show_value orange\n",
    "@macroexpand @show_value(orange)\n",
    "# Main.println(\"The \", \"orange\", \" you passed is \", Main.esc(Main.variable))"
   ]
  },
  {
   "cell_type": "code",
   "execution_count": 22,
   "metadata": {},
   "outputs": [
    {
     "ename": "UndefVarError",
     "evalue": "UndefVarError: `variable` not defined",
     "output_type": "error",
     "traceback": [
      "UndefVarError: `variable` not defined\n",
      "\n",
      "Stacktrace:\n",
      " [1] top-level scope\n",
      "   @ e:\\JuliaProjects\\Training.jl\\macro\\22_macro.ipynb:3"
     ]
    }
   ],
   "source": [
    "macro show_value(variable)    \n",
    "    quote\n",
    "        println(\"The \", $(string(variable)), \" you passed is \", $esc(variable)) \n",
    "    end\n",
    "end\n",
    "\n",
    "@show_value orange\n",
    "@macroexpand @show_value(orange)\n",
    "# Main.println(\"The \", \"orange\", \" you passed is \", (esc)(Main.variable))"
   ]
  }
 ],
 "metadata": {
  "kernelspec": {
   "display_name": "Julia 1.10.1",
   "language": "julia",
   "name": "julia-1.10"
  },
  "language_info": {
   "file_extension": ".jl",
   "mimetype": "application/julia",
   "name": "julia",
   "version": "1.10.1"
  }
 },
 "nbformat": 4,
 "nbformat_minor": 2
}
