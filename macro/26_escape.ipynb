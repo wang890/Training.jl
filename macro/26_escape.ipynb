{
 "cells": [
  {
   "cell_type": "code",
   "execution_count": 5,
   "metadata": {},
   "outputs": [
    {
     "data": {
      "text/plain": [
       "5-element Vector{Vector{Float64}}:\n",
       " [0.4333696290351561, 0.6347436704937008, 0.9166099041712709]\n",
       " [0.4333696290351561, 0.6347436704937008, 0.9166099041712709]\n",
       " [0.4333696290351561, 0.6347436704937008, 0.9166099041712709]\n",
       " [0.4333696290351561, 0.6347436704937008, 0.9166099041712709]\n",
       " [0.4333696290351561, 0.6347436704937008, 0.9166099041712709]"
      ]
     },
     "metadata": {},
     "output_type": "display_data"
    }
   ],
   "source": [
    "rand_vec1 = fill(rand(3), 5) \n",
    "# 5个，但每个都相同，因为fill 函数的参数只执行一次"
   ]
  },
  {
   "cell_type": "code",
   "execution_count": 2,
   "metadata": {},
   "outputs": [
    {
     "data": {
      "text/plain": [
       "5-element Vector{Vector{Float64}}:\n",
       " [0.13781086230304895, 0.43456961871300215, 0.8776318030453635]\n",
       " [0.14940967908716107, 0.22097277282458982, 0.7083906121480573]\n",
       " [0.717475073986485, 0.609149897480058, 0.07381634066982368]\n",
       " [0.9361394017910328, 0.5473300344931796, 0.35255713966047597]\n",
       " [0.5095019256549974, 0.8046192988023034, 0.8260066110588904]"
      ]
     },
     "metadata": {},
     "output_type": "display_data"
    }
   ],
   "source": [
    "rand_vec2 = [rand(3) for _ in 1:5] # 这才是想要的"
   ]
  },
  {
   "cell_type": "code",
   "execution_count": 3,
   "metadata": {},
   "outputs": [
    {
     "data": {
      "text/plain": [
       "3×4×5 Array{Vector{Float64}, 3}:\n",
       "[:, :, 1] =\n",
       " [0.785406, 0.18584, 0.935937]  …  [0.785406, 0.18584, 0.935937]\n",
       " [0.785406, 0.18584, 0.935937]     [0.785406, 0.18584, 0.935937]\n",
       " [0.785406, 0.18584, 0.935937]     [0.785406, 0.18584, 0.935937]\n",
       "\n",
       "[:, :, 2] =\n",
       " [0.785406, 0.18584, 0.935937]  …  [0.785406, 0.18584, 0.935937]\n",
       " [0.785406, 0.18584, 0.935937]     [0.785406, 0.18584, 0.935937]\n",
       " [0.785406, 0.18584, 0.935937]     [0.785406, 0.18584, 0.935937]\n",
       "\n",
       "[:, :, 3] =\n",
       " [0.785406, 0.18584, 0.935937]  …  [0.785406, 0.18584, 0.935937]\n",
       " [0.785406, 0.18584, 0.935937]     [0.785406, 0.18584, 0.935937]\n",
       " [0.785406, 0.18584, 0.935937]     [0.785406, 0.18584, 0.935937]\n",
       "\n",
       "[:, :, 4] =\n",
       " [0.785406, 0.18584, 0.935937]  …  [0.785406, 0.18584, 0.935937]\n",
       " [0.785406, 0.18584, 0.935937]     [0.785406, 0.18584, 0.935937]\n",
       " [0.785406, 0.18584, 0.935937]     [0.785406, 0.18584, 0.935937]\n",
       "\n",
       "[:, :, 5] =\n",
       " [0.785406, 0.18584, 0.935937]  …  [0.785406, 0.18584, 0.935937]\n",
       " [0.785406, 0.18584, 0.935937]     [0.785406, 0.18584, 0.935937]\n",
       " [0.785406, 0.18584, 0.935937]     [0.785406, 0.18584, 0.935937]"
      ]
     },
     "metadata": {},
     "output_type": "display_data"
    }
   ],
   "source": [
    "rand_vec3 =fill(rand(3), 3, 4, 5)"
   ]
  },
  {
   "cell_type": "code",
   "execution_count": 7,
   "metadata": {},
   "outputs": [
    {
     "data": {
      "text/plain": [
       "5×3 Matrix{Vector{Float64}}:\n",
       " [0.234601, 0.0186527, 0.80232]   …  [0.761724, 0.0703211, 0.685593]\n",
       " [0.0647791, 0.385855, 0.812829]     [0.729304, 0.731986, 0.159855]\n",
       " [0.897551, 0.637873, 0.0125835]     [0.240151, 0.530151, 0.552899]\n",
       " [0.66487, 0.575021, 0.534011]       [0.0518241, 0.0717399, 0.287488]\n",
       " [0.127388, 0.469389, 0.647795]      [0.405342, 0.642795, 0.594706]"
      ]
     },
     "metadata": {},
     "output_type": "display_data"
    }
   ],
   "source": [
    "rand_vec4 = [rand(3) for _ in 1:5, _ in 1:3]"
   ]
  },
  {
   "cell_type": "code",
   "execution_count": 11,
   "metadata": {},
   "outputs": [
    {
     "name": "stdout",
     "output_type": "stream",
     "text": [
      "Expr\n",
      "  head: Symbol comprehension\n",
      "  args: Array{Any}((1,))\n",
      "    1: Expr\n",
      "      head: Symbol generator\n",
      "      args: Array{Any}((3,))\n",
      "        1: Expr\n",
      "          head: Symbol call\n",
      "          args: Array{Any}((2,))\n",
      "            1: Symbol rand\n",
      "            2: Int64 3\n",
      "        2: Expr\n",
      "          head: Symbol =\n",
      "          args: Array{Any}((2,))\n",
      "            1: Symbol _\n",
      "            2: Expr\n",
      "              head: Symbol call\n",
      "              args: Array{Any}((3,))\n",
      "                1: Symbol :\n",
      "                2: Int64 1\n",
      "                3: Int64 5\n",
      "        3: Expr\n",
      "          head: Symbol =\n",
      "          args: Array{Any}((2,))\n",
      "            1: Symbol _\n",
      "            2: Expr\n",
      "              head: Symbol call\n",
      "              args: Array{Any}((3,))\n",
      "                1: Symbol :\n",
      "                2: Int64 1\n",
      "                3: Int64 3\n"
     ]
    }
   ],
   "source": [
    "r  = Meta.@dump [rand(3) for _ in 1:5, _ in 1:3]"
   ]
  },
  {
   "cell_type": "code",
   "execution_count": 17,
   "metadata": {},
   "outputs": [
    {
     "data": {
      "text/plain": [
       "Nothing"
      ]
     },
     "metadata": {},
     "output_type": "display_data"
    },
    {
     "data": {
      "text/plain": [
       "()"
      ]
     },
     "metadata": {},
     "output_type": "display_data"
    }
   ],
   "source": [
    "r |> typeof |> display\n",
    "propertynames(r)"
   ]
  },
  {
   "cell_type": "markdown",
   "metadata": {},
   "source": [
    "在这里，我们将手动编写 Expr ，而不是编写一个庞大的 quote 。这有时会更容易，但也取决于您认为哪种更易于阅读。包含大量引号和插入语的表达式可能很难理解。**我通常更喜欢 quote ... end 而不是与其等价的 :(...) ，因为我能比括号更好地解析单词。**"
   ]
  },
  {
   "cell_type": "code",
   "execution_count": 18,
   "metadata": {},
   "outputs": [
    {
     "data": {
      "text/plain": [
       "@fill (macro with 1 method)"
      ]
     },
     "metadata": {},
     "output_type": "display_data"
    }
   ],
   "source": [
    "macro fill(exp, sizes...)\n",
    "   \n",
    "    iterator_expressions = map(sizes) do s\n",
    "        Expr(\n",
    "            :(=),\n",
    "            :_,\n",
    "            quote 1:$(esc(s)) end\n",
    "        )\n",
    "    end\n",
    "    \n",
    "    Expr(\n",
    "        :comprehension,\n",
    "        esc(exp),\n",
    "        iterator_expressions...\n",
    "    )\n",
    "end"
   ]
  },
  {
   "cell_type": "code",
   "execution_count": 19,
   "metadata": {},
   "outputs": [
    {
     "data": {
      "text/plain": [
       "5-element Vector{Vector{Float64}}:\n",
       " [0.7245265471494726, 0.7534798783824374, 0.11701416856217095]\n",
       " [0.17831931689008995, 0.5107579078938801, 0.4254575765385782]\n",
       " [0.7170843931274553, 0.9485875418450254, 0.562878135778056]\n",
       " [0.5452200547406335, 0.4536387366706677, 0.3342679418536172]\n",
       " [0.34924276075178573, 0.26254669237565487, 0.5049738246285982]"
      ]
     },
     "metadata": {},
     "output_type": "display_data"
    }
   ],
   "source": [
    "@fill(rand(3), 5)"
   ]
  },
  {
   "cell_type": "code",
   "execution_count": 20,
   "metadata": {},
   "outputs": [
    {
     "data": {
      "text/plain": [
       ":($(Expr(:comprehension, :(rand(3)), :(_ = begin\n",
       "          \u001b[90m#= e:\\JuliaProjects\\Training.jl\\macro\\25_macro.ipynb:7 =#\u001b[39m\n",
       "          1:5\n",
       "      end))))"
      ]
     },
     "metadata": {},
     "output_type": "display_data"
    }
   ],
   "source": [
    "@macroexpand @fill(rand(3), 5)"
   ]
  },
  {
   "cell_type": "code",
   "execution_count": 21,
   "metadata": {},
   "outputs": [
    {
     "data": {
      "text/plain": [
       "5×3 Matrix{Float64}:\n",
       " 0.415854   0.327012   0.405722\n",
       " 0.0441708  0.735598   0.785641\n",
       " 0.433182   0.361852   0.742833\n",
       " 0.494213   0.0578323  0.660943\n",
       " 0.211773   0.440224   0.478988"
      ]
     },
     "metadata": {},
     "output_type": "display_data"
    }
   ],
   "source": [
    "@fill(rand(), 5, 3)"
   ]
  },
  {
   "cell_type": "code",
   "execution_count": 23,
   "metadata": {},
   "outputs": [
    {
     "data": {
      "text/plain": [
       ":($(Expr(:comprehension, :(rand()), :(_ = begin\n",
       "          \u001b[90m#= e:\\JuliaProjects\\Training.jl\\macro\\25_macro.ipynb:7 =#\u001b[39m\n",
       "          1:5\n",
       "      end), :(_ = begin\n",
       "          \u001b[90m#= e:\\JuliaProjects\\Training.jl\\macro\\25_macro.ipynb:7 =#\u001b[39m\n",
       "          1:3\n",
       "      end))))"
      ]
     },
     "metadata": {},
     "output_type": "display_data"
    }
   ],
   "source": [
    "@macroexpand @fill(rand(), 5, 3)"
   ]
  },
  {
   "cell_type": "code",
   "execution_count": 26,
   "metadata": {},
   "outputs": [
    {
     "name": "stdout",
     "output_type": "stream",
     "text": [
      "Array{Float64}((5, 3)) [0.5980932654324779 0.2696667009983298 0.8462216643155114; 0.8289199726148888 0.8132629609992151 0.3738870492573112; … ; 0.7662549461035797 0.484955948485158 0.5979733344765618; 0.5079162277186476 0.5311410417257226 0.36378641868380157]\n"
     ]
    }
   ],
   "source": [
    "dump([rand() for _ in 1:5, _ in 1:3])"
   ]
  },
  {
   "cell_type": "code",
   "execution_count": 28,
   "metadata": {},
   "outputs": [
    {
     "name": "stdout",
     "output_type": "stream",
     "text": [
      "Expr\n",
      "  head: Symbol comprehension\n",
      "  args: Array{Any}((1,))\n",
      "    1: Expr\n",
      "      head: Symbol generator\n",
      "      args: Array{Any}((3,))\n",
      "        1: Expr\n",
      "          head: Symbol call\n",
      "          args: Array{Any}((1,))\n",
      "            1: Symbol rand\n",
      "        2: Expr\n",
      "          head: Symbol =\n",
      "          args: Array{Any}((2,))\n",
      "            1: Symbol _\n",
      "            2: Expr\n",
      "              head: Symbol call\n",
      "              args: Array{Any}((3,))\n",
      "                1: Symbol :\n",
      "                2: Int64 1\n",
      "                3: Int64 5\n",
      "        3: Expr\n",
      "          head: Symbol =\n",
      "          args: Array{Any}((2,))\n",
      "            1: Symbol _\n",
      "            2: Expr\n",
      "              head: Symbol call\n",
      "              args: Array{Any}((3,))\n",
      "                1: Symbol :\n",
      "                2: Int64 1\n",
      "                3: Int64 3\n"
     ]
    }
   ],
   "source": [
    "dump2 = dump(:([rand() for _ in 1:5, _ in 1:3]))"
   ]
  },
  {
   "cell_type": "code",
   "execution_count": 30,
   "metadata": {},
   "outputs": [
    {
     "data": {
      "text/plain": [
       "()"
      ]
     },
     "metadata": {},
     "output_type": "display_data"
    },
    {
     "ename": "MethodError",
     "evalue": "MethodError: no method matching fieldnames(::Nothing)\n\nClosest candidates are:\n  fieldnames(!Matched::Core.TypeofBottom)\n   @ Base reflection.jl:170\n  fieldnames(!Matched::Type{<:Tuple})\n   @ Base reflection.jl:172\n  fieldnames(!Matched::UnionAll)\n   @ Base reflection.jl:169\n  ...\n",
     "output_type": "error",
     "traceback": [
      "MethodError: no method matching fieldnames(::Nothing)\n",
      "\n",
      "Closest candidates are:\n",
      "  fieldnames(!Matched::Core.TypeofBottom)\n",
      "   @ Base reflection.jl:170\n",
      "  fieldnames(!Matched::Type{<:Tuple})\n",
      "   @ Base reflection.jl:172\n",
      "  fieldnames(!Matched::UnionAll)\n",
      "   @ Base reflection.jl:169\n",
      "  ...\n",
      "\n",
      "\n",
      "Stacktrace:\n",
      " [1] top-level scope\n",
      "   @ e:\\JuliaProjects\\Training.jl\\macro\\25_macro.ipynb:2"
     ]
    }
   ],
   "source": [
    "propertynames(dump2) |> display\n",
    "fieldnames(dump2) |> display"
   ]
  }
 ],
 "metadata": {
  "kernelspec": {
   "display_name": "Julia 1.10.1",
   "language": "julia",
   "name": "julia-1.10"
  },
  "language_info": {
   "file_extension": ".jl",
   "mimetype": "application/julia",
   "name": "julia",
   "version": "1.10.1"
  }
 },
 "nbformat": 4,
 "nbformat_minor": 2
}
