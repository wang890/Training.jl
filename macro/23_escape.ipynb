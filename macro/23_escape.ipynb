{
 "cells": [
  {
   "cell_type": "code",
   "execution_count": null,
   "metadata": {},
   "outputs": [],
   "source": [
    "orange = \"sweet\"\n",
    "apple = \"sour\""
   ]
  },
  {
   "cell_type": "code",
   "execution_count": null,
   "metadata": {},
   "outputs": [],
   "source": [
    "module SomeModule\n",
    "    export @show_value_no_esc\n",
    "    # orange = \"sweet\"\n",
    "    # apple = \"sour\"    \n",
    "    macro show_value_no_esc(variable)\n",
    "        variable |> display\n",
    "        quote\n",
    "            println(\"The \", $(string(variable)), \" you passed is \", $variable)\n",
    "            # Main.SomeModule.println(\"The \", \"orange\", \" you passed is \", Main.SomeModule.orange)\n",
    "        end\n",
    "    end\n",
    "end"
   ]
  },
  {
   "cell_type": "code",
   "execution_count": null,
   "metadata": {},
   "outputs": [],
   "source": [
    "using .SomeModule"
   ]
  },
  {
   "cell_type": "code",
   "execution_count": null,
   "metadata": {},
   "outputs": [],
   "source": [
    "try\n",
    "    @show_value_no_esc(orange)\n",
    "catch e\n",
    "    sprint(showerror, e)\n",
    "end"
   ]
  },
  {
   "cell_type": "code",
   "execution_count": null,
   "metadata": {},
   "outputs": [],
   "source": [
    "@macroexpand @show_value_no_esc(orange)"
   ]
  },
  {
   "cell_type": "markdown",
   "metadata": {},
   "source": [
    "查找的变量实际上是 SomeModule.orange ，当然我们在 SomeModule 中没有定义一个名为该名称的变量。这种情况发生的原因是宏通常需要引用它们所在的模块中的值（例如，向用户代码添加一个辅助函数，该函数也位于该模块中）。默认情况下，**在创建的表达式中使用的任何变量名将在宏的父模块**中进行查找。<br><br>\n",
    "宏的作者和用户是两个互不相识的人，他们只通过传递给宏的代码片段进行交互，所以，很明显，**宏不应该乱动用户的变量。**"
   ]
  },
  {
   "cell_type": "code",
   "execution_count": null,
   "metadata": {},
   "outputs": [],
   "source": [
    "quote $(:orange) end"
   ]
  },
  {
   "cell_type": "code",
   "execution_count": null,
   "metadata": {},
   "outputs": [],
   "source": [
    "eval(quote $(:orange) end)"
   ]
  },
  {
   "cell_type": "code",
   "execution_count": null,
   "metadata": {},
   "outputs": [],
   "source": [
    "$(:orange)"
   ]
  }
 ],
 "metadata": {
  "kernelspec": {
   "display_name": "Julia 1.10.1",
   "language": "julia",
   "name": "julia-1.10"
  },
  "language_info": {
   "file_extension": ".jl",
   "mimetype": "application/julia",
   "name": "julia",
   "version": "1.10.1"
  }
 },
 "nbformat": 4,
 "nbformat_minor": 2
}
