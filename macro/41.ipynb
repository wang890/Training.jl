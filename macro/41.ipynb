{
 "cells": [
  {
   "cell_type": "markdown",
   "metadata": {},
   "source": [
    "[2019 Help with if-like macro](https://discourse.julialang.org/t/help-with-if-like-macro/31856)<br><br>\n",
    "**Do a dump of your input expression and one of your desired output expression:**"
   ]
  },
  {
   "cell_type": "code",
   "execution_count": 8,
   "metadata": {},
   "outputs": [
    {
     "name": "stdout",
     "output_type": "stream",
     "text": [
      "Expr\n",
      "  head: Symbol macrocall\n",
      "  args: Array{Any}((3,))\n",
      "    1: Symbol @retall\n",
      "    2: LineNumberNode\n",
      "      line: Int64 1\n",
      "      file: Symbol e:\\JuliaProjects\\Training.jl\\macro\\41.ipynb\n",
      "    3: Expr\n",
      "      head: Symbol if\n",
      "      args: Array{Any}((2,))\n",
      "        1: Symbol boolex\n",
      "        2: Expr\n",
      "          head: Symbol block\n",
      "          args: Array{Any}((6,))\n",
      "            1: LineNumberNode\n",
      "              line: Int64 2\n",
      "              file: Symbol e:\\JuliaProjects\\Training.jl\\macro\\41.ipynb\n",
      "            2: Expr\n",
      "              head: Symbol =\n",
      "              args: Array{Any}((2,))\n",
      "                1: Symbol a\n",
      "                2: Int64 6\n",
      "            3: LineNumberNode\n",
      "              line: Int64 3\n",
      "              file: Symbol e:\\JuliaProjects\\Training.jl\\macro\\41.ipynb\n",
      "            4: Expr\n",
      "              head: Symbol =\n",
      "              args: Array{Any}((2,))\n",
      "                1: Symbol b\n",
      "                2: Int64 7\n",
      "            5: LineNumberNode\n",
      "              line: Int64 4\n",
      "              file: Symbol e:\\JuliaProjects\\Training.jl\\macro\\41.ipynb\n",
      "            6: Expr\n",
      "              head: Symbol =\n",
      "              args: Array{Any}((2,))\n",
      "                1: Symbol c\n",
      "                2: Expr\n"
     ]
    }
   ],
   "source": [
    "dump(:(@retall if boolex\n",
    "    a = 6\n",
    "    b = 7\n",
    "    c = a+b\n",
    "    end))"
   ]
  },
  {
   "cell_type": "code",
   "execution_count": 9,
   "metadata": {},
   "outputs": [
    {
     "name": "stdout",
     "output_type": "stream",
     "text": [
      "Expr\n",
      "  head: Symbol block\n",
      "  args: Array{Any}((8,))\n",
      "    1: LineNumberNode\n",
      "      line: Int64 2\n",
      "      file: Symbol e:\\JuliaProjects\\Training.jl\\macro\\41.ipynb\n",
      "    2: Expr\n",
      "      head: Symbol =\n",
      "      args: Array{Any}((2,))\n",
      "        1: Symbol a\n",
      "        2: Int64 6\n",
      "    3: LineNumberNode\n",
      "      line: Int64 3\n",
      "      file: Symbol e:\\JuliaProjects\\Training.jl\\macro\\41.ipynb\n",
      "    4: Expr\n",
      "      head: Symbol =\n",
      "      args: Array{Any}((2,))\n",
      "        1: Symbol b\n",
      "        2: Int64 7\n",
      "    5: LineNumberNode\n",
      "      line: Int64 4\n",
      "      file: Symbol e:\\JuliaProjects\\Training.jl\\macro\\41.ipynb\n",
      "    6: Expr\n",
      "      head: Symbol =\n",
      "      args: Array{Any}((2,))\n",
      "        1: Symbol c\n",
      "        2: Expr\n",
      "          head: Symbol call\n",
      "          args: Array{Any}((3,))\n",
      "            1: Symbol +\n",
      "            2: Symbol a\n",
      "            3: Symbol b\n",
      "    7: LineNumberNode\n",
      "      line: Int64 5\n",
      "      file: Symbol e:\\JuliaProjects\\Training.jl\\macro\\41.ipynb\n",
      "    8: Expr\n",
      "      head: Symbol vect\n",
      "      args: Array{Any}((3,))\n",
      "        1: Symbol a\n",
      "        2: Symbol b\n",
      "        3: Symbol c\n"
     ]
    }
   ],
   "source": [
    "dump(quote \n",
    "              a = 6\n",
    "              b = 7\n",
    "              c = a+b\n",
    "              [a,b,c]\n",
    "              end)"
   ]
  },
  {
   "cell_type": "markdown",
   "metadata": {},
   "source": [
    "Then figure out how to transform one nested datatype into the other. (Remember, meta-programming is nothing but nested data-structure gymnastics).<br>\n",
    "然后找出如何将一种嵌套的数据类型转换为另一种的方法。（记住，元编程不过是嵌套数据结构的体操而已。）\n",
    "\n",
    "Also, you can enlist the help of **MacroTools.jl**. Although, there is probably nothing wrong with getting your hands dirty (i.e. not use MacroTools) until you’re a bit more experienced.<br>\n",
    "此外，您还可以使用MacroTools.jl库。不过，如果您的经验还不是很丰富，可能还是亲自动手（即不使用MacroTools）会更好。"
   ]
  },
  {
   "cell_type": "code",
   "execution_count": 13,
   "metadata": {},
   "outputs": [
    {
     "data": {
      "text/plain": [
       "(:head, :args)"
      ]
     },
     "metadata": {},
     "output_type": "display_data"
    },
    {
     "data": {
      "text/plain": [
       "2-element Vector{Any}:\n",
       " :(1 == 1)\n",
       " quote\n",
       "    \u001b[90m#= e:\\JuliaProjects\\Training.jl\\macro\\41.ipynb:2 =#\u001b[39m\n",
       "    \"hi\"\n",
       "    \u001b[90m#= e:\\JuliaProjects\\Training.jl\\macro\\41.ipynb:3 =#\u001b[39m\n",
       "    3\n",
       "end"
      ]
     },
     "metadata": {},
     "output_type": "display_data"
    },
    {
     "data": {
      "text/plain": [
       "quote\n",
       "    \u001b[90m#= e:\\JuliaProjects\\Training.jl\\macro\\41.ipynb:2 =#\u001b[39m\n",
       "    \"hi\"\n",
       "    \u001b[90m#= e:\\JuliaProjects\\Training.jl\\macro\\41.ipynb:3 =#\u001b[39m\n",
       "    3\n",
       "end"
      ]
     },
     "metadata": {},
     "output_type": "display_data"
    },
    {
     "data": {
      "text/plain": [
       "4-element Vector{Any}:\n",
       "  :(\u001b[90m#= e:\\JuliaProjects\\Training.jl\\macro\\41.ipynb:2 =#\u001b[39m)\n",
       "  \"hi\"\n",
       "  :(\u001b[90m#= e:\\JuliaProjects\\Training.jl\\macro\\41.ipynb:3 =#\u001b[39m)\n",
       " 3"
      ]
     },
     "metadata": {},
     "output_type": "display_data"
    }
   ],
   "source": [
    "ex = :(if 1==1\n",
    "        \"hi\"\n",
    "        3\n",
    "       end)\n",
    "propertynames(ex) |> display\n",
    "ex.args |> display\n",
    "ex.args[2] |> display\n",
    "ex.args[2].args |> display"
   ]
  },
  {
   "cell_type": "code",
   "execution_count": 15,
   "metadata": {},
   "outputs": [
    {
     "data": {
      "text/plain": [
       "4-element Vector{Any}:\n",
       "  :(\u001b[90m#= e:\\JuliaProjects\\Training.jl\\macro\\41.ipynb:6 =#\u001b[39m)\n",
       "  \"hi\"\n",
       "  :(\u001b[90m#= e:\\JuliaProjects\\Training.jl\\macro\\41.ipynb:7 =#\u001b[39m)\n",
       " 3"
      ]
     },
     "metadata": {},
     "output_type": "display_data"
    }
   ],
   "source": [
    "macro test(expr)\n",
    "    expr.args[2] =  expr.args[2].args\n",
    "    return expr\n",
    "end\n",
    "@test if 1==1\n",
    "    \"hi\"\n",
    "    3\n",
    "end"
   ]
  },
  {
   "cell_type": "code",
   "execution_count": 16,
   "metadata": {},
   "outputs": [
    {
     "data": {
      "text/plain": [
       "2-element Vector{Any}:\n",
       "  \"hi\"\n",
       " 3"
      ]
     },
     "metadata": {},
     "output_type": "display_data"
    }
   ],
   "source": [
    "macro test(expr)\n",
    "    expr.args[2] = :(filter(\n",
    "                            !isnothing, \n",
    "                            eval.($(expr.args[2].args))\n",
    "                           )\n",
    "                    )\n",
    "    return expr\n",
    " end\n",
    " \n",
    " @test if 1==1\n",
    "     \"hi\"\n",
    "     3\n",
    " end\n",
    " #returns [\"hi\", 3]"
   ]
  },
  {
   "cell_type": "code",
   "execution_count": 17,
   "metadata": {},
   "outputs": [
    {
     "data": {
      "text/plain": [
       "2-element Vector{Any}:\n",
       "  \"hi\"\n",
       " 3"
      ]
     },
     "metadata": {},
     "output_type": "display_data"
    }
   ],
   "source": [
    "macro test(expr)\n",
    "    expr.args[2] = esc(:(\n",
    "                            [$([arg for arg in expr.args[2].args if !isa(arg, LineNumberNode)]...),]\n",
    "                        ))\n",
    "end\n",
    "@test if 1==1\n",
    "    \"hi\"\n",
    "    3\n",
    "end"
   ]
  },
  {
   "cell_type": "code",
   "execution_count": 1,
   "metadata": {},
   "outputs": [
    {
     "data": {
      "text/plain": [
       "@if (macro with 1 method)"
      ]
     },
     "metadata": {},
     "output_type": "display_data"
    }
   ],
   "source": [
    "eval(\n",
    "    Expr(\n",
    "            :macro, \n",
    "\n",
    "            Expr(:call, :if, :cond, :body), \n",
    "\n",
    "            :(\n",
    "                nothing; \n",
    "                esc(Expr(:if, cond, \n",
    "                         Expr(:vect, \n",
    "                              map(x -> Expr(:block, x), filter(x -> !(x isa LineNumberNode), body.args))...\n",
    "                             )\n",
    "                        )\n",
    "                    )\n",
    "            )\n",
    "        )\n",
    "    )"
   ]
  },
  {
   "cell_type": "code",
   "execution_count": 2,
   "metadata": {},
   "outputs": [
    {
     "data": {
      "text/plain": [
       "p (generic function with 1 method)"
      ]
     },
     "metadata": {},
     "output_type": "display_data"
    }
   ],
   "source": [
    "h1(x) = \"<h1> $x \" * raw\"</h1>\"\n",
    "h2(x) = \"<h2> $x \" * raw\"</h2>\"\n",
    "p(x)  = \"<p> $x \"  * raw\"</p>\""
   ]
  },
  {
   "cell_type": "code",
   "execution_count": 3,
   "metadata": {},
   "outputs": [
    {
     "data": {
      "text/plain": [
       "3-element Vector{String}:\n",
       " \"<h1> Hello! </h1>\"\n",
       " \"<h2> Welcome to foo </h2>\"\n",
       " \"<p> Foo is the best </p>\""
      ]
     },
     "metadata": {},
     "output_type": "display_data"
    }
   ],
   "source": [
    "@if true begin\n",
    "    h1(\"Hello!\")\n",
    "    h2(\"Welcome to foo\")\n",
    "    p(\"Foo is the best\")\n",
    "end"
   ]
  },
  {
   "cell_type": "code",
   "execution_count": 4,
   "metadata": {},
   "outputs": [
    {
     "data": {
      "text/plain": [
       ":(if true\n",
       "      [begin\n",
       "              h1(\"Hello!\")\n",
       "          end, begin\n",
       "              h2(\"Welcome to foo\")\n",
       "          end, begin\n",
       "              p(\"Foo is the best\")\n",
       "          end]\n",
       "  end)"
      ]
     },
     "metadata": {},
     "output_type": "display_data"
    }
   ],
   "source": [
    "@macroexpand @if true begin\n",
    "    h1(\"Hello!\")\n",
    "    h2(\"Welcome to foo\")\n",
    "    p(\"Foo is the best\")\n",
    "end"
   ]
  },
  {
   "cell_type": "markdown",
   "metadata": {},
   "source": [
    "the macro can be written in more julian form as"
   ]
  },
  {
   "cell_type": "code",
   "execution_count": 5,
   "metadata": {},
   "outputs": [
    {
     "data": {
      "text/plain": [
       "@if (macro with 1 method)"
      ]
     },
     "metadata": {},
     "output_type": "display_data"
    }
   ],
   "source": [
    "@eval macro $(Symbol(\"if\"))(cond, body)\n",
    "    out_body = [Expr(:block, arg) for arg in body.args if !(arg isa LineNumberNode)]\n",
    "    quote\n",
    "        if $cond \n",
    "            [$(out_body...)]\n",
    "        end\n",
    "    end |> esc\n",
    "end"
   ]
  },
  {
   "cell_type": "code",
   "execution_count": 6,
   "metadata": {},
   "outputs": [
    {
     "data": {
      "text/plain": [
       "quote\n",
       "    \u001b[90m#= e:\\JuliaProjects\\Training.jl\\macro\\41.ipynb:4 =#\u001b[39m\n",
       "    if true\n",
       "        \u001b[90m#= e:\\JuliaProjects\\Training.jl\\macro\\41.ipynb:5 =#\u001b[39m\n",
       "        [begin\n",
       "                h1(\"Hello!\")\n",
       "            end, begin\n",
       "                h2(\"Welcome to foo\")\n",
       "            end, begin\n",
       "                p(\"Foo is the best\")\n",
       "            end]\n",
       "    end\n",
       "end"
      ]
     },
     "metadata": {},
     "output_type": "display_data"
    }
   ],
   "source": [
    "@macroexpand @if true begin\n",
    "    h1(\"Hello!\")\n",
    "    h2(\"Welcome to foo\")\n",
    "    p(\"Foo is the best\")\n",
    "end"
   ]
  },
  {
   "cell_type": "code",
   "execution_count": 7,
   "metadata": {},
   "outputs": [
    {
     "data": {
      "text/plain": [
       "3-element Vector{String}:\n",
       " \"<h1> Hello! </h1>\"\n",
       " \"<h2> Welcome to foo </h2>\"\n",
       " \"<p> Foo is the best </p>\""
      ]
     },
     "metadata": {},
     "output_type": "display_data"
    }
   ],
   "source": [
    "@if true begin\n",
    "    h1(\"Hello!\")\n",
    "    h2(\"Welcome to foo\")\n",
    "    p(\"Foo is the best\")\n",
    "end"
   ]
  }
 ],
 "metadata": {
  "kernelspec": {
   "display_name": "Julia 1.10.1",
   "language": "julia",
   "name": "julia-1.10"
  },
  "language_info": {
   "file_extension": ".jl",
   "mimetype": "application/julia",
   "name": "julia",
   "version": "1.10.1"
  }
 },
 "nbformat": 4,
 "nbformat_minor": 2
}
