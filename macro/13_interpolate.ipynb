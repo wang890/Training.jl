{
 "cells": [
  {
   "cell_type": "markdown",
   "metadata": {},
   "source": [
    "[How to pass variable value to a macro in julia?](https://stackoverflow.com/questions/47977414/how-to-pass-variable-value-to-a-macro-in-julia)"
   ]
  },
  {
   "cell_type": "code",
   "execution_count": 22,
   "metadata": {},
   "outputs": [
    {
     "ename": "ErrorException",
     "evalue": "syntax: \"$\" expression outside quote around e:\\JuliaProjects\\Training3.jl\\macro3\\31.ipynb:4",
     "output_type": "error",
     "traceback": [
      "syntax: \"$\" expression outside quote around e:\\JuliaProjects\\Training3.jl\\macro3\\31.ipynb:4\n",
      "\n",
      "Stacktrace:\n",
      " [1] top-level scope\n",
      "   @ e:\\JuliaProjects\\Training3.jl\\macro3\\31.ipynb:11"
     ]
    }
   ],
   "source": [
    "macro m(a,b)\n",
    "    # @show a,b\n",
    "    ex = quote\n",
    "      $a = eval($b)\n",
    "    end\n",
    "    # @show ex\n",
    "    esc(ex)\n",
    "  end\n",
    "  \n",
    "  b = 1\n",
    "  @m a $b"
   ]
  },
  {
   "cell_type": "markdown",
   "metadata": {},
   "source": [
    "Macros can have type annotations too, they are functions that **work at compile time, but their inputs can only be Exprs, Symbols or constant values,** ie: Int, macros don't evaluate their inputs before being invoked, like functions do before being called, macros work on syntax.\n",
    "\n",
    "**Do not use eval inside the body of a macro,** in this case it is in the body of the returned expression (there are cases when this could be needed, but this is not one of them)."
   ]
  },
  {
   "cell_type": "code",
   "execution_count": 25,
   "metadata": {},
   "outputs": [
    {
     "name": "stdout",
     "output_type": "stream",
     "text": [
      "a = :y\n",
      "b = :(x + 1)\n",
      "ex = quote\n",
      "    #= e:\\JuliaProjects\\Training3.jl\\macro3\\31.ipynb:6 =#\n",
      "    y = x + 1\n",
      "end\n"
     ]
    },
    {
     "ename": "UndefVarError",
     "evalue": "UndefVarError: `x` not defined",
     "output_type": "error",
     "traceback": [
      "UndefVarError: `x` not defined\n",
      "\n",
      "Stacktrace:\n",
      " [1] top-level scope\n",
      "   @ e:\\JuliaProjects\\Training3.jl\\macro3\\31.ipynb:6"
     ]
    }
   ],
   "source": [
    "macro m(a::Symbol, b)  # in ths method a should allways be a symbol\n",
    "    # use spaces and parens as needed to delimit and \n",
    "    # group args as needed, not commas in this case\n",
    "    @show a b          # or use this: @show(a, b) notice comma here\n",
    "    ex = quote         # there is no need to use eval here a macro\n",
    "        $a = $b        # will compile and evaluate the returning\n",
    "    end                # expression when invoked\n",
    "    @show ex\n",
    "    return esc(ex)     # esc will use surrounding scope instead of gensyms\n",
    "end\n",
    "@m y (x + 1)  # parens for grouping, or @m(y, x + 1)"
   ]
  },
  {
   "cell_type": "code",
   "execution_count": 26,
   "metadata": {},
   "outputs": [
    {
     "name": "stdout",
     "output_type": "stream",
     "text": [
      "a = :y\n",
      "b = :(x + 1)\n",
      "ex = quote\n",
      "    #= e:\\JuliaProjects\\Training3.jl\\macro3\\31.ipynb:6 =#\n",
      "    y = x + 1\n",
      "end\n"
     ]
    },
    {
     "data": {
      "text/plain": [
       "3"
      ]
     },
     "metadata": {},
     "output_type": "display_data"
    }
   ],
   "source": [
    "x=2\n",
    "@m y (x + 1)"
   ]
  },
  {
   "cell_type": "code",
   "execution_count": 30,
   "metadata": {},
   "outputs": [
    {
     "name": "stdout",
     "output_type": "stream",
     "text": [
      "a = :y\n",
      "b = :(x + 1)\n",
      "ex = quote\n",
      "    #= e:\\JuliaProjects\\Training3.jl\\macro3\\31.ipynb:6 =#\n",
      "    y = x + 1\n",
      "end\n"
     ]
    },
    {
     "data": {
      "text/plain": [
       "3"
      ]
     },
     "metadata": {},
     "output_type": "display_data"
    }
   ],
   "source": [
    "macro m(a::Symbol, b)  # in ths method a should allways be a symbol\n",
    "    # use spaces and parens as needed to delimit and \n",
    "    # group args as needed, not commas in this case\n",
    "    @show a b          # or use this: @show(a, b) notice comma here\n",
    "    ex = quote         # there is no need to use eval here a macro\n",
    "        $a = $b        # will compile and evaluate the returning\n",
    "    end                # expression when invoked\n",
    "    @show ex\n",
    "    return ex    # esc will use surrounding scope instead of gensyms\n",
    "end\n",
    "@m y (x + 1)  # parens for grouping, or @m(y, x + 1)"
   ]
  },
  {
   "cell_type": "markdown",
   "metadata": {},
   "source": [
    "If you don't use esc it will hygienically create gensyms, in this case it uses the surrounding scope variables instead."
   ]
  },
  {
   "cell_type": "code",
   "execution_count": 31,
   "metadata": {},
   "outputs": [
    {
     "name": "stdout",
     "output_type": "stream",
     "text": [
      "a = :z\n",
      "b = :(rand(x, y))\n",
      "ex = quote\n",
      "    #= e:\\JuliaProjects\\Training3.jl\\macro3\\31.ipynb:6 =#\n",
      "    z = rand(x, y)\n",
      "end\n"
     ]
    },
    {
     "data": {
      "text/plain": [
       "2×3 Matrix{Float64}:\n",
       " 0.0351479  0.170064  0.20941\n",
       " 0.695855   0.379596  0.287176"
      ]
     },
     "metadata": {},
     "output_type": "display_data"
    }
   ],
   "source": [
    "@m z rand(x, y)"
   ]
  },
  {
   "cell_type": "code",
   "execution_count": 1,
   "metadata": {},
   "outputs": [
    {
     "data": {
      "text/plain": [
       "Symbol(\"##foo#225\")"
      ]
     },
     "metadata": {},
     "output_type": "display_data"
    }
   ],
   "source": [
    "gensym(:foo)"
   ]
  }
 ],
 "metadata": {
  "kernelspec": {
   "display_name": "Julia 1.10.1",
   "language": "julia",
   "name": "julia-1.10"
  },
  "language_info": {
   "file_extension": ".jl",
   "mimetype": "application/julia",
   "name": "julia",
   "version": "1.10.1"
  }
 },
 "nbformat": 4,
 "nbformat_minor": 2
}
