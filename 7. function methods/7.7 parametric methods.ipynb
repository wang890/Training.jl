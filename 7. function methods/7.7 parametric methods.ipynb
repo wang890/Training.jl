{
 "cells": [
  {
   "cell_type": "markdown",
   "metadata": {},
   "source": [
    "### 参数化方法 Parametric Methods \n",
    "https://docs.juliacn.com/latest/manual/methods/#参数方法"
   ]
  },
  {
   "cell_type": "code",
   "execution_count": null,
   "metadata": {
    "vscode": {
     "languageId": "plaintext"
    }
   },
   "outputs": [],
   "source": []
  },
  {
   "cell_type": "markdown",
   "metadata": {},
   "source": [
    "### 使用参数方法设计样式\n",
    "**Design Patterns with Parametric Methods**<br>\n",
    "https://docs.juliacn.com/latest/manual/methods/#使用参数方法设计样式\n",
    "**没细看，没看懂，可以先忽略**"
   ]
  }
 ],
 "metadata": {
  "language_info": {
   "name": "python"
  }
 },
 "nbformat": 4,
 "nbformat_minor": 2
}
