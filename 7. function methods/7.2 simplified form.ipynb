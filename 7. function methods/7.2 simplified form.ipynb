{
 "cells": [
  {
   "cell_type": "markdown",
   "metadata": {},
   "source": [
    "+ https://docs.juliacn.com/latest/manual/functions/#操作符函数<br>\n",
    "+ https://docs.juliacn.com/latest/manual/functions/#man-anonymous-functions<br>\n",
    "+ https://docs.juliacn.com/latest/manual/functions/#Do-Block-Syntax-for-Function-Arguments"
   ]
  }
 ],
 "metadata": {
  "language_info": {
   "name": "python"
  }
 },
 "nbformat": 4,
 "nbformat_minor": 2
}
