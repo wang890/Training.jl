{
 "cells": [
  {
   "cell_type": "markdown",
   "metadata": {},
   "source": [
    "函数作参数"
   ]
  },
  {
   "cell_type": "markdown",
   "metadata": {},
   "source": [
    "### 函数作参数"
   ]
  },
  {
   "cell_type": "code",
   "execution_count": 2,
   "metadata": {},
   "outputs": [
    {
     "data": {
      "text/plain": [
       "3.0"
      ]
     },
     "metadata": {},
     "output_type": "display_data"
    },
    {
     "data": {
      "text/plain": [
       "3.0"
      ]
     },
     "metadata": {},
     "output_type": "display_data"
    }
   ],
   "source": [
    "add(x,y) = x + y\n",
    "sqrt(add(3,6)) |> display\n",
    "(sqrt ∘ add)(3, 6) |> display"
   ]
  },
  {
   "cell_type": "code",
   "execution_count": 4,
   "metadata": {},
   "outputs": [
    {
     "data": {
      "text/plain": [
       "3-element Vector{Int64}:\n",
       " 2\n",
       " 4\n",
       " 6"
      ]
     },
     "metadata": {},
     "output_type": "display_data"
    }
   ],
   "source": [
    "multiply2(x) = x*2\n",
    "map(multiply2, [1, 2, 3])"
   ]
  },
  {
   "cell_type": "code",
   "execution_count": 8,
   "metadata": {},
   "outputs": [
    {
     "data": {
      "text/plain": [
       "3-element Vector{Int64}:\n",
       " 11\n",
       " 22\n",
       " 33"
      ]
     },
     "metadata": {},
     "output_type": "display_data"
    }
   ],
   "source": [
    "map(+, [1, 2, 3], [10, 20, 30, 400, 5000])"
   ]
  },
  {
   "cell_type": "markdown",
   "metadata": {},
   "source": [
    "### 匿名函数作参数"
   ]
  },
  {
   "cell_type": "markdown",
   "metadata": {},
   "source": [
    "如julia自带的map函数: ***julia\\base\\abstractarray.jl***\n",
    "```julia\n",
    "map(f, A) = collect(Generator(f,A)) # default to returning an Array for `map` on general iterators\n",
    "map(f, ::AbstractDict) = error(\"map is not defined on dictionaries\")\n",
    "map(f, ::AbstractSet) = error(\"map is not defined on sets\")\n",
    "```\n",
    "***julia\\base\\generator.jl***\n",
    "```julia\n",
    "struct Generator{I,F}\n",
    "    f::F\n",
    "    iter::I\n",
    "end\n",
    "\n",
    "Generator(f, I1, I2, Is...) = Generator(a->f(a...), zip(I1, I2, Is...))\n",
    "```"
   ]
  },
  {
   "cell_type": "markdown",
   "metadata": {},
   "source": [
    "https://docs.juliacn.com/latest/base/collections/#Base.map"
   ]
  },
  {
   "cell_type": "code",
   "execution_count": 5,
   "metadata": {},
   "outputs": [
    {
     "data": {
      "text/plain": [
       "3-element Vector{Int64}:\n",
       " 2\n",
       " 4\n",
       " 6"
      ]
     },
     "metadata": {},
     "output_type": "display_data"
    }
   ],
   "source": [
    "map(x -> x * 2, [1, 2, 3])"
   ]
  },
  {
   "cell_type": "markdown",
   "metadata": {},
   "source": [
    "### 匿名函数do-block作参数\n",
    "https://docs.juliacn.com/latest/manual/functions/#Do-Block-Syntax-for-Function-Arguments<br>\n",
    "匿名函数作为函数参数时，如果行数较多，不好看，可以使用 `do-block`匿名函数"
   ]
  },
  {
   "cell_type": "code",
   "execution_count": 9,
   "metadata": {},
   "outputs": [
    {
     "data": {
      "text/plain": [
       "5-element Vector{Int64}:\n",
       "  0\n",
       "  1\n",
       " -3\n",
       "  4\n",
       "  5"
      ]
     },
     "metadata": {},
     "output_type": "display_data"
    }
   ],
   "source": [
    "map(x->begin\n",
    "           if x < 0 && iseven(x)\n",
    "               return 0\n",
    "           elseif x == 0\n",
    "               return 1\n",
    "           else\n",
    "               return x\n",
    "           end\n",
    "       end,\n",
    "    [-2, 0, -3, 4, 5])"
   ]
  },
  {
   "cell_type": "code",
   "execution_count": 12,
   "metadata": {},
   "outputs": [
    {
     "data": {
      "text/plain": [
       "5-element Vector{Int64}:\n",
       "  0\n",
       "  1\n",
       " -3\n",
       "  4\n",
       "  5"
      ]
     },
     "metadata": {},
     "output_type": "display_data"
    }
   ],
   "source": [
    "map([-2, 0, -3, 4, 5]) do x  # do要写在map后面,即do前断行的话会报错\n",
    "    if x < 0 && iseven(x)\n",
    "        return 0\n",
    "    elseif x == 0\n",
    "        return 1\n",
    "    else\n",
    "        return x\n",
    "    end\n",
    "end"
   ]
  },
  {
   "cell_type": "markdown",
   "metadata": {},
   "source": [
    "`do x` 语法创建一个带有参数 `x` 的匿名函数，并将其作为第一个参数传递给 `map`。 类似地，`do a,b` 将创建一个有两个参数的匿名函数。 请注意，`do (a,b)` 将创建一个单参数匿名函数，其参数是一个要解构的元组。 一个简单的 `do` 会声明接下来是一个形式为 `() -> ..`. 的匿名函数。<br>\n",
    "\n",
    "这些参数如何初始化取决于「外部」函数；在这里，`map` 将会依次将 `x` 设置为`-2, 0, -3, 4, 5`，再分别调用调用匿名函数，正如在` map(func, [-2, 0, -3, 4, 5])` 语法中所发生的。"
   ]
  },
  {
   "cell_type": "markdown",
   "metadata": {},
   "source": [
    "***julia\\base\\io.jl***\n",
    "```julia\n",
    "function open(f::Function, args...; kwargs...)\n",
    "    io = open(args...; kwargs...)\n",
    "    try\n",
    "        f(io)\n",
    "    finally\n",
    "        close(io)\n",
    "    end\n",
    "end\n",
    "```\n",
    "可以如下使用：\n",
    "```julia\n",
    "open(\"outfile\", \"w\") do io\n",
    "    write(io, data)\n",
    "end\n",
    "```"
   ]
  },
  {
   "cell_type": "markdown",
   "metadata": {},
   "source": [
    "在这里，`open` 首先打开要写入的文件，接着将结果输出流传递给你在 `do ... end` 代码快中定义的匿名函数。在你的函数退出后，`open` 将确保流被正确关闭，无论你的函数是正常退出还是抛出了一个异常（`try/finally` 结构会在 流程控制 中描述）。<br>\n",
    "\n",
    "使用 `do` 代码块语法时，查阅文档或实现有助于了解用户函数的参数是如何初始化的。<br>\n",
    "\n",
    "类似于其他的内部函数， `do` 代码块也可以“捕获”上一个作用域的变量。例如，上一个 `open...do` 的例子中变量 data 是从外部作用域捕获的。捕获变量可能会给性能优化带来挑战，详见 性能建议。"
   ]
  },
  {
   "cell_type": "markdown",
   "metadata": {},
   "source": [
    "附：\n",
    "```julia\n",
    "help?>open\n",
    "\n",
    "julia> io = open(\"myfile.txt\", \"w\");\n",
    "  \n",
    "julia> write(io, \"Hello world!\");\n",
    "\n",
    "julia> close(io);\n",
    "\n",
    "julia> io = open(\"myfile.txt\", \"r\");\n",
    "\n",
    "julia> read(io, String)\n",
    "\"Hello world!\"\n",
    "\n",
    "julia> write(io, \"This file is read only\")\n",
    "ERROR: ArgumentError: write failed, IOStream is not writeable\n",
    "[...]\n",
    "\n",
    "julia> close(io)\n",
    "\n",
    "julia> io = open(\"myfile.txt\", \"a\");\n",
    "\n",
    "julia> write(io, \"This stream is not read only\")\n",
    "28\n",
    "\n",
    "julia> close(io)\n",
    "\n",
    "julia> rm(\"myfile.txt\")\n",
    "```"
   ]
  },
  {
   "cell_type": "code",
   "execution_count": 14,
   "metadata": {},
   "outputs": [
    {
     "ename": "MethodError",
     "evalue": "MethodError: no method matching sqrt(::var\"#21#22\", ::Int64, ::Int64)\nThe function `sqrt` exists, but no method is defined for this combination of argument types.\n\nClosest candidates are:\n  sqrt(!Matched::Missing)\n   @ Base math.jl:1533\n  sqrt(!Matched::ComplexF16)\n   @ Base math.jl:1512\n  sqrt(!Matched::BigInt)\n   @ Base mpfr.jl:703\n  ...\n",
     "output_type": "error",
     "traceback": [
      "MethodError: no method matching sqrt(::var\"#21#22\", ::Int64, ::Int64)\n",
      "The function `sqrt` exists, but no method is defined for this combination of argument types.\n",
      "\n",
      "Closest candidates are:\n",
      "  sqrt(!Matched::Missing)\n",
      "   @ Base math.jl:1533\n",
      "  sqrt(!Matched::ComplexF16)\n",
      "   @ Base math.jl:1512\n",
      "  sqrt(!Matched::BigInt)\n",
      "   @ Base mpfr.jl:703\n",
      "  ...\n",
      "\n",
      "\n",
      "Stacktrace:\n",
      " [1] top-level scope\n",
      "   @ e:\\Projects.jl\\Training.jl\\7. function methods\\jl_notebook_cell_df34fa98e69747e1a8f8a730347b8e2f_X30sZmlsZQ==.jl:1"
     ]
    }
   ],
   "source": [
    "sqrt(3,6) do x,y\n",
    "    x + y\n",
    "    end"
   ]
  },
  {
   "cell_type": "code",
   "execution_count": 15,
   "metadata": {},
   "outputs": [
    {
     "data": {
      "text/plain": [
       "f_multipy (generic function with 1 method)"
      ]
     },
     "metadata": {},
     "output_type": "display_data"
    }
   ],
   "source": [
    "function f_multipy(f::Function, r1::Real, r2::Real)\n",
    "    f_result = f(r1,r2)\n",
    "    f_result * 2\n",
    "end"
   ]
  },
  {
   "cell_type": "code",
   "execution_count": 16,
   "metadata": {},
   "outputs": [
    {
     "data": {
      "text/plain": [
       "6"
      ]
     },
     "metadata": {},
     "output_type": "display_data"
    }
   ],
   "source": [
    "f_multipy(1,2) do x, y\n",
    "    x + y\n",
    "end"
   ]
  },
  {
   "cell_type": "markdown",
   "metadata": {},
   "source": [
    "**`do-block`作函数参数时，函数参数位置只能在第一个位置**，测试如下"
   ]
  },
  {
   "cell_type": "code",
   "execution_count": 31,
   "metadata": {},
   "outputs": [
    {
     "ename": "MethodError",
     "evalue": "MethodError: no method matching f_multipy2(::var\"#43#44\", ::Int64, ::Int64)\nThe function `f_multipy2` exists, but no method is defined for this combination of argument types.\n\nClosest candidates are:\n  f_multipy2(!Matched::Real, !Matched::Function, ::Real)\n   @ Main e:\\Projects.jl\\Training.jl\\7. function methods\\jl_notebook_cell_df34fa98e69747e1a8f8a730347b8e2f_X33sZmlsZQ==.jl:1\n",
     "output_type": "error",
     "traceback": [
      "MethodError: no method matching f_multipy2(::var\"#43#44\", ::Int64, ::Int64)\n",
      "The function `f_multipy2` exists, but no method is defined for this combination of argument types.\n",
      "\n",
      "Closest candidates are:\n",
      "  f_multipy2(!Matched::Real, !Matched::Function, ::Real)\n",
      "   @ Main e:\\Projects.jl\\Training.jl\\7. function methods\\jl_notebook_cell_df34fa98e69747e1a8f8a730347b8e2f_X33sZmlsZQ==.jl:1\n",
      "\n",
      "\n",
      "Stacktrace:\n",
      " [1] top-level scope\n",
      "   @ e:\\Projects.jl\\Training.jl\\7. function methods\\jl_notebook_cell_df34fa98e69747e1a8f8a730347b8e2f_X33sZmlsZQ==.jl:6"
     ]
    }
   ],
   "source": [
    "function f_multipy2(r1::Real, f::Function, r2::Real)\n",
    "    f_result = f(r1,r2)\n",
    "    f_result * 3\n",
    "end\n",
    "\n",
    "f_multipy2(1,2) do x, y\n",
    "    x + y\n",
    "end"
   ]
  },
  {
   "cell_type": "code",
   "execution_count": 30,
   "metadata": {},
   "outputs": [
    {
     "ename": "MethodError",
     "evalue": "MethodError: no method matching f_multipy3(::var\"#41#42\", ::Int64, ::Int64)\nThe function `f_multipy3` exists, but no method is defined for this combination of argument types.\n\nClosest candidates are:\n  f_multipy3(!Matched::Real, ::Real, !Matched::Function)\n   @ Main e:\\Projects.jl\\Training.jl\\7. function methods\\jl_notebook_cell_df34fa98e69747e1a8f8a730347b8e2f_X34sZmlsZQ==.jl:1\n",
     "output_type": "error",
     "traceback": [
      "MethodError: no method matching f_multipy3(::var\"#41#42\", ::Int64, ::Int64)\n",
      "The function `f_multipy3` exists, but no method is defined for this combination of argument types.\n",
      "\n",
      "Closest candidates are:\n",
      "  f_multipy3(!Matched::Real, ::Real, !Matched::Function)\n",
      "   @ Main e:\\Projects.jl\\Training.jl\\7. function methods\\jl_notebook_cell_df34fa98e69747e1a8f8a730347b8e2f_X34sZmlsZQ==.jl:1\n",
      "\n",
      "\n",
      "Stacktrace:\n",
      " [1] top-level scope\n",
      "   @ e:\\Projects.jl\\Training.jl\\7. function methods\\jl_notebook_cell_df34fa98e69747e1a8f8a730347b8e2f_X34sZmlsZQ==.jl:6"
     ]
    }
   ],
   "source": [
    "function f_multipy3(r1::Real, r2::Real, f::Function)\n",
    "    f_result = f(r1,r2)\n",
    "    f_result * 3\n",
    "end\n",
    "\n",
    "f_multipy3(1,2) do x, y\n",
    "    x + y\n",
    "end"
   ]
  },
  {
   "cell_type": "markdown",
   "metadata": {},
   "source": [
    "https://zhuanlan.zhihu.com/p/19811813\n",
    "```julia\n",
    "yonggang li 2015-07-03\n",
    "如果是map(arg1,f1,arg2,f2,args...)这样的声明呢?\n",
    "\n",
    "知乎用户6pEVPF 2015-07-03 ​回复\n",
    "这就没有办法了，现在仅仅能够将第一个且第一个 function 用 do\n",
    "\n",
    "知乎用户6pEVPF 2015-07-03\n",
    "一个语法糖，原本像是 map 这样的函数直接写会有\n",
    "map( 一个很长的匿名函数写在这里很难看, varlist)\n",
    "\n",
    "现在写成\n",
    "\n",
    "map ( varlist) do x\n",
    "匿名函数的行为写在这里就可以了\n",
    "end\n",
    "\n",
    "这会好看很多\n",
    "```"
   ]
  }
 ],
 "metadata": {
  "kernelspec": {
   "display_name": "Julia 1.11.0",
   "language": "julia",
   "name": "julia-1.11"
  },
  "language_info": {
   "file_extension": ".jl",
   "mimetype": "application/julia",
   "name": "julia",
   "version": "1.11.0"
  }
 },
 "nbformat": 4,
 "nbformat_minor": 2
}
