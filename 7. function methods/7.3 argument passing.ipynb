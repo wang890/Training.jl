{
 "cells": [
  {
   "cell_type": "markdown",
   "metadata": {},
   "source": [
    "https://docs.juliacn.com/latest/manual/functions/#变参函数, 包括:\n",
    "+ positional arguments, 位置参数, 即 basic form\n",
    "+ variable arguments, 可变参数,varargs: 参数的个数可变\n",
    "+ optional arguments, 可选参数: 不给值的 为默认值\n",
    "+ keyword arguments, 关键字参数，参数的顺序可以打乱，不用严格按位置对应"
   ]
  }
 ],
 "metadata": {
  "language_info": {
   "name": "python"
  }
 },
 "nbformat": 4,
 "nbformat_minor": 2
}
