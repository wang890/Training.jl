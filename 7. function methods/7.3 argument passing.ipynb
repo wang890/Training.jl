{
 "cells": [
  {
   "cell_type": "markdown",
   "metadata": {},
   "source": [
    "### variable arguments ... 可变参数\n",
    "https://docs.juliacn.com/latest/manual/functions/#变参函数<br>\n",
    "varargs: 参数的个数可变"
   ]
  },
  {
   "cell_type": "code",
   "execution_count": 34,
   "metadata": {},
   "outputs": [
    {
     "data": {
      "text/plain": [
       "(1, 2, ())"
      ]
     },
     "metadata": {},
     "output_type": "display_data"
    },
    {
     "data": {
      "text/plain": [
       "(1, 2, (3,))"
      ]
     },
     "metadata": {},
     "output_type": "display_data"
    },
    {
     "data": {
      "text/plain": [
       "(1, 2, (3, 4, 5, 6))"
      ]
     },
     "metadata": {},
     "output_type": "display_data"
    }
   ],
   "source": [
    "bar(a,b,x...) = (a,b,x)\n",
    "\n",
    "bar(1,2) |> display\n",
    "bar(1,2,3) |> display\n",
    "bar(1,2,3,4,5,6) |> display"
   ]
  },
  {
   "cell_type": "markdown",
   "metadata": {},
   "source": [
    "**函数定义中都有 `x...`, 调用函数时:**<br>\n",
    "+ 如果给的参数过多，**过多的参数都成 `x`(pack)**<br> \n",
    "\n",
    "+ **如果给`x`传递pack类数据(不限于元组), 函数体中会把 `x` unpack后使用** "
   ]
  },
  {
   "cell_type": "code",
   "execution_count": 35,
   "metadata": {},
   "outputs": [
    {
     "data": {
      "text/plain": [
       "(1, 2, (3, 4))"
      ]
     },
     "metadata": {},
     "output_type": "display_data"
    }
   ],
   "source": [
    "x = (3, 4)\n",
    "bar(1,2,x...)"
   ]
  },
  {
   "cell_type": "code",
   "execution_count": 36,
   "metadata": {},
   "outputs": [
    {
     "data": {
      "text/plain": [
       "(1, 2, (3, 4))"
      ]
     },
     "metadata": {},
     "output_type": "display_data"
    }
   ],
   "source": [
    "x = (2, 3, 4)\n",
    "bar(1,x...)"
   ]
  },
  {
   "cell_type": "code",
   "execution_count": 37,
   "metadata": {},
   "outputs": [
    {
     "data": {
      "text/plain": [
       "(1, 2, (3, 4))"
      ]
     },
     "metadata": {},
     "output_type": "display_data"
    }
   ],
   "source": [
    "x = (1, 2, 3, 4)\n",
    "bar(x...)"
   ]
  },
  {
   "cell_type": "code",
   "execution_count": 38,
   "metadata": {},
   "outputs": [
    {
     "data": {
      "text/plain": [
       "(1, 2, (3, 4))"
      ]
     },
     "metadata": {},
     "output_type": "display_data"
    }
   ],
   "source": [
    "x = [1,2,3,4]\n",
    "bar(x...)"
   ]
  },
  {
   "cell_type": "markdown",
   "metadata": {},
   "source": [
    "此外，**参数被放入的函数不一定是可变参数函数（尽管经常是），下面 baz(a,b)函数的参数就没有带...** "
   ]
  },
  {
   "cell_type": "code",
   "execution_count": 40,
   "metadata": {},
   "outputs": [
    {
     "data": {
      "text/plain": [
       "3"
      ]
     },
     "metadata": {},
     "output_type": "display_data"
    }
   ],
   "source": [
    "baz(a,b) = a + b \n",
    "args = [1,2]\n",
    "baz(args...)"
   ]
  },
  {
   "cell_type": "code",
   "execution_count": 41,
   "metadata": {},
   "outputs": [
    {
     "ename": "MethodError",
     "evalue": "MethodError: no method matching baz(::Int64, ::Int64, ::Int64)\nThe function `baz` exists, but no method is defined for this combination of argument types.\n\nClosest candidates are:\n  baz(::Any, ::Any)\n   @ Main e:\\Projects.jl\\Training.jl\\7. function methods\\jl_notebook_cell_df34fa98e69747e1a8f8a730347b8e2f_X35sZmlsZQ==.jl:1\n",
     "output_type": "error",
     "traceback": [
      "MethodError: no method matching baz(::Int64, ::Int64, ::Int64)\n",
      "The function `baz` exists, but no method is defined for this combination of argument types.\n",
      "\n",
      "Closest candidates are:\n",
      "  baz(::Any, ::Any)\n",
      "   @ Main e:\\Projects.jl\\Training.jl\\7. function methods\\jl_notebook_cell_df34fa98e69747e1a8f8a730347b8e2f_X35sZmlsZQ==.jl:1\n",
      "\n",
      "\n",
      "Stacktrace:\n",
      " [1] top-level scope\n",
      "   @ e:\\Projects.jl\\Training.jl\\7. function methods\\jl_notebook_cell_df34fa98e69747e1a8f8a730347b8e2f_X36sZmlsZQ==.jl:2"
     ]
    }
   ],
   "source": [
    "args = [1,2,3]\n",
    "baz(args...)"
   ]
  },
  {
   "cell_type": "markdown",
   "metadata": {},
   "source": [
    "正如你所见，****如果要拆解的容器（比如元组或数组）元素数量不匹配就会报错，和直接给多个参数报错一样。--- 函数定义时如果参数带...了，就没问题.**"
   ]
  },
  {
   "cell_type": "markdown",
   "metadata": {},
   "source": [
    "#### 数量约束的可变参数\n",
    "**Parametrically constrained Varargs methods 参数化约束的可变参数方法**\n",
    "https://docs.juliacn.com/latest/manual/methods/#参数化约束的可变参数方法"
   ]
  },
  {
   "cell_type": "code",
   "execution_count": null,
   "metadata": {},
   "outputs": [],
   "source": []
  },
  {
   "cell_type": "markdown",
   "metadata": {},
   "source": [
    "### positional arguments 位置参数\n",
    "即 basic form, 传值与函数参数之间按位置先后一一对应，不能混乱."
   ]
  },
  {
   "cell_type": "markdown",
   "metadata": {},
   "source": [
    "### optional arguments, 可选参数即默认参数\n",
    "https://docs.juliacn.com/latest/manual/functions/#可选参数<br>\n",
    "**不给值的 为默认值**"
   ]
  },
  {
   "cell_type": "markdown",
   "metadata": {},
   "source": [
    "在很多情况下，函数参数有合理的默认值，因此也许不需要显式地传递。例如，Dates 模块中的 Date\n",
    "```julia\n",
    "function Date(y::Int64, m::Int64=1, d::Int64=1)\n",
    "    err = validargs(Date, y, m, d)\n",
    "    err === nothing || throw(err)\n",
    "    return Date(UTD(totaldays(y, m, d)))\n",
    "end\n",
    "```\n"
   ]
  },
  {
   "cell_type": "code",
   "execution_count": 1,
   "metadata": {},
   "outputs": [
    {
     "data": {
      "text/plain": [
       "2000-12-12"
      ]
     },
     "metadata": {},
     "output_type": "display_data"
    },
    {
     "data": {
      "text/plain": [
       "2000-12-01"
      ]
     },
     "metadata": {},
     "output_type": "display_data"
    },
    {
     "data": {
      "text/plain": [
       "2000-01-01"
      ]
     },
     "metadata": {},
     "output_type": "display_data"
    }
   ],
   "source": [
    "using Dates\n",
    "Date(2000, 12, 12) |> display\n",
    "Date(2000, 12) |> display\n",
    "Date(2000) |> display"
   ]
  },
  {
   "cell_type": "markdown",
   "metadata": {},
   "source": [
    "#### 可选默认参数是使用多方法定义实现的\n",
    "https://docs.juliacn.com/latest/manual/methods/#可选参数和关键字的参数的注意事项"
   ]
  },
  {
   "cell_type": "code",
   "execution_count": 7,
   "metadata": {},
   "outputs": [
    {
     "data": {
      "text/plain": [
       "ff (generic function with 3 methods)"
      ]
     },
     "metadata": {},
     "output_type": "display_data"
    }
   ],
   "source": [
    "ff(a=1,b=2) = a+2b"
   ]
  },
  {
   "cell_type": "code",
   "execution_count": 8,
   "metadata": {},
   "outputs": [
    {
     "data": {
      "text/plain": [
       "5"
      ]
     },
     "metadata": {},
     "output_type": "display_data"
    },
    {
     "data": {
      "text/plain": [
       "5"
      ]
     },
     "metadata": {},
     "output_type": "display_data"
    }
   ],
   "source": [
    "ff() |> display\n",
    "ff(1,2) |> display"
   ]
  },
  {
   "cell_type": "markdown",
   "metadata": {},
   "source": [
    "内部定义了\n",
    "```julia\n",
    "ff(a,b) = a+2b\n",
    "ff(a) = ff(a,2)\n",
    "ff() = ff(1,2)\n",
    "```\n",
    "这就意味着调用`f()`等于调用`f(1,2)`。在这个情况下结果是`5`，因为`f(1,2)`使用的是上面f的第一个方法。但是，不总是需要是这种情况。如果你定义了第四个对于整数更加专用的方法："
   ]
  },
  {
   "cell_type": "code",
   "execution_count": 9,
   "metadata": {},
   "outputs": [
    {
     "data": {
      "text/plain": [
       "ff (generic function with 4 methods)"
      ]
     },
     "metadata": {},
     "output_type": "display_data"
    }
   ],
   "source": [
    "ff(a::Int,b::Int) = a-2b"
   ]
  },
  {
   "cell_type": "code",
   "execution_count": 10,
   "metadata": {},
   "outputs": [
    {
     "data": {
      "text/plain": [
       "-3"
      ]
     },
     "metadata": {},
     "output_type": "display_data"
    },
    {
     "data": {
      "text/plain": [
       "-3"
      ]
     },
     "metadata": {},
     "output_type": "display_data"
    }
   ],
   "source": [
    "ff() |> display\n",
    "ff(1,2) |> display"
   ]
  },
  {
   "cell_type": "markdown",
   "metadata": {},
   "source": [
    "此时`f()`和`f(1,2)`的结果都是`-3`。换句话说，可选参数只与函数捆绑，而不是函数的任意一个特定的方法。这个决定于使用的方法的可选参数的类型。当可选参数是用全局变量的形式定义时，可选参数的类型甚至会在运行时改变。"
   ]
  },
  {
   "cell_type": "markdown",
   "metadata": {},
   "source": [
    "### keyword arguments 关键字参数\n",
    "https://docs.juliacn.com/latest/manual/functions/#关键字参数<br>\n",
    "参数的顺序可以打乱，不用严格按位置对应<br>\n",
    "\n",
    "某些函数需要大量参数，按参数位置一一对应调用是麻烦的。关键字参数允许通过名称而不是仅通过位置来识别参数。\n"
   ]
  },
  {
   "cell_type": "markdown",
   "metadata": {},
   "source": [
    "```julia\n",
    "function plot(x, y; style=\"solid\", width=1, color=\"black\")\n",
    "    ###\n",
    "end\n",
    "```\n",
    "在函数调用时，分号是可选的：可以调用 `plot(x, y, width=2)` 或 `plot(x, y; width=2)`，但前者的风格更为常见。显式的分号只有在传递可变参数或下文中描述的需计算的关键字时是必要的。"
   ]
  },
  {
   "cell_type": "markdown",
   "metadata": {},
   "source": [
    "```julia\n",
    "function f(;x::Int=1)\n",
    "    ###\n",
    "end\n",
    "\n",
    "function plot(x...; style=\"solid\")\n",
    "    ###\n",
    "end\n",
    "\n",
    "function f(x; y)\n",
    "    ###\n",
    "end\n",
    "f(3, y=5) # ok, y is assigned\n",
    "f(3)      # throws UndefKeywordError(:y)\n",
    "```\n",
    "在分号后也可传递 `key => value` 表达式。例如，`plot(x, y; :width => 2)` 等价于 `plot(x, y, width=2)`。当关键字名称需要在运行时被计算时，这就很实用了。"
   ]
  },
  {
   "cell_type": "markdown",
   "metadata": {},
   "source": [
    "当计算可选和关键字参数的默认值表达式时，只有先前的参数才在作用域内。例如，给出以下定义：\n",
    "\n",
    "```julia\n",
    "function f(x, a=b, b=1)\n",
    "    ###\n",
    "end\n",
    "```\n",
    "`a=b` 中的 `b` 指的是外部作用域内的 `b`，而不是后续参数中的 `b`。"
   ]
  },
  {
   "cell_type": "markdown",
   "metadata": {},
   "source": [
    "https://docs.juliacn.com/latest/manual/methods/#可选参数和关键字的参数的注意事项<br>\n",
    "\n",
    "关键字参数与普通的位置参数的行为很不一样。特别地，他们不参与到方法分派中。**方法只基于位置参数分派，在匹配得方法确定之后关键字参数才会被处理。**"
   ]
  },
  {
   "cell_type": "markdown",
   "metadata": {},
   "source": [
    "### Argument destructuring 参数解包\n",
    "https://docs.juliacn.com/latest/manual/functions/#参数解构"
   ]
  },
  {
   "cell_type": "code",
   "execution_count": 22,
   "metadata": {},
   "outputs": [
    {
     "data": {
      "text/plain": [
       "2"
      ]
     },
     "metadata": {},
     "output_type": "display_data"
    },
    {
     "data": {
      "text/plain": [
       "10"
      ]
     },
     "metadata": {},
     "output_type": "display_data"
    },
    {
     "data": {
      "text/plain": [
       "100"
      ]
     },
     "metadata": {},
     "output_type": "display_data"
    }
   ],
   "source": [
    "(min, max) = (2, 10)\n",
    "min |> display\n",
    "max |> display\n",
    "\n",
    "(min, max) = (22, 100, 111)\n",
    "max"
   ]
  },
  {
   "cell_type": "code",
   "execution_count": 23,
   "metadata": {},
   "outputs": [
    {
     "data": {
      "text/plain": [
       "2"
      ]
     },
     "metadata": {},
     "output_type": "display_data"
    }
   ],
   "source": [
    "min2, max2 = (2, 10)\n",
    "min2"
   ]
  },
  {
   "cell_type": "code",
   "execution_count": 24,
   "metadata": {},
   "outputs": [
    {
     "data": {
      "text/plain": [
       "3"
      ]
     },
     "metadata": {},
     "output_type": "display_data"
    }
   ],
   "source": [
    "(min3, max3) = 1,3,5\n",
    "max3"
   ]
  },
  {
   "cell_type": "markdown",
   "metadata": {},
   "source": [
    "The destructuring feature can also be used within a function argument. If a function argument name is written as a tuple (e.g. `(x, y)`) instead of just a symbol, then an assignment `(x, y) = argument` will be inserted for you:<br>\n",
    "\n",
    "解构特性也可以在函数参数中使用。如果一个**函数的参数名**被写成一个元组（例如` (x, y)` ），而不是一个符号，那么一个赋值 **`(x, y) = argument(传值)`** 会为你插入："
   ]
  },
  {
   "cell_type": "code",
   "execution_count": 21,
   "metadata": {},
   "outputs": [
    {
     "data": {
      "text/plain": [
       "(2, 10)"
      ]
     },
     "metadata": {},
     "output_type": "display_data"
    },
    {
     "data": {
      "text/plain": [
       "8"
      ]
     },
     "metadata": {},
     "output_type": "display_data"
    },
    {
     "data": {
      "text/plain": [
       "8"
      ]
     },
     "metadata": {},
     "output_type": "display_data"
    },
    {
     "data": {
      "text/plain": [
       "80"
      ]
     },
     "metadata": {},
     "output_type": "display_data"
    },
    {
     "ename": "MethodError",
     "evalue": "MethodError: no method matching gap(::Int64, ::Int64)\nThe function `gap` exists, but no method is defined for this combination of argument types.\n\nClosest candidates are:\n  gap(::Any)\n   @ Main e:\\Projects.jl\\Training.jl\\7. function methods\\jl_notebook_cell_df34fa98e69747e1a8f8a730347b8e2f_W1sZmlsZQ==.jl:2\n",
     "output_type": "error",
     "traceback": [
      "MethodError: no method matching gap(::Int64, ::Int64)\n",
      "The function `gap` exists, but no method is defined for this combination of argument types.\n",
      "\n",
      "Closest candidates are:\n",
      "  gap(::Any)\n",
      "   @ Main e:\\Projects.jl\\Training.jl\\7. function methods\\jl_notebook_cell_df34fa98e69747e1a8f8a730347b8e2f_W1sZmlsZQ==.jl:2\n",
      "\n",
      "\n",
      "Stacktrace:\n",
      " [1] top-level scope\n",
      "   @ e:\\Projects.jl\\Training.jl\\7. function methods\\jl_notebook_cell_df34fa98e69747e1a8f8a730347b8e2f_W1sZmlsZQ==.jl:10"
     ]
    }
   ],
   "source": [
    "minmax(x, y) = (y < x) ? (y, x) : (x, y)\n",
    "gap((min, max)) = max - min\n",
    "\n",
    "minmax(10, 2) |>display\n",
    "\n",
    "gap(minmax(10, 2)) |> display\n",
    "gap((2,10)) |> display\n",
    "gap((20,100,200)) |> display\n",
    "\n",
    "gap(2,10) |> display"
   ]
  },
  {
   "cell_type": "markdown",
   "metadata": {},
   "source": [
    "Notice the extra set of parentheses in the definition of gap. Without those, gap would be a two-argument function, and this example would not work.<br>\n",
    "\n",
    "注意 gap 定义中的额外括号集。如果没有这些， gap 将是一个双参数函数，并且这个示例将无法工作。\n",
    "\n",
    "Similarly, property destructuring can also be used for function arguments:<br>\n",
    "类似地，属性解构也可以用于函数参数：\n",
    "https://docs.julialang.org/en/v1/manual/functions/#Property-destructuring"
   ]
  },
  {
   "cell_type": "code",
   "execution_count": 25,
   "metadata": {},
   "outputs": [
    {
     "data": {
      "text/plain": [
       "@NamedTuple{a::Int64, b::Int64, c::Int64}"
      ]
     },
     "metadata": {},
     "output_type": "display_data"
    },
    {
     "data": {
      "text/plain": [
       "(:a, :b, :c)"
      ]
     },
     "metadata": {},
     "output_type": "display_data"
    },
    {
     "data": {
      "text/plain": [
       "1"
      ]
     },
     "metadata": {},
     "output_type": "display_data"
    },
    {
     "ename": "UndefVarError",
     "evalue": "UndefVarError: `c` not defined in `Main`\nSuggestion: check for spelling errors or missing imports.",
     "output_type": "error",
     "traceback": [
      "UndefVarError: `c` not defined in `Main`\n",
      "Suggestion: check for spelling errors or missing imports.\n",
      "\n",
      "Stacktrace:\n",
      " [1] top-level scope\n",
      "   @ e:\\Projects.jl\\Training.jl\\7. function methods\\jl_notebook_cell_df34fa98e69747e1a8f8a730347b8e2f_W5sZmlsZQ==.jl:7"
     ]
    }
   ],
   "source": [
    "(; b, a) = (a=1, b=2, c=3)\n",
    "\n",
    "(a=1, b=2, c=3) |> typeof |> display\n",
    "propertynames((a=1, b=2, c=3)) |> display\n",
    "\n",
    "a |> display\n",
    "c |> display"
   ]
  },
  {
   "cell_type": "code",
   "execution_count": 28,
   "metadata": {},
   "outputs": [
    {
     "data": {
      "text/plain": [
       "2"
      ]
     },
     "metadata": {},
     "output_type": "display_data"
    },
    {
     "data": {
      "text/plain": [
       "1"
      ]
     },
     "metadata": {},
     "output_type": "display_data"
    }
   ],
   "source": [
    "(b, a) = (a=1, b=2, c=3)  # 去掉分号不对\n",
    "a |> display\n",
    "b |> display"
   ]
  },
  {
   "cell_type": "markdown",
   "metadata": {},
   "source": [
    "https://docs.julialang.org/en/v1/manual/functions/#man-argument-destructuring"
   ]
  },
  {
   "cell_type": "code",
   "execution_count": 29,
   "metadata": {},
   "outputs": [
    {
     "data": {
      "text/plain": [
       "3"
      ]
     },
     "metadata": {},
     "output_type": "display_data"
    }
   ],
   "source": [
    "foo((; x, y)) = x + y\n",
    "foo((x=1, y=2))"
   ]
  },
  {
   "cell_type": "code",
   "execution_count": 30,
   "metadata": {},
   "outputs": [
    {
     "data": {
      "text/plain": [
       "(:x, :y)"
      ]
     },
     "metadata": {},
     "output_type": "display_data"
    },
    {
     "data": {
      "text/plain": [
       "7"
      ]
     },
     "metadata": {},
     "output_type": "display_data"
    }
   ],
   "source": [
    "struct A\n",
    "    x\n",
    "    y\n",
    "end\n",
    "\n",
    "propertynames(A(3, 4)) |> display\n",
    "\n",
    "foo(A(3, 4))"
   ]
  },
  {
   "cell_type": "markdown",
   "metadata": {},
   "source": [
    "For anonymous functions, destructuring a single argument requires an extra comma:<br>\n",
    "对于匿名函数，解构单个参数需要一个额外的逗号："
   ]
  },
  {
   "cell_type": "code",
   "execution_count": 31,
   "metadata": {},
   "outputs": [
    {
     "data": {
      "text/plain": [
       "2-element Vector{Int64}:\n",
       " 3\n",
       " 7"
      ]
     },
     "metadata": {},
     "output_type": "display_data"
    }
   ],
   "source": [
    "map(\n",
    "    ((x, y),) -> x + y, \n",
    "    [(1, 2), (3, 4)]\n",
    "    )"
   ]
  }
 ],
 "metadata": {
  "kernelspec": {
   "display_name": "Julia 1.11.0",
   "language": "julia",
   "name": "julia-1.11"
  },
  "language_info": {
   "file_extension": ".jl",
   "mimetype": "application/julia",
   "name": "julia",
   "version": "1.11.0"
  }
 },
 "nbformat": 4,
 "nbformat_minor": 2
}
