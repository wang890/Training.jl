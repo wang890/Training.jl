{
 "cells": [
  {
   "cell_type": "markdown",
   "metadata": {},
   "source": [
    "### 定义方法\n",
    "https://docs.juliacn.com/latest/manual/methods/#定义方法"
   ]
  },
  {
   "cell_type": "markdown",
   "metadata": {},
   "source": [
    "### 自动定义方法\n",
    "https://docs.julialang.org/en/v1/manual/methods/#man-method-specializations"
   ]
  },
  {
   "cell_type": "code",
   "execution_count": 1,
   "metadata": {},
   "outputs": [
    {
     "data": {
      "text/plain": [
       "mysum (generic function with 1 method)"
      ]
     },
     "metadata": {},
     "output_type": "display_data"
    }
   ],
   "source": [
    "mysum(x::Real, y::Real) = x + y"
   ]
  },
  {
   "cell_type": "code",
   "execution_count": 2,
   "metadata": {},
   "outputs": [
    {
     "data": {
      "text/plain": [
       "3"
      ]
     },
     "metadata": {},
     "output_type": "display_data"
    },
    {
     "data": {
      "text/plain": [
       "3.0"
      ]
     },
     "metadata": {},
     "output_type": "display_data"
    }
   ],
   "source": [
    "mysum(1, 2) |> display\n",
    "mysum(1.0, 2.0) |> display"
   ]
  },
  {
   "cell_type": "markdown",
   "metadata": {},
   "source": [
    "Julia will compile `mysum` twice, once for `x::Int, y::Int` and again for `x::Float64, y::Float64`. The point of compiling twice is performance: the methods that get called for `+` (which `mysum` uses) vary depending on the specific types of `x` and `y`, and by compiling different specializations Julia can do all the method lookup ahead of time. This allows the program to run much more quickly, since it does not have to bother with method lookup while it is running. Julia's automatic specialization allows you to write generic algorithms and expect that the compiler will generate efficient, specialized code to handle each case you need.<br>\n",
    "\n",
    "Julia将编译两次 `mysum` ，一次编译 `x::Int, y::Int` ，一次编译 `x::Float64, y::Float64` 。编译两次的意义在于性能： `+`  （ `mysum` 使用）调用的方法取决于 `x` 和 `y` 的特定类型，通过编译不同的专门化，Julia可以提前完成所有的方法查找。这允许程序运行得更快，因为它在运行时不必为方法查找而烦恼。Julia的自动专门化允许您编写泛型算法，并期望编译器生成高效的专门化代码来处理您需要的每种情况。<br>\n",
    "\n",
    "In cases where the number of potential specializations might be effectively unlimited, Julia may avoid this default specialization. See Be aware of when Julia avoids specializing for more information. <br>\n",
    "\n",
    "在可能的专门化数量实际上是无限的情况下，Julia可能会避免这种默认的专门化。有关更多信息，请参见注意Julia何时避免专门化。"
   ]
  },
  {
   "cell_type": "markdown",
   "metadata": {},
   "source": [
    "### 重定义方法\n",
    "https://docs.juliacn.com/latest/manual/methods/#重定义方法<br>\n",
    "**没细看，没看懂，先忽略（笔者注）**"
   ]
  },
  {
   "cell_type": "markdown",
   "metadata": {},
   "source": [
    "### 在局部范围内定义方法\n",
    "**Defining methods in local scope**<br>\n",
    "https://docs.julialang.org/en/v1/manual/methods/#Defining-methods-in-local-scope<br>\n",
    "**没细看，没看懂，先忽略（笔者注）**\n"
   ]
  }
 ],
 "metadata": {
  "kernelspec": {
   "display_name": "Julia 1.11.0",
   "language": "julia",
   "name": "julia-1.11"
  },
  "language_info": {
   "file_extension": ".jl",
   "mimetype": "application/julia",
   "name": "julia",
   "version": "1.11.0"
  }
 },
 "nbformat": 4,
 "nbformat_minor": 2
}
