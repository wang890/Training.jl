{
 "cells": [
  {
   "cell_type": "markdown",
   "metadata": {},
   "source": [
    "### type method called functor\n",
    "**Function-like objects 函数对象**\n",
    "https://docs.juliacn.com/latest/manual/methods/#类函数对象"
   ]
  },
  {
   "cell_type": "markdown",
   "metadata": {},
   "source": [
    "方法与类型相关，所以可以通过给类型加方法使得任意一个Julia类型变得\"可被调用\"。（这个\"可调用\"的对象有时称为\"函子\"。）<br>\n",
    "\n",
    "例如，你可以定义一个类型，存储着多项式的系数，但是行为像是一个函数，可以为多项式求值："
   ]
  },
  {
   "cell_type": "code",
   "execution_count": 1,
   "metadata": {},
   "outputs": [],
   "source": [
    "struct Polynomial{R}\n",
    "       coeffs::Vector{R}\n",
    "end\n",
    "\n",
    "function (p::Polynomial)(x)\n",
    "    v = p.coeffs[end]\n",
    "    for i = (length(p.coeffs)-1):-1:1\n",
    "        v = v*x + p.coeffs[i]\n",
    "    end\n",
    "    return v\n",
    "end"
   ]
  },
  {
   "cell_type": "code",
   "execution_count": 2,
   "metadata": {},
   "outputs": [],
   "source": [
    "(p::Polynomial)() = p(5)"
   ]
  },
  {
   "cell_type": "markdown",
   "metadata": {},
   "source": [
    "注意函数是通过类型而非名字来指定的。如同普通函数一样这里有一个简洁的语法形式。在函数体内，p会指向被调用的对象。Polynomial会按如下方式使用："
   ]
  },
  {
   "cell_type": "code",
   "execution_count": 3,
   "metadata": {},
   "outputs": [
    {
     "data": {
      "text/plain": [
       "931"
      ]
     },
     "metadata": {},
     "output_type": "display_data"
    },
    {
     "data": {
      "text/plain": [
       "2551"
      ]
     },
     "metadata": {},
     "output_type": "display_data"
    }
   ],
   "source": [
    "p = Polynomial([1,10,100])\n",
    "p(3) |> display\n",
    "p() |> display"
   ]
  },
  {
   "cell_type": "markdown",
   "metadata": {},
   "source": [
    "这个机制也是Julia中类型构造函数和闭包（指向其环境的内部函数）的工作原理。"
   ]
  }
 ],
 "metadata": {
  "kernelspec": {
   "display_name": "Julia 1.11.0",
   "language": "julia",
   "name": "julia-1.11"
  },
  "language_info": {
   "file_extension": ".jl",
   "mimetype": "application/julia",
   "name": "julia",
   "version": "1.11.0"
  }
 },
 "nbformat": 4,
 "nbformat_minor": 2
}
