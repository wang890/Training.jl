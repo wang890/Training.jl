{
 "cells": [
  {
   "cell_type": "markdown",
   "metadata": {},
   "source": [
    "https://blog.csdn.net/qq_40206371/article/details/133963582 <br><br>\n",
    "**数组和元素**"
   ]
  },
  {
   "cell_type": "code",
   "execution_count": 2,
   "metadata": {},
   "outputs": [
    {
     "data": {
      "text/plain": [
       "3-element Vector{Int64}:\n",
       " 1\n",
       " 2\n",
       " 3"
      ]
     },
     "metadata": {},
     "output_type": "display_data"
    }
   ],
   "source": [
    "a = [1,2,3]"
   ]
  },
  {
   "cell_type": "code",
   "execution_count": 3,
   "metadata": {},
   "outputs": [
    {
     "ename": "MethodError",
     "evalue": "MethodError: no method matching +(::Vector{Int64}, ::Int64)\nFor element-wise addition, use broadcasting with dot syntax: array .+ scalar\n\nClosest candidates are:\n  +(::Any, ::Any, !Matched::Any, !Matched::Any...)\n   @ Base operators.jl:587\n  +(!Matched::Missing, ::Number)\n   @ Base missing.jl:123\n  +(!Matched::Base.CoreLogging.LogLevel, ::Integer)\n   @ Base logging.jl:131\n  ...\n",
     "output_type": "error",
     "traceback": [
      "MethodError: no method matching +(::Vector{Int64}, ::Int64)\n",
      "For element-wise addition, use broadcasting with dot syntax: array .+ scalar\n",
      "\n",
      "Closest candidates are:\n",
      "  +(::Any, ::Any, !Matched::Any, !Matched::Any...)\n",
      "   @ Base operators.jl:587\n",
      "  +(!Matched::Missing, ::Number)\n",
      "   @ Base missing.jl:123\n",
      "  +(!Matched::Base.CoreLogging.LogLevel, ::Integer)\n",
      "   @ Base logging.jl:131\n",
      "  ...\n",
      "\n",
      "\n",
      "Stacktrace:\n",
      " [1] top-level scope\n",
      "   @ e:\\JuliaProjects\\Training.jl\\chp02\\broadcast.ipynb:1"
     ]
    }
   ],
   "source": [
    "a + 2"
   ]
  },
  {
   "cell_type": "code",
   "execution_count": 6,
   "metadata": {},
   "outputs": [
    {
     "data": {
      "text/plain": [
       "3-element Vector{Int64}:\n",
       " 3\n",
       " 4\n",
       " 5"
      ]
     },
     "metadata": {},
     "output_type": "display_data"
    }
   ],
   "source": [
    "a .+ 2"
   ]
  },
  {
   "cell_type": "code",
   "execution_count": 7,
   "metadata": {},
   "outputs": [
    {
     "ename": "Base.Meta.ParseError",
     "evalue": "ParseError:\n# Error @ e:\\JuliaProjects\\Training.jl\\chp02\\broadcast.ipynb:1:4\na +. 2\n#  ╙ ── invalid identifier",
     "output_type": "error",
     "traceback": [
      "ParseError:\n",
      "# Error @ e:\\JuliaProjects\\Training.jl\\chp02\\broadcast.ipynb:1:4\n",
      "a +. 2\n",
      "#  ╙ ── invalid identifier\n",
      "\n",
      "Stacktrace:\n",
      " [1] top-level scope\n",
      "   @ e:\\JuliaProjects\\Training.jl\\chp02\\broadcast.ipynb:1"
     ]
    }
   ],
   "source": [
    "a +. 2"
   ]
  },
  {
   "cell_type": "markdown",
   "metadata": {},
   "source": [
    "**两个不同形状的数组**"
   ]
  },
  {
   "cell_type": "code",
   "execution_count": 8,
   "metadata": {},
   "outputs": [
    {
     "data": {
      "text/plain": [
       "2×3 Matrix{Int64}:\n",
       " 1  2  3\n",
       " 4  5  6"
      ]
     },
     "metadata": {},
     "output_type": "display_data"
    }
   ],
   "source": [
    "a = [1 2 3; 4 5 6]"
   ]
  },
  {
   "cell_type": "code",
   "execution_count": 9,
   "metadata": {},
   "outputs": [
    {
     "data": {
      "text/plain": [
       "2-element Vector{Int64}:\n",
       " 1\n",
       " 2"
      ]
     },
     "metadata": {},
     "output_type": "display_data"
    }
   ],
   "source": [
    "b = [1; 2]"
   ]
  },
  {
   "cell_type": "code",
   "execution_count": 10,
   "metadata": {},
   "outputs": [
    {
     "data": {
      "text/plain": [
       "2×3 Matrix{Int64}:\n",
       " 2  3  4\n",
       " 6  7  8"
      ]
     },
     "metadata": {},
     "output_type": "display_data"
    }
   ],
   "source": [
    "a .+ b"
   ]
  },
  {
   "cell_type": "markdown",
   "metadata": {},
   "source": [
    "**逐元素应用函数**"
   ]
  },
  {
   "cell_type": "code",
   "execution_count": 14,
   "metadata": {},
   "outputs": [
    {
     "data": {
      "text/plain": [
       "3-element Vector{Int64}:\n",
       "  4\n",
       "  9\n",
       " 16"
      ]
     },
     "metadata": {},
     "output_type": "display_data"
    }
   ],
   "source": [
    "f(x) = x^2 + 2*x + 1\n",
    "A = [1,2,3]\n",
    "G = f.(A)  # f.( 之间不能有空格"
   ]
  },
  {
   "cell_type": "markdown",
   "metadata": {},
   "source": [
    "**前面是数字**"
   ]
  },
  {
   "cell_type": "code",
   "execution_count": 20,
   "metadata": {},
   "outputs": [
    {
     "data": {
      "text/plain": [
       "2×3 Matrix{Int64}:\n",
       " 1  2  3\n",
       " 4  5  6"
      ]
     },
     "metadata": {},
     "output_type": "display_data"
    }
   ],
   "source": [
    "a"
   ]
  },
  {
   "cell_type": "code",
   "execution_count": 21,
   "metadata": {},
   "outputs": [
    {
     "ename": "Base.Meta.ParseError",
     "evalue": "ParseError:\n# Error @ e:\\JuliaProjects\\Training.jl\\chp02\\broadcast.ipynb:1:1\n1.+a\n└┘ ── ambiguous `.` syntax; add whitespace to clarify (eg `1.+2` might be `1.0+2` or `1 .+ 2`)",
     "output_type": "error",
     "traceback": [
      "ParseError:\n",
      "# Error @ e:\\JuliaProjects\\Training.jl\\chp02\\broadcast.ipynb:1:1\n",
      "1.+a\n",
      "└┘ ── ambiguous `.` syntax; add whitespace to clarify (eg `1.+2` might be `1.0+2` or `1 .+ 2`)\n",
      "\n",
      "Stacktrace:\n",
      " [1] top-level scope\n",
      "   @ e:\\JuliaProjects\\Training.jl\\chp02\\broadcast.ipynb:1"
     ]
    }
   ],
   "source": [
    "1.+a\n",
    "# Error ambiguous `.` syntax; \n",
    "# add whitespace to clarify (eg `1.+2` might be `1.0+2` or `1 .+ 2`)"
   ]
  },
  {
   "cell_type": "code",
   "execution_count": 22,
   "metadata": {},
   "outputs": [
    {
     "data": {
      "text/plain": [
       "2×3 Matrix{Int64}:\n",
       " 2  3  4\n",
       " 5  6  7"
      ]
     },
     "metadata": {},
     "output_type": "display_data"
    }
   ],
   "source": [
    "1 .+ a"
   ]
  },
  {
   "cell_type": "code",
   "execution_count": 25,
   "metadata": {},
   "outputs": [
    {
     "ename": "MethodError",
     "evalue": "MethodError: no method matching +(::Float64, ::Matrix{Int64})\nFor element-wise addition, use broadcasting with dot syntax: scalar .+ array\n\nClosest candidates are:\n  +(::Any, ::Any, !Matched::Any, !Matched::Any...)\n   @ Base operators.jl:587\n  +(::Real, !Matched::Complex{Bool})\n   @ Base complex.jl:319\n  +(!Matched::Array, ::Array...)\n   @ Base arraymath.jl:12\n  ...\n",
     "output_type": "error",
     "traceback": [
      "MethodError: no method matching +(::Float64, ::Matrix{Int64})\n",
      "For element-wise addition, use broadcasting with dot syntax: scalar .+ array\n",
      "\n",
      "Closest candidates are:\n",
      "  +(::Any, ::Any, !Matched::Any, !Matched::Any...)\n",
      "   @ Base operators.jl:587\n",
      "  +(::Real, !Matched::Complex{Bool})\n",
      "   @ Base complex.jl:319\n",
      "  +(!Matched::Array, ::Array...)\n",
      "   @ Base arraymath.jl:12\n",
      "  ...\n",
      "\n",
      "\n",
      "Stacktrace:\n",
      " [1] top-level scope\n",
      "   @ e:\\JuliaProjects\\Training.jl\\chp02\\broadcast.ipynb:1"
     ]
    }
   ],
   "source": [
    "1. + a"
   ]
  },
  {
   "cell_type": "code",
   "execution_count": 24,
   "metadata": {},
   "outputs": [
    {
     "ename": "MethodError",
     "evalue": "MethodError: no method matching +(::Float64, ::Matrix{Int64})\nFor element-wise addition, use broadcasting with dot syntax: scalar .+ array\n\nClosest candidates are:\n  +(::Any, ::Any, !Matched::Any, !Matched::Any...)\n   @ Base operators.jl:587\n  +(::Real, !Matched::Complex{Bool})\n   @ Base complex.jl:319\n  +(!Matched::Array, ::Array...)\n   @ Base arraymath.jl:12\n  ...\n",
     "output_type": "error",
     "traceback": [
      "MethodError: no method matching +(::Float64, ::Matrix{Int64})\n",
      "For element-wise addition, use broadcasting with dot syntax: scalar .+ array\n",
      "\n",
      "Closest candidates are:\n",
      "  +(::Any, ::Any, !Matched::Any, !Matched::Any...)\n",
      "   @ Base operators.jl:587\n",
      "  +(::Real, !Matched::Complex{Bool})\n",
      "   @ Base complex.jl:319\n",
      "  +(!Matched::Array, ::Array...)\n",
      "   @ Base arraymath.jl:12\n",
      "  ...\n",
      "\n",
      "\n",
      "Stacktrace:\n",
      " [1] top-level scope\n",
      "   @ e:\\JuliaProjects\\Training.jl\\chp02\\broadcast.ipynb:1"
     ]
    }
   ],
   "source": [
    "1.0 + a"
   ]
  },
  {
   "cell_type": "code",
   "execution_count": 27,
   "metadata": {},
   "outputs": [
    {
     "data": {
      "text/plain": [
       "2×3 Matrix{Float64}:\n",
       " 2.0  3.0  4.0\n",
       " 5.0  6.0  7.0"
      ]
     },
     "metadata": {},
     "output_type": "display_data"
    }
   ],
   "source": [
    "1.0 .+ a"
   ]
  },
  {
   "cell_type": "markdown",
   "metadata": {},
   "source": [
    "https://imangodoc.com/9LDYKr3J.html<br>\n",
    "广播 (broadcast) 是非常常见的数据操作方法。简而言之，广播操作允许你对数组或任何结构中的每个元素应用一个函数，这个过程通常非常高效，因为它能够允许程序员利用底层硬件的并行计算资源。"
   ]
  },
  {
   "cell_type": "code",
   "execution_count": 7,
   "metadata": {},
   "outputs": [
    {
     "data": {
      "text/plain": [
       "5-element Vector{Int64}:\n",
       "  2\n",
       "  4\n",
       "  6\n",
       "  8\n",
       " 10"
      ]
     },
     "metadata": {},
     "output_type": "display_data"
    },
    {
     "data": {
      "text/plain": [
       "5-element Vector{Int64}:\n",
       " 1\n",
       " 2\n",
       " 3\n",
       " 4\n",
       " 5"
      ]
     },
     "metadata": {},
     "output_type": "display_data"
    }
   ],
   "source": [
    "f(x) = x*2\n",
    "a = [1, 2, 3, 4, 5]\n",
    "broadcast(f, a) |> display\n",
    "a\n"
   ]
  },
  {
   "cell_type": "code",
   "execution_count": 3,
   "metadata": {},
   "outputs": [
    {
     "data": {
      "text/plain": [
       "5-element Vector{Int64}:\n",
       "  3\n",
       "  5\n",
       "  7\n",
       "  9\n",
       " 11"
      ]
     },
     "metadata": {},
     "output_type": "display_data"
    }
   ],
   "source": [
    "g(x, y) = x + y\n",
    "a = [1, 2, 3, 4, 5]\n",
    "b = [2, 3, 4, 5, 6]\n",
    "broadcast(g, a, b)"
   ]
  },
  {
   "cell_type": "code",
   "execution_count": 12,
   "metadata": {},
   "outputs": [
    {
     "ename": "MethodError",
     "evalue": "MethodError: no method matching f()\n\nClosest candidates are:\n  f(!Matched::Any)\n   @ Main e:\\JuliaProjects\\Training.jl\\chp02\\broadcast1.ipynb:1\n",
     "output_type": "error",
     "traceback": [
      "MethodError: no method matching f()\n",
      "\n",
      "Closest candidates are:\n",
      "  f(!Matched::Any)\n",
      "   @ Main e:\\JuliaProjects\\Training.jl\\chp02\\broadcast1.ipynb:1\n",
      "\n",
      "\n",
      "Stacktrace:\n",
      "  [1] _broadcast_getindex_evalf(::typeof(f))\n",
      "    @ Base.Broadcast .\\broadcast.jl:709\n",
      "  [2] _broadcast_getindex\n",
      "    @ .\\broadcast.jl:682 [inlined]\n",
      "  [3] getindex\n",
      "    @ .\\broadcast.jl:636 [inlined]\n",
      "  [4] macro expansion\n",
      "    @ .\\broadcast.jl:1004 [inlined]\n",
      "  [5] macro expansion\n",
      "    @ .\\simdloop.jl:77 [inlined]\n",
      "  [6] copyto!\n",
      "    @ .\\broadcast.jl:1003 [inlined]\n",
      "  [7] copyto!\n",
      "    @ .\\broadcast.jl:967 [inlined]\n",
      "  [8] materialize!\n",
      "    @ .\\broadcast.jl:914 [inlined]\n",
      "  [9] materialize!\n",
      "    @ .\\broadcast.jl:911 [inlined]\n",
      " [10] broadcast!(::typeof(f), ::Vector{Int64})\n",
      "    @ Base.Broadcast .\\broadcast.jl:880\n",
      " [11] top-level scope\n",
      "    @ e:\\JuliaProjects\\Training.jl\\chp02\\broadcast1.ipynb:3"
     ]
    }
   ],
   "source": [
    "f(x) = x*2\n",
    "a = [1, 2, 3, 4, 5]\n",
    "broadcast!(f, a) # 直接在原始数组上修改值。\n",
    "# 怎么报错, 语法规则修改了？"
   ]
  },
  {
   "cell_type": "code",
   "execution_count": 17,
   "metadata": {},
   "outputs": [
    {
     "ename": "MethodError",
     "evalue": "MethodError: no method matching g(::Int64)\n\nClosest candidates are:\n  g(::Any, !Matched::Any)\n   @ Main e:\\JuliaProjects\\Training.jl\\chp02\\broadcast1.ipynb:1\n",
     "output_type": "error",
     "traceback": [
      "MethodError: no method matching g(::Int64)\n",
      "\n",
      "Closest candidates are:\n",
      "  g(::Any, !Matched::Any)\n",
      "   @ Main e:\\JuliaProjects\\Training.jl\\chp02\\broadcast1.ipynb:1\n",
      "\n",
      "\n",
      "Stacktrace:\n",
      "  [1] _broadcast_getindex_evalf\n",
      "    @ .\\broadcast.jl:709 [inlined]\n",
      "  [2] _broadcast_getindex\n",
      "    @ .\\broadcast.jl:682 [inlined]\n",
      "  [3] getindex\n",
      "    @ .\\broadcast.jl:636 [inlined]\n",
      "  [4] macro expansion\n",
      "    @ .\\broadcast.jl:1004 [inlined]\n",
      "  [5] macro expansion\n",
      "    @ .\\simdloop.jl:77 [inlined]\n",
      "  [6] copyto!\n",
      "    @ .\\broadcast.jl:1003 [inlined]\n",
      "  [7] copyto!\n",
      "    @ .\\broadcast.jl:956 [inlined]\n",
      "  [8] materialize!\n",
      "    @ .\\broadcast.jl:914 [inlined]\n",
      "  [9] materialize!\n",
      "    @ .\\broadcast.jl:911 [inlined]\n",
      " [10] broadcast!(f::typeof(g), dest::Vector{Int64}, As::Vector{Int64})\n",
      "    @ Base.Broadcast .\\broadcast.jl:880\n",
      " [11] top-level scope\n",
      "    @ e:\\JuliaProjects\\Training.jl\\chp02\\broadcast1.ipynb:4"
     ]
    }
   ],
   "source": [
    "g(x, y) = x + y\n",
    "a = [1, 2, 3, 4, 5]\n",
    "b = [2, 3, 4, 5, 6]\n",
    "broadcast!(g, a, b)"
   ]
  }
 ],
 "metadata": {
  "kernelspec": {
   "display_name": "Julia 1.10.1",
   "language": "julia",
   "name": "julia-1.10"
  },
  "language_info": {
   "file_extension": ".jl",
   "mimetype": "application/julia",
   "name": "julia",
   "version": "1.10.1"
  }
 },
 "nbformat": 4,
 "nbformat_minor": 2
}
