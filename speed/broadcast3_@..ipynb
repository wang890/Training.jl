{
 "cells": [
  {
   "cell_type": "code",
   "execution_count": 1,
   "metadata": {},
   "outputs": [],
   "source": [
    "using General.Aux"
   ]
  },
  {
   "cell_type": "markdown",
   "metadata": {},
   "source": [
    "**[@. macro, but partly escape](https://discourse.julialang.org/t/broadcast-macro-escape-from-it/94396)** <br>\n",
    "\n",
    "\n",
    "@. sqrt(abs($sort(x))) is equivalent to <br>\n",
    "sqrt.(abs.(sort(x))) , no  dot for sort.<br><br>\n",
    "  @. is equivalent to a call to @__dot__. <br><br>\n",
    "\n",
    "help?> @.<br>\n",
    "should have read the help indeed"
   ]
  },
  {
   "cell_type": "code",
   "execution_count": 1,
   "metadata": {},
   "outputs": [
    {
     "ename": "LoadError",
     "evalue": "LoadError: UndefVarError: `@logt` not defined\nin expression starting at e:\\JuliaProjects\\Training.jl\\chp02\\broadcast3_@..ipynb:4",
     "output_type": "error",
     "traceback": [
      "LoadError: UndefVarError: `@logt` not defined\n",
      "in expression starting at e:\\JuliaProjects\\Training.jl\\chp02\\broadcast3_@..ipynb:4\n"
     ]
    }
   ],
   "source": [
    "x = [1, 2, 3]; y = [10, 20, 30]\n",
    "@. x + 3 * y; b = 2x + y\n",
    "\n",
    "@logt x y b\n",
    "\n",
    "@. a = x + 3 * y; b = 2x + y"
   ]
  },
  {
   "cell_type": "code",
   "execution_count": null,
   "metadata": {},
   "outputs": [],
   "source": [
    "a = [1, 2, 3]; b = [10, 20, 30]; c= [0.1, 0.2, 0.3]\n",
    "\n",
    "s1 = sum([1, 2, 3])\n",
    "s2 = sum.([1, 2, 3])\n",
    "\n",
    "result1 = @. sum(a + b + c)\n",
    "\n",
    "result2 = @. $sum(a + b + c)\n",
    "\n",
    "@logt s1 s2 result1 result2"
   ]
  },
  {
   "cell_type": "markdown",
   "metadata": {},
   "source": [
    "[Broadcasting in Julia: the Good, the Bad, and the Ugly](https://bkamins.github.io/julialang/2022/06/24/broadcasting.html)"
   ]
  },
  {
   "cell_type": "code",
   "execution_count": null,
   "metadata": {},
   "outputs": [],
   "source": [
    "x = [1, 2, 3]\n",
    "\n",
    "r3 = sin.(x).^2 .+ cos.(x).^2\n",
    "\n",
    "r4 = @. (sin(x)^2 + cos(x)^2)\n",
    "\n",
    "r5 = @. sin(x)^2 + cos(x)^2\n",
    "\n",
    "@logt r3 r4 r5"
   ]
  },
  {
   "cell_type": "code",
   "execution_count": null,
   "metadata": {},
   "outputs": [],
   "source": [
    "using Statistics"
   ]
  },
  {
   "cell_type": "code",
   "execution_count": null,
   "metadata": {},
   "outputs": [],
   "source": [
    "# compute variance of x\n",
    "v1 = sum((x .- mean(x)) .^ 2) / (length(x) - 1)\n",
    "\n",
    "v2 = @. $/($sum((x - $mean(x)) ^ 2), $-($length(x), 1))\n",
    "\n",
    "v3 = @. /($sum((x - $mean(x)) ^ 2), $-($length(x), 1)) # 去掉第1个$不如上行清楚\n",
    "\n",
    "@logt v1 v2 v3"
   ]
  },
  {
   "cell_type": "markdown",
   "metadata": {},
   "source": [
    "As you can see I use broadcasting in only two places, while most of the operations are not broadcasted. If we wanted to use @. macro we would need to use $ escaping, which is equivalent and ugly. You can check it by using @macroexpand"
   ]
  },
  {
   "cell_type": "code",
   "execution_count": null,
   "metadata": {},
   "outputs": [],
   "source": [
    "@macroexpand @. $/($sum((x - $mean(x))^2), $-($length(x), 1))"
   ]
  },
  {
   "cell_type": "code",
   "execution_count": null,
   "metadata": {},
   "outputs": [],
   "source": [
    "@. $sum((x - $mean(x))^2) / ($length(x) - 1)"
   ]
  },
  {
   "cell_type": "markdown",
   "metadata": {},
   "source": [
    "However, in this case you need to know and be sure that by not escaping-out the / and - function calls in the second part of the expression you will not affect the correctness of your calculation.<br><br>\n",
    "In summary, I do not use @. in complex expressions as it is usually hard to reason about it.<br><br>\n",
    "Let us now switch to some special cases of using @.."
   ]
  },
  {
   "cell_type": "markdown",
   "metadata": {},
   "source": [
    "**Be careful with broadcasted assignment**"
   ]
  },
  {
   "cell_type": "code",
   "execution_count": null,
   "metadata": {},
   "outputs": [],
   "source": [
    "x = [\"a\", \"b\"]\n",
    "x = @. length(x)"
   ]
  },
  {
   "cell_type": "code",
   "execution_count": null,
   "metadata": {},
   "outputs": [],
   "source": [
    "y = [\"a\", \"b\"]\n",
    "@. y = length(y)"
   ]
  },
  {
   "cell_type": "markdown",
   "metadata": {},
   "source": [
    "But, Vector{Char}, as Char supports conversion from integer:"
   ]
  },
  {
   "cell_type": "code",
   "execution_count": null,
   "metadata": {},
   "outputs": [],
   "source": [
    "z = ['a', 'b']"
   ]
  },
  {
   "cell_type": "code",
   "execution_count": null,
   "metadata": {},
   "outputs": [],
   "source": [
    "@. z = length(z)"
   ]
  },
  {
   "cell_type": "code",
   "execution_count": null,
   "metadata": {},
   "outputs": [],
   "source": [
    "z"
   ]
  },
  {
   "cell_type": "markdown",
   "metadata": {},
   "source": [
    "**Incorrect handling of named tuples**"
   ]
  },
  {
   "cell_type": "code",
   "execution_count": null,
   "metadata": {},
   "outputs": [],
   "source": [
    "v = 1:3\n",
    "[x in (a=1, c=3) for x in v]"
   ]
  },
  {
   "cell_type": "code",
   "execution_count": null,
   "metadata": {},
   "outputs": [],
   "source": [
    "# We can rewrite it using broadcasting as:\n",
    "in.(v, Ref((a=1, c=3)))"
   ]
  },
  {
   "cell_type": "code",
   "execution_count": null,
   "metadata": {},
   "outputs": [],
   "source": [
    "# Now we think we could use the @. here as follows:\n",
    "@. in(v, $Ref((a=1, c=3)))"
   ]
  },
  {
   "cell_type": "markdown",
   "metadata": {},
   "source": [
    "This fails as @. macro incorrectly handles = inside NamedTuple definition. We have to write:"
   ]
  },
  {
   "cell_type": "code",
   "execution_count": null,
   "metadata": {},
   "outputs": [],
   "source": [
    "@. in(v, $Ref((; a=1, c=3)))"
   ]
  },
  {
   "cell_type": "markdown",
   "metadata": {},
   "source": [
    "The ; at the beginning of NamedTuple definition gives an equivalent object but changes how the code expression is transformed by the Julia compiler and it works. Here is how we can check the difference in the representation of **(a=1, c=3) and (; a=1, c=3):**"
   ]
  },
  {
   "cell_type": "code",
   "execution_count": null,
   "metadata": {},
   "outputs": [],
   "source": [
    "dump(:(a=1, c=3))"
   ]
  },
  {
   "cell_type": "code",
   "execution_count": null,
   "metadata": {},
   "outputs": [],
   "source": [
    "dump(:(; a=1, c=3))"
   ]
  },
  {
   "cell_type": "markdown",
   "metadata": {},
   "source": [
    "Fortunately the case of NamedTuple is not likely to be problematic in practice as it is extremely rare."
   ]
  },
  {
   "cell_type": "markdown",
   "metadata": {},
   "source": [
    "**Conclusions**<br><br>\n",
    "The @. macro can be very convenient. However, in my experience, you need to be careful when you use it as it is easy to get surprising results if you work with complex expressions. Out of the possible problematic situations I have covered in my post a most common one is forgetting to add $ to avoid broadcasting of some function calls in a complex expression."
   ]
  },
  {
   "cell_type": "code",
   "execution_count": 2,
   "metadata": {},
   "outputs": [
    {
     "name": "stdout",
     "output_type": "stream",
     "text": [
      "\n",
      "x, Vector{Int64}\n",
      "  = [1, 2, 3]\n",
      "\n",
      "y, Vector{Int64}\n",
      "  = [10, 20, 30]\n",
      "\n",
      "b, Vector{Int64}\n",
      "  = [12, 24, 36]\n"
     ]
    },
    {
     "ename": "UndefVarError",
     "evalue": "UndefVarError: `a` not defined",
     "output_type": "error",
     "traceback": [
      "UndefVarError: `a` not defined\n",
      "\n",
      "Stacktrace:\n",
      " [1] top-level scope\n",
      "   @ e:\\JuliaProjects\\Training3.jl\\macro3\\macro3_1.ipynb:4"
     ]
    }
   ],
   "source": [
    "x = [1, 2, 3]; y = [10, 20, 30]\n",
    "@. x + 3 * y; b = 2x + y\n",
    "\n",
    "@logt x y b\n",
    "\n",
    "@. a = x + 3 * y; b = 2x + y"
   ]
  },
  {
   "cell_type": "code",
   "execution_count": 4,
   "metadata": {},
   "outputs": [
    {
     "ename": "LoadError",
     "evalue": "LoadError: MethodError: no method matching var\"@__dot__\"(::LineNumberNode, ::Module)\n\nClosest candidates are:\n  var\"@__dot__\"(::LineNumberNode, ::Module, !Matched::Any)\n   @ Base broadcast.jl:1319\n\nin expression starting at e:\\JuliaProjects\\Training3.jl\\macro3\\macro3_1.ipynb:3",
     "output_type": "error",
     "traceback": [
      "LoadError: MethodError: no method matching var\"@__dot__\"(::LineNumberNode, ::Module)\n",
      "\n",
      "Closest candidates are:\n",
      "  var\"@__dot__\"(::LineNumberNode, ::Module, !Matched::Any)\n",
      "   @ Base broadcast.jl:1319\n",
      "\n",
      "in expression starting at e:\\JuliaProjects\\Training3.jl\\macro3\\macro3_1.ipynb:3\n",
      "\n",
      "Stacktrace:\n",
      "  [1] eval\n",
      "    @ .\\boot.jl:385 [inlined]\n",
      "  [2] include_string(mapexpr::typeof(REPL.softscope), mod::Module, code::String, filename::String)\n",
      "    @ Base .\\loading.jl:2076\n",
      "  [3] #invokelatest#2\n",
      "    @ .\\essentials.jl:892 [inlined]\n",
      "  [4] invokelatest\n",
      "    @ .\\essentials.jl:889 [inlined]\n",
      "  [5] (::VSCodeServer.var\"#216#217\"{VSCodeServer.NotebookRunCellArguments, String})()\n",
      "    @ VSCodeServer c:\\Users\\TCY\\.vscode\\extensions\\julialang.language-julia-1.76.2\\scripts\\packages\\VSCodeServer\\src\\serve_notebook.jl:19\n",
      "  [6] withpath(f::VSCodeServer.var\"#216#217\"{VSCodeServer.NotebookRunCellArguments, String}, path::String)\n",
      "    @ VSCodeServer c:\\Users\\TCY\\.vscode\\extensions\\julialang.language-julia-1.76.2\\scripts\\packages\\VSCodeServer\\src\\repl.jl:274\n",
      "  [7] notebook_runcell_request(conn::VSCodeServer.JSONRPC.JSONRPCEndpoint{Base.PipeEndpoint, Base.PipeEndpoint}, params::VSCodeServer.NotebookRunCellArguments)\n",
      "    @ VSCodeServer c:\\Users\\TCY\\.vscode\\extensions\\julialang.language-julia-1.76.2\\scripts\\packages\\VSCodeServer\\src\\serve_notebook.jl:13\n",
      "  [8] dispatch_msg(x::VSCodeServer.JSONRPC.JSONRPCEndpoint{Base.PipeEndpoint, Base.PipeEndpoint}, dispatcher::VSCodeServer.JSONRPC.MsgDispatcher, msg::Dict{String, Any})\n",
      "    @ VSCodeServer.JSONRPC c:\\Users\\TCY\\.vscode\\extensions\\julialang.language-julia-1.76.2\\scripts\\packages\\JSONRPC\\src\\typed.jl:67\n",
      "  [9] serve_notebook(pipename::String, outputchannel_logger::Base.CoreLogging.SimpleLogger; crashreporting_pipename::String)\n",
      "    @ VSCodeServer c:\\Users\\TCY\\.vscode\\extensions\\julialang.language-julia-1.76.2\\scripts\\packages\\VSCodeServer\\src\\serve_notebook.jl:139\n",
      " [10] top-level scope\n",
      "    @ c:\\Users\\TCY\\.vscode\\extensions\\julialang.language-julia-1.76.2\\scripts\\notebook\\notebook.jl:35"
     ]
    }
   ],
   "source": [
    "x = [1, 2, 3]; y = [10, 20, 30]\n",
    "\n",
    "@.; a = x + 3 * y; b = 2x + y\n",
    "\n",
    "@logt a b"
   ]
  },
  {
   "cell_type": "code",
   "execution_count": 22,
   "metadata": {},
   "outputs": [
    {
     "ename": "MethodError",
     "evalue": "MethodError: no method matching ndims(::Type{Symbol})\n\nClosest candidates are:\n  ndims(!Matched::Type{Union{}}, Any...)\n   @ Base abstractarray.jl:276\n  ndims(!Matched::Type{<:Ref})\n   @ Base refpointer.jl:96\n  ndims(!Matched::Type{<:Number})\n   @ Base number.jl:86\n  ...\n",
     "output_type": "error",
     "traceback": [
      "MethodError: no method matching ndims(::Type{Symbol})\n",
      "\n",
      "Closest candidates are:\n",
      "  ndims(!Matched::Type{Union{}}, Any...)\n",
      "   @ Base abstractarray.jl:276\n",
      "  ndims(!Matched::Type{<:Ref})\n",
      "   @ Base refpointer.jl:96\n",
      "  ndims(!Matched::Type{<:Number})\n",
      "   @ Base number.jl:86\n",
      "  ...\n",
      "\n",
      "\n",
      "Stacktrace:\n",
      " [1] Base.Broadcast.BroadcastStyle(::Type{Symbol})\n",
      "   @ Base.Broadcast .\\broadcast.jl:103\n",
      " [2] combine_styles(c::Symbol)\n",
      "   @ Base.Broadcast .\\broadcast.jl:460\n",
      " [3] combine_styles(c1::Symbol, c2::Base.Broadcast.Broadcasted{Base.Broadcast.DefaultArrayStyle{1}, Nothing, typeof(+), Tuple{Vector{Int64}, Base.Broadcast.Broadcasted{Base.Broadcast.DefaultArrayStyle{1}, Nothing, typeof(*), Tuple{Int64, Vector{Int64}}}}})\n",
      "   @ Base.Broadcast .\\broadcast.jl:461\n",
      " [4] materialize!(dest::Symbol, bc::Base.Broadcast.Broadcasted{Base.Broadcast.DefaultArrayStyle{1}, Nothing, typeof(+), Tuple{Vector{Int64}, Base.Broadcast.Broadcasted{Base.Broadcast.DefaultArrayStyle{1}, Nothing, typeof(*), Tuple{Int64, Vector{Int64}}}}})\n",
      "   @ Base.Broadcast .\\broadcast.jl:911\n",
      " [5] top-level scope\n",
      "   @ e:\\JuliaProjects\\Training3.jl\\macro3\\macro3_1.ipynb:1"
     ]
    }
   ],
   "source": [
    "x = [1, 2, 3]; y = [10, 20, 30]\n",
    "\n",
    "@. :a = x + 3 * y; b = 2x + y  # $a, esc(a), :a都不行"
   ]
  },
  {
   "cell_type": "code",
   "execution_count": 23,
   "metadata": {},
   "outputs": [
    {
     "name": "stdout",
     "output_type": "stream",
     "text": [
      "\n",
      "a, Vector{Int64}\n",
      "  = [31, 62, 93]\n",
      "\n",
      "b, Vector{Int64}\n",
      "  = [12, 24, 36]\n"
     ]
    }
   ],
   "source": [
    "x = [1, 2, 3]; y = [10, 20, 30]\n",
    "\n",
    "a = @.(x + 3 * y); b = @.(2x + y)\n",
    "\n",
    "@logt a b"
   ]
  }
 ],
 "metadata": {
  "kernelspec": {
   "display_name": "Julia 1.10.1",
   "language": "julia",
   "name": "julia-1.10"
  },
  "language_info": {
   "file_extension": ".jl",
   "mimetype": "application/julia",
   "name": "julia",
   "version": "1.10.1"
  }
 },
 "nbformat": 4,
 "nbformat_minor": 2
}
