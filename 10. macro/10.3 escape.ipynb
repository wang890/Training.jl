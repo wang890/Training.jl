{
 "cells": [
  {
   "cell_type": "markdown",
   "metadata": {},
   "source": [
    "### https://riptutorial.com/julia-lang/example/26313/guide<br>\n",
    "`esc()` section"
   ]
  },
  {
   "cell_type": "code",
   "execution_count": 1,
   "metadata": {},
   "outputs": [
    {
     "data": {
      "text/plain": [
       "quote\n",
       "    \u001b[90m#= e:\\Projects.jl\\Training.jl\\10. macro\\jl_notebook_cell_df34fa98e69747e1a8f8a730347b8e2f_W0sZmlsZQ==.jl:3 =#\u001b[39m\n",
       "    var\"#63#tmp\" = x\n",
       "    \u001b[90m#= e:\\Projects.jl\\Training.jl\\10. macro\\jl_notebook_cell_df34fa98e69747e1a8f8a730347b8e2f_W0sZmlsZQ==.jl:4 =#\u001b[39m\n",
       "    x = y\n",
       "    \u001b[90m#= e:\\Projects.jl\\Training.jl\\10. macro\\jl_notebook_cell_df34fa98e69747e1a8f8a730347b8e2f_W0sZmlsZQ==.jl:5 =#\u001b[39m\n",
       "    y = var\"#63#tmp\"\n",
       "end"
      ]
     },
     "metadata": {},
     "output_type": "display_data"
    }
   ],
   "source": [
    "macro swap(p, q)\n",
    "  quote\n",
    "    tmp = $(esc(p))\n",
    "    $(esc(p)) = $(esc(q))\n",
    "    $(esc(q)) = tmp\n",
    "  end\n",
    "end\n",
    "\n",
    "x,y = 1,2\n",
    "@macroexpand @swap(x,y)"
   ]
  },
  {
   "cell_type": "code",
   "execution_count": 2,
   "metadata": {},
   "outputs": [
    {
     "name": "stdout",
     "output_type": "stream",
     "text": [
      "2, 1\n"
     ]
    }
   ],
   "source": [
    "@swap(x,y)\n",
    "println(x,\", \", y)  # 2 1"
   ]
  },
  {
   "cell_type": "markdown",
   "metadata": {},
   "source": [
    "`$` allows us to 'escape out of' the `quote`. So why not simply `$p` and `$q`? i.e.<br>\n",
    "**`$` 允许我们“跳出” `quote` 。** 那么为什么不简单地 `$p` 和 `$q` 呢？即"
   ]
  },
  {
   "cell_type": "code",
   "execution_count": 3,
   "metadata": {},
   "outputs": [
    {
     "data": {
      "text/plain": [
       "quote\n",
       "    \u001b[90m#= e:\\Projects.jl\\Training.jl\\10. macro\\jl_notebook_cell_df34fa98e69747e1a8f8a730347b8e2f_W3sZmlsZQ==.jl:3 =#\u001b[39m\n",
       "    var\"#66#tmp\" = var\"#67#xx\"\n",
       "    \u001b[90m#= e:\\Projects.jl\\Training.jl\\10. macro\\jl_notebook_cell_df34fa98e69747e1a8f8a730347b8e2f_W3sZmlsZQ==.jl:4 =#\u001b[39m\n",
       "    var\"#67#xx\" = var\"#68#yy\"\n",
       "    \u001b[90m#= e:\\Projects.jl\\Training.jl\\10. macro\\jl_notebook_cell_df34fa98e69747e1a8f8a730347b8e2f_W3sZmlsZQ==.jl:5 =#\u001b[39m\n",
       "    var\"#68#yy\" = var\"#66#tmp\"\n",
       "end"
      ]
     },
     "metadata": {},
     "output_type": "display_data"
    }
   ],
   "source": [
    "macro swap2(p, q)\n",
    "    quote\n",
    "      tmp = $p\n",
    "      $p = $q\n",
    "      $q = tmp\n",
    "    end\n",
    "  end\n",
    "  \n",
    "  xx,yy = 11,22\n",
    "  @macroexpand @swap2(xx,yy)"
   ]
  },
  {
   "cell_type": "code",
   "execution_count": 4,
   "metadata": {},
   "outputs": [
    {
     "ename": "UndefVarError",
     "evalue": "UndefVarError: `#70#xx` not defined in `Main`\nSuggestion: check for spelling errors or missing imports.",
     "output_type": "error",
     "traceback": [
      "UndefVarError: `#70#xx` not defined in `Main`\n",
      "Suggestion: check for spelling errors or missing imports.\n",
      "\n",
      "Stacktrace:\n",
      " [1] macro expansion\n",
      "   @ e:\\Projects.jl\\Training.jl\\10. macro\\jl_notebook_cell_df34fa98e69747e1a8f8a730347b8e2f_W3sZmlsZQ==.jl:3 [inlined]\n",
      " [2] top-level scope\n",
      "   @ e:\\Projects.jl\\Training.jl\\10. macro\\jl_notebook_cell_df34fa98e69747e1a8f8a730347b8e2f_W4sZmlsZQ==.jl:1"
     ]
    }
   ],
   "source": [
    "@swap2(xx,yy)\n",
    "println(xx,\", \", yy) "
   ]
  },
  {
   "cell_type": "markdown",
   "metadata": {},
   "source": [
    "Because that would look first to the `macro` scope for `p`, and it would find a local `p` i.e. the parameter `p` (yes, if you subsequently access `p` without `esc`-ing, the macro considers the `p` parameter as a local variable).<br>\n",
    "因为这将首先在`macro`作用域查找`p`，并且它会找到一个局部 `p` ，即参数 `p` （是的，如果您随后访问 p 而没有 `esc`-ing，宏将 `p` 参数视为局部变量）。<br><br>\n",
    "\n",
    "So `$p = ...` is just a assigning to the local `p`. it's not affecting whatever variable was passed-in in the calling context.<br>\n",
    "所以 `$p = ...` 就是赋值给局部的 `p` 。它不会影响在调用上下文中传入的任何变量。"
   ]
  },
  {
   "cell_type": "code",
   "execution_count": 5,
   "metadata": {},
   "outputs": [
    {
     "data": {
      "text/plain": [
       "quote\n",
       "    \u001b[90m#= e:\\Projects.jl\\Training.jl\\10. macro\\jl_notebook_cell_df34fa98e69747e1a8f8a730347b8e2f_W6sZmlsZQ==.jl:3 =#\u001b[39m\n",
       "    var\"#72#tmp\" = Main.xxx\n",
       "    \u001b[90m#= e:\\Projects.jl\\Training.jl\\10. macro\\jl_notebook_cell_df34fa98e69747e1a8f8a730347b8e2f_W6sZmlsZQ==.jl:4 =#\u001b[39m\n",
       "    xxx = Main.yyy\n",
       "    \u001b[90m#= e:\\Projects.jl\\Training.jl\\10. macro\\jl_notebook_cell_df34fa98e69747e1a8f8a730347b8e2f_W6sZmlsZQ==.jl:5 =#\u001b[39m\n",
       "    yyy = var\"#72#tmp\"\n",
       "end"
      ]
     },
     "metadata": {},
     "output_type": "display_data"
    }
   ],
   "source": [
    "macro swap3(p, q)\n",
    "    quote\n",
    "      tmp = $p # you might think we don't need to esc() the RHS\n",
    "      $(esc(p)) = $q\n",
    "      $(esc(q)) = tmp\n",
    "    end\n",
    "  end\n",
    "  \n",
    "  xxx,yyy = 111,222\n",
    "  @macroexpand @swap3(xxx,yyy)"
   ]
  },
  {
   "cell_type": "code",
   "execution_count": 6,
   "metadata": {},
   "outputs": [
    {
     "name": "stdout",
     "output_type": "stream",
     "text": [
      "222, 111\n"
     ]
    }
   ],
   "source": [
    "@swap3(xxx,yyy)\n",
    "println(xxx,\", \", yyy) "
   ]
  },
  {
   "cell_type": "markdown",
   "metadata": {},
   "source": [
    "So `esc(p)` is 'leaking' `p` into the calling context. \"The thing that was passed into the macro that we receive as `p`\"<br>\n",
    "因此 `esc(p)`  ‘泄漏’  `p` 进入调用上下文。“传入宏的东西，我们接收到 `p` ”<br><br>\n",
    "\n",
    "As you can see tmp gets the **hygiene treatment** `#72#tmp`, whereas `xxx` and `yyy` don't. Julia is making a unique identifier for `tmp`, something you can manually do with `gensym`, ie:<br>\n",
    "正如你所看到的， `tmp` 得到卫生处理 `#72#tmp` ，而 `xxx` 和 `yyy` 则没有。 Julia正在为 `tmp` 创建一个唯一的标识符，您可以手动使用 `gensym` ，即："
   ]
  },
  {
   "cell_type": "code",
   "execution_count": 7,
   "metadata": {},
   "outputs": [
    {
     "data": {
      "text/plain": [
       "Symbol(\"##tmp#230\")"
      ]
     },
     "metadata": {},
     "output_type": "display_data"
    }
   ],
   "source": [
    "gensym(:tmp)"
   ]
  },
  {
   "cell_type": "code",
   "execution_count": 8,
   "metadata": {},
   "outputs": [
    {
     "data": {
      "text/plain": [
       "Main.Swap"
      ]
     },
     "metadata": {},
     "output_type": "display_data"
    }
   ],
   "source": [
    "module Swap\n",
    "       export @swap4\n",
    "\n",
    "       macro swap4(p, q)\n",
    "         quote\n",
    "           tmp = $p\n",
    "           $(esc(p)) = $q\n",
    "           $(esc(q)) = tmp\n",
    "         end\n",
    "       end\n",
    "end"
   ]
  },
  {
   "cell_type": "code",
   "execution_count": 9,
   "metadata": {},
   "outputs": [
    {
     "data": {
      "text/plain": [
       "quote\n",
       "    \u001b[90m#= e:\\Projects.jl\\Training.jl\\10. macro\\jl_notebook_cell_df34fa98e69747e1a8f8a730347b8e2f_X13sZmlsZQ==.jl:6 =#\u001b[39m\n",
       "    var\"#74#tmp\" = Main.Swap.x4\n",
       "    \u001b[90m#= e:\\Projects.jl\\Training.jl\\10. macro\\jl_notebook_cell_df34fa98e69747e1a8f8a730347b8e2f_X13sZmlsZQ==.jl:7 =#\u001b[39m\n",
       "    x4 = Main.Swap.y4\n",
       "    \u001b[90m#= e:\\Projects.jl\\Training.jl\\10. macro\\jl_notebook_cell_df34fa98e69747e1a8f8a730347b8e2f_X13sZmlsZQ==.jl:8 =#\u001b[39m\n",
       "    y4 = var\"#74#tmp\"\n",
       "end"
      ]
     },
     "metadata": {},
     "output_type": "display_data"
    }
   ],
   "source": [
    "using .Swap\n",
    "x4,y4 = 1111,2222\n",
    "@macroexpand @swap4(x4,y4)"
   ]
  },
  {
   "cell_type": "code",
   "execution_count": 10,
   "metadata": {},
   "outputs": [
    {
     "ename": "UndefVarError",
     "evalue": "UndefVarError: `x4` not defined in `Main.Swap`\nSuggestion: check for spelling errors or missing imports.",
     "output_type": "error",
     "traceback": [
      "UndefVarError: `x4` not defined in `Main.Swap`\n",
      "Suggestion: check for spelling errors or missing imports.\n",
      "\n",
      "Stacktrace:\n",
      " [1] macro expansion\n",
      "   @ e:\\Projects.jl\\Training.jl\\10. macro\\jl_notebook_cell_df34fa98e69747e1a8f8a730347b8e2f_X13sZmlsZQ==.jl:6 [inlined]\n",
      " [2] top-level scope\n",
      "   @ e:\\Projects.jl\\Training.jl\\10. macro\\jl_notebook_cell_df34fa98e69747e1a8f8a730347b8e2f_X15sZmlsZQ==.jl:1"
     ]
    }
   ],
   "source": [
    "@swap4(x4,y4)\n",
    "println(x4,\", \", y4) "
   ]
  },
  {
   "cell_type": "markdown",
   "metadata": {},
   "source": [
    "Another thing julia's macro hygiene does is, if the macro is from another module, it makes any variables (that were not assigned inside the macro's returning expression, like `tmp` in this case) globals of the current module, so `$p` becomes `Swap.$p`, likewise `$q` -> `Swap.$q`.<br>\n",
    "julia的宏卫生做的另一件事是，如果宏来自另一个模块，它会使当前模块的任何变量（未在宏的返回表达式中分配，如 `tmp` 在这种情况下）成为全局变量，因此 `$p` 变为 `Swap.$p` ，同样 `$q`  ->  `Swap.$q` 。<br><br>\n",
    "\n",
    "In general, if you need a variable that is outside the macro's scope you should esc it, so you should `esc(p)` and `esc(q)` regardless if they are on the LHS or RHS of a expression, or even by themselves.<br>\n",
    "一般来说，如果你需要一个宏作用域之外的变量，你应该删除它，所以你应该 `esc(p)` 和 `esc(q)` ，**不管它们是在表达式的LHS还是RHS上**，甚至是它们自己。"
   ]
  },
  {
   "cell_type": "code",
   "execution_count": 11,
   "metadata": {},
   "outputs": [
    {
     "data": {
      "text/plain": [
       "Main.Swap2"
      ]
     },
     "metadata": {},
     "output_type": "display_data"
    }
   ],
   "source": [
    "module Swap2\n",
    "       export @swap5\n",
    "\n",
    "       macro swap5(p, q)\n",
    "         quote\n",
    "          tmp = $(esc(p))\n",
    "          $(esc(p)) = $(esc(q))\n",
    "          $(esc(q)) = tmp\n",
    "         end\n",
    "       end\n",
    "end"
   ]
  },
  {
   "cell_type": "code",
   "execution_count": 12,
   "metadata": {},
   "outputs": [
    {
     "data": {
      "text/plain": [
       "quote\n",
       "    \u001b[90m#= e:\\Projects.jl\\Training.jl\\10. macro\\jl_notebook_cell_df34fa98e69747e1a8f8a730347b8e2f_X20sZmlsZQ==.jl:6 =#\u001b[39m\n",
       "    var\"#76#tmp\" = x5\n",
       "    \u001b[90m#= e:\\Projects.jl\\Training.jl\\10. macro\\jl_notebook_cell_df34fa98e69747e1a8f8a730347b8e2f_X20sZmlsZQ==.jl:7 =#\u001b[39m\n",
       "    x5 = y5\n",
       "    \u001b[90m#= e:\\Projects.jl\\Training.jl\\10. macro\\jl_notebook_cell_df34fa98e69747e1a8f8a730347b8e2f_X20sZmlsZQ==.jl:8 =#\u001b[39m\n",
       "    y5 = var\"#76#tmp\"\n",
       "end"
      ]
     },
     "metadata": {},
     "output_type": "display_data"
    }
   ],
   "source": [
    "using .Swap2\n",
    "x5,y5 = 11111,22222\n",
    "@macroexpand @swap5(x5,y5)"
   ]
  },
  {
   "cell_type": "code",
   "execution_count": 13,
   "metadata": {},
   "outputs": [
    {
     "name": "stdout",
     "output_type": "stream",
     "text": [
      "22222, 11111\n"
     ]
    }
   ],
   "source": [
    "@swap5(x5,y5)\n",
    "println(x5,\", \", y5) "
   ]
  },
  {
   "cell_type": "code",
   "execution_count": 14,
   "metadata": {},
   "outputs": [
    {
     "data": {
      "text/plain": [
       "quote\n",
       "    \u001b[90m#= e:\\Projects.jl\\Training.jl\\10. macro\\jl_notebook_cell_df34fa98e69747e1a8f8a730347b8e2f_X24sZmlsZQ==.jl:3 =#\u001b[39m\n",
       "    while !(i == 5)\n",
       "        \u001b[90m#= e:\\Projects.jl\\Training.jl\\10. macro\\jl_notebook_cell_df34fa98e69747e1a8f8a730347b8e2f_X24sZmlsZQ==.jl:4 =#\u001b[39m\n",
       "        begin\n",
       "            \u001b[90m#= e:\\Projects.jl\\Training.jl\\10. macro\\jl_notebook_cell_df34fa98e69747e1a8f8a730347b8e2f_X24sZmlsZQ==.jl:9 =#\u001b[39m\n",
       "            print(i)\n",
       "            \u001b[90m#= e:\\Projects.jl\\Training.jl\\10. macro\\jl_notebook_cell_df34fa98e69747e1a8f8a730347b8e2f_X24sZmlsZQ==.jl:9 =#\u001b[39m\n",
       "            i += 1\n",
       "        end\n",
       "        \u001b[90m#= e:\\Projects.jl\\Training.jl\\10. macro\\jl_notebook_cell_df34fa98e69747e1a8f8a730347b8e2f_X24sZmlsZQ==.jl:5 =#\u001b[39m\n",
       "    end\n",
       "end"
      ]
     },
     "metadata": {},
     "output_type": "display_data"
    }
   ],
   "source": [
    "macro until(condition, block)\n",
    "    quote\n",
    "        while ! $condition\n",
    "            $block\n",
    "        end\n",
    "    end |> esc\n",
    "end\n",
    "\n",
    "i = 1\n",
    "@macroexpand @until(i==5,  begin; print(i); i+=1; end)"
   ]
  },
  {
   "cell_type": "code",
   "execution_count": 15,
   "metadata": {},
   "outputs": [
    {
     "name": "stdout",
     "output_type": "stream",
     "text": [
      "1234"
     ]
    }
   ],
   "source": [
    "i=1;  @until( i==5,  begin; print(i); i+=1; end )"
   ]
  },
  {
   "cell_type": "markdown",
   "metadata": {},
   "source": [
    "https://riptutorial.com/julia-lang/example/19404/until-loop<br>\n",
    "\n",
    "Here we have used the function chaining syntax `|>`, which is equivalent to calling the `esc` function on the entire `quote` block. The `esc` function prevents macro hygiene from applying to the contents of the macro; without it, variables scoped in the macro will be renamed to prevent collisions with outside variables. See the Julia documentation on macro hygiene for more details.<br>\n",
    "\n",
    "这里我们使用了函数链语法 `|>` ，这相当于在整个 `quote` 块上调用 `esc` 函数。 `esc` 函数防止宏卫生应用于宏的内容；没有它，宏中作用域的变量将被重命名，以防止与外部变量冲突。有关宏卫生的更多细节，请参阅Julia文档。<br>\n",
    "\n",
    "You can use more than one expression in this loop, by simply putting everything inside a `begin ... end` block:<br>\n",
    "你可以在这个循环中使用多个表达式，只需将所有内容放入 `begin ... end` 块中"
   ]
  },
  {
   "cell_type": "markdown",
   "metadata": {},
   "source": [
    "`|>` is controversial, however. I am surprised a mob hasn't come to argue yet. (maybe everyone is just tired of it). There is a recommendation of having most if not all of the macro just be a call to a function, so:<br>\n",
    "`|>` 是有争议的。我很惊讶还没有一群人来争论。（也许每个人都厌倦了）。有一个建议，如果不是所有的宏只是一个函数的调用，所以："
   ]
  },
  {
   "cell_type": "code",
   "execution_count": 1,
   "metadata": {},
   "outputs": [
    {
     "name": "stdout",
     "output_type": "stream",
     "text": [
      "quote\n",
      "    \u001b[90m#= e:\\Projects.jl\\Training.jl\\10. macro\\jl_notebook_cell_df34fa98e69747e1a8f8a730347b8e2f_X30sZmlsZQ==.jl:15 =#\u001b[39m\n",
      "    print(i)\n",
      "    \u001b[90m#= e:\\Projects.jl\\Training.jl\\10. macro\\jl_notebook_cell_df34fa98e69747e1a8f8a730347b8e2f_X30sZmlsZQ==.jl:15 =#\u001b[39m\n",
      "    i += 1\n",
      "end"
     ]
    },
    {
     "data": {
      "text/plain": [
       "quote\n",
       "    \u001b[90m#= e:\\Projects.jl\\Training.jl\\10. macro\\jl_notebook_cell_df34fa98e69747e1a8f8a730347b8e2f_X30sZmlsZQ==.jl:8 =#\u001b[39m\n",
       "    while !(i == 5)\n",
       "        \u001b[90m#= e:\\Projects.jl\\Training.jl\\10. macro\\jl_notebook_cell_df34fa98e69747e1a8f8a730347b8e2f_X30sZmlsZQ==.jl:9 =#\u001b[39m\n",
       "        begin\n",
       "            \u001b[90m#= e:\\Projects.jl\\Training.jl\\10. macro\\jl_notebook_cell_df34fa98e69747e1a8f8a730347b8e2f_X30sZmlsZQ==.jl:15 =#\u001b[39m\n",
       "            print(i)\n",
       "            \u001b[90m#= e:\\Projects.jl\\Training.jl\\10. macro\\jl_notebook_cell_df34fa98e69747e1a8f8a730347b8e2f_X30sZmlsZQ==.jl:15 =#\u001b[39m\n",
       "            i += 1\n",
       "        end\n",
       "        \u001b[90m#= e:\\Projects.jl\\Training.jl\\10. macro\\jl_notebook_cell_df34fa98e69747e1a8f8a730347b8e2f_X30sZmlsZQ==.jl:10 =#\u001b[39m\n",
       "    end\n",
       "end"
      ]
     },
     "metadata": {},
     "output_type": "display_data"
    }
   ],
   "source": [
    "macro until(condition, block)\n",
    "    show(block)\n",
    "    esc(until(condition, block))\n",
    "end\n",
    "\n",
    "function until(condition, block)\n",
    "    quote\n",
    "        while !$condition\n",
    "            $block\n",
    "        end\n",
    "    end\n",
    "end\n",
    "\n",
    "i = 1\n",
    "@macroexpand @until(i==5,  begin; print(i); i+=1; end)"
   ]
  },
  {
   "cell_type": "code",
   "execution_count": 17,
   "metadata": {},
   "outputs": [
    {
     "name": "stdout",
     "output_type": "stream",
     "text": [
      "1234"
     ]
    }
   ],
   "source": [
    "i=1;  @until( i==5,  begin; print(i); i+=1; end )"
   ]
  },
  {
   "cell_type": "markdown",
   "metadata": {},
   "source": [
    "...is a safer alternative.<br>\n",
    "...是一个更安全的选择。"
   ]
  },
  {
   "cell_type": "markdown",
   "metadata": {},
   "source": [
    "Task: Swap the operands, so `swaps(1/2)` gives `2.00` i.e. `2/1`<br>\n",
    "任务：交换操作数，因此 `swaps(1/2)` 给出 `2.00` 即 `2/1`"
   ]
  },
  {
   "cell_type": "code",
   "execution_count": 19,
   "metadata": {},
   "outputs": [
    {
     "data": {
      "text/plain": [
       ":(2 / 1)"
      ]
     },
     "metadata": {},
     "output_type": "display_data"
    }
   ],
   "source": [
    "macro swaps(e)\n",
    "    e.args[2:3] = e.args[3:-1:2]   \n",
    "    e\n",
    "end\n",
    "@macroexpand @swaps(1/2)"
   ]
  },
  {
   "cell_type": "code",
   "execution_count": 20,
   "metadata": {},
   "outputs": [
    {
     "data": {
      "text/plain": [
       "2.0"
      ]
     },
     "metadata": {},
     "output_type": "display_data"
    }
   ],
   "source": [
    "@swaps(1/2)"
   ]
  },
  {
   "cell_type": "markdown",
   "metadata": {},
   "source": [
    "### https://riptutorial.com/julia-lang/example/26313/guide<br>\n",
    "**A fun hack for using { } for blocks**<br>\n",
    "**一个有趣的使用{}的代码块**<br><br>\n",
    "\n",
    "**笔者注：忽略这个例子，没什么意义**\n",
    "\n",
    "(@fcard) I don't think there is anything technical keeping `{}` from being used as blocks, in fact one can even pun on the residual `{}` syntax to make it work:<br>\n",
    "（@fcard）我不认为有任何技术上的保持 `{}` 被用作块，事实上，人们甚至可以对残余的 `{}` 语法进行双关，以使其工作："
   ]
  },
  {
   "cell_type": "code",
   "execution_count": 23,
   "metadata": {},
   "outputs": [
    {
     "data": {
      "text/plain": [
       "quote\n",
       "    print(1)\n",
       "    print(2)\n",
       "    1 + 2\n",
       "end"
      ]
     },
     "metadata": {},
     "output_type": "display_data"
    }
   ],
   "source": [
    "block_ex = quote \n",
    "print(1)\n",
    "print(2)\n",
    "1+2\n",
    "end\n",
    "Base.remove_linenums!(block_ex)"
   ]
  },
  {
   "cell_type": "code",
   "execution_count": 25,
   "metadata": {},
   "outputs": [
    {
     "name": "stdout",
     "output_type": "stream",
     "text": [
      "Expr\n",
      "  head: Symbol block\n",
      "  args: Array{Any}((3,))\n",
      "    1: Expr\n",
      "      head: Symbol call\n",
      "      args: Array{Any}((2,))\n",
      "        1: Symbol print\n",
      "        2: Int64 1\n",
      "    2: Expr\n",
      "      head: Symbol call\n",
      "      args: Array{Any}((2,))\n",
      "        1: Symbol print\n",
      "        2: Int64 2\n",
      "    3: Expr\n",
      "      head: Symbol call\n",
      "      args: Array{Any}((3,))\n",
      "        1: Symbol +\n",
      "        2: Int64 1\n",
      "        3: Int64 2\n"
     ]
    }
   ],
   "source": [
    "dump(block_ex)"
   ]
  },
  {
   "cell_type": "code",
   "execution_count": 31,
   "metadata": {},
   "outputs": [
    {
     "name": "stdout",
     "output_type": "stream",
     "text": [
      "block.head = :bracescat\n"
     ]
    },
    {
     "data": {
      "text/plain": [
       "quote\n",
       "    \u001b[90m#= e:\\Projects.jl\\Training.jl\\10. macro\\jl_notebook_cell_df34fa98e69747e1a8f8a730347b8e2f_X40sZmlsZQ==.jl:5 =#\u001b[39m\n",
       "    print(1)\n",
       "    print(2)\n",
       "    1 + 2\n",
       "end"
      ]
     },
     "metadata": {},
     "output_type": "display_data"
    }
   ],
   "source": [
    "macro c(block)\n",
    "    @show(block.head)\n",
    "    # @assert block.head == :cell1d\n",
    "    esc(quote\n",
    "        $(block.args...)\n",
    "        end)\n",
    "end\n",
    "\n",
    "@macroexpand @c {\n",
    "                 print(1)\n",
    "                 print(2)\n",
    "                 1+2\n",
    "                }"
   ]
  },
  {
   "cell_type": "code",
   "execution_count": 32,
   "metadata": {},
   "outputs": [
    {
     "name": "stdout",
     "output_type": "stream",
     "text": [
      "block.head = :bracescat\n",
      "12"
     ]
    },
    {
     "data": {
      "text/plain": [
       "3"
      ]
     },
     "metadata": {},
     "output_type": "display_data"
    }
   ],
   "source": [
    "@c {\n",
    "         print(1)\n",
    "         print(2)\n",
    "         1+2\n",
    "       }"
   ]
  },
  {
   "cell_type": "code",
   "execution_count": 39,
   "metadata": {},
   "outputs": [
    {
     "ename": "ErrorException",
     "evalue": "syntax: { } matrix syntax is discontinued around e:\\Projects.jl\\Training.jl\\10. macro\\jl_notebook_cell_df34fa98e69747e1a8f8a730347b8e2f_X45sZmlsZQ==.jl:1",
     "output_type": "error",
     "traceback": [
      "syntax: { } matrix syntax is discontinued around e:\\Projects.jl\\Training.jl\\10. macro\\jl_notebook_cell_df34fa98e69747e1a8f8a730347b8e2f_X45sZmlsZQ==.jl:1\n",
      "\n",
      "Stacktrace:\n",
      " [1] top-level scope\n",
      "   @ e:\\Projects.jl\\Training.jl\\10. macro\\jl_notebook_cell_df34fa98e69747e1a8f8a730347b8e2f_X45sZmlsZQ==.jl:1"
     ]
    }
   ],
   "source": [
    "brace_ex = {\n",
    "  print(1)\n",
    "  print(2)\n",
    "  1+2\n",
    "}"
   ]
  },
  {
   "cell_type": "markdown",
   "metadata": {},
   "source": [
    "https://riptutorial.com/julia-lang/example/26313/guide<br>\n",
    "\n",
    "**笔者注：这段markdown可忽略(没说明白),但示例可看**<br><br>\n",
    "(@fcard) In this case because of lexical scope, a is undefined in `@M`s scope so it uses the global variable... I actually forgot to escape the flipplin' expression in my dumb example, but the \"only works within the same module\" part of it still applies.<br><br>\n",
    "（@fcard）在这种情况下，由于词法作用域，a在` @M` 的作用域中是未定义的，所以它使用全局变量… 在我的愚蠢的例子中，我实际上忘记了转义flipplin'表达式，但它的“仅在同一模块内工作”部分仍然适用。"
   ]
  },
  {
   "cell_type": "code",
   "execution_count": 42,
   "metadata": {},
   "outputs": [
    {
     "data": {
      "text/plain": [
       "Main.M"
      ]
     },
     "metadata": {},
     "output_type": "display_data"
    }
   ],
   "source": [
    "module M\n",
    "       macro m()\n",
    "         :(a+1)\n",
    "       end\n",
    "end"
   ]
  },
  {
   "cell_type": "code",
   "execution_count": 43,
   "metadata": {},
   "outputs": [
    {
     "data": {
      "text/plain": [
       ":(Main.M.a + 1)"
      ]
     },
     "metadata": {},
     "output_type": "display_data"
    }
   ],
   "source": [
    "using .M\n",
    "a = 1\n",
    "@macroexpand M.@m"
   ]
  },
  {
   "cell_type": "code",
   "execution_count": 44,
   "metadata": {},
   "outputs": [
    {
     "ename": "UndefVarError",
     "evalue": "UndefVarError: `a` not defined in `Main.M`\nSuggestion: check for spelling errors or missing imports.",
     "output_type": "error",
     "traceback": [
      "UndefVarError: `a` not defined in `Main.M`\n",
      "Suggestion: check for spelling errors or missing imports.\n",
      "\n",
      "Stacktrace:\n",
      " [1] top-level scope\n",
      "   @ e:\\Projects.jl\\Training.jl\\10. macro\\jl_notebook_cell_df34fa98e69747e1a8f8a730347b8e2f_X51sZmlsZQ==.jl:1"
     ]
    }
   ],
   "source": [
    "M.@m"
   ]
  },
  {
   "cell_type": "code",
   "execution_count": 45,
   "metadata": {},
   "outputs": [
    {
     "data": {
      "text/plain": [
       "@do"
      ]
     },
     "metadata": {},
     "output_type": "display_data"
    }
   ],
   "source": [
    "@eval begin\n",
    "    \"do-until loop\"\n",
    "    macro $(:do)(block, until::Symbol, condition)\n",
    "        until ≠ :until && \n",
    "            error(\"@do expected `until` got `$until`\")\n",
    "        quote\n",
    "            let\n",
    "                $block\n",
    "                @until $condition begin\n",
    "                    $block\n",
    "                end\n",
    "            end\n",
    "        end |> esc\n",
    "    end\n",
    "end"
   ]
  },
  {
   "cell_type": "code",
   "execution_count": 52,
   "metadata": {},
   "outputs": [
    {
     "data": {
      "text/plain": [
       "0"
      ]
     },
     "metadata": {},
     "output_type": "display_data"
    }
   ],
   "source": [
    "i = 0"
   ]
  },
  {
   "cell_type": "markdown",
   "metadata": {},
   "source": [
    "https://riptutorial.com/julia-lang/example/26313/guide<br>\n",
    "ADVANCED section"
   ]
  },
  {
   "cell_type": "code",
   "execution_count": 54,
   "metadata": {},
   "outputs": [
    {
     "data": {
      "text/plain": [
       "quote\n",
       "    \u001b[90m#= e:\\Projects.jl\\Training.jl\\10. macro\\jl_notebook_cell_df34fa98e69747e1a8f8a730347b8e2f_X54sZmlsZQ==.jl:7 =#\u001b[39m\n",
       "    let\n",
       "        \u001b[90m#= e:\\Projects.jl\\Training.jl\\10. macro\\jl_notebook_cell_df34fa98e69747e1a8f8a730347b8e2f_X54sZmlsZQ==.jl:8 =#\u001b[39m\n",
       "        begin\n",
       "            \u001b[90m#= e:\\Projects.jl\\Training.jl\\10. macro\\jl_notebook_cell_df34fa98e69747e1a8f8a730347b8e2f_X55sZmlsZQ==.jl:3 =#\u001b[39m\n",
       "            i += 1\n",
       "        end\n",
       "        \u001b[90m#= e:\\Projects.jl\\Training.jl\\10. macro\\jl_notebook_cell_df34fa98e69747e1a8f8a730347b8e2f_X54sZmlsZQ==.jl:9 =#\u001b[39m\n",
       "        begin\n",
       "            \u001b[90m#= e:\\Projects.jl\\Training.jl\\10. macro\\jl_notebook_cell_df34fa98e69747e1a8f8a730347b8e2f_X30sZmlsZQ==.jl:7 =#\u001b[39m\n",
       "            while !(i == 5)\n",
       "                \u001b[90m#= e:\\Projects.jl\\Training.jl\\10. macro\\jl_notebook_cell_df34fa98e69747e1a8f8a730347b8e2f_X30sZmlsZQ==.jl:8 =#\u001b[39m\n",
       "                begin\n",
       "                    \u001b[90m#= e:\\Projects.jl\\Training.jl\\10. macro\\jl_notebook_cell_df34fa98e69747e1a8f8a730347b8e2f_X54sZmlsZQ==.jl:10 =#\u001b[39m\n",
       "                    begin\n",
       "                        \u001b[90m#= e:\\Projects.jl\\Training.jl\\10. macro\\jl_notebook_cell_df34fa98e69747e1a8f8a730347b8e2f_X55sZmlsZQ==.jl:3 =#\u001b[39m\n",
       "                        i += 1\n",
       "                    end\n",
       "                end\n",
       "                \u001b[90m#= e:\\Projects.jl\\Training.jl\\10. macro\\jl_notebook_cell_df34fa98e69747e1a8f8a730347b8e2f_X30sZmlsZQ==.jl:9 =#\u001b[39m\n",
       "            end\n",
       "        end\n",
       "    end\n",
       "end"
      ]
     },
     "metadata": {},
     "output_type": "display_data"
    }
   ],
   "source": [
    "@macroexpand @do begin        \n",
    "    # @show i      \n",
    "    i += 1       \n",
    "end until i == 5 "
   ]
  },
  {
   "cell_type": "code",
   "execution_count": 56,
   "metadata": {},
   "outputs": [
    {
     "ename": "UndefVarError",
     "evalue": "UndefVarError: `i` not defined in local scope\nSuggestion: check for an assignment to a local variable that shadows a global of the same name.",
     "output_type": "error",
     "traceback": [
      "UndefVarError: `i` not defined in local scope\n",
      "Suggestion: check for an assignment to a local variable that shadows a global of the same name.\n",
      "\n",
      "Stacktrace:\n",
      " [1] macro expansion\n",
      "   @ .\\show.jl:1237 [inlined]\n",
      " [2] macro expansion\n",
      "   @ e:\\Projects.jl\\Training.jl\\10. macro\\jl_notebook_cell_df34fa98e69747e1a8f8a730347b8e2f_X56sZmlsZQ==.jl:2 [inlined]\n",
      " [3] top-level scope\n",
      "   @ e:\\Projects.jl\\Training.jl\\10. macro\\jl_notebook_cell_df34fa98e69747e1a8f8a730347b8e2f_X54sZmlsZQ==.jl:8"
     ]
    }
   ],
   "source": [
    "@do begin        \n",
    "    @show i      \n",
    "    i += 1       \n",
    "end until i == 5"
   ]
  },
  {
   "cell_type": "markdown",
   "metadata": {},
   "source": [
    "### https://docs.juliacn.com/latest/manual/metaprogramming/#卫生宏\n",
    "**这个没看懂, 忽略也行**"
   ]
  },
  {
   "cell_type": "code",
   "execution_count": null,
   "metadata": {},
   "outputs": [
    {
     "name": "stdout",
     "output_type": "stream",
     "text": [
      ":(3 + 2 * 5)\n",
      "elapsed time: 3.9e-6 seconds\n"
     ]
    },
    {
     "data": {
      "text/plain": [
       "13"
      ]
     },
     "metadata": {},
     "output_type": "display_data"
    }
   ],
   "source": [
    "macro time(ex)\n",
    "    show(ex)    \n",
    "    \n",
    "    return quote\n",
    "        local t0 = time_ns()\n",
    "        local val = $ex\n",
    "        local t1 = time_ns()\n",
    "        println(\"\\nelapsed time: \", (t1-t0)/1e9, \" seconds\")\n",
    "        val\n",
    "    end\n",
    "end\n",
    "\n",
    "@time 3+2*5"
   ]
  },
  {
   "cell_type": "markdown",
   "metadata": {},
   "source": [
    "这种转义机制可以在必要时用于「违反」卫生，以便于引入或操作用户变量。例如，以下宏在其调用所处环境中将 x 设置为零："
   ]
  },
  {
   "cell_type": "code",
   "execution_count": 1,
   "metadata": {},
   "outputs": [
    {
     "data": {
      "text/plain": [
       "0"
      ]
     },
     "metadata": {},
     "output_type": "display_data"
    }
   ],
   "source": [
    "macro zerox()\n",
    "    return esc(:(x = 0))\n",
    "end\n",
    "\n",
    "function foo()\n",
    "    x = 1\n",
    "    @zerox\n",
    "    return x # is zero\n",
    "end\n",
    "\n",
    "foo()"
   ]
  },
  {
   "cell_type": "markdown",
   "metadata": {},
   "source": [
    "应当明智地使用这种变量操作，但它偶尔会很方便。<br>\n",
    "\n",
    "获得正确的规则也许是个艰巨的挑战。**在使用宏之前，你可以去考虑是否函数闭包便已足够。另一个有用的策略是将尽可能多的工作推迟到运行时**。例如，许多宏只是将其参数封装为 `QuoteNode` 或类似的 `Expr`。这方面的例子有 `@task body`，它只返回 `schedule(Task(() -> $body))`， 和 `@eval expr`，它只返回 `eval(QuoteNode(expr))`。<br>\n",
    "\n",
    "为了演示，我们可以将上面的 `@time` 示例重新编写成："
   ]
  },
  {
   "cell_type": "code",
   "execution_count": 2,
   "metadata": {},
   "outputs": [
    {
     "data": {
      "text/plain": [
       "timeit (generic function with 1 method)"
      ]
     },
     "metadata": {},
     "output_type": "display_data"
    }
   ],
   "source": [
    "macro time(expr)\n",
    "    return :(timeit(() -> $(esc(expr))))\n",
    "end\n",
    "function timeit(f)\n",
    "    t0 = time_ns()\n",
    "    val = f()\n",
    "    t1 = time_ns()\n",
    "    println(\"elapsed time: \", (t1-t0)/1e9, \" seconds\")\n",
    "    return val\n",
    "end"
   ]
  },
  {
   "cell_type": "code",
   "execution_count": 4,
   "metadata": {},
   "outputs": [
    {
     "name": "stdout",
     "output_type": "stream",
     "text": [
      "elapsed time: 2.0e-7 seconds\n"
     ]
    },
    {
     "data": {
      "text/plain": [
       "13"
      ]
     },
     "metadata": {},
     "output_type": "display_data"
    }
   ],
   "source": [
    "@time 3+2*5"
   ]
  },
  {
   "cell_type": "markdown",
   "metadata": {},
   "source": [
    "但是，我们不这样做也是有充分理由的：将 `expr` 封装在新的作用域块（该匿名函数）中也会稍微改变该表达式的含义（其中任何变量的作用域），而我们想要 `@time` 使用时对其封装的代码影响最小。"
   ]
  }
 ],
 "metadata": {
  "kernelspec": {
   "display_name": "Julia 1.11.0",
   "language": "julia",
   "name": "julia-1.11"
  },
  "language_info": {
   "file_extension": ".jl",
   "mimetype": "application/julia",
   "name": "julia",
   "version": "1.11.0"
  }
 },
 "nbformat": 4,
 "nbformat_minor": 2
}
