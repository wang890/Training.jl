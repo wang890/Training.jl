{
 "cells": [
  {
   "cell_type": "markdown",
   "metadata": {},
   "source": [
    "https://riptutorial.com/julia-lang/example/26313/guide"
   ]
  },
  {
   "cell_type": "code",
   "execution_count": 2,
   "metadata": {},
   "outputs": [
    {
     "data": {
      "text/plain": [
       "var\"#11#12\""
      ]
     },
     "metadata": {},
     "output_type": "display_data"
    }
   ],
   "source": [
    "u = 42\n",
    "f = x -> x^2\n",
    "typeof(f)"
   ]
  },
  {
   "cell_type": "markdown",
   "metadata": {},
   "source": [
    "宏会把接收的参数 **接收为表达式**, 如果参数为字面量，接收为字面量<br>\n",
    "如下面的 `show(x)` 结果为 `:u`<br><br>\n",
    "\n",
    "宏返回的表达式时，会执行"
   ]
  },
  {
   "cell_type": "code",
   "execution_count": 1,
   "metadata": {},
   "outputs": [
    {
     "name": "stdout",
     "output_type": "stream",
     "text": [
      ":u\n",
      "\n"
     ]
    },
    {
     "data": {
      "text/plain": [
       ":(Main.println(\"Expression: \", Main.x, \" has value: \", Main.u))"
      ]
     },
     "metadata": {},
     "output_type": "display_data"
    }
   ],
   "source": [
    "# Let's make our own @show macro:\n",
    "macro log(x)\n",
    "    show(x)\n",
    "    println(\"\\n\")\n",
    "    \n",
    "    :(\n",
    "      println( \"Expression: \", x, \" has value: \", $x )\n",
    "    )\n",
    "end\n",
    "\n",
    "# @log(u)  # error 找不到Main.x\n",
    "@macroexpand @log(u) "
   ]
  },
  {
   "cell_type": "code",
   "execution_count": 7,
   "metadata": {},
   "outputs": [
    {
     "name": "stdout",
     "output_type": "stream",
     "text": [
      ":(f(42))\n",
      "\n"
     ]
    },
    {
     "data": {
      "text/plain": [
       ":(Main.println(\"Expression: \", Main.x, \" has value: \", Main.f(42)))"
      ]
     },
     "metadata": {},
     "output_type": "display_data"
    }
   ],
   "source": [
    "@macroexpand @log(f(42))"
   ]
  },
  {
   "cell_type": "code",
   "execution_count": null,
   "metadata": {},
   "outputs": [
    {
     "name": "stdout",
     "output_type": "stream",
     "text": [
      ":u\n",
      "\n",
      "Expression: 42 has value: 42\n",
      ":u\n",
      "\n"
     ]
    },
    {
     "data": {
      "text/plain": [
       ":(Main.println(\"Expression: \", Main.u, \" has value: \", Main.u))"
      ]
     },
     "metadata": {},
     "output_type": "display_data"
    }
   ],
   "source": [
    "macro log(x)\n",
    "    show(x)\n",
    "    println(\"\\n\")\n",
    "    \n",
    "    :(\n",
    "      println( \"Expression: \", $x, \" has value: \", $x )\n",
    "    )\n",
    "end\n",
    "\n",
    "@log(u)\n",
    "@macroexpand @log(u) "
   ]
  },
  {
   "cell_type": "code",
   "execution_count": null,
   "metadata": {},
   "outputs": [
    {
     "name": "stdout",
     "output_type": "stream",
     "text": [
      ":u\n",
      "\n",
      "Expression: 42 has value: 42\n",
      ":u\n",
      "\n"
     ]
    },
    {
     "data": {
      "text/plain": [
       ":(Main.println(\"Expression: \", Main.string(Main.u), \" has value: \", Main.u))"
      ]
     },
     "metadata": {},
     "output_type": "display_data"
    }
   ],
   "source": [
    "macro log(x)\n",
    "    show(x)\n",
    "    println(\"\\n\")\n",
    "    \n",
    "    :(\n",
    "      println( \"Expression: \", string($x), \" has value: \", $x )\n",
    "    )\n",
    "end\n",
    "\n",
    "@log(u)\n",
    "@macroexpand @log(u) "
   ]
  },
  {
   "cell_type": "code",
   "execution_count": null,
   "metadata": {},
   "outputs": [
    {
     "name": "stdout",
     "output_type": "stream",
     "text": [
      ":u\n",
      "\n"
     ]
    },
    {
     "data": {
      "text/plain": [
       ":(Main.println(\"Expression: \", Main.string(Main.x), \" has value: \", Main.u))"
      ]
     },
     "metadata": {},
     "output_type": "display_data"
    }
   ],
   "source": [
    "macro log(x)\n",
    "  show(x)\n",
    "  println(\"\\n\")\n",
    "  \n",
    "  :(\n",
    "    println( \"Expression: \", string(x), \" has value: \", $x )\n",
    "  )\n",
    "end\n",
    "\n",
    "# @log(u)  # error 找不到Main.x\n",
    "@macroexpand @log(u) "
   ]
  },
  {
   "cell_type": "code",
   "execution_count": 8,
   "metadata": {},
   "outputs": [
    {
     "name": "stdout",
     "output_type": "stream",
     "text": [
      ":u\n",
      "\n"
     ]
    },
    {
     "data": {
      "text/plain": [
       ":(Main.println(\"Expression: \", (string)(Main.x), \" has value: \", Main.u))"
      ]
     },
     "metadata": {},
     "output_type": "display_data"
    }
   ],
   "source": [
    "macro log(x)\n",
    "    show(x)\n",
    "    println(\"\\n\")\n",
    "    \n",
    "    :(\n",
    "      println( \"Expression: \", $string(x), \" has value: \", $x )\n",
    "    )\n",
    "  end\n",
    "  \n",
    "  # @log(u)  # error 找不到Main.x\n",
    "  @macroexpand @log(u) "
   ]
  },
  {
   "cell_type": "code",
   "execution_count": 9,
   "metadata": {},
   "outputs": [
    {
     "name": "stdout",
     "output_type": "stream",
     "text": [
      ":u\n",
      "\n",
      "Expression: u has value: 42\n",
      ":u\n",
      "\n"
     ]
    },
    {
     "data": {
      "text/plain": [
       ":(Main.println(\"Expression: \", \"u\", \" has value: \", Main.u))"
      ]
     },
     "metadata": {},
     "output_type": "display_data"
    }
   ],
   "source": [
    "macro log(x)\n",
    "    show(x)\n",
    "    println(\"\\n\")\n",
    "    \n",
    "    :(\n",
    "      println( \"Expression: \", $(string(x)), \" has value: \", $x )\n",
    "    )\n",
    "  end\n",
    "  \n",
    "  @log(u)\n",
    "  @macroexpand @log(u) "
   ]
  },
  {
   "cell_type": "code",
   "execution_count": 10,
   "metadata": {},
   "outputs": [
    {
     "name": "stdout",
     "output_type": "stream",
     "text": [
      "42\n",
      "\n",
      "Expression: 42 has value: 42\n",
      "\n",
      "-- --\n",
      ":(:u)\n",
      "\n",
      "Expression: :u has value: u\n",
      "\n",
      "-- --\n",
      ":(f(42))\n",
      "\n",
      "Expression: f(42) has value: 1764\n"
     ]
    }
   ],
   "source": [
    "@log(42)\n",
    "\n",
    "println(\"\\n-- --\")\n",
    "@log(:u)\n",
    "\n",
    "println(\"\\n-- --\")\n",
    "@log(f(42))"
   ]
  },
  {
   "cell_type": "markdown",
   "metadata": {},
   "source": [
    "https://docs.juliacn.com/latest/manual/metaprogramming/#构建高级的宏"
   ]
  },
  {
   "cell_type": "markdown",
   "metadata": {},
   "source": [
    "这是 Julia 的 @assert 宏的简化定义. 将其编写为函数是不可能的，因为函数能获取的只有条件的值而无法在错误信息中**显示计算出它的表达式**。宏是操作语句表达式的，所以可以。"
   ]
  },
  {
   "cell_type": "code",
   "execution_count": 1,
   "metadata": {},
   "outputs": [
    {
     "data": {
      "text/plain": [
       "@assert (macro with 1 method)"
      ]
     },
     "metadata": {},
     "output_type": "display_data"
    }
   ],
   "source": [
    "macro assert(ex)\n",
    "    show(ex)\n",
    "    println(\"\\n\")\n",
    "    show(string(ex))\n",
    "    return :( $ex ? nothing : throw(AssertionError($(string(ex)))) ) \n",
    "    # string(ex)为什么要有 $ ? 原因在前述已经讲过\n",
    "    # return :( $ex ? nothing : throw(AssertionError(string(ex))) ) # Error Main中没有ex\n",
    "    # return :( $ex ? nothing : throw(AssertionError(string($ex))) ) # AssertionError: false\n",
    "end"
   ]
  },
  {
   "cell_type": "markdown",
   "metadata": {},
   "source": [
    "https://riptutorial.com/julia-lang/example/26313/guide<br>\n",
    "\n",
    "Q: Why the last `$`? A: It interpolates, i.e. forces Julia to eval that `string(ex)` as execution passes through the invocation of this macro. i.e. If you just run that code it won't force any evaluation. But the moment you do `assert(foo)` Julia will **invoke** this macro replacing its 'AST token/Expr' with whatever it returns, and the `$` will kick into action.<br><br>\n",
    "问：为什么最后一个 `$` ？ 答：它插入，即强制Julia  `eval`   `string(ex)` 执行通过这个宏的调用。 也就是说，如果你只是运行代码，它不会强制执行任何求值。但是当您执行 `assert(foo)` 时，Julia将调用该宏，用它返回的任何内容替换其‘AST令牌/Expr’，并且 `$` 将开始行动。"
   ]
  },
  {
   "cell_type": "code",
   "execution_count": 2,
   "metadata": {},
   "outputs": [
    {
     "name": "stdout",
     "output_type": "stream",
     "text": [
      ":(1 == 1.0)\n",
      "\n",
      "\"1 == 1.0\""
     ]
    }
   ],
   "source": [
    "@assert 1 == 1.0"
   ]
  },
  {
   "cell_type": "code",
   "execution_count": 3,
   "metadata": {},
   "outputs": [
    {
     "name": "stdout",
     "output_type": "stream",
     "text": [
      ":(1 == 0)\n",
      "\n",
      "\"1 == 0\""
     ]
    },
    {
     "ename": "AssertionError",
     "evalue": "AssertionError: 1 == 0",
     "output_type": "error",
     "traceback": [
      "AssertionError: 1 == 0\n",
      "\n",
      "Stacktrace:\n",
      " [1] top-level scope\n",
      "   @ e:\\Projects.jl\\Training.jl\\10. macro\\jl_notebook_cell_df34fa98e69747e1a8f8a730347b8e2f_X21sZmlsZQ==.jl:1"
     ]
    }
   ],
   "source": [
    "@assert 1 == 0"
   ]
  },
  {
   "cell_type": "code",
   "execution_count": 16,
   "metadata": {},
   "outputs": [
    {
     "data": {
      "text/plain": [
       ":(if 1 == 0\n",
       "      nothing\n",
       "  else\n",
       "      Base.throw(Base.AssertionError(\"1 == 0\"))\n",
       "  end)"
      ]
     },
     "metadata": {},
     "output_type": "display_data"
    }
   ],
   "source": [
    "@macroexpand @assert 1 == 0"
   ]
  },
  {
   "cell_type": "code",
   "execution_count": 21,
   "metadata": {},
   "outputs": [
    {
     "data": {
      "text/plain": [
       ":(if a == b\n",
       "      nothing\n",
       "  else\n",
       "      Base.throw(Base.AssertionError(((Base.Main).Base.inferencebarrier((Base.Main).Base.string))(\"a ($(a)) should equal b ($(b))!\")))\n",
       "  end)"
      ]
     },
     "metadata": {},
     "output_type": "display_data"
    }
   ],
   "source": [
    "a=2; b=3\n",
    "@macroexpand @assert a==b \"a ($a) should equal b ($b)!\"  \n",
    "# @assert接收1个表达式，传入两个表达式 不对, @macroexpand展开的结果看不懂"
   ]
  },
  {
   "cell_type": "code",
   "execution_count": 44,
   "metadata": {},
   "outputs": [
    {
     "name": "stdout",
     "output_type": "stream",
     "text": [
      ":(a == b)\n",
      "\n",
      "\"a == b\""
     ]
    },
    {
     "data": {
      "text/plain": [
       ":(if Main.a == Main.b\n",
       "      Main.nothing\n",
       "  else\n",
       "      Main.throw(Main.AssertionError(\"a == b\"))\n",
       "  end)"
      ]
     },
     "metadata": {},
     "output_type": "display_data"
    }
   ],
   "source": [
    "macro assert2(ex, msgs...)\n",
    "    msg_body = isempty(msgs) ? ex : msgs[1]\n",
    "    show(msg_body)\n",
    "    println(\"\\n\")\n",
    "    \n",
    "    msg = string(msg_body)    \n",
    "    show(msg)\n",
    "    \n",
    "    return :($ex ? nothing : throw(AssertionError($msg)))\n",
    "end\n",
    "\n",
    "@macroexpand @assert2 a == b"
   ]
  },
  {
   "cell_type": "code",
   "execution_count": 45,
   "metadata": {},
   "outputs": [
    {
     "name": "stdout",
     "output_type": "stream",
     "text": [
      "\"a should equal b!\"\n",
      "\n",
      "\"a should equal b!\""
     ]
    },
    {
     "data": {
      "text/plain": [
       ":(if Main.a == Main.b\n",
       "      Main.nothing\n",
       "  else\n",
       "      Main.throw(Main.AssertionError(\"a should equal b!\"))\n",
       "  end)"
      ]
     },
     "metadata": {},
     "output_type": "display_data"
    }
   ],
   "source": [
    "@macroexpand @assert2 a==b \"a should equal b!\""
   ]
  },
  {
   "cell_type": "code",
   "execution_count": 24,
   "metadata": {},
   "outputs": [
    {
     "data": {
      "text/plain": [
       "String"
      ]
     },
     "metadata": {},
     "output_type": "display_data"
    }
   ],
   "source": [
    "typeof(:(\"a should equal b\"))"
   ]
  },
  {
   "cell_type": "code",
   "execution_count": 25,
   "metadata": {},
   "outputs": [
    {
     "name": "stdout",
     "output_type": "stream",
     "text": [
      "Expr\n",
      "  head: Symbol string\n",
      "  args: Array{Any}((5,))\n",
      "    1: String \"a (\"\n",
      "    2: Symbol a\n",
      "    3: String \") should equal b (\"\n",
      "    4: Symbol b\n",
      "    5: String \")!\"\n"
     ]
    }
   ],
   "source": [
    "dump(:(\"a ($a) should equal b ($b)!\"))"
   ]
  },
  {
   "cell_type": "code",
   "execution_count": 47,
   "metadata": {},
   "outputs": [
    {
     "name": "stdout",
     "output_type": "stream",
     "text": [
      ":(\"a ($(a)) should equal b ($(b))!\")\n",
      "\n",
      "\"\\\"a (\\$(a)) should equal b (\\$(b))!\\\"\""
     ]
    },
    {
     "ename": "AssertionError",
     "evalue": "AssertionError: \"a ($(a)) should equal b ($(b))!\"",
     "output_type": "error",
     "traceback": [
      "AssertionError: \"a ($(a)) should equal b ($(b))!\"\n",
      "\n",
      "Stacktrace:\n",
      " [1] top-level scope\n",
      "   @ e:\\Projects.jl\\Training.jl\\10. macro\\jl_notebook_cell_df34fa98e69747e1a8f8a730347b8e2f_X34sZmlsZQ==.jl:2"
     ]
    }
   ],
   "source": [
    "a=2; b=3\n",
    "@assert2 a==b \"a ($a) should equal b ($b)!\""
   ]
  },
  {
   "cell_type": "code",
   "execution_count": 48,
   "metadata": {},
   "outputs": [
    {
     "name": "stdout",
     "output_type": "stream",
     "text": [
      ":(\"a ($(a)) should equal b ($(b))!\")\n",
      "\n",
      ":(\"a ($(a)) should equal b ($(b))!\")"
     ]
    },
    {
     "data": {
      "text/plain": [
       ":(if Main.a == Main.b\n",
       "      Main.nothing\n",
       "  else\n",
       "      Main.throw(Main.AssertionError(\"a ($(Main.a)) should equal b ($(Main.b))!\"))\n",
       "  end)"
      ]
     },
     "metadata": {},
     "output_type": "display_data"
    }
   ],
   "source": [
    "macro assert3(ex, msgs...)\n",
    "    msg_body = isempty(msgs) ? ex : msgs[1]\n",
    "    show(msg_body)\n",
    "    println(\"\\n\")\n",
    "    \n",
    "    msg = msg_body    \n",
    "    show(msg)\n",
    "    \n",
    "    \n",
    "    return :($ex ? nothing : throw(AssertionError($msg)))\n",
    "end\n",
    "\n",
    "@macroexpand @assert3 a == b \"a ($a) should equal b ($b)!\""
   ]
  },
  {
   "cell_type": "code",
   "execution_count": 49,
   "metadata": {},
   "outputs": [
    {
     "name": "stdout",
     "output_type": "stream",
     "text": [
      ":(\"a ($(a)) should equal b ($(b))!\")\n",
      "\n",
      ":(\"a ($(a)) should equal b ($(b))!\")"
     ]
    },
    {
     "ename": "AssertionError",
     "evalue": "AssertionError: a (2) should equal b (3)!",
     "output_type": "error",
     "traceback": [
      "AssertionError: a (2) should equal b (3)!\n",
      "\n",
      "Stacktrace:\n",
      " [1] top-level scope\n",
      "   @ e:\\Projects.jl\\Training.jl\\10. macro\\jl_notebook_cell_df34fa98e69747e1a8f8a730347b8e2f_X26sZmlsZQ==.jl:2"
     ]
    }
   ],
   "source": [
    "a=2; b=3\n",
    "@assert3 a==b \"a ($a) should equal b ($b)!\""
   ]
  },
  {
   "cell_type": "markdown",
   "metadata": {},
   "source": [
    "https://stackoverflow.com/a/41103043"
   ]
  },
  {
   "cell_type": "code",
   "execution_count": 10,
   "metadata": {},
   "outputs": [
    {
     "data": {
      "text/plain": [
       "1"
      ]
     },
     "metadata": {},
     "output_type": "display_data"
    }
   ],
   "source": [
    "macro quoted(expression)\n",
    "\n",
    "    show(expression)\n",
    "    println(\"\\n\")\n",
    "\n",
    "    show(QuoteNode(expression))\n",
    "    println(\"\\n\")\n",
    "    show(Expr(:quote, expression))\n",
    "    println(\"\\n\")\n",
    "    \n",
    "    quote\n",
    "        println(\"received expression: :(\", QuoteNode(expression), \")\")\n",
    "        Expr(:quote, expression)\n",
    "    end\n",
    "end\n",
    "\n",
    "x = 1"
   ]
  },
  {
   "cell_type": "code",
   "execution_count": 11,
   "metadata": {},
   "outputs": [
    {
     "name": "stdout",
     "output_type": "stream",
     "text": [
      ":($(Expr(:$, :x)) + 1)\n",
      "\n",
      ":($(QuoteNode(:($(Expr(:$, :x)) + 1))))\n",
      "\n",
      ":($(Expr(:quote, :($(Expr(:$, :x)) + 1))))\n",
      "\n"
     ]
    },
    {
     "data": {
      "text/plain": [
       "quote\n",
       "    \u001b[90m#= e:\\Projects.jl\\Training.jl\\10. macro\\jl_notebook_cell_df34fa98e69747e1a8f8a730347b8e2f_X40sZmlsZQ==.jl:12 =#\u001b[39m\n",
       "    Main.println(\"received expression: :(\", Main.QuoteNode(Main.expression), \")\")\n",
       "    \u001b[90m#= e:\\Projects.jl\\Training.jl\\10. macro\\jl_notebook_cell_df34fa98e69747e1a8f8a730347b8e2f_X40sZmlsZQ==.jl:13 =#\u001b[39m\n",
       "    Main.Expr(:quote, Main.expression)\n",
       "end"
      ]
     },
     "metadata": {},
     "output_type": "display_data"
    }
   ],
   "source": [
    "@macroexpand @quoted $x + 1"
   ]
  },
  {
   "cell_type": "code",
   "execution_count": 18,
   "metadata": {},
   "outputs": [
    {
     "data": {
      "text/plain": [
       "1"
      ]
     },
     "metadata": {},
     "output_type": "display_data"
    }
   ],
   "source": [
    "macro quoted2(expression)\n",
    "\n",
    "    show(expression)\n",
    "    println(\"\\n\")\n",
    "\n",
    "    show(QuoteNode(expression))\n",
    "    println(\"\\n\")\n",
    "    show(Expr(:quote, expression))\n",
    "    println(\"\\n\")\n",
    "    \n",
    "    quote\n",
    "        println(\"received expression: :(\", $QuoteNode(expression), \")\")\n",
    "        $Expr(:quote, expression)\n",
    "    end\n",
    "end\n",
    "\n",
    "x = 1"
   ]
  },
  {
   "cell_type": "code",
   "execution_count": 19,
   "metadata": {},
   "outputs": [
    {
     "name": "stdout",
     "output_type": "stream",
     "text": [
      ":($(Expr(:$, :x)) + 1)\n",
      "\n",
      ":($(QuoteNode(:($(Expr(:$, :x)) + 1))))\n",
      "\n",
      ":($(Expr(:quote, :($(Expr(:$, :x)) + 1))))\n",
      "\n"
     ]
    },
    {
     "data": {
      "text/plain": [
       "quote\n",
       "    \u001b[90m#= e:\\Projects.jl\\Training.jl\\10. macro\\jl_notebook_cell_df34fa98e69747e1a8f8a730347b8e2f_X42sZmlsZQ==.jl:12 =#\u001b[39m\n",
       "    Main.println(\"received expression: :(\", (QuoteNode)(Main.expression), \")\")\n",
       "    \u001b[90m#= e:\\Projects.jl\\Training.jl\\10. macro\\jl_notebook_cell_df34fa98e69747e1a8f8a730347b8e2f_X42sZmlsZQ==.jl:13 =#\u001b[39m\n",
       "    (Expr)(:quote, Main.expression)\n",
       "end"
      ]
     },
     "metadata": {},
     "output_type": "display_data"
    }
   ],
   "source": [
    "@macroexpand @quoted2 $x + 1"
   ]
  },
  {
   "cell_type": "code",
   "execution_count": 39,
   "metadata": {},
   "outputs": [
    {
     "data": {
      "text/plain": [
       "1"
      ]
     },
     "metadata": {},
     "output_type": "display_data"
    }
   ],
   "source": [
    "macro quoted3(expression)\n",
    "\n",
    "    show(expression)\n",
    "    println(\"\\n\")\n",
    "\n",
    "    show(QuoteNode(expression))\n",
    "    println(\"\\n\")\n",
    "    show(Expr(:quote, expression))\n",
    "    println(\"\\n\")    \n",
    "    \n",
    "    quote\n",
    "        println(\"received expression: :(\", $(QuoteNode(expression)), \")\")\n",
    "        $(Expr(:quote, expression))\n",
    "    end\n",
    "end\n",
    "\n",
    "x = 1"
   ]
  },
  {
   "cell_type": "code",
   "execution_count": 27,
   "metadata": {},
   "outputs": [
    {
     "name": "stdout",
     "output_type": "stream",
     "text": [
      ":($(Expr(:$, :x)) + 1)\n",
      "\n",
      ":($(QuoteNode(:($(Expr(:$, :x)) + 1))))\n",
      "\n",
      ":($(Expr(:quote, :($(Expr(:$, :x)) + 1))))\n",
      "\n"
     ]
    },
    {
     "data": {
      "text/plain": [
       "quote\n",
       "    \u001b[90m#= e:\\Projects.jl\\Training.jl\\10. macro\\jl_notebook_cell_df34fa98e69747e1a8f8a730347b8e2f_X44sZmlsZQ==.jl:12 =#\u001b[39m\n",
       "    Main.println(\"received expression: :(\", $(QuoteNode(:($(Expr(:$, :x)) + 1))), \")\")\n",
       "    \u001b[90m#= e:\\Projects.jl\\Training.jl\\10. macro\\jl_notebook_cell_df34fa98e69747e1a8f8a730347b8e2f_X44sZmlsZQ==.jl:13 =#\u001b[39m\n",
       "    Core._expr(:call, :+, Main.x, 1)\n",
       "end"
      ]
     },
     "metadata": {},
     "output_type": "display_data"
    }
   ],
   "source": [
    "@macroexpand @quoted3 $x + 1"
   ]
  },
  {
   "cell_type": "code",
   "execution_count": 25,
   "metadata": {},
   "outputs": [
    {
     "name": "stdout",
     "output_type": "stream",
     "text": [
      ":($(Expr(:$, :x)) + 1)\n",
      "\n",
      ":($(QuoteNode(:($(Expr(:$, :x)) + 1))))\n",
      "\n",
      ":($(Expr(:quote, :($(Expr(:$, :x)) + 1))))\n",
      "\n",
      "received expression: :($x + 1)\n"
     ]
    },
    {
     "data": {
      "text/plain": [
       ":(1 + 1)"
      ]
     },
     "metadata": {},
     "output_type": "display_data"
    }
   ],
   "source": [
    "@quoted3 $x + 1"
   ]
  },
  {
   "cell_type": "code",
   "execution_count": 33,
   "metadata": {},
   "outputs": [
    {
     "data": {
      "text/plain": [
       ":(1 + 1)"
      ]
     },
     "metadata": {},
     "output_type": "display_data"
    }
   ],
   "source": [
    "\n",
    "quoted3_return_ex =\n",
    "quote\n",
    "    :(:(1 + 1))\n",
    "end\n",
    "eval(eval(quoted3_return_ex))"
   ]
  },
  {
   "cell_type": "code",
   "execution_count": 34,
   "metadata": {},
   "outputs": [
    {
     "data": {
      "text/plain": [
       "quote\n",
       "    \u001b[90m#= e:\\Projects.jl\\Training.jl\\10. macro\\jl_notebook_cell_df34fa98e69747e1a8f8a730347b8e2f_X51sZmlsZQ==.jl:3 =#\u001b[39m\n",
       "    $(Expr(:copyast, :($(QuoteNode(:($(Expr(:quote, :(1 + 1)))))))))\n",
       "end"
      ]
     },
     "metadata": {},
     "output_type": "display_data"
    }
   ],
   "source": [
    "macro eval_quote()\n",
    "quote\n",
    "    :(:(1 + 1))\n",
    "end\n",
    "end\n",
    "@macroexpand @eval_quote"
   ]
  },
  {
   "cell_type": "code",
   "execution_count": 35,
   "metadata": {},
   "outputs": [
    {
     "data": {
      "text/plain": [
       ":($(Expr(:quote, :(1 + 1))))"
      ]
     },
     "metadata": {},
     "output_type": "display_data"
    }
   ],
   "source": [
    "@eval_quote"
   ]
  },
  {
   "cell_type": "code",
   "execution_count": 36,
   "metadata": {},
   "outputs": [
    {
     "data": {
      "text/plain": [
       "quote\n",
       "    \u001b[90m#= e:\\Projects.jl\\Training.jl\\10. macro\\jl_notebook_cell_df34fa98e69747e1a8f8a730347b8e2f_X53sZmlsZQ==.jl:3 =#\u001b[39m\n",
       "    $(Expr(:copyast, :($(QuoteNode(:(1 + 1))))))\n",
       "end"
      ]
     },
     "metadata": {},
     "output_type": "display_data"
    }
   ],
   "source": [
    "macro eval_quote2()\n",
    "    quote\n",
    "        :(1 + 1)\n",
    "    end\n",
    "end\n",
    "@macroexpand @eval_quote2"
   ]
  },
  {
   "cell_type": "code",
   "execution_count": 37,
   "metadata": {},
   "outputs": [
    {
     "data": {
      "text/plain": [
       ":(1 + 1)"
      ]
     },
     "metadata": {},
     "output_type": "display_data"
    }
   ],
   "source": [
    "@eval_quote2"
   ]
  },
  {
   "cell_type": "code",
   "execution_count": 41,
   "metadata": {},
   "outputs": [
    {
     "data": {
      "text/plain": [
       "1"
      ]
     },
     "metadata": {},
     "output_type": "display_data"
    }
   ],
   "source": [
    "macro quoted4(expression)\n",
    "\n",
    "    show(expression)\n",
    "    println(\"\\n\")\n",
    "\n",
    "    show(QuoteNode(expression))\n",
    "    println(\"\\n\")\n",
    "    show(Expr(:quote, expression))\n",
    "    println(\"\\n\")    \n",
    "    \n",
    "    quote\n",
    "        println(\"received expression: :(\", $(QuoteNode(expression)), \")\")\n",
    "        Expr(:quote, expression)\n",
    "    end\n",
    "end\n",
    "\n",
    "x = 1"
   ]
  },
  {
   "cell_type": "code",
   "execution_count": 42,
   "metadata": {},
   "outputs": [
    {
     "name": "stdout",
     "output_type": "stream",
     "text": [
      ":($(Expr(:$, :x)) + 1)\n",
      "\n",
      ":($(QuoteNode(:($(Expr(:$, :x)) + 1))))\n",
      "\n",
      ":($(Expr(:quote, :($(Expr(:$, :x)) + 1))))\n",
      "\n"
     ]
    },
    {
     "data": {
      "text/plain": [
       "quote\n",
       "    \u001b[90m#= e:\\Projects.jl\\Training.jl\\10. macro\\jl_notebook_cell_df34fa98e69747e1a8f8a730347b8e2f_X55sZmlsZQ==.jl:12 =#\u001b[39m\n",
       "    Main.println(\"received expression: :(\", $(QuoteNode(:($(Expr(:$, :x)) + 1))), \")\")\n",
       "    \u001b[90m#= e:\\Projects.jl\\Training.jl\\10. macro\\jl_notebook_cell_df34fa98e69747e1a8f8a730347b8e2f_X55sZmlsZQ==.jl:13 =#\u001b[39m\n",
       "    Main.Expr(:quote, Main.expression)\n",
       "end"
      ]
     },
     "metadata": {},
     "output_type": "display_data"
    }
   ],
   "source": [
    "@macroexpand @quoted4 $x + 1"
   ]
  },
  {
   "cell_type": "code",
   "execution_count": 43,
   "metadata": {},
   "outputs": [
    {
     "name": "stdout",
     "output_type": "stream",
     "text": [
      ":($(Expr(:$, :x)) + 1)\n",
      "\n",
      ":($(QuoteNode(:($(Expr(:$, :x)) + 1))))\n",
      "\n",
      ":($(Expr(:quote, :($(Expr(:$, :x)) + 1))))\n",
      "\n",
      "received expression: :($x + 1)\n"
     ]
    },
    {
     "ename": "UndefVarError",
     "evalue": "UndefVarError: `expression` not defined in `Main`\nSuggestion: check for spelling errors or missing imports.",
     "output_type": "error",
     "traceback": [
      "UndefVarError: `expression` not defined in `Main`\n",
      "Suggestion: check for spelling errors or missing imports.\n",
      "\n",
      "Stacktrace:\n",
      " [1] macro expansion\n",
      "   @ e:\\Projects.jl\\Training.jl\\10. macro\\jl_notebook_cell_df34fa98e69747e1a8f8a730347b8e2f_X55sZmlsZQ==.jl:13 [inlined]\n",
      " [2] top-level scope\n",
      "   @ e:\\Projects.jl\\Training.jl\\10. macro\\jl_notebook_cell_df34fa98e69747e1a8f8a730347b8e2f_X60sZmlsZQ==.jl:1"
     ]
    }
   ],
   "source": [
    "@quoted4 $x + 1"
   ]
  },
  {
   "cell_type": "code",
   "execution_count": 44,
   "metadata": {},
   "outputs": [
    {
     "name": "stdout",
     "output_type": "stream",
     "text": [
      ":($(Expr(:quote, :(x + 1))))\n",
      "\n",
      ":($(QuoteNode(:($(Expr(:quote, :(x + 1)))))))\n",
      "\n",
      ":($(Expr(:quote, :($(Expr(:quote, :(x + 1)))))))\n",
      "\n",
      "received expression: :(:(x + 1))\n"
     ]
    },
    {
     "data": {
      "text/plain": [
       ":($(Expr(:quote, :(x + 1))))"
      ]
     },
     "metadata": {},
     "output_type": "display_data"
    }
   ],
   "source": [
    "@quoted3 :(x + 1)"
   ]
  },
  {
   "cell_type": "code",
   "execution_count": 45,
   "metadata": {},
   "outputs": [
    {
     "data": {
      "text/plain": [
       "true"
      ]
     },
     "metadata": {},
     "output_type": "display_data"
    }
   ],
   "source": [
    ":($(Expr(:quote, :(x + 1)))) == :(:(x + 1))"
   ]
  }
 ],
 "metadata": {
  "kernelspec": {
   "display_name": "Julia 1.11.0",
   "language": "julia",
   "name": "julia-1.11"
  },
  "language_info": {
   "file_extension": ".jl",
   "mimetype": "application/julia",
   "name": "julia",
   "version": "1.11.0"
  }
 },
 "nbformat": 4,
 "nbformat_minor": 2
}
