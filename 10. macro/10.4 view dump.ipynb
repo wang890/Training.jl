{
 "cells": [
  {
   "cell_type": "markdown",
   "metadata": {},
   "source": [
    "https://riptutorial.com/julia-lang/example/26313/guide<br>\n",
    "\n",
    "**view/dump a macro**<br>\n",
    "**可忽略，笔者注：例子源有问题, 可能是目前julia版本和以前有很大不同**<br><br>\n",
    "(@p-i-) Suppose I just do `macro m(); a+1; end` in a fresh REPL. With no `a` defined. How can I ‘view’ it? like, is there some way to ‘dump’ a macro? Without actually executing it<br>\n",
    "（@p-i-）假设我只是在一个新的REPL中做 `macro m(); a+1; end` 。没有 `a` 定义。我如何“观看”它？ 比如，是否有办法“转储”一个宏？ 而不执行它<br><br>\n",
    "\n",
    "(@fcard) All the code in macros are actually put into functions, so you can only view their lowered or type-inferred code.<br>\n",
    "（@fcard）宏中的所有代码实际上都被放入函数中，因此您只能查看其降低或类型推断的代码。"
   ]
  },
  {
   "cell_type": "code",
   "execution_count": 1,
   "metadata": {},
   "outputs": [
    {
     "data": {
      "text/plain": [
       "@m (macro with 1 method)"
      ]
     },
     "metadata": {},
     "output_type": "display_data"
    }
   ],
   "source": [
    "macro m()  a+1  end"
   ]
  },
  {
   "cell_type": "code",
   "execution_count": 2,
   "metadata": {},
   "outputs": [
    {
     "data": {
      "text/plain": [
       "CodeInfo(\n",
       "\u001b[90m1 ─\u001b[39m %1 = Main.a\u001b[36m::Any\u001b[39m\n",
       "\u001b[90m│  \u001b[39m %2 = (%1 + 1)\u001b[36m::Any\u001b[39m\n",
       "\u001b[90m└──\u001b[39m      return %2\n",
       ") => Any"
      ]
     },
     "metadata": {},
     "output_type": "display_data"
    }
   ],
   "source": [
    "@code_typed @m"
   ]
  },
  {
   "cell_type": "code",
   "execution_count": 3,
   "metadata": {},
   "outputs": [
    {
     "data": {
      "text/plain": [
       "CodeInfo(\n",
       "\u001b[90m1 ─\u001b[39m %1 = Main.:+\n",
       "\u001b[90m│  \u001b[39m %2 = Main.a\n",
       "\u001b[90m│  \u001b[39m %3 = (%1)(%2, 1)\n",
       "\u001b[90m└──\u001b[39m      return %3\n",
       ")"
      ]
     },
     "metadata": {},
     "output_type": "display_data"
    }
   ],
   "source": [
    "@code_lowered @m"
   ]
  }
 ],
 "metadata": {
  "kernelspec": {
   "display_name": "Julia 1.11.0",
   "language": "julia",
   "name": "julia-1.11"
  },
  "language_info": {
   "file_extension": ".jl",
   "mimetype": "application/julia",
   "name": "julia",
   "version": "1.11.0"
  }
 },
 "nbformat": 4,
 "nbformat_minor": 2
}
