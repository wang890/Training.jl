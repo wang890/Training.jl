{
 "cells": [
  {
   "cell_type": "markdown",
   "metadata": {},
   "source": [
    "### https://discourse.julialang.org/t/is-there-a-better-way-to-write-this-macro/110610\n",
    "**目前还看不懂题主什么意思，还看懂，目前忽略，将来可以来查看**\n",
    "\n",
    "题主又继续开了[另一个帖子](https://discourse.julialang.org/t/advanced-metaprogramming-uses-of-quotenode/110708)"
   ]
  }
 ],
 "metadata": {
  "language_info": {
   "name": "python"
  }
 },
 "nbformat": 4,
 "nbformat_minor": 2
}
