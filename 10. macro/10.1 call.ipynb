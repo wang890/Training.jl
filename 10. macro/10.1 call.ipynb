{
 "cells": [
  {
   "cell_type": "markdown",
   "metadata": {},
   "source": [
    "宏的调用\n",
    "```julia\n",
    "@macroname expr1 expr2 ... # n 个参数表达式\n",
    "@macroname(expr1, expr2, ...) # n 个参数表达式\n",
    "@macroname (expr1, expr2, ...) # 1 个参数表达式(expr1, expr2, ...)\n",
    "```\n",
    "在数组字面量（或推导式）上调用宏的另一种方法是不使用括号直接并列两者。在这种情况下，数组将是唯一的传给宏的表达式。以下语法等价（且与 `@name [a b] * v` 不同）：\n",
    "```julia\n",
    "@macroname[a b] * v\n",
    "@macroname([a b]) * v\n",
    "```"
   ]
  },
  {
   "cell_type": "markdown",
   "metadata": {},
   "source": [
    "**宏把它们的参数作为表达式、字面量或符号接收**。浏览宏参数的一种方法是在宏的内部调用 show 函数："
   ]
  },
  {
   "cell_type": "code",
   "execution_count": 1,
   "metadata": {},
   "outputs": [
    {
     "data": {
      "text/plain": [
       "@showarg (macro with 1 method)"
      ]
     },
     "metadata": {},
     "output_type": "display_data"
    }
   ],
   "source": [
    "macro showarg(x)\n",
    "    show(x)\n",
    "    :(x+1)\n",
    "    # ... remainder of macro, returning an expression\n",
    "    # ... 宏的剩余部分，返回一个表达式    \n",
    "end"
   ]
  },
  {
   "cell_type": "code",
   "execution_count": 2,
   "metadata": {},
   "outputs": [
    {
     "name": "stdout",
     "output_type": "stream",
     "text": [
      ":a"
     ]
    },
    {
     "data": {
      "text/plain": [
       "2"
      ]
     },
     "metadata": {},
     "output_type": "display_data"
    }
   ],
   "source": [
    "x=1\n",
    "@showarg(a)"
   ]
  },
  {
   "cell_type": "code",
   "execution_count": 4,
   "metadata": {},
   "outputs": [
    {
     "name": "stdout",
     "output_type": "stream",
     "text": [
      ":(1 + 1)"
     ]
    },
    {
     "data": {
      "text/plain": [
       "4"
      ]
     },
     "metadata": {},
     "output_type": "display_data"
    }
   ],
   "source": [
    "x=3\n",
    "@showarg 1+1"
   ]
  },
  {
   "cell_type": "code",
   "execution_count": 7,
   "metadata": {},
   "outputs": [
    {
     "name": "stdout",
     "output_type": "stream",
     "text": [
      ":(println(\"Yo!\"))"
     ]
    },
    {
     "data": {
      "text/plain": [
       "4"
      ]
     },
     "metadata": {},
     "output_type": "display_data"
    }
   ],
   "source": [
    "@showarg(println(\"Yo!\"))"
   ]
  },
  {
   "cell_type": "code",
   "execution_count": 8,
   "metadata": {},
   "outputs": [
    {
     "name": "stdout",
     "output_type": "stream",
     "text": [
      ":(if x > 0\n",
      "      \u001b[90m#= e:\\Projects.jl\\Training.jl\\10. macro\\jl_notebook_cell_df34fa98e69747e1a8f8a730347b8e2f_W6sZmlsZQ==.jl:1 =#\u001b[39m\n",
      "      x = x + 1\n",
      "  else\n",
      "      \u001b[90m#= e:\\Projects.jl\\Training.jl\\10. macro\\jl_notebook_cell_df34fa98e69747e1a8f8a730347b8e2f_W6sZmlsZQ==.jl:1 =#\u001b[39m\n",
      "      x = x - 1\n",
      "  end)"
     ]
    },
    {
     "data": {
      "text/plain": [
       "4"
      ]
     },
     "metadata": {},
     "output_type": "display_data"
    }
   ],
   "source": [
    "@showarg if x>0 x=x+1 else x=x-1 end"
   ]
  },
  {
   "cell_type": "code",
   "execution_count": 9,
   "metadata": {},
   "outputs": [
    {
     "name": "stdout",
     "output_type": "stream",
     "text": [
      ":($(Expr(:quote, quote\n",
      "    \u001b[90m#= e:\\Projects.jl\\Training.jl\\10. macro\\jl_notebook_cell_df34fa98e69747e1a8f8a730347b8e2f_X10sZmlsZQ==.jl:1 =#\u001b[39m\n",
      "    if x > 0\n",
      "        \u001b[90m#= e:\\Projects.jl\\Training.jl\\10. macro\\jl_notebook_cell_df34fa98e69747e1a8f8a730347b8e2f_X10sZmlsZQ==.jl:1 =#\u001b[39m\n",
      "        x = x + 1\n",
      "    else\n",
      "        \u001b[90m#= e:\\Projects.jl\\Training.jl\\10. macro\\jl_notebook_cell_df34fa98e69747e1a8f8a730347b8e2f_X10sZmlsZQ==.jl:1 =#\u001b[39m\n",
      "        x = x - 1\n",
      "    end\n",
      "end)))"
     ]
    },
    {
     "data": {
      "text/plain": [
       "4"
      ]
     },
     "metadata": {},
     "output_type": "display_data"
    }
   ],
   "source": [
    "@showarg(quote if x>0 x=x+1 else x=x-1 end end)"
   ]
  },
  {
   "cell_type": "code",
   "execution_count": null,
   "metadata": {},
   "outputs": [],
   "source": [
    "@showarg(x=1; if x>0 x=x+1 else x=x-1 end)\n",
    "\"\"\"Error: The function `@showarg` exists, \n",
    "but no method is defined for this combination of argument types.\"\"\"\n",
    "nothing"
   ]
  },
  {
   "cell_type": "code",
   "execution_count": 11,
   "metadata": {},
   "outputs": [
    {
     "name": "stdout",
     "output_type": "stream",
     "text": [
      ":($(Expr(:quote, quote\n",
      "    \u001b[90m#= e:\\Projects.jl\\Training.jl\\10. macro\\jl_notebook_cell_df34fa98e69747e1a8f8a730347b8e2f_X14sZmlsZQ==.jl:1 =#\u001b[39m\n",
      "    x = 1\n",
      "    \u001b[90m#= e:\\Projects.jl\\Training.jl\\10. macro\\jl_notebook_cell_df34fa98e69747e1a8f8a730347b8e2f_X14sZmlsZQ==.jl:1 =#\u001b[39m\n",
      "    if x > 0\n",
      "        \u001b[90m#= e:\\Projects.jl\\Training.jl\\10. macro\\jl_notebook_cell_df34fa98e69747e1a8f8a730347b8e2f_X14sZmlsZQ==.jl:1 =#\u001b[39m\n",
      "        x = x + 1\n",
      "    else\n",
      "        \u001b[90m#= e:\\Projects.jl\\Training.jl\\10. macro\\jl_notebook_cell_df34fa98e69747e1a8f8a730347b8e2f_X14sZmlsZQ==.jl:1 =#\u001b[39m\n",
      "        x = x - 1\n",
      "    end\n",
      "end)))"
     ]
    },
    {
     "data": {
      "text/plain": [
       "4"
      ]
     },
     "metadata": {},
     "output_type": "display_data"
    }
   ],
   "source": [
    "@showarg(quote x=1; if x>0 x=x+1 else x=x-1 end end)"
   ]
  },
  {
   "cell_type": "code",
   "execution_count": 12,
   "metadata": {},
   "outputs": [
    {
     "name": "stdout",
     "output_type": "stream",
     "text": [
      ":($(Expr(:quote, quote\n",
      "    x = 1\n",
      "    \u001b[90m#= e:\\Projects.jl\\Training.jl\\10. macro\\jl_notebook_cell_df34fa98e69747e1a8f8a730347b8e2f_X15sZmlsZQ==.jl:1 =#\u001b[39m\n",
      "    if x > 0\n",
      "        \u001b[90m#= e:\\Projects.jl\\Training.jl\\10. macro\\jl_notebook_cell_df34fa98e69747e1a8f8a730347b8e2f_X15sZmlsZQ==.jl:1 =#\u001b[39m\n",
      "        x = x + 1\n",
      "    else\n",
      "        \u001b[90m#= e:\\Projects.jl\\Training.jl\\10. macro\\jl_notebook_cell_df34fa98e69747e1a8f8a730347b8e2f_X15sZmlsZQ==.jl:1 =#\u001b[39m\n",
      "        x = x - 1\n",
      "    end\n",
      "end)))"
     ]
    },
    {
     "data": {
      "text/plain": [
       "4"
      ]
     },
     "metadata": {},
     "output_type": "display_data"
    }
   ],
   "source": [
    "@showarg(:(x=1; if x>0 x=x+1 else x=x-1 end))"
   ]
  },
  {
   "cell_type": "markdown",
   "metadata": {},
   "source": [
    "除了给定的参数列表，每个宏都会传递名为 `__source__` 和 `__module__` 的额外参数。\n",
    "\n",
    "+ 参数 `__source__` 提供 @ 符号在宏调用处的解析器位置的相关信息（以 LineNumberNode 对象的形式）。这使得宏能包含更好的错误诊断信息，其通常用于日志记录、字符串解析器宏和文档，比如，用于实现 `@__LINE__`、`@__FILE__` 和 `@__DIR__` 宏。引用 `__source__.line` 和 `__source__.file` 即可访问位置信息.<br><br>\n",
    "+ 参数 `__module__` 提供宏调用展开处的上下文相关信息（以 `Module` 对象的形式）。这允许宏查找上下文相关的信息，比如现有的绑定，或者将值作为附加参数插入到一个在当前模块中进行自我反射的运行时函数调用中。"
   ]
  },
  {
   "cell_type": "code",
   "execution_count": 13,
   "metadata": {},
   "outputs": [
    {
     "name": "stdout",
     "output_type": "stream",
     "text": [
      "LineNumberNode\n",
      "  line: Int64 4\n",
      "  file: Symbol e:\\Projects.jl\\Training.jl\\10. macro\\jl_notebook_cell_df34fa98e69747e1a8f8a730347b8e2f_X13sZmlsZQ==.jl\n"
     ]
    }
   ],
   "source": [
    "macro __LOCATION__() \n",
    "    return QuoteNode(__source__)\n",
    "end\n",
    "dump(@__LOCATION__())"
   ]
  },
  {
   "cell_type": "markdown",
   "metadata": {},
   "source": [
    "### https://docs.juliacn.com/latest/manual/metaprogramming/#宏与派发"
   ]
  },
  {
   "cell_type": "markdown",
   "metadata": {},
   "source": [
    "与 Julia 函数一样，宏也是泛型的。由于多重派发，这意味着宏也能有多个方法定义："
   ]
  },
  {
   "cell_type": "code",
   "execution_count": 1,
   "metadata": {},
   "outputs": [
    {
     "data": {
      "text/plain": [
       "@m (macro with 2 methods)"
      ]
     },
     "metadata": {},
     "output_type": "display_data"
    }
   ],
   "source": [
    "macro m end\n",
    "\n",
    "macro m(args...)\n",
    "    println(\"$(length(args)) arguments\")\n",
    "end\n",
    "\n",
    "macro m(x,y)\n",
    "    println(\"Two arguments\")\n",
    "end"
   ]
  },
  {
   "cell_type": "code",
   "execution_count": 2,
   "metadata": {},
   "outputs": [
    {
     "name": "stdout",
     "output_type": "stream",
     "text": [
      "1 arguments\n"
     ]
    }
   ],
   "source": [
    "@m \"asd\""
   ]
  },
  {
   "cell_type": "code",
   "execution_count": 3,
   "metadata": {},
   "outputs": [
    {
     "name": "stdout",
     "output_type": "stream",
     "text": [
      "Two arguments\n"
     ]
    }
   ],
   "source": [
    "@m 1 2"
   ]
  },
  {
   "cell_type": "markdown",
   "metadata": {},
   "source": [
    "但是应该记住，**宏派发基于传递给宏的 AST 的类型，而不是 AST 在运行时进行求值的类型：**"
   ]
  },
  {
   "cell_type": "code",
   "execution_count": 4,
   "metadata": {},
   "outputs": [
    {
     "data": {
      "text/plain": [
       "@m (macro with 3 methods)"
      ]
     },
     "metadata": {},
     "output_type": "display_data"
    }
   ],
   "source": [
    "macro m(::Int)\n",
    "    println(\"An Integer\")\n",
    "end"
   ]
  },
  {
   "cell_type": "code",
   "execution_count": 5,
   "metadata": {},
   "outputs": [
    {
     "name": "stdout",
     "output_type": "stream",
     "text": [
      "An Integer\n"
     ]
    }
   ],
   "source": [
    "@m 2"
   ]
  },
  {
   "cell_type": "code",
   "execution_count": 6,
   "metadata": {},
   "outputs": [
    {
     "data": {
      "text/plain": [
       "2"
      ]
     },
     "metadata": {},
     "output_type": "display_data"
    }
   ],
   "source": [
    "x = 2"
   ]
  },
  {
   "cell_type": "code",
   "execution_count": 7,
   "metadata": {},
   "outputs": [
    {
     "name": "stdout",
     "output_type": "stream",
     "text": [
      "1 arguments\n"
     ]
    }
   ],
   "source": [
    "@m x"
   ]
  }
 ],
 "metadata": {
  "kernelspec": {
   "display_name": "Julia 1.11.0",
   "language": "julia",
   "name": "julia-1.11"
  },
  "language_info": {
   "file_extension": ".jl",
   "mimetype": "application/julia",
   "name": "julia",
   "version": "1.11.0"
  }
 },
 "nbformat": 4,
 "nbformat_minor": 2
}
