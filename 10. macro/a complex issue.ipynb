{
 "cells": [
  {
   "cell_type": "markdown",
   "metadata": {},
   "source": [
    "### Metaprogramming: Obtain actual type from Symbol for field inheritance\n",
    "2022年7月<br>\n",
    "https://discourse.julialang.org/t/metaprogramming-obtain-actual-type-from-symbol-for-field-inheritance/84912\n",
    "\n",
    "**以后再说，目前看不懂，感觉复杂，可以忽略**"
   ]
  }
 ],
 "metadata": {
  "language_info": {
   "name": "python"
  }
 },
 "nbformat": 4,
 "nbformat_minor": 2
}
