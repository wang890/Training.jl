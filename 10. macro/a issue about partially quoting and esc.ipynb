{
 "cells": [
  {
   "cell_type": "markdown",
   "metadata": {},
   "source": [
    "### 作者问题（2021年1月）\n",
    "Macro for partially quoting (or partially evaluating) an expression\n",
    "\n",
    "**先不考虑 可忽略，还看不太懂**\n",
    "\n",
    "https://discourse.julialang.org/t/macro-for-partially-quoting-or-partially-evaluating-an-expression/53519"
   ]
  },
  {
   "cell_type": "code",
   "execution_count": 8,
   "metadata": {},
   "outputs": [
    {
     "data": {
      "text/plain": [
       "@xquote"
      ]
     },
     "metadata": {},
     "output_type": "display_data"
    }
   ],
   "source": [
    "\"\"\"\n",
    "e.g.\n",
    "\n",
    "```julia\n",
    "julia> eval(uneval(Expr(:my_call, :arg1, :arg2)))\n",
    ":($(Expr(:my_call, :arg1, :arg2)))\n",
    "\n",
    "julia> eval(eval(uneval(:(sqrt(9)))))\n",
    "3.0\n",
    "```\n",
    "\"\"\"\n",
    "function uneval(x::Expr)\n",
    "    # the `Expr` below is assumed to be available in the scope and to be `Base.Expr`\n",
    "    :(Expr($(uneval(x.head)), $(map(uneval, x.args)...)))\n",
    "end\n",
    "\n",
    "# tangential TODO: determine which one\n",
    "uneval(x) = Meta.quot(x)\n",
    "# uneval(x) = Meta.QuoteNode(x)\n",
    "\n",
    "\"\"\"\n",
    "e.g.\n",
    "julia> dump(let x = 9\n",
    "       @xquote sqrt(x)\n",
    "       end)\n",
    "Expr\n",
    "    head: Symbol call\n",
    "    args: Array{Any}((2,))\n",
    "        1: sqrt (function of type typeof(sqrt))\n",
    "        2: Int64 9\n",
    "\"\"\"\n",
    "macro xquote(ex)\n",
    "    uneval(ex) # TODO escape `::Symbol` in `args`.\n",
    "end"
   ]
  },
  {
   "cell_type": "code",
   "execution_count": 9,
   "metadata": {},
   "outputs": [
    {
     "name": "stdout",
     "output_type": "stream",
     "text": [
      "Expr\n",
      "  head: Symbol call\n",
      "  args: Array{Any}((2,))\n",
      "    1: Symbol sqrt\n",
      "    2: Symbol x\n"
     ]
    }
   ],
   "source": [
    "dump(let x = 9\n",
    "    @xquote sqrt(x)\n",
    "    end)"
   ]
  },
  {
   "cell_type": "markdown",
   "metadata": {},
   "source": [
    "but I would like the output to be what I wrote in the docstring for `@xquote`. For this particular expression, the following definition produces the desired output:"
   ]
  },
  {
   "cell_type": "code",
   "execution_count": 10,
   "metadata": {},
   "outputs": [
    {
     "data": {
      "text/plain": [
       "@xquote_sqrt9 (macro with 1 method)"
      ]
     },
     "metadata": {},
     "output_type": "display_data"
    }
   ],
   "source": [
    "macro xquote_sqrt9(ex)\n",
    "    uneval(Expr(:call, sqrt, 9))\n",
    "end"
   ]
  },
  {
   "cell_type": "markdown",
   "metadata": {},
   "source": [
    "as does explicitly quoting:<br>\n",
    "就像明确引用一样"
   ]
  },
  {
   "cell_type": "code",
   "execution_count": 12,
   "metadata": {},
   "outputs": [
    {
     "name": "stdout",
     "output_type": "stream",
     "text": [
      "Expr\n",
      "  head: Symbol call\n",
      "  args: Array{Any}((2,))\n",
      "    1: sqrt (function of type typeof(sqrt))\n",
      "    2: Int64 9\n"
     ]
    }
   ],
   "source": [
    "dump(let x = 9\n",
    "    :($(sqrt)($x))\n",
    "    end)"
   ]
  },
  {
   "cell_type": "markdown",
   "metadata": {},
   "source": [
    "I’ve played around with `f(x) = esc(x)`, and `f(x) = Expr(:$, x)` in\n",
    "```julia\n",
    "escape_all_symbols(ex) = \n",
    "MacroTools.postwalk(\n",
    "    x -> x isa Symbol ? f(x) : x, ex\n",
    "    )\n",
    "```\n",
    "but I’m a bit lost about how to move forward.<br><br>\n",
    "\n",
    "I think this is tangential to my question, but I won’t be evaluating every single `Symbol`. Specifically, I would not evaluate `Symbol` s that correspond to function arguments. For example, currently:<br>\n",
    "\n",
    "我想这和我的问题有点关系，但我不会计算每一个 `Symbol` 。具体来说，我不会计算 `Symbol` s对应于函数参数。例如，目前："
   ]
  },
  {
   "cell_type": "code",
   "execution_count": 13,
   "metadata": {},
   "outputs": [
    {
     "name": "stdout",
     "output_type": "stream",
     "text": [
      "Expr\n",
      "  head: Symbol ->\n",
      "  args: Array{Any}((2,))\n",
      "    1: Symbol y\n",
      "    2: Expr\n",
      "      head: Symbol block\n",
      "      args: Array{Any}((2,))\n",
      "        1: LineNumberNode\n",
      "          line: Int64 2\n",
      "          file: Symbol e:\\Projects.jl\\Training.jl\\10. macro\\jl_notebook_cell_df34fa98e69747e1a8f8a730347b8e2f_X24sZmlsZQ==.jl\n",
      "        2: Expr\n",
      "          head: Symbol call\n",
      "          args: Array{Any}((3,))\n",
      "            1: Symbol +\n",
      "            2: Symbol x\n",
      "            3: Symbol y\n"
     ]
    }
   ],
   "source": [
    "dump(let x = 9\n",
    "    @xquote y -> x + y\n",
    "    end)"
   ]
  },
  {
   "cell_type": "markdown",
   "metadata": {},
   "source": [
    "And in my desired output, `Symbol +` and `Symbol x` would be evaluated, but `Symbol y` would not be. I think I’ve got that aspect covered, however, and it would be enough for my purposes to see a definition of `@xquote` where, for example every `Symbol` except for `:y` is evaluated.<br>\n",
    "\n",
    "在我想要的输出中， `Symbol +` 和 `Symbol x` 会被求值，但是 `Symbol y` 不会被求值。然而，我认为我已经涵盖了这方面，并且对于我的目的来说，看到 `@xquote` 的定义就足够了，例如，除了 `:y` 之外的每个符号都被评估。"
   ]
  },
  {
   "cell_type": "markdown",
   "metadata": {},
   "source": [
    "### 作者自己回复"
   ]
  },
  {
   "cell_type": "markdown",
   "metadata": {},
   "source": [
    "I made a mistake in the original post. That special case macro should not have been<br>\n",
    "我在原来的帖子中犯了一个错误。这个特殊情况下的宏不应该存在\n",
    "```julia\n",
    "macro xquote_sqrt9(ex)\n",
    "    uneval(Expr(:call, sqrt, 9))\n",
    "end\n",
    "```\n",
    "but instead 而是\n",
    "```julia\n",
    "macro xquote_sqrt_x(ex)\n",
    "    uneval(Expr(:call, esc(:sqrt), 9))\n",
    "end\n",
    "```\n",
    "I believe I have answered my own question:<br>\n",
    "我想我已经回答了我自己的问题："
   ]
  },
  {
   "cell_type": "code",
   "execution_count": 1,
   "metadata": {},
   "outputs": [],
   "source": [
    "using MacroTools"
   ]
  },
  {
   "cell_type": "code",
   "execution_count": 2,
   "metadata": {},
   "outputs": [
    {
     "data": {
      "text/plain": [
       "uneval"
      ]
     },
     "metadata": {},
     "output_type": "display_data"
    }
   ],
   "source": [
    "\"\"\"\n",
    "e.g.\n",
    "\n",
    "```julia\n",
    "julia> eval(uneval(Expr(:my_call, :arg1, :arg2)))\n",
    ":($(Expr(:my_call, :arg1, :arg2)))\n",
    "\n",
    "julia> eval(eval(uneval(:(sqrt(9)))))\n",
    "3.0\n",
    "```\n",
    "\n",
    "Note the special case for `:(esc(x))`.\n",
    "\"\"\"\n",
    "function uneval(x::Expr)\n",
    "    x.head === :escape && return x\n",
    "    # the `Expr` below is assumed to be available in the scope and to be `Base.Expr`\n",
    "    :(Expr($(uneval(x.head)), $(map(uneval, x.args)...)))\n",
    "end"
   ]
  },
  {
   "cell_type": "code",
   "execution_count": 3,
   "metadata": {},
   "outputs": [
    {
     "data": {
      "text/plain": [
       "uneval (generic function with 2 methods)"
      ]
     },
     "metadata": {},
     "output_type": "display_data"
    }
   ],
   "source": [
    "# tangential TODO: determine which one\n",
    "uneval(x) = Meta.quot(x)\n",
    "# uneval(x) = Meta.QuoteNode(x)"
   ]
  },
  {
   "cell_type": "code",
   "execution_count": 4,
   "metadata": {},
   "outputs": [
    {
     "data": {
      "text/plain": [
       "escape_all_symbols (generic function with 1 method)"
      ]
     },
     "metadata": {},
     "output_type": "display_data"
    }
   ],
   "source": [
    "escape_all_symbols(ex) = \n",
    "\n",
    "MacroTools.postwalk(\n",
    "    x -> x isa Symbol ? esc(x) : x, ex\n",
    "    )"
   ]
  },
  {
   "cell_type": "code",
   "execution_count": 5,
   "metadata": {},
   "outputs": [
    {
     "data": {
      "text/plain": [
       "@xquote"
      ]
     },
     "metadata": {},
     "output_type": "display_data"
    }
   ],
   "source": [
    "\"\"\"\n",
    "e.g.\n",
    "julia> dump(let x = 9\n",
    "       @xquote sqrt(x)\n",
    "       end)\n",
    "Expr\n",
    "    head: Symbol call\n",
    "    args: Array{Any}((2,))\n",
    "        1: sqrt (function of type typeof(sqrt))\n",
    "        2: Int64 9\n",
    "\"\"\"\n",
    "macro xquote(ex)\n",
    "    uneval(escape_all_symbols(ex))\n",
    "end"
   ]
  },
  {
   "cell_type": "code",
   "execution_count": 6,
   "metadata": {},
   "outputs": [
    {
     "name": "stdout",
     "output_type": "stream",
     "text": [
      "Expr\n",
      "  head: Symbol call\n",
      "  args: Array{Any}((2,))\n",
      "    1: sqrt (function of type typeof(sqrt))\n",
      "    2: Int64 9\n"
     ]
    }
   ],
   "source": [
    "dump(let x = 9\n",
    "     @xquote sqrt(x)\n",
    "     end)"
   ]
  },
  {
   "cell_type": "code",
   "execution_count": 7,
   "metadata": {},
   "outputs": [
    {
     "name": "stdout",
     "output_type": "stream",
     "text": [
      "Expr\n",
      "  head: Symbol call\n",
      "  args: Array{Any}((2,))\n",
      "    1: sin (function of type typeof(sin))\n",
      "    2: Int64 9\n"
     ]
    }
   ],
   "source": [
    "dump(let x = 9, sqrt=sin\n",
    "    @xquote sqrt(x)\n",
    "    end)"
   ]
  }
 ],
 "metadata": {
  "kernelspec": {
   "display_name": "Julia 1.11.0",
   "language": "julia",
   "name": "julia-1.11"
  },
  "language_info": {
   "file_extension": ".jl",
   "mimetype": "application/julia",
   "name": "julia",
   "version": "1.11.0"
  }
 },
 "nbformat": 4,
 "nbformat_minor": 2
}
