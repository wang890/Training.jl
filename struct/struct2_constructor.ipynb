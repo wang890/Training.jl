{
 "cells": [
  {
   "cell_type": "markdown",
   "metadata": {},
   "source": [
    "https://blog.csdn.net/kittyzc/article/details/128580081"
   ]
  },
  {
   "cell_type": "markdown",
   "metadata": {},
   "source": [
    "https://github.com/rjplevin/Classes.jl?tab=readme-ov-file#classesjl"
   ]
  },
  {
   "cell_type": "code",
   "execution_count": 42,
   "metadata": {},
   "outputs": [
    {
     "data": {
      "text/plain": [
       "Fruit"
      ]
     },
     "metadata": {},
     "output_type": "display_data"
    }
   ],
   "source": [
    "using Classes\n",
    "@class mutable Fruit begin\n",
    "    x::Int\n",
    "    Fruit() = Fruit(0)\n",
    "end"
   ]
  },
  {
   "cell_type": "code",
   "execution_count": 43,
   "metadata": {},
   "outputs": [
    {
     "data": {
      "text/plain": [
       "true"
      ]
     },
     "metadata": {},
     "output_type": "display_data"
    }
   ],
   "source": [
    "Fruit <: AbstractFruit"
   ]
  },
  {
   "cell_type": "code",
   "execution_count": 39,
   "metadata": {},
   "outputs": [
    {
     "data": {
      "text/plain": [
       "eat (generic function with 1 method)"
      ]
     },
     "metadata": {},
     "output_type": "display_data"
    }
   ],
   "source": [
    "function eat(self::AbstractFruit)\n",
    "    println(\"eating \",self.x)\n",
    "end"
   ]
  },
  {
   "cell_type": "code",
   "execution_count": 51,
   "metadata": {},
   "outputs": [
    {
     "data": {
      "text/plain": [
       "DataType"
      ]
     },
     "metadata": {},
     "output_type": "display_data"
    },
    {
     "data": {
      "text/plain": [
       "Fruit"
      ]
     },
     "metadata": {},
     "output_type": "display_data"
    },
    {
     "data": {
      "text/plain": [
       "0"
      ]
     },
     "metadata": {},
     "output_type": "display_data"
    },
    {
     "name": "stdout",
     "output_type": "stream",
     "text": [
      "eating 10"
     ]
    },
    {
     "ename": "MethodError",
     "evalue": "MethodError: no method matching eat(::Type{Fruit})\n\nClosest candidates are:\n  eat(!Matched::AbstractFruit)\n   @ Main e:\\JuliaProjects\\Training.jl\\struct\\struct2.ipynb:1\n",
     "output_type": "error",
     "traceback": [
      "MethodError: no method matching eat(::Type{Fruit})\n",
      "\n",
      "Closest candidates are:\n",
      "  eat(!Matched::AbstractFruit)\n",
      "   @ Main e:\\JuliaProjects\\Training.jl\\struct\\struct2.ipynb:1\n",
      "\n",
      "\n",
      "Stacktrace:\n",
      " [1] top-level scope\n",
      "   @ e:\\JuliaProjects\\Training.jl\\struct\\struct2.ipynb:7"
     ]
    }
   ],
   "source": [
    "Fruit |> typeof |> display\n",
    "f = Fruit()\n",
    "f |> typeof |> display\n",
    "f.x |> display\n",
    "f.x = 10\n",
    "eat(f)\n",
    "eat(Fruit)"
   ]
  },
  {
   "cell_type": "code",
   "execution_count": 1,
   "metadata": {},
   "outputs": [],
   "source": [
    "using General.Aux"
   ]
  },
  {
   "cell_type": "code",
   "execution_count": 52,
   "metadata": {},
   "outputs": [],
   "source": [
    "struct Foo\n",
    "    var1\n",
    "    var2\n",
    "    matrix\n",
    "end"
   ]
  },
  {
   "cell_type": "code",
   "execution_count": 50,
   "metadata": {},
   "outputs": [
    {
     "name": "stdout",
     "output_type": "stream",
     "text": [
      "\n",
      "Foo, DataType\n",
      "  = Foo\n",
      "\n",
      "f, Fruit\n",
      "  = Fruit(10)\n"
     ]
    },
    {
     "ename": "MethodError",
     "evalue": "MethodError: no method matching eat(::Type{Foo})\n\nClosest candidates are:\n  eat(!Matched::AbstractFruit)\n   @ Main e:\\JuliaProjects\\Training.jl\\struct\\struct2.ipynb:1\n",
     "output_type": "error",
     "traceback": [
      "MethodError: no method matching eat(::Type{Foo})\n",
      "\n",
      "Closest candidates are:\n",
      "  eat(!Matched::AbstractFruit)\n",
      "   @ Main e:\\JuliaProjects\\Training.jl\\struct\\struct2.ipynb:1\n",
      "\n",
      "\n",
      "Stacktrace:\n",
      " [1] top-level scope\n",
      "   @ e:\\JuliaProjects\\Training.jl\\struct\\struct2.ipynb:2"
     ]
    }
   ],
   "source": [
    "@logt Foo f\n",
    "eat(Foo)"
   ]
  },
  {
   "cell_type": "code",
   "execution_count": 53,
   "metadata": {},
   "outputs": [
    {
     "data": {
      "text/plain": [
       "Foo"
      ]
     },
     "metadata": {},
     "output_type": "display_data"
    }
   ],
   "source": [
    "struct Foo\n",
    "    var1\n",
    "    var2\n",
    "    matrix\n",
    "end\n",
    "\n",
    "Foo(a,b) = Foo(a,b,zeros(a,b))"
   ]
  },
  {
   "cell_type": "code",
   "execution_count": 57,
   "metadata": {},
   "outputs": [
    {
     "name": "stdout",
     "output_type": "stream",
     "text": [
      "\n",
      "foo, DataType\n",
      "  = Foo\n",
      "\n",
      "Foo, DataType\n",
      "  = Foo\n"
     ]
    },
    {
     "ename": "UndefVarError",
     "evalue": "UndefVarError: `a` not defined",
     "output_type": "error",
     "traceback": [
      "UndefVarError: `a` not defined\n",
      "\n",
      "Stacktrace:\n",
      " [1] top-level scope\n",
      "   @ e:\\JuliaProjects\\Training.jl\\struct\\struct2.ipynb:5"
     ]
    }
   ],
   "source": [
    "foo = Foo(a,b) = Foo(a,b,zeros(a,b))\n",
    "\n",
    "@logt foo Foo\n",
    "\n",
    "foo2 = Foo(a,b)"
   ]
  },
  {
   "cell_type": "markdown",
   "metadata": {},
   "source": [
    "initialization也可以使用new函数，放在struct内部。\n",
    "\n",
    "有三种方式，第一种是new并放在前面（可变参数）\n",
    "\n",
    "第二种是new并放在后面（重载）\n",
    "\n",
    "第三种是使用@kwdef"
   ]
  },
  {
   "cell_type": "code",
   "execution_count": null,
   "metadata": {},
   "outputs": [],
   "source": [
    "struct Foo\n",
    "    var1\n",
    "    var2\n",
    "    matrix\n",
    "    Foo(a,b,m=zeros(a,b)) = new(a,b,m)\n",
    "end\n",
    "Foo(1,2)"
   ]
  },
  {
   "cell_type": "code",
   "execution_count": null,
   "metadata": {},
   "outputs": [],
   "source": [
    "struct Foo\n",
    "    var1\n",
    "    var2\n",
    "    matrix\n",
    "    Foo(a,b) = new(a,b,zeros(a,b))\n",
    "end\n",
    "Foo(1,3)"
   ]
  },
  {
   "cell_type": "code",
   "execution_count": 71,
   "metadata": {},
   "outputs": [
    {
     "data": {
      "text/plain": [
       "Test(1, 2, 3)"
      ]
     },
     "metadata": {},
     "output_type": "display_data"
    }
   ],
   "source": [
    "Base.@kwdef mutable struct Test\n",
    "    a\n",
    "    b\n",
    "    c = 3\n",
    "  end\n",
    "t = Test(a=1, b=2)"
   ]
  },
  {
   "cell_type": "code",
   "execution_count": 72,
   "metadata": {},
   "outputs": [
    {
     "ename": "UndefKeywordError",
     "evalue": "UndefKeywordError: keyword argument `b` not assigned",
     "output_type": "error",
     "traceback": [
      "UndefKeywordError: keyword argument `b` not assigned\n",
      "\n",
      "Stacktrace:\n",
      " [1] top-level scope\n",
      "   @ e:\\JuliaProjects\\Training.jl\\struct\\struct2.ipynb:1"
     ]
    }
   ],
   "source": [
    "t = Test(a=1)"
   ]
  },
  {
   "cell_type": "code",
   "execution_count": 1,
   "metadata": {},
   "outputs": [
    {
     "name": "stdout",
     "output_type": "stream",
     "text": [
      "24\n",
      "52\n"
     ]
    }
   ],
   "source": [
    "# 代码源自 https://www.youtube.com/watch?v=4iGrMBc4sYM\n",
    "struct Prism\n",
    "    length\n",
    "    width\n",
    "    height\n",
    "end\n",
    "\n",
    "function volume(p::Prism)\n",
    "    v = p.length * p.width * p.height\n",
    "end\n",
    "function surface_area(p::Prism)\n",
    "    s1 = p.length * p.width\n",
    "    s2 = p.length * p.height\n",
    "    s3 = p.width * p.height\n",
    "    sa = 2 * (s1+s2+s3)\n",
    "end\n",
    "function main()\n",
    "    p = Prism(2, 3, 4)\n",
    "    println(volume(p))\n",
    "    println(surface_area(p))\n",
    "end\n",
    "main()"
   ]
  },
  {
   "cell_type": "markdown",
   "metadata": {},
   "source": [
    "代码源自 https://www.youtube.com/watch?v=ReCzicADBTk"
   ]
  },
  {
   "cell_type": "code",
   "execution_count": 2,
   "metadata": {},
   "outputs": [
    {
     "ename": "ErrorException",
     "evalue": "syntax: \"f = function Prism()\n    # e:\\JuliaProjects\\Training.jl\\struct\\struct2_constructor_default.ipynb, line 5\n    # e:\\JuliaProjects\\Training.jl\\struct\\struct2_constructor_default.ipynb, line 6\n    new(1, 1, 1)\nend\" inside type definition is reserved around e:\\JuliaProjects\\Training.jl\\struct\\struct2_constructor_default.ipynb:1",
     "output_type": "error",
     "traceback": [
      "syntax: \"f = function Prism()\n",
      "    # e:\\JuliaProjects\\Training.jl\\struct\\struct2_constructor_default.ipynb, line 5\n",
      "    # e:\\JuliaProjects\\Training.jl\\struct\\struct2_constructor_default.ipynb, line 6\n",
      "    new(1, 1, 1)\n",
      "end\" inside type definition is reserved around e:\\JuliaProjects\\Training.jl\\struct\\struct2_constructor_default.ipynb:1\n",
      "\n",
      "Stacktrace:\n",
      " [1] top-level scope\n",
      "   @ e:\\JuliaProjects\\Training.jl\\struct\\struct2_constructor_default.ipynb:1"
     ]
    }
   ],
   "source": [
    "struct Prism\n",
    "    length::Real\n",
    "    width::Real\n",
    "    height::Real\n",
    "    f = function Prism()\n",
    "        new(1,1,1)\n",
    "    end\n",
    "    f |> typeof |> display \n",
    "end"
   ]
  },
  {
   "cell_type": "code",
   "execution_count": 1,
   "metadata": {},
   "outputs": [],
   "source": [
    "using General.Aux"
   ]
  },
  {
   "cell_type": "code",
   "execution_count": 2,
   "metadata": {},
   "outputs": [
    {
     "name": "stdout",
     "output_type": "stream",
     "text": [
      "\n",
      "p, Prism\n",
      "  = Prism(1, 1, 1)\n",
      "\n",
      "p.length, Int64\n",
      "  = 1\n",
      "1\n",
      "6\n"
     ]
    }
   ],
   "source": [
    "struct Prism\n",
    "    length::Real\n",
    "    width::Real\n",
    "    height::Real\n",
    "    function Prism() new(1,1,1) end    \n",
    "end\n",
    "function volume(p::Prism)\n",
    "    v = p.length * p.width * p.height\n",
    "end\n",
    "function surface_area(p::Prism)\n",
    "    s1 = p.length * p.width\n",
    "    s2 = p.length * p.height\n",
    "    s3 = p.width * p.height\n",
    "    sa = 2 * (s1+s2+s3)\n",
    "end\n",
    "function main()\n",
    "    p = Prism()\n",
    "    @logt p p.length\n",
    "    println(volume(p))\n",
    "    println(surface_area(p))\n",
    "end\n",
    "main()"
   ]
  },
  {
   "cell_type": "code",
   "execution_count": 3,
   "metadata": {},
   "outputs": [
    {
     "ename": "ErrorException",
     "evalue": "Can't have negative value for lengths.",
     "output_type": "error",
     "traceback": [
      "Can't have negative value for lengths.\n",
      "\n",
      "Stacktrace:\n",
      " [1] error(s::String)\n",
      "   @ Base .\\error.jl:35\n",
      " [2] Prism(l::Int64, w::Int64, h::Int64)\n",
      "   @ Main e:\\JuliaProjects\\Training.jl\\struct\\struct2_constructor_default.ipynb:8\n",
      " [3] main()\n",
      "   @ Main e:\\JuliaProjects\\Training.jl\\struct\\struct2_constructor_default.ipynb:28\n",
      " [4] top-level scope\n",
      "   @ e:\\JuliaProjects\\Training.jl\\struct\\struct2_constructor_default.ipynb:31"
     ]
    }
   ],
   "source": [
    "struct Prism\n",
    "    length::Real\n",
    "    width::Real\n",
    "    height::Real\n",
    "    function Prism() new(1,1,1) end\n",
    "    function Prism(l::Real, w::Real, h::Real)\n",
    "        if l < 0 || w < 0 || h < 0\n",
    "            error(\"Can't have negative value for lengths.\")\n",
    "        elseif w < l\n",
    "            error(\"Can't have shorter width than length.\")\n",
    "        else\n",
    "            new(l,w, h)\n",
    "        end\n",
    "    end    \n",
    "end\n",
    "function volume(p::Prism)\n",
    "    v = p.length * p.width * p.height\n",
    "end\n",
    "function surface_area(p::Prism)\n",
    "    s1 = p.length * p.width\n",
    "    s2 = p.length * p.height\n",
    "    s3 = p.width * p.height\n",
    "    sa = 2 * (s1+s2+s3)\n",
    "end\n",
    "function main()\n",
    "    p1 = Prism()\n",
    "    # p2 = Prism(1,2,3)\n",
    "    p2 = Prism(1,2,-3)\n",
    "    @logt p1.height p2.height    \n",
    "end\n",
    "main()"
   ]
  },
  {
   "cell_type": "code",
   "execution_count": 6,
   "metadata": {},
   "outputs": [
    {
     "name": "stdout",
     "output_type": "stream",
     "text": [
      "\n",
      "p1.height, Int64\n",
      "  = 1\n",
      "\n",
      "p2.height, Int64\n",
      "  = 3\n",
      "\n",
      "c.radius, Int64\n",
      "  = 2\n"
     ]
    },
    {
     "ename": "ErrorException",
     "evalue": "setfield!: immutable struct of type Prism cannot be changed",
     "output_type": "error",
     "traceback": [
      "setfield!: immutable struct of type Prism cannot be changed\n",
      "\n",
      "Stacktrace:\n",
      " [1] setproperty!(x::Prism, f::Symbol, v::Int64)\n",
      "   @ Base .\\Base.jl:41\n",
      " [2] main()\n",
      "   @ Main e:\\JuliaProjects\\Training.jl\\struct\\struct2_constructor_default.ipynb:40\n",
      " [3] top-level scope\n",
      "   @ e:\\JuliaProjects\\Training.jl\\struct\\struct2_constructor_default.ipynb:42"
     ]
    }
   ],
   "source": [
    "struct Prism\n",
    "    length::Real\n",
    "    width::Real\n",
    "    height::Real\n",
    "    function Prism() new(1,1,1) end\n",
    "    function Prism(l::Real, w::Real, h::Real)\n",
    "        if l < 0 || w < 0 || h < 0\n",
    "            error(\"Can't have negative value for lengths.\")\n",
    "        elseif w < l\n",
    "            error(\"Can't have shorter width than length.\")\n",
    "        else\n",
    "            new(l,w, h)\n",
    "        end\n",
    "    end    \n",
    "end\n",
    "\n",
    "mutable struct Circle\n",
    "    radius\n",
    "end\n",
    "function Circle_const(r::Real)\n",
    "    Circle(r)\n",
    "end\n",
    "\n",
    "function volume(p::Prism)\n",
    "    v = p.length * p.width * p.height\n",
    "end\n",
    "function surface_area(p::Prism)\n",
    "    s1 = p.length * p.width\n",
    "    s2 = p.length * p.height\n",
    "    s3 = p.width * p.height\n",
    "    sa = 2 * (s1+s2+s3)\n",
    "end\n",
    "function main()\n",
    "    p1 = Prism()\n",
    "    p2 = Prism(1,2,3)\n",
    "    c= Circle_const(5)\n",
    "    c.radius - 3\n",
    "    c.radius = c.radius - 3 \n",
    "    @logt p1.height p2.height c.radius\n",
    "    p1.length = 6     \n",
    "end\n",
    "main()"
   ]
  }
 ],
 "metadata": {
  "kernelspec": {
   "display_name": "Julia 1.10.1",
   "language": "julia",
   "name": "julia-1.10"
  },
  "language_info": {
   "file_extension": ".jl",
   "mimetype": "application/julia",
   "name": "julia",
   "version": "1.10.1"
  }
 },
 "nbformat": 4,
 "nbformat_minor": 2
}
