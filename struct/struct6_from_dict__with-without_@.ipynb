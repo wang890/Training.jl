{
 "cells": [
  {
   "cell_type": "markdown",
   "metadata": {},
   "source": [
    "[**Dynamically defining a struct with default values**](https://discourse.julialang.org/t/dynamically-defining-a-struct-with-default-values/106855)\n",
    "\n",
    "I would like to be able to define a struct with some default values based on an input Dict. I would like to define a struct like below:\n",
    "\n",
    "```julia\n",
    "d = Dict(\"A\"=>1, \"B\"=>2, \"C\"=>\"x\", \"D\"=>[1,2])\n",
    "@kwdef struct MyStruct3\n",
    "\tA::Int64 = 1\n",
    "\tB::Int64 = 2\n",
    "\tC::String = \"x\"\n",
    "    D::Vector{Int64} = [1,2]\n",
    "end\n",
    "```"
   ]
  },
  {
   "cell_type": "code",
   "execution_count": 1,
   "metadata": {},
   "outputs": [
    {
     "data": {
      "text/plain": [
       "Dict{String, Any} with 4 entries:\n",
       "  \"B\" => 2\n",
       "  \"A\" => 1\n",
       "  \"C\" => \"x\"\n",
       "  \"D\" => [1, 2]"
      ]
     },
     "metadata": {},
     "output_type": "display_data"
    }
   ],
   "source": [
    "d = Dict(\"A\"=>1, \"B\"=>2, \"C\"=>\"x\", \"D\"=>[1,2])"
   ]
  },
  {
   "cell_type": "code",
   "execution_count": 6,
   "metadata": {},
   "outputs": [
    {
     "data": {
      "text/plain": [
       "DataType"
      ]
     },
     "metadata": {},
     "output_type": "display_data"
    }
   ],
   "source": [
    "macro make_struct(name, dict)\n",
    "\tsymbols=[:($(Symbol(k))::$(typeof(v))) for (k, v) in eval(dict)]\n",
    "\t:(@kwdef struct $(esc(name))\n",
    "    \t$(map(esc,symbols)...)\n",
    "    end)\n",
    "end\n",
    "@make_struct Test d\n",
    "Test |> typeof |> display"
   ]
  },
  {
   "cell_type": "code",
   "execution_count": 8,
   "metadata": {},
   "outputs": [
    {
     "ename": "ErrorException",
     "evalue": "syntax: \"B::Int64 = 2\" inside type definition is reserved around util.jl:609",
     "output_type": "error",
     "traceback": [
      "syntax: \"B::Int64 = 2\" inside type definition is reserved around util.jl:609\n",
      "\n",
      "Stacktrace:\n",
      " [1] top-level scope\n",
      "   @ e:\\JuliaProjects\\Training.jl\\struct\\struct.ipynb:8"
     ]
    }
   ],
   "source": [
    "# But am not sure how to add default values to that, when I tried this:\n",
    "macro make_struct(name, dict)\n",
    "\tsymbols=[:($(Symbol(k))::$(typeof(v))=$(v)) for (k, v) in eval(dict)]\n",
    "\t:(@kwdef struct $(esc(name))\n",
    "    \t$(map(esc,symbols)...)\n",
    "    end)\n",
    "end\n",
    "@make_struct Test2 d"
   ]
  },
  {
   "cell_type": "code",
   "execution_count": 9,
   "metadata": {},
   "outputs": [
    {
     "ename": "ErrorException",
     "evalue": "syntax: \"A::Int64 = 1\" inside type definition is reserved around e:\\JuliaProjects\\Training.jl\\struct\\struct.ipynb:1",
     "output_type": "error",
     "traceback": [
      "syntax: \"A::Int64 = 1\" inside type definition is reserved around e:\\JuliaProjects\\Training.jl\\struct\\struct.ipynb:1\n",
      "\n",
      "Stacktrace:\n",
      " [1] top-level scope\n",
      "   @ e:\\JuliaProjects\\Training.jl\\struct\\struct.ipynb:1"
     ]
    }
   ],
   "source": [
    "struct Hu\n",
    "    A::Int64 = 1\n",
    "end"
   ]
  },
  {
   "cell_type": "code",
   "execution_count": 10,
   "metadata": {},
   "outputs": [
    {
     "ename": "ErrorException",
     "evalue": "syntax: invalid type signature around util.jl:609",
     "output_type": "error",
     "traceback": [
      "syntax: invalid type signature around util.jl:609\n",
      "\n",
      "Stacktrace:\n",
      " [1] top-level scope\n",
      "   @ none:1"
     ]
    }
   ],
   "source": [
    "let name = :Ha\n",
    "    @eval @kwdef struct $(esc(name)) end\n",
    "end"
   ]
  },
  {
   "cell_type": "code",
   "execution_count": 17,
   "metadata": {},
   "outputs": [],
   "source": [
    "using General.Aux"
   ]
  },
  {
   "cell_type": "code",
   "execution_count": 19,
   "metadata": {},
   "outputs": [
    {
     "data": {
      "text/plain": [
       "4-element Vector{Expr}:\n",
       " :(B::Int64 = 2)\n",
       " :(A::Int64 = 1)\n",
       " :(C::String = \"x\")\n",
       " :(D::Vector{Int64} = [1, 2])"
      ]
     },
     "metadata": {},
     "output_type": "display_data"
    },
    {
     "name": "stdout",
     "output_type": "stream",
     "text": [
      "\n",
      "t3, Test3\n",
      "  = Test3(2, 1, \"x\", [1, 2])\n",
      "\n",
      "t3.D, Vector{Int64}\n",
      "  = [1, 2]\n"
     ]
    }
   ],
   "source": [
    "function def_dyn_struct(name::Symbol, spec::Dict)\n",
    "    fields = [:($(Symbol(k))::$(typeof(v)) = $(v)) for (k, v) in spec]\n",
    "    fields |> display\n",
    "    @eval @kwdef struct $(name)\n",
    "        $(fields...)\n",
    "    end\n",
    "end\n",
    "def_dyn_struct(:Test3, d)\n",
    "t3 = Test3()\n",
    "@logt t3 t3.D"
   ]
  },
  {
   "cell_type": "markdown",
   "metadata": {},
   "source": [
    "Glad you have a solution. FWIW, if you ever wanted full dynamism, NamedTuples are the way to get it. Something like"
   ]
  },
  {
   "cell_type": "code",
   "execution_count": 20,
   "metadata": {},
   "outputs": [
    {
     "data": {
      "text/plain": [
       "mk_struct_constructor (generic function with 2 methods)"
      ]
     },
     "metadata": {},
     "output_type": "display_data"
    }
   ],
   "source": [
    "struct Flexible{NT}\n",
    "    fields::NT\n",
    "end\n",
    "mk_struct_constructor(dict::Dict) = mk_struct_constructor(NamedTuple(dict))\n",
    "Base.getproperty(f::Flexible, field) = getproperty(f.fields, field)\n",
    "function mk_struct_constructor(nt::NamedTuple)\n",
    "    constructor(; kwargs...) = Flexible(merge(nt, NamedTuple(kwargs)))\n",
    "end"
   ]
  },
  {
   "cell_type": "code",
   "execution_count": 30,
   "metadata": {},
   "outputs": [
    {
     "name": "stdout",
     "output_type": "stream",
     "text": [
      "\n",
      "MyStruct, var\"#constructor#46\"{var\"#constructor#45#47\"{@NamedTuple{A::Int64}}}\n",
      "  = constructor\n",
      "\n",
      "ms1, Flexible{@NamedTuple{A::Int64}}\n",
      "  = Flexible{@NamedTuple{A::Int64}}((A = 2,))\n"
     ]
    }
   ],
   "source": [
    "MyStruct = mk_struct_constructor(Dict(:A=>2))\n",
    "ms1 = MyStruct()\n",
    "@logt MyStruct ms1"
   ]
  },
  {
   "cell_type": "code",
   "execution_count": 31,
   "metadata": {},
   "outputs": [
    {
     "data": {
      "text/plain": [
       "Flexible{@NamedTuple{A::Int64}}((A = 2,))"
      ]
     },
     "metadata": {},
     "output_type": "display_data"
    }
   ],
   "source": [
    "ms2 = MyStruct()"
   ]
  },
  {
   "cell_type": "code",
   "execution_count": 32,
   "metadata": {},
   "outputs": [
    {
     "data": {
      "text/plain": [
       "Flexible{@NamedTuple{A::Int64}}((A = 5,))"
      ]
     },
     "metadata": {},
     "output_type": "display_data"
    }
   ],
   "source": [
    "ms3 = MyStruct(A=5)"
   ]
  },
  {
   "cell_type": "markdown",
   "metadata": {},
   "source": [
    "This won’t face the world-age issues you’d have with the previous solution, and it’s AFAIK just as efficient as a normal struct.\n",
    "\n",
    "这不会像之前的解决方案那样面临世界级问题，而且据我所知，其效率与普通的结构相同。"
   ]
  }
 ],
 "metadata": {
  "kernelspec": {
   "display_name": "Julia 1.10.1",
   "language": "julia",
   "name": "julia-1.10"
  },
  "language_info": {
   "file_extension": ".jl",
   "mimetype": "application/julia",
   "name": "julia",
   "version": "1.10.1"
  }
 },
 "nbformat": 4,
 "nbformat_minor": 2
}
