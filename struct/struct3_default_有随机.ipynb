{
 "cells": [
  {
   "cell_type": "markdown",
   "metadata": {},
   "source": [
    "[2020年- Default value of *some* fields in a mutable struct, like follow](https://discourse.julialang.org/t/default-value-of-some-fields-in-a-mutable-struct/33408)\n",
    "\n",
    "```julia\n",
    "mutable struct coly8\n",
    "    x :: Int32\n",
    "    y :: Float64\n",
    "    z :: Bool\n",
    "    t :: Int32\n",
    "    u :: Float32\n",
    "    v :: Bool\n",
    "    coly8() = ( K = new(); K.x = 1 )\n",
    "end\n",
    "```\n"
   ]
  },
  {
   "cell_type": "code",
   "execution_count": 40,
   "metadata": {},
   "outputs": [],
   "source": [
    "mutable struct coly8\n",
    "    x :: Int32\n",
    "    y :: Float64\n",
    "    z :: Bool\n",
    "    t :: Int32\n",
    "    u :: Float32\n",
    "    v :: Bool\n",
    "    coly8() = ( K = new(); K.x = 1 )\n",
    "end"
   ]
  },
  {
   "cell_type": "code",
   "execution_count": 42,
   "metadata": {},
   "outputs": [],
   "source": [
    "using General.Aux"
   ]
  },
  {
   "cell_type": "code",
   "execution_count": 43,
   "metadata": {},
   "outputs": [
    {
     "name": "stdout",
     "output_type": "stream",
     "text": [
      "\n",
      "c8, Int64\n",
      "  = 1\n",
      "\n",
      "c8_proper, Tuple{}\n",
      "  = ()\n"
     ]
    }
   ],
   "source": [
    "c8 = coly8()\n",
    "c8_proper = propertynames(c8)\n",
    "@logt c8 c8_proper"
   ]
  },
  {
   "cell_type": "code",
   "execution_count": 30,
   "metadata": {},
   "outputs": [
    {
     "data": {
      "text/plain": [
       "coly_xy(815291912, 0.0, false, 13, 0.0f0, true)"
      ]
     },
     "metadata": {},
     "output_type": "display_data"
    }
   ],
   "source": [
    "mutable struct coly_xy\n",
    "    x :: Int32\n",
    "    y :: Float64\n",
    "    z :: Bool\n",
    "    t :: Int32\n",
    "    u :: Float32\n",
    "    v :: Bool\n",
    "    function coly_xy(;kwargs...)\n",
    "        K = new()\n",
    "        for (key, value) in kwargs\n",
    "            setfield!(K, key, value)\n",
    "        end\n",
    "        return K\n",
    "    end\n",
    "end\n",
    "coly_xy(t=Int32(13), v=true)  # 其他的给成了随机值"
   ]
  },
  {
   "cell_type": "markdown",
   "metadata": {},
   "source": [
    "For more convenience you may want to add a convert call if the type doesn’t match.\n",
    "\n",
    "如果类型不匹配，您可能希望添加一个 ` convert ` 调用以方便使用。"
   ]
  },
  {
   "cell_type": "code",
   "execution_count": 31,
   "metadata": {},
   "outputs": [
    {
     "data": {
      "text/plain": [
       "coly_rand(2, 2.0, false, 381, 7.3f-43, true)"
      ]
     },
     "metadata": {},
     "output_type": "display_data"
    }
   ],
   "source": [
    "mutable struct coly_rand\n",
    "    x :: Int32\n",
    "    y :: Float64\n",
    "    z :: Bool\n",
    "    t :: Int32\n",
    "    u :: Float32\n",
    "    v :: Bool\n",
    "    \n",
    "    function coly_rand(;kwargs...)\n",
    "        K = new()\n",
    "        for (key, value) in kwargs\n",
    "            field_type = typeof(getfield(K,key))\n",
    "            setfield!(K, key, convert(field_type, value))\n",
    "        end\n",
    "        return K\n",
    "    end    \n",
    "end\n",
    "coly_rand(x=2,y=2) # 其他随机"
   ]
  },
  {
   "cell_type": "code",
   "execution_count": 33,
   "metadata": {},
   "outputs": [
    {
     "ename": "UndefKeywordError",
     "evalue": "UndefKeywordError: keyword argument `z` not assigned",
     "output_type": "error",
     "traceback": [
      "UndefKeywordError: keyword argument `z` not assigned\n",
      "\n",
      "Stacktrace:\n",
      " [1] top-level scope\n",
      "   @ e:\\JuliaProjects\\Training.jl\\struct\\struct3.ipynb:18"
     ]
    }
   ],
   "source": [
    "@kwdef mutable struct coly_again\n",
    "    x :: Int32\n",
    "    y :: Float64\n",
    "    z :: Bool\n",
    "    t :: Int32\n",
    "    u :: Float32\n",
    "    v :: Bool\n",
    "    \n",
    "    function coly_again(;kwargs...)\n",
    "        K = new()\n",
    "        for (key, value) in kwargs\n",
    "            field_type = typeof(getfield(K,key))\n",
    "            setfield!(K, key, convert(field_type, value))\n",
    "        end\n",
    "        return K\n",
    "    end    \n",
    "end\n",
    "coly_again(x=2,y=2)"
   ]
  },
  {
   "cell_type": "code",
   "execution_count": 34,
   "metadata": {},
   "outputs": [
    {
     "data": {
      "text/plain": [
       "@awesome (macro with 1 method)"
      ]
     },
     "metadata": {},
     "output_type": "display_data"
    }
   ],
   "source": [
    "macro awesome(s)\n",
    "    if s.head !== :struct \n",
    "        error(\"Not a struct def\")\n",
    "    end \n",
    "\n",
    "    ismutable = s.args[1]\n",
    "    if !ismutable\n",
    "        error(\"Not mutable\")\n",
    "    end\n",
    "    \n",
    "    name = s.args[2]\n",
    "    body = s.args[3]    \n",
    "\n",
    "    ctor = :(function $(name)(;kwargs...)\n",
    "                K = new()\n",
    "                for (key, value) in kwargs\n",
    "                    field_type_key = typeof(getfield(K,key))\n",
    "                    setfield!(K, key, convert(field_type_key, value))\n",
    "                end\n",
    "                return K\n",
    "            end)\n",
    "            \n",
    "    newbody = [body.args; ctor]\n",
    "    \n",
    "    return Expr(s.head, ismutable, name, Expr(body.head, newbody...))       \n",
    "end"
   ]
  },
  {
   "cell_type": "code",
   "execution_count": 36,
   "metadata": {},
   "outputs": [
    {
     "data": {
      "text/plain": [
       "coly8(142941568, 8.085512242926e-312, false, 381, 4.0f0, true)"
      ]
     },
     "metadata": {},
     "output_type": "display_data"
    }
   ],
   "source": [
    "@awesome mutable struct coly8\n",
    "    x :: Int32\n",
    "    y :: Float64\n",
    "    z :: Bool\n",
    "    t :: Int32\n",
    "    u :: Float32\n",
    "    v :: Bool\n",
    "end\n",
    "coly8(u=4.0)"
   ]
  },
  {
   "cell_type": "markdown",
   "metadata": {},
   "source": [
    "The next step would be parsing a expression in a struct with predefined constants or use the x::Int = 42 syntax like in Parameters.jl. Truly limitless set of options :slight_smile: I would add also zeroing of not defined fields like most of languages do.\n",
    "\n",
    "下一步是解析带有预定义常量的结构中的表达式，或者使用类似于Parameters.jl中的` x::Int = 42 `语法。我还会添加许多其他选项，例如像大多数语言那样将未定义的字段设置为零。"
   ]
  },
  {
   "cell_type": "code",
   "execution_count": 37,
   "metadata": {},
   "outputs": [
    {
     "ename": "UndefKeywordError",
     "evalue": "UndefKeywordError: keyword argument `b` not assigned",
     "output_type": "error",
     "traceback": [
      "UndefKeywordError: keyword argument `b` not assigned\n",
      "\n",
      "Stacktrace:\n",
      " [1] Foo()\n",
      "   @ Main e:\\JuliaProjects\\Training.jl\\struct\\struct3.ipynb:1\n",
      " [2] top-level scope\n",
      "   @ e:\\JuliaProjects\\Training.jl\\struct\\struct3.ipynb:6"
     ]
    }
   ],
   "source": [
    "@kwdef struct Foo\n",
    "    a::Int = 1         # specified default\n",
    "    b::String          # required keyword\n",
    "end\n",
    "Foo(b=\"hi\")\n",
    "Foo()"
   ]
  }
 ],
 "metadata": {
  "kernelspec": {
   "display_name": "Julia 1.10.1",
   "language": "julia",
   "name": "julia-1.10"
  },
  "language_info": {
   "file_extension": ".jl",
   "mimetype": "application/julia",
   "name": "julia",
   "version": "1.10.1"
  }
 },
 "nbformat": 4,
 "nbformat_minor": 2
}
