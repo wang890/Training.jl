{
 "cells": [
  {
   "cell_type": "markdown",
   "metadata": {},
   "source": [
    "https://docs.juliacn.com/latest/manual/types/"
   ]
  },
  {
   "cell_type": "markdown",
   "metadata": {},
   "source": [
    "julia\\doc\\src\\base\\numbers.md 这个base下有很多 md<br> \n",
    "julia\\doc\\src\\base\\base.md <br>\n",
    "\n",
    "\\julia\\base\\boot.jl<br>\n",
    "\\julia\\base\\base.jl 有很多 property field 的 get 和 set 函数"
   ]
  },
  {
   "cell_type": "markdown",
   "metadata": {},
   "source": [
    "### type\n",
    "+ type是模具, **只有 末梢type 才有实例**\n",
    "<br><br>\n",
    "+ type隶属链条, 最顶级的type是Any, Any之下有很多type链条\n",
    "+ **typeof(object): 结果都是** type链条上的 **末梢type** \n",
    "+ **末梢type** 是对象实例object的直接type(typeof), 其他都是抽象abstracttype\n",
    "+ type由primitive type、abstract type、或 struct定义\n",
    "+ type本身也有其类型typeof(), 为Type链条 **末梢type** 之一, 所有type链条上的任意type都是Type的实例 (isa)"
   ]
  },
  {
   "cell_type": "markdown",
   "metadata": {},
   "source": [
    "\\julia\\base\\boot.jl export了 <:, typeof, isa <br>\n",
    "+ x_type = **typeof(x)**: 返回**实例x**的type: x_type, x是x_type的实例\n",
    "+ x **isa** xt, 若xt是 **实例x** typeof 即x_type 或 x_type的链条上游,返回真<br>\n",
    "即x是x_type以及x_type上游type的实例(isa)\n",
    "+ t1 **<:** t2，反映的是type链条关系, 若t2是t1的上游 返回真, t1和t2不能是 **末梢type** 的实例"
   ]
  },
  {
   "cell_type": "code",
   "execution_count": 1,
   "metadata": {},
   "outputs": [],
   "source": [
    "using General.Aux"
   ]
  },
  {
   "cell_type": "code",
   "execution_count": 87,
   "metadata": {},
   "outputs": [
    {
     "data": {
      "text/plain": [
       "DataType"
      ]
     },
     "metadata": {},
     "output_type": "display_data"
    },
    {
     "data": {
      "text/plain": [
       "true"
      ]
     },
     "metadata": {},
     "output_type": "display_data"
    },
    {
     "data": {
      "text/plain": [
       "true"
      ]
     },
     "metadata": {},
     "output_type": "display_data"
    },
    {
     "data": {
      "text/plain": [
       "DataType"
      ]
     },
     "metadata": {},
     "output_type": "display_data"
    }
   ],
   "source": [
    "typeof(Real) |> display\n",
    "(Real isa DataType) |> display\n",
    "(Real isa Type) |> display\n",
    "typeof(DataType) |> display\n"
   ]
  },
  {
   "cell_type": "code",
   "execution_count": 98,
   "metadata": {},
   "outputs": [
    {
     "name": "stdout",
     "output_type": "stream",
     "text": [
      "\n",
      "Any, DataType\n",
      "  = Any\n",
      "\n",
      "Type, UnionAll\n",
      "  = Type\n",
      "\n",
      "UnionAll, DataType\n",
      "  = UnionAll\n",
      "\n",
      "Union, DataType\n",
      "  = Union\n",
      "\n",
      "Core.TypeofBottom, DataType\n",
      "  = Core.TypeofBottom\n",
      "\n",
      "DataType, DataType\n",
      "  = DataType\n"
     ]
    }
   ],
   "source": [
    "@logt Any Type UnionAll Union Core.TypeofBottom DataType \n",
    "# Core.TypeofBottom, 没有Core.的话, 报错说 Main 没有 TypeofBottom"
   ]
  },
  {
   "cell_type": "code",
   "execution_count": 2,
   "metadata": {},
   "outputs": [
    {
     "name": "stdout",
     "output_type": "stream",
     "text": [
      "\n",
      "3, Int64\n",
      "  = 3\n",
      "\n",
      "Int64, DataType\n",
      "  = Int64\n",
      "\n",
      "Integer, DataType\n",
      "  = Integer\n",
      "\n",
      "Real, DataType\n",
      "  = Real\n",
      "\n",
      "1 + 2im, Complex{Int64}\n",
      "  = 1 + 2im\n",
      "\n",
      "Complex, UnionAll\n",
      "  = Complex\n"
     ]
    }
   ],
   "source": [
    "@logt 3 Int64 Integer Real 1+2im Complex"
   ]
  },
  {
   "cell_type": "code",
   "execution_count": 95,
   "metadata": {},
   "outputs": [
    {
     "data": {
      "text/plain": [
       "DataType"
      ]
     },
     "metadata": {},
     "output_type": "display_data"
    },
    {
     "data": {
      "text/plain": [
       "UnionAll"
      ]
     },
     "metadata": {},
     "output_type": "display_data"
    },
    {
     "data": {
      "text/plain": [
       "true"
      ]
     },
     "metadata": {},
     "output_type": "display_data"
    }
   ],
   "source": [
    "typeof(Int64) |> display\n",
    "typeof(Type) |> display\n",
    "(UnionAll <: Type) |> display"
   ]
  },
  {
   "cell_type": "code",
   "execution_count": 97,
   "metadata": {},
   "outputs": [
    {
     "data": {
      "text/plain": [
       "true"
      ]
     },
     "metadata": {},
     "output_type": "display_data"
    },
    {
     "data": {
      "text/plain": [
       "true"
      ]
     },
     "metadata": {},
     "output_type": "display_data"
    },
    {
     "data": {
      "text/plain": [
       "true"
      ]
     },
     "metadata": {},
     "output_type": "display_data"
    },
    {
     "data": {
      "text/plain": [
       "false"
      ]
     },
     "metadata": {},
     "output_type": "display_data"
    }
   ],
   "source": [
    "(Type isa UnionAll) |> display\n",
    "(Type isa Type) |> display\n",
    "(UnionAll isa DataType) |> display\n",
    "(UnionAll <: DataType) |> display"
   ]
  },
  {
   "cell_type": "code",
   "execution_count": 190,
   "metadata": {},
   "outputs": [
    {
     "name": "stdout",
     "output_type": "stream",
     "text": [
      "\n",
      "Module, DataType\n",
      "  = Module\n",
      "\n",
      "LineNumberNode, DataType\n",
      "  = LineNumberNode\n",
      "\n",
      "Symbol, DataType\n",
      "  = Symbol\n",
      "\n",
      "AbstractString, DataType\n",
      "  = AbstractString\n",
      "\n",
      "AbstractArray, UnionAll\n",
      "  = AbstractArray\n",
      "\n",
      "DenseMatrix, UnionAll\n",
      "  = DenseMatrix\n",
      "\n",
      "Dict, UnionAll\n",
      "  = Dict\n",
      "\n",
      "Pair, UnionAll\n",
      "  = Pair\n"
     ]
    }
   ],
   "source": [
    "@logt Module LineNumberNode Symbol AbstractString AbstractArray DenseMatrix Dict Pair"
   ]
  },
  {
   "cell_type": "code",
   "execution_count": 52,
   "metadata": {},
   "outputs": [
    {
     "data": {
      "text/plain": [
       "Int64"
      ]
     },
     "metadata": {},
     "output_type": "display_data"
    },
    {
     "name": "stdout",
     "output_type": "stream",
     "text": [
      "\n",
      "num_int, Int64\n",
      "  = 3\n"
     ]
    },
    {
     "data": {
      "text/plain": [
       "3"
      ]
     },
     "metadata": {},
     "output_type": "display_data"
    }
   ],
   "source": [
    "num_int = 3\n",
    "num_int |> typeof |> display\n",
    "@logt num_int\n",
    "num_int |> typeof\n",
    "num_int"
   ]
  },
  {
   "cell_type": "code",
   "execution_count": 33,
   "metadata": {},
   "outputs": [
    {
     "data": {
      "text/plain": [
       "true"
      ]
     },
     "metadata": {},
     "output_type": "display_data"
    },
    {
     "data": {
      "text/plain": [
       "true"
      ]
     },
     "metadata": {},
     "output_type": "display_data"
    },
    {
     "data": {
      "text/plain": [
       "false"
      ]
     },
     "metadata": {},
     "output_type": "display_data"
    },
    {
     "data": {
      "text/plain": [
       "true"
      ]
     },
     "metadata": {},
     "output_type": "display_data"
    },
    {
     "data": {
      "text/plain": [
       "DataType"
      ]
     },
     "metadata": {},
     "output_type": "display_data"
    }
   ],
   "source": [
    "(num_int isa Int64) |> display\n",
    "(num_int isa Real) |> display\n",
    "(Int64 isa Real) |> display\n",
    "(Int64 <: Real) |> display\n",
    "typeof(Int64) |> display"
   ]
  },
  {
   "cell_type": "code",
   "execution_count": 36,
   "metadata": {},
   "outputs": [
    {
     "data": {
      "text/plain": [
       "false"
      ]
     },
     "metadata": {},
     "output_type": "display_data"
    },
    {
     "data": {
      "text/plain": [
       "true"
      ]
     },
     "metadata": {},
     "output_type": "display_data"
    },
    {
     "data": {
      "text/plain": [
       "false"
      ]
     },
     "metadata": {},
     "output_type": "display_data"
    },
    {
     "data": {
      "text/plain": [
       "true"
      ]
     },
     "metadata": {},
     "output_type": "display_data"
    }
   ],
   "source": [
    "isabstracttype(Int64) |> display\n",
    "isabstracttype(Real) |> display\n",
    "isabstracttype(DataType) |> display\n",
    "isabstracttype(Type) |> display"
   ]
  },
  {
   "cell_type": "code",
   "execution_count": 106,
   "metadata": {},
   "outputs": [
    {
     "data": {
      "text/plain": [
       "true"
      ]
     },
     "metadata": {},
     "output_type": "display_data"
    },
    {
     "data": {
      "text/plain": [
       "true"
      ]
     },
     "metadata": {},
     "output_type": "display_data"
    },
    {
     "data": {
      "text/plain": [
       "true"
      ]
     },
     "metadata": {},
     "output_type": "display_data"
    }
   ],
   "source": [
    "(DataType <: Type <: Any) |> display\n",
    "(DataType <: Type ) |> display\n",
    "(DataType <: Any ) |> display"
   ]
  },
  {
   "cell_type": "code",
   "execution_count": 3,
   "metadata": {},
   "outputs": [
    {
     "data": {
      "text/plain": [
       "true"
      ]
     },
     "metadata": {},
     "output_type": "display_data"
    },
    {
     "data": {
      "text/plain": [
       "true"
      ]
     },
     "metadata": {},
     "output_type": "display_data"
    }
   ],
   "source": [
    "(Integer <: Number) |> display # 可以跨级\n",
    "(Int64 <: Integer <: Number <:Any) |> display"
   ]
  },
  {
   "cell_type": "code",
   "execution_count": 117,
   "metadata": {},
   "outputs": [
    {
     "data": {
      "text/plain": [
       "false"
      ]
     },
     "metadata": {},
     "output_type": "display_data"
    },
    {
     "ename": "TypeError",
     "evalue": "TypeError: in <:, expected Type, got a value of type Int64",
     "output_type": "error",
     "traceback": [
      "TypeError: in <:, expected Type, got a value of type Int64\n",
      "\n",
      "Stacktrace:\n",
      " [1] top-level scope\n",
      "   @ e:\\Projects.jl\\Training.jl\\struct\\jl_notebook_cell_df34fa98e69747e1a8f8a730347b8e2f_Y142sZmlsZQ==.jl:3"
     ]
    }
   ],
   "source": [
    "(Int64 <: DataType) |> display  \n",
    "# Int64本身的类型 是一种DataType,但Int64本身即自己(value)\"Int64\"为某种type,不在Type链条\n",
    "\n",
    "(10 <: Int64) |> display # <:为type之间"
   ]
  },
  {
   "cell_type": "code",
   "execution_count": 14,
   "metadata": {},
   "outputs": [
    {
     "data": {
      "text/plain": [
       "Any"
      ]
     },
     "metadata": {},
     "output_type": "display_data"
    },
    {
     "data": {
      "text/plain": [
       "DataType"
      ]
     },
     "metadata": {},
     "output_type": "display_data"
    },
    {
     "data": {
      "text/plain": [
       "Student"
      ]
     },
     "metadata": {},
     "output_type": "display_data"
    }
   ],
   "source": [
    "struct Student\n",
    "    name\n",
    "    age::Int\n",
    "    score::Float64\n",
    "end\n",
    "supertype(Student) |> display  # type链\n",
    "typeof(Student) |> display\n",
    "s1 = Student(\"张三\", 18, 89.9)\n",
    "typeof(s1) |> display"
   ]
  },
  {
   "cell_type": "code",
   "execution_count": 20,
   "metadata": {},
   "outputs": [
    {
     "data": {
      "text/plain": [
       "Any"
      ]
     },
     "metadata": {},
     "output_type": "display_data"
    },
    {
     "data": {
      "text/plain": [
       "UnionAll"
      ]
     },
     "metadata": {},
     "output_type": "display_data"
    },
    {
     "data": {
      "text/plain": [
       "Student2{String, Int64, Float64}"
      ]
     },
     "metadata": {},
     "output_type": "display_data"
    }
   ],
   "source": [
    "struct Student2{T1<:String, T2<:Int, T3<:Real}\n",
    "    name::T1\n",
    "    age::T2\n",
    "    score::T3\n",
    "end\n",
    "supertype(Student2) |> display\n",
    "typeof(Student2) |> display\n",
    "s2 = Student2(\"张三\", 18, 89.9)\n",
    "typeof(s2) |> display"
   ]
  },
  {
   "cell_type": "code",
   "execution_count": 163,
   "metadata": {},
   "outputs": [
    {
     "ename": "ErrorException",
     "evalue": "invalid subtyping in definition of Student3: cannot add subtypes to Type.",
     "output_type": "error",
     "traceback": [
      "invalid subtyping in definition of Student3: cannot add subtypes to Type.\n",
      "\n",
      "Stacktrace:\n",
      " [1] top-level scope\n",
      "   @ e:\\Projects.jl\\Training.jl\\struct\\jl_notebook_cell_df34fa98e69747e1a8f8a730347b8e2f_Y143sZmlsZQ==.jl:1"
     ]
    }
   ],
   "source": [
    "struct Student3{T1<:String, T2<:Int, T3<:Real} <: DataType \n",
    "    # <: 不能是Type链条的type, 比如 DataType, Type都不行, Any不专属Type 是可以的(无意义)\n",
    "    name::T1\n",
    "    age::T2\n",
    "    score::T3\n",
    "end"
   ]
  },
  {
   "cell_type": "code",
   "execution_count": 5,
   "metadata": {},
   "outputs": [
    {
     "data": {
      "text/plain": [
       "Any"
      ]
     },
     "metadata": {},
     "output_type": "display_data"
    },
    {
     "data": {
      "text/plain": [
       "UnionAll"
      ]
     },
     "metadata": {},
     "output_type": "display_data"
    },
    {
     "data": {
      "text/plain": [
       "true"
      ]
     },
     "metadata": {},
     "output_type": "display_data"
    }
   ],
   "source": [
    "struct Student4{T}\n",
    "    name::T\n",
    "    age::Int\n",
    "    score::Real\n",
    "end\n",
    "supertype(Student4) |> display\n",
    "s4 = Student4(\"张三\", 18, 89.9)\n",
    "typeof(Student4) |> display\n",
    "(Student4 isa UnionAll) |> display"
   ]
  },
  {
   "cell_type": "code",
   "execution_count": 122,
   "metadata": {},
   "outputs": [],
   "source": [
    "struct Foo\n",
    "    bar\n",
    "    baz::Int\n",
    "    qux::Float64\n",
    "end"
   ]
  },
  {
   "cell_type": "code",
   "execution_count": 123,
   "metadata": {},
   "outputs": [
    {
     "data": {
      "text/plain": [
       "UnionAll"
      ]
     },
     "metadata": {},
     "output_type": "display_data"
    },
    {
     "data": {
      "text/plain": [
       "false"
      ]
     },
     "metadata": {},
     "output_type": "display_data"
    },
    {
     "data": {
      "text/plain": [
       "true"
      ]
     },
     "metadata": {},
     "output_type": "display_data"
    }
   ],
   "source": [
    "struct Foo5{T1, T2, T3}\n",
    "    bar::T1\n",
    "    baz::T2\n",
    "    qux::T3\n",
    "end\n",
    "typeof(Foo5) |> display\n",
    "(Foo5 <: UnionAll) |> display\n",
    "(Foo5 <: Any) |> display"
   ]
  },
  {
   "cell_type": "markdown",
   "metadata": {},
   "source": [
    "+ type是模具, **只有 末梢type 才有实例**\n",
    "<br><br>\n",
    "+ fieldnames: 是 **末梢type** 的字段field, 抽象的type没有, 即 **只有 末梢type 才有fieldnames**\n",
    "+ **末梢type** 的实例, 不是type, 没有field, fieldnames会报错\n",
    "<br><br>\n",
    "+ propertynames：**只有实例的才有property of field**\n",
    "+ 默认情况下，**实例的 fields of property** 与其typeof (**末梢type**) 的fields相同\n",
    "<br><br>\n",
    "+ help?> . : 实例的 property 和 modules的成员 能通过 dot operator (.) 访问\n",
    "+ **末梢type** 的字段field不能通过(.)访问. 非末梢type为抽象type, 没有field\n",
    "+ In general, a.b calls getproperty(a, :b)\n",
    "\n",
    "**julia\\base\\runtime_internals.jl**<br>\n",
    "```julia \n",
    "propertynames(x) = fieldnames(typeof(x))\n",
    "propertynames(m::Module) = names(m)\n",
    "propertynames(x, private::Bool) = propertynames(x) \n",
    "# ignore private flag by default\n",
    "propertynames(x::Array) = () \n",
    "# hide the fields from tab completion to discourage \n",
    "# calling `x.size` instead of `size(x)`, \n",
    "# even though they are equivalent\n",
    "```"
   ]
  },
  {
   "cell_type": "code",
   "execution_count": 6,
   "metadata": {},
   "outputs": [
    {
     "data": {
      "text/plain": [
       "(:first, :second)"
      ]
     },
     "metadata": {},
     "output_type": "display_data"
    },
    {
     "data": {
      "text/plain": [
       "(:slots, :keys, :vals, :ndel, :count, :age, :idxfloor, :maxprobe)"
      ]
     },
     "metadata": {},
     "output_type": "display_data"
    },
    {
     "data": {
      "text/plain": [
       "(:ref, :size)"
      ]
     },
     "metadata": {},
     "output_type": "display_data"
    },
    {
     "data": {
      "text/plain": [
       "()"
      ]
     },
     "metadata": {},
     "output_type": "display_data"
    },
    {
     "ename": "ArgumentError",
     "evalue": "ArgumentError: type does not have a definite number of fields",
     "output_type": "error",
     "traceback": [
      "ArgumentError: type does not have a definite number of fields\n",
      "\n",
      "Stacktrace:\n",
      " [1] fieldcount\n",
      "   @ .\\reflection.jl:1045 [inlined]\n",
      " [2] fieldnames(t::DataType)\n",
      "   @ Base .\\reflection.jl:251\n",
      " [3] top-level scope\n",
      "   @ e:\\Projects.jl\\Training.jl\\struct\\jl_notebook_cell_df34fa98e69747e1a8f8a730347b8e2f_X32sZmlsZQ==.jl:5"
     ]
    }
   ],
   "source": [
    "fieldnames(Pair) |> display # 复合数据\n",
    "fieldnames(Dict) |> display\n",
    "fieldnames(Vector) |> display\n",
    "fieldnames(Int64) |> display\n",
    "fieldnames(Integer) |> display # 抽象的没有"
   ]
  },
  {
   "cell_type": "code",
   "execution_count": 7,
   "metadata": {},
   "outputs": [
    {
     "ename": "ArgumentError",
     "evalue": "ArgumentError: type does not have a definite number of fields",
     "output_type": "error",
     "traceback": [
      "ArgumentError: type does not have a definite number of fields\n",
      "\n",
      "Stacktrace:\n",
      " [1] fieldcount\n",
      "   @ .\\reflection.jl:1045 [inlined]\n",
      " [2] fieldnames(t::DataType)\n",
      "   @ Base .\\reflection.jl:251\n",
      " [3] fieldnames(t::UnionAll)\n",
      "   @ Base .\\reflection.jl:253\n",
      " [4] top-level scope\n",
      "   @ e:\\Projects.jl\\Training.jl\\struct\\jl_notebook_cell_df34fa98e69747e1a8f8a730347b8e2f_X33sZmlsZQ==.jl:1"
     ]
    }
   ],
   "source": [
    "fieldnames(DenseVector) |> display"
   ]
  },
  {
   "cell_type": "code",
   "execution_count": 53,
   "metadata": {},
   "outputs": [
    {
     "data": {
      "text/plain": [
       "()"
      ]
     },
     "metadata": {},
     "output_type": "display_data"
    },
    {
     "data": {
      "text/plain": [
       "Int64"
      ]
     },
     "metadata": {},
     "output_type": "display_data"
    },
    {
     "data": {
      "text/plain": [
       "()"
      ]
     },
     "metadata": {},
     "output_type": "display_data"
    },
    {
     "ename": "MethodError",
     "evalue": "MethodError: no method matching fieldnames(::Int64)\nThe function `fieldnames` exists, but no method is defined for this combination of argument types.\n\nClosest candidates are:\n  fieldnames(!Matched::Core.TypeofBottom)\n   @ Base reflection.jl:254\n  fieldnames(!Matched::Type{<:Tuple})\n   @ Base reflection.jl:256\n  fieldnames(!Matched::UnionAll)\n   @ Base reflection.jl:253\n  ...\n",
     "output_type": "error",
     "traceback": [
      "MethodError: no method matching fieldnames(::Int64)\n",
      "The function `fieldnames` exists, but no method is defined for this combination of argument types.\n",
      "\n",
      "Closest candidates are:\n",
      "  fieldnames(!Matched::Core.TypeofBottom)\n",
      "   @ Base reflection.jl:254\n",
      "  fieldnames(!Matched::Type{<:Tuple})\n",
      "   @ Base reflection.jl:256\n",
      "  fieldnames(!Matched::UnionAll)\n",
      "   @ Base reflection.jl:253\n",
      "  ...\n",
      "\n",
      "\n",
      "Stacktrace:\n",
      " [1] top-level scope\n",
      "   @ e:\\Projects.jl\\Training.jl\\struct\\jl_notebook_cell_df34fa98e69747e1a8f8a730347b8e2f_X34sZmlsZQ==.jl:4"
     ]
    }
   ],
   "source": [
    "propertynames(num_int) |> display\n",
    "typeof(num_int) |> display\n",
    "fieldnames(typeof(num_int)) |> display\n",
    "fieldnames(num_int) |> display # 实例没有field, 是有末梢type才有"
   ]
  },
  {
   "cell_type": "code",
   "execution_count": 131,
   "metadata": {},
   "outputs": [
    {
     "data": {
      "text/plain": [
       "typeof(+) (singleton type of function +, subtype of Function)"
      ]
     },
     "metadata": {},
     "output_type": "display_data"
    }
   ],
   "source": [
    "typeof(+)  # 可以展示 + 的Julia源码"
   ]
  },
  {
   "cell_type": "code",
   "execution_count": 55,
   "metadata": {},
   "outputs": [
    {
     "data": {
      "text/plain": [
       "Core.nothing"
      ]
     },
     "metadata": {},
     "output_type": "display_data"
    }
   ],
   "source": [
    "@doc +  # Jupyter不能正常解析doc, 所以下面nothing 就不显示了\n",
    "nothing"
   ]
  },
  {
   "cell_type": "code",
   "execution_count": 9,
   "metadata": {},
   "outputs": [
    {
     "data": {
      "text/plain": [
       "Complex{Int64}"
      ]
     },
     "metadata": {},
     "output_type": "display_data"
    },
    {
     "data": {
      "text/plain": [
       "(:re, :im)"
      ]
     },
     "metadata": {},
     "output_type": "display_data"
    },
    {
     "data": {
      "text/plain": [
       "\"=======\""
      ]
     },
     "metadata": {},
     "output_type": "display_data"
    },
    {
     "data": {
      "text/plain": [
       "(:re, :im)"
      ]
     },
     "metadata": {},
     "output_type": "display_data"
    },
    {
     "data": {
      "text/plain": [
       "1"
      ]
     },
     "metadata": {},
     "output_type": "display_data"
    }
   ],
   "source": [
    "comp = 1 + 2im\n",
    "\n",
    "comp |> typeof |>display\n",
    "fieldnames(typeof(comp)) |> display\n",
    "display(\"=======\")\n",
    "\n",
    "propertynames(comp) |> display\n",
    "comp.re |> display"
   ]
  },
  {
   "cell_type": "code",
   "execution_count": 15,
   "metadata": {},
   "outputs": [
    {
     "data": {
      "text/plain": [
       "UnionAll"
      ]
     },
     "metadata": {},
     "output_type": "display_data"
    },
    {
     "ename": "ErrorException",
     "evalue": "type UnionAll has no field re",
     "output_type": "error",
     "traceback": [
      "type UnionAll has no field re\n",
      "\n",
      "Stacktrace:\n",
      " [1] getproperty(x::Type, f::Symbol)\n",
      "   @ Base .\\Base.jl:43\n",
      " [2] top-level scope\n",
      "   @ e:\\Projects.jl\\Training.jl\\struct\\jl_notebook_cell_df34fa98e69747e1a8f8a730347b8e2f_X41sZmlsZQ==.jl:6"
     ]
    }
   ],
   "source": [
    "# \\julia\\base\\boot.jl有很多结构体的定义\n",
    "\n",
    "typeof(Complex) |> display \n",
    "# Complex是 UnionAll的实例，即type Complex 的typeof 为 Type下UnionAll\n",
    "\n",
    "Complex.re"
   ]
  },
  {
   "cell_type": "code",
   "execution_count": 11,
   "metadata": {},
   "outputs": [
    {
     "data": {
      "text/plain": [
       "(:var, :body)"
      ]
     },
     "metadata": {},
     "output_type": "display_data"
    },
    {
     "data": {
      "text/plain": [
       "T<:Real"
      ]
     },
     "metadata": {},
     "output_type": "display_data"
    },
    {
     "data": {
      "text/plain": [
       "Complex{T<:Real}"
      ]
     },
     "metadata": {},
     "output_type": "display_data"
    }
   ],
   "source": [
    "fieldnames(UnionAll) |> display\n",
    "Complex.var |> display\n",
    "Complex.body |> display"
   ]
  },
  {
   "cell_type": "code",
   "execution_count": 16,
   "metadata": {},
   "outputs": [
    {
     "data": {
      "text/plain": [
       "true"
      ]
     },
     "metadata": {},
     "output_type": "display_data"
    },
    {
     "data": {
      "text/plain": [
       "true"
      ]
     },
     "metadata": {},
     "output_type": "display_data"
    },
    {
     "data": {
      "text/plain": [
       "false"
      ]
     },
     "metadata": {},
     "output_type": "display_data"
    }
   ],
   "source": [
    "(Complex isa UnionAll) |> display\n",
    "(Complex <: Number) |> display\n",
    "(Complex isa Number) |> display"
   ]
  },
  {
   "cell_type": "code",
   "execution_count": 17,
   "metadata": {},
   "outputs": [
    {
     "data": {
      "text/plain": [
       "DataType"
      ]
     },
     "metadata": {},
     "output_type": "display_data"
    },
    {
     "data": {
      "text/plain": [
       "false"
      ]
     },
     "metadata": {},
     "output_type": "display_data"
    },
    {
     "data": {
      "text/plain": [
       "true"
      ]
     },
     "metadata": {},
     "output_type": "display_data"
    }
   ],
   "source": [
    "typeof(Student) |> display\n",
    "(Student <: DataType) |> display\n",
    "(Student <: Any) |> display"
   ]
  },
  {
   "cell_type": "code",
   "execution_count": 18,
   "metadata": {},
   "outputs": [
    {
     "data": {
      "text/plain": [
       "true"
      ]
     },
     "metadata": {},
     "output_type": "display_data"
    },
    {
     "data": {
      "text/plain": [
       "true"
      ]
     },
     "metadata": {},
     "output_type": "display_data"
    },
    {
     "data": {
      "text/plain": [
       "true"
      ]
     },
     "metadata": {},
     "output_type": "display_data"
    }
   ],
   "source": [
    "(Student isa DataType) |> display\n",
    "(Student isa Type) |> display\n",
    "(Student isa Any) |> display"
   ]
  },
  {
   "cell_type": "code",
   "execution_count": 21,
   "metadata": {},
   "outputs": [
    {
     "data": {
      "text/plain": [
       "UnionAll"
      ]
     },
     "metadata": {},
     "output_type": "display_data"
    },
    {
     "data": {
      "text/plain": [
       "true"
      ]
     },
     "metadata": {},
     "output_type": "display_data"
    },
    {
     "data": {
      "text/plain": [
       "false"
      ]
     },
     "metadata": {},
     "output_type": "display_data"
    }
   ],
   "source": [
    "typeof(Student2) |> display\n",
    "(Student2 isa UnionAll) |> display\n",
    "(Student2 <: UnionAll) |> display"
   ]
  },
  {
   "cell_type": "code",
   "execution_count": 22,
   "metadata": {},
   "outputs": [
    {
     "data": {
      "text/plain": [
       "false"
      ]
     },
     "metadata": {},
     "output_type": "display_data"
    },
    {
     "data": {
      "text/plain": [
       "DataType"
      ]
     },
     "metadata": {},
     "output_type": "display_data"
    },
    {
     "data": {
      "text/plain": [
       "true"
      ]
     },
     "metadata": {},
     "output_type": "display_data"
    },
    {
     "data": {
      "text/plain": [
       "true"
      ]
     },
     "metadata": {},
     "output_type": "display_data"
    }
   ],
   "source": [
    "isabstracttype(UnionAll) |> display\n",
    "typeof(UnionAll) |> display\n",
    "\n",
    "(UnionAll isa DataType) |> display\n",
    "(UnionAll isa Type) |> display"
   ]
  },
  {
   "cell_type": "code",
   "execution_count": 23,
   "metadata": {},
   "outputs": [
    {
     "data": {
      "text/plain": [
       "false"
      ]
     },
     "metadata": {},
     "output_type": "display_data"
    },
    {
     "data": {
      "text/plain": [
       "true"
      ]
     },
     "metadata": {},
     "output_type": "display_data"
    },
    {
     "data": {
      "text/plain": [
       "false"
      ]
     },
     "metadata": {},
     "output_type": "display_data"
    },
    {
     "data": {
      "text/plain": [
       "true"
      ]
     },
     "metadata": {},
     "output_type": "display_data"
    }
   ],
   "source": [
    "(Integer isa Real) |> display\n",
    "(Integer isa DataType) |> display\n",
    "(Int64 isa Real) |> display\n",
    "(3.5 isa Real) |> display  # 末梢type的实例 才有 isa"
   ]
  },
  {
   "cell_type": "code",
   "execution_count": 24,
   "metadata": {},
   "outputs": [
    {
     "data": {
      "text/plain": [
       "DataType"
      ]
     },
     "metadata": {},
     "output_type": "display_data"
    },
    {
     "data": {
      "text/plain": [
       "DataType"
      ]
     },
     "metadata": {},
     "output_type": "display_data"
    },
    {
     "data": {
      "text/plain": [
       "(:name, :super, :parameters, :types, :instance, :layout, :hash, :flags)"
      ]
     },
     "metadata": {},
     "output_type": "display_data"
    },
    {
     "data": {
      "text/plain": [
       "(:name, :super, :parameters, :types, :instance, :layout, :hash, :flags)"
      ]
     },
     "metadata": {},
     "output_type": "display_data"
    }
   ],
   "source": [
    "# type有其type(即Type), Type(此时为实例)还有其type\n",
    "typeof(UnionAll) |> display\n",
    "typeof(DataType) |> display\n",
    "\n",
    "propertynames(UnionAll) |> display\n",
    "propertynames(DataType) |> display"
   ]
  },
  {
   "cell_type": "code",
   "execution_count": 25,
   "metadata": {},
   "outputs": [
    {
     "data": {
      "text/plain": [
       "(:name, :super, :parameters, :types, :instance, :layout, :hash, :flags)"
      ]
     },
     "metadata": {},
     "output_type": "display_data"
    },
    {
     "data": {
      "text/plain": [
       "(:var, :body)"
      ]
     },
     "metadata": {},
     "output_type": "display_data"
    }
   ],
   "source": [
    "fieldnames(DataType) |> display\n",
    "fieldnames(UnionAll) |> display\n"
   ]
  },
  {
   "cell_type": "code",
   "execution_count": 28,
   "metadata": {},
   "outputs": [
    {
     "data": {
      "text/plain": [
       "UnionAll"
      ]
     },
     "metadata": {},
     "output_type": "display_data"
    },
    {
     "data": {
      "text/plain": [
       "(:var, :body)"
      ]
     },
     "metadata": {},
     "output_type": "display_data"
    },
    {
     "ename": "ArgumentError",
     "evalue": "ArgumentError: type does not have a definite number of fields",
     "output_type": "error",
     "traceback": [
      "ArgumentError: type does not have a definite number of fields\n",
      "\n",
      "Stacktrace:\n",
      " [1] fieldcount\n",
      "   @ .\\reflection.jl:1045 [inlined]\n",
      " [2] fieldnames(t::DataType)\n",
      "   @ Base .\\reflection.jl:251\n",
      " [3] fieldnames(t::UnionAll)\n",
      "   @ Base .\\reflection.jl:253\n",
      " [4] top-level scope\n",
      "   @ e:\\Projects.jl\\Training.jl\\struct\\jl_notebook_cell_df34fa98e69747e1a8f8a730347b8e2f_X54sZmlsZQ==.jl:3"
     ]
    }
   ],
   "source": [
    "typeof(Type) |> display  # Type看成实例\n",
    "propertynames(Type) |> display\n",
    "fieldnames(Type) |> display # 抽象type没有fields"
   ]
  },
  {
   "cell_type": "code",
   "execution_count": 29,
   "metadata": {},
   "outputs": [
    {
     "data": {
      "text/plain": [
       "(:name, :age, :score)"
      ]
     },
     "metadata": {},
     "output_type": "display_data"
    },
    {
     "data": {
      "text/plain": [
       "(:name, :age, :score)"
      ]
     },
     "metadata": {},
     "output_type": "display_data"
    },
    {
     "data": {
      "text/plain": [
       "Student"
      ]
     },
     "metadata": {},
     "output_type": "display_data"
    },
    {
     "data": {
      "text/plain": [
       "\"张三\""
      ]
     },
     "metadata": {},
     "output_type": "display_data"
    },
    {
     "ename": "MethodError",
     "evalue": "MethodError: no method matching fieldnames(::Student)\nThe function `fieldnames` exists, but no method is defined for this combination of argument types.\n\nClosest candidates are:\n  fieldnames(!Matched::Core.TypeofBottom)\n   @ Base reflection.jl:254\n  fieldnames(!Matched::Type{<:Tuple})\n   @ Base reflection.jl:256\n  fieldnames(!Matched::UnionAll)\n   @ Base reflection.jl:253\n  ...\n",
     "output_type": "error",
     "traceback": [
      "MethodError: no method matching fieldnames(::Student)\n",
      "The function `fieldnames` exists, but no method is defined for this combination of argument types.\n",
      "\n",
      "Closest candidates are:\n",
      "  fieldnames(!Matched::Core.TypeofBottom)\n",
      "   @ Base reflection.jl:254\n",
      "  fieldnames(!Matched::Type{<:Tuple})\n",
      "   @ Base reflection.jl:256\n",
      "  fieldnames(!Matched::UnionAll)\n",
      "   @ Base reflection.jl:253\n",
      "  ...\n",
      "\n",
      "\n",
      "Stacktrace:\n",
      " [1] top-level scope\n",
      "   @ e:\\Projects.jl\\Training.jl\\struct\\jl_notebook_cell_df34fa98e69747e1a8f8a730347b8e2f_X55sZmlsZQ==.jl:6"
     ]
    }
   ],
   "source": [
    "fieldnames(Student) |> display  # Student为末梢type\n",
    "propertynames(s1) |> display\n",
    "typeof(s1) |> display\n",
    "s1.name |> display\n",
    "\n",
    "fieldnames(s1) # 实例不适用, fieldnames只能对 末梢type"
   ]
  },
  {
   "cell_type": "code",
   "execution_count": 31,
   "metadata": {},
   "outputs": [
    {
     "data": {
      "text/plain": [
       "DataType"
      ]
     },
     "metadata": {},
     "output_type": "display_data"
    },
    {
     "data": {
      "text/plain": [
       "(:name, :super, :parameters, :types, :instance, :layout, :hash, :flags)"
      ]
     },
     "metadata": {},
     "output_type": "display_data"
    },
    {
     "data": {
      "text/plain": [
       "(:name, :age, :score)"
      ]
     },
     "metadata": {},
     "output_type": "display_data"
    }
   ],
   "source": [
    "Student |> typeof |> display\n",
    "fieldnames(typeof(Student)) |> display\n",
    "fieldnames(Student) |> display"
   ]
  },
  {
   "cell_type": "code",
   "execution_count": 32,
   "metadata": {},
   "outputs": [
    {
     "data": {
      "text/plain": [
       "(:name, :super, :parameters, :types, :instance, :layout, :hash, :flags)"
      ]
     },
     "metadata": {},
     "output_type": "display_data"
    },
    {
     "data": {
      "text/plain": [
       "typename(Student)"
      ]
     },
     "metadata": {},
     "output_type": "display_data"
    },
    {
     "ename": "ErrorException",
     "evalue": "type DataType has no field age",
     "output_type": "error",
     "traceback": [
      "type DataType has no field age\n",
      "\n",
      "Stacktrace:\n",
      " [1] getproperty(x::Type, f::Symbol)\n",
      "   @ Base .\\Base.jl:43\n",
      " [2] top-level scope\n",
      "   @ e:\\Projects.jl\\Training.jl\\struct\\jl_notebook_cell_df34fa98e69747e1a8f8a730347b8e2f_X60sZmlsZQ==.jl:3"
     ]
    }
   ],
   "source": [
    "propertynames(Student) |> display # Student是DataType的实例\n",
    "Student.name  |> display \n",
    "Student.age  |> display # 不能通过 . 取field\n"
   ]
  },
  {
   "cell_type": "code",
   "execution_count": 33,
   "metadata": {},
   "outputs": [
    {
     "data": {
      "text/plain": [
       "f1 (generic function with 1 method)"
      ]
     },
     "metadata": {},
     "output_type": "display_data"
    }
   ],
   "source": [
    "struct Pos{T}\n",
    "    x::T\n",
    "    y::T\n",
    "    z::T\n",
    "end\n",
    "function f1(p::Pos{T} where T<:Real)\n",
    "    p\n",
    "end"
   ]
  },
  {
   "cell_type": "code",
   "execution_count": 34,
   "metadata": {},
   "outputs": [
    {
     "data": {
      "text/plain": [
       "UnionAll"
      ]
     },
     "metadata": {},
     "output_type": "display_data"
    },
    {
     "data": {
      "text/plain": [
       "(:x, :y, :z)"
      ]
     },
     "metadata": {},
     "output_type": "display_data"
    },
    {
     "data": {
      "text/plain": [
       "T"
      ]
     },
     "metadata": {},
     "output_type": "display_data"
    },
    {
     "data": {
      "text/plain": [
       "Pos{T}"
      ]
     },
     "metadata": {},
     "output_type": "display_data"
    },
    {
     "ename": "ErrorException",
     "evalue": "type UnionAll has no field x",
     "output_type": "error",
     "traceback": [
      "type UnionAll has no field x\n",
      "\n",
      "Stacktrace:\n",
      " [1] getproperty(x::Type, f::Symbol)\n",
      "   @ Base .\\Base.jl:43\n",
      " [2] top-level scope\n",
      "   @ e:\\Projects.jl\\Training.jl\\struct\\jl_notebook_cell_df34fa98e69747e1a8f8a730347b8e2f_X62sZmlsZQ==.jl:5"
     ]
    }
   ],
   "source": [
    "typeof(Pos) |> display\n",
    "fieldnames(Pos) |> display\n",
    "Pos.var |> display  # 点是取属性get_property, Pos的属性field是UnionAll的field\n",
    "Pos.body |> display\n",
    "Pos.x  #  末梢type 不能通过.取它自己struct的field"
   ]
  },
  {
   "cell_type": "code",
   "execution_count": 57,
   "metadata": {},
   "outputs": [
    {
     "name": "stderr",
     "output_type": "stream",
     "text": [
      "WARNING: replacing module Mdl.\n"
     ]
    },
    {
     "data": {
      "text/plain": [
       "Main.Mdl"
      ]
     },
     "metadata": {},
     "output_type": "display_data"
    }
   ],
   "source": [
    "module Mdl\n",
    "\n",
    "    mutable struct Student  # 没有这个的话 报错，说Mdl没有Student, module是独立变量空间\n",
    "        name\n",
    "        age::Int\n",
    "        score::Float64\n",
    "    end\n",
    "\n",
    "    desc = \"student info processing\"\n",
    "    function get_score_level(s::Student)\n",
    "        if s.score >= 90\n",
    "            s.score = s.score + 2\n",
    "            display(\"优秀, 奖励2分\")\n",
    "        else\n",
    "            display(\"请继续努力\")\n",
    "        end\n",
    "    end\n",
    "end"
   ]
  },
  {
   "cell_type": "code",
   "execution_count": 39,
   "metadata": {},
   "outputs": [],
   "source": [
    "using .Mdl"
   ]
  },
  {
   "cell_type": "code",
   "execution_count": 40,
   "metadata": {},
   "outputs": [
    {
     "data": {
      "text/plain": [
       "Module"
      ]
     },
     "metadata": {},
     "output_type": "display_data"
    },
    {
     "data": {
      "text/plain": [
       "DataType"
      ]
     },
     "metadata": {},
     "output_type": "display_data"
    },
    {
     "data": {
      "text/plain": [
       "()"
      ]
     },
     "metadata": {},
     "output_type": "display_data"
    },
    {
     "data": {
      "text/plain": [
       "(:name, :super, :parameters, :types, :instance, :layout, :hash, :flags)"
      ]
     },
     "metadata": {},
     "output_type": "display_data"
    },
    {
     "data": {
      "text/plain": [
       "(:name, :super, :parameters, :types, :instance, :layout, :hash, :flags)"
      ]
     },
     "metadata": {},
     "output_type": "display_data"
    }
   ],
   "source": [
    "# fieldnames(Mdl) |> display # 错误\n",
    "mdl_type = typeof(Mdl)  # mdl_type 为Module\n",
    "\n",
    "mdl_type |> display\n",
    "typeof(mdl_type) |> display  # Module的type为DataType\n",
    "fieldnames(mdl_type) |> display\n",
    "fieldnames(DataType) |> display\n",
    "propertynames(DataType) |> display"
   ]
  },
  {
   "cell_type": "code",
   "execution_count": 41,
   "metadata": {},
   "outputs": [
    {
     "name": "stdout",
     "output_type": "stream",
     "text": [
      "\n",
      "DataType.name, Core.TypeName\n",
      "  = typename(DataType)\n",
      "\n",
      "DataType.parameters, Core.SimpleVector\n",
      "  = svec()\n"
     ]
    }
   ],
   "source": [
    "@logt DataType.name  DataType.parameters"
   ]
  },
  {
   "cell_type": "code",
   "execution_count": 42,
   "metadata": {},
   "outputs": [
    {
     "data": {
      "text/plain": [
       "1-element Vector{Symbol}:\n",
       " :Mdl"
      ]
     },
     "metadata": {},
     "output_type": "display_data"
    },
    {
     "data": {
      "text/plain": [
       "()"
      ]
     },
     "metadata": {},
     "output_type": "display_data"
    },
    {
     "data": {
      "text/plain": [
       "1-element Vector{Symbol}:\n",
       " :Mdl"
      ]
     },
     "metadata": {},
     "output_type": "display_data"
    }
   ],
   "source": [
    "propertynames(Mdl) |> display\n",
    "fieldnames(Module) |> display\n",
    "names(Mdl) |> display"
   ]
  },
  {
   "cell_type": "code",
   "execution_count": 43,
   "metadata": {},
   "outputs": [
    {
     "data": {
      "text/plain": [
       "9-element Vector{Symbol}:\n",
       " Symbol(\"#eval\")\n",
       " Symbol(\"#get_score_level\")\n",
       " Symbol(\"#include\")\n",
       " :Mdl\n",
       " :Student\n",
       " :desc\n",
       " :eval\n",
       " :get_score_level\n",
       " :include"
      ]
     },
     "metadata": {},
     "output_type": "display_data"
    },
    {
     "data": {
      "text/plain": [
       "9-element Vector{Symbol}:\n",
       " Symbol(\"#eval\")\n",
       " Symbol(\"#get_score_level\")\n",
       " Symbol(\"#include\")\n",
       " :Mdl\n",
       " :Student\n",
       " :desc\n",
       " :eval\n",
       " :get_score_level\n",
       " :include"
      ]
     },
     "metadata": {},
     "output_type": "display_data"
    }
   ],
   "source": [
    "names(Mdl, all=true) |> display\n",
    "names(Mdl, all=true, imported=true) |> display"
   ]
  },
  {
   "cell_type": "code",
   "execution_count": 45,
   "metadata": {},
   "outputs": [
    {
     "data": {
      "text/plain": [
       "\"student info processing\""
      ]
     },
     "metadata": {},
     "output_type": "display_data"
    },
    {
     "data": {
      "text/plain": [
       "\"优秀, 奖励2分\""
      ]
     },
     "metadata": {},
     "output_type": "display_data"
    },
    {
     "data": {
      "text/plain": [
       "97.5"
      ]
     },
     "metadata": {},
     "output_type": "display_data"
    }
   ],
   "source": [
    "Mdl.desc |> display\n",
    "s = Mdl.Student(\"张三\", 18, 95.5)\n",
    "Mdl.get_score_level(s)\n",
    "s.score"
   ]
  },
  {
   "cell_type": "code",
   "execution_count": 46,
   "metadata": {},
   "outputs": [
    {
     "data": {
      "text/plain": [
       "()"
      ]
     },
     "metadata": {},
     "output_type": "display_data"
    },
    {
     "data": {
      "text/plain": [
       "(:ref, :size)"
      ]
     },
     "metadata": {},
     "output_type": "display_data"
    },
    {
     "data": {
      "text/plain": [
       "(:re, :im)"
      ]
     },
     "metadata": {},
     "output_type": "display_data"
    },
    {
     "data": {
      "text/plain": [
       "(:name, :age, :score)"
      ]
     },
     "metadata": {},
     "output_type": "display_data"
    }
   ],
   "source": [
    "fieldnames(Int64) |> display\n",
    "fieldnames(Array) |> display\n",
    "fieldnames(Complex) |> display\n",
    "fieldnames(Student) |> display"
   ]
  },
  {
   "cell_type": "code",
   "execution_count": 47,
   "metadata": {},
   "outputs": [
    {
     "data": {
      "text/plain": [
       "(:name, :super, :parameters, :types, :instance, :layout, :hash, :flags)"
      ]
     },
     "metadata": {},
     "output_type": "display_data"
    },
    {
     "data": {
      "text/plain": [
       "(:var, :body)"
      ]
     },
     "metadata": {},
     "output_type": "display_data"
    },
    {
     "data": {
      "text/plain": [
       "(:var, :body)"
      ]
     },
     "metadata": {},
     "output_type": "display_data"
    },
    {
     "data": {
      "text/plain": [
       "(:name, :super, :parameters, :types, :instance, :layout, :hash, :flags)"
      ]
     },
     "metadata": {},
     "output_type": "display_data"
    }
   ],
   "source": [
    "propertynames(Int64) |> display\n",
    "propertynames(Array) |> display\n",
    "propertynames(Complex) |> display\n",
    "propertynames(Student) |> display"
   ]
  },
  {
   "cell_type": "code",
   "execution_count": 48,
   "metadata": {},
   "outputs": [
    {
     "data": {
      "text/plain": [
       "Any"
      ]
     },
     "metadata": {},
     "output_type": "display_data"
    },
    {
     "data": {
      "text/plain": [
       "true"
      ]
     },
     "metadata": {},
     "output_type": "display_data"
    },
    {
     "data": {
      "text/plain": [
       "DataType"
      ]
     },
     "metadata": {},
     "output_type": "display_data"
    }
   ],
   "source": [
    "supertype(Exception) |> display\n",
    "(Base.IOError <:Exception) |> display  \n",
    "# 需要Base.(IOError没有export) 不然说Main没有IOError\n",
    "\n",
    "typeof(Base.IOError) |> display"
   ]
  },
  {
   "cell_type": "code",
   "execution_count": 49,
   "metadata": {},
   "outputs": [
    {
     "data": {
      "text/plain": [
       "(:msg, :code)"
      ]
     },
     "metadata": {},
     "output_type": "display_data"
    },
    {
     "data": {
      "text/plain": [
       "(:name, :super, :parameters, :types, :instance, :layout, :hash, :flags)"
      ]
     },
     "metadata": {},
     "output_type": "display_data"
    },
    {
     "data": {
      "text/plain": [
       "(:name, :super, :parameters, :types, :instance, :layout, :hash, :flags)"
      ]
     },
     "metadata": {},
     "output_type": "display_data"
    },
    {
     "ename": "ArgumentError",
     "evalue": "ArgumentError: type does not have a definite number of fields",
     "output_type": "error",
     "traceback": [
      "ArgumentError: type does not have a definite number of fields\n",
      "\n",
      "Stacktrace:\n",
      " [1] fieldcount\n",
      "   @ .\\reflection.jl:1045 [inlined]\n",
      " [2] fieldnames(t::DataType)\n",
      "   @ Base .\\reflection.jl:251\n",
      " [3] top-level scope\n",
      "   @ e:\\Projects.jl\\Training.jl\\struct\\jl_notebook_cell_df34fa98e69747e1a8f8a730347b8e2f_Y106sZmlsZQ==.jl:4"
     ]
    }
   ],
   "source": [
    "fieldnames(Base.IOError) |> display\n",
    "propertynames(Base.IOError) |> display\n",
    "propertynames(Exception) |> display\n",
    "fieldnames(Exception)"
   ]
  },
  {
   "cell_type": "code",
   "execution_count": 51,
   "metadata": {},
   "outputs": [
    {
     "ename": "ErrorException",
     "evalue": "type DataType has no field IOError",
     "output_type": "error",
     "traceback": [
      "type DataType has no field IOError\n",
      "\n",
      "Stacktrace:\n",
      " [1] getproperty(x::Type, f::Symbol)\n",
      "   @ Base .\\Base.jl:43\n",
      " [2] top-level scope\n",
      "   @ e:\\Projects.jl\\Training.jl\\struct\\jl_notebook_cell_df34fa98e69747e1a8f8a730347b8e2f_Y110sZmlsZQ==.jl:1"
     ]
    }
   ],
   "source": [
    "fieldnames(Exception.IOError)  \n",
    "# 这个例子是一点根据都没有, 为什么要这么写？ . 也没有这种用法"
   ]
  }
 ],
 "metadata": {
  "kernelspec": {
   "display_name": "Julia 1.11.0",
   "language": "julia",
   "name": "julia-1.11"
  },
  "language_info": {
   "file_extension": ".jl",
   "mimetype": "application/julia",
   "name": "julia",
   "version": "1.11.0"
  }
 },
 "nbformat": 4,
 "nbformat_minor": 2
}
