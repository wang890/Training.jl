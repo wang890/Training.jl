{
 "cells": [
  {
   "cell_type": "markdown",
   "metadata": {},
   "source": [
    "[How does Julia merge several exprs to one expr?](https://discourse.julialang.org/t/how-does-julia-merge-several-exprs-to-one-expr/77498)"
   ]
  },
  {
   "cell_type": "code",
   "execution_count": 2,
   "metadata": {},
   "outputs": [
    {
     "data": {
      "text/plain": [
       ":((at = at, ct = ct))"
      ]
     },
     "metadata": {},
     "output_type": "display_data"
    }
   ],
   "source": [
    "nn=[:(at=at), :(ct=ct)]\n",
    ":($(nn...),)"
   ]
  },
  {
   "cell_type": "markdown",
   "metadata": {},
   "source": [
    "Thanks a lot to your help and your advice.\n",
    "In broader context, my target is to creat a set of local varialbes. Firstly, create a NamedTuple came to my mind, but in practise, that is not convinient. So now I can get the target just like this:"
   ]
  },
  {
   "cell_type": "code",
   "execution_count": 3,
   "metadata": {},
   "outputs": [
    {
     "data": {
      "text/plain": [
       "@localvars (macro with 1 method)"
      ]
     },
     "metadata": {},
     "output_type": "display_data"
    }
   ],
   "source": [
    "macro localvars(expr)\n",
    "    bb=[]\n",
    "    for cc in expr.args\n",
    "        if cc isa Expr && cc.head==:(=)\n",
    "            append!(bb,[cc.args[1]])\n",
    "        end\n",
    "    end\n",
    "    cvv=Expr(:tuple,(:($x=$x) for x in bb)...)\n",
    "    bbres=quote\n",
    "        let\n",
    "            $expr\n",
    "            $cvv\n",
    "        end\n",
    "    end |> esc\n",
    "end"
   ]
  },
  {
   "cell_type": "code",
   "execution_count": 4,
   "metadata": {},
   "outputs": [
    {
     "data": {
      "text/plain": [
       "(a = 1, b = 2, c = 3)"
      ]
     },
     "metadata": {},
     "output_type": "display_data"
    }
   ],
   "source": [
    "vars=@localvars begin\n",
    "    a=1\n",
    "    b=2\n",
    "    c=a+b\n",
    "end "
   ]
  },
  {
   "cell_type": "code",
   "execution_count": 5,
   "metadata": {},
   "outputs": [
    {
     "data": {
      "text/plain": [
       "1"
      ]
     },
     "metadata": {},
     "output_type": "display_data"
    },
    {
     "data": {
      "text/plain": [
       "3"
      ]
     },
     "metadata": {},
     "output_type": "display_data"
    }
   ],
   "source": [
    "vars.a |> display\n",
    "vars.c |> display"
   ]
  },
  {
   "cell_type": "markdown",
   "metadata": {},
   "source": [
    "You might want to take a look at StaticModules.jl; maybe it can cover some of what you need:"
   ]
  },
  {
   "cell_type": "code",
   "execution_count": 6,
   "metadata": {},
   "outputs": [
    {
     "data": {
      "text/plain": [
       "StaticModule vars containing\n",
       "  a = 1\n",
       "  b = 2\n",
       "  c = 3"
      ]
     },
     "metadata": {},
     "output_type": "display_data"
    }
   ],
   "source": [
    "using StaticModules\n",
    "@staticmodule vars begin\n",
    "    a=1\n",
    "    b=2\n",
    "    c=a+b\n",
    "end"
   ]
  },
  {
   "cell_type": "code",
   "execution_count": 8,
   "metadata": {},
   "outputs": [
    {
     "data": {
      "text/plain": [
       "3"
      ]
     },
     "metadata": {},
     "output_type": "display_data"
    }
   ],
   "source": [
    "vars.c"
   ]
  },
  {
   "cell_type": "markdown",
   "metadata": {},
   "source": [
    "[Can I concatenate expressions in macro?](https://discourse.julialang.org/t/can-i-concatenate-expressions-in-macro/69220)\n",
    "\n",
    "i have array of expressions generated in macro and i want to return it all so they will be executed one by one"
   ]
  },
  {
   "cell_type": "markdown",
   "metadata": {},
   "source": [
    "You could look at how a block of expressions is normally represented and try to rebuild that. For example"
   ]
  },
  {
   "cell_type": "code",
   "execution_count": 15,
   "metadata": {},
   "outputs": [
    {
     "data": {
      "text/plain": [
       "quote\n",
       "    \u001b[90m#= e:\\Projects.jl\\Training3.jl\\macro4_StaticModules\\merge exprs to one expr.ipynb:2 =#\u001b[39m\n",
       "    a = 1 + 1\n",
       "    \u001b[90m#= e:\\Projects.jl\\Training3.jl\\macro4_StaticModules\\merge exprs to one expr.ipynb:3 =#\u001b[39m\n",
       "    b = a + 4\n",
       "end"
      ]
     },
     "metadata": {},
     "output_type": "display_data"
    }
   ],
   "source": [
    "a = quote\n",
    "        a = 1+1\n",
    "        b = a + 4\n",
    "    end\n"
   ]
  },
  {
   "cell_type": "code",
   "execution_count": 16,
   "metadata": {},
   "outputs": [
    {
     "name": "stdout",
     "output_type": "stream",
     "text": [
      "Expr\n",
      "  head: Symbol block\n",
      "  args: Array{Any}((4,))\n",
      "    1: LineNumberNode\n",
      "      line: Int64 2\n",
      "      file: Symbol e:\\Projects.jl\\Training3.jl\\macro4_StaticModules\\merge exprs to one expr.ipynb\n",
      "    2: Expr\n",
      "      head: Symbol =\n",
      "      args: Array{Any}((2,))\n",
      "        1: Symbol a\n",
      "        2: Expr\n",
      "          head: Symbol call\n",
      "          args: Array{Any}((3,))\n",
      "            1: Symbol +\n",
      "            2: Int64 1\n",
      "            3: Int64 1\n",
      "    3: LineNumberNode\n",
      "      line: Int64 3\n",
      "      file: Symbol e:\\Projects.jl\\Training3.jl\\macro4_StaticModules\\merge exprs to one expr.ipynb\n",
      "    4: Expr\n",
      "      head: Symbol =\n",
      "      args: Array{Any}((2,))\n",
      "        1: Symbol b\n",
      "        2: Expr\n",
      "          head: Symbol call\n",
      "          args: Array{Any}((3,))\n",
      "            1: Symbol +\n",
      "            2: Symbol a\n",
      "            3: Int64 4\n"
     ]
    }
   ],
   "source": [
    "dump(a)"
   ]
  },
  {
   "cell_type": "markdown",
   "metadata": {},
   "source": [
    "Here the LineNumberNode is not interesting, but what we see is that we just have an expression with head being :block, and the remaining expressions are in the args. So if you have an array with expressions you could probably do something along the lines of\n",
    "\n",
    "此处 LineNumberNode 并不有趣，但我们看到只有一个表达式，其头部为 :block，其余表达式在参数中。因此，如果您有一个包含表达式的数组，则可能可以执行类似以下操作\n",
    "```julia\n",
    "macro mymacro(args...)\n",
    "    exprs = preprocess(args) # Whatever you do to create the expression list\n",
    "    Expr(:block, exprs...) # Create a block expression with all sub-expressions\n",
    "end\n",
    "```"
   ]
  },
  {
   "cell_type": "markdown",
   "metadata": {},
   "source": [
    "Just one more thing before and after this list of expression i want to put the while and end\n",
    "so I want to add this while and end as expression - yet I get the error in both cases - so i suppose I need somehow escape while and end phrases but how to do this?\n",
    "\n",
    "push!(tmp, quote while($offsetIter <32) end)\n",
    "\n",
    "push…\n",
    "\n",
    "push!(tmp, quote end end)"
   ]
  },
  {
   "cell_type": "markdown",
   "metadata": {},
   "source": [
    "So what you want the macro to generate in the end is something like this?\n",
    "\n",
    "```julia\n",
    "while condition\n",
    "    expr1\n",
    "    expr2\n",
    "    ...\n",
    "end\n",
    "```"
   ]
  },
  {
   "cell_type": "code",
   "execution_count": 19,
   "metadata": {},
   "outputs": [
    {
     "data": {
      "text/plain": [
       "quote\n",
       "    \u001b[90m#= e:\\Projects.jl\\Training3.jl\\macro4_StaticModules\\merge exprs to one expr.ipynb:3 =#\u001b[39m\n",
       "    while 3 < 4\n",
       "        \u001b[90m#= e:\\Projects.jl\\Training3.jl\\macro4_StaticModules\\merge exprs to one expr.ipynb:4 =#\u001b[39m\n",
       "        1 + 1\n",
       "        \u001b[90m#= e:\\Projects.jl\\Training3.jl\\macro4_StaticModules\\merge exprs to one expr.ipynb:5 =#\u001b[39m\n",
       "    end\n",
       "end"
      ]
     },
     "metadata": {},
     "output_type": "display_data"
    }
   ],
   "source": [
    "# So what you want the macro to generate in the end is something like this?\n",
    "a = quote\n",
    "        while 3 < 4\n",
    "            1+1\n",
    "        end\n",
    "    end"
   ]
  },
  {
   "cell_type": "code",
   "execution_count": 21,
   "metadata": {},
   "outputs": [
    {
     "name": "stdout",
     "output_type": "stream",
     "text": [
      "Expr\n",
      "  head: Symbol block\n",
      "  args: Array{Any}((2,))\n",
      "    1: LineNumberNode\n",
      "      line: Int64 3\n",
      "      file: Symbol e:\\Projects.jl\\Training3.jl\\macro4_StaticModules\\merge exprs to one expr.ipynb\n",
      "    2: Expr\n",
      "      head: Symbol while\n",
      "      args: Array{Any}((2,))\n",
      "        1: Expr\n",
      "          head: Symbol call\n",
      "          args: Array{Any}((3,))\n",
      "            1: Symbol <\n",
      "            2: Int64 3\n",
      "            3: Int64 4\n",
      "        2: Expr\n",
      "          head: Symbol block\n",
      "          args: Array{Any}((3,))\n",
      "            1: LineNumberNode\n",
      "              line: Int64 4\n",
      "              file: Symbol e:\\Projects.jl\\Training3.jl\\macro4_StaticModules\\merge exprs to one expr.ipynb\n",
      "            2: Expr\n",
      "              head: Symbol call\n",
      "              args: Array{Any}((3,))\n",
      "                1: Symbol +\n",
      "                2: Int64 1\n",
      "                3: Int64 1\n",
      "            3: LineNumberNode\n",
      "              line: Int64 5\n",
      "              file: Symbol e:\\Projects.jl\\Training3.jl\\macro4_StaticModules\\merge exprs to one expr.ipynb\n"
     ]
    }
   ],
   "source": [
    "dump(a)"
   ]
  },
  {
   "cell_type": "code",
   "execution_count": 22,
   "metadata": {},
   "outputs": [
    {
     "data": {
      "text/plain": [
       ":(while offsetIter < 32\n",
       "      a = 1\n",
       "      b = a + 1\n",
       "      a + b\n",
       "  end)"
      ]
     },
     "metadata": {},
     "output_type": "display_data"
    }
   ],
   "source": [
    "exprs = [:(a = 1), :(b = a + 1), :(a + b)]\n",
    "Expr(:while, Expr(:call, :<, :offsetIter, 32), Expr(:block, exprs...))"
   ]
  },
  {
   "cell_type": "code",
   "execution_count": 13,
   "metadata": {},
   "outputs": [
    {
     "data": {
      "text/plain": [
       "quote\n",
       "    a = 1\n",
       "    b = a + 1\n",
       "    a + b\n",
       "end"
      ]
     },
     "metadata": {},
     "output_type": "display_data"
    }
   ],
   "source": [
    "let v = [:(a = 1), :(b = a + 1), :(a + b)]\n",
    "    Expr(:block, v...)\n",
    "end"
   ]
  }
 ],
 "metadata": {
  "kernelspec": {
   "display_name": "Julia 1.10.3",
   "language": "julia",
   "name": "julia-1.10"
  },
  "language_info": {
   "file_extension": ".jl",
   "mimetype": "application/julia",
   "name": "julia",
   "version": "1.10.3"
  }
 },
 "nbformat": 4,
 "nbformat_minor": 2
}
