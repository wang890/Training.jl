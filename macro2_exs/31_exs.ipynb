{
 "cells": [
  {
   "cell_type": "code",
   "execution_count": null,
   "metadata": {},
   "outputs": [],
   "source": [
    "orange = \"sweet\"\n",
    "apple = \"sour\""
   ]
  },
  {
   "cell_type": "code",
   "execution_count": null,
   "metadata": {},
   "outputs": [],
   "source": [
    "macro esc_dollar(var)\n",
    "    var |> display\n",
    "    quote\n",
    "        $(esc(var))\n",
    "    end\n",
    "end\n",
    "@esc_dollar orange"
   ]
  },
  {
   "cell_type": "code",
   "execution_count": null,
   "metadata": {},
   "outputs": [],
   "source": [
    "macro str_dollar(var)\n",
    "    var |> display\n",
    "    quote\n",
    "        $(string(var))\n",
    "    end\n",
    "end\n",
    "@str_dollar orange"
   ]
  },
  {
   "cell_type": "code",
   "execution_count": null,
   "metadata": {},
   "outputs": [],
   "source": [
    "@str_dollar orange apple"
   ]
  },
  {
   "cell_type": "code",
   "execution_count": null,
   "metadata": {},
   "outputs": [],
   "source": [
    "broadcast(@str_dollar, (:orange, :apple))"
   ]
  },
  {
   "cell_type": "code",
   "execution_count": null,
   "metadata": {},
   "outputs": [],
   "source": [
    "macro str_dollar_multi(exs)\n",
    "    quote\n",
    "        names = []\n",
    "        for e in exs\n",
    "          push!(names, quote $(string(e)) end )\n",
    "        end\n",
    "        names\n",
    "        # $(string(exs)) \n",
    "    end\n",
    "end\n",
    "@str_dollar_multi orange apple"
   ]
  },
  {
   "cell_type": "code",
   "execution_count": null,
   "metadata": {},
   "outputs": [],
   "source": [
    "macro str_dollar_multi2(exs...)\n",
    "    quote\n",
    "        names = []\n",
    "        for e in exs...\n",
    "          push!(names, quote $(string(e)) end )\n",
    "        end\n",
    "        names\n",
    "        # $(string(exs)) \n",
    "    end\n",
    "end\n",
    "@str_dollar_multi2 orange apple"
   ]
  },
  {
   "cell_type": "code",
   "execution_count": null,
   "metadata": {},
   "outputs": [],
   "source": [
    "macro str_dollar_multi3(exs)\n",
    "    quote        \n",
    "        $(string(exs)) \n",
    "    end\n",
    "end\n",
    "@str_dollar_multi3 orange apple"
   ]
  },
  {
   "cell_type": "code",
   "execution_count": null,
   "metadata": {},
   "outputs": [],
   "source": [
    "macro str_dollar_multi4(exs...)\n",
    "    quote        \n",
    "        $(string(exs)) \n",
    "    end\n",
    "end\n",
    "@str_dollar_multi4 orange apple"
   ]
  },
  {
   "cell_type": "markdown",
   "metadata": {},
   "source": [
    "Google: broadcast macro julia <br>\n",
    "搜索到帖子 How to “broadcast” macro interpolation <br>\n",
    "https://discourse.julialang.org/t/how-to-broadcast-macro-interpolation/61641/3<br>\n",
    "https://discourse.julialang.org/t/how-to-broadcast-macro-interpolation/61641/5\n"
   ]
  },
  {
   "cell_type": "code",
   "execution_count": null,
   "metadata": {},
   "outputs": [],
   "source": [
    "macro zeroit0(x::Symbol)\n",
    "    x |> display\n",
    "    (quote $(:a) = 0 end) |> display\n",
    "    :($(esc(x)) = 0)\n",
    "end\n",
    "a = 1\n",
    "@macroexpand @zeroit0 a  # @macroexpand 还不会改变值，只是查看表达式\n",
    "a |> display"
   ]
  },
  {
   "cell_type": "code",
   "execution_count": null,
   "metadata": {},
   "outputs": [],
   "source": [
    "@zeroit0 a  # 值已变\n",
    "a |> display"
   ]
  },
  {
   "cell_type": "code",
   "execution_count": null,
   "metadata": {},
   "outputs": [],
   "source": [
    "macro zeroit(x::Symbol)   \n",
    "    :($(esc(x)) = 0)\n",
    "end\n",
    "a = 1\n",
    "@zeroit a\n",
    "a |> display"
   ]
  },
  {
   "cell_type": "code",
   "execution_count": null,
   "metadata": {},
   "outputs": [],
   "source": [
    "macro zerothem0(xs...)\n",
    "\n",
    "    # println(\":a = 0; 如下\")  # 不符合for循环语法   \n",
    "    # println(\n",
    "    #     ((:a = 0;)            \n",
    "    #     for x in xs)...\n",
    "    # )\n",
    "    \n",
    "    println(\":(:a = 0;) 如下\")    \n",
    "    println(\n",
    "\n",
    "        (:(:a = 0;)      # :a相当于esc(a), 加了$:a才相当于 a     \n",
    "        for x in xs)...\n",
    "    ) # display 不适用, 所以println\n",
    "    \n",
    "    println(\"\\n-- -- -- -- -- -- --\")\n",
    "    println(\":(\\$(:a) = 0;) 如下\")\n",
    "    println(\n",
    "\n",
    "        (:($(:a) = 0;)             \n",
    "        for x in xs)...\n",
    "    )\n",
    "\n",
    "    println(\"\\n-- -- -- -- -- -- --\")\n",
    "    println(\"quote    :(\\$(:a) = 0;)    end 如下\")\n",
    "    println(\n",
    "\n",
    "        quote \n",
    "            (:($(:a) = 0;)             \n",
    "            for x in xs)...        \n",
    "        end        \n",
    "    )\n",
    "    \n",
    "    println(\"\\n-- -- -- -- -- -- --\")\n",
    "    println(\"quote\\$(    :(\\$(:a) = 0;)    )end 如下\")\n",
    "    println(\n",
    "\n",
    "        quote $(\n",
    "                (:($(:a) = 0;)             \n",
    "                for x in xs)...        \n",
    "               ) end        \n",
    "    )     \n",
    "\n",
    "    quote\n",
    "        $(\n",
    "            (:($(esc(x)) = 0;)             \n",
    "            for x in xs)...\n",
    "         )\n",
    "        nothing # so that it does not print zero\n",
    "    end\n",
    "end\n",
    "\n",
    "a, b, c = 1, 2, 3\n",
    "# println(\"\\n-- -- -- -- -- -- -- 宏调用如下\")\n",
    "@zerothem0 a b c"
   ]
  },
  {
   "cell_type": "code",
   "execution_count": null,
   "metadata": {},
   "outputs": [],
   "source": [
    "macro zerothem(xs...)\n",
    "    quote\n",
    "        $((:($(esc(x)) = 0;) for x in xs)...)\n",
    "        nothing # so that it does not print zero\n",
    "    end\n",
    "end\n",
    "\n",
    "a, b, c = 1, 2, 3\n",
    "println(\"@macroexpand @zerothem a b c, 如下\")\n",
    "@macroexpand @zerothem a b c"
   ]
  },
  {
   "cell_type": "code",
   "execution_count": null,
   "metadata": {},
   "outputs": [],
   "source": [
    "println(a, b, c)\n",
    "@zerothem a b c\n",
    "println(a, b, c)"
   ]
  },
  {
   "cell_type": "code",
   "execution_count": null,
   "metadata": {},
   "outputs": [],
   "source": [
    "dump([\"sweet\",\"sourl\"])"
   ]
  },
  {
   "cell_type": "code",
   "execution_count": null,
   "metadata": {},
   "outputs": [],
   "source": [
    "macro esc_dollar_muti(exs...)    \n",
    "    # quote\n",
    "    #     $(string(var))\n",
    "    # end\n",
    "    quote        \n",
    "        # $(\n",
    "        #     (\n",
    "        #         :($(esc(x)) = 0;) for x in exs\n",
    "        #         )...\n",
    "        # )\n",
    "        # $(\n",
    "        #     (\n",
    "        #         :($(esc(ex)),) for ex in exs\n",
    "        #         )...\n",
    "        # )\n",
    "        $(\n",
    "            :($(:values) = Vector{Any})\n",
    "            (\n",
    "                push!(:($(:values)), :($(esc(ex)))) for ex in exs\n",
    "                )...\n",
    "        )\n",
    "        exs...\n",
    "        # nothing # so that it does not print zero\n",
    "    end\n",
    "end\n",
    "orange = \"sweet\"\n",
    "apple = \"sour\"\n",
    "values = @esc_dollar_muti orange apple\n",
    "values |> display\n",
    "orange |> display\n",
    "apple |> display"
   ]
  },
  {
   "cell_type": "code",
   "execution_count": null,
   "metadata": {},
   "outputs": [],
   "source": [
    "@macroexpand @esc_dollar_muti orange apple"
   ]
  },
  {
   "cell_type": "code",
   "execution_count": null,
   "metadata": {},
   "outputs": [],
   "source": [
    "macro esc_dollar_muti(exs)\n",
    "    quote\n",
    "        $((:($(esc(x)) = 0;) for x in xs)...)\n",
    "        nothing # so that it does not print zero\n",
    "    end\n",
    "end\n",
    "\n",
    "a, b, c = 1, 2, 3\n",
    "println(\"@macroexpand @zerothem a b c, 如下\")\n",
    "@macroexpand @zerothem a b c"
   ]
  },
  {
   "cell_type": "code",
   "execution_count": null,
   "metadata": {},
   "outputs": [],
   "source": [
    "macro esc_dollar(var)\n",
    "    var |> display\n",
    "    quote\n",
    "        $(esc(var))\n",
    "    end\n",
    "end\n",
    "orange = \"sweet\"\n",
    "apple = \"sour\"\n",
    "@esc_dollar orange"
   ]
  },
  {
   "cell_type": "code",
   "execution_count": null,
   "metadata": {},
   "outputs": [],
   "source": [
    "macro zerothem2(xs...)\n",
    "    # (xs...) |> display \n",
    "    :(($(xs...),) = $Iterators.repeated(0); ($(xs...),)) |> esc\n",
    "end\n",
    "\n",
    "a, b, c = 1,2,3\n",
    "println(a,b,c)\n",
    "@zerothem2 a b c\n",
    "println(a,b,c)\n",
    "@macroexpand @zerothem2 a b c"
   ]
  },
  {
   "cell_type": "code",
   "execution_count": null,
   "metadata": {},
   "outputs": [],
   "source": [
    "exs = (:orange, :apple)\n",
    ":[$(exs...);] |> display\n",
    ":[$(exs...),] |> display\n",
    ":([$(exs...),]; ($(exs...),))"
   ]
  },
  {
   "cell_type": "code",
   "execution_count": null,
   "metadata": {},
   "outputs": [],
   "source": [
    "macro esc_dollar(exs...)    \n",
    "    # quote\n",
    "    #     $(string(var))\n",
    "    # end\n",
    "    exs |> display\n",
    "    exs |> typeof |> display\n",
    "    quote        \n",
    "        \n",
    "        $(\n",
    "            (\n",
    "                :($(esc(ex))) for ex in exs\n",
    "            )...          \n",
    "        );\n",
    "\n",
    "        # [$(exs...),]        \n",
    "    end\n",
    "end\n",
    "orange = \"sweet\"\n",
    "apple = \"sour\"\n",
    "juzi = \"suan\"\n",
    "@macroexpand @esc_dollar orange apple \"hello\" juzi \"hi\"\n",
    "@esc_dollar orange apple \"hello\" juzi \"hi\""
   ]
  },
  {
   "cell_type": "code",
   "execution_count": null,
   "metadata": {},
   "outputs": [],
   "source": [
    "macro esc_dollar(exs...)    \n",
    "    # quote\n",
    "    #     $(string(var))\n",
    "    # end\n",
    "    exs |> display\n",
    "    exs |> typeof |> display\n",
    "    quote \n",
    "        # [$(exs...),]\n",
    "        values = [$(exs...),]\n",
    "        values         \n",
    "    end\n",
    "end\n",
    "orange = \"sweet\"\n",
    "apple = \"sour\"\n",
    "juzi = [11, 22]\n",
    "@macroexpand @esc_dollar orange apple \"hello\" juzi \"hi\"\n",
    "@esc_dollar orange apple \"hello\" juzi \"hi\""
   ]
  },
  {
   "cell_type": "code",
   "execution_count": null,
   "metadata": {},
   "outputs": [],
   "source": [
    "exs = (:orange, :apple, \"hello\", :juzi, \"hi\")\n",
    "string(exs...) |> display\n",
    "string.(exs)"
   ]
  },
  {
   "cell_type": "code",
   "execution_count": null,
   "metadata": {},
   "outputs": [],
   "source": [
    "macro vars(exs...)  \n",
    "    \n",
    "    quote\n",
    "        names = string.(exs)  # 放到quote外 就错误？              \n",
    "        values = [$(exs...),] # 放到quote外 就错误？\n",
    "        # # types = [typeof(($(exs...))...),] # 错误\n",
    "        $(\n",
    "            quote\n",
    "                i = 1 \n",
    "                for v in values\n",
    "                    println(\"\")\n",
    "                    first = names[i] * \", \" * string(typeof(v))\n",
    "                    println(first)\n",
    "                    # second = \"       \" * v # no method matching *(::String, ::Vector{Int64})\n",
    "                    println(\"  = \", v)                    \n",
    "                    i = i + 1  # 没有 i++ 写法\n",
    "                end\n",
    "            end\n",
    "        )\n",
    "    end\n",
    "end\n",
    "orange = \"sweet\"\n",
    "apple = \"sour\"\n",
    "juzi = [11, 22]\n",
    "@vars orange apple \"hello\" juzi \"hi\"\n",
    "@macroexpand @vars orange apple \"hello\" juzi \"hi\""
   ]
  },
  {
   "cell_type": "code",
   "execution_count": null,
   "metadata": {},
   "outputs": [],
   "source": [
    "exs = (1, 2, 3)\n",
    "(exs...)"
   ]
  },
  {
   "cell_type": "code",
   "execution_count": null,
   "metadata": {},
   "outputs": [],
   "source": [
    "exs = (1, 2, 3)\n",
    "[(exs...),] |> display"
   ]
  },
  {
   "cell_type": "code",
   "execution_count": null,
   "metadata": {},
   "outputs": [],
   "source": [
    "exs..."
   ]
  },
  {
   "cell_type": "code",
   "execution_count": null,
   "metadata": {},
   "outputs": [],
   "source": [
    "Expr(:vect, Expr(:..., :exs))"
   ]
  },
  {
   "cell_type": "code",
   "execution_count": null,
   "metadata": {},
   "outputs": [],
   "source": [
    "dump(:([(exs...),]))"
   ]
  },
  {
   "cell_type": "code",
   "execution_count": null,
   "metadata": {},
   "outputs": [],
   "source": [
    "dump(:(exs...))"
   ]
  },
  {
   "cell_type": "code",
   "execution_count": null,
   "metadata": {},
   "outputs": [],
   "source": [
    "a, b, c = 1, 2, 3\n",
    "exs = (:a, :b, :c)\n",
    "[$(exs...),]"
   ]
  }
 ],
 "metadata": {
  "kernelspec": {
   "display_name": "Julia 1.10.1",
   "language": "julia",
   "name": "julia-1.10"
  },
  "language_info": {
   "file_extension": ".jl",
   "mimetype": "application/julia",
   "name": "julia",
   "version": "1.10.1"
  }
 },
 "nbformat": 4,
 "nbformat_minor": 2
}
