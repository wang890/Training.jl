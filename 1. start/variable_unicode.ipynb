{
 "cells": [
  {
   "cell_type": "markdown",
   "metadata": {},
   "source": [
    "https://docs.juliacn.com/latest/manual/variables/"
   ]
  },
  {
   "cell_type": "code",
   "execution_count": 2,
   "metadata": {},
   "outputs": [],
   "source": [
    "#"
   ]
  },
  {
   "cell_type": "markdown",
   "metadata": {},
   "source": [
    "### Unicode input"
   ]
  },
  {
   "cell_type": "markdown",
   "metadata": {},
   "source": [
    "https://docs.juliacn.com/latest/manual/unicode-input/ <br>\n",
    "原本：\\alpha + Tab, 就可以的，但有反映不好用了<br>\n",
    "Google: vscode julia unicode, 或者<br>\n",
    "这个搜索 https://discourse.julialang.org/search?q=unicode 找到了如下帖子 <br>\n",
    "https://discourse.julialang.org/t/vscode-unicode-auto-completion-does-not-work-in-julia-1-10-4/118242/2 (装插件)<br>\n",
    "\n",
    "Install extention *Unicode Latex* (author Omer Sheikh), <br>\n",
    "see its page，one of followings: <br>\n",
    "+ 为 *Unicode: Insert Math Symbol* 设置快捷键 tab tab (即双击tab), 或\n",
    "+ ctr + shift + p, uni, 回车, \\alpha \n"
   ]
  },
  {
   "cell_type": "code",
   "execution_count": 3,
   "metadata": {},
   "outputs": [
    {
     "data": {
      "text/plain": [
       "6"
      ]
     },
     "metadata": {},
     "output_type": "display_data"
    }
   ],
   "source": [
    "α = 1\n",
    "δ²= 6"
   ]
  },
  {
   "cell_type": "markdown",
   "metadata": {},
   "source": [
    "Unicode输入表<br>\n",
    "https://docs.juliacn.com/latest/manual/unicode-input/"
   ]
  }
 ],
 "metadata": {
  "kernelspec": {
   "display_name": "Julia 1.11.0",
   "language": "julia",
   "name": "julia-1.11"
  },
  "language_info": {
   "file_extension": ".jl",
   "mimetype": "application/julia",
   "name": "julia",
   "version": "1.11.0"
  }
 },
 "nbformat": 4,
 "nbformat_minor": 2
}
