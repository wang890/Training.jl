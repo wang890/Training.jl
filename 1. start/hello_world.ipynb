{
 "cells": [
  {
   "cell_type": "code",
   "execution_count": 20,
   "metadata": {},
   "outputs": [],
   "source": [
    "using DataFrames\n",
    "using LinearAlgebra\n",
    "using General.Aux"
   ]
  },
  {
   "cell_type": "code",
   "execution_count": 22,
   "metadata": {},
   "outputs": [],
   "source": [
    "using General"
   ]
  },
  {
   "cell_type": "code",
   "execution_count": 1,
   "metadata": {},
   "outputs": [
    {
     "data": {
      "text/plain": [
       "4"
      ]
     },
     "metadata": {},
     "output_type": "display_data"
    }
   ],
   "source": [
    "\"\"\"\n",
    "f(x): 计算平方值\n",
    "\"\"\"\n",
    "function f(x)\n",
    "    prompt = \"计算平方值\"\n",
    "    x*x\n",
    "end\n",
    "\n",
    "a = f(2)"
   ]
  },
  {
   "cell_type": "code",
   "execution_count": null,
   "metadata": {},
   "outputs": [],
   "source": [
    "b = 2+1im\n",
    "\n",
    "b |> typeof |> display\n",
    "\n",
    "b |> typeof |> fieldnames |> display\n",
    "\n",
    "b |> propertynames |> display\n",
    "\n",
    "c = 3.0"
   ]
  },
  {
   "cell_type": "code",
   "execution_count": 2,
   "metadata": {},
   "outputs": [
    {
     "data": {
      "text/plain": [
       "Complex{Int64}"
      ]
     },
     "metadata": {},
     "output_type": "display_data"
    },
    {
     "data": {
      "text/plain": [
       "(:re, :im)"
      ]
     },
     "metadata": {},
     "output_type": "display_data"
    },
    {
     "data": {
      "text/plain": [
       "(:re, :im)"
      ]
     },
     "metadata": {},
     "output_type": "display_data"
    },
    {
     "data": {
      "text/plain": [
       "3.0"
      ]
     },
     "metadata": {},
     "output_type": "display_data"
    }
   ],
   "source": [
    "b = 2+1im\n",
    "\n",
    "b |> typeof |> display\n",
    "\n",
    "b |> typeof |> fieldnames |> display\n",
    "\n",
    "b |> propertynames |> display\n",
    "\n",
    "c = 3.0"
   ]
  },
  {
   "cell_type": "code",
   "execution_count": 18,
   "metadata": {},
   "outputs": [
    {
     "name": "stdout",
     "output_type": "stream",
     "text": [
      "\n",
      "a, ComplexF64\n",
      "  = 4.0 + 0.0im\n",
      "\n",
      "b, ComplexF64\n",
      "  = 2.0 + 1.0im\n",
      "\n",
      "c, ComplexF64\n",
      "  = 3.0 + 0.0im\n"
     ]
    }
   ],
   "source": [
    "@logt a b c"
   ]
  },
  {
   "cell_type": "code",
   "execution_count": 6,
   "metadata": {},
   "outputs": [
    {
     "name": "stdout",
     "output_type": "stream",
     "text": [
      "\n",
      "(a, b, c), Tuple{Int64, Complex{Int64}, Float64}\n",
      "  = (4, 2 + 1im, 3.0)\n"
     ]
    }
   ],
   "source": [
    "@logt a, b, c"
   ]
  },
  {
   "cell_type": "code",
   "execution_count": 7,
   "metadata": {},
   "outputs": [
    {
     "data": {
      "text/plain": [
       "2×2 view(::Symmetric{Int64, Matrix{Int64}}, :, :) with eltype Int64:\n",
       " 1  3\n",
       " 3  4"
      ]
     },
     "metadata": {},
     "output_type": "display_data"
    }
   ],
   "source": [
    "size = Sys.WORD_SIZE\n",
    "\n",
    "str = \"Hello World\"\n",
    "\n",
    "arx = [1 3\n",
    "\n",
    "               2 4]\n",
    "df = DataFrame(arx, :auto)\n",
    "\n",
    "v = view(Symmetric(arx),:,:)"
   ]
  },
  {
   "cell_type": "code",
   "execution_count": 14,
   "metadata": {},
   "outputs": [
    {
     "data": {
      "text/plain": [
       "Main"
      ]
     },
     "metadata": {},
     "output_type": "display_data"
    }
   ],
   "source": [
    "Main"
   ]
  },
  {
   "cell_type": "code",
   "execution_count": 17,
   "metadata": {},
   "outputs": [
    {
     "data": {
      "text/latex": [
       "macro log(exs...)     ≡≡, ==, –,   等分隔符, 自定义 Examples:      @log     @log \"exDispatch ex.args: \"\n",
       "\n",
       "\\begin{verbatim}\n",
       "@log \"First\" arr1\n",
       "@log \"\" arr1  # \"\" 相当于1个\n",
       "\n",
       "@log \"First\" arr1 \"\n",
       "\\end{verbatim}\n",
       "\"     @log \"\" arr1 \"\n",
       "\n",
       "\"        \n",
       "\n",
       "\\begin{verbatim}\n",
       "@log \"Third\" arr3 \"≡≡\"\n",
       "@log \"\n",
       "\\end{verbatim}\n",
       "Third\" arr3 \"==\"     @log \"\" arr3 \"–\"     @log \"    \" arr3  \\# \"    \"相当于 \"\"\n",
       "\n"
      ],
      "text/markdown": [
       "macro log(exs...)     ≡≡, ==, –,   等分隔符, 自定义 Examples:      @log     @log \"exDispatch ex.args: \"\n",
       "\n",
       "```\n",
       "@log \"First\" arr1\n",
       "@log \"\" arr1  # \"\" 相当于1个\n",
       "\n",
       "@log \"First\" arr1 \"\n",
       "```\n",
       "\n",
       "\"     @log \"\" arr1 \"\n",
       "\n",
       "\"        \n",
       "\n",
       "```\n",
       "@log \"Third\" arr3 \"≡≡\"\n",
       "@log \"\n",
       "```\n",
       "\n",
       "Third\" arr3 \"==\"     @log \"\" arr3 \"–\"     @log \"    \" arr3  # \"    \"相当于 \"\"\n"
      ],
      "text/plain": [
       "  macro log(exs...) ≡≡, ==, –, 等分隔符, 自定义 Examples: @log @log\n",
       "  \"exDispatch ex.args: \"\n",
       "\n",
       "\u001b[36m  @log \"First\" arr1\u001b[39m\n",
       "\u001b[36m  @log \"\" arr1  # \"\" 相当于1个\u001b[39m\n",
       "\u001b[36m  \u001b[39m\n",
       "\u001b[36m  @log \"First\" arr1 \"\u001b[39m\n",
       "\n",
       "  \" @log \"\" arr1 \"\n",
       "\n",
       "  \"\n",
       "\n",
       "\u001b[36m  @log \"Third\" arr3 \"≡≡\"\u001b[39m\n",
       "\u001b[36m  @log \"\u001b[39m\n",
       "\n",
       "  Third\" arr3 \"==\" @log \"\" arr3 \"–\" @log \" \" arr3 # \" \"相当于 \"\""
      ]
     },
     "metadata": {},
     "output_type": "display_data"
    }
   ],
   "source": [
    "@doc @log"
   ]
  },
  {
   "cell_type": "code",
   "execution_count": null,
   "metadata": {},
   "outputs": [],
   "source": [
    "@doc Symmetric"
   ]
  }
 ],
 "metadata": {
  "kernelspec": {
   "display_name": "Julia 1.11.0",
   "language": "julia",
   "name": "julia-1.11"
  },
  "language_info": {
   "file_extension": ".jl",
   "mimetype": "application/julia",
   "name": "julia",
   "version": "1.11.0"
  }
 },
 "nbformat": 4,
 "nbformat_minor": 2
}
