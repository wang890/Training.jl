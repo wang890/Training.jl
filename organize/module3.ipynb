{
 "cells": [
  {
   "cell_type": "code",
   "execution_count": 13,
   "metadata": {},
   "outputs": [
    {
     "name": "stderr",
     "output_type": "stream",
     "text": [
      "WARNING: replacing module SI.\n"
     ]
    },
    {
     "data": {
      "text/plain": [
       "Main.SI"
      ]
     },
     "metadata": {},
     "output_type": "display_data"
    }
   ],
   "source": [
    "module SI\n",
    "    module SubSi\n",
    "        module Permeability quantity = \"Permeability\"; unit=\"V.s/(A.m)\"; end\n",
    "    end\n",
    "end"
   ]
  },
  {
   "cell_type": "code",
   "execution_count": 3,
   "metadata": {},
   "outputs": [],
   "source": [
    "using .SI"
   ]
  },
  {
   "cell_type": "code",
   "execution_count": 8,
   "metadata": {},
   "outputs": [
    {
     "name": "stdout",
     "output_type": "stream",
     "text": [
      "Expr\n",
      "  head: Symbol .\n",
      "  args: Array{Any}((2,))\n",
      "    1: Expr\n",
      "      head: Symbol .\n",
      "      args: Array{Any}((2,))\n",
      "        1: Symbol SI\n",
      "        2: QuoteNode\n",
      "          value: Symbol SubSi\n",
      "    2: QuoteNode\n",
      "      value: Symbol Permeability\n"
     ]
    }
   ],
   "source": [
    "SI.SubSi.Permeability |> typeof\n",
    "names(SI.:SubSi, all=true)\n",
    "# SI.Permeability.unit\n",
    "dump(:(SI.SubSi.Permeability))"
   ]
  }
 ],
 "metadata": {
  "kernelspec": {
   "display_name": "Julia 1.10.1",
   "language": "julia",
   "name": "julia-1.10"
  },
  "language_info": {
   "file_extension": ".jl",
   "mimetype": "application/julia",
   "name": "julia",
   "version": "1.10.1"
  }
 },
 "nbformat": 4,
 "nbformat_minor": 2
}
