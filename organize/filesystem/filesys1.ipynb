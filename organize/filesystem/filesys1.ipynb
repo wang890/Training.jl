{
 "cells": [
  {
   "cell_type": "code",
   "execution_count": null,
   "metadata": {},
   "outputs": [],
   "source": [
    "using General.Aux"
   ]
  },
  {
   "cell_type": "code",
   "execution_count": 46,
   "metadata": {},
   "outputs": [
    {
     "data": {
      "text/plain": [
       "\"\\\\home\\\\example.jl\""
      ]
     },
     "metadata": {},
     "output_type": "display_data"
    },
    {
     "data": {
      "text/plain": [
       "\"\\\\home\\\\myuser\\\\...\\\\example.jl\""
      ]
     },
     "metadata": {},
     "output_type": "display_data"
    },
    {
     "data": {
      "text/plain": [
       "\"\\\\example.jl\""
      ]
     },
     "metadata": {},
     "output_type": "display_data"
    }
   ],
   "source": [
    "normpath(\"/home/myuser/../example.jl\") |> display\n",
    "normpath(\"/home/myuser/.../example.jl\") |> display\n",
    "normpath(\"/home/myuser/../../example.jl\") |> display"
   ]
  },
  {
   "cell_type": "code",
   "execution_count": 47,
   "metadata": {},
   "outputs": [
    {
     "data": {
      "text/plain": [
       "\"e:\\\\JuliaProjects\\\\Training3.jl\\\\mo\""
      ]
     },
     "metadata": {},
     "output_type": "display_data"
    }
   ],
   "source": [
    "@__DIR__"
   ]
  },
  {
   "cell_type": "code",
   "execution_count": 48,
   "metadata": {},
   "outputs": [
    {
     "data": {
      "text/plain": [
       "\"/../..\""
      ]
     },
     "metadata": {},
     "output_type": "display_data"
    }
   ],
   "source": [
    "up = repeat(\"/..\", 2)"
   ]
  },
  {
   "cell_type": "code",
   "execution_count": 49,
   "metadata": {},
   "outputs": [
    {
     "data": {
      "text/plain": [
       "\"e:\\\\JuliaProjects\\\\Training3.jl\\\\mo/../../ZZ.mo/ModelicaStandardLibrary/Modelica/Units.mo\""
      ]
     },
     "metadata": {},
     "output_type": "display_data"
    }
   ],
   "source": [
    "str = string(@__DIR__, up, \"/ZZ.mo/ModelicaStandardLibrary/Modelica/Units.mo\")"
   ]
  },
  {
   "cell_type": "code",
   "execution_count": 50,
   "metadata": {},
   "outputs": [
    {
     "data": {
      "text/plain": [
       "\"e:\\\\JuliaProjects\\\\ZZ.mo\\\\ModelicaStandardLibrary\\\\Modelica\\\\Units.mo\""
      ]
     },
     "metadata": {},
     "output_type": "display_data"
    }
   ],
   "source": [
    "normpath(str)"
   ]
  },
  {
   "cell_type": "code",
   "execution_count": null,
   "metadata": {},
   "outputs": [],
   "source": [
    "splits = splitpath(\"/home/myuser/example.jl\")\n",
    "splits |> display\n",
    "join = joinpath(splits)\n",
    "join |> display\n",
    "\n",
    "splits2 = splitpath(\"E:/JuliaProjects/BaseModelica.jl/test/testfiles/NewtonCoolingBase.mo\")\n",
    "splits2 |> display\n",
    "joinpath(splits2)"
   ]
  },
  {
   "cell_type": "code",
   "execution_count": 42,
   "metadata": {},
   "outputs": [
    {
     "data": {
      "text/plain": [
       "2-element Vector{String}:\n",
       " \"e:\\\\\"\n",
       " \"JuliaProjects\""
      ]
     },
     "metadata": {},
     "output_type": "display_data"
    }
   ],
   "source": [
    "dir = @__DIR__\n",
    "dir_splits = splitpath(dir)[1:end-2]"
   ]
  },
  {
   "cell_type": "code",
   "execution_count": 43,
   "metadata": {},
   "outputs": [
    {
     "data": {
      "text/plain": [
       "3-element Vector{String}:\n",
       " \"e:\\\\\"\n",
       " \"JuliaProjects\"\n",
       " \"ZZ.mo/ModelicaStandardLibrary/Modelica/Units.mo\""
      ]
     },
     "metadata": {},
     "output_type": "display_data"
    },
    {
     "data": {
      "text/plain": [
       "\"e:\\\\JuliaProjects\\\\ZZ.mo/ModelicaStandardLibrary/Modelica/Units.mo\""
      ]
     },
     "metadata": {},
     "output_type": "display_data"
    }
   ],
   "source": [
    "\n",
    "# dir_splits[1] = replace(dir_splits[1], \"\\\\\"=>\"/\")\n",
    "\n",
    "push!(dir_splits, \"ZZ.mo/ModelicaStandardLibrary/Modelica/Units.mo\")\n",
    "\n",
    "dir_splits |> display\n",
    "\n",
    "file = joinpath(dir_splits)"
   ]
  },
  {
   "cell_type": "code",
   "execution_count": 44,
   "metadata": {},
   "outputs": [
    {
     "data": {
      "text/plain": [
       "\"e:/JuliaProjects/ZZ.mo/ModelicaStandardLibrary/Modelica/Units.mo\""
      ]
     },
     "metadata": {},
     "output_type": "display_data"
    }
   ],
   "source": [
    "file = replace(file, \"\\\\\"=>\"/\")"
   ]
  },
  {
   "cell_type": "markdown",
   "metadata": {},
   "source": [
    "https://www.jianshu.com/p/22967a645100\n",
    "\n",
    "绝对路径，还有这种写法。..表示上一级目录。如果三个点...表示上上级目录。一个点.表示当前目录，可以不写。@__DIR__返回当前源代码所在目录。\n",
    "\n",
    "```julia\n",
    "include(joinpath(@__DIR__, \"..\", \"modules\", \"mymodule.jl\")) # 绝对路径\n",
    "include(\"../src/mymodule.jl\")\n",
    "```\n",
    "相对路径（第2个include）../表示当前目录的上一级目录。./表示当前目录，只有一个点也可以忽略不写，用/。"
   ]
  }
 ],
 "metadata": {
  "kernelspec": {
   "display_name": "Julia 1.10.1",
   "language": "julia",
   "name": "julia-1.10"
  },
  "language_info": {
   "file_extension": ".jl",
   "mimetype": "application/julia",
   "name": "julia",
   "version": "1.10.1"
  }
 },
 "nbformat": 4,
 "nbformat_minor": 2
}
