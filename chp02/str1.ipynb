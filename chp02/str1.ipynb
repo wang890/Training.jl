{
 "cells": [
  {
   "cell_type": "code",
   "execution_count": 1,
   "metadata": {},
   "outputs": [
    {
     "name": "stderr",
     "output_type": "stream",
     "text": [
      "┌ Info: == == == hello word\n",
      "│       Good !\n",
      "└ @ Main e:\\JuliaProjects\\Training1.jl\\string\\str1.ipynb:1\n"
     ]
    }
   ],
   "source": [
    "@info \"== \"^3 * \"hello word\\n      Good !\""
   ]
  }
 ],
 "metadata": {
  "kernelspec": {
   "display_name": "Julia 1.10.1",
   "language": "julia",
   "name": "julia-1.10"
  },
  "language_info": {
   "file_extension": ".jl",
   "mimetype": "application/julia",
   "name": "julia",
   "version": "1.10.1"
  }
 },
 "nbformat": 4,
 "nbformat_minor": 2
}
