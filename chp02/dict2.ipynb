{
 "cells": [
  {
   "cell_type": "code",
   "execution_count": 1,
   "metadata": {},
   "outputs": [
    {
     "data": {
      "text/plain": [
       "KeySet for a Dict{Any, Any} with 6 entries. Keys:\n",
       "  \"c\"\n",
       "  2\n",
       "  \"b\"\n",
       "  \"a\"\n",
       "  1\n",
       "  \"d\""
      ]
     },
     "metadata": {},
     "output_type": "display_data"
    }
   ],
   "source": [
    "dct1= Dict(\"b\" => [6, 11], \"a\" => 9, \"d\" => \"hello\", \"c\" => [0,2], 2 => 22, 1 => 11)\n",
    "keys(dct1)"
   ]
  },
  {
   "cell_type": "code",
   "execution_count": 3,
   "metadata": {},
   "outputs": [
    {
     "data": {
      "text/plain": [
       "6-element Vector{Any}:\n",
       "  \"c\"\n",
       " 2\n",
       "  \"b\"\n",
       "  \"a\"\n",
       " 1\n",
       "  \"d\""
      ]
     },
     "metadata": {},
     "output_type": "display_data"
    }
   ],
   "source": [
    "ks = [k for (k,v) in dct1]"
   ]
  },
  {
   "cell_type": "code",
   "execution_count": 1,
   "metadata": {},
   "outputs": [
    {
     "data": {
      "text/plain": [
       "Dict{Int64, Any} with 4 entries:\n",
       "  4 => [0, 2]\n",
       "  2 => 9\n",
       "  3 => \"hello\"\n",
       "  1 => [6, 11]"
      ]
     },
     "metadata": {},
     "output_type": "display_data"
    }
   ],
   "source": [
    "dct1= Dict(1 => [6, 11], 2 => 9, 3 => \"hello\", 4 => [0,2])"
   ]
  },
  {
   "cell_type": "code",
   "execution_count": 14,
   "metadata": {},
   "outputs": [
    {
     "data": {
      "text/plain": [
       "\"phylum__indexes = [(\\\"Electricity and Magnetism\\\", [143, 225]), (\\\"Acoustics\\\", [259, 281]), (\\\"Other types\\\", [511]), \\n(\\\"Space and Time\\\", [1, 21]), (\\\"Heat\\\", [90, 142]), (\\\"Atomic and Nuclear Physics\\\", [343, 378]), \\n(\\\"Solid State Physics\\\", [465, 510]), (\\\"Mechanics\\\", [36, 89]), (\\\"Periodic and related phenomens\\\", [22, 35]), \\n(\\\"Characteristic Numbers\\\", [439, 464]), (\\\"Light and Related Electromagnetic Radiations\\\", [226, 258]), (\\\"Nuclear Reactions and Ionizing Radiations\\\", [379, 438]), \\n(\\\"Physical chemistry and molecular physics\\\", [282, 342])]\""
      ]
     },
     "metadata": {},
     "output_type": "display_data"
    }
   ],
   "source": [
    "s= \"\"\"phylum__indexes = [Pair{Any, Union{String, SubString{String}}}(\"Electricity and Magnetism\", [143, 225]), Pair{Any, Any}(\"Acoustics\", [259, 281]), Pair{Any, Any}(\"Other types\", [511]), \n",
    "Pair{Any, Any}(\"Space and Time\", [1, 21]), Pair{Any, Any}(\"Heat\", [90, 142]), Pair{Any, Any}(\"Atomic and Nuclear Physics\", [343, 378]), \n",
    "Pair{Any, Any}(\"Solid State Physics\", [465, 510]), Pair{Any, Any}(\"Mechanics\", [36, 89]), Pair{Any, Any}(\"Periodic and related phenomens\", [22, 35]), \n",
    "Pair{Any, Any}(\"Characteristic Numbers\", [439, 464]), Pair{Any, Any}(\"Light and Related Electromagnetic Radiations\", [226, 258]), Pair{Any, Any}(\"Nuclear Reactions and Ionizing Radiations\", [379, 438]), \n",
    "Pair{Any, Any}(\"Physical chemistry and molecular physics\", [282, 342])]\"\"\"\n",
    "\n",
    "replace(s, r\"Pair\\{[\\s\\S]+?\\}+\"=>\"\") "
   ]
  }
 ],
 "metadata": {
  "kernelspec": {
   "display_name": "Julia 1.10.1",
   "language": "julia",
   "name": "julia-1.10"
  },
  "language_info": {
   "file_extension": ".jl",
   "mimetype": "application/julia",
   "name": "julia",
   "version": "1.10.1"
  }
 },
 "nbformat": 4,
 "nbformat_minor": 2
}
