{
 "cells": [
  {
   "cell_type": "markdown",
   "metadata": {},
   "source": [
    "Julia中文文档-- 字符串\n",
    "\n",
    "https://docs.juliacn.com/latest/manual/strings/#man-characters"
   ]
  },
  {
   "cell_type": "code",
   "execution_count": null,
   "metadata": {},
   "outputs": [],
   "source": [
    "using General.Aux"
   ]
  },
  {
   "cell_type": "code",
   "execution_count": null,
   "metadata": {},
   "outputs": [],
   "source": [
    "c1 = 'x'\n",
    "c2 = Int('x')\n",
    "c3 = Char(120)\n",
    "@logt c1 c2 c3"
   ]
  },
  {
   "cell_type": "markdown",
   "metadata": {},
   "source": [
    "并非所有的整数值都是有效的 Unicode 代码，但是为了性能，Char 的转化不会检查每个值是否有效。如果你想检查每个转换的值是否为有效值，请使用 isvalid 函数："
   ]
  },
  {
   "cell_type": "code",
   "execution_count": null,
   "metadata": {},
   "outputs": [],
   "source": [
    "Char(0x110000) |> display\n",
    "isvalid(Char, 0x110000)"
   ]
  },
  {
   "cell_type": "markdown",
   "metadata": {},
   "source": [
    "目前，有效的 Unicode 码点为，从 U+0000 至 U+D7FF，以及从 U+E000 至 U+10FFFF。 它们还未全部被赋予明确的含义，也还没必要能被程序识别；然而，所有的这些值都被认为是有效的 Unicode 字符。"
   ]
  },
  {
   "cell_type": "markdown",
   "metadata": {},
   "source": [
    "可以在单引号中输入任何 Unicode 字符，通过使用 **\\u 加上至多 ４ 个十六进制数字或者 \\U 加上至多 ８ 个十六进制**数（最长的有效值也只需要 6 个）"
   ]
  },
  {
   "cell_type": "code",
   "execution_count": null,
   "metadata": {},
   "outputs": [],
   "source": [
    "c4 = '\\u0'\n",
    "c5 = '\\u78'\n",
    "c6 = '\\u2200'\n",
    "c7 = '\\U10ffff'\n",
    "@logt c4 c5 c6 c7\n",
    "'\\u2200'"
   ]
  },
  {
   "cell_type": "markdown",
   "metadata": {},
   "source": [
    "除 Unicode 转义格式之外，还可以使用所有的传统 C 语言转义输入形式："
   ]
  },
  {
   "cell_type": "code",
   "execution_count": null,
   "metadata": {},
   "outputs": [],
   "source": [
    "Int('\\0') |> display\n",
    "Int('\\t') |> display\n",
    "Char(9)"
   ]
  },
  {
   "cell_type": "code",
   "execution_count": null,
   "metadata": {},
   "outputs": [],
   "source": [
    "bl1 = 'A' < 'a'\n",
    "bl2 = 'A' <= 'a' <= 'Z'\n",
    "@logt bl1 bl2\n",
    "\n",
    "bl3 = 'A' <= 'X' <= 'Z'\n"
   ]
  },
  {
   "cell_type": "code",
   "execution_count": null,
   "metadata": {},
   "outputs": [],
   "source": [
    "('x' - 'a') |> display\n",
    "('A' + 1) |> display"
   ]
  }
 ],
 "metadata": {
  "kernelspec": {
   "display_name": "Julia 1.10.1",
   "language": "julia",
   "name": "julia-1.10"
  },
  "language_info": {
   "file_extension": ".jl",
   "mimetype": "application/julia",
   "name": "julia",
   "version": "1.10.1"
  }
 },
 "nbformat": 4,
 "nbformat_minor": 2
}
