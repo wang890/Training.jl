{
 "cells": [
  {
   "cell_type": "code",
   "execution_count": 1,
   "metadata": {},
   "outputs": [
    {
     "data": {
      "text/plain": [
       "@sayhello (macro with 1 method)"
      ]
     },
     "metadata": {},
     "output_type": "display_data"
    }
   ],
   "source": [
    "macro sayhello()\n",
    "    return :( println(\"Hello, world!\") )\n",
    "end"
   ]
  },
  {
   "cell_type": "code",
   "execution_count": 2,
   "metadata": {},
   "outputs": [
    {
     "name": "stdout",
     "output_type": "stream",
     "text": [
      "Hello, world!\n"
     ]
    }
   ],
   "source": [
    "@sayhello()"
   ]
  },
  {
   "cell_type": "code",
   "execution_count": 6,
   "metadata": {},
   "outputs": [
    {
     "data": {
      "text/plain": [
       "@sayhello (macro with 2 methods)"
      ]
     },
     "metadata": {},
     "output_type": "display_data"
    }
   ],
   "source": [
    "macro sayhello(name)\n",
    "    name |> display\n",
    "    typeof(name) |> display\n",
    "    return :( println(\"Hello, \", $name) )\n",
    "end"
   ]
  },
  {
   "cell_type": "code",
   "execution_count": 7,
   "metadata": {},
   "outputs": [
    {
     "data": {
      "text/plain": [
       "\"human\""
      ]
     },
     "metadata": {},
     "output_type": "display_data"
    },
    {
     "data": {
      "text/plain": [
       "String"
      ]
     },
     "metadata": {},
     "output_type": "display_data"
    },
    {
     "name": "stdout",
     "output_type": "stream",
     "text": [
      "Hello, human\n"
     ]
    }
   ],
   "source": [
    "@sayhello(\"human\")"
   ]
  },
  {
   "cell_type": "markdown",
   "metadata": {},
   "source": [
    "**宏函数的参数, 主要是表达式Expr、代码块表达式quote** (也可以是如上述cell的其他数值), <br><br>\n",
    "**返回结果也为表达式, 并执行返回的表达式。** <br><br>\n",
    "主要是对表达式进行拦截修改, 同时记住了表达式中的变量名称等**"
   ]
  },
  {
   "cell_type": "code",
   "execution_count": 29,
   "metadata": {},
   "outputs": [
    {
     "ename": "MethodError",
     "evalue": "MethodError: no method matching isless(::typeof(display), ::String)\n\nClosest candidates are:\n  isless(!Matched::Missing, ::Any)\n   @ Base missing.jl:87\n  isless(::Any, !Matched::Missing)\n   @ Base missing.jl:88\n  isless(!Matched::AbstractString, ::AbstractString)\n   @ Base strings\\basic.jl:345\n",
     "output_type": "error",
     "traceback": [
      "MethodError: no method matching isless(::typeof(display), ::String)\n",
      "\n",
      "Closest candidates are:\n",
      "  isless(!Matched::Missing, ::Any)\n",
      "   @ Base missing.jl:87\n",
      "  isless(::Any, !Matched::Missing)\n",
      "   @ Base missing.jl:88\n",
      "  isless(!Matched::AbstractString, ::AbstractString)\n",
      "   @ Base strings\\basic.jl:345\n",
      "\n",
      "\n",
      "Stacktrace:\n",
      " [1] <(x::Function, y::String)\n",
      "   @ Base .\\operators.jl:352\n",
      " [2] >(x::String, y::Function)\n",
      "   @ Base .\\operators.jl:378\n",
      " [3] top-level scope\n",
      "   @ e:\\JuliaProjects\\Training.jl\\macro\\11_macro.ipynb:1"
     ]
    }
   ],
   "source": [
    ":(\"human\") > display"
   ]
  },
  {
   "cell_type": "code",
   "execution_count": 17,
   "metadata": {},
   "outputs": [
    {
     "data": {
      "text/plain": [
       ":(2 + 3)"
      ]
     },
     "metadata": {},
     "output_type": "display_data"
    },
    {
     "data": {
      "text/plain": [
       "Expr"
      ]
     },
     "metadata": {},
     "output_type": "display_data"
    },
    {
     "name": "stdout",
     "output_type": "stream",
     "text": [
      "Expression: 2 + 3\n"
     ]
    },
    {
     "data": {
      "text/plain": [
       "5"
      ]
     },
     "metadata": {},
     "output_type": "display_data"
    }
   ],
   "source": [
    "macro show_expr(expr)\n",
    "    expr |> display\n",
    "    expr |> typeof |> display\n",
    "    println(\"Expression: \", expr)\n",
    "\n",
    "    return esc(expr)  # esc 可理解为立即执行，后续有讲解\n",
    "    # 这个地方esc没什么效果，如下述cell\n",
    "end\n",
    "@show_expr 2+3"
   ]
  },
  {
   "cell_type": "code",
   "execution_count": 30,
   "metadata": {},
   "outputs": [
    {
     "data": {
      "text/plain": [
       ":(2 + 3)"
      ]
     },
     "metadata": {},
     "output_type": "display_data"
    },
    {
     "data": {
      "text/plain": [
       "Expr"
      ]
     },
     "metadata": {},
     "output_type": "display_data"
    },
    {
     "name": "stdout",
     "output_type": "stream",
     "text": [
      "Expression: 2 + 3\n"
     ]
    },
    {
     "data": {
      "text/plain": [
       "5"
      ]
     },
     "metadata": {},
     "output_type": "display_data"
    }
   ],
   "source": [
    "macro show_expr(expr)\n",
    "    expr |> display\n",
    "    expr |> typeof |> display\n",
    "    println(\"Expression: \", expr)\n",
    "\n",
    "    return expr\n",
    "end\n",
    "@show_expr 2+3"
   ]
  },
  {
   "cell_type": "code",
   "execution_count": 26,
   "metadata": {},
   "outputs": [
    {
     "data": {
      "text/plain": [
       ":(2 + 3)"
      ]
     },
     "metadata": {},
     "output_type": "display_data"
    },
    {
     "data": {
      "text/plain": [
       "Expr"
      ]
     },
     "metadata": {},
     "output_type": "display_data"
    },
    {
     "data": {
      "text/plain": [
       ":($(Expr(:escape, :(2 + 3))))"
      ]
     },
     "metadata": {},
     "output_type": "display_data"
    },
    {
     "data": {
      "text/plain": [
       "Expr"
      ]
     },
     "metadata": {},
     "output_type": "display_data"
    },
    {
     "name": "stdout",
     "output_type": "stream",
     "text": [
      "Expression: 2 + 3\n"
     ]
    },
    {
     "ename": "ErrorException",
     "evalue": "syntax: invalid syntax (escape (call (outerref +) 2 3))",
     "output_type": "error",
     "traceback": [
      "syntax: invalid syntax (escape (call (outerref +) 2 3))\n",
      "\n",
      "Stacktrace:\n",
      " [1] top-level scope\n",
      "   @ none:1"
     ]
    }
   ],
   "source": [
    "macro show_expr(expr)\n",
    "    expr |> display\n",
    "    expr |> typeof |> display\n",
    "    println(\"Expression: \", expr)\n",
    "\n",
    "    es = esc(expr)\n",
    "    es |> display\n",
    "    es |> typeof |> display\n",
    "    return es\n",
    "end\n",
    "@show_expr 2+3\n",
    "\n",
    "eval(quote $(Expr(:escape, :(2 + 3))) end)"
   ]
  },
  {
   "cell_type": "code",
   "execution_count": 10,
   "metadata": {},
   "outputs": [
    {
     "data": {
      "text/plain": [
       "@tid (macro with 1 method)"
      ]
     },
     "metadata": {},
     "output_type": "display_data"
    }
   ],
   "source": [
    "macro tid(expr)\n",
    "    expr |> display\n",
    "    expr |> typeof |> display\n",
    "    quote\n",
    "        local t0 =time()\n",
    "        local val = $expr\n",
    "        elapsedtime = time()-t0\n",
    "        println(\"$elapsedtime seconds\")\n",
    "        val\n",
    "    end\n",
    "end"
   ]
  },
  {
   "cell_type": "code",
   "execution_count": 11,
   "metadata": {},
   "outputs": [
    {
     "data": {
      "text/plain": [
       ":(map((x->begin\n",
       "              \u001b[90m#= e:\\JuliaProjects\\Training.jl\\macro\\11_macro.ipynb:1 =#\u001b[39m\n",
       "              x ^ 2\n",
       "          end), 1:10000))"
      ]
     },
     "metadata": {},
     "output_type": "display_data"
    },
    {
     "data": {
      "text/plain": [
       "Expr"
      ]
     },
     "metadata": {},
     "output_type": "display_data"
    },
    {
     "name": "stdout",
     "output_type": "stream",
     "text": [
      "0.0280001163482666 seconds\n"
     ]
    },
    {
     "data": {
      "text/plain": [
       "10000-element Vector{Int64}:\n",
       "         1\n",
       "         4\n",
       "         9\n",
       "        16\n",
       "        25\n",
       "        36\n",
       "        49\n",
       "        64\n",
       "        81\n",
       "       100\n",
       "         ⋮\n",
       "  99840064\n",
       "  99860049\n",
       "  99880036\n",
       "  99900025\n",
       "  99920016\n",
       "  99940009\n",
       "  99960004\n",
       "  99980001\n",
       " 100000000"
      ]
     },
     "metadata": {},
     "output_type": "display_data"
    }
   ],
   "source": [
    "@tid map(x->x^2, 1:10000)"
   ]
  }
 ],
 "metadata": {
  "kernelspec": {
   "display_name": "Julia 1.10.1",
   "language": "julia",
   "name": "julia-1.10"
  },
  "language_info": {
   "file_extension": ".jl",
   "mimetype": "application/julia",
   "name": "julia",
   "version": "1.10.1"
  }
 },
 "nbformat": 4,
 "nbformat_minor": 2
}
