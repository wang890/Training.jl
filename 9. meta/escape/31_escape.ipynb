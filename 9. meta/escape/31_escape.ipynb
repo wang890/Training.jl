{
 "cells": [
  {
   "cell_type": "markdown",
   "metadata": {},
   "source": [
    "[Macro question (create variables)](https://discourse.julialang.org/t/macro-question-create-variables/90160)\n",
    "\n",
    "Wanted: a macro\n",
    "\n",
    "@moo a b  \n",
    "which is in effect equivalent to\n",
    "\n",
    "a = foo(\"a\")\n",
    "b = foo(\"b\")"
   ]
  },
  {
   "cell_type": "code",
   "execution_count": 2,
   "metadata": {},
   "outputs": [
    {
     "data": {
      "text/plain": [
       "foo (generic function with 1 method)"
      ]
     },
     "metadata": {},
     "output_type": "display_data"
    }
   ],
   "source": [
    "foo(x) = \"$x-$x\" "
   ]
  },
  {
   "cell_type": "code",
   "execution_count": 4,
   "metadata": {},
   "outputs": [
    {
     "data": {
      "text/plain": [
       "@moo (macro with 1 method)"
      ]
     },
     "metadata": {},
     "output_type": "display_data"
    }
   ],
   "source": [
    "macro moo(args...)\n",
    "    for x in args\n",
    "        xs = string(x)\n",
    "        @eval eval(Meta.parse(\"$($xs) = foo(\\\"$($xs)\\\")\"))\n",
    "    end\n",
    "end"
   ]
  },
  {
   "cell_type": "code",
   "execution_count": 3,
   "metadata": {},
   "outputs": [
    {
     "name": "stdout",
     "output_type": "stream",
     "text": [
      "v1 = \"v1-v1\"\n",
      "v2 = \"v2-v2\"\n"
     ]
    },
    {
     "data": {
      "text/plain": [
       "\"v2-v2\""
      ]
     },
     "metadata": {},
     "output_type": "display_data"
    }
   ],
   "source": [
    "@moo v1 v2\n",
    "@show v1 v2"
   ]
  },
  {
   "cell_type": "code",
   "execution_count": 1,
   "metadata": {},
   "outputs": [],
   "source": [
    "using General.Aux"
   ]
  },
  {
   "cell_type": "code",
   "execution_count": 4,
   "metadata": {},
   "outputs": [
    {
     "name": "stdout",
     "output_type": "stream",
     "text": [
      "\n",
      "ex, Symbol\n",
      "  = a\n"
     ]
    }
   ],
   "source": [
    "ex = Meta.parse(\"a\")\n",
    "@logt ex"
   ]
  },
  {
   "cell_type": "code",
   "execution_count": 5,
   "metadata": {},
   "outputs": [
    {
     "data": {
      "text/plain": [
       ":a"
      ]
     },
     "metadata": {},
     "output_type": "display_data"
    }
   ],
   "source": [
    "Meta.parse(\"a\")"
   ]
  },
  {
   "cell_type": "code",
   "execution_count": 6,
   "metadata": {},
   "outputs": [
    {
     "name": "stdout",
     "output_type": "stream",
     "text": [
      "Symbol a\n"
     ]
    }
   ],
   "source": [
    "dump(ex)"
   ]
  },
  {
   "cell_type": "markdown",
   "metadata": {},
   "source": [
    "From this symbol, we now want to construct a more complicated expression which contains the literal symbol as well as its name as a string."
   ]
  },
  {
   "cell_type": "code",
   "execution_count": 7,
   "metadata": {},
   "outputs": [
    {
     "data": {
      "text/plain": [
       ":(a = foo(\"a\"))"
      ]
     },
     "metadata": {},
     "output_type": "display_data"
    }
   ],
   "source": [
    "res_expr = Meta.parse(\"a = foo(\\\"a\\\")\")"
   ]
  },
  {
   "cell_type": "code",
   "execution_count": 8,
   "metadata": {},
   "outputs": [
    {
     "name": "stdout",
     "output_type": "stream",
     "text": [
      "Expr\n",
      "  head: Symbol =\n",
      "  args: Array{Any}((2,))\n",
      "    1: Symbol a\n",
      "    2: Expr\n",
      "      head: Symbol call\n",
      "      args: Array{Any}((2,))\n",
      "        1: Symbol foo\n",
      "        2: String \"a\"\n"
     ]
    }
   ],
   "source": [
    "dump(res_expr)"
   ]
  },
  {
   "cell_type": "markdown",
   "metadata": {},
   "source": [
    "Now, the macro is a pure function which takes the symbol as input and produces the desired expression as output:"
   ]
  },
  {
   "cell_type": "code",
   "execution_count": 9,
   "metadata": {},
   "outputs": [
    {
     "data": {
      "text/plain": [
       ":(a = Main.foo(\"a\"))"
      ]
     },
     "metadata": {},
     "output_type": "display_data"
    }
   ],
   "source": [
    "macro moo(var)\n",
    "    # Return expression with symbol interpolated literally on the lhs and as a string on the rhs\n",
    "    :($(esc(var)) = foo($(string(var))))\n",
    "end\n",
    "@macroexpand @moo a"
   ]
  },
  {
   "cell_type": "markdown",
   "metadata": {},
   "source": [
    "Understand macros in general, i.e., not just in Julia, are:\n",
    "\n",
    "+ [On Lisp](https://www.paulgraham.com/onlisp.html)<br>\n",
    "    Prentice Hall, 1993, 432 pages, paperback. ISBN 0130305529, incl. code\n",
    "\n",
    "+ [Practical Common Lisp,](https://gigamonkeys.com/book/) book incl. code"
   ]
  },
  {
   "cell_type": "code",
   "execution_count": 15,
   "metadata": {},
   "outputs": [
    {
     "name": "stdout",
     "output_type": "stream",
     "text": [
      "w1 = \"w1-w1\"\n",
      "w2 = \"w2-w2\"\n"
     ]
    },
    {
     "data": {
      "text/plain": [
       "\"w2-w2\""
      ]
     },
     "metadata": {},
     "output_type": "display_data"
    }
   ],
   "source": [
    "foo(x) = \"$x-$x\"\n",
    "macro moo2(args...) \n",
    "    v = [:($x = foo($(string(x)))) for x in args]\n",
    "    return esc(Expr(:block, v...))\n",
    "end\n",
    "@moo2 w1 w2\n",
    "@show w1 w2"
   ]
  },
  {
   "cell_type": "markdown",
   "metadata": {},
   "source": [
    "Now, can anybody explain me why do I need this esc here in the return statement?"
   ]
  },
  {
   "cell_type": "markdown",
   "metadata": {},
   "source": [
    "This comes down to what we call **“macro hygeine”.** There’s a section in [the documentation here](https://docs.julialang.org/en/v1/manual/metaprogramming/#Hygiene):"
   ]
  },
  {
   "cell_type": "code",
   "execution_count": 12,
   "metadata": {},
   "outputs": [
    {
     "data": {
      "text/plain": [
       "@foo (macro with 1 method)"
      ]
     },
     "metadata": {},
     "output_type": "display_data"
    }
   ],
   "source": [
    "macro foo(ex)\n",
    "    quote\n",
    "        x = 1\n",
    "        y = x + $ex\n",
    "    end\n",
    "end "
   ]
  },
  {
   "cell_type": "markdown",
   "metadata": {},
   "source": [
    "it would be very bad and surprising if the variables referred to there affected code outside of the macro unless you specifically intend it to. E.g. consider this:"
   ]
  },
  {
   "cell_type": "code",
   "execution_count": 13,
   "metadata": {},
   "outputs": [
    {
     "data": {
      "text/plain": [
       "2"
      ]
     },
     "metadata": {},
     "output_type": "display_data"
    }
   ],
   "source": [
    "function f(x)\n",
    "    @foo x\n",
    "    x\n",
    "end\n",
    "f(2)"
   ]
  },
  {
   "cell_type": "markdown",
   "metadata": {},
   "source": [
    "Without macro hygiene, f(2) would return 1, which might be very surprising. So instead what happens is this:"
   ]
  },
  {
   "cell_type": "code",
   "execution_count": 14,
   "metadata": {},
   "outputs": [
    {
     "data": {
      "text/plain": [
       "quote\n",
       "    \u001b[90m#= e:\\JuliaProjects\\Training3.jl\\macro3\\31.ipynb:3 =#\u001b[39m\n",
       "    var\"#91#x\" = 1\n",
       "    \u001b[90m#= e:\\JuliaProjects\\Training3.jl\\macro3\\31.ipynb:4 =#\u001b[39m\n",
       "    var\"#92#y\" = var\"#91#x\" + Main.ex\n",
       "end"
      ]
     },
     "metadata": {},
     "output_type": "display_data"
    }
   ],
   "source": [
    "@macroexpand @foo ex"
   ]
  },
  {
   "cell_type": "markdown",
   "metadata": {},
   "source": [
    "So the intermediate variables here aren’t actually named x or y, they get names that are guaranteed to not clash with surrounding code.\n",
    "\n",
    "However, sometimes you don’t want this, especialy if you need to actually return and evaluate code that a user passed into the macro. So when you write esc(expr), that essentially is a marker saying \"I want everything inside expr to not be made hygenic.\n",
    "\n",
    "The best practice is to only apply esc to specific parts of the returned expression which need it. So in your case, I would write your macro as"
   ]
  },
  {
   "cell_type": "code",
   "execution_count": 18,
   "metadata": {},
   "outputs": [
    {
     "data": {
      "text/plain": [
       "\"w2-w2\""
      ]
     },
     "metadata": {},
     "output_type": "display_data"
    }
   ],
   "source": [
    "foo(x) = \"$x-$x\"\n",
    "macro moo3(args...) \n",
    "    v = [:($(esc(x)) = foo($(string(x)))) for x in args]\n",
    "    return Expr(:block, v...)\n",
    "end\n",
    "@moo3 w1 w2"
   ]
  },
  {
   "cell_type": "markdown",
   "metadata": {},
   "source": [
    "because then foo does not get escaped.\n",
    "\n",
    "Here’s a demonstraction of why:"
   ]
  },
  {
   "cell_type": "code",
   "execution_count": 17,
   "metadata": {},
   "outputs": [
    {
     "data": {
      "text/plain": [
       "(\"w1\", \"w2\")"
      ]
     },
     "metadata": {},
     "output_type": "display_data"
    }
   ],
   "source": [
    "foo(x) = \"$x-$x\"\n",
    "macro moo2(args...) \n",
    "    v = [:($x = foo($(string(x)))) for x in args]\n",
    "    return esc(Expr(:block, v...))\n",
    "end\n",
    "\n",
    "let \n",
    "    foo(x) = x #some user locally redefines `foo(x)`\n",
    "    @moo2 w1 w2\n",
    "    w1, w2\n",
    "end "
   ]
  },
  {
   "cell_type": "markdown",
   "metadata": {},
   "source": [
    "Now look at how @moo3 deals with this:"
   ]
  },
  {
   "cell_type": "code",
   "execution_count": 19,
   "metadata": {},
   "outputs": [
    {
     "data": {
      "text/plain": [
       "(\"w1-w1\", \"w2-w2\")"
      ]
     },
     "metadata": {},
     "output_type": "display_data"
    }
   ],
   "source": [
    "let \n",
    "    foo(x) = x\n",
    "    @moo3 w1 w2\n",
    "    w1, w2\n",
    "end"
   ]
  }
 ],
 "metadata": {
  "kernelspec": {
   "display_name": "Julia 1.10.1",
   "language": "julia",
   "name": "julia-1.10"
  },
  "language_info": {
   "file_extension": ".jl",
   "mimetype": "application/julia",
   "name": "julia",
   "version": "1.10.1"
  }
 },
 "nbformat": 4,
 "nbformat_minor": 2
}
