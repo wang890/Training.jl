{
 "cells": [
  {
   "cell_type": "markdown",
   "metadata": {},
   "source": [
    "https://jkrumbiegel.com/pages/2021-06-07-macros-for-beginners/<br>\n",
    "If we want to incorporate **the information contained in the variable names,** we need a macro."
   ]
  },
  {
   "cell_type": "code",
   "execution_count": null,
   "metadata": {},
   "outputs": [],
   "source": [
    "function show_value(x)\n",
    "    println(\"The value you passed is \", x)\n",
    "end\n",
    "\n",
    "orange = \"sweet\"\n",
    "apple = \"sour\"\n",
    "\n",
    "show_value(orange)\n",
    "show_value(apple)"
   ]
  },
  {
   "cell_type": "markdown",
   "metadata": {},
   "source": [
    "Any information about what the user wrote is lost, as the function only knows “sweet” and “sour” were passed. If we want to incorporate the information contained in the variable names, we need a macro."
   ]
  },
  {
   "cell_type": "code",
   "execution_count": null,
   "metadata": {},
   "outputs": [],
   "source": [
    "macro show_value(variable)\n",
    "    variable |> display\n",
    "    quote\n",
    "        println(\"The \", $(string(variable)), \" you passed is \", $(esc(variable)))\n",
    "    end\n",
    "end"
   ]
  },
  {
   "cell_type": "code",
   "execution_count": null,
   "metadata": {},
   "outputs": [],
   "source": [
    "@show_value orange\n",
    "@show_value(apple)"
   ]
  },
  {
   "cell_type": "code",
   "execution_count": null,
   "metadata": {},
   "outputs": [],
   "source": [
    "Meta.@dump orange"
   ]
  },
  {
   "cell_type": "code",
   "execution_count": null,
   "metadata": {},
   "outputs": [],
   "source": [
    "string(orange)"
   ]
  },
  {
   "cell_type": "code",
   "execution_count": null,
   "metadata": {},
   "outputs": [],
   "source": [
    "@show orange\n",
    "@show apple"
   ]
  },
  {
   "cell_type": "code",
   "execution_count": null,
   "metadata": {},
   "outputs": [],
   "source": [
    "macro show_value(variable)\n",
    "    # quote\n",
    "        println(\"The \", $(string(variable)), \" you passed is \", $(esc(variable)))\n",
    "    # end\n",
    "end\n",
    "\n",
    "@show_value(orange)\n",
    "@show_value(apple)"
   ]
  },
  {
   "cell_type": "code",
   "execution_count": null,
   "metadata": {},
   "outputs": [],
   "source": [
    "show_value(variable)\n",
    "    quote\n",
    "        println(\"The \", $(string(variable)), \" you passed is \", $(esc(variable)))\n",
    "    end\n",
    "end\n",
    "\n",
    "@show_value(orange)\n",
    "@show_value(apple)"
   ]
  },
  {
   "cell_type": "code",
   "execution_count": null,
   "metadata": {},
   "outputs": [],
   "source": [
    "@macroexpand @show_value(orange)\n",
    "@macroexpand @show_value orange"
   ]
  },
  {
   "cell_type": "code",
   "execution_count": null,
   "metadata": {},
   "outputs": [],
   "source": [
    "Meta.@dump @show_value orange"
   ]
  },
  {
   "cell_type": "code",
   "execution_count": null,
   "metadata": {},
   "outputs": [],
   "source": [
    "@show_value orange"
   ]
  }
 ],
 "metadata": {
  "kernelspec": {
   "display_name": "Julia 1.10.1",
   "language": "julia",
   "name": "julia-1.10"
  },
  "language_info": {
   "file_extension": ".jl",
   "mimetype": "application/julia",
   "name": "julia",
   "version": "1.10.1"
  }
 },
 "nbformat": 4,
 "nbformat_minor": 2
}
