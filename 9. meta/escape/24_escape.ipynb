{
 "cells": [
  {
   "cell_type": "code",
   "execution_count": null,
   "metadata": {},
   "outputs": [],
   "source": [
    "macro change_nothing(exp)\n",
    "    exp |> display\n",
    "    e = quote\n",
    "        temp_variable = nothing \n",
    "        # this could be some intermediate computation\n",
    "        # 这可能是一些中间计算\n",
    "\n",
    "        $exp \n",
    "        # we actually just pass the input expression back unchanged\n",
    "        # 实际上，我们只是将输入表达式原封不动地传递回来\n",
    "        end\n",
    "    esc(e) # but everything is escaped 但一切都escape了\n",
    "    # e  # 使用这个时  temp_variable 不会被更改\n",
    "end"
   ]
  },
  {
   "cell_type": "code",
   "execution_count": null,
   "metadata": {},
   "outputs": [],
   "source": [
    "macro change_nothing(exp)\n",
    "    exp |> display\n",
    "    e = quote\n",
    "        temp_variable = nothing\n",
    "        $exp\n",
    "        end\n",
    "    # esc(e) # but everything is escaped 但一切都escape了\n",
    "    e  # 使用这个时  temp_variable 不会被更改\n",
    "end"
   ]
  },
  {
   "cell_type": "code",
   "execution_count": null,
   "metadata": {},
   "outputs": [],
   "source": [
    "macro change_nothing(exp)\n",
    "    exp |> display\n",
    "    e = quote\n",
    "        temp_variable = nothing\n",
    "        $exp\n",
    "        end\n",
    "    # esc(e) # but everything is escaped 但一切都escape了\n",
    "    # e  # 使用这个时  temp_variable 不会被更改\n",
    "end # 因为是返回最后一行，这个cell和上一个 cell等价"
   ]
  },
  {
   "cell_type": "code",
   "execution_count": null,
   "metadata": {},
   "outputs": [],
   "source": [
    "temp_variable = \"important information\"\n",
    "x = @change_nothing 1 + 1\n",
    "\n",
    "@show x\n",
    "@show temp_variable"
   ]
  },
  {
   "cell_type": "code",
   "execution_count": null,
   "metadata": {},
   "outputs": [],
   "source": [
    "@show x temp_variable"
   ]
  },
  {
   "cell_type": "markdown",
   "metadata": {},
   "source": [
    "temp_variable  被宏覆盖了，这在写得不好的宏中会发生。<br>\n",
    "**esc 可以理解为立即执行(会用 调用程序的变量)**<br><br>\n",
    " in order to access the value of the user’s variable orange, we need to **escape the use of that symbol in our generated expression.** Escaping the variable could be summarized as saying **“treat this variable like a variable the user has written themselves”**.<br><br>\n",
    "但是，为了访问用户变量  orange  的值，我们需要在生成的表达式中  escape  该符号的使用。转义变量可以总结为“将这个变量当作用户自己写的变量对待”。"
   ]
  },
  {
   "cell_type": "code",
   "execution_count": null,
   "metadata": {},
   "outputs": [],
   "source": [
    "@macroexpand @change_nothing 1+1"
   ]
  }
 ],
 "metadata": {
  "kernelspec": {
   "display_name": "Julia 1.10.1",
   "language": "julia",
   "name": "julia-1.10"
  },
  "language_info": {
   "file_extension": ".jl",
   "mimetype": "application/julia",
   "name": "julia",
   "version": "1.10.1"
  }
 },
 "nbformat": 4,
 "nbformat_minor": 2
}
